{
 "cells": [
  {
   "cell_type": "markdown",
   "metadata": {},
   "source": [
    "\n",
    "<h1>Определение закономерностей, определяющие успешность игры<span \n",
    "class=\"tocSkip\"></span></h1>"
   ]
  },
  {
   "cell_type": "markdown",
   "metadata": {},
   "source": [
    "# План проекта: #\n",
    "\n",
    "1. [Изучение общих данных](#cell1)\n",
    "2. [Подготовка данных](#cell2)\n",
    "3. [Исследовательский анализ данных](#cell3)\n",
    "4. [Портрет пользователя каждого региона](#cell4)\n",
    "5. [Проверка гипотез](#cell5)\n",
    "6. [Общий вывод](#cell6)"
   ]
  },
  {
   "cell_type": "markdown",
   "metadata": {},
   "source": [
    "**Описание проекта**\n",
    "\n",
    "Вы работаете в интернет-магазине «Стримчик», который продаёт по всему миру компьютерные игры. Из открытых источников доступны исторические данные о продажах игр, оценки пользователей и экспертов, жанры и платформы (например, Xbox или PlayStation). Вам нужно выявить определяющие успешность игры закономерности. Это позволит сделать ставку на потенциально популярный продукт и спланировать рекламные кампании.\n",
    "Перед вами данные до 2016 года. Представим, что сейчас декабрь 2016 г., и вы планируете кампанию на 2017-й. Нужно отработать принцип работы с данными. Неважно, прогнозируете ли вы продажи на 2017 год по данным 2016-го или же 2027-й — по данным 2026 года.\n",
    "В наборе данных попадается аббревиатура ESRB (Entertainment Software Rating Board) — это ассоциация, определяющая возрастной рейтинг компьютерных игр. ESRB оценивает игровой контент и присваивает ему подходящую возрастную категорию, например, «Для взрослых», «Для детей младшего возраста» или «Для подростков»."
   ]
  },
  {
   "cell_type": "markdown",
   "metadata": {},
   "source": [
    "## Изучение общих данных\n",
    "<a id='cell1'></a>"
   ]
  },
  {
   "cell_type": "markdown",
   "metadata": {},
   "source": [
    "Импортируем различные библиотеки:"
   ]
  },
  {
   "cell_type": "code",
   "execution_count": 1,
   "metadata": {},
   "outputs": [],
   "source": [
    "import pandas as pd\n",
    "import numpy as np\n",
    "import matplotlib.pyplot as plt\n",
    "import math\n",
    "from scipy import stats as st\n",
    "import copy"
   ]
  },
  {
   "cell_type": "markdown",
   "metadata": {},
   "source": [
    "Прочитаем приложенный файл и сохраним в переменную:"
   ]
  },
  {
   "cell_type": "code",
   "execution_count": 2,
   "metadata": {},
   "outputs": [],
   "source": [
    "data = pd.read_csv('/datasets/games.csv')"
   ]
  },
  {
   "cell_type": "markdown",
   "metadata": {},
   "source": [
    "Получение первых строк таблицы:"
   ]
  },
  {
   "cell_type": "code",
   "execution_count": 3,
   "metadata": {},
   "outputs": [
    {
     "data": {
      "text/html": [
       "<div>\n",
       "<style scoped>\n",
       "    .dataframe tbody tr th:only-of-type {\n",
       "        vertical-align: middle;\n",
       "    }\n",
       "\n",
       "    .dataframe tbody tr th {\n",
       "        vertical-align: top;\n",
       "    }\n",
       "\n",
       "    .dataframe thead th {\n",
       "        text-align: right;\n",
       "    }\n",
       "</style>\n",
       "<table border=\"1\" class=\"dataframe\">\n",
       "  <thead>\n",
       "    <tr style=\"text-align: right;\">\n",
       "      <th></th>\n",
       "      <th>Name</th>\n",
       "      <th>Platform</th>\n",
       "      <th>Year_of_Release</th>\n",
       "      <th>Genre</th>\n",
       "      <th>NA_sales</th>\n",
       "      <th>EU_sales</th>\n",
       "      <th>JP_sales</th>\n",
       "      <th>Other_sales</th>\n",
       "      <th>Critic_Score</th>\n",
       "      <th>User_Score</th>\n",
       "      <th>Rating</th>\n",
       "    </tr>\n",
       "  </thead>\n",
       "  <tbody>\n",
       "    <tr>\n",
       "      <td>0</td>\n",
       "      <td>Wii Sports</td>\n",
       "      <td>Wii</td>\n",
       "      <td>2006.0</td>\n",
       "      <td>Sports</td>\n",
       "      <td>41.36</td>\n",
       "      <td>28.96</td>\n",
       "      <td>3.77</td>\n",
       "      <td>8.45</td>\n",
       "      <td>76.0</td>\n",
       "      <td>8</td>\n",
       "      <td>E</td>\n",
       "    </tr>\n",
       "    <tr>\n",
       "      <td>1</td>\n",
       "      <td>Super Mario Bros.</td>\n",
       "      <td>NES</td>\n",
       "      <td>1985.0</td>\n",
       "      <td>Platform</td>\n",
       "      <td>29.08</td>\n",
       "      <td>3.58</td>\n",
       "      <td>6.81</td>\n",
       "      <td>0.77</td>\n",
       "      <td>NaN</td>\n",
       "      <td>NaN</td>\n",
       "      <td>NaN</td>\n",
       "    </tr>\n",
       "    <tr>\n",
       "      <td>2</td>\n",
       "      <td>Mario Kart Wii</td>\n",
       "      <td>Wii</td>\n",
       "      <td>2008.0</td>\n",
       "      <td>Racing</td>\n",
       "      <td>15.68</td>\n",
       "      <td>12.76</td>\n",
       "      <td>3.79</td>\n",
       "      <td>3.29</td>\n",
       "      <td>82.0</td>\n",
       "      <td>8.3</td>\n",
       "      <td>E</td>\n",
       "    </tr>\n",
       "    <tr>\n",
       "      <td>3</td>\n",
       "      <td>Wii Sports Resort</td>\n",
       "      <td>Wii</td>\n",
       "      <td>2009.0</td>\n",
       "      <td>Sports</td>\n",
       "      <td>15.61</td>\n",
       "      <td>10.93</td>\n",
       "      <td>3.28</td>\n",
       "      <td>2.95</td>\n",
       "      <td>80.0</td>\n",
       "      <td>8</td>\n",
       "      <td>E</td>\n",
       "    </tr>\n",
       "    <tr>\n",
       "      <td>4</td>\n",
       "      <td>Pokemon Red/Pokemon Blue</td>\n",
       "      <td>GB</td>\n",
       "      <td>1996.0</td>\n",
       "      <td>Role-Playing</td>\n",
       "      <td>11.27</td>\n",
       "      <td>8.89</td>\n",
       "      <td>10.22</td>\n",
       "      <td>1.00</td>\n",
       "      <td>NaN</td>\n",
       "      <td>NaN</td>\n",
       "      <td>NaN</td>\n",
       "    </tr>\n",
       "  </tbody>\n",
       "</table>\n",
       "</div>"
      ],
      "text/plain": [
       "                       Name Platform  Year_of_Release         Genre  NA_sales  \\\n",
       "0                Wii Sports      Wii           2006.0        Sports     41.36   \n",
       "1         Super Mario Bros.      NES           1985.0      Platform     29.08   \n",
       "2            Mario Kart Wii      Wii           2008.0        Racing     15.68   \n",
       "3         Wii Sports Resort      Wii           2009.0        Sports     15.61   \n",
       "4  Pokemon Red/Pokemon Blue       GB           1996.0  Role-Playing     11.27   \n",
       "\n",
       "   EU_sales  JP_sales  Other_sales  Critic_Score User_Score Rating  \n",
       "0     28.96      3.77         8.45          76.0          8      E  \n",
       "1      3.58      6.81         0.77           NaN        NaN    NaN  \n",
       "2     12.76      3.79         3.29          82.0        8.3      E  \n",
       "3     10.93      3.28         2.95          80.0          8      E  \n",
       "4      8.89     10.22         1.00           NaN        NaN    NaN  "
      ]
     },
     "execution_count": 3,
     "metadata": {},
     "output_type": "execute_result"
    }
   ],
   "source": [
    "data.head()"
   ]
  },
  {
   "cell_type": "markdown",
   "metadata": {},
   "source": [
    "Общая информация о данных таблицы:"
   ]
  },
  {
   "cell_type": "code",
   "execution_count": 4,
   "metadata": {
    "scrolled": true
   },
   "outputs": [
    {
     "name": "stdout",
     "output_type": "stream",
     "text": [
      "<class 'pandas.core.frame.DataFrame'>\n",
      "RangeIndex: 16715 entries, 0 to 16714\n",
      "Data columns (total 11 columns):\n",
      "Name               16713 non-null object\n",
      "Platform           16715 non-null object\n",
      "Year_of_Release    16446 non-null float64\n",
      "Genre              16713 non-null object\n",
      "NA_sales           16715 non-null float64\n",
      "EU_sales           16715 non-null float64\n",
      "JP_sales           16715 non-null float64\n",
      "Other_sales        16715 non-null float64\n",
      "Critic_Score       8137 non-null float64\n",
      "User_Score         10014 non-null object\n",
      "Rating             9949 non-null object\n",
      "dtypes: float64(6), object(5)\n",
      "memory usage: 1.4+ MB\n"
     ]
    }
   ],
   "source": [
    "data.info()"
   ]
  },
  {
   "cell_type": "markdown",
   "metadata": {},
   "source": [
    "**Описание данных**\n",
    "\n",
    "- Name — название игры\n",
    "- Platform — платформа\n",
    "- Year_of_Release — год выпуска\n",
    "- Genre — жанр игры\n",
    "- NA_sales — продажи в Северной Америке (миллионы проданных копий)\n",
    "- EU_sales — продажи в Европе (миллионы проданных копий)\n",
    "- JP_sales — продажи в Японии (миллионы проданных копий)\n",
    "- Other_sales — продажи в других странах (миллионы проданных копий)\n",
    "- Critic_Score — оценка критиков (максимум 100)\n",
    "- User_Score — оценка пользователей (максимум 10)\n",
    "- Rating — рейтинг от организации ESRB (англ. Entertainment Software Rating Board). Эта ассоциация определяет рейтинг компьютерных игр и присваивает им подходящую возрастную категорию.\n"
   ]
  },
  {
   "cell_type": "markdown",
   "metadata": {},
   "source": [
    "## Подготовка данных\n",
    "<a id='cell2'></a>"
   ]
  },
  {
   "cell_type": "markdown",
   "metadata": {},
   "source": [
    "Проверим данные на наличие пропусков:"
   ]
  },
  {
   "cell_type": "code",
   "execution_count": 5,
   "metadata": {
    "scrolled": true
   },
   "outputs": [
    {
     "data": {
      "text/plain": [
       "Name                  2\n",
       "Platform              0\n",
       "Year_of_Release     269\n",
       "Genre                 2\n",
       "NA_sales              0\n",
       "EU_sales              0\n",
       "JP_sales              0\n",
       "Other_sales           0\n",
       "Critic_Score       8578\n",
       "User_Score         6701\n",
       "Rating             6766\n",
       "dtype: int64"
      ]
     },
     "execution_count": 5,
     "metadata": {},
     "output_type": "execute_result"
    }
   ],
   "source": [
    "data.isnull().sum()"
   ]
  },
  {
   "cell_type": "markdown",
   "metadata": {},
   "source": [
    "Изменим название столбцов(приведём к нижнему регистру):"
   ]
  },
  {
   "cell_type": "code",
   "execution_count": 6,
   "metadata": {},
   "outputs": [],
   "source": [
    "data.columns = data.columns.str.lower()"
   ]
  },
  {
   "cell_type": "markdown",
   "metadata": {},
   "source": [
    "Найдем строки с пропусками в полях 'name', 'genre':"
   ]
  },
  {
   "cell_type": "code",
   "execution_count": 7,
   "metadata": {},
   "outputs": [
    {
     "data": {
      "text/html": [
       "<div>\n",
       "<style scoped>\n",
       "    .dataframe tbody tr th:only-of-type {\n",
       "        vertical-align: middle;\n",
       "    }\n",
       "\n",
       "    .dataframe tbody tr th {\n",
       "        vertical-align: top;\n",
       "    }\n",
       "\n",
       "    .dataframe thead th {\n",
       "        text-align: right;\n",
       "    }\n",
       "</style>\n",
       "<table border=\"1\" class=\"dataframe\">\n",
       "  <thead>\n",
       "    <tr style=\"text-align: right;\">\n",
       "      <th></th>\n",
       "      <th>name</th>\n",
       "      <th>platform</th>\n",
       "      <th>year_of_release</th>\n",
       "      <th>genre</th>\n",
       "      <th>na_sales</th>\n",
       "      <th>eu_sales</th>\n",
       "      <th>jp_sales</th>\n",
       "      <th>other_sales</th>\n",
       "      <th>critic_score</th>\n",
       "      <th>user_score</th>\n",
       "      <th>rating</th>\n",
       "    </tr>\n",
       "  </thead>\n",
       "  <tbody>\n",
       "    <tr>\n",
       "      <td>659</td>\n",
       "      <td>NaN</td>\n",
       "      <td>GEN</td>\n",
       "      <td>1993.0</td>\n",
       "      <td>NaN</td>\n",
       "      <td>1.78</td>\n",
       "      <td>0.53</td>\n",
       "      <td>0.00</td>\n",
       "      <td>0.08</td>\n",
       "      <td>NaN</td>\n",
       "      <td>NaN</td>\n",
       "      <td>NaN</td>\n",
       "    </tr>\n",
       "    <tr>\n",
       "      <td>14244</td>\n",
       "      <td>NaN</td>\n",
       "      <td>GEN</td>\n",
       "      <td>1993.0</td>\n",
       "      <td>NaN</td>\n",
       "      <td>0.00</td>\n",
       "      <td>0.00</td>\n",
       "      <td>0.03</td>\n",
       "      <td>0.00</td>\n",
       "      <td>NaN</td>\n",
       "      <td>NaN</td>\n",
       "      <td>NaN</td>\n",
       "    </tr>\n",
       "  </tbody>\n",
       "</table>\n",
       "</div>"
      ],
      "text/plain": [
       "      name platform  year_of_release genre  na_sales  eu_sales  jp_sales  \\\n",
       "659    NaN      GEN           1993.0   NaN      1.78      0.53      0.00   \n",
       "14244  NaN      GEN           1993.0   NaN      0.00      0.00      0.03   \n",
       "\n",
       "       other_sales  critic_score user_score rating  \n",
       "659           0.08           NaN        NaN    NaN  \n",
       "14244         0.00           NaN        NaN    NaN  "
      ]
     },
     "execution_count": 7,
     "metadata": {},
     "output_type": "execute_result"
    }
   ],
   "source": [
    "data[data['name'].isna()].head()"
   ]
  },
  {
   "cell_type": "markdown",
   "metadata": {},
   "source": [
    "Их количество очень не значительное и не сможет сильно повлиять на результат наших данных, поэтому удалим стороки с пустыми значениями:"
   ]
  },
  {
   "cell_type": "code",
   "execution_count": 8,
   "metadata": {},
   "outputs": [],
   "source": [
    "data = data.dropna(subset=['name'], axis=0)"
   ]
  },
  {
   "cell_type": "markdown",
   "metadata": {},
   "source": [
    "Посмотрим уникальные значения столбца 'user_score':"
   ]
  },
  {
   "cell_type": "code",
   "execution_count": 9,
   "metadata": {},
   "outputs": [
    {
     "data": {
      "text/plain": [
       "array(['8', nan, '8.3', '8.5', '6.6', '8.4', '8.6', '7.7', '6.3', '7.4',\n",
       "       '8.2', '9', '7.9', '8.1', '8.7', '7.1', '3.4', '5.3', '4.8', '3.2',\n",
       "       '8.9', '6.4', '7.8', '7.5', '2.6', '7.2', '9.2', '7', '7.3', '4.3',\n",
       "       '7.6', '5.7', '5', '9.1', '6.5', 'tbd', '8.8', '6.9', '9.4', '6.8',\n",
       "       '6.1', '6.7', '5.4', '4', '4.9', '4.5', '9.3', '6.2', '4.2', '6',\n",
       "       '3.7', '4.1', '5.8', '5.6', '5.5', '4.4', '4.6', '5.9', '3.9',\n",
       "       '3.1', '2.9', '5.2', '3.3', '4.7', '5.1', '3.5', '2.5', '1.9', '3',\n",
       "       '2.7', '2.2', '2', '9.5', '2.1', '3.6', '2.8', '1.8', '3.8', '0',\n",
       "       '1.6', '9.6', '2.4', '1.7', '1.1', '0.3', '1.5', '0.7', '1.2',\n",
       "       '2.3', '0.5', '1.3', '0.2', '0.6', '1.4', '0.9', '1', '9.7'],\n",
       "      dtype=object)"
      ]
     },
     "execution_count": 9,
     "metadata": {},
     "output_type": "execute_result"
    }
   ],
   "source": [
    "data['user_score'].unique()"
   ]
  },
  {
   "cell_type": "markdown",
   "metadata": {},
   "source": [
    "Помимо пропусков присутствуют значения - 'tbd':"
   ]
  },
  {
   "cell_type": "code",
   "execution_count": 10,
   "metadata": {},
   "outputs": [
    {
     "data": {
      "text/html": [
       "<div>\n",
       "<style scoped>\n",
       "    .dataframe tbody tr th:only-of-type {\n",
       "        vertical-align: middle;\n",
       "    }\n",
       "\n",
       "    .dataframe tbody tr th {\n",
       "        vertical-align: top;\n",
       "    }\n",
       "\n",
       "    .dataframe thead th {\n",
       "        text-align: right;\n",
       "    }\n",
       "</style>\n",
       "<table border=\"1\" class=\"dataframe\">\n",
       "  <thead>\n",
       "    <tr style=\"text-align: right;\">\n",
       "      <th></th>\n",
       "      <th>name</th>\n",
       "      <th>platform</th>\n",
       "      <th>year_of_release</th>\n",
       "      <th>genre</th>\n",
       "      <th>na_sales</th>\n",
       "      <th>eu_sales</th>\n",
       "      <th>jp_sales</th>\n",
       "      <th>other_sales</th>\n",
       "      <th>critic_score</th>\n",
       "      <th>user_score</th>\n",
       "      <th>rating</th>\n",
       "    </tr>\n",
       "  </thead>\n",
       "  <tbody>\n",
       "    <tr>\n",
       "      <td>119</td>\n",
       "      <td>Zumba Fitness</td>\n",
       "      <td>Wii</td>\n",
       "      <td>2010.0</td>\n",
       "      <td>Sports</td>\n",
       "      <td>3.45</td>\n",
       "      <td>2.59</td>\n",
       "      <td>0.0</td>\n",
       "      <td>0.66</td>\n",
       "      <td>NaN</td>\n",
       "      <td>tbd</td>\n",
       "      <td>E</td>\n",
       "    </tr>\n",
       "    <tr>\n",
       "      <td>301</td>\n",
       "      <td>Namco Museum: 50th Anniversary</td>\n",
       "      <td>PS2</td>\n",
       "      <td>2005.0</td>\n",
       "      <td>Misc</td>\n",
       "      <td>2.08</td>\n",
       "      <td>1.35</td>\n",
       "      <td>0.0</td>\n",
       "      <td>0.54</td>\n",
       "      <td>61.0</td>\n",
       "      <td>tbd</td>\n",
       "      <td>E10+</td>\n",
       "    </tr>\n",
       "    <tr>\n",
       "      <td>520</td>\n",
       "      <td>Zumba Fitness 2</td>\n",
       "      <td>Wii</td>\n",
       "      <td>2011.0</td>\n",
       "      <td>Sports</td>\n",
       "      <td>1.51</td>\n",
       "      <td>1.03</td>\n",
       "      <td>0.0</td>\n",
       "      <td>0.27</td>\n",
       "      <td>NaN</td>\n",
       "      <td>tbd</td>\n",
       "      <td>T</td>\n",
       "    </tr>\n",
       "    <tr>\n",
       "      <td>645</td>\n",
       "      <td>uDraw Studio</td>\n",
       "      <td>Wii</td>\n",
       "      <td>2010.0</td>\n",
       "      <td>Misc</td>\n",
       "      <td>1.65</td>\n",
       "      <td>0.57</td>\n",
       "      <td>0.0</td>\n",
       "      <td>0.20</td>\n",
       "      <td>71.0</td>\n",
       "      <td>tbd</td>\n",
       "      <td>E</td>\n",
       "    </tr>\n",
       "    <tr>\n",
       "      <td>657</td>\n",
       "      <td>Frogger's Adventures: Temple of the Frog</td>\n",
       "      <td>GBA</td>\n",
       "      <td>NaN</td>\n",
       "      <td>Adventure</td>\n",
       "      <td>2.15</td>\n",
       "      <td>0.18</td>\n",
       "      <td>0.0</td>\n",
       "      <td>0.07</td>\n",
       "      <td>73.0</td>\n",
       "      <td>tbd</td>\n",
       "      <td>E</td>\n",
       "    </tr>\n",
       "    <tr>\n",
       "      <td>...</td>\n",
       "      <td>...</td>\n",
       "      <td>...</td>\n",
       "      <td>...</td>\n",
       "      <td>...</td>\n",
       "      <td>...</td>\n",
       "      <td>...</td>\n",
       "      <td>...</td>\n",
       "      <td>...</td>\n",
       "      <td>...</td>\n",
       "      <td>...</td>\n",
       "      <td>...</td>\n",
       "    </tr>\n",
       "    <tr>\n",
       "      <td>16695</td>\n",
       "      <td>Planet Monsters</td>\n",
       "      <td>GBA</td>\n",
       "      <td>2001.0</td>\n",
       "      <td>Action</td>\n",
       "      <td>0.01</td>\n",
       "      <td>0.00</td>\n",
       "      <td>0.0</td>\n",
       "      <td>0.00</td>\n",
       "      <td>67.0</td>\n",
       "      <td>tbd</td>\n",
       "      <td>E</td>\n",
       "    </tr>\n",
       "    <tr>\n",
       "      <td>16697</td>\n",
       "      <td>Bust-A-Move 3000</td>\n",
       "      <td>GC</td>\n",
       "      <td>2003.0</td>\n",
       "      <td>Puzzle</td>\n",
       "      <td>0.01</td>\n",
       "      <td>0.00</td>\n",
       "      <td>0.0</td>\n",
       "      <td>0.00</td>\n",
       "      <td>53.0</td>\n",
       "      <td>tbd</td>\n",
       "      <td>E</td>\n",
       "    </tr>\n",
       "    <tr>\n",
       "      <td>16698</td>\n",
       "      <td>Mega Brain Boost</td>\n",
       "      <td>DS</td>\n",
       "      <td>2008.0</td>\n",
       "      <td>Puzzle</td>\n",
       "      <td>0.01</td>\n",
       "      <td>0.00</td>\n",
       "      <td>0.0</td>\n",
       "      <td>0.00</td>\n",
       "      <td>48.0</td>\n",
       "      <td>tbd</td>\n",
       "      <td>E</td>\n",
       "    </tr>\n",
       "    <tr>\n",
       "      <td>16704</td>\n",
       "      <td>Plushees</td>\n",
       "      <td>DS</td>\n",
       "      <td>2008.0</td>\n",
       "      <td>Simulation</td>\n",
       "      <td>0.01</td>\n",
       "      <td>0.00</td>\n",
       "      <td>0.0</td>\n",
       "      <td>0.00</td>\n",
       "      <td>NaN</td>\n",
       "      <td>tbd</td>\n",
       "      <td>E</td>\n",
       "    </tr>\n",
       "    <tr>\n",
       "      <td>16706</td>\n",
       "      <td>Men in Black II: Alien Escape</td>\n",
       "      <td>GC</td>\n",
       "      <td>2003.0</td>\n",
       "      <td>Shooter</td>\n",
       "      <td>0.01</td>\n",
       "      <td>0.00</td>\n",
       "      <td>0.0</td>\n",
       "      <td>0.00</td>\n",
       "      <td>NaN</td>\n",
       "      <td>tbd</td>\n",
       "      <td>T</td>\n",
       "    </tr>\n",
       "  </tbody>\n",
       "</table>\n",
       "<p>2424 rows × 11 columns</p>\n",
       "</div>"
      ],
      "text/plain": [
       "                                           name platform  year_of_release  \\\n",
       "119                               Zumba Fitness      Wii           2010.0   \n",
       "301              Namco Museum: 50th Anniversary      PS2           2005.0   \n",
       "520                             Zumba Fitness 2      Wii           2011.0   \n",
       "645                                uDraw Studio      Wii           2010.0   \n",
       "657    Frogger's Adventures: Temple of the Frog      GBA              NaN   \n",
       "...                                         ...      ...              ...   \n",
       "16695                           Planet Monsters      GBA           2001.0   \n",
       "16697                          Bust-A-Move 3000       GC           2003.0   \n",
       "16698                          Mega Brain Boost       DS           2008.0   \n",
       "16704                                  Plushees       DS           2008.0   \n",
       "16706             Men in Black II: Alien Escape       GC           2003.0   \n",
       "\n",
       "            genre  na_sales  eu_sales  jp_sales  other_sales  critic_score  \\\n",
       "119        Sports      3.45      2.59       0.0         0.66           NaN   \n",
       "301          Misc      2.08      1.35       0.0         0.54          61.0   \n",
       "520        Sports      1.51      1.03       0.0         0.27           NaN   \n",
       "645          Misc      1.65      0.57       0.0         0.20          71.0   \n",
       "657     Adventure      2.15      0.18       0.0         0.07          73.0   \n",
       "...           ...       ...       ...       ...          ...           ...   \n",
       "16695      Action      0.01      0.00       0.0         0.00          67.0   \n",
       "16697      Puzzle      0.01      0.00       0.0         0.00          53.0   \n",
       "16698      Puzzle      0.01      0.00       0.0         0.00          48.0   \n",
       "16704  Simulation      0.01      0.00       0.0         0.00           NaN   \n",
       "16706     Shooter      0.01      0.00       0.0         0.00           NaN   \n",
       "\n",
       "      user_score rating  \n",
       "119          tbd      E  \n",
       "301          tbd   E10+  \n",
       "520          tbd      T  \n",
       "645          tbd      E  \n",
       "657          tbd      E  \n",
       "...          ...    ...  \n",
       "16695        tbd      E  \n",
       "16697        tbd      E  \n",
       "16698        tbd      E  \n",
       "16704        tbd      E  \n",
       "16706        tbd      T  \n",
       "\n",
       "[2424 rows x 11 columns]"
      ]
     },
     "execution_count": 10,
     "metadata": {},
     "output_type": "execute_result"
    }
   ],
   "source": [
    "data[data['user_score'] == 'tbd']"
   ]
  },
  {
   "cell_type": "markdown",
   "metadata": {},
   "source": [
    "Таких значений в таблице - 2424. 'tbd' - аббревиатура, 'to be determined', что означает - предстоит определить. Получается, оценка пользователей ещё не определена, и эти значения можно определить как отсутствие данных('NaN'):"
   ]
  },
  {
   "cell_type": "code",
   "execution_count": 11,
   "metadata": {},
   "outputs": [],
   "source": [
    "data['user_score'] = data['user_score'].replace('tbd', np.NaN)"
   ]
  },
  {
   "cell_type": "markdown",
   "metadata": {},
   "source": [
    "Заполним пропуски в столбцах 'critic_score' и 'user_score'. Оценка пользователей и оценка критиков ещё не определена, поэтому заполним пропуски значениями '-1':"
   ]
  },
  {
   "cell_type": "code",
   "execution_count": 12,
   "metadata": {},
   "outputs": [],
   "source": [
    "data['critic_score'] = data['critic_score'].fillna(-1)\n",
    "data['user_score'] = data['user_score'].fillna(-1)"
   ]
  },
  {
   "cell_type": "markdown",
   "metadata": {},
   "source": [
    "Заполним пропуски в столбце 'year_of_release' медианой по столбцу:"
   ]
  },
  {
   "cell_type": "code",
   "execution_count": 13,
   "metadata": {},
   "outputs": [],
   "source": [
    "data['year_of_release'] = data['year_of_release'].fillna(1979)"
   ]
  },
  {
   "cell_type": "markdown",
   "metadata": {},
   "source": [
    "Посчитаем суммарные продажи во всех регионах и запишем их в отдельный столбец:"
   ]
  },
  {
   "cell_type": "code",
   "execution_count": 14,
   "metadata": {},
   "outputs": [],
   "source": [
    "data['sum_sales'] = data['na_sales'] + data['eu_sales'] + data['jp_sales'] + data['other_sales']"
   ]
  },
  {
   "cell_type": "markdown",
   "metadata": {},
   "source": [
    "Преобразуем данные в нужные типы:"
   ]
  },
  {
   "cell_type": "code",
   "execution_count": 15,
   "metadata": {},
   "outputs": [
    {
     "name": "stdout",
     "output_type": "stream",
     "text": [
      "<class 'pandas.core.frame.DataFrame'>\n",
      "Int64Index: 16713 entries, 0 to 16714\n",
      "Data columns (total 12 columns):\n",
      "name               16713 non-null object\n",
      "platform           16713 non-null object\n",
      "year_of_release    16713 non-null datetime64[ns]\n",
      "genre              16713 non-null object\n",
      "na_sales           16713 non-null float64\n",
      "eu_sales           16713 non-null float64\n",
      "jp_sales           16713 non-null float64\n",
      "other_sales        16713 non-null float64\n",
      "critic_score       16713 non-null int64\n",
      "user_score         16713 non-null float64\n",
      "rating             9949 non-null object\n",
      "sum_sales          16713 non-null float64\n",
      "dtypes: datetime64[ns](1), float64(6), int64(1), object(4)\n",
      "memory usage: 1.7+ MB\n"
     ]
    }
   ],
   "source": [
    "data['year_of_release'] = pd.to_datetime(data['year_of_release'], format='%Y')\n",
    "data['critic_score'] = data['critic_score'].astype('int')\n",
    "data['user_score'] = data['user_score'].astype('float64')\n",
    "data.info()"
   ]
  },
  {
   "cell_type": "markdown",
   "metadata": {},
   "source": [
    "Рассмотрим более подробно столбец 'rating':"
   ]
  },
  {
   "cell_type": "code",
   "execution_count": 16,
   "metadata": {},
   "outputs": [
    {
     "data": {
      "text/plain": [
       "array(['E', nan, 'M', 'T', 'E10+', 'K-A', 'AO', 'EC', 'RP'], dtype=object)"
      ]
     },
     "execution_count": 16,
     "metadata": {},
     "output_type": "execute_result"
    }
   ],
   "source": [
    "data['rating'].unique()"
   ]
  },
  {
   "cell_type": "markdown",
   "metadata": {},
   "source": [
    "Entertainment Software Rating Board (ESRB) — негосударственная организация, основное направление деятельности — принятие и определение рейтингов для компьютерных видеоигр и другого развлекательного программного обеспечения в США и Канаде.\n",
    "\n",
    "- 'E': 'Для всех'\n",
    "- 'M': 'Для взрослых'\n",
    "- 'T': 'Подросткам от 13 лет'\n",
    "- 'E10+': 'Для всех от 10 лет и старше'\n",
    "- 'K-A': 'Для всех(устар.)'\n",
    "- 'AO': 'Только для взрослых'\n",
    "- 'EC': 'Для детей младшего возраста'\n",
    "- 'RP': 'Рейтинг ожидается'"
   ]
  },
  {
   "cell_type": "markdown",
   "metadata": {},
   "source": [
    "Изменим рейтинг - 'RP': 'Рейтинг ожидается' на - NaN(тк данные отсутствуют) и рейтинг - 'K-A': 'Для всех(устар.)' на - 'E': 'Для всех':"
   ]
  },
  {
   "cell_type": "code",
   "execution_count": 17,
   "metadata": {},
   "outputs": [],
   "source": [
    "data['rating'] = data['rating'].replace('RP', np.NaN)\n",
    "data['rating'] = data['rating'].replace('K-A', 'E')"
   ]
  },
  {
   "cell_type": "markdown",
   "metadata": {},
   "source": [
    "Заполним пропуски в столбце 'rating' значением - 'undefined':"
   ]
  },
  {
   "cell_type": "code",
   "execution_count": 18,
   "metadata": {},
   "outputs": [],
   "source": [
    "data['rating'] = data['rating'].fillna('undefined')"
   ]
  },
  {
   "cell_type": "markdown",
   "metadata": {},
   "source": [
    "Создадим дополнительный столбец в таблице для дальнейших расчётов:"
   ]
  },
  {
   "cell_type": "code",
   "execution_count": 19,
   "metadata": {},
   "outputs": [],
   "source": [
    "#создадим дополнительный столбец\n",
    "def esrb_ratings(row):\n",
    "    name = row['rating']\n",
    "    if name == 'E':\n",
    "        return 'Для всех'\n",
    "    elif name == 'M':\n",
    "        return 'Для взрослых'\n",
    "    elif name == 'T':\n",
    "        return 'Подросткам от 13 лет'\n",
    "    elif name == 'E10+':\n",
    "        return 'Для всех от 10 лет и старше'\n",
    "    elif name == 'AO':\n",
    "        return 'Только для взрослых'\n",
    "    elif name == 'EC':\n",
    "        return 'Для детей младшего возраста'\n",
    "    elif name == 'undefined':\n",
    "        return 'Рейтинг не определен'\n",
    "\n",
    "data['esrb_raiting'] = data.apply(esrb_ratings, axis = 1)"
   ]
  },
  {
   "cell_type": "markdown",
   "metadata": {},
   "source": [
    "Данные после обработки:"
   ]
  },
  {
   "cell_type": "code",
   "execution_count": 20,
   "metadata": {},
   "outputs": [
    {
     "data": {
      "text/plain": [
       "name               0\n",
       "platform           0\n",
       "year_of_release    0\n",
       "genre              0\n",
       "na_sales           0\n",
       "eu_sales           0\n",
       "jp_sales           0\n",
       "other_sales        0\n",
       "critic_score       0\n",
       "user_score         0\n",
       "rating             0\n",
       "sum_sales          0\n",
       "esrb_raiting       0\n",
       "dtype: int64"
      ]
     },
     "execution_count": 20,
     "metadata": {},
     "output_type": "execute_result"
    }
   ],
   "source": [
    "data.isnull().sum()"
   ]
  },
  {
   "cell_type": "markdown",
   "metadata": {},
   "source": [
    "## Исследовательский анализ данных\n",
    "<a id='cell3'></a>"
   ]
  },
  {
   "cell_type": "markdown",
   "metadata": {},
   "source": [
    "Посмотрим, сколько игр выпускалось в разные годы:"
   ]
  },
  {
   "cell_type": "code",
   "execution_count": 21,
   "metadata": {},
   "outputs": [
    {
     "name": "stderr",
     "output_type": "stream",
     "text": [
      "/opt/conda/lib/python3.7/site-packages/pandas/plotting/_matplotlib/converter.py:103: FutureWarning: Using an implicitly registered datetime converter for a matplotlib plotting method. The converter was registered by pandas on import. Future versions of pandas will require you to explicitly register matplotlib converters.\n",
      "\n",
      "To register the converters:\n",
      "\t>>> from pandas.plotting import register_matplotlib_converters\n",
      "\t>>> register_matplotlib_converters()\n",
      "  warnings.warn(msg, FutureWarning)\n"
     ]
    },
    {
     "data": {
      "text/plain": [
       "Text(0, 0.5, 'Частота')"
      ]
     },
     "execution_count": 21,
     "metadata": {},
     "output_type": "execute_result"
    },
    {
     "data": {
      "image/png": "[encoded data removed]",
      "text/plain": [
       "<Figure size 432x288 with 1 Axes>"
      ]
     },
     "metadata": {
      "needs_background": "light"
     },
     "output_type": "display_data"
    }
   ],
   "source": [
    "data['year_of_release'].hist(alpha=1, bins=70)\n",
    "plt.title('Гистограмма выхода игр по годам')\n",
    "plt.xlabel('Год выхода')\n",
    "plt.ylabel('Частота')"
   ]
  },
  {
   "cell_type": "markdown",
   "metadata": {},
   "source": [
    "До 1992 года игры практически не выпускались, скорее всего причиной было - отсутствие техники(платформ) для игр. После появления оборудования пошёл активный рост выпуска игр, с пиковыми показателями в 2008-09 годах. Далее последовало снижение, в связи с появлением других всевозможных увлечений."
   ]
  },
  {
   "cell_type": "markdown",
   "metadata": {},
   "source": [
    "Выберем топ платформ, по которым были самые большие суммарные продажи игр за весь рассматриваемый период:"
   ]
  },
  {
   "cell_type": "code",
   "execution_count": 22,
   "metadata": {},
   "outputs": [
    {
     "data": {
      "text/plain": [
       "Text(0, 0.5, 'Название платформы')"
      ]
     },
     "execution_count": 22,
     "metadata": {},
     "output_type": "execute_result"
    },
    {
     "data": {
      "image/png": "[encoded data removed]",
      "text/plain": [
       "<Figure size 1080x720 with 1 Axes>"
      ]
     },
     "metadata": {
      "needs_background": "light"
     },
     "output_type": "display_data"
    }
   ],
   "source": [
    "total_data = data.copy()\n",
    "#data_platform = total_data.set_index('platform')\n",
    "\n",
    "\n",
    "#print(total_platform)\n",
    "total_platform = total_data.groupby('platform')['sum_sales'].sum().to_frame('sum_sales').sort_values(by='sum_sales', ascending=False).head()\n",
    "total_platform.head().plot(kind='barh', figsize = (15,10), ec='black')\n",
    "plt.title('Популярные платформы')\n",
    "plt.xlabel('Сумма продаж игр')\n",
    "plt.ylabel('Название платформы')"
   ]
  },
  {
   "cell_type": "markdown",
   "metadata": {},
   "source": [
    "Топ платформ, с самыми большими продажами игр: PS2, X360, PS3, Wii, DS"
   ]
  },
  {
   "cell_type": "markdown",
   "metadata": {},
   "source": [
    "Определим среднюю продолжительность жизни платформ:"
   ]
  },
  {
   "cell_type": "markdown",
   "metadata": {},
   "source": [
    "Количество игр по годам:"
   ]
  },
  {
   "cell_type": "code",
   "execution_count": 23,
   "metadata": {},
   "outputs": [
    {
     "data": {
      "text/html": [
       "<div>\n",
       "<style scoped>\n",
       "    .dataframe tbody tr th:only-of-type {\n",
       "        vertical-align: middle;\n",
       "    }\n",
       "\n",
       "    .dataframe tbody tr th {\n",
       "        vertical-align: top;\n",
       "    }\n",
       "\n",
       "    .dataframe thead th {\n",
       "        text-align: right;\n",
       "    }\n",
       "</style>\n",
       "<table border=\"1\" class=\"dataframe\">\n",
       "  <thead>\n",
       "    <tr style=\"text-align: right;\">\n",
       "      <th>platform</th>\n",
       "      <th>2600</th>\n",
       "      <th>3DO</th>\n",
       "      <th>3DS</th>\n",
       "      <th>DC</th>\n",
       "      <th>DS</th>\n",
       "      <th>GB</th>\n",
       "      <th>GBA</th>\n",
       "      <th>GC</th>\n",
       "      <th>GEN</th>\n",
       "      <th>GG</th>\n",
       "      <th>...</th>\n",
       "      <th>SAT</th>\n",
       "      <th>SCD</th>\n",
       "      <th>SNES</th>\n",
       "      <th>TG16</th>\n",
       "      <th>WS</th>\n",
       "      <th>Wii</th>\n",
       "      <th>WiiU</th>\n",
       "      <th>X360</th>\n",
       "      <th>XB</th>\n",
       "      <th>XOne</th>\n",
       "    </tr>\n",
       "    <tr>\n",
       "      <th>year_of_release</th>\n",
       "      <th></th>\n",
       "      <th></th>\n",
       "      <th></th>\n",
       "      <th></th>\n",
       "      <th></th>\n",
       "      <th></th>\n",
       "      <th></th>\n",
       "      <th></th>\n",
       "      <th></th>\n",
       "      <th></th>\n",
       "      <th></th>\n",
       "      <th></th>\n",
       "      <th></th>\n",
       "      <th></th>\n",
       "      <th></th>\n",
       "      <th></th>\n",
       "      <th></th>\n",
       "      <th></th>\n",
       "      <th></th>\n",
       "      <th></th>\n",
       "      <th></th>\n",
       "    </tr>\n",
       "  </thead>\n",
       "  <tbody>\n",
       "    <tr>\n",
       "      <td>1979-01-01</td>\n",
       "      <td>17.0</td>\n",
       "      <td>0.0</td>\n",
       "      <td>8.0</td>\n",
       "      <td>0.0</td>\n",
       "      <td>30.0</td>\n",
       "      <td>1.0</td>\n",
       "      <td>11.0</td>\n",
       "      <td>14.0</td>\n",
       "      <td>0.0</td>\n",
       "      <td>0.0</td>\n",
       "      <td>...</td>\n",
       "      <td>0.0</td>\n",
       "      <td>0.0</td>\n",
       "      <td>0.0</td>\n",
       "      <td>0.0</td>\n",
       "      <td>0.0</td>\n",
       "      <td>34.0</td>\n",
       "      <td>0.0</td>\n",
       "      <td>30.0</td>\n",
       "      <td>21.0</td>\n",
       "      <td>0.0</td>\n",
       "    </tr>\n",
       "    <tr>\n",
       "      <td>1980-01-01</td>\n",
       "      <td>9.0</td>\n",
       "      <td>0.0</td>\n",
       "      <td>0.0</td>\n",
       "      <td>0.0</td>\n",
       "      <td>0.0</td>\n",
       "      <td>0.0</td>\n",
       "      <td>0.0</td>\n",
       "      <td>0.0</td>\n",
       "      <td>0.0</td>\n",
       "      <td>0.0</td>\n",
       "      <td>...</td>\n",
       "      <td>0.0</td>\n",
       "      <td>0.0</td>\n",
       "      <td>0.0</td>\n",
       "      <td>0.0</td>\n",
       "      <td>0.0</td>\n",
       "      <td>0.0</td>\n",
       "      <td>0.0</td>\n",
       "      <td>0.0</td>\n",
       "      <td>0.0</td>\n",
       "      <td>0.0</td>\n",
       "    </tr>\n",
       "    <tr>\n",
       "      <td>1981-01-01</td>\n",
       "      <td>46.0</td>\n",
       "      <td>0.0</td>\n",
       "      <td>0.0</td>\n",
       "      <td>0.0</td>\n",
       "      <td>0.0</td>\n",
       "      <td>0.0</td>\n",
       "      <td>0.0</td>\n",
       "      <td>0.0</td>\n",
       "      <td>0.0</td>\n",
       "      <td>0.0</td>\n",
       "      <td>...</td>\n",
       "      <td>0.0</td>\n",
       "      <td>0.0</td>\n",
       "      <td>0.0</td>\n",
       "      <td>0.0</td>\n",
       "      <td>0.0</td>\n",
       "      <td>0.0</td>\n",
       "      <td>0.0</td>\n",
       "      <td>0.0</td>\n",
       "      <td>0.0</td>\n",
       "      <td>0.0</td>\n",
       "    </tr>\n",
       "    <tr>\n",
       "      <td>1982-01-01</td>\n",
       "      <td>36.0</td>\n",
       "      <td>0.0</td>\n",
       "      <td>0.0</td>\n",
       "      <td>0.0</td>\n",
       "      <td>0.0</td>\n",
       "      <td>0.0</td>\n",
       "      <td>0.0</td>\n",
       "      <td>0.0</td>\n",
       "      <td>0.0</td>\n",
       "      <td>0.0</td>\n",
       "      <td>...</td>\n",
       "      <td>0.0</td>\n",
       "      <td>0.0</td>\n",
       "      <td>0.0</td>\n",
       "      <td>0.0</td>\n",
       "      <td>0.0</td>\n",
       "      <td>0.0</td>\n",
       "      <td>0.0</td>\n",
       "      <td>0.0</td>\n",
       "      <td>0.0</td>\n",
       "      <td>0.0</td>\n",
       "    </tr>\n",
       "    <tr>\n",
       "      <td>1983-01-01</td>\n",
       "      <td>11.0</td>\n",
       "      <td>0.0</td>\n",
       "      <td>0.0</td>\n",
       "      <td>0.0</td>\n",
       "      <td>0.0</td>\n",
       "      <td>0.0</td>\n",
       "      <td>0.0</td>\n",
       "      <td>0.0</td>\n",
       "      <td>0.0</td>\n",
       "      <td>0.0</td>\n",
       "      <td>...</td>\n",
       "      <td>0.0</td>\n",
       "      <td>0.0</td>\n",
       "      <td>0.0</td>\n",
       "      <td>0.0</td>\n",
       "      <td>0.0</td>\n",
       "      <td>0.0</td>\n",
       "      <td>0.0</td>\n",
       "      <td>0.0</td>\n",
       "      <td>0.0</td>\n",
       "      <td>0.0</td>\n",
       "    </tr>\n",
       "    <tr>\n",
       "      <td>1984-01-01</td>\n",
       "      <td>1.0</td>\n",
       "      <td>0.0</td>\n",
       "      <td>0.0</td>\n",
       "      <td>0.0</td>\n",
       "      <td>0.0</td>\n",
       "      <td>0.0</td>\n",
       "      <td>0.0</td>\n",
       "      <td>0.0</td>\n",
       "      <td>0.0</td>\n",
       "      <td>0.0</td>\n",
       "      <td>...</td>\n",
       "      <td>0.0</td>\n",
       "      <td>0.0</td>\n",
       "      <td>0.0</td>\n",
       "      <td>0.0</td>\n",
       "      <td>0.0</td>\n",
       "      <td>0.0</td>\n",
       "      <td>0.0</td>\n",
       "      <td>0.0</td>\n",
       "      <td>0.0</td>\n",
       "      <td>0.0</td>\n",
       "    </tr>\n",
       "    <tr>\n",
       "      <td>1985-01-01</td>\n",
       "      <td>1.0</td>\n",
       "      <td>0.0</td>\n",
       "      <td>0.0</td>\n",
       "      <td>0.0</td>\n",
       "      <td>1.0</td>\n",
       "      <td>0.0</td>\n",
       "      <td>0.0</td>\n",
       "      <td>0.0</td>\n",
       "      <td>0.0</td>\n",
       "      <td>0.0</td>\n",
       "      <td>...</td>\n",
       "      <td>0.0</td>\n",
       "      <td>0.0</td>\n",
       "      <td>0.0</td>\n",
       "      <td>0.0</td>\n",
       "      <td>0.0</td>\n",
       "      <td>0.0</td>\n",
       "      <td>0.0</td>\n",
       "      <td>0.0</td>\n",
       "      <td>0.0</td>\n",
       "      <td>0.0</td>\n",
       "    </tr>\n",
       "    <tr>\n",
       "      <td>1986-01-01</td>\n",
       "      <td>2.0</td>\n",
       "      <td>0.0</td>\n",
       "      <td>0.0</td>\n",
       "      <td>0.0</td>\n",
       "      <td>0.0</td>\n",
       "      <td>0.0</td>\n",
       "      <td>0.0</td>\n",
       "      <td>0.0</td>\n",
       "      <td>0.0</td>\n",
       "      <td>0.0</td>\n",
       "      <td>...</td>\n",
       "      <td>0.0</td>\n",
       "      <td>0.0</td>\n",
       "      <td>0.0</td>\n",
       "      <td>0.0</td>\n",
       "      <td>0.0</td>\n",
       "      <td>0.0</td>\n",
       "      <td>0.0</td>\n",
       "      <td>0.0</td>\n",
       "      <td>0.0</td>\n",
       "      <td>0.0</td>\n",
       "    </tr>\n",
       "    <tr>\n",
       "      <td>1987-01-01</td>\n",
       "      <td>6.0</td>\n",
       "      <td>0.0</td>\n",
       "      <td>0.0</td>\n",
       "      <td>0.0</td>\n",
       "      <td>0.0</td>\n",
       "      <td>0.0</td>\n",
       "      <td>0.0</td>\n",
       "      <td>0.0</td>\n",
       "      <td>0.0</td>\n",
       "      <td>0.0</td>\n",
       "      <td>...</td>\n",
       "      <td>0.0</td>\n",
       "      <td>0.0</td>\n",
       "      <td>0.0</td>\n",
       "      <td>0.0</td>\n",
       "      <td>0.0</td>\n",
       "      <td>0.0</td>\n",
       "      <td>0.0</td>\n",
       "      <td>0.0</td>\n",
       "      <td>0.0</td>\n",
       "      <td>0.0</td>\n",
       "    </tr>\n",
       "    <tr>\n",
       "      <td>1988-01-01</td>\n",
       "      <td>2.0</td>\n",
       "      <td>0.0</td>\n",
       "      <td>0.0</td>\n",
       "      <td>0.0</td>\n",
       "      <td>0.0</td>\n",
       "      <td>1.0</td>\n",
       "      <td>0.0</td>\n",
       "      <td>0.0</td>\n",
       "      <td>0.0</td>\n",
       "      <td>0.0</td>\n",
       "      <td>...</td>\n",
       "      <td>0.0</td>\n",
       "      <td>0.0</td>\n",
       "      <td>0.0</td>\n",
       "      <td>0.0</td>\n",
       "      <td>0.0</td>\n",
       "      <td>0.0</td>\n",
       "      <td>0.0</td>\n",
       "      <td>0.0</td>\n",
       "      <td>0.0</td>\n",
       "      <td>0.0</td>\n",
       "    </tr>\n",
       "    <tr>\n",
       "      <td>1989-01-01</td>\n",
       "      <td>2.0</td>\n",
       "      <td>0.0</td>\n",
       "      <td>0.0</td>\n",
       "      <td>0.0</td>\n",
       "      <td>0.0</td>\n",
       "      <td>10.0</td>\n",
       "      <td>0.0</td>\n",
       "      <td>0.0</td>\n",
       "      <td>0.0</td>\n",
       "      <td>0.0</td>\n",
       "      <td>...</td>\n",
       "      <td>0.0</td>\n",
       "      <td>0.0</td>\n",
       "      <td>0.0</td>\n",
       "      <td>0.0</td>\n",
       "      <td>0.0</td>\n",
       "      <td>0.0</td>\n",
       "      <td>0.0</td>\n",
       "      <td>0.0</td>\n",
       "      <td>0.0</td>\n",
       "      <td>0.0</td>\n",
       "    </tr>\n",
       "    <tr>\n",
       "      <td>1990-01-01</td>\n",
       "      <td>0.0</td>\n",
       "      <td>0.0</td>\n",
       "      <td>0.0</td>\n",
       "      <td>0.0</td>\n",
       "      <td>0.0</td>\n",
       "      <td>3.0</td>\n",
       "      <td>0.0</td>\n",
       "      <td>0.0</td>\n",
       "      <td>1.0</td>\n",
       "      <td>0.0</td>\n",
       "      <td>...</td>\n",
       "      <td>0.0</td>\n",
       "      <td>0.0</td>\n",
       "      <td>4.0</td>\n",
       "      <td>0.0</td>\n",
       "      <td>0.0</td>\n",
       "      <td>0.0</td>\n",
       "      <td>0.0</td>\n",
       "      <td>0.0</td>\n",
       "      <td>0.0</td>\n",
       "      <td>0.0</td>\n",
       "    </tr>\n",
       "    <tr>\n",
       "      <td>1991-01-01</td>\n",
       "      <td>0.0</td>\n",
       "      <td>0.0</td>\n",
       "      <td>0.0</td>\n",
       "      <td>0.0</td>\n",
       "      <td>0.0</td>\n",
       "      <td>9.0</td>\n",
       "      <td>0.0</td>\n",
       "      <td>0.0</td>\n",
       "      <td>1.0</td>\n",
       "      <td>0.0</td>\n",
       "      <td>...</td>\n",
       "      <td>0.0</td>\n",
       "      <td>0.0</td>\n",
       "      <td>24.0</td>\n",
       "      <td>0.0</td>\n",
       "      <td>0.0</td>\n",
       "      <td>0.0</td>\n",
       "      <td>0.0</td>\n",
       "      <td>0.0</td>\n",
       "      <td>0.0</td>\n",
       "      <td>0.0</td>\n",
       "    </tr>\n",
       "    <tr>\n",
       "      <td>1992-01-01</td>\n",
       "      <td>0.0</td>\n",
       "      <td>0.0</td>\n",
       "      <td>0.0</td>\n",
       "      <td>0.0</td>\n",
       "      <td>0.0</td>\n",
       "      <td>7.0</td>\n",
       "      <td>0.0</td>\n",
       "      <td>0.0</td>\n",
       "      <td>6.0</td>\n",
       "      <td>1.0</td>\n",
       "      <td>...</td>\n",
       "      <td>0.0</td>\n",
       "      <td>0.0</td>\n",
       "      <td>21.0</td>\n",
       "      <td>0.0</td>\n",
       "      <td>0.0</td>\n",
       "      <td>0.0</td>\n",
       "      <td>0.0</td>\n",
       "      <td>0.0</td>\n",
       "      <td>0.0</td>\n",
       "      <td>0.0</td>\n",
       "    </tr>\n",
       "    <tr>\n",
       "      <td>1993-01-01</td>\n",
       "      <td>0.0</td>\n",
       "      <td>0.0</td>\n",
       "      <td>0.0</td>\n",
       "      <td>0.0</td>\n",
       "      <td>0.0</td>\n",
       "      <td>0.0</td>\n",
       "      <td>0.0</td>\n",
       "      <td>0.0</td>\n",
       "      <td>7.0</td>\n",
       "      <td>0.0</td>\n",
       "      <td>...</td>\n",
       "      <td>0.0</td>\n",
       "      <td>1.0</td>\n",
       "      <td>46.0</td>\n",
       "      <td>0.0</td>\n",
       "      <td>0.0</td>\n",
       "      <td>0.0</td>\n",
       "      <td>0.0</td>\n",
       "      <td>0.0</td>\n",
       "      <td>0.0</td>\n",
       "      <td>0.0</td>\n",
       "    </tr>\n",
       "    <tr>\n",
       "      <td>1994-01-01</td>\n",
       "      <td>0.0</td>\n",
       "      <td>1.0</td>\n",
       "      <td>0.0</td>\n",
       "      <td>0.0</td>\n",
       "      <td>0.0</td>\n",
       "      <td>3.0</td>\n",
       "      <td>0.0</td>\n",
       "      <td>0.0</td>\n",
       "      <td>12.0</td>\n",
       "      <td>0.0</td>\n",
       "      <td>...</td>\n",
       "      <td>19.0</td>\n",
       "      <td>5.0</td>\n",
       "      <td>53.0</td>\n",
       "      <td>0.0</td>\n",
       "      <td>0.0</td>\n",
       "      <td>0.0</td>\n",
       "      <td>0.0</td>\n",
       "      <td>0.0</td>\n",
       "      <td>0.0</td>\n",
       "      <td>0.0</td>\n",
       "    </tr>\n",
       "    <tr>\n",
       "      <td>1995-01-01</td>\n",
       "      <td>0.0</td>\n",
       "      <td>2.0</td>\n",
       "      <td>0.0</td>\n",
       "      <td>0.0</td>\n",
       "      <td>0.0</td>\n",
       "      <td>4.0</td>\n",
       "      <td>0.0</td>\n",
       "      <td>0.0</td>\n",
       "      <td>0.0</td>\n",
       "      <td>0.0</td>\n",
       "      <td>...</td>\n",
       "      <td>52.0</td>\n",
       "      <td>0.0</td>\n",
       "      <td>54.0</td>\n",
       "      <td>2.0</td>\n",
       "      <td>0.0</td>\n",
       "      <td>0.0</td>\n",
       "      <td>0.0</td>\n",
       "      <td>0.0</td>\n",
       "      <td>0.0</td>\n",
       "      <td>0.0</td>\n",
       "    </tr>\n",
       "    <tr>\n",
       "      <td>1996-01-01</td>\n",
       "      <td>0.0</td>\n",
       "      <td>0.0</td>\n",
       "      <td>0.0</td>\n",
       "      <td>0.0</td>\n",
       "      <td>0.0</td>\n",
       "      <td>6.0</td>\n",
       "      <td>0.0</td>\n",
       "      <td>0.0</td>\n",
       "      <td>0.0</td>\n",
       "      <td>0.0</td>\n",
       "      <td>...</td>\n",
       "      <td>38.0</td>\n",
       "      <td>0.0</td>\n",
       "      <td>30.0</td>\n",
       "      <td>0.0</td>\n",
       "      <td>0.0</td>\n",
       "      <td>0.0</td>\n",
       "      <td>0.0</td>\n",
       "      <td>0.0</td>\n",
       "      <td>0.0</td>\n",
       "      <td>0.0</td>\n",
       "    </tr>\n",
       "    <tr>\n",
       "      <td>1997-01-01</td>\n",
       "      <td>0.0</td>\n",
       "      <td>0.0</td>\n",
       "      <td>0.0</td>\n",
       "      <td>0.0</td>\n",
       "      <td>0.0</td>\n",
       "      <td>8.0</td>\n",
       "      <td>0.0</td>\n",
       "      <td>0.0</td>\n",
       "      <td>0.0</td>\n",
       "      <td>0.0</td>\n",
       "      <td>...</td>\n",
       "      <td>34.0</td>\n",
       "      <td>0.0</td>\n",
       "      <td>4.0</td>\n",
       "      <td>0.0</td>\n",
       "      <td>0.0</td>\n",
       "      <td>0.0</td>\n",
       "      <td>0.0</td>\n",
       "      <td>0.0</td>\n",
       "      <td>0.0</td>\n",
       "      <td>0.0</td>\n",
       "    </tr>\n",
       "    <tr>\n",
       "      <td>1998-01-01</td>\n",
       "      <td>0.0</td>\n",
       "      <td>0.0</td>\n",
       "      <td>0.0</td>\n",
       "      <td>7.0</td>\n",
       "      <td>0.0</td>\n",
       "      <td>8.0</td>\n",
       "      <td>0.0</td>\n",
       "      <td>0.0</td>\n",
       "      <td>0.0</td>\n",
       "      <td>0.0</td>\n",
       "      <td>...</td>\n",
       "      <td>29.0</td>\n",
       "      <td>0.0</td>\n",
       "      <td>2.0</td>\n",
       "      <td>0.0</td>\n",
       "      <td>0.0</td>\n",
       "      <td>0.0</td>\n",
       "      <td>0.0</td>\n",
       "      <td>0.0</td>\n",
       "      <td>0.0</td>\n",
       "      <td>0.0</td>\n",
       "    </tr>\n",
       "    <tr>\n",
       "      <td>1999-01-01</td>\n",
       "      <td>0.0</td>\n",
       "      <td>0.0</td>\n",
       "      <td>0.0</td>\n",
       "      <td>14.0</td>\n",
       "      <td>0.0</td>\n",
       "      <td>11.0</td>\n",
       "      <td>0.0</td>\n",
       "      <td>0.0</td>\n",
       "      <td>0.0</td>\n",
       "      <td>0.0</td>\n",
       "      <td>...</td>\n",
       "      <td>1.0</td>\n",
       "      <td>0.0</td>\n",
       "      <td>1.0</td>\n",
       "      <td>0.0</td>\n",
       "      <td>2.0</td>\n",
       "      <td>0.0</td>\n",
       "      <td>0.0</td>\n",
       "      <td>0.0</td>\n",
       "      <td>0.0</td>\n",
       "      <td>0.0</td>\n",
       "    </tr>\n",
       "    <tr>\n",
       "      <td>2000-01-01</td>\n",
       "      <td>0.0</td>\n",
       "      <td>0.0</td>\n",
       "      <td>0.0</td>\n",
       "      <td>20.0</td>\n",
       "      <td>0.0</td>\n",
       "      <td>17.0</td>\n",
       "      <td>1.0</td>\n",
       "      <td>0.0</td>\n",
       "      <td>0.0</td>\n",
       "      <td>0.0</td>\n",
       "      <td>...</td>\n",
       "      <td>0.0</td>\n",
       "      <td>0.0</td>\n",
       "      <td>0.0</td>\n",
       "      <td>0.0</td>\n",
       "      <td>2.0</td>\n",
       "      <td>0.0</td>\n",
       "      <td>0.0</td>\n",
       "      <td>0.0</td>\n",
       "      <td>1.0</td>\n",
       "      <td>0.0</td>\n",
       "    </tr>\n",
       "    <tr>\n",
       "      <td>2001-01-01</td>\n",
       "      <td>0.0</td>\n",
       "      <td>0.0</td>\n",
       "      <td>0.0</td>\n",
       "      <td>8.0</td>\n",
       "      <td>0.0</td>\n",
       "      <td>10.0</td>\n",
       "      <td>107.0</td>\n",
       "      <td>22.0</td>\n",
       "      <td>0.0</td>\n",
       "      <td>0.0</td>\n",
       "      <td>...</td>\n",
       "      <td>0.0</td>\n",
       "      <td>0.0</td>\n",
       "      <td>0.0</td>\n",
       "      <td>0.0</td>\n",
       "      <td>2.0</td>\n",
       "      <td>0.0</td>\n",
       "      <td>0.0</td>\n",
       "      <td>0.0</td>\n",
       "      <td>33.0</td>\n",
       "      <td>0.0</td>\n",
       "    </tr>\n",
       "    <tr>\n",
       "      <td>2002-01-01</td>\n",
       "      <td>0.0</td>\n",
       "      <td>0.0</td>\n",
       "      <td>0.0</td>\n",
       "      <td>1.0</td>\n",
       "      <td>0.0</td>\n",
       "      <td>0.0</td>\n",
       "      <td>198.0</td>\n",
       "      <td>152.0</td>\n",
       "      <td>0.0</td>\n",
       "      <td>0.0</td>\n",
       "      <td>...</td>\n",
       "      <td>0.0</td>\n",
       "      <td>0.0</td>\n",
       "      <td>0.0</td>\n",
       "      <td>0.0</td>\n",
       "      <td>0.0</td>\n",
       "      <td>0.0</td>\n",
       "      <td>0.0</td>\n",
       "      <td>0.0</td>\n",
       "      <td>158.0</td>\n",
       "      <td>0.0</td>\n",
       "    </tr>\n",
       "    <tr>\n",
       "      <td>2003-01-01</td>\n",
       "      <td>0.0</td>\n",
       "      <td>0.0</td>\n",
       "      <td>0.0</td>\n",
       "      <td>0.0</td>\n",
       "      <td>0.0</td>\n",
       "      <td>0.0</td>\n",
       "      <td>150.0</td>\n",
       "      <td>144.0</td>\n",
       "      <td>0.0</td>\n",
       "      <td>0.0</td>\n",
       "      <td>...</td>\n",
       "      <td>0.0</td>\n",
       "      <td>0.0</td>\n",
       "      <td>0.0</td>\n",
       "      <td>0.0</td>\n",
       "      <td>0.0</td>\n",
       "      <td>0.0</td>\n",
       "      <td>0.0</td>\n",
       "      <td>0.0</td>\n",
       "      <td>189.0</td>\n",
       "      <td>0.0</td>\n",
       "    </tr>\n",
       "    <tr>\n",
       "      <td>2004-01-01</td>\n",
       "      <td>0.0</td>\n",
       "      <td>0.0</td>\n",
       "      <td>0.0</td>\n",
       "      <td>0.0</td>\n",
       "      <td>23.0</td>\n",
       "      <td>0.0</td>\n",
       "      <td>175.0</td>\n",
       "      <td>83.0</td>\n",
       "      <td>0.0</td>\n",
       "      <td>0.0</td>\n",
       "      <td>...</td>\n",
       "      <td>0.0</td>\n",
       "      <td>0.0</td>\n",
       "      <td>0.0</td>\n",
       "      <td>0.0</td>\n",
       "      <td>0.0</td>\n",
       "      <td>0.0</td>\n",
       "      <td>0.0</td>\n",
       "      <td>0.0</td>\n",
       "      <td>177.0</td>\n",
       "      <td>0.0</td>\n",
       "    </tr>\n",
       "    <tr>\n",
       "      <td>2005-01-01</td>\n",
       "      <td>0.0</td>\n",
       "      <td>0.0</td>\n",
       "      <td>0.0</td>\n",
       "      <td>0.0</td>\n",
       "      <td>118.0</td>\n",
       "      <td>0.0</td>\n",
       "      <td>135.0</td>\n",
       "      <td>97.0</td>\n",
       "      <td>0.0</td>\n",
       "      <td>0.0</td>\n",
       "      <td>...</td>\n",
       "      <td>0.0</td>\n",
       "      <td>0.0</td>\n",
       "      <td>0.0</td>\n",
       "      <td>0.0</td>\n",
       "      <td>0.0</td>\n",
       "      <td>0.0</td>\n",
       "      <td>0.0</td>\n",
       "      <td>18.0</td>\n",
       "      <td>179.0</td>\n",
       "      <td>0.0</td>\n",
       "    </tr>\n",
       "    <tr>\n",
       "      <td>2006-01-01</td>\n",
       "      <td>0.0</td>\n",
       "      <td>0.0</td>\n",
       "      <td>0.0</td>\n",
       "      <td>0.0</td>\n",
       "      <td>201.0</td>\n",
       "      <td>0.0</td>\n",
       "      <td>39.0</td>\n",
       "      <td>40.0</td>\n",
       "      <td>0.0</td>\n",
       "      <td>0.0</td>\n",
       "      <td>...</td>\n",
       "      <td>0.0</td>\n",
       "      <td>0.0</td>\n",
       "      <td>0.0</td>\n",
       "      <td>0.0</td>\n",
       "      <td>0.0</td>\n",
       "      <td>44.0</td>\n",
       "      <td>0.0</td>\n",
       "      <td>93.0</td>\n",
       "      <td>62.0</td>\n",
       "      <td>0.0</td>\n",
       "    </tr>\n",
       "    <tr>\n",
       "      <td>2007-01-01</td>\n",
       "      <td>0.0</td>\n",
       "      <td>0.0</td>\n",
       "      <td>0.0</td>\n",
       "      <td>1.0</td>\n",
       "      <td>376.0</td>\n",
       "      <td>0.0</td>\n",
       "      <td>6.0</td>\n",
       "      <td>4.0</td>\n",
       "      <td>0.0</td>\n",
       "      <td>0.0</td>\n",
       "      <td>...</td>\n",
       "      <td>0.0</td>\n",
       "      <td>0.0</td>\n",
       "      <td>0.0</td>\n",
       "      <td>0.0</td>\n",
       "      <td>0.0</td>\n",
       "      <td>185.0</td>\n",
       "      <td>0.0</td>\n",
       "      <td>123.0</td>\n",
       "      <td>3.0</td>\n",
       "      <td>0.0</td>\n",
       "    </tr>\n",
       "    <tr>\n",
       "      <td>2008-01-01</td>\n",
       "      <td>0.0</td>\n",
       "      <td>0.0</td>\n",
       "      <td>0.0</td>\n",
       "      <td>1.0</td>\n",
       "      <td>492.0</td>\n",
       "      <td>0.0</td>\n",
       "      <td>0.0</td>\n",
       "      <td>0.0</td>\n",
       "      <td>0.0</td>\n",
       "      <td>0.0</td>\n",
       "      <td>...</td>\n",
       "      <td>0.0</td>\n",
       "      <td>0.0</td>\n",
       "      <td>0.0</td>\n",
       "      <td>0.0</td>\n",
       "      <td>0.0</td>\n",
       "      <td>282.0</td>\n",
       "      <td>0.0</td>\n",
       "      <td>146.0</td>\n",
       "      <td>1.0</td>\n",
       "      <td>0.0</td>\n",
       "    </tr>\n",
       "    <tr>\n",
       "      <td>2009-01-01</td>\n",
       "      <td>0.0</td>\n",
       "      <td>0.0</td>\n",
       "      <td>0.0</td>\n",
       "      <td>0.0</td>\n",
       "      <td>403.0</td>\n",
       "      <td>0.0</td>\n",
       "      <td>0.0</td>\n",
       "      <td>0.0</td>\n",
       "      <td>0.0</td>\n",
       "      <td>0.0</td>\n",
       "      <td>...</td>\n",
       "      <td>0.0</td>\n",
       "      <td>0.0</td>\n",
       "      <td>0.0</td>\n",
       "      <td>0.0</td>\n",
       "      <td>0.0</td>\n",
       "      <td>325.0</td>\n",
       "      <td>0.0</td>\n",
       "      <td>172.0</td>\n",
       "      <td>0.0</td>\n",
       "      <td>0.0</td>\n",
       "    </tr>\n",
       "    <tr>\n",
       "      <td>2010-01-01</td>\n",
       "      <td>0.0</td>\n",
       "      <td>0.0</td>\n",
       "      <td>0.0</td>\n",
       "      <td>0.0</td>\n",
       "      <td>323.0</td>\n",
       "      <td>0.0</td>\n",
       "      <td>0.0</td>\n",
       "      <td>0.0</td>\n",
       "      <td>0.0</td>\n",
       "      <td>0.0</td>\n",
       "      <td>...</td>\n",
       "      <td>0.0</td>\n",
       "      <td>0.0</td>\n",
       "      <td>0.0</td>\n",
       "      <td>0.0</td>\n",
       "      <td>0.0</td>\n",
       "      <td>253.0</td>\n",
       "      <td>0.0</td>\n",
       "      <td>182.0</td>\n",
       "      <td>0.0</td>\n",
       "      <td>0.0</td>\n",
       "    </tr>\n",
       "    <tr>\n",
       "      <td>2011-01-01</td>\n",
       "      <td>0.0</td>\n",
       "      <td>0.0</td>\n",
       "      <td>116.0</td>\n",
       "      <td>0.0</td>\n",
       "      <td>153.0</td>\n",
       "      <td>0.0</td>\n",
       "      <td>0.0</td>\n",
       "      <td>0.0</td>\n",
       "      <td>0.0</td>\n",
       "      <td>0.0</td>\n",
       "      <td>...</td>\n",
       "      <td>0.0</td>\n",
       "      <td>0.0</td>\n",
       "      <td>0.0</td>\n",
       "      <td>0.0</td>\n",
       "      <td>0.0</td>\n",
       "      <td>143.0</td>\n",
       "      <td>0.0</td>\n",
       "      <td>206.0</td>\n",
       "      <td>0.0</td>\n",
       "      <td>0.0</td>\n",
       "    </tr>\n",
       "    <tr>\n",
       "      <td>2012-01-01</td>\n",
       "      <td>0.0</td>\n",
       "      <td>0.0</td>\n",
       "      <td>93.0</td>\n",
       "      <td>0.0</td>\n",
       "      <td>23.0</td>\n",
       "      <td>0.0</td>\n",
       "      <td>0.0</td>\n",
       "      <td>0.0</td>\n",
       "      <td>0.0</td>\n",
       "      <td>0.0</td>\n",
       "      <td>...</td>\n",
       "      <td>0.0</td>\n",
       "      <td>0.0</td>\n",
       "      <td>0.0</td>\n",
       "      <td>0.0</td>\n",
       "      <td>0.0</td>\n",
       "      <td>31.0</td>\n",
       "      <td>32.0</td>\n",
       "      <td>106.0</td>\n",
       "      <td>0.0</td>\n",
       "      <td>0.0</td>\n",
       "    </tr>\n",
       "    <tr>\n",
       "      <td>2013-01-01</td>\n",
       "      <td>0.0</td>\n",
       "      <td>0.0</td>\n",
       "      <td>91.0</td>\n",
       "      <td>0.0</td>\n",
       "      <td>8.0</td>\n",
       "      <td>0.0</td>\n",
       "      <td>0.0</td>\n",
       "      <td>0.0</td>\n",
       "      <td>0.0</td>\n",
       "      <td>0.0</td>\n",
       "      <td>...</td>\n",
       "      <td>0.0</td>\n",
       "      <td>0.0</td>\n",
       "      <td>0.0</td>\n",
       "      <td>0.0</td>\n",
       "      <td>0.0</td>\n",
       "      <td>12.0</td>\n",
       "      <td>42.0</td>\n",
       "      <td>75.0</td>\n",
       "      <td>0.0</td>\n",
       "      <td>19.0</td>\n",
       "    </tr>\n",
       "    <tr>\n",
       "      <td>2014-01-01</td>\n",
       "      <td>0.0</td>\n",
       "      <td>0.0</td>\n",
       "      <td>80.0</td>\n",
       "      <td>0.0</td>\n",
       "      <td>0.0</td>\n",
       "      <td>0.0</td>\n",
       "      <td>0.0</td>\n",
       "      <td>0.0</td>\n",
       "      <td>0.0</td>\n",
       "      <td>0.0</td>\n",
       "      <td>...</td>\n",
       "      <td>0.0</td>\n",
       "      <td>0.0</td>\n",
       "      <td>0.0</td>\n",
       "      <td>0.0</td>\n",
       "      <td>0.0</td>\n",
       "      <td>6.0</td>\n",
       "      <td>31.0</td>\n",
       "      <td>63.0</td>\n",
       "      <td>0.0</td>\n",
       "      <td>61.0</td>\n",
       "    </tr>\n",
       "    <tr>\n",
       "      <td>2015-01-01</td>\n",
       "      <td>0.0</td>\n",
       "      <td>0.0</td>\n",
       "      <td>86.0</td>\n",
       "      <td>0.0</td>\n",
       "      <td>0.0</td>\n",
       "      <td>0.0</td>\n",
       "      <td>0.0</td>\n",
       "      <td>0.0</td>\n",
       "      <td>0.0</td>\n",
       "      <td>0.0</td>\n",
       "      <td>...</td>\n",
       "      <td>0.0</td>\n",
       "      <td>0.0</td>\n",
       "      <td>0.0</td>\n",
       "      <td>0.0</td>\n",
       "      <td>0.0</td>\n",
       "      <td>4.0</td>\n",
       "      <td>28.0</td>\n",
       "      <td>35.0</td>\n",
       "      <td>0.0</td>\n",
       "      <td>80.0</td>\n",
       "    </tr>\n",
       "    <tr>\n",
       "      <td>2016-01-01</td>\n",
       "      <td>0.0</td>\n",
       "      <td>0.0</td>\n",
       "      <td>46.0</td>\n",
       "      <td>0.0</td>\n",
       "      <td>0.0</td>\n",
       "      <td>0.0</td>\n",
       "      <td>0.0</td>\n",
       "      <td>0.0</td>\n",
       "      <td>0.0</td>\n",
       "      <td>0.0</td>\n",
       "      <td>...</td>\n",
       "      <td>0.0</td>\n",
       "      <td>0.0</td>\n",
       "      <td>0.0</td>\n",
       "      <td>0.0</td>\n",
       "      <td>0.0</td>\n",
       "      <td>1.0</td>\n",
       "      <td>14.0</td>\n",
       "      <td>13.0</td>\n",
       "      <td>0.0</td>\n",
       "      <td>87.0</td>\n",
       "    </tr>\n",
       "  </tbody>\n",
       "</table>\n",
       "<p>38 rows × 31 columns</p>\n",
       "</div>"
      ],
      "text/plain": [
       "platform         2600  3DO    3DS    DC     DS    GB    GBA     GC   GEN   GG  \\\n",
       "year_of_release                                                                 \n",
       "1979-01-01       17.0  0.0    8.0   0.0   30.0   1.0   11.0   14.0   0.0  0.0   \n",
       "1980-01-01        9.0  0.0    0.0   0.0    0.0   0.0    0.0    0.0   0.0  0.0   \n",
       "1981-01-01       46.0  0.0    0.0   0.0    0.0   0.0    0.0    0.0   0.0  0.0   \n",
       "1982-01-01       36.0  0.0    0.0   0.0    0.0   0.0    0.0    0.0   0.0  0.0   \n",
       "1983-01-01       11.0  0.0    0.0   0.0    0.0   0.0    0.0    0.0   0.0  0.0   \n",
       "1984-01-01        1.0  0.0    0.0   0.0    0.0   0.0    0.0    0.0   0.0  0.0   \n",
       "1985-01-01        1.0  0.0    0.0   0.0    1.0   0.0    0.0    0.0   0.0  0.0   \n",
       "1986-01-01        2.0  0.0    0.0   0.0    0.0   0.0    0.0    0.0   0.0  0.0   \n",
       "1987-01-01        6.0  0.0    0.0   0.0    0.0   0.0    0.0    0.0   0.0  0.0   \n",
       "1988-01-01        2.0  0.0    0.0   0.0    0.0   1.0    0.0    0.0   0.0  0.0   \n",
       "1989-01-01        2.0  0.0    0.0   0.0    0.0  10.0    0.0    0.0   0.0  0.0   \n",
       "1990-01-01        0.0  0.0    0.0   0.0    0.0   3.0    0.0    0.0   1.0  0.0   \n",
       "1991-01-01        0.0  0.0    0.0   0.0    0.0   9.0    0.0    0.0   1.0  0.0   \n",
       "1992-01-01        0.0  0.0    0.0   0.0    0.0   7.0    0.0    0.0   6.0  1.0   \n",
       "1993-01-01        0.0  0.0    0.0   0.0    0.0   0.0    0.0    0.0   7.0  0.0   \n",
       "1994-01-01        0.0  1.0    0.0   0.0    0.0   3.0    0.0    0.0  12.0  0.0   \n",
       "1995-01-01        0.0  2.0    0.0   0.0    0.0   4.0    0.0    0.0   0.0  0.0   \n",
       "1996-01-01        0.0  0.0    0.0   0.0    0.0   6.0    0.0    0.0   0.0  0.0   \n",
       "1997-01-01        0.0  0.0    0.0   0.0    0.0   8.0    0.0    0.0   0.0  0.0   \n",
       "1998-01-01        0.0  0.0    0.0   7.0    0.0   8.0    0.0    0.0   0.0  0.0   \n",
       "1999-01-01        0.0  0.0    0.0  14.0    0.0  11.0    0.0    0.0   0.0  0.0   \n",
       "2000-01-01        0.0  0.0    0.0  20.0    0.0  17.0    1.0    0.0   0.0  0.0   \n",
       "2001-01-01        0.0  0.0    0.0   8.0    0.0  10.0  107.0   22.0   0.0  0.0   \n",
       "2002-01-01        0.0  0.0    0.0   1.0    0.0   0.0  198.0  152.0   0.0  0.0   \n",
       "2003-01-01        0.0  0.0    0.0   0.0    0.0   0.0  150.0  144.0   0.0  0.0   \n",
       "2004-01-01        0.0  0.0    0.0   0.0   23.0   0.0  175.0   83.0   0.0  0.0   \n",
       "2005-01-01        0.0  0.0    0.0   0.0  118.0   0.0  135.0   97.0   0.0  0.0   \n",
       "2006-01-01        0.0  0.0    0.0   0.0  201.0   0.0   39.0   40.0   0.0  0.0   \n",
       "2007-01-01        0.0  0.0    0.0   1.0  376.0   0.0    6.0    4.0   0.0  0.0   \n",
       "2008-01-01        0.0  0.0    0.0   1.0  492.0   0.0    0.0    0.0   0.0  0.0   \n",
       "2009-01-01        0.0  0.0    0.0   0.0  403.0   0.0    0.0    0.0   0.0  0.0   \n",
       "2010-01-01        0.0  0.0    0.0   0.0  323.0   0.0    0.0    0.0   0.0  0.0   \n",
       "2011-01-01        0.0  0.0  116.0   0.0  153.0   0.0    0.0    0.0   0.0  0.0   \n",
       "2012-01-01        0.0  0.0   93.0   0.0   23.0   0.0    0.0    0.0   0.0  0.0   \n",
       "2013-01-01        0.0  0.0   91.0   0.0    8.0   0.0    0.0    0.0   0.0  0.0   \n",
       "2014-01-01        0.0  0.0   80.0   0.0    0.0   0.0    0.0    0.0   0.0  0.0   \n",
       "2015-01-01        0.0  0.0   86.0   0.0    0.0   0.0    0.0    0.0   0.0  0.0   \n",
       "2016-01-01        0.0  0.0   46.0   0.0    0.0   0.0    0.0    0.0   0.0  0.0   \n",
       "\n",
       "platform         ...   SAT  SCD  SNES  TG16   WS    Wii  WiiU   X360     XB  \\\n",
       "year_of_release  ...                                                          \n",
       "1979-01-01       ...   0.0  0.0   0.0   0.0  0.0   34.0   0.0   30.0   21.0   \n",
       "1980-01-01       ...   0.0  0.0   0.0   0.0  0.0    0.0   0.0    0.0    0.0   \n",
       "1981-01-01       ...   0.0  0.0   0.0   0.0  0.0    0.0   0.0    0.0    0.0   \n",
       "1982-01-01       ...   0.0  0.0   0.0   0.0  0.0    0.0   0.0    0.0    0.0   \n",
       "1983-01-01       ...   0.0  0.0   0.0   0.0  0.0    0.0   0.0    0.0    0.0   \n",
       "1984-01-01       ...   0.0  0.0   0.0   0.0  0.0    0.0   0.0    0.0    0.0   \n",
       "1985-01-01       ...   0.0  0.0   0.0   0.0  0.0    0.0   0.0    0.0    0.0   \n",
       "1986-01-01       ...   0.0  0.0   0.0   0.0  0.0    0.0   0.0    0.0    0.0   \n",
       "1987-01-01       ...   0.0  0.0   0.0   0.0  0.0    0.0   0.0    0.0    0.0   \n",
       "1988-01-01       ...   0.0  0.0   0.0   0.0  0.0    0.0   0.0    0.0    0.0   \n",
       "1989-01-01       ...   0.0  0.0   0.0   0.0  0.0    0.0   0.0    0.0    0.0   \n",
       "1990-01-01       ...   0.0  0.0   4.0   0.0  0.0    0.0   0.0    0.0    0.0   \n",
       "1991-01-01       ...   0.0  0.0  24.0   0.0  0.0    0.0   0.0    0.0    0.0   \n",
       "1992-01-01       ...   0.0  0.0  21.0   0.0  0.0    0.0   0.0    0.0    0.0   \n",
       "1993-01-01       ...   0.0  1.0  46.0   0.0  0.0    0.0   0.0    0.0    0.0   \n",
       "1994-01-01       ...  19.0  5.0  53.0   0.0  0.0    0.0   0.0    0.0    0.0   \n",
       "1995-01-01       ...  52.0  0.0  54.0   2.0  0.0    0.0   0.0    0.0    0.0   \n",
       "1996-01-01       ...  38.0  0.0  30.0   0.0  0.0    0.0   0.0    0.0    0.0   \n",
       "1997-01-01       ...  34.0  0.0   4.0   0.0  0.0    0.0   0.0    0.0    0.0   \n",
       "1998-01-01       ...  29.0  0.0   2.0   0.0  0.0    0.0   0.0    0.0    0.0   \n",
       "1999-01-01       ...   1.0  0.0   1.0   0.0  2.0    0.0   0.0    0.0    0.0   \n",
       "2000-01-01       ...   0.0  0.0   0.0   0.0  2.0    0.0   0.0    0.0    1.0   \n",
       "2001-01-01       ...   0.0  0.0   0.0   0.0  2.0    0.0   0.0    0.0   33.0   \n",
       "2002-01-01       ...   0.0  0.0   0.0   0.0  0.0    0.0   0.0    0.0  158.0   \n",
       "2003-01-01       ...   0.0  0.0   0.0   0.0  0.0    0.0   0.0    0.0  189.0   \n",
       "2004-01-01       ...   0.0  0.0   0.0   0.0  0.0    0.0   0.0    0.0  177.0   \n",
       "2005-01-01       ...   0.0  0.0   0.0   0.0  0.0    0.0   0.0   18.0  179.0   \n",
       "2006-01-01       ...   0.0  0.0   0.0   0.0  0.0   44.0   0.0   93.0   62.0   \n",
       "2007-01-01       ...   0.0  0.0   0.0   0.0  0.0  185.0   0.0  123.0    3.0   \n",
       "2008-01-01       ...   0.0  0.0   0.0   0.0  0.0  282.0   0.0  146.0    1.0   \n",
       "2009-01-01       ...   0.0  0.0   0.0   0.0  0.0  325.0   0.0  172.0    0.0   \n",
       "2010-01-01       ...   0.0  0.0   0.0   0.0  0.0  253.0   0.0  182.0    0.0   \n",
       "2011-01-01       ...   0.0  0.0   0.0   0.0  0.0  143.0   0.0  206.0    0.0   \n",
       "2012-01-01       ...   0.0  0.0   0.0   0.0  0.0   31.0  32.0  106.0    0.0   \n",
       "2013-01-01       ...   0.0  0.0   0.0   0.0  0.0   12.0  42.0   75.0    0.0   \n",
       "2014-01-01       ...   0.0  0.0   0.0   0.0  0.0    6.0  31.0   63.0    0.0   \n",
       "2015-01-01       ...   0.0  0.0   0.0   0.0  0.0    4.0  28.0   35.0    0.0   \n",
       "2016-01-01       ...   0.0  0.0   0.0   0.0  0.0    1.0  14.0   13.0    0.0   \n",
       "\n",
       "platform         XOne  \n",
       "year_of_release        \n",
       "1979-01-01        0.0  \n",
       "1980-01-01        0.0  \n",
       "1981-01-01        0.0  \n",
       "1982-01-01        0.0  \n",
       "1983-01-01        0.0  \n",
       "1984-01-01        0.0  \n",
       "1985-01-01        0.0  \n",
       "1986-01-01        0.0  \n",
       "1987-01-01        0.0  \n",
       "1988-01-01        0.0  \n",
       "1989-01-01        0.0  \n",
       "1990-01-01        0.0  \n",
       "1991-01-01        0.0  \n",
       "1992-01-01        0.0  \n",
       "1993-01-01        0.0  \n",
       "1994-01-01        0.0  \n",
       "1995-01-01        0.0  \n",
       "1996-01-01        0.0  \n",
       "1997-01-01        0.0  \n",
       "1998-01-01        0.0  \n",
       "1999-01-01        0.0  \n",
       "2000-01-01        0.0  \n",
       "2001-01-01        0.0  \n",
       "2002-01-01        0.0  \n",
       "2003-01-01        0.0  \n",
       "2004-01-01        0.0  \n",
       "2005-01-01        0.0  \n",
       "2006-01-01        0.0  \n",
       "2007-01-01        0.0  \n",
       "2008-01-01        0.0  \n",
       "2009-01-01        0.0  \n",
       "2010-01-01        0.0  \n",
       "2011-01-01        0.0  \n",
       "2012-01-01        0.0  \n",
       "2013-01-01       19.0  \n",
       "2014-01-01       61.0  \n",
       "2015-01-01       80.0  \n",
       "2016-01-01       87.0  \n",
       "\n",
       "[38 rows x 31 columns]"
      ]
     },
     "execution_count": 23,
     "metadata": {},
     "output_type": "execute_result"
    }
   ],
   "source": [
    "timegame = total_data.pivot_table(index='year_of_release', columns='platform', values='name', aggfunc='count')\n",
    "timegame.fillna(0, inplace=True)\n",
    "timegame"
   ]
  },
  {
   "cell_type": "markdown",
   "metadata": {},
   "source": [
    "Определим топ 7:"
   ]
  },
  {
   "cell_type": "code",
   "execution_count": 24,
   "metadata": {},
   "outputs": [
    {
     "data": {
      "text/html": [
       "<div>\n",
       "<style scoped>\n",
       "    .dataframe tbody tr th:only-of-type {\n",
       "        vertical-align: middle;\n",
       "    }\n",
       "\n",
       "    .dataframe tbody tr th {\n",
       "        vertical-align: top;\n",
       "    }\n",
       "\n",
       "    .dataframe thead th {\n",
       "        text-align: right;\n",
       "    }\n",
       "</style>\n",
       "<table border=\"1\" class=\"dataframe\">\n",
       "  <thead>\n",
       "    <tr style=\"text-align: right;\">\n",
       "      <th></th>\n",
       "      <th>sum_sales</th>\n",
       "    </tr>\n",
       "    <tr>\n",
       "      <th>platform</th>\n",
       "      <th></th>\n",
       "    </tr>\n",
       "  </thead>\n",
       "  <tbody>\n",
       "    <tr>\n",
       "      <td>PS2</td>\n",
       "      <td>1255.77</td>\n",
       "    </tr>\n",
       "    <tr>\n",
       "      <td>X360</td>\n",
       "      <td>971.42</td>\n",
       "    </tr>\n",
       "    <tr>\n",
       "      <td>PS3</td>\n",
       "      <td>939.65</td>\n",
       "    </tr>\n",
       "    <tr>\n",
       "      <td>Wii</td>\n",
       "      <td>907.51</td>\n",
       "    </tr>\n",
       "    <tr>\n",
       "      <td>DS</td>\n",
       "      <td>806.12</td>\n",
       "    </tr>\n",
       "    <tr>\n",
       "      <td>PS</td>\n",
       "      <td>730.86</td>\n",
       "    </tr>\n",
       "    <tr>\n",
       "      <td>GBA</td>\n",
       "      <td>317.85</td>\n",
       "    </tr>\n",
       "  </tbody>\n",
       "</table>\n",
       "</div>"
      ],
      "text/plain": [
       "          sum_sales\n",
       "platform           \n",
       "PS2         1255.77\n",
       "X360         971.42\n",
       "PS3          939.65\n",
       "Wii          907.51\n",
       "DS           806.12\n",
       "PS           730.86\n",
       "GBA          317.85"
      ]
     },
     "execution_count": 24,
     "metadata": {},
     "output_type": "execute_result"
    }
   ],
   "source": [
    "top7 = data.pivot_table(index='platform', values='sum_sales', aggfunc='sum').nlargest(7, 'sum_sales')\n",
    "top7"
   ]
  },
  {
   "cell_type": "markdown",
   "metadata": {},
   "source": [
    "Построим график:"
   ]
  },
  {
   "cell_type": "code",
   "execution_count": 25,
   "metadata": {},
   "outputs": [
    {
     "data": {
      "text/plain": [
       "<matplotlib.axes._subplots.AxesSubplot at 0x7f90433d3b10>"
      ]
     },
     "execution_count": 25,
     "metadata": {},
     "output_type": "execute_result"
    },
    {
     "data": {
      "image/png": "[encoded data removed]",
      "text/plain": [
       "<Figure size 1800x1080 with 1 Axes>"
      ]
     },
     "metadata": {
      "needs_background": "light"
     },
     "output_type": "display_data"
    }
   ],
   "source": [
    "for platform in timegame.columns:\n",
    "    if platform not in top7.index:\n",
    "        timegame.drop(platform, axis=1, inplace=True)\n",
    "timegame = timegame[timegame.index >= '1996']\n",
    "timegame\n",
    "timegame.plot(figsize = (25,15))"
   ]
  },
  {
   "cell_type": "markdown",
   "metadata": {},
   "source": [
    "- DS - с 2003 года до 2014, примерно 11 лет;\n",
    "- GBA - с 2000 года до 2008, примерно 8 лет;\n",
    "- PS - с 1996 года до 2004, примерно 8 лет;\n",
    "- PS2 - с 1999 до 2012, примерно 13 лет;\n",
    "- PS3 - с 2005 по настоящее время;\n",
    "- Wii - с 2005 по настоящее время;\n",
    "- X360 - с 2004 по настоящее время;\n",
    "\n",
    "\n",
    "В среднем консоль живет около 10 лет. Причина не очень продолжительной жизни - развитие технологий. Постоянно обновляются различные комплектующие для платформ, постоянно выходят новые игры. Все это заставляет производителей обновлять линейку платформ."
   ]
  },
  {
   "cell_type": "markdown",
   "metadata": {},
   "source": [
    "Далее, определим актуальный период для анализа - 6 лет(с 2010 по 2016 года). Эти данные помогут сделать выводы и построить прогноз на 2017 год:"
   ]
  },
  {
   "cell_type": "code",
   "execution_count": 26,
   "metadata": {},
   "outputs": [],
   "source": [
    "total_data1 = total_data\n",
    "total_data = total_data.query('year_of_release >= 2010')"
   ]
  },
  {
   "cell_type": "code",
   "execution_count": 27,
   "metadata": {},
   "outputs": [
    {
     "data": {
      "text/html": [
       "<div>\n",
       "<style scoped>\n",
       "    .dataframe tbody tr th:only-of-type {\n",
       "        vertical-align: middle;\n",
       "    }\n",
       "\n",
       "    .dataframe tbody tr th {\n",
       "        vertical-align: top;\n",
       "    }\n",
       "\n",
       "    .dataframe thead th {\n",
       "        text-align: right;\n",
       "    }\n",
       "</style>\n",
       "<table border=\"1\" class=\"dataframe\">\n",
       "  <thead>\n",
       "    <tr style=\"text-align: right;\">\n",
       "      <th>platform</th>\n",
       "      <th>3DS</th>\n",
       "      <th>DS</th>\n",
       "      <th>PC</th>\n",
       "      <th>PS2</th>\n",
       "      <th>PS3</th>\n",
       "      <th>PS4</th>\n",
       "      <th>PSP</th>\n",
       "      <th>PSV</th>\n",
       "      <th>Wii</th>\n",
       "      <th>WiiU</th>\n",
       "      <th>X360</th>\n",
       "      <th>XOne</th>\n",
       "    </tr>\n",
       "    <tr>\n",
       "      <th>year_of_release</th>\n",
       "      <th></th>\n",
       "      <th></th>\n",
       "      <th></th>\n",
       "      <th></th>\n",
       "      <th></th>\n",
       "      <th></th>\n",
       "      <th></th>\n",
       "      <th></th>\n",
       "      <th></th>\n",
       "      <th></th>\n",
       "      <th></th>\n",
       "      <th></th>\n",
       "    </tr>\n",
       "  </thead>\n",
       "  <tbody>\n",
       "    <tr>\n",
       "      <td>2010-01-01</td>\n",
       "      <td>0.00</td>\n",
       "      <td>85.02</td>\n",
       "      <td>24.28</td>\n",
       "      <td>5.64</td>\n",
       "      <td>142.17</td>\n",
       "      <td>0.00</td>\n",
       "      <td>35.04</td>\n",
       "      <td>0.00</td>\n",
       "      <td>127.95</td>\n",
       "      <td>0.00</td>\n",
       "      <td>170.03</td>\n",
       "      <td>0.00</td>\n",
       "    </tr>\n",
       "    <tr>\n",
       "      <td>2011-01-01</td>\n",
       "      <td>63.20</td>\n",
       "      <td>26.18</td>\n",
       "      <td>35.03</td>\n",
       "      <td>0.45</td>\n",
       "      <td>156.78</td>\n",
       "      <td>0.00</td>\n",
       "      <td>17.82</td>\n",
       "      <td>4.63</td>\n",
       "      <td>59.65</td>\n",
       "      <td>0.00</td>\n",
       "      <td>143.84</td>\n",
       "      <td>0.00</td>\n",
       "    </tr>\n",
       "    <tr>\n",
       "      <td>2012-01-01</td>\n",
       "      <td>51.36</td>\n",
       "      <td>11.01</td>\n",
       "      <td>23.22</td>\n",
       "      <td>0.00</td>\n",
       "      <td>107.36</td>\n",
       "      <td>0.00</td>\n",
       "      <td>7.69</td>\n",
       "      <td>16.19</td>\n",
       "      <td>21.71</td>\n",
       "      <td>17.56</td>\n",
       "      <td>99.74</td>\n",
       "      <td>0.00</td>\n",
       "    </tr>\n",
       "    <tr>\n",
       "      <td>2013-01-01</td>\n",
       "      <td>56.57</td>\n",
       "      <td>1.54</td>\n",
       "      <td>12.38</td>\n",
       "      <td>0.00</td>\n",
       "      <td>113.25</td>\n",
       "      <td>25.99</td>\n",
       "      <td>3.14</td>\n",
       "      <td>10.59</td>\n",
       "      <td>8.59</td>\n",
       "      <td>21.65</td>\n",
       "      <td>88.58</td>\n",
       "      <td>18.96</td>\n",
       "    </tr>\n",
       "    <tr>\n",
       "      <td>2014-01-01</td>\n",
       "      <td>43.76</td>\n",
       "      <td>0.00</td>\n",
       "      <td>13.28</td>\n",
       "      <td>0.00</td>\n",
       "      <td>47.76</td>\n",
       "      <td>100.00</td>\n",
       "      <td>0.24</td>\n",
       "      <td>11.90</td>\n",
       "      <td>3.75</td>\n",
       "      <td>22.03</td>\n",
       "      <td>34.74</td>\n",
       "      <td>54.07</td>\n",
       "    </tr>\n",
       "    <tr>\n",
       "      <td>2015-01-01</td>\n",
       "      <td>27.78</td>\n",
       "      <td>0.00</td>\n",
       "      <td>8.52</td>\n",
       "      <td>0.00</td>\n",
       "      <td>16.82</td>\n",
       "      <td>118.90</td>\n",
       "      <td>0.12</td>\n",
       "      <td>6.25</td>\n",
       "      <td>1.14</td>\n",
       "      <td>16.35</td>\n",
       "      <td>11.96</td>\n",
       "      <td>60.14</td>\n",
       "    </tr>\n",
       "    <tr>\n",
       "      <td>2016-01-01</td>\n",
       "      <td>15.14</td>\n",
       "      <td>0.00</td>\n",
       "      <td>5.25</td>\n",
       "      <td>0.00</td>\n",
       "      <td>3.60</td>\n",
       "      <td>69.25</td>\n",
       "      <td>0.00</td>\n",
       "      <td>4.25</td>\n",
       "      <td>0.18</td>\n",
       "      <td>4.60</td>\n",
       "      <td>1.52</td>\n",
       "      <td>26.15</td>\n",
       "    </tr>\n",
       "  </tbody>\n",
       "</table>\n",
       "</div>"
      ],
      "text/plain": [
       "platform           3DS     DS     PC   PS2     PS3     PS4    PSP    PSV  \\\n",
       "year_of_release                                                            \n",
       "2010-01-01        0.00  85.02  24.28  5.64  142.17    0.00  35.04   0.00   \n",
       "2011-01-01       63.20  26.18  35.03  0.45  156.78    0.00  17.82   4.63   \n",
       "2012-01-01       51.36  11.01  23.22  0.00  107.36    0.00   7.69  16.19   \n",
       "2013-01-01       56.57   1.54  12.38  0.00  113.25   25.99   3.14  10.59   \n",
       "2014-01-01       43.76   0.00  13.28  0.00   47.76  100.00   0.24  11.90   \n",
       "2015-01-01       27.78   0.00   8.52  0.00   16.82  118.90   0.12   6.25   \n",
       "2016-01-01       15.14   0.00   5.25  0.00    3.60   69.25   0.00   4.25   \n",
       "\n",
       "platform            Wii   WiiU    X360   XOne  \n",
       "year_of_release                                \n",
       "2010-01-01       127.95   0.00  170.03   0.00  \n",
       "2011-01-01        59.65   0.00  143.84   0.00  \n",
       "2012-01-01        21.71  17.56   99.74   0.00  \n",
       "2013-01-01         8.59  21.65   88.58  18.96  \n",
       "2014-01-01         3.75  22.03   34.74  54.07  \n",
       "2015-01-01         1.14  16.35   11.96  60.14  \n",
       "2016-01-01         0.18   4.60    1.52  26.15  "
      ]
     },
     "execution_count": 27,
     "metadata": {},
     "output_type": "execute_result"
    }
   ],
   "source": [
    "timegamesale = total_data.pivot_table(index='year_of_release', columns='platform', values='sum_sales', aggfunc='sum')\n",
    "timegamesale.fillna(0, inplace=True)\n",
    "timegamesale = timegamesale.query('year_of_release >= 2010')\n",
    "timegamesale"
   ]
  },
  {
   "cell_type": "code",
   "execution_count": 28,
   "metadata": {},
   "outputs": [
    {
     "data": {
      "text/html": [
       "<div>\n",
       "<style scoped>\n",
       "    .dataframe tbody tr th:only-of-type {\n",
       "        vertical-align: middle;\n",
       "    }\n",
       "\n",
       "    .dataframe tbody tr th {\n",
       "        vertical-align: top;\n",
       "    }\n",
       "\n",
       "    .dataframe thead th {\n",
       "        text-align: right;\n",
       "    }\n",
       "</style>\n",
       "<table border=\"1\" class=\"dataframe\">\n",
       "  <thead>\n",
       "    <tr style=\"text-align: right;\">\n",
       "      <th></th>\n",
       "      <th>sum_sales</th>\n",
       "    </tr>\n",
       "    <tr>\n",
       "      <th>platform</th>\n",
       "      <th></th>\n",
       "    </tr>\n",
       "  </thead>\n",
       "  <tbody>\n",
       "    <tr>\n",
       "      <td>PS3</td>\n",
       "      <td>587.74</td>\n",
       "    </tr>\n",
       "    <tr>\n",
       "      <td>X360</td>\n",
       "      <td>550.41</td>\n",
       "    </tr>\n",
       "    <tr>\n",
       "      <td>PS4</td>\n",
       "      <td>314.14</td>\n",
       "    </tr>\n",
       "    <tr>\n",
       "      <td>3DS</td>\n",
       "      <td>257.81</td>\n",
       "    </tr>\n",
       "    <tr>\n",
       "      <td>Wii</td>\n",
       "      <td>222.97</td>\n",
       "    </tr>\n",
       "    <tr>\n",
       "      <td>XOne</td>\n",
       "      <td>159.32</td>\n",
       "    </tr>\n",
       "    <tr>\n",
       "      <td>DS</td>\n",
       "      <td>123.75</td>\n",
       "    </tr>\n",
       "    <tr>\n",
       "      <td>PC</td>\n",
       "      <td>121.96</td>\n",
       "    </tr>\n",
       "  </tbody>\n",
       "</table>\n",
       "</div>"
      ],
      "text/plain": [
       "          sum_sales\n",
       "platform           \n",
       "PS3          587.74\n",
       "X360         550.41\n",
       "PS4          314.14\n",
       "3DS          257.81\n",
       "Wii          222.97\n",
       "XOne         159.32\n",
       "DS           123.75\n",
       "PC           121.96"
      ]
     },
     "execution_count": 28,
     "metadata": {},
     "output_type": "execute_result"
    }
   ],
   "source": [
    "top8 = total_data.pivot_table(index='platform', values='sum_sales', aggfunc='sum').nlargest(8, 'sum_sales')\n",
    "top8"
   ]
  },
  {
   "cell_type": "code",
   "execution_count": 29,
   "metadata": {},
   "outputs": [
    {
     "data": {
      "text/plain": [
       "<matplotlib.axes._subplots.AxesSubplot at 0x7f904365fa10>"
      ]
     },
     "execution_count": 29,
     "metadata": {},
     "output_type": "execute_result"
    },
    {
     "data": {
      "image/png": "[encoded data removed]",
      "text/plain": [
       "<Figure size 1800x1080 with 1 Axes>"
      ]
     },
     "metadata": {
      "needs_background": "light"
     },
     "output_type": "display_data"
    }
   ],
   "source": [
    "for platform in timegamesale.columns:\n",
    "    if platform not in top8.index:\n",
    "        timegamesale.drop(platform, axis=1, inplace=True)\n",
    "timegamesale = timegamesale[timegamesale.index >= '2012']\n",
    "timegamesale\n",
    "timegamesale.plot(figsize = (25,15))"
   ]
  },
  {
   "cell_type": "markdown",
   "metadata": {},
   "source": [
    "На 2016 год лидеры по объемам продаж: PS4 и XOne. Если строить планы на 2017 год, необходимо чтобы игры на данные платформы всегда были в наличии."
   ]
  },
  {
   "cell_type": "markdown",
   "metadata": {},
   "source": [
    "Платформы и суммы их продаж в различных регионах мира"
   ]
  },
  {
   "cell_type": "code",
   "execution_count": 30,
   "metadata": {
    "scrolled": false
   },
   "outputs": [
    {
     "data": {
      "text/html": [
       "<div>\n",
       "<style scoped>\n",
       "    .dataframe tbody tr th:only-of-type {\n",
       "        vertical-align: middle;\n",
       "    }\n",
       "\n",
       "    .dataframe tbody tr th {\n",
       "        vertical-align: top;\n",
       "    }\n",
       "\n",
       "    .dataframe thead tr th {\n",
       "        text-align: left;\n",
       "    }\n",
       "</style>\n",
       "<table border=\"1\" class=\"dataframe\">\n",
       "  <thead>\n",
       "    <tr>\n",
       "      <th></th>\n",
       "      <th>platform</th>\n",
       "      <th colspan=\"5\" halign=\"left\">sum</th>\n",
       "    </tr>\n",
       "    <tr>\n",
       "      <th></th>\n",
       "      <th></th>\n",
       "      <th>eu_sales</th>\n",
       "      <th>jp_sales</th>\n",
       "      <th>na_sales</th>\n",
       "      <th>other_sales</th>\n",
       "      <th>sum_sales</th>\n",
       "    </tr>\n",
       "  </thead>\n",
       "  <tbody>\n",
       "    <tr>\n",
       "      <td>0</td>\n",
       "      <td>3DS</td>\n",
       "      <td>61.27</td>\n",
       "      <td>100.62</td>\n",
       "      <td>82.65</td>\n",
       "      <td>13.27</td>\n",
       "      <td>257.81</td>\n",
       "    </tr>\n",
       "    <tr>\n",
       "      <td>1</td>\n",
       "      <td>DS</td>\n",
       "      <td>28.06</td>\n",
       "      <td>27.90</td>\n",
       "      <td>59.66</td>\n",
       "      <td>8.13</td>\n",
       "      <td>123.75</td>\n",
       "    </tr>\n",
       "    <tr>\n",
       "      <td>2</td>\n",
       "      <td>PC</td>\n",
       "      <td>68.82</td>\n",
       "      <td>0.00</td>\n",
       "      <td>39.07</td>\n",
       "      <td>14.07</td>\n",
       "      <td>121.96</td>\n",
       "    </tr>\n",
       "    <tr>\n",
       "      <td>3</td>\n",
       "      <td>PS2</td>\n",
       "      <td>1.67</td>\n",
       "      <td>0.80</td>\n",
       "      <td>2.32</td>\n",
       "      <td>1.30</td>\n",
       "      <td>6.09</td>\n",
       "    </tr>\n",
       "    <tr>\n",
       "      <td>4</td>\n",
       "      <td>PS3</td>\n",
       "      <td>213.60</td>\n",
       "      <td>59.26</td>\n",
       "      <td>229.25</td>\n",
       "      <td>85.63</td>\n",
       "      <td>587.74</td>\n",
       "    </tr>\n",
       "    <tr>\n",
       "      <td>5</td>\n",
       "      <td>PS4</td>\n",
       "      <td>141.09</td>\n",
       "      <td>15.96</td>\n",
       "      <td>108.74</td>\n",
       "      <td>48.35</td>\n",
       "      <td>314.14</td>\n",
       "    </tr>\n",
       "    <tr>\n",
       "      <td>6</td>\n",
       "      <td>PSP</td>\n",
       "      <td>7.59</td>\n",
       "      <td>42.20</td>\n",
       "      <td>9.65</td>\n",
       "      <td>4.61</td>\n",
       "      <td>64.05</td>\n",
       "    </tr>\n",
       "    <tr>\n",
       "      <td>7</td>\n",
       "      <td>PSV</td>\n",
       "      <td>13.07</td>\n",
       "      <td>21.84</td>\n",
       "      <td>12.47</td>\n",
       "      <td>6.43</td>\n",
       "      <td>53.81</td>\n",
       "    </tr>\n",
       "    <tr>\n",
       "      <td>8</td>\n",
       "      <td>Wii</td>\n",
       "      <td>65.91</td>\n",
       "      <td>17.75</td>\n",
       "      <td>121.20</td>\n",
       "      <td>18.11</td>\n",
       "      <td>222.97</td>\n",
       "    </tr>\n",
       "    <tr>\n",
       "      <td>9</td>\n",
       "      <td>WiiU</td>\n",
       "      <td>25.13</td>\n",
       "      <td>13.01</td>\n",
       "      <td>38.10</td>\n",
       "      <td>5.95</td>\n",
       "      <td>82.19</td>\n",
       "    </tr>\n",
       "    <tr>\n",
       "      <td>10</td>\n",
       "      <td>X360</td>\n",
       "      <td>163.41</td>\n",
       "      <td>5.46</td>\n",
       "      <td>334.18</td>\n",
       "      <td>47.36</td>\n",
       "      <td>550.41</td>\n",
       "    </tr>\n",
       "    <tr>\n",
       "      <td>11</td>\n",
       "      <td>XOne</td>\n",
       "      <td>51.59</td>\n",
       "      <td>0.34</td>\n",
       "      <td>93.12</td>\n",
       "      <td>14.27</td>\n",
       "      <td>159.32</td>\n",
       "    </tr>\n",
       "  </tbody>\n",
       "</table>\n",
       "</div>"
      ],
      "text/plain": [
       "   platform      sum                                        \n",
       "            eu_sales jp_sales na_sales other_sales sum_sales\n",
       "0       3DS    61.27   100.62    82.65       13.27    257.81\n",
       "1        DS    28.06    27.90    59.66        8.13    123.75\n",
       "2        PC    68.82     0.00    39.07       14.07    121.96\n",
       "3       PS2     1.67     0.80     2.32        1.30      6.09\n",
       "4       PS3   213.60    59.26   229.25       85.63    587.74\n",
       "5       PS4   141.09    15.96   108.74       48.35    314.14\n",
       "6       PSP     7.59    42.20     9.65        4.61     64.05\n",
       "7       PSV    13.07    21.84    12.47        6.43     53.81\n",
       "8       Wii    65.91    17.75   121.20       18.11    222.97\n",
       "9      WiiU    25.13    13.01    38.10        5.95     82.19\n",
       "10     X360   163.41     5.46   334.18       47.36    550.41\n",
       "11     XOne    51.59     0.34    93.12       14.27    159.32"
      ]
     },
     "execution_count": 30,
     "metadata": {},
     "output_type": "execute_result"
    }
   ],
   "source": [
    "max_data = total_data.pivot_table(index='platform', values=['na_sales', 'eu_sales', 'jp_sales', 'other_sales', 'sum_sales'], aggfunc = ['sum'])\n",
    "max_data.reset_index()"
   ]
  },
  {
   "cell_type": "markdown",
   "metadata": {},
   "source": [
    "Построим график «ящик с усами» по глобальным продажам игр в разбивке по платформам:"
   ]
  },
  {
   "cell_type": "code",
   "execution_count": 31,
   "metadata": {
    "scrolled": false
   },
   "outputs": [
    {
     "data": {
      "text/plain": [
       "count    5277.000000\n",
       "mean        0.482138\n",
       "std         1.235982\n",
       "min         0.010000\n",
       "25%         0.040000\n",
       "50%         0.130000\n",
       "75%         0.400000\n",
       "max        21.820000\n",
       "Name: sum_sales, dtype: float64"
      ]
     },
     "execution_count": 31,
     "metadata": {},
     "output_type": "execute_result"
    },
    {
     "data": {
      "image/png": "[encoded data removed]",
      "text/plain": [
       "<Figure size 1800x720 with 1 Axes>"
      ]
     },
     "metadata": {
      "needs_background": "light"
     },
     "output_type": "display_data"
    }
   ],
   "source": [
    "total_data.boxplot(column='sum_sales', figsize=(25,10))\n",
    "plt.ylim(0, 2)\n",
    "plt.title('Глобальные продажи игр')\n",
    "total_data['sum_sales'].describe()"
   ]
  },
  {
   "cell_type": "markdown",
   "metadata": {},
   "source": [
    "Средние продажи игр составляют около 0,4 млн. долларов. Медиана - 0,15 млн. долларов. Верхняя граница предела, за которыми уже определяются аномалии - около 0,95 млн. долларов."
   ]
  },
  {
   "cell_type": "code",
   "execution_count": 32,
   "metadata": {},
   "outputs": [
    {
     "name": "stderr",
     "output_type": "stream",
     "text": [
      "/opt/conda/lib/python3.7/site-packages/numpy/core/_asarray.py:83: VisibleDeprecationWarning: Creating an ndarray from ragged nested sequences (which is a list-or-tuple of lists-or-tuples-or ndarrays with different lengths or shapes) is deprecated. If you meant to do this, you must specify 'dtype=object' when creating the ndarray\n",
      "  return array(a, dtype, copy=False, order=order)\n"
     ]
    },
    {
     "data": {
      "image/png": "[encoded data removed]",
      "text/plain": [
       "<Figure size 1800x720 with 1 Axes>"
      ]
     },
     "metadata": {
      "needs_background": "light"
     },
     "output_type": "display_data"
    }
   ],
   "source": [
    "total_platform = total_data.query('platform == \"PS4\" or platform == \"X360\" or platform == \"PS3\" or platform == \"Wii\" or platform == \"XOne\"')\n",
    "total_platform.boxplot(column='sum_sales', by='platform', fontsize=25, figsize=(25,10))\n",
    "plt.ylim(0, 2)\n",
    "plt.title('График «ящик с усами» для самых популярных платформ')\n",
    "plt.xlabel('Название платформы')\n",
    "plt.ylabel('Сумма продаж')\n",
    "plt.show()"
   ]
  },
  {
   "cell_type": "markdown",
   "metadata": {},
   "source": [
    "Показатели:\n",
    "- Верхняя граница: \"X360\" - около 1.75, \"PS3\" - около 1.55, \"PS4\" - около 1.75, \"Wii\" - около 0.9, \"XOne\" - около 1.55.\n",
    "- Медиана: \"X360\" - около 0.25, \"PS3\" - около 0.25, \"PS4\" - около 0.2, \"Wii\" - около 0.15, \"XOne\" - около 0.25.\n",
    "- Среди лидеров: платформы \"X360\", \"XOne\", \"PS4\" и \"PS3\".\n",
    "- Среди аутсайдеров: платформа \"Wii\"."
   ]
  },
  {
   "cell_type": "markdown",
   "metadata": {},
   "source": [
    "Посмотрим, как влияют на продажи внутри одной популярной платформы оценки пользователей и критиков на примере X360: "
   ]
  },
  {
   "cell_type": "markdown",
   "metadata": {},
   "source": [
    "Диаграмму рассеяния и корреляция между оценками и продажами:"
   ]
  },
  {
   "cell_type": "code",
   "execution_count": 33,
   "metadata": {},
   "outputs": [
    {
     "data": {
      "text/plain": [
       "0.2813138469777321"
      ]
     },
     "execution_count": 33,
     "metadata": {},
     "output_type": "execute_result"
    },
    {
     "data": {
      "image/png": "[encoded data removed]",
      "text/plain": [
       "<Figure size 720x432 with 1 Axes>"
      ]
     },
     "metadata": {
      "needs_background": "light"
     },
     "output_type": "display_data"
    }
   ],
   "source": [
    "X360 = total_data1[(total_data1['platform'] == 'X360') & (total_data1['critic_score'] > 0)].copy()\n",
    "X360.plot(kind='scatter', x='critic_score', y='sum_sales', ec='black', figsize=(10,6))\n",
    "plt.title('Продажи и оценка критиков')\n",
    "plt.xlabel('Оценка критиков')\n",
    "plt.ylabel('Сумма продаж')\n",
    "total_data['critic_score'].corr(total_data['sum_sales'])"
   ]
  },
  {
   "cell_type": "code",
   "execution_count": 34,
   "metadata": {},
   "outputs": [
    {
     "data": {
      "text/plain": [
       "0.2255385973780669"
      ]
     },
     "execution_count": 34,
     "metadata": {},
     "output_type": "execute_result"
    },
    {
     "data": {
      "image/png": "[encoded data removed]",
      "text/plain": [
       "<Figure size 720x432 with 1 Axes>"
      ]
     },
     "metadata": {
      "needs_background": "light"
     },
     "output_type": "display_data"
    }
   ],
   "source": [
    "X360 = total_data1[(total_data1['platform'] == 'X360') & (total_data1['user_score'] > 0)].copy()\n",
    "X360.plot(kind='scatter', x='critic_score', y='sum_sales', ec='black', figsize=(10,6))\n",
    "plt.title('Продажи и оценка пользователей')\n",
    "plt.xlabel('Оценка пользователей')\n",
    "plt.ylabel('Сумма продаж')\n",
    "total_data['user_score'].corr(total_data['sum_sales'])"
   ]
  },
  {
   "cell_type": "markdown",
   "metadata": {},
   "source": [
    "Прямой связи между оценками и продажами нет, присутсвует небольшая закономерность. Данная закономерность относится ко всем играм, так как пользователи перед выбором игры, читают отзывы о игре и смотрят её рейтинг."
   ]
  },
  {
   "cell_type": "markdown",
   "metadata": {},
   "source": [
    "Посмотрите на общее распределение игр по жанрам. Что можно сказать о самых прибыльных жанрах? Выделяются ли жанры с высокими и низкими продажами?"
   ]
  },
  {
   "cell_type": "code",
   "execution_count": 35,
   "metadata": {},
   "outputs": [
    {
     "name": "stdout",
     "output_type": "stream",
     "text": [
      "              sum_amount  count_amount\n",
      "genre                                 \n",
      "Action           1744.17          3369\n",
      "Sports           1331.27          2348\n",
      "Shooter          1052.45          1323\n",
      "Role-Playing      934.56          1498\n",
      "Platform          827.77           888\n",
      "Misc              802.51          1750\n",
      "Racing            728.67          1249\n",
      "Fighting          447.53           849\n",
      "Simulation        389.97           873\n",
      "Puzzle            242.57           580\n",
      "Adventure         237.59          1303\n",
      "Strategy          174.23           683\n"
     ]
    },
    {
     "data": {
      "text/plain": [
       "Text(0, 0.5, 'Количиство')"
      ]
     },
     "execution_count": 35,
     "metadata": {},
     "output_type": "execute_result"
    },
    {
     "data": {
      "image/png": "[encoded data removed]",
      "text/plain": [
       "<Figure size 1080x360 with 1 Axes>"
      ]
     },
     "metadata": {
      "needs_background": "light"
     },
     "output_type": "display_data"
    }
   ],
   "source": [
    "genre_group = data.pivot_table(index=['genre'], values='sum_sales', aggfunc=['sum', 'count'])\n",
    "genre_group.reset_index()\n",
    "genre_group.columns = ['sum_amount', 'count_amount']\n",
    "print(genre_group.sort_values('sum_amount', ascending=False))\n",
    "genre_group.sort_values('sum_amount', ascending=False).plot(kind='bar', figsize=(15,5), ec='black')\n",
    "plt.title('Популярные жанры')\n",
    "plt.legend(['Сумма продаж', 'Кол-во продаж'])\n",
    "plt.xlabel('Название жанра')\n",
    "plt.ylabel('Количиство')\n"
   ]
  },
  {
   "cell_type": "markdown",
   "metadata": {},
   "source": [
    "Самые популярные жанры: Action, Sports, Shooter. Они являются лидерами как по сумме продаж, так и по количеству. Также присутствуют жанры с большим количеством продаж и небольшой суммой продаж, это жанр Misc и Adventure, скорее всего стоимость игр в данных жанрах дешевле, по сравнению с аналогами."
   ]
  },
  {
   "cell_type": "code",
   "execution_count": 36,
   "metadata": {},
   "outputs": [
    {
     "name": "stdout",
     "output_type": "stream",
     "text": [
      "                  mean  median\n",
      "genre                         \n",
      "Platform      0.932173    0.27\n",
      "Shooter       0.795503    0.24\n",
      "Role-Playing  0.623872    0.18\n",
      "Racing        0.583403    0.19\n",
      "Sports        0.566980    0.22\n",
      "Fighting      0.527126    0.21\n",
      "Action        0.517711    0.19\n",
      "Misc          0.458577    0.16\n",
      "Simulation    0.446701    0.15\n",
      "Puzzle        0.418224    0.11\n",
      "Strategy      0.255095    0.10\n",
      "Adventure     0.182341    0.05\n"
     ]
    },
    {
     "data": {
      "text/plain": [
       "Text(0, 0.5, 'Количиство')"
      ]
     },
     "execution_count": 36,
     "metadata": {},
     "output_type": "execute_result"
    },
    {
     "data": {
      "image/png": "[encoded data removed]",
      "text/plain": [
       "<Figure size 1080x360 with 1 Axes>"
      ]
     },
     "metadata": {
      "needs_background": "light"
     },
     "output_type": "display_data"
    }
   ],
   "source": [
    "genre_group = data.pivot_table(index=['genre'], values='sum_sales', aggfunc=['mean', 'median'])\n",
    "genre_group.reset_index()\n",
    "genre_group.columns = ['mean', 'median']\n",
    "print(genre_group.sort_values('mean', ascending=False))\n",
    "genre_group.sort_values('mean', ascending=False).plot(kind='bar', figsize=(15,5), ec='black')\n",
    "plt.title('Популярные жанры по ср. стоимости и медиане')\n",
    "plt.legend(['Среднее продаж', 'Медиана продаж'])\n",
    "plt.xlabel('Название жанра')\n",
    "plt.ylabel('Количиство')"
   ]
  },
  {
   "cell_type": "markdown",
   "metadata": {},
   "source": [
    "По средней стоимости и медиане суммы продаж самые популярные жанры: Platform, Shooter, Role-Playing. "
   ]
  },
  {
   "cell_type": "markdown",
   "metadata": {},
   "source": [
    "## Портрет пользователя каждого региона\n",
    "<a id='cell4'></a>"
   ]
  },
  {
   "cell_type": "markdown",
   "metadata": {},
   "source": [
    "Самые популярные платформы (топ-5) каждого региона (NA, EU, JP):"
   ]
  },
  {
   "cell_type": "code",
   "execution_count": 37,
   "metadata": {},
   "outputs": [
    {
     "data": {
      "text/html": [
       "<div>\n",
       "<style scoped>\n",
       "    .dataframe tbody tr th:only-of-type {\n",
       "        vertical-align: middle;\n",
       "    }\n",
       "\n",
       "    .dataframe tbody tr th {\n",
       "        vertical-align: top;\n",
       "    }\n",
       "\n",
       "    .dataframe thead th {\n",
       "        text-align: right;\n",
       "    }\n",
       "</style>\n",
       "<table border=\"1\" class=\"dataframe\">\n",
       "  <thead>\n",
       "    <tr style=\"text-align: right;\">\n",
       "      <th></th>\n",
       "      <th>na_sales</th>\n",
       "    </tr>\n",
       "    <tr>\n",
       "      <th>platform</th>\n",
       "      <th></th>\n",
       "    </tr>\n",
       "  </thead>\n",
       "  <tbody>\n",
       "    <tr>\n",
       "      <td>X360</td>\n",
       "      <td>334.18</td>\n",
       "    </tr>\n",
       "    <tr>\n",
       "      <td>PS3</td>\n",
       "      <td>229.25</td>\n",
       "    </tr>\n",
       "    <tr>\n",
       "      <td>Wii</td>\n",
       "      <td>121.20</td>\n",
       "    </tr>\n",
       "    <tr>\n",
       "      <td>PS4</td>\n",
       "      <td>108.74</td>\n",
       "    </tr>\n",
       "    <tr>\n",
       "      <td>XOne</td>\n",
       "      <td>93.12</td>\n",
       "    </tr>\n",
       "  </tbody>\n",
       "</table>\n",
       "</div>"
      ],
      "text/plain": [
       "          na_sales\n",
       "platform          \n",
       "X360        334.18\n",
       "PS3         229.25\n",
       "Wii         121.20\n",
       "PS4         108.74\n",
       "XOne         93.12"
      ]
     },
     "execution_count": 37,
     "metadata": {},
     "output_type": "execute_result"
    }
   ],
   "source": [
    "# Популярные платформы в Северной Америке\n",
    "na_total = total_data.pivot_table(index=['platform'], values=['na_sales'], aggfunc=['sum'])\n",
    "na_total.reset_index()\n",
    "na_total.columns = ['na_sales']\n",
    "na_total = na_total.sort_values(by='na_sales', ascending=False).head(5)\n",
    "na_total"
   ]
  },
  {
   "cell_type": "code",
   "execution_count": 38,
   "metadata": {},
   "outputs": [
    {
     "data": {
      "text/html": [
       "<div>\n",
       "<style scoped>\n",
       "    .dataframe tbody tr th:only-of-type {\n",
       "        vertical-align: middle;\n",
       "    }\n",
       "\n",
       "    .dataframe tbody tr th {\n",
       "        vertical-align: top;\n",
       "    }\n",
       "\n",
       "    .dataframe thead th {\n",
       "        text-align: right;\n",
       "    }\n",
       "</style>\n",
       "<table border=\"1\" class=\"dataframe\">\n",
       "  <thead>\n",
       "    <tr style=\"text-align: right;\">\n",
       "      <th></th>\n",
       "      <th>eu_total</th>\n",
       "    </tr>\n",
       "    <tr>\n",
       "      <th>platform</th>\n",
       "      <th></th>\n",
       "    </tr>\n",
       "  </thead>\n",
       "  <tbody>\n",
       "    <tr>\n",
       "      <td>PS3</td>\n",
       "      <td>213.60</td>\n",
       "    </tr>\n",
       "    <tr>\n",
       "      <td>X360</td>\n",
       "      <td>163.41</td>\n",
       "    </tr>\n",
       "    <tr>\n",
       "      <td>PS4</td>\n",
       "      <td>141.09</td>\n",
       "    </tr>\n",
       "    <tr>\n",
       "      <td>PC</td>\n",
       "      <td>68.82</td>\n",
       "    </tr>\n",
       "    <tr>\n",
       "      <td>Wii</td>\n",
       "      <td>65.91</td>\n",
       "    </tr>\n",
       "  </tbody>\n",
       "</table>\n",
       "</div>"
      ],
      "text/plain": [
       "          eu_total\n",
       "platform          \n",
       "PS3         213.60\n",
       "X360        163.41\n",
       "PS4         141.09\n",
       "PC           68.82\n",
       "Wii          65.91"
      ]
     },
     "execution_count": 38,
     "metadata": {},
     "output_type": "execute_result"
    }
   ],
   "source": [
    "# Популярные платформы в Европе\n",
    "eu_total = total_data.pivot_table(index=['platform'], values=['eu_sales'], aggfunc=['sum'])\n",
    "eu_total.reset_index()\n",
    "eu_total.columns = ['eu_total']\n",
    "eu_total = eu_total.sort_values(by='eu_total', ascending=False).head(5)\n",
    "eu_total"
   ]
  },
  {
   "cell_type": "code",
   "execution_count": 39,
   "metadata": {},
   "outputs": [
    {
     "data": {
      "text/html": [
       "<div>\n",
       "<style scoped>\n",
       "    .dataframe tbody tr th:only-of-type {\n",
       "        vertical-align: middle;\n",
       "    }\n",
       "\n",
       "    .dataframe tbody tr th {\n",
       "        vertical-align: top;\n",
       "    }\n",
       "\n",
       "    .dataframe thead th {\n",
       "        text-align: right;\n",
       "    }\n",
       "</style>\n",
       "<table border=\"1\" class=\"dataframe\">\n",
       "  <thead>\n",
       "    <tr style=\"text-align: right;\">\n",
       "      <th></th>\n",
       "      <th>jp_total</th>\n",
       "    </tr>\n",
       "    <tr>\n",
       "      <th>platform</th>\n",
       "      <th></th>\n",
       "    </tr>\n",
       "  </thead>\n",
       "  <tbody>\n",
       "    <tr>\n",
       "      <td>3DS</td>\n",
       "      <td>100.62</td>\n",
       "    </tr>\n",
       "    <tr>\n",
       "      <td>PS3</td>\n",
       "      <td>59.26</td>\n",
       "    </tr>\n",
       "    <tr>\n",
       "      <td>PSP</td>\n",
       "      <td>42.20</td>\n",
       "    </tr>\n",
       "    <tr>\n",
       "      <td>DS</td>\n",
       "      <td>27.90</td>\n",
       "    </tr>\n",
       "    <tr>\n",
       "      <td>PSV</td>\n",
       "      <td>21.84</td>\n",
       "    </tr>\n",
       "  </tbody>\n",
       "</table>\n",
       "</div>"
      ],
      "text/plain": [
       "          jp_total\n",
       "platform          \n",
       "3DS         100.62\n",
       "PS3          59.26\n",
       "PSP          42.20\n",
       "DS           27.90\n",
       "PSV          21.84"
      ]
     },
     "execution_count": 39,
     "metadata": {},
     "output_type": "execute_result"
    }
   ],
   "source": [
    "# Популярные платформы в Японии\n",
    "jp_total = total_data.pivot_table(index=['platform'], values=['jp_sales'], aggfunc=['sum'])\n",
    "jp_total.reset_index()\n",
    "jp_total.columns = ['jp_total']\n",
    "jp_total = jp_total.sort_values(by='jp_total', ascending=False).head(5)\n",
    "jp_total"
   ]
  },
  {
   "cell_type": "code",
   "execution_count": 40,
   "metadata": {},
   "outputs": [
    {
     "data": {
      "text/html": [
       "<div>\n",
       "<style scoped>\n",
       "    .dataframe tbody tr th:only-of-type {\n",
       "        vertical-align: middle;\n",
       "    }\n",
       "\n",
       "    .dataframe tbody tr th {\n",
       "        vertical-align: top;\n",
       "    }\n",
       "\n",
       "    .dataframe thead th {\n",
       "        text-align: right;\n",
       "    }\n",
       "</style>\n",
       "<table border=\"1\" class=\"dataframe\">\n",
       "  <thead>\n",
       "    <tr style=\"text-align: right;\">\n",
       "      <th></th>\n",
       "      <th>other_total</th>\n",
       "    </tr>\n",
       "    <tr>\n",
       "      <th>platform</th>\n",
       "      <th></th>\n",
       "    </tr>\n",
       "  </thead>\n",
       "  <tbody>\n",
       "    <tr>\n",
       "      <td>PS3</td>\n",
       "      <td>85.63</td>\n",
       "    </tr>\n",
       "    <tr>\n",
       "      <td>PS4</td>\n",
       "      <td>48.35</td>\n",
       "    </tr>\n",
       "    <tr>\n",
       "      <td>X360</td>\n",
       "      <td>47.36</td>\n",
       "    </tr>\n",
       "    <tr>\n",
       "      <td>Wii</td>\n",
       "      <td>18.11</td>\n",
       "    </tr>\n",
       "    <tr>\n",
       "      <td>XOne</td>\n",
       "      <td>14.27</td>\n",
       "    </tr>\n",
       "  </tbody>\n",
       "</table>\n",
       "</div>"
      ],
      "text/plain": [
       "          other_total\n",
       "platform             \n",
       "PS3             85.63\n",
       "PS4             48.35\n",
       "X360            47.36\n",
       "Wii             18.11\n",
       "XOne            14.27"
      ]
     },
     "execution_count": 40,
     "metadata": {},
     "output_type": "execute_result"
    }
   ],
   "source": [
    "# Популярные платформы в других странах\n",
    "other_total = total_data.pivot_table(index=['platform'], values=['other_sales'], aggfunc=['sum'])\n",
    "other_total.reset_index()\n",
    "other_total.columns = ['other_total']\n",
    "other_total = other_total.sort_values(by='other_total', ascending=False).head(5)\n",
    "other_total"
   ]
  },
  {
   "cell_type": "code",
   "execution_count": 41,
   "metadata": {},
   "outputs": [
    {
     "data": {
      "text/plain": [
       "Text(0, 0.5, 'Сумма продаж')"
      ]
     },
     "execution_count": 41,
     "metadata": {},
     "output_type": "execute_result"
    },
    {
     "data": {
      "image/png": "[encoded data removed]",
      "text/plain": [
       "<Figure size 432x288 with 1 Axes>"
      ]
     },
     "metadata": {
      "needs_background": "light"
     },
     "output_type": "display_data"
    },
    {
     "data": {
      "image/png": "[encoded data removed]",
      "text/plain": [
       "<Figure size 432x288 with 1 Axes>"
      ]
     },
     "metadata": {
      "needs_background": "light"
     },
     "output_type": "display_data"
    },
    {
     "data": {
      "image/png": "[encoded data removed]",
      "text/plain": [
       "<Figure size 432x288 with 1 Axes>"
      ]
     },
     "metadata": {
      "needs_background": "light"
     },
     "output_type": "display_data"
    },
    {
     "data": {
      "image/png": "[encoded data removed]",
      "text/plain": [
       "<Figure size 432x288 with 1 Axes>"
      ]
     },
     "metadata": {
      "needs_background": "light"
     },
     "output_type": "display_data"
    }
   ],
   "source": [
    "na_total.plot(kind='bar')\n",
    "plt.title('Популярные платформы в Северной Америке')\n",
    "plt.legend(['Сумма продаж'])\n",
    "plt.xlabel('Название платформы')\n",
    "plt.ylabel('Сумма продаж')\n",
    "\n",
    "eu_total.plot(kind='bar')\n",
    "plt.title('Популярные платформы в Европе')\n",
    "plt.legend(['Сумма продаж'])\n",
    "plt.xlabel('Название платформы')\n",
    "plt.ylabel('Сумма продаж')\n",
    "\n",
    "jp_total.plot(kind='bar')\n",
    "plt.title('Популярные платформы в Японии')\n",
    "plt.legend(['Сумма продаж'])\n",
    "plt.xlabel('Название платформы')\n",
    "plt.ylabel('Сумма продаж')\n",
    "\n",
    "other_total.plot(kind='bar')\n",
    "plt.title('Популярные платформы в других странах')\n",
    "plt.legend(['Сумма продаж'])\n",
    "plt.xlabel('Название платформы')\n",
    "plt.ylabel('Сумма продаж')"
   ]
  },
  {
   "cell_type": "markdown",
   "metadata": {},
   "source": [
    "PS4, PS3, X360, Wii - примерно одинаково популярны во всём мире. Совершенно иной набор популярных платформ в Японии."
   ]
  },
  {
   "cell_type": "markdown",
   "metadata": {},
   "source": [
    "Самые популярные жанры (топ-5) каждого региона (NA, EU, JP):"
   ]
  },
  {
   "cell_type": "code",
   "execution_count": 42,
   "metadata": {},
   "outputs": [
    {
     "data": {
      "text/html": [
       "<div>\n",
       "<style scoped>\n",
       "    .dataframe tbody tr th:only-of-type {\n",
       "        vertical-align: middle;\n",
       "    }\n",
       "\n",
       "    .dataframe tbody tr th {\n",
       "        vertical-align: top;\n",
       "    }\n",
       "\n",
       "    .dataframe thead th {\n",
       "        text-align: right;\n",
       "    }\n",
       "</style>\n",
       "<table border=\"1\" class=\"dataframe\">\n",
       "  <thead>\n",
       "    <tr style=\"text-align: right;\">\n",
       "      <th></th>\n",
       "      <th>na_sales</th>\n",
       "    </tr>\n",
       "    <tr>\n",
       "      <th>genre</th>\n",
       "      <th></th>\n",
       "    </tr>\n",
       "  </thead>\n",
       "  <tbody>\n",
       "    <tr>\n",
       "      <td>Action</td>\n",
       "      <td>290.64</td>\n",
       "    </tr>\n",
       "    <tr>\n",
       "      <td>Shooter</td>\n",
       "      <td>237.47</td>\n",
       "    </tr>\n",
       "    <tr>\n",
       "      <td>Sports</td>\n",
       "      <td>156.81</td>\n",
       "    </tr>\n",
       "    <tr>\n",
       "      <td>Misc</td>\n",
       "      <td>123.80</td>\n",
       "    </tr>\n",
       "    <tr>\n",
       "      <td>Role-Playing</td>\n",
       "      <td>112.05</td>\n",
       "    </tr>\n",
       "  </tbody>\n",
       "</table>\n",
       "</div>"
      ],
      "text/plain": [
       "              na_sales\n",
       "genre                 \n",
       "Action          290.64\n",
       "Shooter         237.47\n",
       "Sports          156.81\n",
       "Misc            123.80\n",
       "Role-Playing    112.05"
      ]
     },
     "execution_count": 42,
     "metadata": {},
     "output_type": "execute_result"
    }
   ],
   "source": [
    "na_genre = total_data.pivot_table(index=['genre'], values=['na_sales'], aggfunc=['sum'])\n",
    "na_genre.reset_index()\n",
    "na_genre.columns = ['na_sales']\n",
    "na_genre = na_genre.sort_values(by='na_sales', ascending=False).head(5)\n",
    "na_genre"
   ]
  },
  {
   "cell_type": "code",
   "execution_count": 43,
   "metadata": {},
   "outputs": [
    {
     "data": {
      "text/html": [
       "<div>\n",
       "<style scoped>\n",
       "    .dataframe tbody tr th:only-of-type {\n",
       "        vertical-align: middle;\n",
       "    }\n",
       "\n",
       "    .dataframe tbody tr th {\n",
       "        vertical-align: top;\n",
       "    }\n",
       "\n",
       "    .dataframe thead th {\n",
       "        text-align: right;\n",
       "    }\n",
       "</style>\n",
       "<table border=\"1\" class=\"dataframe\">\n",
       "  <thead>\n",
       "    <tr style=\"text-align: right;\">\n",
       "      <th></th>\n",
       "      <th>eu_sales</th>\n",
       "    </tr>\n",
       "    <tr>\n",
       "      <th>genre</th>\n",
       "      <th></th>\n",
       "    </tr>\n",
       "  </thead>\n",
       "  <tbody>\n",
       "    <tr>\n",
       "      <td>Action</td>\n",
       "      <td>233.63</td>\n",
       "    </tr>\n",
       "    <tr>\n",
       "      <td>Shooter</td>\n",
       "      <td>171.45</td>\n",
       "    </tr>\n",
       "    <tr>\n",
       "      <td>Sports</td>\n",
       "      <td>116.84</td>\n",
       "    </tr>\n",
       "    <tr>\n",
       "      <td>Role-Playing</td>\n",
       "      <td>75.48</td>\n",
       "    </tr>\n",
       "    <tr>\n",
       "      <td>Misc</td>\n",
       "      <td>66.09</td>\n",
       "    </tr>\n",
       "  </tbody>\n",
       "</table>\n",
       "</div>"
      ],
      "text/plain": [
       "              eu_sales\n",
       "genre                 \n",
       "Action          233.63\n",
       "Shooter         171.45\n",
       "Sports          116.84\n",
       "Role-Playing     75.48\n",
       "Misc             66.09"
      ]
     },
     "execution_count": 43,
     "metadata": {},
     "output_type": "execute_result"
    }
   ],
   "source": [
    "eu_genre = total_data.pivot_table(index=['genre'], values=['eu_sales'], aggfunc=['sum'])\n",
    "eu_genre.reset_index()\n",
    "eu_genre.columns = ['eu_sales']\n",
    "eu_genre = eu_genre.sort_values(by='eu_sales', ascending=False).head(5)\n",
    "eu_genre"
   ]
  },
  {
   "cell_type": "code",
   "execution_count": 44,
   "metadata": {},
   "outputs": [
    {
     "data": {
      "text/html": [
       "<div>\n",
       "<style scoped>\n",
       "    .dataframe tbody tr th:only-of-type {\n",
       "        vertical-align: middle;\n",
       "    }\n",
       "\n",
       "    .dataframe tbody tr th {\n",
       "        vertical-align: top;\n",
       "    }\n",
       "\n",
       "    .dataframe thead th {\n",
       "        text-align: right;\n",
       "    }\n",
       "</style>\n",
       "<table border=\"1\" class=\"dataframe\">\n",
       "  <thead>\n",
       "    <tr style=\"text-align: right;\">\n",
       "      <th></th>\n",
       "      <th>jp_sales</th>\n",
       "    </tr>\n",
       "    <tr>\n",
       "      <th>genre</th>\n",
       "      <th></th>\n",
       "    </tr>\n",
       "  </thead>\n",
       "  <tbody>\n",
       "    <tr>\n",
       "      <td>Role-Playing</td>\n",
       "      <td>103.54</td>\n",
       "    </tr>\n",
       "    <tr>\n",
       "      <td>Action</td>\n",
       "      <td>72.20</td>\n",
       "    </tr>\n",
       "    <tr>\n",
       "      <td>Misc</td>\n",
       "      <td>24.29</td>\n",
       "    </tr>\n",
       "    <tr>\n",
       "      <td>Platform</td>\n",
       "      <td>15.81</td>\n",
       "    </tr>\n",
       "    <tr>\n",
       "      <td>Adventure</td>\n",
       "      <td>15.67</td>\n",
       "    </tr>\n",
       "  </tbody>\n",
       "</table>\n",
       "</div>"
      ],
      "text/plain": [
       "              jp_sales\n",
       "genre                 \n",
       "Role-Playing    103.54\n",
       "Action           72.20\n",
       "Misc             24.29\n",
       "Platform         15.81\n",
       "Adventure        15.67"
      ]
     },
     "execution_count": 44,
     "metadata": {},
     "output_type": "execute_result"
    }
   ],
   "source": [
    "jp_genre = total_data.pivot_table(index=['genre'], values=['jp_sales'], aggfunc=['sum'])\n",
    "jp_genre.reset_index()\n",
    "jp_genre.columns = ['jp_sales']\n",
    "jp_genre = jp_genre.sort_values(by='jp_sales', ascending=False).head(5)\n",
    "jp_genre"
   ]
  },
  {
   "cell_type": "code",
   "execution_count": 45,
   "metadata": {},
   "outputs": [
    {
     "data": {
      "text/html": [
       "<div>\n",
       "<style scoped>\n",
       "    .dataframe tbody tr th:only-of-type {\n",
       "        vertical-align: middle;\n",
       "    }\n",
       "\n",
       "    .dataframe tbody tr th {\n",
       "        vertical-align: top;\n",
       "    }\n",
       "\n",
       "    .dataframe thead th {\n",
       "        text-align: right;\n",
       "    }\n",
       "</style>\n",
       "<table border=\"1\" class=\"dataframe\">\n",
       "  <thead>\n",
       "    <tr style=\"text-align: right;\">\n",
       "      <th></th>\n",
       "      <th>other_sales</th>\n",
       "    </tr>\n",
       "    <tr>\n",
       "      <th>genre</th>\n",
       "      <th></th>\n",
       "    </tr>\n",
       "  </thead>\n",
       "  <tbody>\n",
       "    <tr>\n",
       "      <td>Action</td>\n",
       "      <td>76.62</td>\n",
       "    </tr>\n",
       "    <tr>\n",
       "      <td>Shooter</td>\n",
       "      <td>56.78</td>\n",
       "    </tr>\n",
       "    <tr>\n",
       "      <td>Sports</td>\n",
       "      <td>39.23</td>\n",
       "    </tr>\n",
       "    <tr>\n",
       "      <td>Role-Playing</td>\n",
       "      <td>24.21</td>\n",
       "    </tr>\n",
       "    <tr>\n",
       "      <td>Misc</td>\n",
       "      <td>20.38</td>\n",
       "    </tr>\n",
       "  </tbody>\n",
       "</table>\n",
       "</div>"
      ],
      "text/plain": [
       "              other_sales\n",
       "genre                    \n",
       "Action              76.62\n",
       "Shooter             56.78\n",
       "Sports              39.23\n",
       "Role-Playing        24.21\n",
       "Misc                20.38"
      ]
     },
     "execution_count": 45,
     "metadata": {},
     "output_type": "execute_result"
    }
   ],
   "source": [
    "other_genre = total_data.pivot_table(index=['genre'], values=['other_sales'], aggfunc=['sum'])\n",
    "other_genre.reset_index()\n",
    "other_genre.columns = ['other_sales']\n",
    "other_genre = other_genre.sort_values(by='other_sales', ascending=False).head(5)\n",
    "other_genre"
   ]
  },
  {
   "cell_type": "code",
   "execution_count": 46,
   "metadata": {
    "scrolled": false
   },
   "outputs": [
    {
     "data": {
      "text/plain": [
       "Text(0, 0.5, 'Сумма продаж')"
      ]
     },
     "execution_count": 46,
     "metadata": {},
     "output_type": "execute_result"
    },
    {
     "data": {
      "image/png": "[encoded data removed]",
      "text/plain": [
       "<Figure size 432x288 with 1 Axes>"
      ]
     },
     "metadata": {
      "needs_background": "light"
     },
     "output_type": "display_data"
    },
    {
     "data": {
      "image/png": "[encoded data removed]",
      "text/plain": [
       "<Figure size 432x288 with 1 Axes>"
      ]
     },
     "metadata": {
      "needs_background": "light"
     },
     "output_type": "display_data"
    },
    {
     "data": {
      "image/png": "[encoded data removed]",
      "text/plain": [
       "<Figure size 432x288 with 1 Axes>"
      ]
     },
     "metadata": {
      "needs_background": "light"
     },
     "output_type": "display_data"
    },
    {
     "data": {
      "image/png": "[encoded data removed]",
      "text/plain": [
       "<Figure size 432x288 with 1 Axes>"
      ]
     },
     "metadata": {
      "needs_background": "light"
     },
     "output_type": "display_data"
    }
   ],
   "source": [
    "na_genre.plot(kind='bar')\n",
    "plt.title('Популярные жанры в Северной Америке')\n",
    "plt.legend(['Сумма продаж'])\n",
    "plt.xlabel('Название жанра')\n",
    "plt.ylabel('Сумма продаж')\n",
    "\n",
    "eu_genre.plot(kind='bar')\n",
    "plt.title('Популярные жанры в Европе')\n",
    "plt.legend(['Сумма продаж'])\n",
    "plt.xlabel('Название жанра')\n",
    "plt.ylabel('Сумма продаж')\n",
    "\n",
    "jp_genre.plot(kind='bar')\n",
    "plt.title('Популярные жанры в Японии')\n",
    "plt.legend(['Сумма продаж'])\n",
    "plt.xlabel('Название жанра')\n",
    "plt.ylabel('Сумма продаж')\n",
    "\n",
    "other_genre.plot(kind='bar')\n",
    "plt.title('Популярные жанры в других странах')\n",
    "plt.legend(['Сумма продаж'])\n",
    "plt.xlabel('Название жанра')\n",
    "plt.ylabel('Сумма продаж')"
   ]
  },
  {
   "cell_type": "markdown",
   "metadata": {},
   "source": [
    "Во всем мире популярны жанры: Action, Sports и Shooter. В Японии лидер - Role-Playing, а Shooter в лидерах не присутсвует."
   ]
  },
  {
   "cell_type": "markdown",
   "metadata": {},
   "source": [
    "Влияет ли рейтинг ESRB на продажи в отдельном регионе?"
   ]
  },
  {
   "cell_type": "code",
   "execution_count": 47,
   "metadata": {},
   "outputs": [
    {
     "data": {
      "text/html": [
       "<div>\n",
       "<style scoped>\n",
       "    .dataframe tbody tr th:only-of-type {\n",
       "        vertical-align: middle;\n",
       "    }\n",
       "\n",
       "    .dataframe tbody tr th {\n",
       "        vertical-align: top;\n",
       "    }\n",
       "\n",
       "    .dataframe thead th {\n",
       "        text-align: right;\n",
       "    }\n",
       "</style>\n",
       "<table border=\"1\" class=\"dataframe\">\n",
       "  <thead>\n",
       "    <tr style=\"text-align: right;\">\n",
       "      <th></th>\n",
       "      <th>na_sales</th>\n",
       "    </tr>\n",
       "    <tr>\n",
       "      <th>esrb_raiting</th>\n",
       "      <th></th>\n",
       "    </tr>\n",
       "  </thead>\n",
       "  <tbody>\n",
       "    <tr>\n",
       "      <td>Для взрослых</td>\n",
       "      <td>382.22</td>\n",
       "    </tr>\n",
       "    <tr>\n",
       "      <td>Для всех</td>\n",
       "      <td>271.15</td>\n",
       "    </tr>\n",
       "    <tr>\n",
       "      <td>Подросткам от 13 лет</td>\n",
       "      <td>160.81</td>\n",
       "    </tr>\n",
       "    <tr>\n",
       "      <td>Для всех от 10 лет и старше</td>\n",
       "      <td>159.38</td>\n",
       "    </tr>\n",
       "    <tr>\n",
       "      <td>Рейтинг не определен</td>\n",
       "      <td>155.72</td>\n",
       "    </tr>\n",
       "  </tbody>\n",
       "</table>\n",
       "</div>"
      ],
      "text/plain": [
       "                             na_sales\n",
       "esrb_raiting                         \n",
       "Для взрослых                   382.22\n",
       "Для всех                       271.15\n",
       "Подросткам от 13 лет           160.81\n",
       "Для всех от 10 лет и старше    159.38\n",
       "Рейтинг не определен           155.72"
      ]
     },
     "execution_count": 47,
     "metadata": {},
     "output_type": "execute_result"
    }
   ],
   "source": [
    "na_genre = total_data.pivot_table(index=['esrb_raiting'], values=['na_sales'], aggfunc=['sum'])\n",
    "na_genre.reset_index()\n",
    "na_genre.columns = ['na_sales']\n",
    "na_genre = na_genre.sort_values(by='na_sales', ascending=False).head(5)\n",
    "na_genre"
   ]
  },
  {
   "cell_type": "code",
   "execution_count": 48,
   "metadata": {},
   "outputs": [
    {
     "data": {
      "text/html": [
       "<div>\n",
       "<style scoped>\n",
       "    .dataframe tbody tr th:only-of-type {\n",
       "        vertical-align: middle;\n",
       "    }\n",
       "\n",
       "    .dataframe tbody tr th {\n",
       "        vertical-align: top;\n",
       "    }\n",
       "\n",
       "    .dataframe thead th {\n",
       "        text-align: right;\n",
       "    }\n",
       "</style>\n",
       "<table border=\"1\" class=\"dataframe\">\n",
       "  <thead>\n",
       "    <tr style=\"text-align: right;\">\n",
       "      <th></th>\n",
       "      <th>eu_sales</th>\n",
       "    </tr>\n",
       "    <tr>\n",
       "      <th>esrb_raiting</th>\n",
       "      <th></th>\n",
       "    </tr>\n",
       "  </thead>\n",
       "  <tbody>\n",
       "    <tr>\n",
       "      <td>Для взрослых</td>\n",
       "      <td>292.04</td>\n",
       "    </tr>\n",
       "    <tr>\n",
       "      <td>Для всех</td>\n",
       "      <td>197.34</td>\n",
       "    </tr>\n",
       "    <tr>\n",
       "      <td>Рейтинг не определен</td>\n",
       "      <td>139.47</td>\n",
       "    </tr>\n",
       "    <tr>\n",
       "      <td>Подросткам от 13 лет</td>\n",
       "      <td>113.08</td>\n",
       "    </tr>\n",
       "    <tr>\n",
       "      <td>Для всех от 10 лет и старше</td>\n",
       "      <td>99.28</td>\n",
       "    </tr>\n",
       "  </tbody>\n",
       "</table>\n",
       "</div>"
      ],
      "text/plain": [
       "                             eu_sales\n",
       "esrb_raiting                         \n",
       "Для взрослых                   292.04\n",
       "Для всех                       197.34\n",
       "Рейтинг не определен           139.47\n",
       "Подросткам от 13 лет           113.08\n",
       "Для всех от 10 лет и старше     99.28"
      ]
     },
     "execution_count": 48,
     "metadata": {},
     "output_type": "execute_result"
    }
   ],
   "source": [
    "eu_genre = total_data.pivot_table(index=['esrb_raiting'], values=['eu_sales'], aggfunc=['sum'])\n",
    "eu_genre.reset_index()\n",
    "eu_genre.columns = ['eu_sales']\n",
    "eu_genre = eu_genre.sort_values(by='eu_sales', ascending=False).head(5)\n",
    "eu_genre"
   ]
  },
  {
   "cell_type": "code",
   "execution_count": 49,
   "metadata": {},
   "outputs": [
    {
     "data": {
      "text/html": [
       "<div>\n",
       "<style scoped>\n",
       "    .dataframe tbody tr th:only-of-type {\n",
       "        vertical-align: middle;\n",
       "    }\n",
       "\n",
       "    .dataframe tbody tr th {\n",
       "        vertical-align: top;\n",
       "    }\n",
       "\n",
       "    .dataframe thead th {\n",
       "        text-align: right;\n",
       "    }\n",
       "</style>\n",
       "<table border=\"1\" class=\"dataframe\">\n",
       "  <thead>\n",
       "    <tr style=\"text-align: right;\">\n",
       "      <th></th>\n",
       "      <th>jp_sales</th>\n",
       "    </tr>\n",
       "    <tr>\n",
       "      <th>esrb_raiting</th>\n",
       "      <th></th>\n",
       "    </tr>\n",
       "  </thead>\n",
       "  <tbody>\n",
       "    <tr>\n",
       "      <td>Рейтинг не определен</td>\n",
       "      <td>171.49</td>\n",
       "    </tr>\n",
       "    <tr>\n",
       "      <td>Для всех</td>\n",
       "      <td>47.87</td>\n",
       "    </tr>\n",
       "    <tr>\n",
       "      <td>Подросткам от 13 лет</td>\n",
       "      <td>42.11</td>\n",
       "    </tr>\n",
       "    <tr>\n",
       "      <td>Для взрослых</td>\n",
       "      <td>30.45</td>\n",
       "    </tr>\n",
       "    <tr>\n",
       "      <td>Для всех от 10 лет и старше</td>\n",
       "      <td>13.22</td>\n",
       "    </tr>\n",
       "  </tbody>\n",
       "</table>\n",
       "</div>"
      ],
      "text/plain": [
       "                             jp_sales\n",
       "esrb_raiting                         \n",
       "Рейтинг не определен           171.49\n",
       "Для всех                        47.87\n",
       "Подросткам от 13 лет            42.11\n",
       "Для взрослых                    30.45\n",
       "Для всех от 10 лет и старше     13.22"
      ]
     },
     "execution_count": 49,
     "metadata": {},
     "output_type": "execute_result"
    }
   ],
   "source": [
    "jp_genre = total_data.pivot_table(index=['esrb_raiting'], values=['jp_sales'], aggfunc=['sum'])\n",
    "jp_genre.reset_index()\n",
    "jp_genre.columns = ['jp_sales']\n",
    "jp_genre = jp_genre.sort_values(by='jp_sales', ascending=False).head(5)\n",
    "jp_genre"
   ]
  },
  {
   "cell_type": "code",
   "execution_count": 50,
   "metadata": {},
   "outputs": [
    {
     "data": {
      "text/html": [
       "<div>\n",
       "<style scoped>\n",
       "    .dataframe tbody tr th:only-of-type {\n",
       "        vertical-align: middle;\n",
       "    }\n",
       "\n",
       "    .dataframe tbody tr th {\n",
       "        vertical-align: top;\n",
       "    }\n",
       "\n",
       "    .dataframe thead th {\n",
       "        text-align: right;\n",
       "    }\n",
       "</style>\n",
       "<table border=\"1\" class=\"dataframe\">\n",
       "  <thead>\n",
       "    <tr style=\"text-align: right;\">\n",
       "      <th></th>\n",
       "      <th>other_sales</th>\n",
       "    </tr>\n",
       "    <tr>\n",
       "      <th>esrb_raiting</th>\n",
       "      <th></th>\n",
       "    </tr>\n",
       "  </thead>\n",
       "  <tbody>\n",
       "    <tr>\n",
       "      <td>Для взрослых</td>\n",
       "      <td>96.98</td>\n",
       "    </tr>\n",
       "    <tr>\n",
       "      <td>Для всех</td>\n",
       "      <td>60.04</td>\n",
       "    </tr>\n",
       "    <tr>\n",
       "      <td>Рейтинг не определен</td>\n",
       "      <td>40.52</td>\n",
       "    </tr>\n",
       "    <tr>\n",
       "      <td>Подросткам от 13 лет</td>\n",
       "      <td>38.72</td>\n",
       "    </tr>\n",
       "    <tr>\n",
       "      <td>Для всех от 10 лет и старше</td>\n",
       "      <td>31.15</td>\n",
       "    </tr>\n",
       "  </tbody>\n",
       "</table>\n",
       "</div>"
      ],
      "text/plain": [
       "                             other_sales\n",
       "esrb_raiting                            \n",
       "Для взрослых                       96.98\n",
       "Для всех                           60.04\n",
       "Рейтинг не определен               40.52\n",
       "Подросткам от 13 лет               38.72\n",
       "Для всех от 10 лет и старше        31.15"
      ]
     },
     "execution_count": 50,
     "metadata": {},
     "output_type": "execute_result"
    }
   ],
   "source": [
    "other_genre = total_data.pivot_table(index=['esrb_raiting'], values=['other_sales'], aggfunc=['sum'])\n",
    "other_genre.reset_index()\n",
    "other_genre.columns = ['other_sales']\n",
    "other_genre = other_genre.sort_values(by='other_sales', ascending=False).head(5)\n",
    "other_genre"
   ]
  },
  {
   "cell_type": "markdown",
   "metadata": {},
   "source": [
    "Игры с рейтингом 'Для взрослых' и 'Для всех' пользуются наибольшей популярностью во всем мире. В Японии никак не могут определиться с оценками игр."
   ]
  },
  {
   "cell_type": "markdown",
   "metadata": {},
   "source": [
    "## Проверка гипотез\n",
    "<a id='cell5'></a>"
   ]
  },
  {
   "cell_type": "markdown",
   "metadata": {},
   "source": [
    "1. Средние пользовательские рейтинги платформ Xbox One и PC одинаковые:\n",
    "2. Средние пользовательские рейтинги жанров Action (англ. «действие», экшен-игры) и Sports (англ. «спортивные соревнования») разные:"
   ]
  },
  {
   "cell_type": "markdown",
   "metadata": {},
   "source": [
    "Средние пользовательские рейтинги платформ Xbox One и PC одинаковые:\n",
    "- Нулевая гипотеза - средние пользовательские рейтинги платформ Xbox One и PC одинаковые.\n",
    "- Альтернативная гипотеза - средние пользовательские рейтинги платформ Xbox One и PC отличаются между собой.\n",
    "- Критический уровень значимости - 0.05."
   ]
  },
  {
   "cell_type": "code",
   "execution_count": 51,
   "metadata": {},
   "outputs": [],
   "source": [
    "xbox_one = total_data[(total_data['platform'] == 'XOne') & (total_data['user_score'] >= 0)]['user_score']\n",
    "pc = total_data[(total_data['platform'] == 'PC') & (total_data['user_score'] >= 0)]['user_score']"
   ]
  },
  {
   "cell_type": "code",
   "execution_count": 52,
   "metadata": {},
   "outputs": [
    {
     "name": "stdout",
     "output_type": "stream",
     "text": [
      "P-value: 0.9801634129117883\n",
      "Не получилось отвергнуть нулевую гипотезу\n"
     ]
    }
   ],
   "source": [
    "from scipy import stats as st\n",
    "alpha = 0.05\n",
    "results = st.ttest_ind(xbox_one, pc, equal_var = False)\n",
    "print('P-value:', results.pvalue)\n",
    "\n",
    "if (results.pvalue < alpha):\n",
    "    print(\"Отвергаем нулевую гипотезу\")\n",
    "else:\n",
    "    print(\"Не получилось отвергнуть нулевую гипотезу\")"
   ]
  },
  {
   "cell_type": "markdown",
   "metadata": {},
   "source": [
    "Проверка данных:"
   ]
  },
  {
   "cell_type": "code",
   "execution_count": 53,
   "metadata": {},
   "outputs": [
    {
     "name": "stdout",
     "output_type": "stream",
     "text": [
      "Средняя оценка платформы Xbox One: 6.52\n",
      "Средняя оценка платформы PC: 6.52\n"
     ]
    }
   ],
   "source": [
    "print('Средняя оценка платформы Xbox One:', round(xbox_one.mean(), 2))\n",
    "print('Средняя оценка платформы PC:', round(pc.mean(), 2))"
   ]
  },
  {
   "cell_type": "markdown",
   "metadata": {},
   "source": [
    "**Вывод**\n",
    "\n",
    "- Средние пользовательские рейтинги платформ Xbox One и PC одинаковые.\n"
   ]
  },
  {
   "cell_type": "markdown",
   "metadata": {},
   "source": [
    "Средние пользовательские рейтинги жанров Action (англ. «действие», экшен-игры) и Sports (англ. «спортивные соревнования») разные:\n",
    "\n",
    "- Нулевая гипотеза - средние пользовательские рейтинги жанров Action и Sports одинаковые.\n",
    "- Альтернативная гипотеза - средние пользовательские рейтинги жанров Action и Sports отличаются между собой.\n",
    "- Критический уровень значимости - 0.05."
   ]
  },
  {
   "cell_type": "code",
   "execution_count": 54,
   "metadata": {},
   "outputs": [],
   "source": [
    "action = total_data[(total_data['genre'] == 'Action') & (total_data['user_score'] >= 0)]['user_score']\n",
    "sports = total_data[(total_data['genre'] == 'Sports') & (total_data['user_score'] >= 0)]['user_score']"
   ]
  },
  {
   "cell_type": "code",
   "execution_count": 55,
   "metadata": {},
   "outputs": [
    {
     "name": "stdout",
     "output_type": "stream",
     "text": [
      "P-value: 1.4516152467844418e-15\n",
      "Отвергаем нулевую гипотезу\n"
     ]
    }
   ],
   "source": [
    "from scipy import stats as st\n",
    "alpha = 0.05\n",
    "results = st.ttest_ind(action, sports, equal_var = False)\n",
    "print('P-value:', results.pvalue)\n",
    "\n",
    "if (results.pvalue < alpha):\n",
    "    print(\"Отвергаем нулевую гипотезу\")\n",
    "else:\n",
    "    print(\"Не получилось отвергнуть нулевую гипотезу\")"
   ]
  },
  {
   "cell_type": "markdown",
   "metadata": {},
   "source": [
    "Проверка данных:"
   ]
  },
  {
   "cell_type": "code",
   "execution_count": 56,
   "metadata": {},
   "outputs": [
    {
     "name": "stdout",
     "output_type": "stream",
     "text": [
      "Средний пользовательский рейтинг жанра Action: 6.78\n",
      "Средний пользовательский рейтинг жанра Sports: 5.9\n"
     ]
    }
   ],
   "source": [
    "print('Средний пользовательский рейтинг жанра Action:', round(action.mean(), 2))\n",
    "print('Средний пользовательский рейтинг жанра Sports:', round(sports.mean(), 2))"
   ]
  },
  {
   "cell_type": "markdown",
   "metadata": {},
   "source": [
    "**Вывод**\n",
    "\n",
    "- Средние пользовательские рейтинги жанра Action и жанра Sports различные."
   ]
  },
  {
   "cell_type": "markdown",
   "metadata": {},
   "source": [
    "## Общий вывод\n",
    "<a id='cell6'></a>"
   ]
  },
  {
   "cell_type": "markdown",
   "metadata": {},
   "source": [
    "Закономерности, определяющие успешность игры:\n",
    "\n",
    "- Игры с рейтингом 'Для взрослых' и 'Для всех' пользуются наибольшей популярностью во всем мире.\n",
    "- Во всем мире популярны жанры: Action, Sports и Shooter. \n",
    "- Самые популярные платформы: PS4, X360, PS3, XOne.\n",
    "- Чем лучше пользовательская оценка и оценка критиков, тем больше объём продаж игры.\n",
    "\n",
    "Поэтому, при планирование рекламной кампании, необходимо обращать внимание на жанр игры(желательно чтобы это был популярный жанр - Action, Sports и Shooter), игра должна быть совместима с популярными платформами(такие как РS, Xbox, Wii, PC), иметь рейтинг 'E': 'Для всех' и хорошие оценки пользователей и критиков."
   ]
  }
 ],
 "metadata": {
  "ExecuteTimeLog": [
   {
    "duration": 1105,
    "start_time": "2021-06-13T06:41:24.365Z"
   },
   {
    "duration": 2897,
    "start_time": "2021-06-13T06:42:21.744Z"
   },
   {
    "duration": 625,
    "start_time": "2021-06-13T06:46:09.400Z"
   },
   {
    "duration": 103,
    "start_time": "2021-06-13T06:46:55.000Z"
   },
   {
    "duration": 47,
    "start_time": "2021-06-13T06:46:57.249Z"
   },
   {
    "duration": 127,
    "start_time": "2021-06-13T06:47:37.159Z"
   },
   {
    "duration": 28,
    "start_time": "2021-06-13T06:49:40.883Z"
   },
   {
    "duration": 15,
    "start_time": "2021-06-13T06:50:49.009Z"
   },
   {
    "duration": 394,
    "start_time": "2021-06-13T07:05:14.069Z"
   },
   {
    "duration": 12,
    "start_time": "2021-06-13T07:05:24.718Z"
   },
   {
    "duration": 26,
    "start_time": "2021-06-13T07:15:31.152Z"
   },
   {
    "duration": 9,
    "start_time": "2021-06-13T07:25:23.687Z"
   },
   {
    "duration": 13,
    "start_time": "2021-06-13T07:25:28.112Z"
   },
   {
    "duration": 16,
    "start_time": "2021-06-13T07:25:33.951Z"
   },
   {
    "duration": 4,
    "start_time": "2021-06-13T07:31:46.926Z"
   },
   {
    "duration": 1413,
    "start_time": "2021-06-13T09:40:11.773Z"
   },
   {
    "duration": 47,
    "start_time": "2021-06-13T09:40:14.751Z"
   },
   {
    "duration": 30,
    "start_time": "2021-06-13T09:40:17.957Z"
   },
   {
    "duration": 15,
    "start_time": "2021-06-13T09:40:22.852Z"
   },
   {
    "duration": 13,
    "start_time": "2021-06-13T09:40:28.245Z"
   },
   {
    "duration": 4,
    "start_time": "2021-06-13T09:40:53.337Z"
   },
   {
    "duration": 13,
    "start_time": "2021-06-13T09:41:02.003Z"
   },
   {
    "duration": 25,
    "start_time": "2021-06-13T09:41:13.886Z"
   },
   {
    "duration": 9032,
    "start_time": "2021-06-13T09:42:39.566Z"
   },
   {
    "duration": 770,
    "start_time": "2021-06-13T09:43:44.363Z"
   },
   {
    "duration": 335,
    "start_time": "2021-06-13T09:44:29.695Z"
   },
   {
    "duration": 21,
    "start_time": "2021-06-13T09:44:41.319Z"
   },
   {
    "duration": 10,
    "start_time": "2021-06-13T09:44:55.320Z"
   },
   {
    "duration": 493,
    "start_time": "2021-06-13T09:46:20.972Z"
   },
   {
    "duration": 362,
    "start_time": "2021-06-13T09:46:31.801Z"
   },
   {
    "duration": 9,
    "start_time": "2021-06-13T09:47:44.926Z"
   },
   {
    "duration": 410,
    "start_time": "2021-06-13T09:50:08.592Z"
   },
   {
    "duration": 31,
    "start_time": "2021-06-13T09:50:19.859Z"
   },
   {
    "duration": 399,
    "start_time": "2021-06-14T08:19:17.660Z"
   },
   {
    "duration": 1403,
    "start_time": "2021-06-14T08:19:56.226Z"
   },
   {
    "duration": 47,
    "start_time": "2021-06-14T08:19:58.406Z"
   },
   {
    "duration": 35,
    "start_time": "2021-06-14T08:20:01.381Z"
   },
   {
    "duration": 14,
    "start_time": "2021-06-14T08:20:05.379Z"
   },
   {
    "duration": 12,
    "start_time": "2021-06-14T08:20:08.387Z"
   },
   {
    "duration": 5,
    "start_time": "2021-06-14T08:20:11.540Z"
   },
   {
    "duration": 18,
    "start_time": "2021-06-14T08:20:14.089Z"
   },
   {
    "duration": 10,
    "start_time": "2021-06-14T08:20:19.404Z"
   },
   {
    "duration": 515,
    "start_time": "2021-06-14T08:22:40.583Z"
   },
   {
    "duration": 324,
    "start_time": "2021-06-14T08:22:48.855Z"
   },
   {
    "duration": 31,
    "start_time": "2021-06-14T08:26:34.786Z"
   },
   {
    "duration": 333,
    "start_time": "2021-06-14T08:28:00.647Z"
   },
   {
    "duration": 6,
    "start_time": "2021-06-14T08:28:37.201Z"
   },
   {
    "duration": 32,
    "start_time": "2021-06-14T08:28:47.682Z"
   },
   {
    "duration": 19,
    "start_time": "2021-06-14T08:34:59.919Z"
   },
   {
    "duration": 11,
    "start_time": "2021-06-14T08:35:16.016Z"
   },
   {
    "duration": 14,
    "start_time": "2021-06-14T08:36:18.482Z"
   },
   {
    "duration": 14,
    "start_time": "2021-06-14T08:38:09.457Z"
   },
   {
    "duration": 12,
    "start_time": "2021-06-14T08:44:15.374Z"
   },
   {
    "duration": 9,
    "start_time": "2021-06-14T08:44:20.895Z"
   },
   {
    "duration": 3,
    "start_time": "2021-06-14T08:45:26.061Z"
   },
   {
    "duration": 13,
    "start_time": "2021-06-14T08:46:11.428Z"
   },
   {
    "duration": 14,
    "start_time": "2021-06-14T08:46:44.107Z"
   },
   {
    "duration": 22,
    "start_time": "2021-06-14T08:47:13.275Z"
   },
   {
    "duration": 29,
    "start_time": "2021-06-14T08:47:22.703Z"
   },
   {
    "duration": 7,
    "start_time": "2021-06-14T08:55:13.869Z"
   },
   {
    "duration": 352,
    "start_time": "2021-06-14T08:57:43.574Z"
   },
   {
    "duration": 50,
    "start_time": "2021-06-14T08:57:57.102Z"
   },
   {
    "duration": 10,
    "start_time": "2021-06-14T09:01:41.931Z"
   },
   {
    "duration": 9,
    "start_time": "2021-06-14T09:02:10.814Z"
   },
   {
    "duration": 19,
    "start_time": "2021-06-14T09:06:23.104Z"
   },
   {
    "duration": 17,
    "start_time": "2021-06-14T09:09:46.575Z"
   },
   {
    "duration": 10,
    "start_time": "2021-06-14T09:10:40.788Z"
   },
   {
    "duration": 18,
    "start_time": "2021-06-14T09:11:08.834Z"
   },
   {
    "duration": 8,
    "start_time": "2021-06-14T09:18:47.223Z"
   },
   {
    "duration": 43,
    "start_time": "2021-06-14T09:20:51.568Z"
   },
   {
    "duration": 11,
    "start_time": "2021-06-14T09:27:17.875Z"
   },
   {
    "duration": 27,
    "start_time": "2021-06-14T09:27:50.161Z"
   },
   {
    "duration": 11,
    "start_time": "2021-06-14T09:28:00.889Z"
   },
   {
    "duration": 1323,
    "start_time": "2021-06-14T09:51:17.607Z"
   },
   {
    "duration": 47,
    "start_time": "2021-06-14T09:51:18.989Z"
   },
   {
    "duration": 34,
    "start_time": "2021-06-14T09:51:19.920Z"
   },
   {
    "duration": 14,
    "start_time": "2021-06-14T09:51:26.290Z"
   },
   {
    "duration": 13,
    "start_time": "2021-06-14T09:51:31.273Z"
   },
   {
    "duration": 4,
    "start_time": "2021-06-14T09:51:37.236Z"
   },
   {
    "duration": 13,
    "start_time": "2021-06-14T09:51:41.145Z"
   },
   {
    "duration": 11,
    "start_time": "2021-06-14T09:51:49.915Z"
   },
   {
    "duration": 9,
    "start_time": "2021-06-14T09:51:54.896Z"
   },
   {
    "duration": 33,
    "start_time": "2021-06-14T09:52:00.603Z"
   },
   {
    "duration": 16,
    "start_time": "2021-06-14T09:52:20.316Z"
   },
   {
    "duration": 14,
    "start_time": "2021-06-14T09:52:40.787Z"
   },
   {
    "duration": 6,
    "start_time": "2021-06-14T09:53:05.361Z"
   },
   {
    "duration": 8,
    "start_time": "2021-06-14T09:53:37.551Z"
   },
   {
    "duration": 11,
    "start_time": "2021-06-14T09:53:42.451Z"
   },
   {
    "duration": 25,
    "start_time": "2021-06-14T09:53:46.690Z"
   },
   {
    "duration": 12,
    "start_time": "2021-06-14T09:54:15.435Z"
   },
   {
    "duration": 450,
    "start_time": "2021-06-14T10:01:59.471Z"
   },
   {
    "duration": 780,
    "start_time": "2021-06-14T10:02:19.771Z"
   },
   {
    "duration": 731,
    "start_time": "2021-06-14T10:03:53.657Z"
   },
   {
    "duration": 716,
    "start_time": "2021-06-14T10:04:11.326Z"
   },
   {
    "duration": 282,
    "start_time": "2021-06-14T10:04:22.518Z"
   },
   {
    "duration": 276,
    "start_time": "2021-06-14T10:04:36.876Z"
   },
   {
    "duration": 373,
    "start_time": "2021-06-14T10:04:46.693Z"
   },
   {
    "duration": 395,
    "start_time": "2021-06-14T10:05:02.766Z"
   },
   {
    "duration": 394,
    "start_time": "2021-06-14T10:06:10.354Z"
   },
   {
    "duration": 438,
    "start_time": "2021-06-14T10:07:24.758Z"
   },
   {
    "duration": 836,
    "start_time": "2021-06-14T10:09:20.197Z"
   },
   {
    "duration": 717,
    "start_time": "2021-06-14T10:09:34.361Z"
   },
   {
    "duration": 862,
    "start_time": "2021-06-14T10:09:58.569Z"
   },
   {
    "duration": 756,
    "start_time": "2021-06-14T10:10:12.232Z"
   },
   {
    "duration": 1004,
    "start_time": "2021-06-14T10:10:27.040Z"
   },
   {
    "duration": 585,
    "start_time": "2021-06-14T10:10:36.364Z"
   },
   {
    "duration": 495,
    "start_time": "2021-06-14T10:10:43.300Z"
   },
   {
    "duration": 327,
    "start_time": "2021-06-14T10:25:33.362Z"
   },
   {
    "duration": 5,
    "start_time": "2021-06-14T10:25:39.805Z"
   },
   {
    "duration": 40,
    "start_time": "2021-06-14T10:25:42.817Z"
   },
   {
    "duration": 1322,
    "start_time": "2021-06-14T10:27:15.929Z"
   },
   {
    "duration": 1352,
    "start_time": "2021-06-14T10:27:31.972Z"
   },
   {
    "duration": 1331,
    "start_time": "2021-06-14T10:27:58.856Z"
   },
   {
    "duration": 1332,
    "start_time": "2021-06-14T10:28:05.701Z"
   },
   {
    "duration": 798,
    "start_time": "2021-06-14T10:28:29.745Z"
   },
   {
    "duration": 1391,
    "start_time": "2021-06-14T10:28:58.110Z"
   },
   {
    "duration": 29316,
    "start_time": "2021-06-14T10:30:35.993Z"
   },
   {
    "duration": 10,
    "start_time": "2021-06-14T10:34:26.635Z"
   },
   {
    "duration": 1433,
    "start_time": "2021-06-14T10:34:53.671Z"
   },
   {
    "duration": 240,
    "start_time": "2021-06-14T10:35:09.003Z"
   },
   {
    "duration": 10,
    "start_time": "2021-06-14T10:36:12.996Z"
   },
   {
    "duration": 11,
    "start_time": "2021-06-14T10:37:01.416Z"
   },
   {
    "duration": 11,
    "start_time": "2021-06-14T10:39:03.509Z"
   },
   {
    "duration": 8,
    "start_time": "2021-06-14T10:39:35.918Z"
   },
   {
    "duration": 11,
    "start_time": "2021-06-14T10:39:45.581Z"
   },
   {
    "duration": 258,
    "start_time": "2021-06-14T10:40:10.542Z"
   },
   {
    "duration": 450,
    "start_time": "2021-06-14T10:40:25.641Z"
   },
   {
    "duration": 307,
    "start_time": "2021-06-14T10:40:41.590Z"
   },
   {
    "duration": 242,
    "start_time": "2021-06-14T10:40:52.140Z"
   },
   {
    "duration": 340,
    "start_time": "2021-06-14T10:41:45.022Z"
   },
   {
    "duration": 256,
    "start_time": "2021-06-14T10:41:59.363Z"
   },
   {
    "duration": 399,
    "start_time": "2021-06-14T10:45:50.919Z"
   },
   {
    "duration": 24,
    "start_time": "2021-06-14T10:46:50.945Z"
   },
   {
    "duration": 47,
    "start_time": "2021-06-14T10:50:29.956Z"
   },
   {
    "duration": 32,
    "start_time": "2021-06-14T10:50:45.930Z"
   },
   {
    "duration": 33,
    "start_time": "2021-06-14T10:51:50.183Z"
   },
   {
    "duration": 33,
    "start_time": "2021-06-14T10:52:14.206Z"
   },
   {
    "duration": 314,
    "start_time": "2021-06-14T10:54:11.171Z"
   },
   {
    "duration": 263,
    "start_time": "2021-06-14T11:08:51.703Z"
   },
   {
    "duration": 12,
    "start_time": "2021-06-14T11:11:04.605Z"
   },
   {
    "duration": 246,
    "start_time": "2021-06-14T11:11:13.719Z"
   },
   {
    "duration": 246,
    "start_time": "2021-06-14T11:12:18.992Z"
   },
   {
    "duration": 287,
    "start_time": "2021-06-14T12:08:57.911Z"
   },
   {
    "duration": 277,
    "start_time": "2021-06-14T12:09:25.723Z"
   },
   {
    "duration": 275,
    "start_time": "2021-06-14T12:10:00.291Z"
   },
   {
    "duration": 486,
    "start_time": "2021-06-14T12:10:25.235Z"
   },
   {
    "duration": 503,
    "start_time": "2021-06-14T12:12:15.224Z"
   },
   {
    "duration": 508,
    "start_time": "2021-06-14T12:14:37.935Z"
   },
   {
    "duration": 516,
    "start_time": "2021-06-14T12:15:01.668Z"
   },
   {
    "duration": 495,
    "start_time": "2021-06-14T12:15:24.029Z"
   },
   {
    "duration": 517,
    "start_time": "2021-06-14T12:15:36.011Z"
   },
   {
    "duration": 457,
    "start_time": "2021-06-14T12:21:13.669Z"
   },
   {
    "duration": 328,
    "start_time": "2021-06-14T12:29:05.712Z"
   },
   {
    "duration": 319,
    "start_time": "2021-06-14T12:29:15.721Z"
   },
   {
    "duration": 302,
    "start_time": "2021-06-14T12:30:43.321Z"
   },
   {
    "duration": 296,
    "start_time": "2021-06-14T12:31:17.464Z"
   },
   {
    "duration": 275,
    "start_time": "2021-06-14T12:31:22.762Z"
   },
   {
    "duration": 385,
    "start_time": "2021-06-14T12:37:13.169Z"
   },
   {
    "duration": 70,
    "start_time": "2021-06-14T12:37:40.281Z"
   },
   {
    "duration": 49,
    "start_time": "2021-06-14T12:37:55.575Z"
   },
   {
    "duration": 28,
    "start_time": "2021-06-14T12:54:52.893Z"
   },
   {
    "duration": 35,
    "start_time": "2021-06-14T12:55:06.995Z"
   },
   {
    "duration": 35,
    "start_time": "2021-06-14T12:55:44.901Z"
   },
   {
    "duration": 334,
    "start_time": "2021-06-14T12:56:45.131Z"
   },
   {
    "duration": 36,
    "start_time": "2021-06-14T12:58:34.628Z"
   },
   {
    "duration": 503,
    "start_time": "2021-06-14T12:59:45.665Z"
   },
   {
    "duration": 275,
    "start_time": "2021-06-14T12:59:58.418Z"
   },
   {
    "duration": 304,
    "start_time": "2021-06-14T13:00:37.730Z"
   },
   {
    "duration": 37,
    "start_time": "2021-06-14T13:00:51.428Z"
   },
   {
    "duration": 405,
    "start_time": "2021-06-14T13:01:47.360Z"
   },
   {
    "duration": 410,
    "start_time": "2021-06-14T13:02:24.700Z"
   },
   {
    "duration": 675,
    "start_time": "2021-06-14T13:08:40.917Z"
   },
   {
    "duration": 521,
    "start_time": "2021-06-14T13:11:35.626Z"
   },
   {
    "duration": 529,
    "start_time": "2021-06-14T13:12:30.676Z"
   },
   {
    "duration": 526,
    "start_time": "2021-06-14T13:12:48.903Z"
   },
   {
    "duration": 345,
    "start_time": "2021-06-14T13:16:25.435Z"
   },
   {
    "duration": 333,
    "start_time": "2021-06-14T13:16:43.436Z"
   },
   {
    "duration": 55,
    "start_time": "2021-06-14T13:18:33.203Z"
   },
   {
    "duration": 1377,
    "start_time": "2021-06-15T15:22:21.076Z"
   },
   {
    "duration": 48,
    "start_time": "2021-06-15T15:22:25.260Z"
   },
   {
    "duration": 34,
    "start_time": "2021-06-15T15:22:27.792Z"
   },
   {
    "duration": 14,
    "start_time": "2021-06-15T15:22:33.807Z"
   },
   {
    "duration": 12,
    "start_time": "2021-06-15T15:22:38.374Z"
   },
   {
    "duration": 4,
    "start_time": "2021-06-15T15:22:44.691Z"
   },
   {
    "duration": 13,
    "start_time": "2021-06-15T15:22:50.967Z"
   },
   {
    "duration": 1361,
    "start_time": "2021-06-15T18:57:09.892Z"
   },
   {
    "duration": 47,
    "start_time": "2021-06-15T18:57:13.377Z"
   },
   {
    "duration": 35,
    "start_time": "2021-06-15T18:57:15.680Z"
   },
   {
    "duration": 14,
    "start_time": "2021-06-15T18:57:20.611Z"
   },
   {
    "duration": 13,
    "start_time": "2021-06-15T18:57:43.353Z"
   },
   {
    "duration": 4,
    "start_time": "2021-06-15T18:57:47.676Z"
   },
   {
    "duration": 14,
    "start_time": "2021-06-15T18:57:53.952Z"
   },
   {
    "duration": 11,
    "start_time": "2021-06-15T18:58:04.335Z"
   },
   {
    "duration": 7,
    "start_time": "2021-06-15T18:58:11.640Z"
   },
   {
    "duration": 33,
    "start_time": "2021-06-15T18:58:24.155Z"
   },
   {
    "duration": 6,
    "start_time": "2021-06-15T19:02:40.520Z"
   },
   {
    "duration": 8,
    "start_time": "2021-06-15T19:02:49.155Z"
   },
   {
    "duration": 32,
    "start_time": "2021-06-15T19:05:50.550Z"
   },
   {
    "duration": 12,
    "start_time": "2021-06-15T19:05:59.127Z"
   },
   {
    "duration": 31,
    "start_time": "2021-06-15T19:09:24.926Z"
   },
   {
    "duration": 11,
    "start_time": "2021-06-15T19:09:33.219Z"
   },
   {
    "duration": 12,
    "start_time": "2021-06-15T19:09:45.035Z"
   },
   {
    "duration": 23,
    "start_time": "2021-06-15T19:09:52.605Z"
   },
   {
    "duration": 12,
    "start_time": "2021-06-15T19:10:11.951Z"
   },
   {
    "duration": 1264,
    "start_time": "2021-06-15T19:17:45.461Z"
   },
   {
    "duration": 47,
    "start_time": "2021-06-15T19:17:48.256Z"
   },
   {
    "duration": 33,
    "start_time": "2021-06-15T19:17:50.909Z"
   },
   {
    "duration": 17,
    "start_time": "2021-06-15T19:17:52.460Z"
   },
   {
    "duration": 14,
    "start_time": "2021-06-15T19:18:22.709Z"
   },
   {
    "duration": 4,
    "start_time": "2021-06-15T19:18:45.585Z"
   },
   {
    "duration": 14,
    "start_time": "2021-06-15T19:18:49.129Z"
   },
   {
    "duration": 11,
    "start_time": "2021-06-15T19:18:53.240Z"
   },
   {
    "duration": 8,
    "start_time": "2021-06-15T19:19:01.011Z"
   },
   {
    "duration": 38,
    "start_time": "2021-06-15T19:19:06.154Z"
   },
   {
    "duration": 6,
    "start_time": "2021-06-15T19:19:13.521Z"
   },
   {
    "duration": 7,
    "start_time": "2021-06-15T19:19:18.431Z"
   },
   {
    "duration": 32,
    "start_time": "2021-06-15T19:19:21.820Z"
   },
   {
    "duration": 45,
    "start_time": "2021-06-15T19:19:44.797Z"
   },
   {
    "duration": 21,
    "start_time": "2021-06-15T19:19:50.261Z"
   },
   {
    "duration": 480,
    "start_time": "2021-06-15T19:33:07.600Z"
   },
   {
    "duration": 34,
    "start_time": "2021-06-15T19:37:55.407Z"
   },
   {
    "duration": 463,
    "start_time": "2021-06-15T19:39:34.120Z"
   },
   {
    "duration": 34,
    "start_time": "2021-06-15T19:42:03.697Z"
   },
   {
    "duration": 383,
    "start_time": "2021-06-15T19:47:19.347Z"
   },
   {
    "duration": 32,
    "start_time": "2021-06-15T19:47:32.813Z"
   },
   {
    "duration": 7033,
    "start_time": "2021-06-15T19:47:47.827Z"
   },
   {
    "duration": 304,
    "start_time": "2021-06-15T19:48:36.423Z"
   },
   {
    "duration": 913,
    "start_time": "2021-06-15T19:49:13.554Z"
   },
   {
    "duration": 932,
    "start_time": "2021-06-15T19:49:19.706Z"
   },
   {
    "duration": 1067,
    "start_time": "2021-06-15T19:51:28.973Z"
   },
   {
    "duration": 413,
    "start_time": "2021-06-15T19:52:02.837Z"
   },
   {
    "duration": 206,
    "start_time": "2021-06-15T20:18:11.354Z"
   },
   {
    "duration": 460,
    "start_time": "2021-06-15T20:25:14.790Z"
   },
   {
    "duration": 222,
    "start_time": "2021-06-15T20:26:44.444Z"
   },
   {
    "duration": 710,
    "start_time": "2021-06-15T20:32:58.913Z"
   },
   {
    "duration": 235,
    "start_time": "2021-06-15T20:36:04.913Z"
   },
   {
    "duration": 219,
    "start_time": "2021-06-15T20:37:08.285Z"
   },
   {
    "duration": 194,
    "start_time": "2021-06-15T20:37:23.627Z"
   },
   {
    "duration": 538,
    "start_time": "2021-06-15T20:37:39.655Z"
   },
   {
    "duration": 700,
    "start_time": "2021-06-15T20:38:45.107Z"
   },
   {
    "duration": 8,
    "start_time": "2021-06-15T20:40:57.896Z"
   },
   {
    "duration": 11,
    "start_time": "2021-06-15T20:41:10.053Z"
   },
   {
    "duration": 374,
    "start_time": "2021-06-15T20:41:28.896Z"
   },
   {
    "duration": 538,
    "start_time": "2021-06-15T20:44:02.381Z"
   },
   {
    "duration": 568,
    "start_time": "2021-06-15T20:46:53.991Z"
   },
   {
    "duration": 8,
    "start_time": "2021-06-15T20:56:43.862Z"
   },
   {
    "duration": 496,
    "start_time": "2021-06-15T20:56:52.980Z"
   },
   {
    "duration": 267,
    "start_time": "2021-06-15T20:57:35.933Z"
   },
   {
    "duration": 380,
    "start_time": "2021-06-15T20:58:13.180Z"
   },
   {
    "duration": 265,
    "start_time": "2021-06-15T20:58:37.967Z"
   },
   {
    "duration": 258,
    "start_time": "2021-06-15T20:59:18.772Z"
   },
   {
    "duration": 376,
    "start_time": "2021-06-15T20:59:33.017Z"
   },
   {
    "duration": 593,
    "start_time": "2021-06-15T21:00:02.039Z"
   },
   {
    "duration": 6821,
    "start_time": "2021-06-15T21:05:40.171Z"
   },
   {
    "duration": 255,
    "start_time": "2021-06-15T21:06:58.183Z"
   },
   {
    "duration": 342,
    "start_time": "2021-06-15T21:10:56.258Z"
   },
   {
    "duration": 6454,
    "start_time": "2021-06-15T21:11:18.722Z"
   },
   {
    "duration": 265,
    "start_time": "2021-06-15T21:11:37.522Z"
   },
   {
    "duration": 37,
    "start_time": "2021-06-15T21:14:17.000Z"
   },
   {
    "duration": 342,
    "start_time": "2021-06-15T21:15:00.535Z"
   },
   {
    "duration": 372,
    "start_time": "2021-06-15T21:15:19.867Z"
   },
   {
    "duration": 39,
    "start_time": "2021-06-15T21:15:29.126Z"
   },
   {
    "duration": 477,
    "start_time": "2021-06-15T21:16:34.583Z"
   },
   {
    "duration": 203,
    "start_time": "2021-06-15T21:16:48.588Z"
   },
   {
    "duration": 336,
    "start_time": "2021-06-15T21:17:31.827Z"
   },
   {
    "duration": 56,
    "start_time": "2021-06-15T21:18:56.456Z"
   },
   {
    "duration": 346,
    "start_time": "2021-06-15T21:19:27.441Z"
   },
   {
    "duration": 6431,
    "start_time": "2021-06-15T21:25:24.818Z"
   },
   {
    "duration": 10,
    "start_time": "2021-06-15T21:25:57.290Z"
   },
   {
    "duration": 674,
    "start_time": "2021-06-15T21:26:47.352Z"
   },
   {
    "duration": 432,
    "start_time": "2021-06-15T21:27:14.294Z"
   },
   {
    "duration": 299,
    "start_time": "2021-06-15T21:27:50.687Z"
   },
   {
    "duration": 8,
    "start_time": "2021-06-15T21:29:56.140Z"
   },
   {
    "duration": 39,
    "start_time": "2021-06-15T21:30:08.627Z"
   },
   {
    "duration": 532,
    "start_time": "2021-06-15T21:30:51.005Z"
   },
   {
    "duration": 589,
    "start_time": "2021-06-15T21:31:48.194Z"
   },
   {
    "duration": 714,
    "start_time": "2021-06-15T21:32:37.108Z"
   },
   {
    "duration": 588,
    "start_time": "2021-06-15T21:32:51.430Z"
   },
   {
    "duration": 556,
    "start_time": "2021-06-15T21:33:16.451Z"
   },
   {
    "duration": 188,
    "start_time": "2021-06-15T21:34:22.310Z"
   },
   {
    "duration": 664,
    "start_time": "2021-06-15T21:36:23.994Z"
   },
   {
    "duration": 659,
    "start_time": "2021-06-15T21:37:32.591Z"
   },
   {
    "duration": 901,
    "start_time": "2021-06-15T21:38:32.708Z"
   },
   {
    "duration": 699,
    "start_time": "2021-06-15T21:41:26.716Z"
   },
   {
    "duration": 273,
    "start_time": "2021-06-15T21:44:04.241Z"
   },
   {
    "duration": 256,
    "start_time": "2021-06-15T21:44:16.033Z"
   },
   {
    "duration": 681,
    "start_time": "2021-06-15T21:44:42.156Z"
   },
   {
    "duration": 921,
    "start_time": "2021-06-15T21:45:14.610Z"
   },
   {
    "duration": 1037,
    "start_time": "2021-06-15T21:45:33.069Z"
   },
   {
    "duration": 352,
    "start_time": "2021-06-16T07:08:31.368Z"
   },
   {
    "duration": 1420,
    "start_time": "2021-06-16T07:33:10.635Z"
   },
   {
    "duration": 52,
    "start_time": "2021-06-16T07:33:13.714Z"
   },
   {
    "duration": 44,
    "start_time": "2021-06-16T07:33:17.679Z"
   },
   {
    "duration": 21,
    "start_time": "2021-06-16T07:33:23.065Z"
   },
   {
    "duration": 21,
    "start_time": "2021-06-16T07:33:27.274Z"
   },
   {
    "duration": 17,
    "start_time": "2021-06-16T07:33:36.620Z"
   },
   {
    "duration": 5,
    "start_time": "2021-06-16T07:33:40.685Z"
   },
   {
    "duration": 18,
    "start_time": "2021-06-16T07:33:44.247Z"
   },
   {
    "duration": 11,
    "start_time": "2021-06-16T07:34:09.827Z"
   },
   {
    "duration": 8,
    "start_time": "2021-06-16T07:34:15.926Z"
   },
   {
    "duration": 35,
    "start_time": "2021-06-16T07:34:21.270Z"
   },
   {
    "duration": 12,
    "start_time": "2021-06-16T07:34:37.901Z"
   },
   {
    "duration": 10,
    "start_time": "2021-06-16T07:34:50.876Z"
   },
   {
    "duration": 36,
    "start_time": "2021-06-16T07:34:55.685Z"
   },
   {
    "duration": 11,
    "start_time": "2021-06-16T07:59:23.933Z"
   },
   {
    "duration": 24,
    "start_time": "2021-06-16T07:59:26.964Z"
   },
   {
    "duration": 17,
    "start_time": "2021-06-16T08:02:35.566Z"
   },
   {
    "duration": 523,
    "start_time": "2021-06-16T08:25:20.541Z"
   },
   {
    "duration": 11,
    "start_time": "2021-06-16T08:25:36.613Z"
   },
   {
    "duration": 404,
    "start_time": "2021-06-16T08:25:39.767Z"
   },
   {
    "duration": 15,
    "start_time": "2021-06-16T08:26:15.082Z"
   },
   {
    "duration": 493,
    "start_time": "2021-06-16T08:26:23.721Z"
   },
   {
    "duration": 546,
    "start_time": "2021-06-16T08:27:12.889Z"
   },
   {
    "duration": 4,
    "start_time": "2021-06-16T08:28:40.305Z"
   },
   {
    "duration": 375,
    "start_time": "2021-06-16T08:54:35.416Z"
   },
   {
    "duration": 998,
    "start_time": "2021-06-16T08:55:11.416Z"
   },
   {
    "duration": 598,
    "start_time": "2021-06-16T08:55:46.397Z"
   },
   {
    "duration": 585,
    "start_time": "2021-06-16T08:55:58.211Z"
   },
   {
    "duration": 770,
    "start_time": "2021-06-16T08:59:49.149Z"
   },
   {
    "duration": 1111,
    "start_time": "2021-06-16T09:00:05.791Z"
   },
   {
    "duration": 734,
    "start_time": "2021-06-16T09:00:19.356Z"
   },
   {
    "duration": 34,
    "start_time": "2021-06-16T09:05:18.477Z"
   },
   {
    "duration": 56,
    "start_time": "2021-06-16T09:06:57.882Z"
   },
   {
    "duration": 82,
    "start_time": "2021-06-16T09:09:19.254Z"
   },
   {
    "duration": 33,
    "start_time": "2021-06-16T09:10:20.675Z"
   },
   {
    "duration": 55,
    "start_time": "2021-06-16T09:16:38.680Z"
   },
   {
    "duration": 284,
    "start_time": "2021-06-16T09:17:37.019Z"
   },
   {
    "duration": 14,
    "start_time": "2021-06-16T09:19:37.811Z"
   },
   {
    "duration": 23,
    "start_time": "2021-06-16T09:20:16.824Z"
   },
   {
    "duration": 342,
    "start_time": "2021-06-16T12:27:04.539Z"
   },
   {
    "duration": 17,
    "start_time": "2021-06-16T12:29:02.144Z"
   },
   {
    "duration": 27,
    "start_time": "2021-06-16T12:29:13.532Z"
   },
   {
    "duration": 271,
    "start_time": "2021-06-16T12:29:23.691Z"
   },
   {
    "duration": 25,
    "start_time": "2021-06-16T12:29:29.960Z"
   },
   {
    "duration": 23,
    "start_time": "2021-06-16T12:29:54.979Z"
   },
   {
    "duration": 23,
    "start_time": "2021-06-16T12:31:00.704Z"
   },
   {
    "duration": 24,
    "start_time": "2021-06-16T12:31:16.633Z"
   },
   {
    "duration": 40,
    "start_time": "2021-06-16T12:31:56.210Z"
   },
   {
    "duration": 24,
    "start_time": "2021-06-16T12:33:17.346Z"
   },
   {
    "duration": 51,
    "start_time": "2021-06-16T12:38:54.478Z"
   },
   {
    "duration": 25,
    "start_time": "2021-06-16T12:39:01.481Z"
   },
   {
    "duration": 26,
    "start_time": "2021-06-16T12:40:21.269Z"
   },
   {
    "duration": 32,
    "start_time": "2021-06-16T12:41:16.406Z"
   },
   {
    "duration": 24,
    "start_time": "2021-06-16T12:41:57.983Z"
   },
   {
    "duration": 96,
    "start_time": "2021-06-16T13:16:54.420Z"
   },
   {
    "duration": 515,
    "start_time": "2021-06-16T15:29:33.012Z"
   },
   {
    "duration": 93,
    "start_time": "2021-06-16T15:29:44.604Z"
   },
   {
    "duration": 320,
    "start_time": "2021-06-16T15:29:54.709Z"
   },
   {
    "duration": 289,
    "start_time": "2021-06-16T15:30:06.301Z"
   },
   {
    "duration": 270,
    "start_time": "2021-06-16T15:30:23.754Z"
   },
   {
    "duration": 745,
    "start_time": "2021-06-16T15:31:08.205Z"
   },
   {
    "duration": 386,
    "start_time": "2021-06-16T15:31:44.686Z"
   },
   {
    "duration": 405,
    "start_time": "2021-06-16T15:32:03.356Z"
   },
   {
    "duration": 407,
    "start_time": "2021-06-16T15:34:40.526Z"
   },
   {
    "duration": 488,
    "start_time": "2021-06-16T15:35:15.853Z"
   },
   {
    "duration": 375,
    "start_time": "2021-06-16T15:35:32.875Z"
   },
   {
    "duration": 368,
    "start_time": "2021-06-16T15:36:21.738Z"
   },
   {
    "duration": 408,
    "start_time": "2021-06-16T16:08:56.694Z"
   },
   {
    "duration": 569,
    "start_time": "2021-06-16T16:09:52.235Z"
   },
   {
    "duration": 402,
    "start_time": "2021-06-16T16:12:20.600Z"
   },
   {
    "duration": 406,
    "start_time": "2021-06-16T16:13:56.230Z"
   },
   {
    "duration": 394,
    "start_time": "2021-06-16T16:14:06.674Z"
   },
   {
    "duration": 498,
    "start_time": "2021-06-16T16:14:34.335Z"
   },
   {
    "duration": 523,
    "start_time": "2021-06-16T16:15:36.963Z"
   },
   {
    "duration": 555,
    "start_time": "2021-06-16T16:16:33.492Z"
   },
   {
    "duration": 739,
    "start_time": "2021-06-16T16:17:43.112Z"
   },
   {
    "duration": 380,
    "start_time": "2021-06-16T16:18:24.101Z"
   },
   {
    "duration": 706,
    "start_time": "2021-06-16T16:20:42.319Z"
   },
   {
    "duration": 745,
    "start_time": "2021-06-16T16:20:59.080Z"
   },
   {
    "duration": 411,
    "start_time": "2021-06-16T16:24:00.068Z"
   },
   {
    "duration": 425,
    "start_time": "2021-06-16T16:24:06.570Z"
   },
   {
    "duration": 426,
    "start_time": "2021-06-16T16:24:12.105Z"
   },
   {
    "duration": 585,
    "start_time": "2021-06-16T16:24:17.430Z"
   },
   {
    "duration": 295,
    "start_time": "2021-06-16T16:24:55.428Z"
   },
   {
    "duration": 24,
    "start_time": "2021-06-16T16:25:10.406Z"
   },
   {
    "duration": 23,
    "start_time": "2021-06-16T16:25:26.464Z"
   },
   {
    "duration": 23,
    "start_time": "2021-06-16T16:25:45.366Z"
   },
   {
    "duration": 22,
    "start_time": "2021-06-16T16:25:55.278Z"
   },
   {
    "duration": 1234,
    "start_time": "2021-06-16T16:26:43.290Z"
   },
   {
    "duration": 1057,
    "start_time": "2021-06-16T16:26:59.259Z"
   },
   {
    "duration": 25,
    "start_time": "2021-06-16T16:27:21.978Z"
   },
   {
    "duration": 25,
    "start_time": "2021-06-16T16:27:34.872Z"
   },
   {
    "duration": 26,
    "start_time": "2021-06-16T16:27:55.014Z"
   },
   {
    "duration": 26,
    "start_time": "2021-06-16T16:28:11.730Z"
   },
   {
    "duration": 1226,
    "start_time": "2021-06-16T16:35:36.221Z"
   },
   {
    "duration": 1621,
    "start_time": "2021-06-16T16:35:54.772Z"
   },
   {
    "duration": 1447,
    "start_time": "2021-06-16T16:37:57.664Z"
   },
   {
    "duration": 1179,
    "start_time": "2021-06-16T16:38:21.515Z"
   },
   {
    "duration": 24,
    "start_time": "2021-06-16T16:38:58.567Z"
   },
   {
    "duration": 31,
    "start_time": "2021-06-16T16:39:17.189Z"
   },
   {
    "duration": 24,
    "start_time": "2021-06-16T16:39:33.145Z"
   },
   {
    "duration": 26,
    "start_time": "2021-06-16T16:39:46.161Z"
   },
   {
    "duration": 1601,
    "start_time": "2021-06-16T16:44:09.382Z"
   },
   {
    "duration": 66,
    "start_time": "2021-06-16T16:44:14.267Z"
   },
   {
    "duration": 29,
    "start_time": "2021-06-16T16:44:17.177Z"
   },
   {
    "duration": 15,
    "start_time": "2021-06-16T16:44:21.638Z"
   },
   {
    "duration": 12,
    "start_time": "2021-06-16T16:44:27.180Z"
   },
   {
    "duration": 4,
    "start_time": "2021-06-16T16:44:37.737Z"
   },
   {
    "duration": 14,
    "start_time": "2021-06-16T16:44:45.856Z"
   },
   {
    "duration": 10,
    "start_time": "2021-06-16T16:44:51.143Z"
   },
   {
    "duration": 7,
    "start_time": "2021-06-16T16:44:54.305Z"
   },
   {
    "duration": 55,
    "start_time": "2021-06-16T16:44:58.611Z"
   },
   {
    "duration": 8,
    "start_time": "2021-06-16T16:45:06.400Z"
   },
   {
    "duration": 7,
    "start_time": "2021-06-16T16:45:15.370Z"
   },
   {
    "duration": 35,
    "start_time": "2021-06-16T16:45:21.783Z"
   },
   {
    "duration": 13,
    "start_time": "2021-06-16T16:45:52.653Z"
   },
   {
    "duration": 24,
    "start_time": "2021-06-16T16:45:57.993Z"
   },
   {
    "duration": 12,
    "start_time": "2021-06-16T16:46:08.692Z"
   },
   {
    "duration": 576,
    "start_time": "2021-06-16T16:46:15.436Z"
   },
   {
    "duration": 10,
    "start_time": "2021-06-16T16:46:24.252Z"
   },
   {
    "duration": 548,
    "start_time": "2021-06-16T16:46:30.201Z"
   },
   {
    "duration": 1681,
    "start_time": "2021-06-16T16:46:54.236Z"
   },
   {
    "duration": 37,
    "start_time": "2021-06-16T16:48:59.766Z"
   },
   {
    "duration": 6654,
    "start_time": "2021-06-16T16:49:38.924Z"
   },
   {
    "duration": 6459,
    "start_time": "2021-06-16T16:49:48.278Z"
   },
   {
    "duration": 302,
    "start_time": "2021-06-16T16:51:41.231Z"
   },
   {
    "duration": 320,
    "start_time": "2021-06-16T16:52:08.903Z"
   },
   {
    "duration": 294,
    "start_time": "2021-06-16T16:52:57.676Z"
   },
   {
    "duration": 282,
    "start_time": "2021-06-16T16:53:22.702Z"
   },
   {
    "duration": 605,
    "start_time": "2021-06-16T16:53:43.610Z"
   },
   {
    "duration": 536,
    "start_time": "2021-06-16T16:54:07.727Z"
   },
   {
    "duration": 25,
    "start_time": "2021-06-16T16:54:13.772Z"
   },
   {
    "duration": 26,
    "start_time": "2021-06-16T16:54:17.926Z"
   },
   {
    "duration": 24,
    "start_time": "2021-06-16T16:54:21.077Z"
   },
   {
    "duration": 24,
    "start_time": "2021-06-16T16:54:23.749Z"
   },
   {
    "duration": 1122,
    "start_time": "2021-06-16T16:54:27.930Z"
   },
   {
    "duration": 25,
    "start_time": "2021-06-16T16:54:32.718Z"
   },
   {
    "duration": 26,
    "start_time": "2021-06-16T16:54:35.337Z"
   },
   {
    "duration": 41,
    "start_time": "2021-06-16T16:54:38.689Z"
   },
   {
    "duration": 26,
    "start_time": "2021-06-16T16:54:41.892Z"
   },
   {
    "duration": 1288,
    "start_time": "2021-06-16T16:54:46.430Z"
   },
   {
    "duration": 7149,
    "start_time": "2021-06-16T16:56:08.802Z"
   },
   {
    "duration": 7,
    "start_time": "2021-06-16T16:56:29.439Z"
   },
   {
    "duration": 7,
    "start_time": "2021-06-16T17:04:27.224Z"
   },
   {
    "duration": 280,
    "start_time": "2021-06-16T17:28:23.662Z"
   },
   {
    "duration": 13,
    "start_time": "2021-06-16T17:30:52.769Z"
   },
   {
    "duration": 18,
    "start_time": "2021-06-16T17:31:07.860Z"
   },
   {
    "duration": 18,
    "start_time": "2021-06-16T17:31:35.777Z"
   },
   {
    "duration": 14,
    "start_time": "2021-06-16T17:32:14.093Z"
   },
   {
    "duration": 17,
    "start_time": "2021-06-16T17:32:39.263Z"
   },
   {
    "duration": 9,
    "start_time": "2021-06-16T17:33:13.521Z"
   },
   {
    "duration": 16,
    "start_time": "2021-06-16T17:33:52.394Z"
   },
   {
    "duration": 13,
    "start_time": "2021-06-16T17:39:11.913Z"
   },
   {
    "duration": 299,
    "start_time": "2021-06-16T17:42:16.577Z"
   },
   {
    "duration": 6,
    "start_time": "2021-06-16T17:42:44.276Z"
   },
   {
    "duration": 91,
    "start_time": "2021-06-16T17:42:57.944Z"
   },
   {
    "duration": 6,
    "start_time": "2021-06-16T17:43:16.867Z"
   },
   {
    "duration": 14,
    "start_time": "2021-06-16T18:05:29.461Z"
   },
   {
    "duration": 8,
    "start_time": "2021-06-16T18:05:53.133Z"
   },
   {
    "duration": 1405,
    "start_time": "2021-06-16T20:09:33.785Z"
   },
   {
    "duration": 48,
    "start_time": "2021-06-16T20:09:48.568Z"
   },
   {
    "duration": 28,
    "start_time": "2021-06-16T20:09:52.535Z"
   },
   {
    "duration": 15,
    "start_time": "2021-06-16T20:09:56.083Z"
   },
   {
    "duration": 13,
    "start_time": "2021-06-16T20:10:05.290Z"
   },
   {
    "duration": 5,
    "start_time": "2021-06-16T20:10:12.464Z"
   },
   {
    "duration": 20,
    "start_time": "2021-06-16T20:10:18.104Z"
   },
   {
    "duration": 11,
    "start_time": "2021-06-16T20:10:22.157Z"
   },
   {
    "duration": 7,
    "start_time": "2021-06-16T20:10:27.321Z"
   },
   {
    "duration": 33,
    "start_time": "2021-06-16T20:10:43.140Z"
   },
   {
    "duration": 7,
    "start_time": "2021-06-16T20:11:38.046Z"
   },
   {
    "duration": 8,
    "start_time": "2021-06-16T20:11:43.904Z"
   },
   {
    "duration": 33,
    "start_time": "2021-06-16T20:11:50.559Z"
   },
   {
    "duration": 17,
    "start_time": "2021-06-16T20:12:12.407Z"
   },
   {
    "duration": 23,
    "start_time": "2021-06-16T20:12:16.438Z"
   },
   {
    "duration": 11,
    "start_time": "2021-06-16T20:12:20.420Z"
   },
   {
    "duration": 8,
    "start_time": "2021-06-16T20:12:53.102Z"
   },
   {
    "duration": 759,
    "start_time": "2021-06-16T20:13:14.786Z"
   },
   {
    "duration": 13,
    "start_time": "2021-06-16T20:13:23.240Z"
   },
   {
    "duration": 539,
    "start_time": "2021-06-16T20:13:31.300Z"
   },
   {
    "duration": 595,
    "start_time": "2021-06-16T20:14:15.232Z"
   },
   {
    "duration": 545,
    "start_time": "2021-06-16T20:14:19.264Z"
   },
   {
    "duration": 452,
    "start_time": "2021-06-16T20:14:36.660Z"
   },
   {
    "duration": 614,
    "start_time": "2021-06-16T20:14:49.360Z"
   },
   {
    "duration": 536,
    "start_time": "2021-06-16T20:15:03.486Z"
   },
   {
    "duration": 27,
    "start_time": "2021-06-16T20:15:28.362Z"
   },
   {
    "duration": 26,
    "start_time": "2021-06-16T20:15:31.110Z"
   },
   {
    "duration": 24,
    "start_time": "2021-06-16T20:15:35.947Z"
   },
   {
    "duration": 25,
    "start_time": "2021-06-16T20:15:38.567Z"
   },
   {
    "duration": 1120,
    "start_time": "2021-06-16T20:15:40.814Z"
   },
   {
    "duration": 24,
    "start_time": "2021-06-16T20:21:08.239Z"
   },
   {
    "duration": 25,
    "start_time": "2021-06-16T20:21:11.932Z"
   },
   {
    "duration": 25,
    "start_time": "2021-06-16T20:21:24.359Z"
   },
   {
    "duration": 25,
    "start_time": "2021-06-16T20:21:28.086Z"
   },
   {
    "duration": 1238,
    "start_time": "2021-06-16T20:22:19.098Z"
   },
   {
    "duration": 8,
    "start_time": "2021-06-16T20:28:51.383Z"
   },
   {
    "duration": 6,
    "start_time": "2021-06-16T20:30:38.644Z"
   },
   {
    "duration": 7,
    "start_time": "2021-06-16T20:30:45.202Z"
   },
   {
    "duration": 8,
    "start_time": "2021-06-16T20:35:42.675Z"
   },
   {
    "duration": 7,
    "start_time": "2021-06-16T20:35:48.126Z"
   },
   {
    "duration": 360,
    "start_time": "2021-06-16T20:42:19.530Z"
   },
   {
    "duration": 395,
    "start_time": "2021-06-16T20:42:44.239Z"
   },
   {
    "duration": 38,
    "start_time": "2021-06-16T20:43:01.708Z"
   },
   {
    "duration": 35,
    "start_time": "2021-06-16T20:46:32.559Z"
   },
   {
    "duration": 26,
    "start_time": "2021-06-16T20:47:27.553Z"
   },
   {
    "duration": 26,
    "start_time": "2021-06-16T20:48:44.078Z"
   },
   {
    "duration": 25,
    "start_time": "2021-06-16T20:49:03.376Z"
   },
   {
    "duration": 24,
    "start_time": "2021-06-16T20:49:17.077Z"
   },
   {
    "duration": 13,
    "start_time": "2021-06-16T20:51:09.873Z"
   },
   {
    "duration": 8,
    "start_time": "2021-06-16T20:51:16.198Z"
   },
   {
    "duration": 6,
    "start_time": "2021-06-16T20:51:26.719Z"
   },
   {
    "duration": 14,
    "start_time": "2021-06-16T20:51:41.878Z"
   },
   {
    "duration": 8,
    "start_time": "2021-06-16T20:51:45.703Z"
   },
   {
    "duration": 13,
    "start_time": "2021-06-16T20:52:21.707Z"
   },
   {
    "duration": 7,
    "start_time": "2021-06-16T20:52:25.120Z"
   },
   {
    "duration": 13,
    "start_time": "2021-06-16T20:52:49.621Z"
   },
   {
    "duration": 9,
    "start_time": "2021-06-16T20:52:53.193Z"
   },
   {
    "duration": 7,
    "start_time": "2021-06-16T20:55:39.193Z"
   },
   {
    "duration": 108,
    "start_time": "2021-06-16T20:59:09.411Z"
   },
   {
    "duration": 320,
    "start_time": "2021-06-17T10:09:45.222Z"
   },
   {
    "duration": 1369,
    "start_time": "2021-06-17T10:10:13.878Z"
   },
   {
    "duration": 48,
    "start_time": "2021-06-17T10:10:17.341Z"
   },
   {
    "duration": 26,
    "start_time": "2021-06-17T10:10:20.070Z"
   },
   {
    "duration": 14,
    "start_time": "2021-06-17T10:10:23.277Z"
   },
   {
    "duration": 12,
    "start_time": "2021-06-17T10:10:27.519Z"
   },
   {
    "duration": 4,
    "start_time": "2021-06-17T10:10:30.408Z"
   },
   {
    "duration": 13,
    "start_time": "2021-06-17T10:10:33.583Z"
   },
   {
    "duration": 12,
    "start_time": "2021-06-17T10:10:36.479Z"
   },
   {
    "duration": 8,
    "start_time": "2021-06-17T10:10:39.133Z"
   },
   {
    "duration": 32,
    "start_time": "2021-06-17T10:10:43.127Z"
   },
   {
    "duration": 7,
    "start_time": "2021-06-17T10:10:47.845Z"
   },
   {
    "duration": 7,
    "start_time": "2021-06-17T10:10:51.057Z"
   },
   {
    "duration": 38,
    "start_time": "2021-06-17T10:10:54.752Z"
   },
   {
    "duration": 12,
    "start_time": "2021-06-17T10:10:57.541Z"
   },
   {
    "duration": 26,
    "start_time": "2021-06-17T10:11:01.558Z"
   },
   {
    "duration": 12,
    "start_time": "2021-06-17T10:11:08.986Z"
   },
   {
    "duration": 702,
    "start_time": "2021-06-17T10:11:20.670Z"
   },
   {
    "duration": 10,
    "start_time": "2021-06-17T10:11:31.205Z"
   },
   {
    "duration": 479,
    "start_time": "2021-06-17T10:11:42.733Z"
   },
   {
    "duration": 403,
    "start_time": "2021-06-17T10:12:15.389Z"
   },
   {
    "duration": 39,
    "start_time": "2021-06-17T10:12:44.978Z"
   },
   {
    "duration": 593,
    "start_time": "2021-06-17T10:13:20.493Z"
   },
   {
    "duration": 559,
    "start_time": "2021-06-17T10:14:21.080Z"
   },
   {
    "duration": 580,
    "start_time": "2021-06-17T10:14:35.796Z"
   },
   {
    "duration": 638,
    "start_time": "2021-06-17T10:15:09.246Z"
   },
   {
    "duration": 589,
    "start_time": "2021-06-17T10:15:52.577Z"
   },
   {
    "duration": 88,
    "start_time": "2021-06-17T10:16:26.969Z"
   },
   {
    "duration": 571,
    "start_time": "2021-06-17T10:16:36.977Z"
   },
   {
    "duration": 580,
    "start_time": "2021-06-17T10:17:04.423Z"
   },
   {
    "duration": 279,
    "start_time": "2021-06-17T10:18:32.918Z"
   },
   {
    "duration": 536,
    "start_time": "2021-06-17T10:18:59.052Z"
   },
   {
    "duration": 10,
    "start_time": "2021-06-17T10:19:18.002Z"
   },
   {
    "duration": 515,
    "start_time": "2021-06-17T10:19:59.745Z"
   },
   {
    "duration": 26,
    "start_time": "2021-06-17T10:20:09.257Z"
   },
   {
    "duration": 25,
    "start_time": "2021-06-17T10:20:12.228Z"
   },
   {
    "duration": 24,
    "start_time": "2021-06-17T10:20:52.358Z"
   },
   {
    "duration": 25,
    "start_time": "2021-06-17T10:20:55.532Z"
   },
   {
    "duration": 1121,
    "start_time": "2021-06-17T10:20:58.274Z"
   },
   {
    "duration": 24,
    "start_time": "2021-06-17T10:21:28.191Z"
   },
   {
    "duration": 26,
    "start_time": "2021-06-17T10:21:31.392Z"
   },
   {
    "duration": 28,
    "start_time": "2021-06-17T10:21:33.707Z"
   },
   {
    "duration": 27,
    "start_time": "2021-06-17T10:21:36.200Z"
   },
   {
    "duration": 1208,
    "start_time": "2021-06-17T10:21:38.938Z"
   },
   {
    "duration": 7,
    "start_time": "2021-06-17T10:22:18.302Z"
   },
   {
    "duration": 8,
    "start_time": "2021-06-17T10:22:29.648Z"
   },
   {
    "duration": 379,
    "start_time": "2021-06-17T10:22:33.636Z"
   },
   {
    "duration": 40,
    "start_time": "2021-06-17T10:22:39.360Z"
   },
   {
    "duration": 27,
    "start_time": "2021-06-17T10:22:44.361Z"
   },
   {
    "duration": 26,
    "start_time": "2021-06-17T10:22:57.607Z"
   },
   {
    "duration": 24,
    "start_time": "2021-06-17T10:23:01.893Z"
   },
   {
    "duration": 12,
    "start_time": "2021-06-17T10:23:11.507Z"
   },
   {
    "duration": 7,
    "start_time": "2021-06-17T10:23:13.180Z"
   },
   {
    "duration": 6,
    "start_time": "2021-06-17T10:23:15.744Z"
   },
   {
    "duration": 19,
    "start_time": "2021-06-17T10:23:21.576Z"
   },
   {
    "duration": 9,
    "start_time": "2021-06-17T10:23:23.235Z"
   },
   {
    "duration": 8,
    "start_time": "2021-06-17T10:23:25.698Z"
   },
   {
    "duration": 9,
    "start_time": "2021-06-17T14:55:12.664Z"
   },
   {
    "duration": 37,
    "start_time": "2021-06-17T14:55:24.011Z"
   },
   {
    "duration": 295,
    "start_time": "2021-06-17T15:02:53.388Z"
   },
   {
    "duration": 6998,
    "start_time": "2021-06-17T15:03:08.786Z"
   },
   {
    "duration": 498,
    "start_time": "2021-06-17T15:03:41.768Z"
   },
   {
    "duration": 274,
    "start_time": "2021-06-17T15:03:49.159Z"
   },
   {
    "duration": 488,
    "start_time": "2021-06-17T15:05:42.564Z"
   },
   {
    "duration": 214,
    "start_time": "2021-06-17T19:35:37.086Z"
   },
   {
    "duration": 1005,
    "start_time": "2021-06-17T19:43:06.157Z"
   },
   {
    "duration": 43,
    "start_time": "2021-06-17T19:43:08.846Z"
   },
   {
    "duration": 16,
    "start_time": "2021-06-17T19:43:11.367Z"
   },
   {
    "duration": 9,
    "start_time": "2021-06-17T19:43:15.572Z"
   },
   {
    "duration": 9,
    "start_time": "2021-06-17T19:43:20.983Z"
   },
   {
    "duration": 3,
    "start_time": "2021-06-17T19:43:23.465Z"
   },
   {
    "duration": 9,
    "start_time": "2021-06-17T19:43:28.067Z"
   },
   {
    "duration": 8,
    "start_time": "2021-06-17T19:43:31.111Z"
   },
   {
    "duration": 6,
    "start_time": "2021-06-17T19:43:33.992Z"
   },
   {
    "duration": 20,
    "start_time": "2021-06-17T19:43:37.456Z"
   },
   {
    "duration": 5,
    "start_time": "2021-06-17T19:43:42.477Z"
   },
   {
    "duration": 6,
    "start_time": "2021-06-17T19:43:47.460Z"
   },
   {
    "duration": 22,
    "start_time": "2021-06-17T19:43:57.966Z"
   },
   {
    "duration": 8,
    "start_time": "2021-06-17T19:44:03.379Z"
   },
   {
    "duration": 17,
    "start_time": "2021-06-17T19:44:05.969Z"
   },
   {
    "duration": 9,
    "start_time": "2021-06-17T19:44:09.167Z"
   },
   {
    "duration": 322,
    "start_time": "2021-06-17T19:44:16.315Z"
   },
   {
    "duration": 8,
    "start_time": "2021-06-17T19:44:30.900Z"
   },
   {
    "duration": 284,
    "start_time": "2021-06-17T19:44:35.354Z"
   },
   {
    "duration": 289,
    "start_time": "2021-06-17T19:44:52.629Z"
   },
   {
    "duration": 25,
    "start_time": "2021-06-17T19:45:21.196Z"
   },
   {
    "duration": 57,
    "start_time": "2021-06-17T19:46:58.173Z"
   },
   {
    "duration": 63,
    "start_time": "2021-06-17T19:47:21.484Z"
   },
   {
    "duration": 279,
    "start_time": "2021-06-17T19:47:41.997Z"
   },
   {
    "duration": 25,
    "start_time": "2021-06-17T19:48:44.548Z"
   },
   {
    "duration": 182,
    "start_time": "2021-06-17T19:51:08.641Z"
   },
   {
    "duration": 1369,
    "start_time": "2021-06-17T21:48:16.852Z"
   },
   {
    "duration": 49,
    "start_time": "2021-06-17T21:48:19.187Z"
   },
   {
    "duration": 28,
    "start_time": "2021-06-17T21:48:21.551Z"
   },
   {
    "duration": 15,
    "start_time": "2021-06-17T21:48:23.261Z"
   },
   {
    "duration": 13,
    "start_time": "2021-06-17T21:48:25.821Z"
   },
   {
    "duration": 5,
    "start_time": "2021-06-17T21:48:26.919Z"
   },
   {
    "duration": 14,
    "start_time": "2021-06-17T21:48:27.943Z"
   },
   {
    "duration": 11,
    "start_time": "2021-06-17T21:48:29.495Z"
   },
   {
    "duration": 7,
    "start_time": "2021-06-17T21:48:30.540Z"
   },
   {
    "duration": 33,
    "start_time": "2021-06-17T21:48:31.737Z"
   },
   {
    "duration": 6,
    "start_time": "2021-06-17T21:48:33.046Z"
   },
   {
    "duration": 9,
    "start_time": "2021-06-17T21:48:34.279Z"
   },
   {
    "duration": 34,
    "start_time": "2021-06-17T21:48:37.604Z"
   },
   {
    "duration": 11,
    "start_time": "2021-06-17T21:48:38.798Z"
   },
   {
    "duration": 23,
    "start_time": "2021-06-17T21:48:39.974Z"
   },
   {
    "duration": 11,
    "start_time": "2021-06-17T21:48:45.342Z"
   },
   {
    "duration": 503,
    "start_time": "2021-06-17T21:48:48.681Z"
   },
   {
    "duration": 492,
    "start_time": "2021-06-17T21:48:52.424Z"
   },
   {
    "duration": 41,
    "start_time": "2021-06-17T21:49:12.187Z"
   },
   {
    "duration": 605,
    "start_time": "2021-06-17T21:50:55.160Z"
   },
   {
    "duration": 601,
    "start_time": "2021-06-17T21:51:06.039Z"
   },
   {
    "duration": 613,
    "start_time": "2021-06-17T21:51:10.175Z"
   },
   {
    "duration": 588,
    "start_time": "2021-06-17T21:51:14.908Z"
   },
   {
    "duration": 580,
    "start_time": "2021-06-17T21:51:18.539Z"
   },
   {
    "duration": 475,
    "start_time": "2021-06-17T21:51:31.302Z"
   },
   {
    "duration": 455,
    "start_time": "2021-06-17T21:51:36.077Z"
   },
   {
    "duration": 741,
    "start_time": "2021-06-17T21:52:50.135Z"
   },
   {
    "duration": 639,
    "start_time": "2021-06-17T21:55:08.186Z"
   },
   {
    "duration": 464,
    "start_time": "2021-06-17T21:57:53.490Z"
   },
   {
    "duration": 462,
    "start_time": "2021-06-17T21:58:30.588Z"
   },
   {
    "duration": 492,
    "start_time": "2021-06-17T21:59:01.856Z"
   },
   {
    "duration": 483,
    "start_time": "2021-06-17T21:59:31.337Z"
   },
   {
    "duration": 519,
    "start_time": "2021-06-17T22:02:29.110Z"
   },
   {
    "duration": 25,
    "start_time": "2021-06-17T22:03:16.970Z"
   },
   {
    "duration": 28,
    "start_time": "2021-06-17T22:03:19.670Z"
   },
   {
    "duration": 25,
    "start_time": "2021-06-17T22:03:22.287Z"
   },
   {
    "duration": 35,
    "start_time": "2021-06-17T22:03:25.001Z"
   },
   {
    "duration": 1610,
    "start_time": "2021-06-17T22:03:32.369Z"
   },
   {
    "duration": 35,
    "start_time": "2021-06-17T22:03:39.188Z"
   },
   {
    "duration": 37,
    "start_time": "2021-06-17T22:03:39.747Z"
   },
   {
    "duration": 34,
    "start_time": "2021-06-17T22:03:40.380Z"
   },
   {
    "duration": 35,
    "start_time": "2021-06-17T22:03:40.963Z"
   },
   {
    "duration": 1578,
    "start_time": "2021-06-17T22:03:41.925Z"
   },
   {
    "duration": 9,
    "start_time": "2021-06-17T22:04:04.047Z"
   },
   {
    "duration": 11,
    "start_time": "2021-06-17T22:05:44.874Z"
   },
   {
    "duration": 759,
    "start_time": "2021-06-17T22:05:48.331Z"
   },
   {
    "duration": 39,
    "start_time": "2021-06-17T22:05:58.240Z"
   },
   {
    "duration": 30,
    "start_time": "2021-06-17T22:06:05.833Z"
   },
   {
    "duration": 37,
    "start_time": "2021-06-17T22:06:11.240Z"
   },
   {
    "duration": 35,
    "start_time": "2021-06-17T22:06:13.942Z"
   },
   {
    "duration": 19,
    "start_time": "2021-06-17T22:06:21.828Z"
   },
   {
    "duration": 10,
    "start_time": "2021-06-17T22:06:24.325Z"
   },
   {
    "duration": 6,
    "start_time": "2021-06-17T22:06:32.352Z"
   },
   {
    "duration": 15,
    "start_time": "2021-06-17T22:06:39.180Z"
   },
   {
    "duration": 7,
    "start_time": "2021-06-17T22:06:39.837Z"
   },
   {
    "duration": 6,
    "start_time": "2021-06-17T22:06:43.544Z"
   },
   {
    "duration": 41,
    "start_time": "2021-06-17T22:14:39.250Z"
   },
   {
    "duration": 16,
    "start_time": "2021-06-17T22:17:47.305Z"
   },
   {
    "duration": 14,
    "start_time": "2021-06-17T22:18:01.816Z"
   },
   {
    "duration": 16,
    "start_time": "2021-06-17T22:18:24.833Z"
   },
   {
    "duration": 355,
    "start_time": "2021-06-17T22:19:05.977Z"
   },
   {
    "duration": 16,
    "start_time": "2021-06-17T22:19:22.481Z"
   },
   {
    "duration": 312,
    "start_time": "2021-06-17T22:19:29.739Z"
   },
   {
    "duration": 123,
    "start_time": "2021-06-17T22:20:43.601Z"
   },
   {
    "duration": 113,
    "start_time": "2021-06-17T22:21:09.677Z"
   },
   {
    "duration": 110,
    "start_time": "2021-06-17T22:21:24.555Z"
   },
   {
    "duration": 298,
    "start_time": "2021-06-17T22:24:49.150Z"
   },
   {
    "duration": 503,
    "start_time": "2021-06-17T22:25:49.500Z"
   },
   {
    "duration": 112,
    "start_time": "2021-06-17T22:26:08.109Z"
   },
   {
    "duration": 27,
    "start_time": "2021-06-17T22:26:16.700Z"
   },
   {
    "duration": 297,
    "start_time": "2021-06-17T22:32:56.278Z"
   },
   {
    "duration": 6169,
    "start_time": "2021-06-17T22:33:09.325Z"
   },
   {
    "duration": 6168,
    "start_time": "2021-06-17T22:33:21.175Z"
   },
   {
    "duration": 9,
    "start_time": "2021-06-17T22:36:46.691Z"
   },
   {
    "duration": 8,
    "start_time": "2021-06-17T22:37:03.309Z"
   },
   {
    "duration": 362,
    "start_time": "2021-06-17T22:41:10.471Z"
   },
   {
    "duration": 679,
    "start_time": "2021-06-17T22:41:32.667Z"
   },
   {
    "duration": 319,
    "start_time": "2021-06-17T22:41:55.206Z"
   },
   {
    "duration": 311,
    "start_time": "2021-06-17T22:42:14.516Z"
   },
   {
    "duration": 450,
    "start_time": "2021-06-17T22:42:26.137Z"
   },
   {
    "duration": 11,
    "start_time": "2021-06-17T22:44:30.187Z"
   },
   {
    "duration": 27,
    "start_time": "2021-06-17T22:44:40.937Z"
   },
   {
    "duration": 314,
    "start_time": "2021-06-17T22:45:15.165Z"
   },
   {
    "duration": 331,
    "start_time": "2021-06-17T22:45:34.342Z"
   },
   {
    "duration": 8004,
    "start_time": "2021-06-17T22:45:58.211Z"
   },
   {
    "duration": 31,
    "start_time": "2021-06-17T22:46:43.145Z"
   },
   {
    "duration": 28,
    "start_time": "2021-06-17T22:47:05.556Z"
   },
   {
    "duration": 16,
    "start_time": "2021-06-17T22:47:11.745Z"
   },
   {
    "duration": 29,
    "start_time": "2021-06-17T22:47:38.713Z"
   },
   {
    "duration": 369,
    "start_time": "2021-06-17T22:48:22.271Z"
   },
   {
    "duration": 326,
    "start_time": "2021-06-17T22:48:35.265Z"
   },
   {
    "duration": 315,
    "start_time": "2021-06-17T22:49:06.928Z"
   },
   {
    "duration": 319,
    "start_time": "2021-06-17T22:49:27.513Z"
   },
   {
    "duration": 338,
    "start_time": "2021-06-17T22:57:40.456Z"
   },
   {
    "duration": 8512,
    "start_time": "2021-06-17T22:57:54.953Z"
   },
   {
    "duration": 507,
    "start_time": "2021-06-17T22:58:40.508Z"
   },
   {
    "duration": 367,
    "start_time": "2021-06-17T22:59:17.226Z"
   },
   {
    "duration": 395,
    "start_time": "2021-06-17T22:59:49.315Z"
   },
   {
    "duration": 364,
    "start_time": "2021-06-17T23:02:23.173Z"
   },
   {
    "duration": 792,
    "start_time": "2021-06-17T23:02:37.913Z"
   },
   {
    "duration": 7,
    "start_time": "2021-06-17T23:02:47.113Z"
   },
   {
    "duration": 9,
    "start_time": "2021-06-17T23:02:55.139Z"
   },
   {
    "duration": 8,
    "start_time": "2021-06-17T23:03:05.825Z"
   },
   {
    "duration": 889,
    "start_time": "2021-06-17T23:06:00.248Z"
   },
   {
    "duration": 1342,
    "start_time": "2021-06-18T05:29:51.732Z"
   },
   {
    "duration": 49,
    "start_time": "2021-06-18T05:29:57.710Z"
   },
   {
    "duration": 27,
    "start_time": "2021-06-18T05:30:01.590Z"
   },
   {
    "duration": 14,
    "start_time": "2021-06-18T05:30:08.840Z"
   },
   {
    "duration": 13,
    "start_time": "2021-06-18T05:30:17.516Z"
   },
   {
    "duration": 5,
    "start_time": "2021-06-18T05:30:22.216Z"
   },
   {
    "duration": 14,
    "start_time": "2021-06-18T05:30:28.253Z"
   },
   {
    "duration": 11,
    "start_time": "2021-06-18T05:30:31.893Z"
   },
   {
    "duration": 7,
    "start_time": "2021-06-18T05:30:37.258Z"
   },
   {
    "duration": 32,
    "start_time": "2021-06-18T05:30:42.535Z"
   },
   {
    "duration": 6,
    "start_time": "2021-06-18T05:31:03.890Z"
   },
   {
    "duration": 7,
    "start_time": "2021-06-18T05:31:11.845Z"
   },
   {
    "duration": 34,
    "start_time": "2021-06-18T05:31:26.728Z"
   },
   {
    "duration": 10,
    "start_time": "2021-06-18T05:31:36.033Z"
   },
   {
    "duration": 23,
    "start_time": "2021-06-18T05:31:40.817Z"
   },
   {
    "duration": 12,
    "start_time": "2021-06-18T05:31:44.318Z"
   },
   {
    "duration": 493,
    "start_time": "2021-06-18T05:31:52.106Z"
   },
   {
    "duration": 501,
    "start_time": "2021-06-18T05:32:02.826Z"
   },
   {
    "duration": 38,
    "start_time": "2021-06-18T05:34:09.882Z"
   },
   {
    "duration": 617,
    "start_time": "2021-06-18T05:34:26.650Z"
   },
   {
    "duration": 601,
    "start_time": "2021-06-18T05:34:42.510Z"
   },
   {
    "duration": 12,
    "start_time": "2021-06-18T05:36:35.163Z"
   },
   {
    "duration": 656,
    "start_time": "2021-06-18T05:38:07.196Z"
   },
   {
    "duration": 119,
    "start_time": "2021-06-18T05:39:31.242Z"
   },
   {
    "duration": 600,
    "start_time": "2021-06-18T05:39:44.856Z"
   },
   {
    "duration": 618,
    "start_time": "2021-06-18T05:40:26.617Z"
   },
   {
    "duration": 615,
    "start_time": "2021-06-18T05:41:08.720Z"
   },
   {
    "duration": 479,
    "start_time": "2021-06-18T05:41:58.630Z"
   },
   {
    "duration": 583,
    "start_time": "2021-06-18T05:42:17.007Z"
   },
   {
    "duration": 521,
    "start_time": "2021-06-18T05:42:36.753Z"
   },
   {
    "duration": 25,
    "start_time": "2021-06-18T05:42:44.065Z"
   },
   {
    "duration": 26,
    "start_time": "2021-06-18T05:42:47.380Z"
   },
   {
    "duration": 24,
    "start_time": "2021-06-18T05:42:53.053Z"
   },
   {
    "duration": 24,
    "start_time": "2021-06-18T05:42:56.286Z"
   },
   {
    "duration": 1109,
    "start_time": "2021-06-18T05:42:58.707Z"
   },
   {
    "duration": 25,
    "start_time": "2021-06-18T05:43:24.321Z"
   },
   {
    "duration": 25,
    "start_time": "2021-06-18T05:43:24.876Z"
   },
   {
    "duration": 25,
    "start_time": "2021-06-18T05:43:25.586Z"
   },
   {
    "duration": 25,
    "start_time": "2021-06-18T05:43:26.177Z"
   },
   {
    "duration": 1099,
    "start_time": "2021-06-18T05:43:28.869Z"
   },
   {
    "duration": 7,
    "start_time": "2021-06-18T05:43:53.444Z"
   },
   {
    "duration": 8,
    "start_time": "2021-06-18T05:44:09.776Z"
   },
   {
    "duration": 381,
    "start_time": "2021-06-18T05:44:12.964Z"
   },
   {
    "duration": 28,
    "start_time": "2021-06-18T05:44:16.374Z"
   },
   {
    "duration": 26,
    "start_time": "2021-06-18T05:44:22.118Z"
   },
   {
    "duration": 25,
    "start_time": "2021-06-18T05:44:26.975Z"
   },
   {
    "duration": 26,
    "start_time": "2021-06-18T05:44:29.985Z"
   },
   {
    "duration": 13,
    "start_time": "2021-06-18T05:44:44.144Z"
   },
   {
    "duration": 9,
    "start_time": "2021-06-18T05:44:47.209Z"
   },
   {
    "duration": 6,
    "start_time": "2021-06-18T05:44:49.841Z"
   },
   {
    "duration": 15,
    "start_time": "2021-06-18T05:44:55.864Z"
   },
   {
    "duration": 7,
    "start_time": "2021-06-18T05:44:58.579Z"
   },
   {
    "duration": 6,
    "start_time": "2021-06-18T05:45:01.057Z"
   },
   {
    "duration": 1020,
    "start_time": "2021-06-18T13:13:36.554Z"
   },
   {
    "duration": 39,
    "start_time": "2021-06-18T13:13:37.576Z"
   },
   {
    "duration": 17,
    "start_time": "2021-06-18T13:13:37.619Z"
   },
   {
    "duration": 10,
    "start_time": "2021-06-18T13:13:37.638Z"
   },
   {
    "duration": 8,
    "start_time": "2021-06-18T13:13:37.650Z"
   },
   {
    "duration": 27,
    "start_time": "2021-06-18T13:13:37.659Z"
   },
   {
    "duration": 11,
    "start_time": "2021-06-18T13:13:37.689Z"
   },
   {
    "duration": 9,
    "start_time": "2021-06-18T13:13:37.702Z"
   },
   {
    "duration": 5,
    "start_time": "2021-06-18T13:13:37.712Z"
   },
   {
    "duration": 23,
    "start_time": "2021-06-18T13:13:37.718Z"
   },
   {
    "duration": 42,
    "start_time": "2021-06-18T13:13:37.743Z"
   },
   {
    "duration": 8,
    "start_time": "2021-06-18T13:13:37.787Z"
   },
   {
    "duration": 28,
    "start_time": "2021-06-18T13:13:37.796Z"
   },
   {
    "duration": 6,
    "start_time": "2021-06-18T13:13:37.825Z"
   },
   {
    "duration": 23,
    "start_time": "2021-06-18T13:13:37.832Z"
   },
   {
    "duration": 29,
    "start_time": "2021-06-18T13:13:37.857Z"
   },
   {
    "duration": 340,
    "start_time": "2021-06-18T13:13:37.887Z"
   },
   {
    "duration": 315,
    "start_time": "2021-06-18T13:13:38.229Z"
   },
   {
    "duration": 25,
    "start_time": "2021-06-18T13:13:38.546Z"
   },
   {
    "duration": 397,
    "start_time": "2021-06-18T13:13:38.585Z"
   },
   {
    "duration": 384,
    "start_time": "2021-06-18T13:13:38.985Z"
   },
   {
    "duration": 377,
    "start_time": "2021-06-18T13:13:39.373Z"
   },
   {
    "duration": 384,
    "start_time": "2021-06-18T13:13:39.753Z"
   },
   {
    "duration": 368,
    "start_time": "2021-06-18T13:13:40.138Z"
   },
   {
    "duration": 353,
    "start_time": "2021-06-18T13:13:40.508Z"
   },
   {
    "duration": 389,
    "start_time": "2021-06-18T13:13:40.863Z"
   },
   {
    "duration": 342,
    "start_time": "2021-06-18T13:13:41.254Z"
   },
   {
    "duration": 17,
    "start_time": "2021-06-18T13:13:41.598Z"
   },
   {
    "duration": 15,
    "start_time": "2021-06-18T13:13:41.616Z"
   },
   {
    "duration": 16,
    "start_time": "2021-06-18T13:13:41.632Z"
   },
   {
    "duration": 43,
    "start_time": "2021-06-18T13:13:41.650Z"
   },
   {
    "duration": 705,
    "start_time": "2021-06-18T13:13:41.695Z"
   },
   {
    "duration": 17,
    "start_time": "2021-06-18T13:13:42.402Z"
   },
   {
    "duration": 15,
    "start_time": "2021-06-18T13:13:42.421Z"
   },
   {
    "duration": 15,
    "start_time": "2021-06-18T13:13:42.437Z"
   },
   {
    "duration": 43,
    "start_time": "2021-06-18T13:13:42.453Z"
   },
   {
    "duration": 695,
    "start_time": "2021-06-18T13:13:42.498Z"
   },
   {
    "duration": 6,
    "start_time": "2021-06-18T13:13:43.195Z"
   },
   {
    "duration": 6,
    "start_time": "2021-06-18T13:13:43.202Z"
   },
   {
    "duration": 242,
    "start_time": "2021-06-18T13:13:43.210Z"
   },
   {
    "duration": 18,
    "start_time": "2021-06-18T13:13:43.454Z"
   },
   {
    "duration": 24,
    "start_time": "2021-06-18T13:13:43.474Z"
   },
   {
    "duration": 16,
    "start_time": "2021-06-18T13:13:43.500Z"
   },
   {
    "duration": 17,
    "start_time": "2021-06-18T13:13:43.517Z"
   },
   {
    "duration": 9,
    "start_time": "2021-06-18T13:13:43.536Z"
   },
   {
    "duration": 5,
    "start_time": "2021-06-18T13:13:43.547Z"
   },
   {
    "duration": 4,
    "start_time": "2021-06-18T13:13:43.586Z"
   },
   {
    "duration": 11,
    "start_time": "2021-06-18T13:13:43.592Z"
   },
   {
    "duration": 5,
    "start_time": "2021-06-18T13:13:43.605Z"
   },
   {
    "duration": 6,
    "start_time": "2021-06-18T13:13:43.612Z"
   },
   {
    "duration": 8,
    "start_time": "2021-06-18T13:18:56.125Z"
   },
   {
    "duration": 14,
    "start_time": "2021-06-18T13:59:42.692Z"
   },
   {
    "duration": 5,
    "start_time": "2021-06-18T13:59:51.450Z"
   },
   {
    "duration": 10,
    "start_time": "2021-06-18T13:59:58.312Z"
   },
   {
    "duration": 5,
    "start_time": "2021-06-18T14:00:01.312Z"
   },
   {
    "duration": 10,
    "start_time": "2021-06-18T14:00:12.456Z"
   },
   {
    "duration": 4,
    "start_time": "2021-06-18T15:44:21.377Z"
   },
   {
    "duration": 313,
    "start_time": "2021-06-18T22:51:50.084Z"
   },
   {
    "duration": 1225,
    "start_time": "2021-06-18T22:52:15.906Z"
   },
   {
    "duration": 46,
    "start_time": "2021-06-18T22:52:39.704Z"
   },
   {
    "duration": 25,
    "start_time": "2021-06-18T22:52:42.420Z"
   },
   {
    "duration": 14,
    "start_time": "2021-06-18T22:52:52.157Z"
   },
   {
    "duration": 11,
    "start_time": "2021-06-18T22:53:21.122Z"
   },
   {
    "duration": 4,
    "start_time": "2021-06-18T22:53:25.814Z"
   },
   {
    "duration": 20,
    "start_time": "2021-06-18T22:55:36.260Z"
   },
   {
    "duration": 11,
    "start_time": "2021-06-18T22:57:02.646Z"
   },
   {
    "duration": 7,
    "start_time": "2021-06-18T22:57:06.139Z"
   },
   {
    "duration": 31,
    "start_time": "2021-06-18T22:57:11.258Z"
   },
   {
    "duration": 6,
    "start_time": "2021-06-18T22:57:17.247Z"
   },
   {
    "duration": 8,
    "start_time": "2021-06-18T22:57:44.444Z"
   },
   {
    "duration": 32,
    "start_time": "2021-06-18T22:58:56.047Z"
   },
   {
    "duration": 12,
    "start_time": "2021-06-18T22:58:59.984Z"
   },
   {
    "duration": 23,
    "start_time": "2021-06-18T22:59:02.535Z"
   },
   {
    "duration": 391,
    "start_time": "2021-06-18T23:01:42.012Z"
   },
   {
    "duration": 89,
    "start_time": "2021-06-18T23:04:08.844Z"
   },
   {
    "duration": 268,
    "start_time": "2021-06-18T23:04:56.455Z"
   },
   {
    "duration": 6,
    "start_time": "2021-06-18T23:05:02.687Z"
   },
   {
    "duration": 8,
    "start_time": "2021-06-18T23:05:51.506Z"
   },
   {
    "duration": 11,
    "start_time": "2021-06-18T23:05:56.518Z"
   },
   {
    "duration": 3,
    "start_time": "2021-06-18T23:06:39.662Z"
   },
   {
    "duration": 7,
    "start_time": "2021-06-18T23:09:54.494Z"
   },
   {
    "duration": 6,
    "start_time": "2021-06-18T23:11:51.529Z"
   },
   {
    "duration": 11,
    "start_time": "2021-06-18T23:11:54.981Z"
   },
   {
    "duration": 202,
    "start_time": "2021-06-18T23:13:23.131Z"
   },
   {
    "duration": 265,
    "start_time": "2021-06-18T23:13:33.282Z"
   },
   {
    "duration": 367,
    "start_time": "2021-06-18T23:13:53.837Z"
   },
   {
    "duration": 14,
    "start_time": "2021-06-18T23:14:01.217Z"
   },
   {
    "duration": 480,
    "start_time": "2021-06-18T23:18:57.966Z"
   },
   {
    "duration": 445,
    "start_time": "2021-06-18T23:19:14.054Z"
   },
   {
    "duration": 37,
    "start_time": "2021-06-18T23:19:23.613Z"
   },
   {
    "duration": 1265,
    "start_time": "2021-06-19T07:39:17.230Z"
   },
   {
    "duration": 49,
    "start_time": "2021-06-19T07:39:20.913Z"
   },
   {
    "duration": 27,
    "start_time": "2021-06-19T07:39:23.419Z"
   },
   {
    "duration": 14,
    "start_time": "2021-06-19T07:39:26.832Z"
   },
   {
    "duration": 11,
    "start_time": "2021-06-19T07:39:40.681Z"
   },
   {
    "duration": 4,
    "start_time": "2021-06-19T07:39:48.710Z"
   },
   {
    "duration": 20,
    "start_time": "2021-06-19T07:40:10.028Z"
   },
   {
    "duration": 12,
    "start_time": "2021-06-19T07:43:52.903Z"
   },
   {
    "duration": 7,
    "start_time": "2021-06-19T07:43:56.065Z"
   },
   {
    "duration": 32,
    "start_time": "2021-06-19T07:44:10.021Z"
   },
   {
    "duration": 7,
    "start_time": "2021-06-19T07:44:15.122Z"
   },
   {
    "duration": 4,
    "start_time": "2021-06-19T07:45:26.135Z"
   },
   {
    "duration": 7,
    "start_time": "2021-06-19T07:45:42.939Z"
   },
   {
    "duration": 4,
    "start_time": "2021-06-19T07:46:45.952Z"
   },
   {
    "duration": 6,
    "start_time": "2021-06-19T07:46:52.219Z"
   },
   {
    "duration": 12,
    "start_time": "2021-06-19T07:46:57.416Z"
   },
   {
    "duration": 23,
    "start_time": "2021-06-19T07:47:52.560Z"
   },
   {
    "duration": 7,
    "start_time": "2021-06-19T07:48:10.552Z"
   },
   {
    "duration": 8,
    "start_time": "2021-06-19T07:48:35.363Z"
   },
   {
    "duration": 8,
    "start_time": "2021-06-19T07:48:42.818Z"
   },
   {
    "duration": 352,
    "start_time": "2021-06-19T07:48:48.723Z"
   },
   {
    "duration": 14,
    "start_time": "2021-06-19T07:49:09.023Z"
   },
   {
    "duration": 504,
    "start_time": "2021-06-19T07:49:20.677Z"
   },
   {
    "duration": 5,
    "start_time": "2021-06-19T07:49:53.358Z"
   },
   {
    "duration": 494,
    "start_time": "2021-06-19T07:50:03.838Z"
   },
   {
    "duration": 486,
    "start_time": "2021-06-19T07:50:34.953Z"
   },
   {
    "duration": 40,
    "start_time": "2021-06-19T07:50:59.301Z"
   },
   {
    "duration": 568,
    "start_time": "2021-06-19T07:52:59.233Z"
   },
   {
    "duration": 577,
    "start_time": "2021-06-19T07:53:14.635Z"
   },
   {
    "duration": 404,
    "start_time": "2021-06-19T07:58:14.151Z"
   },
   {
    "duration": 572,
    "start_time": "2021-06-19T08:06:51.182Z"
   },
   {
    "duration": 929,
    "start_time": "2021-06-19T08:07:24.240Z"
   },
   {
    "duration": 613,
    "start_time": "2021-06-19T08:07:47.299Z"
   },
   {
    "duration": 580,
    "start_time": "2021-06-19T08:07:56.503Z"
   },
   {
    "duration": 4,
    "start_time": "2021-06-19T08:08:13.203Z"
   },
   {
    "duration": 6,
    "start_time": "2021-06-19T08:08:21.479Z"
   },
   {
    "duration": 1020,
    "start_time": "2021-06-19T08:08:35.032Z"
   },
   {
    "duration": 622,
    "start_time": "2021-06-19T08:12:05.024Z"
   },
   {
    "duration": 721,
    "start_time": "2021-06-19T08:15:15.057Z"
   },
   {
    "duration": 694,
    "start_time": "2021-06-19T08:16:41.153Z"
   },
   {
    "duration": 797,
    "start_time": "2021-06-19T08:16:47.472Z"
   },
   {
    "duration": 856,
    "start_time": "2021-06-19T08:17:04.072Z"
   },
   {
    "duration": 612,
    "start_time": "2021-06-19T08:17:29.148Z"
   },
   {
    "duration": 598,
    "start_time": "2021-06-19T08:24:20.550Z"
   },
   {
    "duration": 644,
    "start_time": "2021-06-19T08:24:44.696Z"
   },
   {
    "duration": 634,
    "start_time": "2021-06-19T08:25:02.821Z"
   },
   {
    "duration": 14,
    "start_time": "2021-06-19T08:28:32.777Z"
   },
   {
    "duration": 1520,
    "start_time": "2021-06-19T08:29:01.321Z"
   },
   {
    "duration": 1057,
    "start_time": "2021-06-19T08:29:25.710Z"
   },
   {
    "duration": 37,
    "start_time": "2021-06-19T08:30:19.701Z"
   },
   {
    "duration": 327,
    "start_time": "2021-06-19T08:30:45.041Z"
   },
   {
    "duration": 717,
    "start_time": "2021-06-19T08:31:01.739Z"
   },
   {
    "duration": 1049,
    "start_time": "2021-06-19T08:36:14.304Z"
   },
   {
    "duration": 96,
    "start_time": "2021-06-19T08:36:59.708Z"
   },
   {
    "duration": 734,
    "start_time": "2021-06-19T08:37:33.838Z"
   },
   {
    "duration": 727,
    "start_time": "2021-06-19T08:37:51.582Z"
   },
   {
    "duration": 821,
    "start_time": "2021-06-19T08:41:30.202Z"
   },
   {
    "duration": 1031,
    "start_time": "2021-06-19T08:46:02.432Z"
   },
   {
    "duration": 841,
    "start_time": "2021-06-19T08:51:17.583Z"
   },
   {
    "duration": 738,
    "start_time": "2021-06-19T08:51:37.302Z"
   },
   {
    "duration": 516,
    "start_time": "2021-06-19T08:52:07.355Z"
   },
   {
    "duration": 485,
    "start_time": "2021-06-19T08:56:48.303Z"
   },
   {
    "duration": 462,
    "start_time": "2021-06-19T08:56:52.311Z"
   },
   {
    "duration": 565,
    "start_time": "2021-06-19T08:57:02.956Z"
   },
   {
    "duration": 3,
    "start_time": "2021-06-19T08:57:44.831Z"
   },
   {
    "duration": 3,
    "start_time": "2021-06-19T08:58:03.793Z"
   },
   {
    "duration": 3,
    "start_time": "2021-06-19T08:58:12.198Z"
   },
   {
    "duration": 3,
    "start_time": "2021-06-19T08:58:29.542Z"
   },
   {
    "duration": 775,
    "start_time": "2021-06-19T09:03:07.256Z"
   },
   {
    "duration": 1137,
    "start_time": "2021-06-19T09:03:27.065Z"
   },
   {
    "duration": 761,
    "start_time": "2021-06-19T09:03:35.323Z"
   },
   {
    "duration": 761,
    "start_time": "2021-06-19T09:09:49.762Z"
   },
   {
    "duration": 268,
    "start_time": "2021-06-19T09:44:57.195Z"
   },
   {
    "duration": 254,
    "start_time": "2021-06-19T09:45:08.614Z"
   },
   {
    "duration": 263,
    "start_time": "2021-06-19T09:45:32.520Z"
   },
   {
    "duration": 266,
    "start_time": "2021-06-19T09:46:49.258Z"
   },
   {
    "duration": 274,
    "start_time": "2021-06-19T09:47:11.396Z"
   },
   {
    "duration": 8,
    "start_time": "2021-06-19T09:51:16.821Z"
   },
   {
    "duration": 15,
    "start_time": "2021-06-19T09:51:38.948Z"
   },
   {
    "duration": 10,
    "start_time": "2021-06-19T09:53:37.190Z"
   },
   {
    "duration": 34,
    "start_time": "2021-06-19T09:54:05.596Z"
   },
   {
    "duration": 3,
    "start_time": "2021-06-19T09:54:29.111Z"
   },
   {
    "duration": 260,
    "start_time": "2021-06-19T09:54:56.316Z"
   },
   {
    "duration": 170,
    "start_time": "2021-06-19T09:55:08.518Z"
   },
   {
    "duration": 3,
    "start_time": "2021-06-19T09:55:18.017Z"
   },
   {
    "duration": 277,
    "start_time": "2021-06-19T09:55:23.745Z"
   },
   {
    "duration": 310,
    "start_time": "2021-06-19T09:55:33.830Z"
   },
   {
    "duration": 255,
    "start_time": "2021-06-19T09:55:51.941Z"
   },
   {
    "duration": 341,
    "start_time": "2021-06-19T09:55:57.472Z"
   },
   {
    "duration": 45,
    "start_time": "2021-06-19T10:00:55.625Z"
   },
   {
    "duration": 303,
    "start_time": "2021-06-19T10:02:23.470Z"
   },
   {
    "duration": 328,
    "start_time": "2021-06-19T10:03:17.628Z"
   },
   {
    "duration": 320,
    "start_time": "2021-06-19T10:04:11.671Z"
   },
   {
    "duration": 339,
    "start_time": "2021-06-19T10:04:52.228Z"
   },
   {
    "duration": 337,
    "start_time": "2021-06-19T10:05:17.599Z"
   },
   {
    "duration": 6740,
    "start_time": "2021-06-19T10:05:45.358Z"
   },
   {
    "duration": 264,
    "start_time": "2021-06-19T10:06:44.471Z"
   },
   {
    "duration": 10,
    "start_time": "2021-06-19T10:11:44.644Z"
   },
   {
    "duration": 34,
    "start_time": "2021-06-19T10:11:51.028Z"
   },
   {
    "duration": 6530,
    "start_time": "2021-06-19T10:22:15.753Z"
   },
   {
    "duration": 356,
    "start_time": "2021-06-19T10:23:11.098Z"
   },
   {
    "duration": 89,
    "start_time": "2021-06-19T10:24:49.784Z"
   },
   {
    "duration": 331,
    "start_time": "2021-06-19T10:25:07.463Z"
   },
   {
    "duration": 339,
    "start_time": "2021-06-19T10:30:46.866Z"
   },
   {
    "duration": 18,
    "start_time": "2021-06-19T10:41:05.205Z"
   },
   {
    "duration": 258,
    "start_time": "2021-06-19T10:41:08.728Z"
   },
   {
    "duration": 20,
    "start_time": "2021-06-19T10:41:36.226Z"
   },
   {
    "duration": 259,
    "start_time": "2021-06-19T10:41:40.090Z"
   },
   {
    "duration": 678,
    "start_time": "2021-06-19T10:42:22.771Z"
   },
   {
    "duration": 20,
    "start_time": "2021-06-19T10:42:34.392Z"
   },
   {
    "duration": 805,
    "start_time": "2021-06-19T10:42:36.717Z"
   },
   {
    "duration": 511,
    "start_time": "2021-06-19T10:42:50.238Z"
   },
   {
    "duration": 268,
    "start_time": "2021-06-19T10:48:42.316Z"
   },
   {
    "duration": 826,
    "start_time": "2021-06-19T10:49:00.639Z"
   },
   {
    "duration": 878,
    "start_time": "2021-06-19T10:49:32.833Z"
   },
   {
    "duration": 830,
    "start_time": "2021-06-19T10:51:33.074Z"
   },
   {
    "duration": 265,
    "start_time": "2021-06-19T11:00:36.585Z"
   },
   {
    "duration": 943,
    "start_time": "2021-06-19T11:03:41.227Z"
   },
   {
    "duration": 39,
    "start_time": "2021-06-19T11:04:35.727Z"
   },
   {
    "duration": 779,
    "start_time": "2021-06-19T11:07:45.399Z"
   },
   {
    "duration": 39,
    "start_time": "2021-06-19T11:08:25.070Z"
   },
   {
    "duration": 14,
    "start_time": "2021-06-19T11:09:26.445Z"
   },
   {
    "duration": 21,
    "start_time": "2021-06-19T11:10:08.330Z"
   },
   {
    "duration": 54,
    "start_time": "2021-06-19T11:11:27.157Z"
   },
   {
    "duration": 109,
    "start_time": "2021-06-19T11:12:31.867Z"
   },
   {
    "duration": 120,
    "start_time": "2021-06-19T11:13:01.168Z"
   },
   {
    "duration": 98,
    "start_time": "2021-06-19T11:15:25.079Z"
   },
   {
    "duration": 278,
    "start_time": "2021-06-19T11:34:12.079Z"
   },
   {
    "duration": 15,
    "start_time": "2021-06-19T11:34:26.944Z"
   },
   {
    "duration": 738,
    "start_time": "2021-06-19T11:34:32.873Z"
   },
   {
    "duration": 14,
    "start_time": "2021-06-19T11:36:10.599Z"
   },
   {
    "duration": 14,
    "start_time": "2021-06-19T11:36:17.950Z"
   },
   {
    "duration": 1780,
    "start_time": "2021-06-19T11:36:21.529Z"
   },
   {
    "duration": 13,
    "start_time": "2021-06-19T11:36:45.311Z"
   },
   {
    "duration": 1269,
    "start_time": "2021-06-19T11:36:53.189Z"
   },
   {
    "duration": 39,
    "start_time": "2021-06-19T11:38:20.364Z"
   },
   {
    "duration": 284,
    "start_time": "2021-06-19T11:39:54.684Z"
   },
   {
    "duration": 87,
    "start_time": "2021-06-19T11:41:33.597Z"
   },
   {
    "duration": 21,
    "start_time": "2021-06-19T11:44:14.566Z"
   },
   {
    "duration": 42,
    "start_time": "2021-06-19T11:44:45.468Z"
   },
   {
    "duration": 298,
    "start_time": "2021-06-19T11:45:29.270Z"
   },
   {
    "duration": 1310,
    "start_time": "2021-06-19T11:46:07.631Z"
   },
   {
    "duration": 52,
    "start_time": "2021-06-19T11:46:11.386Z"
   },
   {
    "duration": 25,
    "start_time": "2021-06-19T11:46:16.759Z"
   },
   {
    "duration": 14,
    "start_time": "2021-06-19T11:47:26.020Z"
   },
   {
    "duration": 1346,
    "start_time": "2021-06-19T11:49:19.278Z"
   },
   {
    "duration": 50,
    "start_time": "2021-06-19T11:49:22.862Z"
   },
   {
    "duration": 1317,
    "start_time": "2021-06-19T11:49:33.102Z"
   },
   {
    "duration": 48,
    "start_time": "2021-06-19T11:49:37.620Z"
   },
   {
    "duration": 26,
    "start_time": "2021-06-19T11:49:41.543Z"
   },
   {
    "duration": 14,
    "start_time": "2021-06-19T11:49:51.700Z"
   },
   {
    "duration": 13,
    "start_time": "2021-06-19T11:49:55.940Z"
   },
   {
    "duration": 4,
    "start_time": "2021-06-19T11:50:02.098Z"
   },
   {
    "duration": 20,
    "start_time": "2021-06-19T11:50:04.792Z"
   },
   {
    "duration": 12,
    "start_time": "2021-06-19T11:50:08.140Z"
   },
   {
    "duration": 7,
    "start_time": "2021-06-19T11:50:11.623Z"
   },
   {
    "duration": 30,
    "start_time": "2021-06-19T11:50:16.074Z"
   },
   {
    "duration": 9,
    "start_time": "2021-06-19T11:50:20.908Z"
   },
   {
    "duration": 8,
    "start_time": "2021-06-19T11:50:28.678Z"
   },
   {
    "duration": 5,
    "start_time": "2021-06-19T11:50:34.677Z"
   },
   {
    "duration": 13,
    "start_time": "2021-06-19T11:50:39.861Z"
   },
   {
    "duration": 22,
    "start_time": "2021-06-19T11:50:42.243Z"
   },
   {
    "duration": 7,
    "start_time": "2021-06-19T11:50:46.226Z"
   },
   {
    "duration": 8,
    "start_time": "2021-06-19T11:50:53.430Z"
   },
   {
    "duration": 6,
    "start_time": "2021-06-19T11:50:56.719Z"
   },
   {
    "duration": 367,
    "start_time": "2021-06-19T11:51:03.233Z"
   },
   {
    "duration": 16,
    "start_time": "2021-06-19T11:51:07.114Z"
   },
   {
    "duration": 502,
    "start_time": "2021-06-19T11:51:17.433Z"
   },
   {
    "duration": 472,
    "start_time": "2021-06-19T11:51:23.061Z"
   },
   {
    "duration": 36,
    "start_time": "2021-06-19T11:51:36.465Z"
   },
   {
    "duration": 21,
    "start_time": "2021-06-19T11:52:07.943Z"
   },
   {
    "duration": 35,
    "start_time": "2021-06-19T11:52:22.241Z"
   },
   {
    "duration": 44,
    "start_time": "2021-06-19T11:53:32.514Z"
   },
   {
    "duration": 6580,
    "start_time": "2021-06-19T11:58:36.112Z"
   },
   {
    "duration": 44,
    "start_time": "2021-06-19T11:58:52.784Z"
   },
   {
    "duration": 6951,
    "start_time": "2021-06-19T11:59:16.240Z"
   },
   {
    "duration": 6614,
    "start_time": "2021-06-19T12:00:05.481Z"
   },
   {
    "duration": 39,
    "start_time": "2021-06-19T12:00:58.563Z"
   },
   {
    "duration": 8253,
    "start_time": "2021-06-19T12:02:28.504Z"
   },
   {
    "duration": 6543,
    "start_time": "2021-06-19T12:03:00.595Z"
   },
   {
    "duration": 299,
    "start_time": "2021-06-19T12:03:32.063Z"
   },
   {
    "duration": 1512,
    "start_time": "2021-06-19T12:05:53.796Z"
   },
   {
    "duration": 1622,
    "start_time": "2021-06-19T12:11:33.463Z"
   },
   {
    "duration": 1660,
    "start_time": "2021-06-19T12:23:16.507Z"
   },
   {
    "duration": 1579,
    "start_time": "2021-06-19T12:23:59.261Z"
   },
   {
    "duration": 89,
    "start_time": "2021-06-19T12:28:26.826Z"
   },
   {
    "duration": 1755,
    "start_time": "2021-06-19T12:28:34.954Z"
   },
   {
    "duration": 1961,
    "start_time": "2021-06-19T12:28:58.901Z"
   },
   {
    "duration": 281,
    "start_time": "2021-06-19T12:29:27.194Z"
   },
   {
    "duration": 1855,
    "start_time": "2021-06-19T12:29:46.563Z"
   },
   {
    "duration": 1627,
    "start_time": "2021-06-19T12:30:00.186Z"
   },
   {
    "duration": 1776,
    "start_time": "2021-06-19T12:31:32.627Z"
   },
   {
    "duration": 1599,
    "start_time": "2021-06-19T12:32:07.302Z"
   },
   {
    "duration": 8,
    "start_time": "2021-06-19T12:34:21.317Z"
   },
   {
    "duration": 1403,
    "start_time": "2021-06-19T12:34:49.184Z"
   },
   {
    "duration": 484,
    "start_time": "2021-06-19T12:37:21.804Z"
   },
   {
    "duration": 271,
    "start_time": "2021-06-19T12:37:48.117Z"
   },
   {
    "duration": 3,
    "start_time": "2021-06-19T12:42:17.016Z"
   },
   {
    "duration": 274,
    "start_time": "2021-06-19T12:43:09.477Z"
   },
   {
    "duration": 272,
    "start_time": "2021-06-19T12:44:31.626Z"
   },
   {
    "duration": 453,
    "start_time": "2021-06-19T12:44:53.444Z"
   },
   {
    "duration": 1008,
    "start_time": "2021-06-19T12:51:20.897Z"
   },
   {
    "duration": 263,
    "start_time": "2021-06-19T12:53:22.868Z"
   },
   {
    "duration": 28,
    "start_time": "2021-06-19T12:53:35.519Z"
   },
   {
    "duration": 77,
    "start_time": "2021-06-19T12:53:45.639Z"
   },
   {
    "duration": 296,
    "start_time": "2021-06-19T12:54:14.944Z"
   },
   {
    "duration": 74,
    "start_time": "2021-06-19T12:54:46.099Z"
   },
   {
    "duration": 303,
    "start_time": "2021-06-19T12:56:03.878Z"
   },
   {
    "duration": 8430,
    "start_time": "2021-06-19T12:56:14.547Z"
   },
   {
    "duration": 24,
    "start_time": "2021-06-19T12:56:36.746Z"
   },
   {
    "duration": 293,
    "start_time": "2021-06-19T12:58:37.743Z"
   },
   {
    "duration": 28,
    "start_time": "2021-06-19T12:59:11.512Z"
   },
   {
    "duration": 1067,
    "start_time": "2021-06-19T12:59:53.418Z"
   },
   {
    "duration": 324,
    "start_time": "2021-06-19T13:00:12.107Z"
   },
   {
    "duration": 481,
    "start_time": "2021-06-19T13:00:24.197Z"
   },
   {
    "duration": 234,
    "start_time": "2021-06-19T13:02:31.439Z"
   },
   {
    "duration": 225,
    "start_time": "2021-06-19T13:02:48.502Z"
   },
   {
    "duration": 212,
    "start_time": "2021-06-19T13:03:05.520Z"
   },
   {
    "duration": 419,
    "start_time": "2021-06-19T13:03:14.986Z"
   },
   {
    "duration": 83,
    "start_time": "2021-06-19T13:06:18.301Z"
   },
   {
    "duration": 22,
    "start_time": "2021-06-19T13:06:25.862Z"
   },
   {
    "duration": 46,
    "start_time": "2021-06-19T13:06:37.279Z"
   },
   {
    "duration": 352,
    "start_time": "2021-06-19T13:08:09.111Z"
   },
   {
    "duration": 581,
    "start_time": "2021-06-19T13:09:23.697Z"
   },
   {
    "duration": 733,
    "start_time": "2021-06-19T13:09:37.429Z"
   },
   {
    "duration": 910,
    "start_time": "2021-06-19T13:09:45.232Z"
   },
   {
    "duration": 82,
    "start_time": "2021-06-19T13:19:11.680Z"
   },
   {
    "duration": 23,
    "start_time": "2021-06-19T13:20:34.061Z"
   },
   {
    "duration": 23,
    "start_time": "2021-06-19T13:20:38.274Z"
   },
   {
    "duration": 53,
    "start_time": "2021-06-19T13:21:16.199Z"
   },
   {
    "duration": 977,
    "start_time": "2021-06-19T13:21:32.740Z"
   },
   {
    "duration": 34,
    "start_time": "2021-06-19T13:22:23.752Z"
   },
   {
    "duration": 971,
    "start_time": "2021-06-19T13:23:27.552Z"
   },
   {
    "duration": 947,
    "start_time": "2021-06-19T13:23:59.237Z"
   },
   {
    "duration": 25,
    "start_time": "2021-06-19T13:25:10.509Z"
   },
   {
    "duration": 1021,
    "start_time": "2021-06-19T13:25:13.868Z"
   },
   {
    "duration": 25,
    "start_time": "2021-06-19T13:26:31.815Z"
   },
   {
    "duration": 1033,
    "start_time": "2021-06-19T13:26:39.401Z"
   },
   {
    "duration": 23,
    "start_time": "2021-06-19T14:29:24.857Z"
   },
   {
    "duration": 915,
    "start_time": "2021-06-19T14:29:28.520Z"
   },
   {
    "duration": 1347,
    "start_time": "2021-06-19T14:30:06.320Z"
   },
   {
    "duration": 55,
    "start_time": "2021-06-19T14:30:09.240Z"
   },
   {
    "duration": 25,
    "start_time": "2021-06-19T14:30:11.904Z"
   },
   {
    "duration": 15,
    "start_time": "2021-06-19T14:30:15.513Z"
   },
   {
    "duration": 13,
    "start_time": "2021-06-19T14:30:23.338Z"
   },
   {
    "duration": 4,
    "start_time": "2021-06-19T14:30:26.181Z"
   },
   {
    "duration": 20,
    "start_time": "2021-06-19T14:30:28.868Z"
   },
   {
    "duration": 11,
    "start_time": "2021-06-19T14:30:35.299Z"
   },
   {
    "duration": 8,
    "start_time": "2021-06-19T14:30:40.954Z"
   },
   {
    "duration": 31,
    "start_time": "2021-06-19T14:30:43.698Z"
   },
   {
    "duration": 6,
    "start_time": "2021-06-19T14:30:47.585Z"
   },
   {
    "duration": 8,
    "start_time": "2021-06-19T14:30:50.217Z"
   },
   {
    "duration": 5,
    "start_time": "2021-06-19T14:30:53.524Z"
   },
   {
    "duration": 12,
    "start_time": "2021-06-19T14:30:59.033Z"
   },
   {
    "duration": 23,
    "start_time": "2021-06-19T14:31:08.867Z"
   },
   {
    "duration": 7,
    "start_time": "2021-06-19T14:31:14.042Z"
   },
   {
    "duration": 8,
    "start_time": "2021-06-19T14:31:17.364Z"
   },
   {
    "duration": 6,
    "start_time": "2021-06-19T14:31:26.544Z"
   },
   {
    "duration": 377,
    "start_time": "2021-06-19T14:31:29.268Z"
   },
   {
    "duration": 16,
    "start_time": "2021-06-19T14:31:33.799Z"
   },
   {
    "duration": 449,
    "start_time": "2021-06-19T14:31:38.862Z"
   },
   {
    "duration": 475,
    "start_time": "2021-06-19T14:31:43.272Z"
   },
   {
    "duration": 85,
    "start_time": "2021-06-19T14:32:46.439Z"
   },
   {
    "duration": 78,
    "start_time": "2021-06-19T14:33:22.187Z"
   },
   {
    "duration": 22,
    "start_time": "2021-06-19T14:33:56.664Z"
   },
   {
    "duration": 374,
    "start_time": "2021-06-19T14:34:36.711Z"
   },
   {
    "duration": 961,
    "start_time": "2021-06-19T14:35:22.564Z"
   },
   {
    "duration": 276,
    "start_time": "2021-06-19T14:50:13.586Z"
   },
   {
    "duration": 22,
    "start_time": "2021-06-19T14:50:16.203Z"
   },
   {
    "duration": 878,
    "start_time": "2021-06-19T14:50:19.447Z"
   },
   {
    "duration": 77,
    "start_time": "2021-06-19T14:52:37.385Z"
   },
   {
    "duration": 871,
    "start_time": "2021-06-19T14:53:33.941Z"
   },
   {
    "duration": 1260,
    "start_time": "2021-06-19T15:04:27.836Z"
   },
   {
    "duration": 50,
    "start_time": "2021-06-19T15:04:31.677Z"
   },
   {
    "duration": 27,
    "start_time": "2021-06-19T15:04:35.187Z"
   },
   {
    "duration": 14,
    "start_time": "2021-06-19T15:04:48.351Z"
   },
   {
    "duration": 14,
    "start_time": "2021-06-19T15:04:56.080Z"
   },
   {
    "duration": 4,
    "start_time": "2021-06-19T15:04:58.797Z"
   },
   {
    "duration": 21,
    "start_time": "2021-06-19T15:05:01.544Z"
   },
   {
    "duration": 12,
    "start_time": "2021-06-19T15:05:18.924Z"
   },
   {
    "duration": 7,
    "start_time": "2021-06-19T15:05:21.805Z"
   },
   {
    "duration": 34,
    "start_time": "2021-06-19T15:05:25.189Z"
   },
   {
    "duration": 6,
    "start_time": "2021-06-19T15:05:32.118Z"
   },
   {
    "duration": 10,
    "start_time": "2021-06-19T15:05:35.170Z"
   },
   {
    "duration": 5,
    "start_time": "2021-06-19T15:05:38.166Z"
   },
   {
    "duration": 11,
    "start_time": "2021-06-19T15:05:48.688Z"
   },
   {
    "duration": 25,
    "start_time": "2021-06-19T15:05:51.157Z"
   },
   {
    "duration": 7,
    "start_time": "2021-06-19T15:06:01.069Z"
   },
   {
    "duration": 10,
    "start_time": "2021-06-19T15:06:07.038Z"
   },
   {
    "duration": 7,
    "start_time": "2021-06-19T15:06:09.764Z"
   },
   {
    "duration": 540,
    "start_time": "2021-06-19T15:06:12.876Z"
   },
   {
    "duration": 20,
    "start_time": "2021-06-19T15:06:17.749Z"
   },
   {
    "duration": 775,
    "start_time": "2021-06-19T15:06:32.669Z"
   },
   {
    "duration": 557,
    "start_time": "2021-06-19T15:06:42.766Z"
   },
   {
    "duration": 80,
    "start_time": "2021-06-19T15:07:08.711Z"
   },
   {
    "duration": 22,
    "start_time": "2021-06-19T15:07:20.105Z"
   },
   {
    "duration": 927,
    "start_time": "2021-06-19T15:08:00.159Z"
   },
   {
    "duration": 513,
    "start_time": "2021-06-19T15:09:21.447Z"
   },
   {
    "duration": 1313,
    "start_time": "2021-06-19T17:37:55.998Z"
   },
   {
    "duration": 49,
    "start_time": "2021-06-19T17:37:58.913Z"
   },
   {
    "duration": 27,
    "start_time": "2021-06-19T17:38:01.536Z"
   },
   {
    "duration": 15,
    "start_time": "2021-06-19T17:38:04.304Z"
   },
   {
    "duration": 12,
    "start_time": "2021-06-19T17:38:07.797Z"
   },
   {
    "duration": 4,
    "start_time": "2021-06-19T17:38:11.833Z"
   },
   {
    "duration": 21,
    "start_time": "2021-06-19T17:38:21.027Z"
   },
   {
    "duration": 12,
    "start_time": "2021-06-19T17:39:03.272Z"
   },
   {
    "duration": 8,
    "start_time": "2021-06-19T17:39:12.820Z"
   },
   {
    "duration": 31,
    "start_time": "2021-06-19T17:39:25.664Z"
   },
   {
    "duration": 7,
    "start_time": "2021-06-19T17:39:38.715Z"
   },
   {
    "duration": 7,
    "start_time": "2021-06-19T17:39:48.720Z"
   },
   {
    "duration": 5,
    "start_time": "2021-06-19T17:39:55.470Z"
   },
   {
    "duration": 11,
    "start_time": "2021-06-19T17:47:04.633Z"
   },
   {
    "duration": 24,
    "start_time": "2021-06-19T17:47:22.591Z"
   },
   {
    "duration": 6,
    "start_time": "2021-06-19T17:47:28.600Z"
   },
   {
    "duration": 8,
    "start_time": "2021-06-19T17:47:33.143Z"
   },
   {
    "duration": 6,
    "start_time": "2021-06-19T17:47:35.639Z"
   },
   {
    "duration": 351,
    "start_time": "2021-06-19T17:47:55.543Z"
   },
   {
    "duration": 1287,
    "start_time": "2021-06-19T17:49:02.962Z"
   },
   {
    "duration": 49,
    "start_time": "2021-06-19T17:49:06.002Z"
   },
   {
    "duration": 26,
    "start_time": "2021-06-19T17:49:08.525Z"
   },
   {
    "duration": 14,
    "start_time": "2021-06-19T17:49:12.686Z"
   },
   {
    "duration": 14,
    "start_time": "2021-06-19T17:49:16.206Z"
   },
   {
    "duration": 4,
    "start_time": "2021-06-19T17:49:36.811Z"
   },
   {
    "duration": 21,
    "start_time": "2021-06-19T17:49:41.229Z"
   },
   {
    "duration": 11,
    "start_time": "2021-06-19T17:49:46.002Z"
   },
   {
    "duration": 7,
    "start_time": "2021-06-19T17:49:49.052Z"
   },
   {
    "duration": 31,
    "start_time": "2021-06-19T17:49:57.506Z"
   },
   {
    "duration": 6,
    "start_time": "2021-06-19T17:50:03.750Z"
   },
   {
    "duration": 8,
    "start_time": "2021-06-19T17:50:23.190Z"
   },
   {
    "duration": 4,
    "start_time": "2021-06-19T17:50:47.352Z"
   },
   {
    "duration": 7,
    "start_time": "2021-06-19T17:51:03.056Z"
   },
   {
    "duration": 26,
    "start_time": "2021-06-19T17:51:14.598Z"
   },
   {
    "duration": 7,
    "start_time": "2021-06-19T17:51:31.849Z"
   },
   {
    "duration": 7,
    "start_time": "2021-06-19T17:51:35.125Z"
   },
   {
    "duration": 6,
    "start_time": "2021-06-19T17:51:37.487Z"
   },
   {
    "duration": 366,
    "start_time": "2021-06-19T17:51:46.087Z"
   },
   {
    "duration": 13,
    "start_time": "2021-06-19T17:51:50.123Z"
   },
   {
    "duration": 488,
    "start_time": "2021-06-19T17:51:56.192Z"
   },
   {
    "duration": 4,
    "start_time": "2021-06-19T17:52:26.396Z"
   },
   {
    "duration": 464,
    "start_time": "2021-06-19T17:52:34.228Z"
   },
   {
    "duration": 491,
    "start_time": "2021-06-19T17:52:42.998Z"
   },
   {
    "duration": 543,
    "start_time": "2021-06-19T17:52:50.806Z"
   },
   {
    "duration": 82,
    "start_time": "2021-06-19T17:53:20.510Z"
   },
   {
    "duration": 23,
    "start_time": "2021-06-19T17:53:42.362Z"
   },
   {
    "duration": 1027,
    "start_time": "2021-06-19T17:53:54.997Z"
   },
   {
    "duration": 75,
    "start_time": "2021-06-19T17:55:45.810Z"
   },
   {
    "duration": 23,
    "start_time": "2021-06-19T17:55:50.728Z"
   },
   {
    "duration": 998,
    "start_time": "2021-06-19T17:56:16.313Z"
   },
   {
    "duration": 35,
    "start_time": "2021-06-19T17:56:33.358Z"
   },
   {
    "duration": 590,
    "start_time": "2021-06-19T17:56:39.484Z"
   },
   {
    "duration": 771,
    "start_time": "2021-06-19T17:56:46.725Z"
   },
   {
    "duration": 468,
    "start_time": "2021-06-19T17:56:58.440Z"
   },
   {
    "duration": 484,
    "start_time": "2021-06-19T17:57:19.423Z"
   },
   {
    "duration": 492,
    "start_time": "2021-06-19T17:57:24.559Z"
   },
   {
    "duration": 25,
    "start_time": "2021-06-19T17:57:29.372Z"
   },
   {
    "duration": 27,
    "start_time": "2021-06-19T17:57:32.519Z"
   },
   {
    "duration": 1365,
    "start_time": "2021-06-19T19:22:31.345Z"
   },
   {
    "duration": 50,
    "start_time": "2021-06-19T19:22:34.224Z"
   },
   {
    "duration": 26,
    "start_time": "2021-06-19T19:22:42.348Z"
   },
   {
    "duration": 14,
    "start_time": "2021-06-19T19:22:49.595Z"
   },
   {
    "duration": 13,
    "start_time": "2021-06-19T19:22:53.547Z"
   },
   {
    "duration": 4,
    "start_time": "2021-06-19T19:22:56.752Z"
   },
   {
    "duration": 20,
    "start_time": "2021-06-19T19:23:12.983Z"
   },
   {
    "duration": 11,
    "start_time": "2021-06-19T19:24:43.201Z"
   },
   {
    "duration": 7,
    "start_time": "2021-06-19T19:25:01.502Z"
   },
   {
    "duration": 32,
    "start_time": "2021-06-19T19:27:16.125Z"
   },
   {
    "duration": 7,
    "start_time": "2021-06-19T19:27:56.353Z"
   },
   {
    "duration": 8,
    "start_time": "2021-06-19T19:28:00.220Z"
   },
   {
    "duration": 5,
    "start_time": "2021-06-19T19:28:15.507Z"
   },
   {
    "duration": 11,
    "start_time": "2021-06-19T19:28:23.068Z"
   },
   {
    "duration": 25,
    "start_time": "2021-06-19T19:28:27.589Z"
   },
   {
    "duration": 7,
    "start_time": "2021-06-19T19:28:31.629Z"
   },
   {
    "duration": 7,
    "start_time": "2021-06-19T19:28:35.259Z"
   },
   {
    "duration": 6,
    "start_time": "2021-06-19T19:28:40.340Z"
   },
   {
    "duration": 363,
    "start_time": "2021-06-19T19:28:42.952Z"
   },
   {
    "duration": 14,
    "start_time": "2021-06-19T19:28:47.991Z"
   },
   {
    "duration": 472,
    "start_time": "2021-06-19T19:28:51.746Z"
   },
   {
    "duration": 469,
    "start_time": "2021-06-19T19:29:09.324Z"
   },
   {
    "duration": 86,
    "start_time": "2021-06-19T19:29:16.524Z"
   },
   {
    "duration": 21,
    "start_time": "2021-06-19T19:29:52.353Z"
   },
   {
    "duration": 1079,
    "start_time": "2021-06-19T19:30:00.554Z"
   },
   {
    "duration": 76,
    "start_time": "2021-06-19T19:30:12.628Z"
   },
   {
    "duration": 22,
    "start_time": "2021-06-19T19:30:22.204Z"
   },
   {
    "duration": 895,
    "start_time": "2021-06-19T19:30:25.865Z"
   },
   {
    "duration": 36,
    "start_time": "2021-06-19T19:30:59.140Z"
   },
   {
    "duration": 10,
    "start_time": "2021-06-19T19:35:16.139Z"
   },
   {
    "duration": 10,
    "start_time": "2021-06-19T19:35:46.149Z"
   },
   {
    "duration": 38,
    "start_time": "2021-06-19T19:35:55.561Z"
   },
   {
    "duration": 9,
    "start_time": "2021-06-19T19:36:03.670Z"
   },
   {
    "duration": 582,
    "start_time": "2021-06-19T19:36:10.563Z"
   },
   {
    "duration": 727,
    "start_time": "2021-06-19T19:36:15.310Z"
   },
   {
    "duration": 485,
    "start_time": "2021-06-19T19:36:26.785Z"
   },
   {
    "duration": 526,
    "start_time": "2021-06-19T19:36:38.627Z"
   },
   {
    "duration": 502,
    "start_time": "2021-06-19T19:39:57.914Z"
   },
   {
    "duration": 25,
    "start_time": "2021-06-19T19:40:05.552Z"
   },
   {
    "duration": 24,
    "start_time": "2021-06-19T19:40:10.826Z"
   },
   {
    "duration": 25,
    "start_time": "2021-06-19T19:40:20.512Z"
   },
   {
    "duration": 26,
    "start_time": "2021-06-19T19:40:23.405Z"
   },
   {
    "duration": 1038,
    "start_time": "2021-06-19T19:40:26.071Z"
   },
   {
    "duration": 25,
    "start_time": "2021-06-19T19:40:34.842Z"
   },
   {
    "duration": 24,
    "start_time": "2021-06-19T19:40:37.520Z"
   },
   {
    "duration": 23,
    "start_time": "2021-06-19T19:40:57.143Z"
   },
   {
    "duration": 24,
    "start_time": "2021-06-19T19:41:00.739Z"
   },
   {
    "duration": 1097,
    "start_time": "2021-06-19T19:41:03.753Z"
   },
   {
    "duration": 3,
    "start_time": "2021-06-19T19:41:09.221Z"
   },
   {
    "duration": 25,
    "start_time": "2021-06-19T19:41:44.917Z"
   },
   {
    "duration": 24,
    "start_time": "2021-06-19T19:41:49.678Z"
   },
   {
    "duration": 25,
    "start_time": "2021-06-19T19:41:54.565Z"
   },
   {
    "duration": 25,
    "start_time": "2021-06-19T19:42:03.955Z"
   },
   {
    "duration": 13,
    "start_time": "2021-06-19T19:42:51.244Z"
   },
   {
    "duration": 8,
    "start_time": "2021-06-19T19:42:53.544Z"
   },
   {
    "duration": 7,
    "start_time": "2021-06-19T19:43:01.000Z"
   },
   {
    "duration": 12,
    "start_time": "2021-06-19T19:43:13.365Z"
   },
   {
    "duration": 7,
    "start_time": "2021-06-19T19:43:15.882Z"
   },
   {
    "duration": 1407,
    "start_time": "2021-06-20T03:30:57.421Z"
   },
   {
    "duration": 48,
    "start_time": "2021-06-20T03:30:58.831Z"
   },
   {
    "duration": 25,
    "start_time": "2021-06-20T03:30:58.883Z"
   },
   {
    "duration": 17,
    "start_time": "2021-06-20T03:30:58.911Z"
   },
   {
    "duration": 38,
    "start_time": "2021-06-20T03:30:58.930Z"
   },
   {
    "duration": 5,
    "start_time": "2021-06-20T03:30:58.970Z"
   },
   {
    "duration": 21,
    "start_time": "2021-06-20T03:30:58.977Z"
   },
   {
    "duration": 16,
    "start_time": "2021-06-20T03:30:59.002Z"
   },
   {
    "duration": 7,
    "start_time": "2021-06-20T03:30:59.022Z"
   },
   {
    "duration": 33,
    "start_time": "2021-06-20T03:30:59.062Z"
   },
   {
    "duration": 7,
    "start_time": "2021-06-20T03:30:59.097Z"
   },
   {
    "duration": 10,
    "start_time": "2021-06-20T03:30:59.106Z"
   },
   {
    "duration": 6,
    "start_time": "2021-06-20T03:30:59.118Z"
   },
   {
    "duration": 7,
    "start_time": "2021-06-20T03:30:59.162Z"
   },
   {
    "duration": 24,
    "start_time": "2021-06-20T03:30:59.172Z"
   },
   {
    "duration": 6,
    "start_time": "2021-06-20T03:30:59.199Z"
   },
   {
    "duration": 11,
    "start_time": "2021-06-20T03:30:59.207Z"
   },
   {
    "duration": 41,
    "start_time": "2021-06-20T03:30:59.221Z"
   },
   {
    "duration": 380,
    "start_time": "2021-06-20T03:30:59.265Z"
   },
   {
    "duration": 21,
    "start_time": "2021-06-20T03:30:59.647Z"
   },
   {
    "duration": 510,
    "start_time": "2021-06-20T03:30:59.671Z"
   },
   {
    "duration": 513,
    "start_time": "2021-06-20T03:31:00.183Z"
   },
   {
    "duration": 103,
    "start_time": "2021-06-20T03:31:00.702Z"
   },
   {
    "duration": 22,
    "start_time": "2021-06-20T03:31:00.808Z"
   },
   {
    "duration": 1051,
    "start_time": "2021-06-20T03:31:00.832Z"
   },
   {
    "duration": 103,
    "start_time": "2021-06-20T03:31:01.886Z"
   },
   {
    "duration": 22,
    "start_time": "2021-06-20T03:31:01.991Z"
   },
   {
    "duration": 968,
    "start_time": "2021-06-20T03:31:02.015Z"
   },
   {
    "duration": 37,
    "start_time": "2021-06-20T03:31:02.985Z"
   },
   {
    "duration": 39,
    "start_time": "2021-06-20T03:31:03.024Z"
   },
   {
    "duration": 610,
    "start_time": "2021-06-20T03:31:03.066Z"
   },
   {
    "duration": 797,
    "start_time": "2021-06-20T03:31:03.678Z"
   },
   {
    "duration": 565,
    "start_time": "2021-06-20T03:31:04.477Z"
   },
   {
    "duration": 477,
    "start_time": "2021-06-20T03:31:05.044Z"
   },
   {
    "duration": 547,
    "start_time": "2021-06-20T03:31:05.524Z"
   },
   {
    "duration": 26,
    "start_time": "2021-06-20T03:31:06.073Z"
   },
   {
    "duration": 24,
    "start_time": "2021-06-20T03:31:06.101Z"
   },
   {
    "duration": 55,
    "start_time": "2021-06-20T03:31:06.127Z"
   },
   {
    "duration": 24,
    "start_time": "2021-06-20T03:31:06.185Z"
   },
   {
    "duration": 1111,
    "start_time": "2021-06-20T03:31:06.212Z"
   },
   {
    "duration": 22,
    "start_time": "2021-06-20T03:31:07.326Z"
   },
   {
    "duration": 24,
    "start_time": "2021-06-20T03:31:07.362Z"
   },
   {
    "duration": 23,
    "start_time": "2021-06-20T03:31:07.389Z"
   },
   {
    "duration": 53,
    "start_time": "2021-06-20T03:31:07.415Z"
   },
   {
    "duration": 1137,
    "start_time": "2021-06-20T03:31:07.470Z"
   },
   {
    "duration": 25,
    "start_time": "2021-06-20T03:31:08.609Z"
   },
   {
    "duration": 42,
    "start_time": "2021-06-20T03:31:08.636Z"
   },
   {
    "duration": 25,
    "start_time": "2021-06-20T03:31:08.680Z"
   },
   {
    "duration": 58,
    "start_time": "2021-06-20T03:31:08.708Z"
   },
   {
    "duration": 12,
    "start_time": "2021-06-20T03:31:08.768Z"
   },
   {
    "duration": 10,
    "start_time": "2021-06-20T03:31:08.782Z"
   },
   {
    "duration": 6,
    "start_time": "2021-06-20T03:31:08.794Z"
   },
   {
    "duration": 12,
    "start_time": "2021-06-20T03:31:08.802Z"
   },
   {
    "duration": 7,
    "start_time": "2021-06-20T03:31:08.816Z"
   },
   {
    "duration": 6,
    "start_time": "2021-06-20T03:31:08.863Z"
   },
   {
    "duration": 474,
    "start_time": "2021-06-20T03:43:16.617Z"
   },
   {
    "duration": 36,
    "start_time": "2021-06-20T03:43:21.546Z"
   },
   {
    "duration": 362,
    "start_time": "2021-06-20T03:43:46.036Z"
   },
   {
    "duration": 397,
    "start_time": "2021-06-20T03:43:54.876Z"
   },
   {
    "duration": 34,
    "start_time": "2021-06-20T03:44:03.294Z"
   },
   {
    "duration": 34,
    "start_time": "2021-06-20T03:45:48.517Z"
   },
   {
    "duration": 6,
    "start_time": "2021-06-20T03:46:03.911Z"
   },
   {
    "duration": 36,
    "start_time": "2021-06-20T03:46:28.993Z"
   },
   {
    "duration": 10,
    "start_time": "2021-06-20T03:46:35.050Z"
   },
   {
    "duration": 9,
    "start_time": "2021-06-20T03:46:43.547Z"
   },
   {
    "duration": 10,
    "start_time": "2021-06-20T03:46:53.635Z"
   },
   {
    "duration": 11,
    "start_time": "2021-06-20T03:46:59.731Z"
   },
   {
    "duration": 10,
    "start_time": "2021-06-20T03:47:04.799Z"
   },
   {
    "duration": 385,
    "start_time": "2021-06-20T11:37:14.949Z"
   },
   {
    "duration": 1398,
    "start_time": "2021-06-20T11:38:10.551Z"
   },
   {
    "duration": 49,
    "start_time": "2021-06-20T11:38:21.831Z"
   },
   {
    "duration": 26,
    "start_time": "2021-06-20T11:38:37.027Z"
   },
   {
    "duration": 15,
    "start_time": "2021-06-20T11:38:41.376Z"
   },
   {
    "duration": 20,
    "start_time": "2021-06-20T11:39:08.868Z"
   },
   {
    "duration": 5,
    "start_time": "2021-06-20T11:39:50.102Z"
   },
   {
    "duration": 21,
    "start_time": "2021-06-20T11:41:15.870Z"
   },
   {
    "duration": 11,
    "start_time": "2021-06-20T11:41:21.423Z"
   },
   {
    "duration": 8,
    "start_time": "2021-06-20T11:41:28.336Z"
   },
   {
    "duration": 31,
    "start_time": "2021-06-20T11:41:32.417Z"
   },
   {
    "duration": 6,
    "start_time": "2021-06-20T11:41:53.075Z"
   },
   {
    "duration": 7,
    "start_time": "2021-06-20T11:41:57.187Z"
   },
   {
    "duration": 5,
    "start_time": "2021-06-20T11:42:01.270Z"
   },
   {
    "duration": 11,
    "start_time": "2021-06-20T11:42:25.823Z"
   },
   {
    "duration": 25,
    "start_time": "2021-06-20T11:42:29.677Z"
   },
   {
    "duration": 8,
    "start_time": "2021-06-20T11:42:47.444Z"
   },
   {
    "duration": 6,
    "start_time": "2021-06-20T11:42:52.275Z"
   },
   {
    "duration": 377,
    "start_time": "2021-06-20T11:43:02.953Z"
   },
   {
    "duration": 14,
    "start_time": "2021-06-20T11:43:16.243Z"
   },
   {
    "duration": 499,
    "start_time": "2021-06-20T11:43:29.764Z"
   },
   {
    "duration": 501,
    "start_time": "2021-06-20T11:44:45.054Z"
   },
   {
    "duration": 83,
    "start_time": "2021-06-20T11:45:42.866Z"
   },
   {
    "duration": 22,
    "start_time": "2021-06-20T11:45:51.995Z"
   },
   {
    "duration": 1091,
    "start_time": "2021-06-20T11:46:01.591Z"
   },
   {
    "duration": 80,
    "start_time": "2021-06-20T11:47:25.786Z"
   },
   {
    "duration": 22,
    "start_time": "2021-06-20T11:47:36.623Z"
   },
   {
    "duration": 960,
    "start_time": "2021-06-20T11:47:41.239Z"
   },
   {
    "duration": 894,
    "start_time": "2021-06-20T11:47:59.643Z"
   },
   {
    "duration": 24,
    "start_time": "2021-06-20T11:49:57.913Z"
   },
   {
    "duration": 24,
    "start_time": "2021-06-20T11:50:04.542Z"
   },
   {
    "duration": 932,
    "start_time": "2021-06-20T11:50:31.481Z"
   },
   {
    "duration": 908,
    "start_time": "2021-06-20T11:51:04.438Z"
   },
   {
    "duration": 1408,
    "start_time": "2021-06-20T11:51:49.874Z"
   },
   {
    "duration": 49,
    "start_time": "2021-06-20T11:52:03.855Z"
   },
   {
    "duration": 38,
    "start_time": "2021-06-20T11:52:06.113Z"
   },
   {
    "duration": 15,
    "start_time": "2021-06-20T11:52:09.706Z"
   },
   {
    "duration": 13,
    "start_time": "2021-06-20T11:52:14.031Z"
   },
   {
    "duration": 4,
    "start_time": "2021-06-20T11:52:33.662Z"
   },
   {
    "duration": 21,
    "start_time": "2021-06-20T11:52:54.078Z"
   },
   {
    "duration": 11,
    "start_time": "2021-06-20T11:53:00.816Z"
   },
   {
    "duration": 7,
    "start_time": "2021-06-20T11:53:02.784Z"
   },
   {
    "duration": 32,
    "start_time": "2021-06-20T11:53:05.923Z"
   },
   {
    "duration": 7,
    "start_time": "2021-06-20T11:53:09.710Z"
   },
   {
    "duration": 7,
    "start_time": "2021-06-20T11:53:23.225Z"
   },
   {
    "duration": 5,
    "start_time": "2021-06-20T11:53:25.884Z"
   },
   {
    "duration": 12,
    "start_time": "2021-06-20T11:53:29.583Z"
   },
   {
    "duration": 25,
    "start_time": "2021-06-20T11:53:31.911Z"
   },
   {
    "duration": 7,
    "start_time": "2021-06-20T11:53:34.909Z"
   },
   {
    "duration": 8,
    "start_time": "2021-06-20T11:53:41.711Z"
   },
   {
    "duration": 6,
    "start_time": "2021-06-20T11:53:43.937Z"
   },
   {
    "duration": 382,
    "start_time": "2021-06-20T11:53:45.912Z"
   },
   {
    "duration": 14,
    "start_time": "2021-06-20T11:53:49.800Z"
   },
   {
    "duration": 503,
    "start_time": "2021-06-20T11:53:53.344Z"
   },
   {
    "duration": 497,
    "start_time": "2021-06-20T11:53:57.592Z"
   },
   {
    "duration": 86,
    "start_time": "2021-06-20T11:54:05.359Z"
   },
   {
    "duration": 23,
    "start_time": "2021-06-20T11:54:10.385Z"
   },
   {
    "duration": 1080,
    "start_time": "2021-06-20T11:54:13.199Z"
   },
   {
    "duration": 77,
    "start_time": "2021-06-20T11:54:25.748Z"
   },
   {
    "duration": 23,
    "start_time": "2021-06-20T11:54:40.583Z"
   },
   {
    "duration": 997,
    "start_time": "2021-06-20T11:54:44.106Z"
   },
   {
    "duration": 26,
    "start_time": "2021-06-20T11:55:02.511Z"
   },
   {
    "duration": 22,
    "start_time": "2021-06-20T11:55:11.553Z"
   },
   {
    "duration": 24,
    "start_time": "2021-06-20T11:56:11.865Z"
   },
   {
    "duration": 1401,
    "start_time": "2021-06-20T12:04:35.273Z"
   },
   {
    "duration": 50,
    "start_time": "2021-06-20T12:04:38.547Z"
   },
   {
    "duration": 26,
    "start_time": "2021-06-20T12:04:48.600Z"
   },
   {
    "duration": 15,
    "start_time": "2021-06-20T12:04:54.423Z"
   },
   {
    "duration": 13,
    "start_time": "2021-06-20T12:04:58.001Z"
   },
   {
    "duration": 5,
    "start_time": "2021-06-20T12:05:01.956Z"
   },
   {
    "duration": 21,
    "start_time": "2021-06-20T12:05:07.676Z"
   },
   {
    "duration": 10,
    "start_time": "2021-06-20T12:05:12.269Z"
   },
   {
    "duration": 7,
    "start_time": "2021-06-20T12:05:14.628Z"
   },
   {
    "duration": 33,
    "start_time": "2021-06-20T12:05:20.044Z"
   },
   {
    "duration": 6,
    "start_time": "2021-06-20T12:06:02.149Z"
   },
   {
    "duration": 8,
    "start_time": "2021-06-20T12:06:04.072Z"
   },
   {
    "duration": 5,
    "start_time": "2021-06-20T12:06:07.791Z"
   },
   {
    "duration": 10,
    "start_time": "2021-06-20T12:06:12.793Z"
   },
   {
    "duration": 24,
    "start_time": "2021-06-20T12:06:16.902Z"
   },
   {
    "duration": 7,
    "start_time": "2021-06-20T12:06:21.785Z"
   },
   {
    "duration": 7,
    "start_time": "2021-06-20T12:06:25.983Z"
   },
   {
    "duration": 6,
    "start_time": "2021-06-20T12:06:28.396Z"
   },
   {
    "duration": 365,
    "start_time": "2021-06-20T12:06:39.167Z"
   },
   {
    "duration": 15,
    "start_time": "2021-06-20T12:06:50.388Z"
   },
   {
    "duration": 503,
    "start_time": "2021-06-20T12:06:56.075Z"
   },
   {
    "duration": 496,
    "start_time": "2021-06-20T12:07:00.515Z"
   },
   {
    "duration": 85,
    "start_time": "2021-06-20T12:07:10.125Z"
   },
   {
    "duration": 22,
    "start_time": "2021-06-20T12:07:16.993Z"
   },
   {
    "duration": 1041,
    "start_time": "2021-06-20T12:07:23.122Z"
   },
   {
    "duration": 80,
    "start_time": "2021-06-20T12:07:31.675Z"
   },
   {
    "duration": 60,
    "start_time": "2021-06-20T12:08:48.965Z"
   },
   {
    "duration": 22,
    "start_time": "2021-06-20T12:08:56.745Z"
   },
   {
    "duration": 23,
    "start_time": "2021-06-20T12:09:29.566Z"
   },
   {
    "duration": 473,
    "start_time": "2021-06-20T12:09:56.304Z"
   },
   {
    "duration": 21,
    "start_time": "2021-06-20T12:10:37.948Z"
   },
   {
    "duration": 9,
    "start_time": "2021-06-20T12:11:37.871Z"
   },
   {
    "duration": 60,
    "start_time": "2021-06-20T12:11:44.142Z"
   },
   {
    "duration": 22,
    "start_time": "2021-06-20T12:12:00.075Z"
   },
   {
    "duration": 22,
    "start_time": "2021-06-20T12:12:08.440Z"
   },
   {
    "duration": 26,
    "start_time": "2021-06-20T12:12:29.719Z"
   },
   {
    "duration": 8,
    "start_time": "2021-06-20T12:12:39.443Z"
   },
   {
    "duration": 57,
    "start_time": "2021-06-20T12:12:41.443Z"
   },
   {
    "duration": 22,
    "start_time": "2021-06-20T12:12:44.514Z"
   },
   {
    "duration": 983,
    "start_time": "2021-06-20T12:12:49.079Z"
   },
   {
    "duration": 38,
    "start_time": "2021-06-20T12:14:08.746Z"
   },
   {
    "duration": 621,
    "start_time": "2021-06-20T12:14:31.679Z"
   },
   {
    "duration": 783,
    "start_time": "2021-06-20T12:14:55.187Z"
   },
   {
    "duration": 491,
    "start_time": "2021-06-20T12:15:18.589Z"
   },
   {
    "duration": 566,
    "start_time": "2021-06-20T12:15:26.400Z"
   },
   {
    "duration": 1567,
    "start_time": "2021-06-20T12:15:31.706Z"
   },
   {
    "duration": 26,
    "start_time": "2021-06-20T12:15:37.304Z"
   },
   {
    "duration": 9,
    "start_time": "2021-06-20T12:16:38.425Z"
   },
   {
    "duration": 45,
    "start_time": "2021-06-20T12:16:45.104Z"
   },
   {
    "duration": 23,
    "start_time": "2021-06-20T12:16:48.607Z"
   },
   {
    "duration": 23,
    "start_time": "2021-06-20T12:17:07.707Z"
   },
   {
    "duration": 964,
    "start_time": "2021-06-20T12:17:12.914Z"
   },
   {
    "duration": 34,
    "start_time": "2021-06-20T12:17:25.302Z"
   },
   {
    "duration": 602,
    "start_time": "2021-06-20T12:17:36.963Z"
   },
   {
    "duration": 781,
    "start_time": "2021-06-20T12:22:43.959Z"
   },
   {
    "duration": 787,
    "start_time": "2021-06-20T12:23:52.346Z"
   },
   {
    "duration": 850,
    "start_time": "2021-06-20T12:24:16.646Z"
   },
   {
    "duration": 330,
    "start_time": "2021-06-20T12:28:09.387Z"
   },
   {
    "duration": 8,
    "start_time": "2021-06-20T12:28:43.859Z"
   },
   {
    "duration": 491,
    "start_time": "2021-06-20T12:29:13.191Z"
   },
   {
    "duration": 457,
    "start_time": "2021-06-20T12:29:26.315Z"
   },
   {
    "duration": 1336,
    "start_time": "2021-06-20T12:29:38.303Z"
   },
   {
    "duration": 526,
    "start_time": "2021-06-20T12:30:00.097Z"
   },
   {
    "duration": 24,
    "start_time": "2021-06-20T12:30:16.234Z"
   },
   {
    "duration": 27,
    "start_time": "2021-06-20T12:30:27.109Z"
   },
   {
    "duration": 25,
    "start_time": "2021-06-20T12:31:29.042Z"
   },
   {
    "duration": 24,
    "start_time": "2021-06-20T12:31:37.544Z"
   },
   {
    "duration": 1119,
    "start_time": "2021-06-20T12:32:00.722Z"
   },
   {
    "duration": 25,
    "start_time": "2021-06-20T12:32:55.481Z"
   },
   {
    "duration": 37,
    "start_time": "2021-06-20T12:32:59.867Z"
   },
   {
    "duration": 24,
    "start_time": "2021-06-20T12:33:05.219Z"
   },
   {
    "duration": 23,
    "start_time": "2021-06-20T12:33:13.127Z"
   },
   {
    "duration": 1251,
    "start_time": "2021-06-20T12:33:16.883Z"
   },
   {
    "duration": 24,
    "start_time": "2021-06-20T12:33:28.722Z"
   },
   {
    "duration": 25,
    "start_time": "2021-06-20T12:33:34.313Z"
   },
   {
    "duration": 23,
    "start_time": "2021-06-20T12:33:38.716Z"
   },
   {
    "duration": 24,
    "start_time": "2021-06-20T12:33:41.599Z"
   },
   {
    "duration": 12,
    "start_time": "2021-06-20T12:33:52.998Z"
   },
   {
    "duration": 7,
    "start_time": "2021-06-20T12:33:56.234Z"
   },
   {
    "duration": 6,
    "start_time": "2021-06-20T12:34:03.900Z"
   },
   {
    "duration": 11,
    "start_time": "2021-06-20T12:34:19.825Z"
   },
   {
    "duration": 7,
    "start_time": "2021-06-20T12:34:22.224Z"
   },
   {
    "duration": 6,
    "start_time": "2021-06-20T12:34:27.601Z"
   },
   {
    "duration": 1479,
    "start_time": "2021-06-20T12:38:30.661Z"
   },
   {
    "duration": 49,
    "start_time": "2021-06-20T12:38:32.939Z"
   },
   {
    "duration": 36,
    "start_time": "2021-06-20T12:38:35.585Z"
   },
   {
    "duration": 14,
    "start_time": "2021-06-20T12:38:39.707Z"
   },
   {
    "duration": 12,
    "start_time": "2021-06-20T12:38:45.961Z"
   },
   {
    "duration": 4,
    "start_time": "2021-06-20T12:38:48.618Z"
   },
   {
    "duration": 22,
    "start_time": "2021-06-20T12:38:52.158Z"
   },
   {
    "duration": 12,
    "start_time": "2021-06-20T12:38:55.423Z"
   },
   {
    "duration": 8,
    "start_time": "2021-06-20T12:38:58.946Z"
   },
   {
    "duration": 34,
    "start_time": "2021-06-20T12:39:05.440Z"
   },
   {
    "duration": 7,
    "start_time": "2021-06-20T12:39:11.229Z"
   },
   {
    "duration": 7,
    "start_time": "2021-06-20T12:39:13.499Z"
   },
   {
    "duration": 6,
    "start_time": "2021-06-20T12:39:18.346Z"
   },
   {
    "duration": 12,
    "start_time": "2021-06-20T12:39:21.311Z"
   },
   {
    "duration": 24,
    "start_time": "2021-06-20T12:39:23.484Z"
   },
   {
    "duration": 7,
    "start_time": "2021-06-20T12:39:26.604Z"
   },
   {
    "duration": 7,
    "start_time": "2021-06-20T12:39:31.000Z"
   },
   {
    "duration": 6,
    "start_time": "2021-06-20T12:39:33.768Z"
   },
   {
    "duration": 364,
    "start_time": "2021-06-20T12:39:36.486Z"
   },
   {
    "duration": 14,
    "start_time": "2021-06-20T12:39:41.434Z"
   },
   {
    "duration": 615,
    "start_time": "2021-06-20T12:39:44.961Z"
   },
   {
    "duration": 509,
    "start_time": "2021-06-20T12:39:49.434Z"
   },
   {
    "duration": 85,
    "start_time": "2021-06-20T12:40:14.045Z"
   },
   {
    "duration": 22,
    "start_time": "2021-06-20T12:40:21.153Z"
   },
   {
    "duration": 1058,
    "start_time": "2021-06-20T12:40:25.194Z"
   },
   {
    "duration": 10,
    "start_time": "2021-06-20T12:40:53.827Z"
   },
   {
    "duration": 47,
    "start_time": "2021-06-20T12:41:01.787Z"
   },
   {
    "duration": 23,
    "start_time": "2021-06-20T12:41:12.843Z"
   },
   {
    "duration": 465,
    "start_time": "2021-06-20T12:41:23.526Z"
   },
   {
    "duration": 883,
    "start_time": "2021-06-20T12:41:51.462Z"
   },
   {
    "duration": 22,
    "start_time": "2021-06-20T12:42:27.063Z"
   },
   {
    "duration": 24,
    "start_time": "2021-06-20T12:42:47.341Z"
   },
   {
    "duration": 869,
    "start_time": "2021-06-20T12:43:00.159Z"
   },
   {
    "duration": 1395,
    "start_time": "2021-06-20T12:43:26.882Z"
   },
   {
    "duration": 48,
    "start_time": "2021-06-20T12:43:28.667Z"
   },
   {
    "duration": 26,
    "start_time": "2021-06-20T12:43:30.651Z"
   },
   {
    "duration": 15,
    "start_time": "2021-06-20T12:43:33.937Z"
   },
   {
    "duration": 13,
    "start_time": "2021-06-20T12:43:38.013Z"
   },
   {
    "duration": 4,
    "start_time": "2021-06-20T12:43:42.336Z"
   },
   {
    "duration": 14,
    "start_time": "2021-06-20T12:43:47.349Z"
   },
   {
    "duration": 8,
    "start_time": "2021-06-20T12:43:49.943Z"
   },
   {
    "duration": 32,
    "start_time": "2021-06-20T12:43:53.026Z"
   },
   {
    "duration": 6,
    "start_time": "2021-06-20T12:43:56.429Z"
   },
   {
    "duration": 7,
    "start_time": "2021-06-20T12:43:59.187Z"
   },
   {
    "duration": 5,
    "start_time": "2021-06-20T12:44:01.756Z"
   },
   {
    "duration": 11,
    "start_time": "2021-06-20T12:44:06.578Z"
   },
   {
    "duration": 25,
    "start_time": "2021-06-20T12:44:09.956Z"
   },
   {
    "duration": 7,
    "start_time": "2021-06-20T12:44:13.231Z"
   },
   {
    "duration": 8,
    "start_time": "2021-06-20T12:44:16.625Z"
   },
   {
    "duration": 6,
    "start_time": "2021-06-20T12:44:18.618Z"
   },
   {
    "duration": 379,
    "start_time": "2021-06-20T12:44:22.016Z"
   },
   {
    "duration": 14,
    "start_time": "2021-06-20T12:44:25.265Z"
   },
   {
    "duration": 528,
    "start_time": "2021-06-20T12:44:29.517Z"
   },
   {
    "duration": 658,
    "start_time": "2021-06-20T12:44:32.276Z"
   },
   {
    "duration": 84,
    "start_time": "2021-06-20T12:44:38.654Z"
   },
   {
    "duration": 23,
    "start_time": "2021-06-20T12:44:44.786Z"
   },
   {
    "duration": 1066,
    "start_time": "2021-06-20T12:44:53.137Z"
   },
   {
    "duration": 10,
    "start_time": "2021-06-20T12:45:04.016Z"
   },
   {
    "duration": 47,
    "start_time": "2021-06-20T12:45:07.096Z"
   },
   {
    "duration": 23,
    "start_time": "2021-06-20T12:45:15.152Z"
   },
   {
    "duration": 22,
    "start_time": "2021-06-20T12:45:46.497Z"
   },
   {
    "duration": 23,
    "start_time": "2021-06-20T12:45:59.261Z"
   },
   {
    "duration": 951,
    "start_time": "2021-06-20T12:46:07.669Z"
   },
   {
    "duration": 31,
    "start_time": "2021-06-20T12:46:23.747Z"
   },
   {
    "duration": 623,
    "start_time": "2021-06-20T12:46:32.618Z"
   },
   {
    "duration": 796,
    "start_time": "2021-06-20T12:46:38.125Z"
   },
   {
    "duration": 523,
    "start_time": "2021-06-20T12:47:19.291Z"
   },
   {
    "duration": 572,
    "start_time": "2021-06-20T12:47:23.579Z"
   },
   {
    "duration": 565,
    "start_time": "2021-06-20T12:47:31.909Z"
   },
   {
    "duration": 516,
    "start_time": "2021-06-20T12:48:26.037Z"
   },
   {
    "duration": 474,
    "start_time": "2021-06-20T12:48:53.016Z"
   },
   {
    "duration": 520,
    "start_time": "2021-06-20T12:49:25.310Z"
   },
   {
    "duration": 513,
    "start_time": "2021-06-20T12:50:58.069Z"
   },
   {
    "duration": 523,
    "start_time": "2021-06-20T12:53:44.473Z"
   },
   {
    "duration": 29,
    "start_time": "2021-06-20T12:54:12.054Z"
   },
   {
    "duration": 25,
    "start_time": "2021-06-20T12:54:14.633Z"
   },
   {
    "duration": 24,
    "start_time": "2021-06-20T12:54:22.184Z"
   },
   {
    "duration": 28,
    "start_time": "2021-06-20T12:54:24.955Z"
   },
   {
    "duration": 1129,
    "start_time": "2021-06-20T12:54:27.658Z"
   },
   {
    "duration": 25,
    "start_time": "2021-06-20T12:54:32.790Z"
   },
   {
    "duration": 26,
    "start_time": "2021-06-20T12:54:33.397Z"
   },
   {
    "duration": 35,
    "start_time": "2021-06-20T12:54:34.436Z"
   },
   {
    "duration": 24,
    "start_time": "2021-06-20T12:54:35.149Z"
   },
   {
    "duration": 1113,
    "start_time": "2021-06-20T12:54:38.959Z"
   },
   {
    "duration": 23,
    "start_time": "2021-06-20T12:54:45.755Z"
   },
   {
    "duration": 25,
    "start_time": "2021-06-20T12:54:49.919Z"
   },
   {
    "duration": 26,
    "start_time": "2021-06-20T12:54:50.436Z"
   },
   {
    "duration": 26,
    "start_time": "2021-06-20T12:54:52.110Z"
   },
   {
    "duration": 10,
    "start_time": "2021-06-20T12:54:57.755Z"
   },
   {
    "duration": 7,
    "start_time": "2021-06-20T12:55:00.699Z"
   },
   {
    "duration": 6,
    "start_time": "2021-06-20T12:55:28.435Z"
   },
   {
    "duration": 14,
    "start_time": "2021-06-20T12:55:34.317Z"
   },
   {
    "duration": 7,
    "start_time": "2021-06-20T12:55:37.312Z"
   },
   {
    "duration": 6,
    "start_time": "2021-06-20T12:55:44.752Z"
   },
   {
    "duration": 1311,
    "start_time": "2021-06-20T13:03:09.957Z"
   },
   {
    "duration": 49,
    "start_time": "2021-06-20T13:03:14.308Z"
   },
   {
    "duration": 34,
    "start_time": "2021-06-20T13:03:17.236Z"
   },
   {
    "duration": 15,
    "start_time": "2021-06-20T13:03:21.422Z"
   },
   {
    "duration": 13,
    "start_time": "2021-06-20T13:03:25.912Z"
   },
   {
    "duration": 4,
    "start_time": "2021-06-20T13:03:28.910Z"
   },
   {
    "duration": 22,
    "start_time": "2021-06-20T13:03:31.622Z"
   },
   {
    "duration": 11,
    "start_time": "2021-06-20T13:03:34.966Z"
   },
   {
    "duration": 7,
    "start_time": "2021-06-20T13:03:37.438Z"
   },
   {
    "duration": 31,
    "start_time": "2021-06-20T13:03:40.799Z"
   },
   {
    "duration": 7,
    "start_time": "2021-06-20T13:03:43.829Z"
   },
   {
    "duration": 7,
    "start_time": "2021-06-20T13:03:45.983Z"
   },
   {
    "duration": 6,
    "start_time": "2021-06-20T13:03:48.723Z"
   },
   {
    "duration": 12,
    "start_time": "2021-06-20T13:03:51.442Z"
   },
   {
    "duration": 24,
    "start_time": "2021-06-20T13:03:54.490Z"
   },
   {
    "duration": 7,
    "start_time": "2021-06-20T13:03:59.006Z"
   },
   {
    "duration": 7,
    "start_time": "2021-06-20T13:04:04.398Z"
   },
   {
    "duration": 24,
    "start_time": "2021-06-20T13:04:08.313Z"
   },
   {
    "duration": 377,
    "start_time": "2021-06-20T13:04:10.131Z"
   },
   {
    "duration": 16,
    "start_time": "2021-06-20T13:04:15.210Z"
   },
   {
    "duration": 530,
    "start_time": "2021-06-20T13:04:19.087Z"
   },
   {
    "duration": 497,
    "start_time": "2021-06-20T13:04:24.147Z"
   },
   {
    "duration": 89,
    "start_time": "2021-06-20T13:04:33.389Z"
   },
   {
    "duration": 23,
    "start_time": "2021-06-20T13:04:38.504Z"
   },
   {
    "duration": 1080,
    "start_time": "2021-06-20T13:04:46.608Z"
   },
   {
    "duration": 21,
    "start_time": "2021-06-20T13:04:55.309Z"
   },
   {
    "duration": 1032,
    "start_time": "2021-06-20T13:05:00.962Z"
   },
   {
    "duration": 9,
    "start_time": "2021-06-20T13:05:58.557Z"
   },
   {
    "duration": 46,
    "start_time": "2021-06-20T13:06:01.926Z"
   },
   {
    "duration": 23,
    "start_time": "2021-06-20T13:06:07.873Z"
   },
   {
    "duration": 940,
    "start_time": "2021-06-20T13:06:15.768Z"
   },
   {
    "duration": 34,
    "start_time": "2021-06-20T13:07:09.469Z"
   },
   {
    "duration": 646,
    "start_time": "2021-06-20T13:07:17.208Z"
   },
   {
    "duration": 798,
    "start_time": "2021-06-20T13:07:25.530Z"
   },
   {
    "duration": 603,
    "start_time": "2021-06-20T13:07:37.083Z"
   },
   {
    "duration": 536,
    "start_time": "2021-06-20T13:07:41.264Z"
   },
   {
    "duration": 537,
    "start_time": "2021-06-20T13:07:45.724Z"
   },
   {
    "duration": 531,
    "start_time": "2021-06-20T13:07:55.594Z"
   },
   {
    "duration": 28,
    "start_time": "2021-06-20T13:08:04.759Z"
   },
   {
    "duration": 28,
    "start_time": "2021-06-20T13:08:06.643Z"
   },
   {
    "duration": 26,
    "start_time": "2021-06-20T13:08:08.279Z"
   },
   {
    "duration": 25,
    "start_time": "2021-06-20T13:08:09.642Z"
   },
   {
    "duration": 1144,
    "start_time": "2021-06-20T13:08:11.240Z"
   },
   {
    "duration": 26,
    "start_time": "2021-06-20T13:08:24.084Z"
   },
   {
    "duration": 24,
    "start_time": "2021-06-20T13:08:25.716Z"
   },
   {
    "duration": 25,
    "start_time": "2021-06-20T13:08:27.516Z"
   },
   {
    "duration": 26,
    "start_time": "2021-06-20T13:08:28.673Z"
   },
   {
    "duration": 1160,
    "start_time": "2021-06-20T13:08:38.631Z"
   },
   {
    "duration": 23,
    "start_time": "2021-06-20T13:08:57.288Z"
   },
   {
    "duration": 25,
    "start_time": "2021-06-20T13:08:57.684Z"
   },
   {
    "duration": 24,
    "start_time": "2021-06-20T13:08:58.435Z"
   },
   {
    "duration": 26,
    "start_time": "2021-06-20T13:09:13.070Z"
   },
   {
    "duration": 11,
    "start_time": "2021-06-20T13:09:54.879Z"
   },
   {
    "duration": 8,
    "start_time": "2021-06-20T13:09:59.562Z"
   },
   {
    "duration": 6,
    "start_time": "2021-06-20T13:10:04.406Z"
   },
   {
    "duration": 12,
    "start_time": "2021-06-20T13:10:14.702Z"
   },
   {
    "duration": 8,
    "start_time": "2021-06-20T13:10:17.676Z"
   },
   {
    "duration": 6,
    "start_time": "2021-06-20T13:10:24.326Z"
   },
   {
    "duration": 1352,
    "start_time": "2021-06-20T18:19:59.968Z"
   },
   {
    "duration": 47,
    "start_time": "2021-06-20T18:20:01.323Z"
   },
   {
    "duration": 26,
    "start_time": "2021-06-20T18:20:01.373Z"
   },
   {
    "duration": 29,
    "start_time": "2021-06-20T18:20:01.402Z"
   },
   {
    "duration": 61,
    "start_time": "2021-06-20T18:20:01.434Z"
   },
   {
    "duration": 22,
    "start_time": "2021-06-20T18:20:01.497Z"
   },
   {
    "duration": 37,
    "start_time": "2021-06-20T18:20:01.522Z"
   },
   {
    "duration": 25,
    "start_time": "2021-06-20T18:20:01.563Z"
   },
   {
    "duration": 29,
    "start_time": "2021-06-20T18:20:01.591Z"
   },
   {
    "duration": 49,
    "start_time": "2021-06-20T18:20:01.623Z"
   },
   {
    "duration": 8,
    "start_time": "2021-06-20T18:20:01.675Z"
   },
   {
    "duration": 36,
    "start_time": "2021-06-20T18:20:01.685Z"
   },
   {
    "duration": 13,
    "start_time": "2021-06-20T18:20:01.723Z"
   },
   {
    "duration": 33,
    "start_time": "2021-06-20T18:20:01.738Z"
   },
   {
    "duration": 46,
    "start_time": "2021-06-20T18:20:01.774Z"
   },
   {
    "duration": 6,
    "start_time": "2021-06-20T18:20:01.823Z"
   },
   {
    "duration": 18,
    "start_time": "2021-06-20T18:20:01.831Z"
   },
   {
    "duration": 39,
    "start_time": "2021-06-20T18:20:01.851Z"
   },
   {
    "duration": 393,
    "start_time": "2021-06-20T18:20:01.892Z"
   },
   {
    "duration": 13,
    "start_time": "2021-06-20T18:20:02.287Z"
   },
   {
    "duration": 502,
    "start_time": "2021-06-20T18:20:02.302Z"
   },
   {
    "duration": 495,
    "start_time": "2021-06-20T18:20:02.806Z"
   },
   {
    "duration": 86,
    "start_time": "2021-06-20T18:20:03.306Z"
   },
   {
    "duration": 20,
    "start_time": "2021-06-20T18:20:03.396Z"
   },
   {
    "duration": 1019,
    "start_time": "2021-06-20T18:20:03.418Z"
   },
   {
    "duration": 19,
    "start_time": "2021-06-20T18:20:04.440Z"
   },
   {
    "duration": 45,
    "start_time": "2021-06-20T18:20:04.462Z"
   },
   {
    "duration": 20,
    "start_time": "2021-06-20T18:20:04.509Z"
   },
   {
    "duration": 921,
    "start_time": "2021-06-20T18:20:04.556Z"
   },
   {
    "duration": 32,
    "start_time": "2021-06-20T18:20:05.479Z"
   },
   {
    "duration": 611,
    "start_time": "2021-06-20T18:20:05.514Z"
   },
   {
    "duration": 773,
    "start_time": "2021-06-20T18:20:06.128Z"
   },
   {
    "duration": 521,
    "start_time": "2021-06-20T18:20:06.905Z"
   },
   {
    "duration": 469,
    "start_time": "2021-06-20T18:20:07.430Z"
   },
   {
    "duration": 511,
    "start_time": "2021-06-20T18:20:07.901Z"
   },
   {
    "duration": 499,
    "start_time": "2021-06-20T18:20:08.414Z"
   },
   {
    "duration": 23,
    "start_time": "2021-06-20T18:20:08.916Z"
   },
   {
    "duration": 24,
    "start_time": "2021-06-20T18:20:08.955Z"
   },
   {
    "duration": 24,
    "start_time": "2021-06-20T18:20:08.981Z"
   },
   {
    "duration": 56,
    "start_time": "2021-06-20T18:20:09.007Z"
   },
   {
    "duration": 1050,
    "start_time": "2021-06-20T18:20:09.065Z"
   },
   {
    "duration": 38,
    "start_time": "2021-06-20T18:20:10.117Z"
   },
   {
    "duration": 25,
    "start_time": "2021-06-20T18:20:10.157Z"
   },
   {
    "duration": 23,
    "start_time": "2021-06-20T18:20:10.185Z"
   },
   {
    "duration": 61,
    "start_time": "2021-06-20T18:20:10.210Z"
   },
   {
    "duration": 1045,
    "start_time": "2021-06-20T18:20:10.273Z"
   },
   {
    "duration": 38,
    "start_time": "2021-06-20T18:20:11.320Z"
   },
   {
    "duration": 23,
    "start_time": "2021-06-20T18:20:11.360Z"
   },
   {
    "duration": 23,
    "start_time": "2021-06-20T18:20:11.385Z"
   },
   {
    "duration": 54,
    "start_time": "2021-06-20T18:20:11.410Z"
   },
   {
    "duration": 11,
    "start_time": "2021-06-20T18:20:11.466Z"
   },
   {
    "duration": 20,
    "start_time": "2021-06-20T18:20:11.480Z"
   },
   {
    "duration": 16,
    "start_time": "2021-06-20T18:20:11.502Z"
   },
   {
    "duration": 18,
    "start_time": "2021-06-20T18:20:11.520Z"
   },
   {
    "duration": 20,
    "start_time": "2021-06-20T18:20:11.541Z"
   },
   {
    "duration": 16,
    "start_time": "2021-06-20T18:20:11.564Z"
   },
   {
    "duration": 94,
    "start_time": "2021-11-01T21:11:46.985Z"
   },
   {
    "duration": 1387,
    "start_time": "2021-11-01T21:14:26.191Z"
   },
   {
    "duration": 48,
    "start_time": "2021-11-01T21:14:27.580Z"
   },
   {
    "duration": 23,
    "start_time": "2021-11-01T21:14:27.631Z"
   },
   {
    "duration": 15,
    "start_time": "2021-11-01T21:14:27.657Z"
   },
   {
    "duration": 13,
    "start_time": "2021-11-01T21:14:27.674Z"
   },
   {
    "duration": 4,
    "start_time": "2021-11-01T21:14:27.722Z"
   },
   {
    "duration": 21,
    "start_time": "2021-11-01T21:14:27.729Z"
   },
   {
    "duration": 12,
    "start_time": "2021-11-01T21:14:27.753Z"
   },
   {
    "duration": 6,
    "start_time": "2021-11-01T21:14:27.771Z"
   },
   {
    "duration": 69,
    "start_time": "2021-11-01T21:14:27.780Z"
   },
   {
    "duration": 7,
    "start_time": "2021-11-01T21:14:27.851Z"
   },
   {
    "duration": 7,
    "start_time": "2021-11-01T21:14:27.860Z"
   },
   {
    "duration": 5,
    "start_time": "2021-11-01T21:14:27.870Z"
   },
   {
    "duration": 51,
    "start_time": "2021-11-01T21:14:27.877Z"
   },
   {
    "duration": 23,
    "start_time": "2021-11-01T21:14:27.930Z"
   },
   {
    "duration": 6,
    "start_time": "2021-11-01T21:14:27.955Z"
   },
   {
    "duration": 7,
    "start_time": "2021-11-01T21:14:27.964Z"
   },
   {
    "duration": 7,
    "start_time": "2021-11-01T21:14:27.973Z"
   },
   {
    "duration": 372,
    "start_time": "2021-11-01T21:14:28.022Z"
   },
   {
    "duration": 13,
    "start_time": "2021-11-01T21:14:28.396Z"
   },
   {
    "duration": 489,
    "start_time": "2021-11-01T21:14:28.422Z"
   },
   {
    "duration": 98,
    "start_time": "2021-11-01T21:14:28.914Z"
   },
   {
    "duration": -952,
    "start_time": "2021-11-01T21:14:29.968Z"
   },
   {
    "duration": -984,
    "start_time": "2021-11-01T21:14:30.002Z"
   },
   {
    "duration": -1020,
    "start_time": "2021-11-01T21:14:30.039Z"
   },
   {
    "duration": -1087,
    "start_time": "2021-11-01T21:14:30.108Z"
   },
   {
    "duration": -1125,
    "start_time": "2021-11-01T21:14:30.147Z"
   },
   {
    "duration": -1195,
    "start_time": "2021-11-01T21:14:30.218Z"
   },
   {
    "duration": -1231,
    "start_time": "2021-11-01T21:14:30.256Z"
   },
   {
    "duration": -1293,
    "start_time": "2021-11-01T21:14:30.319Z"
   },
   {
    "duration": -1329,
    "start_time": "2021-11-01T21:14:30.356Z"
   },
   {
    "duration": -1397,
    "start_time": "2021-11-01T21:14:30.426Z"
   },
   {
    "duration": -1431,
    "start_time": "2021-11-01T21:14:30.461Z"
   },
   {
    "duration": -1459,
    "start_time": "2021-11-01T21:14:30.490Z"
   },
   {
    "duration": -1487,
    "start_time": "2021-11-01T21:14:30.520Z"
   },
   {
    "duration": -1517,
    "start_time": "2021-11-01T21:14:30.551Z"
   },
   {
    "duration": -1531,
    "start_time": "2021-11-01T21:14:30.566Z"
   },
   {
    "duration": -1548,
    "start_time": "2021-11-01T21:14:30.585Z"
   },
   {
    "duration": -1564,
    "start_time": "2021-11-01T21:14:30.602Z"
   },
   {
    "duration": -1580,
    "start_time": "2021-11-01T21:14:30.619Z"
   },
   {
    "duration": -1585,
    "start_time": "2021-11-01T21:14:30.625Z"
   },
   {
    "duration": -1590,
    "start_time": "2021-11-01T21:14:30.632Z"
   },
   {
    "duration": -1595,
    "start_time": "2021-11-01T21:14:30.638Z"
   },
   {
    "duration": -1599,
    "start_time": "2021-11-01T21:14:30.643Z"
   },
   {
    "duration": -1634,
    "start_time": "2021-11-01T21:14:30.680Z"
   },
   {
    "duration": -1638,
    "start_time": "2021-11-01T21:14:30.685Z"
   },
   {
    "duration": -1643,
    "start_time": "2021-11-01T21:14:30.691Z"
   },
   {
    "duration": -1649,
    "start_time": "2021-11-01T21:14:30.699Z"
   },
   {
    "duration": -1653,
    "start_time": "2021-11-01T21:14:30.704Z"
   },
   {
    "duration": -1657,
    "start_time": "2021-11-01T21:14:30.710Z"
   },
   {
    "duration": -1674,
    "start_time": "2021-11-01T21:14:30.728Z"
   },
   {
    "duration": -1682,
    "start_time": "2021-11-01T21:14:30.737Z"
   },
   {
    "duration": -1684,
    "start_time": "2021-11-01T21:14:30.741Z"
   },
   {
    "duration": -1690,
    "start_time": "2021-11-01T21:14:30.748Z"
   },
   {
    "duration": -1693,
    "start_time": "2021-11-01T21:14:30.753Z"
   },
   {
    "duration": -1698,
    "start_time": "2021-11-01T21:14:30.759Z"
   },
   {
    "duration": 105,
    "start_time": "2021-11-01T21:14:57.453Z"
   },
   {
    "duration": 423,
    "start_time": "2021-11-01T21:15:09.189Z"
   },
   {
    "duration": 344,
    "start_time": "2021-11-01T21:16:34.227Z"
   },
   {
    "duration": 468,
    "start_time": "2021-11-01T21:19:18.354Z"
   },
   {
    "duration": 1341,
    "start_time": "2021-11-01T21:19:45.344Z"
   },
   {
    "duration": 49,
    "start_time": "2021-11-01T21:19:46.687Z"
   },
   {
    "duration": 23,
    "start_time": "2021-11-01T21:19:46.739Z"
   },
   {
    "duration": 20,
    "start_time": "2021-11-01T21:19:46.765Z"
   },
   {
    "duration": 35,
    "start_time": "2021-11-01T21:19:46.787Z"
   },
   {
    "duration": 11,
    "start_time": "2021-11-01T21:19:46.824Z"
   },
   {
    "duration": 29,
    "start_time": "2021-11-01T21:19:46.837Z"
   },
   {
    "duration": 13,
    "start_time": "2021-11-01T21:19:46.869Z"
   },
   {
    "duration": 7,
    "start_time": "2021-11-01T21:19:46.886Z"
   },
   {
    "duration": 53,
    "start_time": "2021-11-01T21:19:46.897Z"
   },
   {
    "duration": 6,
    "start_time": "2021-11-01T21:19:46.953Z"
   },
   {
    "duration": 9,
    "start_time": "2021-11-01T21:19:46.961Z"
   },
   {
    "duration": 6,
    "start_time": "2021-11-01T21:19:46.973Z"
   },
   {
    "duration": 41,
    "start_time": "2021-11-01T21:19:46.981Z"
   },
   {
    "duration": 23,
    "start_time": "2021-11-01T21:19:47.025Z"
   },
   {
    "duration": 6,
    "start_time": "2021-11-01T21:19:47.050Z"
   },
   {
    "duration": 8,
    "start_time": "2021-11-01T21:19:47.059Z"
   },
   {
    "duration": 15,
    "start_time": "2021-11-01T21:19:47.069Z"
   },
   {
    "duration": 414,
    "start_time": "2021-11-01T21:19:47.087Z"
   },
   {
    "duration": 24,
    "start_time": "2021-11-01T21:19:47.503Z"
   },
   {
    "duration": 520,
    "start_time": "2021-11-01T21:19:47.530Z"
   },
   {
    "duration": 493,
    "start_time": "2021-11-01T21:19:48.052Z"
   },
   {
    "duration": 98,
    "start_time": "2021-11-01T21:19:48.548Z"
   },
   {
    "duration": 23,
    "start_time": "2021-11-01T21:19:48.648Z"
   },
   {
    "duration": 1026,
    "start_time": "2021-11-01T21:19:48.674Z"
   },
   {
    "duration": 22,
    "start_time": "2021-11-01T21:19:49.703Z"
   },
   {
    "duration": 46,
    "start_time": "2021-11-01T21:19:49.733Z"
   },
   {
    "duration": 44,
    "start_time": "2021-11-01T21:19:49.783Z"
   },
   {
    "duration": 910,
    "start_time": "2021-11-01T21:19:49.830Z"
   },
   {
    "duration": 32,
    "start_time": "2021-11-01T21:19:50.743Z"
   },
   {
    "duration": 628,
    "start_time": "2021-11-01T21:19:50.778Z"
   },
   {
    "duration": 779,
    "start_time": "2021-11-01T21:19:51.409Z"
   },
   {
    "duration": 587,
    "start_time": "2021-11-01T21:19:52.190Z"
   },
   {
    "duration": 513,
    "start_time": "2021-11-01T21:19:52.779Z"
   },
   {
    "duration": 512,
    "start_time": "2021-11-01T21:19:53.295Z"
   },
   {
    "duration": 525,
    "start_time": "2021-11-01T21:19:53.811Z"
   },
   {
    "duration": 27,
    "start_time": "2021-11-01T21:19:54.339Z"
   },
   {
    "duration": 55,
    "start_time": "2021-11-01T21:19:54.369Z"
   },
   {
    "duration": 27,
    "start_time": "2021-11-01T21:19:54.427Z"
   },
   {
    "duration": 25,
    "start_time": "2021-11-01T21:19:54.457Z"
   },
   {
    "duration": 1098,
    "start_time": "2021-11-01T21:19:54.484Z"
   },
   {
    "duration": 39,
    "start_time": "2021-11-01T21:19:55.585Z"
   },
   {
    "duration": 25,
    "start_time": "2021-11-01T21:19:55.626Z"
   },
   {
    "duration": 23,
    "start_time": "2021-11-01T21:19:55.653Z"
   },
   {
    "duration": 54,
    "start_time": "2021-11-01T21:19:55.678Z"
   },
   {
    "duration": 1075,
    "start_time": "2021-11-01T21:19:55.735Z"
   },
   {
    "duration": 29,
    "start_time": "2021-11-01T21:19:56.812Z"
   },
   {
    "duration": 24,
    "start_time": "2021-11-01T21:19:56.843Z"
   },
   {
    "duration": 57,
    "start_time": "2021-11-01T21:19:56.869Z"
   },
   {
    "duration": 22,
    "start_time": "2021-11-01T21:19:56.929Z"
   },
   {
    "duration": 10,
    "start_time": "2021-11-01T21:19:56.954Z"
   },
   {
    "duration": 13,
    "start_time": "2021-11-01T21:19:56.967Z"
   },
   {
    "duration": 40,
    "start_time": "2021-11-01T21:19:56.983Z"
   },
   {
    "duration": 10,
    "start_time": "2021-11-01T21:19:57.026Z"
   },
   {
    "duration": 7,
    "start_time": "2021-11-01T21:19:57.039Z"
   },
   {
    "duration": 9,
    "start_time": "2021-11-01T21:19:57.048Z"
   },
   {
    "duration": 1305,
    "start_time": "2021-11-01T21:24:12.973Z"
   },
   {
    "duration": 49,
    "start_time": "2021-11-01T21:24:14.280Z"
   },
   {
    "duration": 22,
    "start_time": "2021-11-01T21:24:14.331Z"
   },
   {
    "duration": 16,
    "start_time": "2021-11-01T21:24:14.357Z"
   },
   {
    "duration": 13,
    "start_time": "2021-11-01T21:24:14.377Z"
   },
   {
    "duration": 6,
    "start_time": "2021-11-01T21:24:14.423Z"
   },
   {
    "duration": 22,
    "start_time": "2021-11-01T21:24:14.432Z"
   },
   {
    "duration": 14,
    "start_time": "2021-11-01T21:24:14.460Z"
   },
   {
    "duration": 7,
    "start_time": "2021-11-01T21:24:14.477Z"
   },
   {
    "duration": 35,
    "start_time": "2021-11-01T21:24:14.524Z"
   },
   {
    "duration": 7,
    "start_time": "2021-11-01T21:24:14.562Z"
   },
   {
    "duration": 10,
    "start_time": "2021-11-01T21:24:14.572Z"
   },
   {
    "duration": 6,
    "start_time": "2021-11-01T21:24:14.623Z"
   },
   {
    "duration": 7,
    "start_time": "2021-11-01T21:24:14.632Z"
   },
   {
    "duration": 23,
    "start_time": "2021-11-01T21:24:14.642Z"
   },
   {
    "duration": 7,
    "start_time": "2021-11-01T21:24:14.668Z"
   },
   {
    "duration": 49,
    "start_time": "2021-11-01T21:24:14.677Z"
   },
   {
    "duration": 6,
    "start_time": "2021-11-01T21:24:14.729Z"
   },
   {
    "duration": 384,
    "start_time": "2021-11-01T21:24:14.738Z"
   },
   {
    "duration": 13,
    "start_time": "2021-11-01T21:24:15.124Z"
   },
   {
    "duration": 527,
    "start_time": "2021-11-01T21:24:15.140Z"
   },
   {
    "duration": 477,
    "start_time": "2021-11-01T21:24:15.669Z"
   },
   {
    "duration": 100,
    "start_time": "2021-11-01T21:24:16.151Z"
   },
   {
    "duration": 22,
    "start_time": "2021-11-01T21:24:16.254Z"
   },
   {
    "duration": 1076,
    "start_time": "2021-11-01T21:24:16.279Z"
   },
   {
    "duration": 9,
    "start_time": "2021-11-01T21:24:17.358Z"
   },
   {
    "duration": 54,
    "start_time": "2021-11-01T21:24:17.369Z"
   },
   {
    "duration": 22,
    "start_time": "2021-11-01T21:24:17.425Z"
   },
   {
    "duration": 1084,
    "start_time": "2021-11-01T21:24:17.449Z"
   },
   {
    "duration": 32,
    "start_time": "2021-11-01T21:24:18.536Z"
   },
   {
    "duration": 680,
    "start_time": "2021-11-01T21:24:18.570Z"
   },
   {
    "duration": 773,
    "start_time": "2021-11-01T21:24:19.252Z"
   },
   {
    "duration": 569,
    "start_time": "2021-11-01T21:24:20.028Z"
   },
   {
    "duration": 482,
    "start_time": "2021-11-01T21:24:20.600Z"
   },
   {
    "duration": 516,
    "start_time": "2021-11-01T21:24:21.085Z"
   },
   {
    "duration": 526,
    "start_time": "2021-11-01T21:24:21.603Z"
   },
   {
    "duration": 26,
    "start_time": "2021-11-01T21:24:22.132Z"
   },
   {
    "duration": 33,
    "start_time": "2021-11-01T21:24:22.160Z"
   },
   {
    "duration": 49,
    "start_time": "2021-11-01T21:24:22.196Z"
   },
   {
    "duration": 31,
    "start_time": "2021-11-01T21:24:22.247Z"
   },
   {
    "duration": 1078,
    "start_time": "2021-11-01T21:24:22.281Z"
   },
   {
    "duration": 24,
    "start_time": "2021-11-01T21:24:23.362Z"
   },
   {
    "duration": 45,
    "start_time": "2021-11-01T21:24:23.389Z"
   },
   {
    "duration": 22,
    "start_time": "2021-11-01T21:24:23.437Z"
   },
   {
    "duration": 23,
    "start_time": "2021-11-01T21:24:23.462Z"
   },
   {
    "duration": 1098,
    "start_time": "2021-11-01T21:24:23.488Z"
   },
   {
    "duration": 36,
    "start_time": "2021-11-01T21:24:24.588Z"
   },
   {
    "duration": 23,
    "start_time": "2021-11-01T21:24:24.627Z"
   },
   {
    "duration": 26,
    "start_time": "2021-11-01T21:24:24.652Z"
   },
   {
    "duration": 58,
    "start_time": "2021-11-01T21:24:24.681Z"
   },
   {
    "duration": 10,
    "start_time": "2021-11-01T21:24:24.742Z"
   },
   {
    "duration": 11,
    "start_time": "2021-11-01T21:24:24.754Z"
   },
   {
    "duration": 11,
    "start_time": "2021-11-01T21:24:24.767Z"
   },
   {
    "duration": 45,
    "start_time": "2021-11-01T21:24:24.781Z"
   },
   {
    "duration": 7,
    "start_time": "2021-11-01T21:24:24.828Z"
   },
   {
    "duration": 8,
    "start_time": "2021-11-01T21:24:24.838Z"
   },
   {
    "duration": 895,
    "start_time": "2021-11-01T21:39:08.435Z"
   },
   {
    "duration": 533,
    "start_time": "2021-11-01T21:39:50.101Z"
   },
   {
    "duration": 619,
    "start_time": "2021-11-01T21:40:02.075Z"
   },
   {
    "duration": 1505,
    "start_time": "2021-11-01T21:41:22.588Z"
   },
   {
    "duration": 65,
    "start_time": "2021-11-01T21:41:24.095Z"
   },
   {
    "duration": 34,
    "start_time": "2021-11-01T21:41:24.164Z"
   },
   {
    "duration": 32,
    "start_time": "2021-11-01T21:41:24.202Z"
   },
   {
    "duration": 26,
    "start_time": "2021-11-01T21:41:24.238Z"
   },
   {
    "duration": 19,
    "start_time": "2021-11-01T21:41:24.268Z"
   },
   {
    "duration": 44,
    "start_time": "2021-11-01T21:41:24.290Z"
   },
   {
    "duration": 26,
    "start_time": "2021-11-01T21:41:24.336Z"
   },
   {
    "duration": 15,
    "start_time": "2021-11-01T21:41:24.367Z"
   },
   {
    "duration": 45,
    "start_time": "2021-11-01T21:41:24.385Z"
   },
   {
    "duration": 6,
    "start_time": "2021-11-01T21:41:24.433Z"
   },
   {
    "duration": 22,
    "start_time": "2021-11-01T21:41:24.442Z"
   },
   {
    "duration": 15,
    "start_time": "2021-11-01T21:41:24.466Z"
   },
   {
    "duration": 19,
    "start_time": "2021-11-01T21:41:24.484Z"
   },
   {
    "duration": 35,
    "start_time": "2021-11-01T21:41:24.505Z"
   },
   {
    "duration": 13,
    "start_time": "2021-11-01T21:41:24.543Z"
   },
   {
    "duration": 14,
    "start_time": "2021-11-01T21:41:24.559Z"
   },
   {
    "duration": 6,
    "start_time": "2021-11-01T21:41:24.576Z"
   },
   {
    "duration": 428,
    "start_time": "2021-11-01T21:41:24.584Z"
   },
   {
    "duration": 18,
    "start_time": "2021-11-01T21:41:25.015Z"
   },
   {
    "duration": 556,
    "start_time": "2021-11-01T21:41:25.036Z"
   },
   {
    "duration": 523,
    "start_time": "2021-11-01T21:41:25.595Z"
   },
   {
    "duration": 111,
    "start_time": "2021-11-01T21:41:26.123Z"
   },
   {
    "duration": 24,
    "start_time": "2021-11-01T21:41:26.238Z"
   },
   {
    "duration": 1103,
    "start_time": "2021-11-01T21:41:26.265Z"
   },
   {
    "duration": 10,
    "start_time": "2021-11-01T21:41:27.371Z"
   },
   {
    "duration": 75,
    "start_time": "2021-11-01T21:41:27.389Z"
   },
   {
    "duration": 23,
    "start_time": "2021-11-01T21:41:27.469Z"
   },
   {
    "duration": 999,
    "start_time": "2021-11-01T21:41:27.496Z"
   },
   {
    "duration": 51,
    "start_time": "2021-11-01T21:41:28.499Z"
   },
   {
    "duration": 631,
    "start_time": "2021-11-01T21:41:28.552Z"
   },
   {
    "duration": 803,
    "start_time": "2021-11-01T21:41:29.185Z"
   },
   {
    "duration": 613,
    "start_time": "2021-11-01T21:41:29.991Z"
   },
   {
    "duration": 506,
    "start_time": "2021-11-01T21:41:30.606Z"
   },
   {
    "duration": 551,
    "start_time": "2021-11-01T21:41:31.121Z"
   },
   {
    "duration": 554,
    "start_time": "2021-11-01T21:41:31.674Z"
   },
   {
    "duration": 29,
    "start_time": "2021-11-01T21:41:32.231Z"
   },
   {
    "duration": 61,
    "start_time": "2021-11-01T21:41:32.263Z"
   },
   {
    "duration": 28,
    "start_time": "2021-11-01T21:41:32.328Z"
   },
   {
    "duration": 27,
    "start_time": "2021-11-01T21:41:32.359Z"
   },
   {
    "duration": 1336,
    "start_time": "2021-11-01T21:41:32.389Z"
   },
   {
    "duration": 24,
    "start_time": "2021-11-01T21:41:33.728Z"
   },
   {
    "duration": 30,
    "start_time": "2021-11-01T21:41:33.755Z"
   },
   {
    "duration": 48,
    "start_time": "2021-11-01T21:41:33.787Z"
   },
   {
    "duration": 25,
    "start_time": "2021-11-01T21:41:33.837Z"
   },
   {
    "duration": 1159,
    "start_time": "2021-11-01T21:41:33.864Z"
   },
   {
    "duration": 25,
    "start_time": "2021-11-01T21:41:35.026Z"
   },
   {
    "duration": 24,
    "start_time": "2021-11-01T21:41:35.053Z"
   },
   {
    "duration": 69,
    "start_time": "2021-11-01T21:41:35.079Z"
   },
   {
    "duration": 26,
    "start_time": "2021-11-01T21:41:35.151Z"
   },
   {
    "duration": 11,
    "start_time": "2021-11-01T21:41:35.180Z"
   },
   {
    "duration": 7,
    "start_time": "2021-11-01T21:41:35.222Z"
   },
   {
    "duration": 9,
    "start_time": "2021-11-01T21:41:35.231Z"
   },
   {
    "duration": 14,
    "start_time": "2021-11-01T21:41:35.243Z"
   },
   {
    "duration": 7,
    "start_time": "2021-11-01T21:41:35.260Z"
   },
   {
    "duration": 56,
    "start_time": "2021-11-01T21:41:35.270Z"
   }
  ],
  "kernelspec": {
   "display_name": "Python 3",
   "language": "python",
   "name": "python3"
  },
  "language_info": {
   "codemirror_mode": {
    "name": "ipython",
    "version": 3
   },
   "file_extension": ".py",
   "mimetype": "text/x-python",
   "name": "python",
   "nbconvert_exporter": "python",
   "pygments_lexer": "ipython3",
   "version": "3.7.8"
  },
  "toc": {
   "base_numbering": 1,
   "nav_menu": {},
   "number_sections": true,
   "sideBar": true,
   "skip_h1_title": true,
   "title_cell": "Table of Contents",
   "title_sidebar": "Contents",
   "toc_cell": false,
   "toc_position": {},
   "toc_section_display": true,
   "toc_window_display": false
  }
 },
 "nbformat": 4,
 "nbformat_minor": 2
}
