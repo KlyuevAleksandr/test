{
 "cells": [
  {
   "cell_type": "markdown",
   "metadata": {},
   "source": [
    "<h1>Определение перспективного тарифа для телеком компании<span \n",
    "class=\"tocSkip\"></span></h1>"
   ]
  },
  {
   "cell_type": "markdown",
   "metadata": {},
   "source": [
    "# План проекта: #\n",
    "\n",
    "1. [Изучение данных из файлов](#cell1)\n",
    "2. [Предобработка данных. Поиск и исправление ошибок](#cell2)\n",
    "3. [Анализ данных](#cell3)\n",
    "4. [Проверка гипотез](#cell4)\n",
    "5. [Вывод](#cell5)"
   ]
  },
  {
   "cell_type": "markdown",
   "metadata": {},
   "source": [
    "## Изучение данных из файлов\n",
    "<a id='cell1'></a>"
   ]
  },
  {
   "cell_type": "markdown",
   "metadata": {},
   "source": [
    "Импортируем различные библиотеки:"
   ]
  },
  {
   "cell_type": "code",
   "execution_count": 1,
   "metadata": {},
   "outputs": [],
   "source": [
    "import pandas as pd\n",
    "import numpy as np\n",
    "import matplotlib.pyplot as plt\n",
    "import math\n",
    "from scipy import stats as st\n",
    "import copy"
   ]
  },
  {
   "cell_type": "markdown",
   "metadata": {},
   "source": [
    "Прочитаем все приложенные файлы и сохраним их в переменные:"
   ]
  },
  {
   "cell_type": "code",
   "execution_count": 2,
   "metadata": {},
   "outputs": [],
   "source": [
    "calls = pd.read_csv('/datasets/calls.csv')\n",
    "internet = pd.read_csv('/datasets/internet.csv')\n",
    "messages = pd.read_csv('/datasets/messages.csv')\n",
    "tariffs = pd.read_csv('/datasets/tariffs.csv')\n",
    "users = pd.read_csv('/datasets/users.csv')"
   ]
  },
  {
   "cell_type": "markdown",
   "metadata": {},
   "source": [
    "## Предобработка данных. Поиск и исправление ошибок\n",
    "<a id='cell2'></a>"
   ]
  },
  {
   "cell_type": "markdown",
   "metadata": {},
   "source": [
    "Выведем первые строки таблиц, выведем общую информацию о таблицах, проверим данные на наличие пропусков, исправим типы данных в столбцах, добавим необходимые столбцы в таблицы, исправим некорректные данные в таблицах:"
   ]
  },
  {
   "cell_type": "markdown",
   "metadata": {},
   "source": [
    "**Таблица calls**"
   ]
  },
  {
   "cell_type": "code",
   "execution_count": 3,
   "metadata": {},
   "outputs": [
    {
     "data": {
      "text/html": [
       "<div>\n",
       "<style scoped>\n",
       "    .dataframe tbody tr th:only-of-type {\n",
       "        vertical-align: middle;\n",
       "    }\n",
       "\n",
       "    .dataframe tbody tr th {\n",
       "        vertical-align: top;\n",
       "    }\n",
       "\n",
       "    .dataframe thead th {\n",
       "        text-align: right;\n",
       "    }\n",
       "</style>\n",
       "<table border=\"1\" class=\"dataframe\">\n",
       "  <thead>\n",
       "    <tr style=\"text-align: right;\">\n",
       "      <th></th>\n",
       "      <th>id</th>\n",
       "      <th>call_date</th>\n",
       "      <th>duration</th>\n",
       "      <th>user_id</th>\n",
       "    </tr>\n",
       "  </thead>\n",
       "  <tbody>\n",
       "    <tr>\n",
       "      <td>0</td>\n",
       "      <td>1000_0</td>\n",
       "      <td>2018-07-25</td>\n",
       "      <td>0.00</td>\n",
       "      <td>1000</td>\n",
       "    </tr>\n",
       "    <tr>\n",
       "      <td>1</td>\n",
       "      <td>1000_1</td>\n",
       "      <td>2018-08-17</td>\n",
       "      <td>0.00</td>\n",
       "      <td>1000</td>\n",
       "    </tr>\n",
       "    <tr>\n",
       "      <td>2</td>\n",
       "      <td>1000_2</td>\n",
       "      <td>2018-06-11</td>\n",
       "      <td>2.85</td>\n",
       "      <td>1000</td>\n",
       "    </tr>\n",
       "    <tr>\n",
       "      <td>3</td>\n",
       "      <td>1000_3</td>\n",
       "      <td>2018-09-21</td>\n",
       "      <td>13.80</td>\n",
       "      <td>1000</td>\n",
       "    </tr>\n",
       "    <tr>\n",
       "      <td>4</td>\n",
       "      <td>1000_4</td>\n",
       "      <td>2018-12-15</td>\n",
       "      <td>5.18</td>\n",
       "      <td>1000</td>\n",
       "    </tr>\n",
       "  </tbody>\n",
       "</table>\n",
       "</div>"
      ],
      "text/plain": [
       "       id   call_date  duration  user_id\n",
       "0  1000_0  2018-07-25      0.00     1000\n",
       "1  1000_1  2018-08-17      0.00     1000\n",
       "2  1000_2  2018-06-11      2.85     1000\n",
       "3  1000_3  2018-09-21     13.80     1000\n",
       "4  1000_4  2018-12-15      5.18     1000"
      ]
     },
     "execution_count": 3,
     "metadata": {},
     "output_type": "execute_result"
    }
   ],
   "source": [
    "# Получение первых строк таблицы:\n",
    "calls.head()"
   ]
  },
  {
   "cell_type": "code",
   "execution_count": 4,
   "metadata": {},
   "outputs": [
    {
     "name": "stdout",
     "output_type": "stream",
     "text": [
      "<class 'pandas.core.frame.DataFrame'>\n",
      "RangeIndex: 202607 entries, 0 to 202606\n",
      "Data columns (total 4 columns):\n",
      "id           202607 non-null object\n",
      "call_date    202607 non-null object\n",
      "duration     202607 non-null float64\n",
      "user_id      202607 non-null int64\n",
      "dtypes: float64(1), int64(1), object(2)\n",
      "memory usage: 6.2+ MB\n"
     ]
    }
   ],
   "source": [
    "# Общая информация о данных таблицы:\n",
    "calls.info()"
   ]
  },
  {
   "cell_type": "code",
   "execution_count": 5,
   "metadata": {},
   "outputs": [],
   "source": [
    "# Исправим типы данных в столбце 'call_date' на тип - 'date':\n",
    "calls['call_date'] = pd.to_datetime(calls['call_date'])"
   ]
  },
  {
   "cell_type": "code",
   "execution_count": 6,
   "metadata": {},
   "outputs": [],
   "source": [
    "#создадим столбец с названием месяца\n",
    "calls['month'] = pd.DatetimeIndex(calls['call_date']).month\n",
    "\n",
    "def month_name(row):\n",
    "    month = row['month']\n",
    "    if month == 1:\n",
    "        return 'январь'\n",
    "    elif month == 2:\n",
    "        return 'февраль'\n",
    "    elif month == 3:\n",
    "        return 'март'\n",
    "    elif month == 4:\n",
    "        return 'апрель'\n",
    "    elif month == 5:\n",
    "        return 'май'\n",
    "    elif month == 6:\n",
    "        return 'июнь'\n",
    "    elif month == 7:\n",
    "        return 'июль'\n",
    "    elif month == 8:\n",
    "        return 'август'\n",
    "    elif month == 9:\n",
    "        return 'сентябрь'\n",
    "    elif month == 10:\n",
    "        return 'октябрь'\n",
    "    elif month == 11:\n",
    "        return 'ноябрь'\n",
    "    elif month == 12:\n",
    "        return 'декабрь'\n",
    "\n",
    "calls['m_name'] = calls.apply(month_name, axis = 1)"
   ]
  },
  {
   "cell_type": "markdown",
   "metadata": {},
   "source": [
    "**Таблица internet**"
   ]
  },
  {
   "cell_type": "code",
   "execution_count": 7,
   "metadata": {},
   "outputs": [
    {
     "data": {
      "text/html": [
       "<div>\n",
       "<style scoped>\n",
       "    .dataframe tbody tr th:only-of-type {\n",
       "        vertical-align: middle;\n",
       "    }\n",
       "\n",
       "    .dataframe tbody tr th {\n",
       "        vertical-align: top;\n",
       "    }\n",
       "\n",
       "    .dataframe thead th {\n",
       "        text-align: right;\n",
       "    }\n",
       "</style>\n",
       "<table border=\"1\" class=\"dataframe\">\n",
       "  <thead>\n",
       "    <tr style=\"text-align: right;\">\n",
       "      <th></th>\n",
       "      <th>Unnamed: 0</th>\n",
       "      <th>id</th>\n",
       "      <th>mb_used</th>\n",
       "      <th>session_date</th>\n",
       "      <th>user_id</th>\n",
       "    </tr>\n",
       "  </thead>\n",
       "  <tbody>\n",
       "    <tr>\n",
       "      <td>0</td>\n",
       "      <td>0</td>\n",
       "      <td>1000_0</td>\n",
       "      <td>112.95</td>\n",
       "      <td>2018-11-25</td>\n",
       "      <td>1000</td>\n",
       "    </tr>\n",
       "    <tr>\n",
       "      <td>1</td>\n",
       "      <td>1</td>\n",
       "      <td>1000_1</td>\n",
       "      <td>1052.81</td>\n",
       "      <td>2018-09-07</td>\n",
       "      <td>1000</td>\n",
       "    </tr>\n",
       "    <tr>\n",
       "      <td>2</td>\n",
       "      <td>2</td>\n",
       "      <td>1000_2</td>\n",
       "      <td>1197.26</td>\n",
       "      <td>2018-06-25</td>\n",
       "      <td>1000</td>\n",
       "    </tr>\n",
       "    <tr>\n",
       "      <td>3</td>\n",
       "      <td>3</td>\n",
       "      <td>1000_3</td>\n",
       "      <td>550.27</td>\n",
       "      <td>2018-08-22</td>\n",
       "      <td>1000</td>\n",
       "    </tr>\n",
       "    <tr>\n",
       "      <td>4</td>\n",
       "      <td>4</td>\n",
       "      <td>1000_4</td>\n",
       "      <td>302.56</td>\n",
       "      <td>2018-09-24</td>\n",
       "      <td>1000</td>\n",
       "    </tr>\n",
       "  </tbody>\n",
       "</table>\n",
       "</div>"
      ],
      "text/plain": [
       "   Unnamed: 0      id  mb_used session_date  user_id\n",
       "0           0  1000_0   112.95   2018-11-25     1000\n",
       "1           1  1000_1  1052.81   2018-09-07     1000\n",
       "2           2  1000_2  1197.26   2018-06-25     1000\n",
       "3           3  1000_3   550.27   2018-08-22     1000\n",
       "4           4  1000_4   302.56   2018-09-24     1000"
      ]
     },
     "execution_count": 7,
     "metadata": {},
     "output_type": "execute_result"
    }
   ],
   "source": [
    "# Получение первых строк таблицы:\n",
    "internet.head()"
   ]
  },
  {
   "cell_type": "code",
   "execution_count": 8,
   "metadata": {},
   "outputs": [
    {
     "name": "stdout",
     "output_type": "stream",
     "text": [
      "<class 'pandas.core.frame.DataFrame'>\n",
      "RangeIndex: 149396 entries, 0 to 149395\n",
      "Data columns (total 5 columns):\n",
      "Unnamed: 0      149396 non-null int64\n",
      "id              149396 non-null object\n",
      "mb_used         149396 non-null float64\n",
      "session_date    149396 non-null object\n",
      "user_id         149396 non-null int64\n",
      "dtypes: float64(1), int64(2), object(2)\n",
      "memory usage: 5.7+ MB\n"
     ]
    }
   ],
   "source": [
    "# Общая информация о данных таблицы:\n",
    "internet.info()"
   ]
  },
  {
   "cell_type": "code",
   "execution_count": 9,
   "metadata": {},
   "outputs": [],
   "source": [
    "# Исправим типы данных в столбце 'session_date' на тип - 'date':\n",
    "internet['session_date'] = pd.to_datetime(internet['session_date'])"
   ]
  },
  {
   "cell_type": "code",
   "execution_count": 10,
   "metadata": {},
   "outputs": [],
   "source": [
    "# Создадим столбец с названием месяца\n",
    "internet['month'] = pd.DatetimeIndex(internet['session_date']).month\n",
    "\n",
    "def month_name(row):\n",
    "    month = row['month']\n",
    "    if month == 1:\n",
    "        return 'январь'\n",
    "    elif month == 2:\n",
    "        return 'февраль'\n",
    "    elif month == 3:\n",
    "        return 'март'\n",
    "    elif month == 4:\n",
    "        return 'апрель'\n",
    "    elif month == 5:\n",
    "        return 'май'\n",
    "    elif month == 6:\n",
    "        return 'июнь'\n",
    "    elif month == 7:\n",
    "        return 'июль'\n",
    "    elif month == 8:\n",
    "        return 'август'\n",
    "    elif month == 9:\n",
    "        return 'сентябрь'\n",
    "    elif month == 10:\n",
    "        return 'октябрь'\n",
    "    elif month == 11:\n",
    "        return 'ноябрь'\n",
    "    elif month == 12:\n",
    "        return 'декабрь'\n",
    "\n",
    "internet['m_name'] = internet.apply(month_name, axis = 1)"
   ]
  },
  {
   "cell_type": "markdown",
   "metadata": {},
   "source": [
    "**Таблица messages**"
   ]
  },
  {
   "cell_type": "code",
   "execution_count": 11,
   "metadata": {},
   "outputs": [
    {
     "data": {
      "text/html": [
       "<div>\n",
       "<style scoped>\n",
       "    .dataframe tbody tr th:only-of-type {\n",
       "        vertical-align: middle;\n",
       "    }\n",
       "\n",
       "    .dataframe tbody tr th {\n",
       "        vertical-align: top;\n",
       "    }\n",
       "\n",
       "    .dataframe thead th {\n",
       "        text-align: right;\n",
       "    }\n",
       "</style>\n",
       "<table border=\"1\" class=\"dataframe\">\n",
       "  <thead>\n",
       "    <tr style=\"text-align: right;\">\n",
       "      <th></th>\n",
       "      <th>id</th>\n",
       "      <th>message_date</th>\n",
       "      <th>user_id</th>\n",
       "    </tr>\n",
       "  </thead>\n",
       "  <tbody>\n",
       "    <tr>\n",
       "      <td>0</td>\n",
       "      <td>1000_0</td>\n",
       "      <td>2018-06-27</td>\n",
       "      <td>1000</td>\n",
       "    </tr>\n",
       "    <tr>\n",
       "      <td>1</td>\n",
       "      <td>1000_1</td>\n",
       "      <td>2018-10-08</td>\n",
       "      <td>1000</td>\n",
       "    </tr>\n",
       "    <tr>\n",
       "      <td>2</td>\n",
       "      <td>1000_2</td>\n",
       "      <td>2018-08-04</td>\n",
       "      <td>1000</td>\n",
       "    </tr>\n",
       "    <tr>\n",
       "      <td>3</td>\n",
       "      <td>1000_3</td>\n",
       "      <td>2018-06-16</td>\n",
       "      <td>1000</td>\n",
       "    </tr>\n",
       "    <tr>\n",
       "      <td>4</td>\n",
       "      <td>1000_4</td>\n",
       "      <td>2018-12-05</td>\n",
       "      <td>1000</td>\n",
       "    </tr>\n",
       "  </tbody>\n",
       "</table>\n",
       "</div>"
      ],
      "text/plain": [
       "       id message_date  user_id\n",
       "0  1000_0   2018-06-27     1000\n",
       "1  1000_1   2018-10-08     1000\n",
       "2  1000_2   2018-08-04     1000\n",
       "3  1000_3   2018-06-16     1000\n",
       "4  1000_4   2018-12-05     1000"
      ]
     },
     "execution_count": 11,
     "metadata": {},
     "output_type": "execute_result"
    }
   ],
   "source": [
    "# Получение первых строк таблицы.\n",
    "messages.head()"
   ]
  },
  {
   "cell_type": "code",
   "execution_count": 12,
   "metadata": {},
   "outputs": [
    {
     "name": "stdout",
     "output_type": "stream",
     "text": [
      "<class 'pandas.core.frame.DataFrame'>\n",
      "RangeIndex: 123036 entries, 0 to 123035\n",
      "Data columns (total 3 columns):\n",
      "id              123036 non-null object\n",
      "message_date    123036 non-null object\n",
      "user_id         123036 non-null int64\n",
      "dtypes: int64(1), object(2)\n",
      "memory usage: 2.8+ MB\n"
     ]
    }
   ],
   "source": [
    "# Общая информация о данных таблицы.\n",
    "messages.info()"
   ]
  },
  {
   "cell_type": "code",
   "execution_count": 13,
   "metadata": {},
   "outputs": [],
   "source": [
    "# Исправим типы данных в столбце 'message_date' на тип - 'date':\n",
    "messages['message_date'] = pd.to_datetime(messages['message_date'])"
   ]
  },
  {
   "cell_type": "code",
   "execution_count": 14,
   "metadata": {},
   "outputs": [],
   "source": [
    "#создадим столбец с названием месяца\n",
    "messages['month'] = pd.DatetimeIndex(messages['message_date']).month\n",
    "\n",
    "def month_name(row):\n",
    "    month = row['month']\n",
    "    if month == 1:\n",
    "        return 'январь'\n",
    "    elif month == 2:\n",
    "        return 'февраль'\n",
    "    elif month == 3:\n",
    "        return 'март'\n",
    "    elif month == 4:\n",
    "        return 'апрель'\n",
    "    elif month == 5:\n",
    "        return 'май'\n",
    "    elif month == 6:\n",
    "        return 'июнь'\n",
    "    elif month == 7:\n",
    "        return 'июль'\n",
    "    elif month == 8:\n",
    "        return 'август'\n",
    "    elif month == 9:\n",
    "        return 'сентябрь'\n",
    "    elif month == 10:\n",
    "        return 'октябрь'\n",
    "    elif month == 11:\n",
    "        return 'ноябрь'\n",
    "    elif month == 12:\n",
    "        return 'декабрь'\n",
    "\n",
    "messages['m_name'] = messages.apply(month_name, axis = 1)"
   ]
  },
  {
   "cell_type": "markdown",
   "metadata": {},
   "source": [
    "**Таблица users**"
   ]
  },
  {
   "cell_type": "code",
   "execution_count": 15,
   "metadata": {},
   "outputs": [
    {
     "data": {
      "text/html": [
       "<div>\n",
       "<style scoped>\n",
       "    .dataframe tbody tr th:only-of-type {\n",
       "        vertical-align: middle;\n",
       "    }\n",
       "\n",
       "    .dataframe tbody tr th {\n",
       "        vertical-align: top;\n",
       "    }\n",
       "\n",
       "    .dataframe thead th {\n",
       "        text-align: right;\n",
       "    }\n",
       "</style>\n",
       "<table border=\"1\" class=\"dataframe\">\n",
       "  <thead>\n",
       "    <tr style=\"text-align: right;\">\n",
       "      <th></th>\n",
       "      <th>user_id</th>\n",
       "      <th>age</th>\n",
       "      <th>churn_date</th>\n",
       "      <th>city</th>\n",
       "      <th>first_name</th>\n",
       "      <th>last_name</th>\n",
       "      <th>reg_date</th>\n",
       "      <th>tariff</th>\n",
       "    </tr>\n",
       "  </thead>\n",
       "  <tbody>\n",
       "    <tr>\n",
       "      <td>0</td>\n",
       "      <td>1000</td>\n",
       "      <td>52</td>\n",
       "      <td>NaN</td>\n",
       "      <td>Краснодар</td>\n",
       "      <td>Рафаил</td>\n",
       "      <td>Верещагин</td>\n",
       "      <td>2018-05-25</td>\n",
       "      <td>ultra</td>\n",
       "    </tr>\n",
       "    <tr>\n",
       "      <td>1</td>\n",
       "      <td>1001</td>\n",
       "      <td>41</td>\n",
       "      <td>NaN</td>\n",
       "      <td>Москва</td>\n",
       "      <td>Иван</td>\n",
       "      <td>Ежов</td>\n",
       "      <td>2018-11-01</td>\n",
       "      <td>smart</td>\n",
       "    </tr>\n",
       "    <tr>\n",
       "      <td>2</td>\n",
       "      <td>1002</td>\n",
       "      <td>59</td>\n",
       "      <td>NaN</td>\n",
       "      <td>Стерлитамак</td>\n",
       "      <td>Евгений</td>\n",
       "      <td>Абрамович</td>\n",
       "      <td>2018-06-17</td>\n",
       "      <td>smart</td>\n",
       "    </tr>\n",
       "    <tr>\n",
       "      <td>3</td>\n",
       "      <td>1003</td>\n",
       "      <td>23</td>\n",
       "      <td>NaN</td>\n",
       "      <td>Москва</td>\n",
       "      <td>Белла</td>\n",
       "      <td>Белякова</td>\n",
       "      <td>2018-08-17</td>\n",
       "      <td>ultra</td>\n",
       "    </tr>\n",
       "    <tr>\n",
       "      <td>4</td>\n",
       "      <td>1004</td>\n",
       "      <td>68</td>\n",
       "      <td>NaN</td>\n",
       "      <td>Новокузнецк</td>\n",
       "      <td>Татьяна</td>\n",
       "      <td>Авдеенко</td>\n",
       "      <td>2018-05-14</td>\n",
       "      <td>ultra</td>\n",
       "    </tr>\n",
       "  </tbody>\n",
       "</table>\n",
       "</div>"
      ],
      "text/plain": [
       "   user_id  age churn_date         city first_name  last_name    reg_date  \\\n",
       "0     1000   52        NaN    Краснодар     Рафаил  Верещагин  2018-05-25   \n",
       "1     1001   41        NaN       Москва       Иван       Ежов  2018-11-01   \n",
       "2     1002   59        NaN  Стерлитамак    Евгений  Абрамович  2018-06-17   \n",
       "3     1003   23        NaN       Москва      Белла   Белякова  2018-08-17   \n",
       "4     1004   68        NaN  Новокузнецк    Татьяна   Авдеенко  2018-05-14   \n",
       "\n",
       "  tariff  \n",
       "0  ultra  \n",
       "1  smart  \n",
       "2  smart  \n",
       "3  ultra  \n",
       "4  ultra  "
      ]
     },
     "execution_count": 15,
     "metadata": {},
     "output_type": "execute_result"
    }
   ],
   "source": [
    "# Получение первых строк таблицы.\n",
    "users.head()"
   ]
  },
  {
   "cell_type": "code",
   "execution_count": 16,
   "metadata": {},
   "outputs": [
    {
     "name": "stdout",
     "output_type": "stream",
     "text": [
      "<class 'pandas.core.frame.DataFrame'>\n",
      "RangeIndex: 500 entries, 0 to 499\n",
      "Data columns (total 8 columns):\n",
      "user_id       500 non-null int64\n",
      "age           500 non-null int64\n",
      "churn_date    38 non-null object\n",
      "city          500 non-null object\n",
      "first_name    500 non-null object\n",
      "last_name     500 non-null object\n",
      "reg_date      500 non-null object\n",
      "tariff        500 non-null object\n",
      "dtypes: int64(2), object(6)\n",
      "memory usage: 31.4+ KB\n"
     ]
    }
   ],
   "source": [
    "# Общая информация о данных таблицы.\n",
    "users.info()"
   ]
  },
  {
   "cell_type": "code",
   "execution_count": 17,
   "metadata": {},
   "outputs": [],
   "source": [
    "# Исправим типы данных в столбце 'reg_date' на тип - 'date':\n",
    "users['reg_date'] = pd.to_datetime(users['reg_date'])"
   ]
  },
  {
   "cell_type": "code",
   "execution_count": 18,
   "metadata": {},
   "outputs": [],
   "source": [
    "# Исправим пропуски в столбце 'churn_date', если есть пропуск, значит клиент попрежнему пользуется услугами:\n",
    "users['churn_date'].fillna('2021-07-01', inplace=True) "
   ]
  },
  {
   "cell_type": "code",
   "execution_count": 19,
   "metadata": {},
   "outputs": [],
   "source": [
    "# Исправим типы данных в столбце 'churn_date' на тип - 'date':\n",
    "users['churn_date'] = pd.to_datetime(users['churn_date'])"
   ]
  },
  {
   "cell_type": "markdown",
   "metadata": {},
   "source": [
    "**Таблица tariffs**"
   ]
  },
  {
   "cell_type": "code",
   "execution_count": 20,
   "metadata": {},
   "outputs": [
    {
     "data": {
      "text/html": [
       "<div>\n",
       "<style scoped>\n",
       "    .dataframe tbody tr th:only-of-type {\n",
       "        vertical-align: middle;\n",
       "    }\n",
       "\n",
       "    .dataframe tbody tr th {\n",
       "        vertical-align: top;\n",
       "    }\n",
       "\n",
       "    .dataframe thead th {\n",
       "        text-align: right;\n",
       "    }\n",
       "</style>\n",
       "<table border=\"1\" class=\"dataframe\">\n",
       "  <thead>\n",
       "    <tr style=\"text-align: right;\">\n",
       "      <th></th>\n",
       "      <th>messages_included</th>\n",
       "      <th>mb_per_month_included</th>\n",
       "      <th>minutes_included</th>\n",
       "      <th>rub_monthly_fee</th>\n",
       "      <th>rub_per_gb</th>\n",
       "      <th>rub_per_message</th>\n",
       "      <th>rub_per_minute</th>\n",
       "      <th>tariff_name</th>\n",
       "    </tr>\n",
       "  </thead>\n",
       "  <tbody>\n",
       "    <tr>\n",
       "      <td>0</td>\n",
       "      <td>50</td>\n",
       "      <td>15360</td>\n",
       "      <td>500</td>\n",
       "      <td>550</td>\n",
       "      <td>200</td>\n",
       "      <td>3</td>\n",
       "      <td>3</td>\n",
       "      <td>smart</td>\n",
       "    </tr>\n",
       "    <tr>\n",
       "      <td>1</td>\n",
       "      <td>1000</td>\n",
       "      <td>30720</td>\n",
       "      <td>3000</td>\n",
       "      <td>1950</td>\n",
       "      <td>150</td>\n",
       "      <td>1</td>\n",
       "      <td>1</td>\n",
       "      <td>ultra</td>\n",
       "    </tr>\n",
       "  </tbody>\n",
       "</table>\n",
       "</div>"
      ],
      "text/plain": [
       "   messages_included  mb_per_month_included  minutes_included  \\\n",
       "0                 50                  15360               500   \n",
       "1               1000                  30720              3000   \n",
       "\n",
       "   rub_monthly_fee  rub_per_gb  rub_per_message  rub_per_minute tariff_name  \n",
       "0              550         200                3               3       smart  \n",
       "1             1950         150                1               1       ultra  "
      ]
     },
     "execution_count": 20,
     "metadata": {},
     "output_type": "execute_result"
    }
   ],
   "source": [
    "# Получение первых строк таблицы.\n",
    "tariffs"
   ]
  },
  {
   "cell_type": "markdown",
   "metadata": {},
   "source": [
    "**Рассмотрим полученную информацию подробнее.**\n",
    "\n",
    "**Таблица users (информация о пользователях):**\n",
    "\n",
    "- user_id — уникальный идентификатор пользователя\n",
    "- first_name — имя пользователя\n",
    "- last_name — фамилия пользователя\n",
    "- age — возраст пользователя (годы)\n",
    "- reg_date — дата подключения тарифа (день, месяц, год)\n",
    "- churn_date — дата прекращения пользования тарифом (если значение пропущено, то тариф ещё действовал на момент выгрузки данных)\n",
    "- city — город проживания пользователя\n",
    "- tariff — название тарифного плана\n",
    "\n",
    "**Таблица calls (информация о звонках):**\n",
    "\n",
    "- id — уникальный номер звонка\n",
    "- call_date — дата звонка\n",
    "- duration — длительность звонка в минутах\n",
    "- user_id — идентификатор пользователя, сделавшего звонок\n",
    "\n",
    "**Таблица messages (информация о сообщениях):**\n",
    "\n",
    "- id — уникальный номер сообщения\n",
    "- message_date — дата сообщения\n",
    "- user_id — идентификатор пользователя, отправившего сообщение\n",
    "\n",
    "**Таблица internet (информация об интернет-сессиях):**\n",
    "\n",
    "- id — уникальный номер сессии\n",
    "- mb_used — объём потраченного за сессию интернет-трафика (в мегабайтах)\n",
    "- session_date — дата интернет-сессии\n",
    "- user_id — идентификатор пользователя\n",
    "\n",
    "**Таблица tariffs (информация о тарифах):**\n",
    "\n",
    "- tariff_name — название тарифа\n",
    "- rub_monthly_fee — ежемесячная абонентская плата в рублях\n",
    "- minutes_included — количество минут разговора в месяц, включённых в абонентскую плату\n",
    "- messages_included — количество сообщений в месяц, включённых в абонентскую плату\n",
    "- mb_per_month_included — объём интернет-трафика, включённого в абонентскую плату (в мегабайтах)\n",
    "- rub_per_minute — стоимость минуты разговора сверх тарифного пакета (например, если в тарифе 100 минут разговора в месяц, то со 101 минуты будет взиматься плата)\n",
    "- rub_per_message — стоимость отправки сообщения сверх тарифного пакета\n",
    "- rub_per_gb — стоимость дополнительного гигабайта интернет-трафика сверх тарифного пакета (1 гигабайт = 1024 мегабайта)"
   ]
  },
  {
   "cell_type": "markdown",
   "metadata": {},
   "source": [
    "В таблице calls('duration') присутствуют нулевые значения. Проверим, сколько их."
   ]
  },
  {
   "cell_type": "code",
   "execution_count": 21,
   "metadata": {},
   "outputs": [
    {
     "data": {
      "text/html": [
       "<div>\n",
       "<style scoped>\n",
       "    .dataframe tbody tr th:only-of-type {\n",
       "        vertical-align: middle;\n",
       "    }\n",
       "\n",
       "    .dataframe tbody tr th {\n",
       "        vertical-align: top;\n",
       "    }\n",
       "\n",
       "    .dataframe thead th {\n",
       "        text-align: right;\n",
       "    }\n",
       "</style>\n",
       "<table border=\"1\" class=\"dataframe\">\n",
       "  <thead>\n",
       "    <tr style=\"text-align: right;\">\n",
       "      <th></th>\n",
       "      <th>id</th>\n",
       "      <th>call_date</th>\n",
       "      <th>duration</th>\n",
       "      <th>user_id</th>\n",
       "      <th>month</th>\n",
       "      <th>m_name</th>\n",
       "    </tr>\n",
       "  </thead>\n",
       "  <tbody>\n",
       "    <tr>\n",
       "      <td>0</td>\n",
       "      <td>1000_0</td>\n",
       "      <td>2018-07-25</td>\n",
       "      <td>0.0</td>\n",
       "      <td>1000</td>\n",
       "      <td>7</td>\n",
       "      <td>июль</td>\n",
       "    </tr>\n",
       "    <tr>\n",
       "      <td>1</td>\n",
       "      <td>1000_1</td>\n",
       "      <td>2018-08-17</td>\n",
       "      <td>0.0</td>\n",
       "      <td>1000</td>\n",
       "      <td>8</td>\n",
       "      <td>август</td>\n",
       "    </tr>\n",
       "    <tr>\n",
       "      <td>5</td>\n",
       "      <td>1000_5</td>\n",
       "      <td>2018-11-02</td>\n",
       "      <td>0.0</td>\n",
       "      <td>1000</td>\n",
       "      <td>11</td>\n",
       "      <td>ноябрь</td>\n",
       "    </tr>\n",
       "    <tr>\n",
       "      <td>6</td>\n",
       "      <td>1000_6</td>\n",
       "      <td>2018-10-18</td>\n",
       "      <td>0.0</td>\n",
       "      <td>1000</td>\n",
       "      <td>10</td>\n",
       "      <td>октябрь</td>\n",
       "    </tr>\n",
       "    <tr>\n",
       "      <td>9</td>\n",
       "      <td>1000_9</td>\n",
       "      <td>2018-08-15</td>\n",
       "      <td>0.0</td>\n",
       "      <td>1000</td>\n",
       "      <td>8</td>\n",
       "      <td>август</td>\n",
       "    </tr>\n",
       "    <tr>\n",
       "      <td>...</td>\n",
       "      <td>...</td>\n",
       "      <td>...</td>\n",
       "      <td>...</td>\n",
       "      <td>...</td>\n",
       "      <td>...</td>\n",
       "      <td>...</td>\n",
       "    </tr>\n",
       "    <tr>\n",
       "      <td>202590</td>\n",
       "      <td>1499_203</td>\n",
       "      <td>2018-12-03</td>\n",
       "      <td>0.0</td>\n",
       "      <td>1499</td>\n",
       "      <td>12</td>\n",
       "      <td>декабрь</td>\n",
       "    </tr>\n",
       "    <tr>\n",
       "      <td>202592</td>\n",
       "      <td>1499_205</td>\n",
       "      <td>2018-10-13</td>\n",
       "      <td>0.0</td>\n",
       "      <td>1499</td>\n",
       "      <td>10</td>\n",
       "      <td>октябрь</td>\n",
       "    </tr>\n",
       "    <tr>\n",
       "      <td>202593</td>\n",
       "      <td>1499_206</td>\n",
       "      <td>2018-12-26</td>\n",
       "      <td>0.0</td>\n",
       "      <td>1499</td>\n",
       "      <td>12</td>\n",
       "      <td>декабрь</td>\n",
       "    </tr>\n",
       "    <tr>\n",
       "      <td>202594</td>\n",
       "      <td>1499_207</td>\n",
       "      <td>2018-10-28</td>\n",
       "      <td>0.0</td>\n",
       "      <td>1499</td>\n",
       "      <td>10</td>\n",
       "      <td>октябрь</td>\n",
       "    </tr>\n",
       "    <tr>\n",
       "      <td>202596</td>\n",
       "      <td>1499_209</td>\n",
       "      <td>2018-12-16</td>\n",
       "      <td>0.0</td>\n",
       "      <td>1499</td>\n",
       "      <td>12</td>\n",
       "      <td>декабрь</td>\n",
       "    </tr>\n",
       "  </tbody>\n",
       "</table>\n",
       "<p>39613 rows × 6 columns</p>\n",
       "</div>"
      ],
      "text/plain": [
       "              id  call_date  duration  user_id  month   m_name\n",
       "0         1000_0 2018-07-25       0.0     1000      7     июль\n",
       "1         1000_1 2018-08-17       0.0     1000      8   август\n",
       "5         1000_5 2018-11-02       0.0     1000     11   ноябрь\n",
       "6         1000_6 2018-10-18       0.0     1000     10  октябрь\n",
       "9         1000_9 2018-08-15       0.0     1000      8   август\n",
       "...          ...        ...       ...      ...    ...      ...\n",
       "202590  1499_203 2018-12-03       0.0     1499     12  декабрь\n",
       "202592  1499_205 2018-10-13       0.0     1499     10  октябрь\n",
       "202593  1499_206 2018-12-26       0.0     1499     12  декабрь\n",
       "202594  1499_207 2018-10-28       0.0     1499     10  октябрь\n",
       "202596  1499_209 2018-12-16       0.0     1499     12  декабрь\n",
       "\n",
       "[39613 rows x 6 columns]"
      ]
     },
     "execution_count": 21,
     "metadata": {},
     "output_type": "execute_result"
    }
   ],
   "source": [
    "calls.query('duration == 0')"
   ]
  },
  {
   "cell_type": "markdown",
   "metadata": {},
   "source": [
    "Получаем почти 40 тысяч значений, где длительность звонка равна 0. Звонок нулевой длины, это по факту состоявшееся соединение, которое тут же прервалось. Платят за него, как за одну минуту разговора, поэтому округлим все значения наверх."
   ]
  },
  {
   "cell_type": "code",
   "execution_count": 22,
   "metadata": {},
   "outputs": [],
   "source": [
    "def call_ceil(value):\n",
    "    return math.ceil(value)\n",
    "calls['duration'] = calls['duration'].apply(call_ceil) "
   ]
  },
  {
   "cell_type": "code",
   "execution_count": 23,
   "metadata": {},
   "outputs": [],
   "source": [
    "# Исправим типы данных в столбце 'duration' на тип - 'int':\n",
    "calls['duration'] = calls['duration'].astype('int')"
   ]
  },
  {
   "cell_type": "code",
   "execution_count": 24,
   "metadata": {},
   "outputs": [],
   "source": [
    "# Исправим данные в таблице calls('duration') с 0 на 1:\n",
    "calls.loc[calls['duration'] == 0, 'duration'] = 1"
   ]
  },
  {
   "cell_type": "markdown",
   "metadata": {},
   "source": [
    "В таблице df_internet('mb_used') присутствуют нулевые значения. Проверим, сколько их."
   ]
  },
  {
   "cell_type": "code",
   "execution_count": 25,
   "metadata": {},
   "outputs": [
    {
     "data": {
      "text/html": [
       "<div>\n",
       "<style scoped>\n",
       "    .dataframe tbody tr th:only-of-type {\n",
       "        vertical-align: middle;\n",
       "    }\n",
       "\n",
       "    .dataframe tbody tr th {\n",
       "        vertical-align: top;\n",
       "    }\n",
       "\n",
       "    .dataframe thead th {\n",
       "        text-align: right;\n",
       "    }\n",
       "</style>\n",
       "<table border=\"1\" class=\"dataframe\">\n",
       "  <thead>\n",
       "    <tr style=\"text-align: right;\">\n",
       "      <th></th>\n",
       "      <th>Unnamed: 0</th>\n",
       "      <th>id</th>\n",
       "      <th>mb_used</th>\n",
       "      <th>session_date</th>\n",
       "      <th>user_id</th>\n",
       "      <th>month</th>\n",
       "      <th>m_name</th>\n",
       "    </tr>\n",
       "  </thead>\n",
       "  <tbody>\n",
       "    <tr>\n",
       "      <td>11</td>\n",
       "      <td>11</td>\n",
       "      <td>1000_11</td>\n",
       "      <td>0.0</td>\n",
       "      <td>2018-08-28</td>\n",
       "      <td>1000</td>\n",
       "      <td>8</td>\n",
       "      <td>август</td>\n",
       "    </tr>\n",
       "    <tr>\n",
       "      <td>38</td>\n",
       "      <td>38</td>\n",
       "      <td>1000_38</td>\n",
       "      <td>0.0</td>\n",
       "      <td>2018-11-27</td>\n",
       "      <td>1000</td>\n",
       "      <td>11</td>\n",
       "      <td>ноябрь</td>\n",
       "    </tr>\n",
       "    <tr>\n",
       "      <td>46</td>\n",
       "      <td>46</td>\n",
       "      <td>1000_46</td>\n",
       "      <td>0.0</td>\n",
       "      <td>2018-06-30</td>\n",
       "      <td>1000</td>\n",
       "      <td>6</td>\n",
       "      <td>июнь</td>\n",
       "    </tr>\n",
       "    <tr>\n",
       "      <td>67</td>\n",
       "      <td>67</td>\n",
       "      <td>1000_67</td>\n",
       "      <td>0.0</td>\n",
       "      <td>2018-06-16</td>\n",
       "      <td>1000</td>\n",
       "      <td>6</td>\n",
       "      <td>июнь</td>\n",
       "    </tr>\n",
       "    <tr>\n",
       "      <td>72</td>\n",
       "      <td>72</td>\n",
       "      <td>1000_72</td>\n",
       "      <td>0.0</td>\n",
       "      <td>2018-06-15</td>\n",
       "      <td>1000</td>\n",
       "      <td>6</td>\n",
       "      <td>июнь</td>\n",
       "    </tr>\n",
       "    <tr>\n",
       "      <td>...</td>\n",
       "      <td>...</td>\n",
       "      <td>...</td>\n",
       "      <td>...</td>\n",
       "      <td>...</td>\n",
       "      <td>...</td>\n",
       "      <td>...</td>\n",
       "      <td>...</td>\n",
       "    </tr>\n",
       "    <tr>\n",
       "      <td>149380</td>\n",
       "      <td>149380</td>\n",
       "      <td>1499_141</td>\n",
       "      <td>0.0</td>\n",
       "      <td>2018-12-11</td>\n",
       "      <td>1499</td>\n",
       "      <td>12</td>\n",
       "      <td>декабрь</td>\n",
       "    </tr>\n",
       "    <tr>\n",
       "      <td>149381</td>\n",
       "      <td>149381</td>\n",
       "      <td>1499_142</td>\n",
       "      <td>0.0</td>\n",
       "      <td>2018-11-01</td>\n",
       "      <td>1499</td>\n",
       "      <td>11</td>\n",
       "      <td>ноябрь</td>\n",
       "    </tr>\n",
       "    <tr>\n",
       "      <td>149383</td>\n",
       "      <td>149383</td>\n",
       "      <td>1499_144</td>\n",
       "      <td>0.0</td>\n",
       "      <td>2018-11-27</td>\n",
       "      <td>1499</td>\n",
       "      <td>11</td>\n",
       "      <td>ноябрь</td>\n",
       "    </tr>\n",
       "    <tr>\n",
       "      <td>149386</td>\n",
       "      <td>149386</td>\n",
       "      <td>1499_147</td>\n",
       "      <td>0.0</td>\n",
       "      <td>2018-10-21</td>\n",
       "      <td>1499</td>\n",
       "      <td>10</td>\n",
       "      <td>октябрь</td>\n",
       "    </tr>\n",
       "    <tr>\n",
       "      <td>149393</td>\n",
       "      <td>149393</td>\n",
       "      <td>1499_154</td>\n",
       "      <td>0.0</td>\n",
       "      <td>2018-10-27</td>\n",
       "      <td>1499</td>\n",
       "      <td>10</td>\n",
       "      <td>октябрь</td>\n",
       "    </tr>\n",
       "  </tbody>\n",
       "</table>\n",
       "<p>19598 rows × 7 columns</p>\n",
       "</div>"
      ],
      "text/plain": [
       "        Unnamed: 0        id  mb_used session_date  user_id  month   m_name\n",
       "11              11   1000_11      0.0   2018-08-28     1000      8   август\n",
       "38              38   1000_38      0.0   2018-11-27     1000     11   ноябрь\n",
       "46              46   1000_46      0.0   2018-06-30     1000      6     июнь\n",
       "67              67   1000_67      0.0   2018-06-16     1000      6     июнь\n",
       "72              72   1000_72      0.0   2018-06-15     1000      6     июнь\n",
       "...            ...       ...      ...          ...      ...    ...      ...\n",
       "149380      149380  1499_141      0.0   2018-12-11     1499     12  декабрь\n",
       "149381      149381  1499_142      0.0   2018-11-01     1499     11   ноябрь\n",
       "149383      149383  1499_144      0.0   2018-11-27     1499     11   ноябрь\n",
       "149386      149386  1499_147      0.0   2018-10-21     1499     10  октябрь\n",
       "149393      149393  1499_154      0.0   2018-10-27     1499     10  октябрь\n",
       "\n",
       "[19598 rows x 7 columns]"
      ]
     },
     "execution_count": 25,
     "metadata": {},
     "output_type": "execute_result"
    }
   ],
   "source": [
    "internet.query('mb_used == 0')"
   ]
  },
  {
   "cell_type": "markdown",
   "metadata": {},
   "source": [
    "Получаем почти 20 тысяч значений, где количество интернет-трафика равно 0. Так как факт соединения присутствует, округлим значение до 1 мб."
   ]
  },
  {
   "cell_type": "code",
   "execution_count": 26,
   "metadata": {},
   "outputs": [],
   "source": [
    "# Исправим данные в таблице internet('mb_used') с 0 на 1:\n",
    "internet.loc[internet['mb_used'] == 0, 'mb_used'] = 1"
   ]
  },
  {
   "cell_type": "markdown",
   "metadata": {},
   "source": [
    "## Анализ данных\n",
    "<a id='cell3'></a>"
   ]
  },
  {
   "cell_type": "markdown",
   "metadata": {},
   "source": [
    "Сгрупируем данные по звонкам, интернету и сообщениям:"
   ]
  },
  {
   "cell_type": "code",
   "execution_count": 27,
   "metadata": {},
   "outputs": [],
   "source": [
    "calls_group = calls.pivot_table(index=['user_id', 'month'], values='duration', aggfunc=['sum', 'count'])\n",
    "calls_group.reset_index()\n",
    "calls_group.columns = ['calls_duration', 'calls_amount']\n",
    "\n",
    "internet_group = internet.pivot_table(index=['user_id', 'month'], values='mb_used', aggfunc=['sum'])\n",
    "internet_group.columns = ['mb_used']\n",
    "internet_group.reset_index()\n",
    " \n",
    "messages_group = messages.pivot_table(index=['user_id', 'month'], values='id', aggfunc='count')\n",
    "messages_group.reset_index()\n",
    "messages_group.columns=['messages_amount']"
   ]
  },
  {
   "cell_type": "markdown",
   "metadata": {},
   "source": [
    "Объединим данные о звонках, интернете и сообщениях:"
   ]
  },
  {
   "cell_type": "code",
   "execution_count": 28,
   "metadata": {},
   "outputs": [],
   "source": [
    "calls_internet = calls_group.merge(internet_group, on=['user_id', 'month'], how='outer')\n",
    "all_data = calls_internet.merge(messages_group, on=['user_id', 'month'], how='outer')"
   ]
  },
  {
   "cell_type": "markdown",
   "metadata": {},
   "source": [
    "Заполним пустоты значением - ноль:"
   ]
  },
  {
   "cell_type": "code",
   "execution_count": 29,
   "metadata": {},
   "outputs": [
    {
     "data": {
      "text/plain": [
       "calls_duration      40\n",
       "calls_amount        40\n",
       "mb_used             11\n",
       "messages_amount    497\n",
       "dtype: int64"
      ]
     },
     "execution_count": 29,
     "metadata": {},
     "output_type": "execute_result"
    }
   ],
   "source": [
    "all_data.isnull().sum()"
   ]
  },
  {
   "cell_type": "code",
   "execution_count": 30,
   "metadata": {},
   "outputs": [],
   "source": [
    "all_data['calls_duration'].fillna(0, inplace=True)\n",
    "all_data['calls_amount'].fillna(0, inplace=True)\n",
    "all_data['mb_used'].fillna(0, inplace=True)\n",
    "all_data['messages_amount'].fillna(0, inplace=True)"
   ]
  },
  {
   "cell_type": "markdown",
   "metadata": {},
   "source": [
    "Создадим общую таблицу:"
   ]
  },
  {
   "cell_type": "code",
   "execution_count": 31,
   "metadata": {},
   "outputs": [],
   "source": [
    "all_data_pvt = all_data.pivot_table(index=['user_id', 'month'])\n",
    "all_data_pvt = all_data_pvt.reset_index()"
   ]
  },
  {
   "cell_type": "code",
   "execution_count": 32,
   "metadata": {},
   "outputs": [],
   "source": [
    "total_data = all_data_pvt.merge(users, on='user_id', how='right').pivot_table(index=['user_id', 'first_name', 'last_name', 'age', 'city', 'tariff', 'reg_date', 'churn_date', 'month'])\n",
    "total_data = total_data.reset_index()"
   ]
  },
  {
   "cell_type": "code",
   "execution_count": 33,
   "metadata": {},
   "outputs": [],
   "source": [
    "# Округлим кол-во мегабайт\n",
    "total_data['mb_used'] = total_data['mb_used'].apply(np.ceil)"
   ]
  },
  {
   "cell_type": "code",
   "execution_count": 34,
   "metadata": {},
   "outputs": [],
   "source": [
    "# Переведем мб в гб\n",
    "total_data['gb_used'] = (total_data['mb_used'] / 1024)"
   ]
  },
  {
   "cell_type": "code",
   "execution_count": 35,
   "metadata": {},
   "outputs": [],
   "source": [
    "# Округлим кол-во гигабайт\n",
    "total_data['gb_used'] = np.ceil(total_data['gb_used'])"
   ]
  },
  {
   "cell_type": "code",
   "execution_count": 36,
   "metadata": {},
   "outputs": [],
   "source": [
    "# Создадим копию таблицы\n",
    "total_data2 = total_data.copy()"
   ]
  },
  {
   "cell_type": "markdown",
   "metadata": {},
   "source": [
    "Подсчёт стоимости:"
   ]
  },
  {
   "cell_type": "code",
   "execution_count": 37,
   "metadata": {},
   "outputs": [
    {
     "data": {
      "text/html": [
       "<div>\n",
       "<style scoped>\n",
       "    .dataframe tbody tr th:only-of-type {\n",
       "        vertical-align: middle;\n",
       "    }\n",
       "\n",
       "    .dataframe tbody tr th {\n",
       "        vertical-align: top;\n",
       "    }\n",
       "\n",
       "    .dataframe thead th {\n",
       "        text-align: right;\n",
       "    }\n",
       "</style>\n",
       "<table border=\"1\" class=\"dataframe\">\n",
       "  <thead>\n",
       "    <tr style=\"text-align: right;\">\n",
       "      <th></th>\n",
       "      <th>user_id</th>\n",
       "      <th>first_name</th>\n",
       "      <th>last_name</th>\n",
       "      <th>age</th>\n",
       "      <th>city</th>\n",
       "      <th>tariff</th>\n",
       "      <th>reg_date</th>\n",
       "      <th>churn_date</th>\n",
       "      <th>month</th>\n",
       "      <th>calls_amount</th>\n",
       "      <th>calls_duration</th>\n",
       "      <th>mb_used</th>\n",
       "      <th>messages_amount</th>\n",
       "      <th>gb_used</th>\n",
       "      <th>revenue</th>\n",
       "    </tr>\n",
       "  </thead>\n",
       "  <tbody>\n",
       "    <tr>\n",
       "      <td>0</td>\n",
       "      <td>1000</td>\n",
       "      <td>Рафаил</td>\n",
       "      <td>Верещагин</td>\n",
       "      <td>52</td>\n",
       "      <td>Краснодар</td>\n",
       "      <td>ultra</td>\n",
       "      <td>2018-05-25</td>\n",
       "      <td>2021-07-01</td>\n",
       "      <td>5.0</td>\n",
       "      <td>22.0</td>\n",
       "      <td>164.0</td>\n",
       "      <td>2255.0</td>\n",
       "      <td>22.0</td>\n",
       "      <td>3.0</td>\n",
       "      <td>1950.0</td>\n",
       "    </tr>\n",
       "    <tr>\n",
       "      <td>1</td>\n",
       "      <td>1000</td>\n",
       "      <td>Рафаил</td>\n",
       "      <td>Верещагин</td>\n",
       "      <td>52</td>\n",
       "      <td>Краснодар</td>\n",
       "      <td>ultra</td>\n",
       "      <td>2018-05-25</td>\n",
       "      <td>2021-07-01</td>\n",
       "      <td>6.0</td>\n",
       "      <td>43.0</td>\n",
       "      <td>187.0</td>\n",
       "      <td>23239.0</td>\n",
       "      <td>60.0</td>\n",
       "      <td>23.0</td>\n",
       "      <td>1950.0</td>\n",
       "    </tr>\n",
       "    <tr>\n",
       "      <td>2</td>\n",
       "      <td>1000</td>\n",
       "      <td>Рафаил</td>\n",
       "      <td>Верещагин</td>\n",
       "      <td>52</td>\n",
       "      <td>Краснодар</td>\n",
       "      <td>ultra</td>\n",
       "      <td>2018-05-25</td>\n",
       "      <td>2021-07-01</td>\n",
       "      <td>7.0</td>\n",
       "      <td>47.0</td>\n",
       "      <td>346.0</td>\n",
       "      <td>14005.0</td>\n",
       "      <td>75.0</td>\n",
       "      <td>14.0</td>\n",
       "      <td>1950.0</td>\n",
       "    </tr>\n",
       "    <tr>\n",
       "      <td>3</td>\n",
       "      <td>1000</td>\n",
       "      <td>Рафаил</td>\n",
       "      <td>Верещагин</td>\n",
       "      <td>52</td>\n",
       "      <td>Краснодар</td>\n",
       "      <td>ultra</td>\n",
       "      <td>2018-05-25</td>\n",
       "      <td>2021-07-01</td>\n",
       "      <td>8.0</td>\n",
       "      <td>52.0</td>\n",
       "      <td>418.0</td>\n",
       "      <td>14058.0</td>\n",
       "      <td>81.0</td>\n",
       "      <td>14.0</td>\n",
       "      <td>1950.0</td>\n",
       "    </tr>\n",
       "    <tr>\n",
       "      <td>4</td>\n",
       "      <td>1000</td>\n",
       "      <td>Рафаил</td>\n",
       "      <td>Верещагин</td>\n",
       "      <td>52</td>\n",
       "      <td>Краснодар</td>\n",
       "      <td>ultra</td>\n",
       "      <td>2018-05-25</td>\n",
       "      <td>2021-07-01</td>\n",
       "      <td>9.0</td>\n",
       "      <td>58.0</td>\n",
       "      <td>478.0</td>\n",
       "      <td>14571.0</td>\n",
       "      <td>57.0</td>\n",
       "      <td>15.0</td>\n",
       "      <td>1950.0</td>\n",
       "    </tr>\n",
       "  </tbody>\n",
       "</table>\n",
       "</div>"
      ],
      "text/plain": [
       "   user_id first_name  last_name  age       city tariff   reg_date churn_date  \\\n",
       "0     1000     Рафаил  Верещагин   52  Краснодар  ultra 2018-05-25 2021-07-01   \n",
       "1     1000     Рафаил  Верещагин   52  Краснодар  ultra 2018-05-25 2021-07-01   \n",
       "2     1000     Рафаил  Верещагин   52  Краснодар  ultra 2018-05-25 2021-07-01   \n",
       "3     1000     Рафаил  Верещагин   52  Краснодар  ultra 2018-05-25 2021-07-01   \n",
       "4     1000     Рафаил  Верещагин   52  Краснодар  ultra 2018-05-25 2021-07-01   \n",
       "\n",
       "   month  calls_amount  calls_duration  mb_used  messages_amount  gb_used  \\\n",
       "0    5.0          22.0           164.0   2255.0             22.0      3.0   \n",
       "1    6.0          43.0           187.0  23239.0             60.0     23.0   \n",
       "2    7.0          47.0           346.0  14005.0             75.0     14.0   \n",
       "3    8.0          52.0           418.0  14058.0             81.0     14.0   \n",
       "4    9.0          58.0           478.0  14571.0             57.0     15.0   \n",
       "\n",
       "   revenue  \n",
       "0   1950.0  \n",
       "1   1950.0  \n",
       "2   1950.0  \n",
       "3   1950.0  \n",
       "4   1950.0  "
      ]
     },
     "execution_count": 37,
     "metadata": {},
     "output_type": "execute_result"
    }
   ],
   "source": [
    "df_tariffs = tariffs.set_index('tariff_name') # Чтобы получить доступ по имени тарифа.\n",
    "\n",
    "\n",
    "def func(df):\n",
    "    \n",
    "    # Записали абонентскую плату. \n",
    "    revenue = df_tariffs.loc[df.tariff]['rub_monthly_fee']\n",
    "    \n",
    "    revenue += (max(0, (df['calls_duration'] - df_tariffs.loc[df.tariff]['minutes_included']) * df_tariffs.loc[df.tariff]['rub_per_minute'])\n",
    "    + max(0, (df['messages_amount'] - df_tariffs.loc[df.tariff]['messages_included']) * df_tariffs.loc[df.tariff]['rub_per_message'])\n",
    "    + max(0, np.ceil((df['mb_used'] - df_tariffs.loc[df.tariff]['mb_per_month_included'])/1024) * df_tariffs.loc[df.tariff]['rub_per_gb']))\n",
    "    \n",
    "    return revenue\n",
    "    \n",
    "total_data2['revenue'] = total_data2.apply(func, axis=1)  \n",
    "\n",
    "total_data2.head()"
   ]
  },
  {
   "cell_type": "markdown",
   "metadata": {},
   "source": [
    "**Тариф Smart:**"
   ]
  },
  {
   "cell_type": "code",
   "execution_count": 39,
   "metadata": {},
   "outputs": [
    {
     "data": {
      "text/html": [
       "<div>\n",
       "<style scoped>\n",
       "    .dataframe tbody tr th:only-of-type {\n",
       "        vertical-align: middle;\n",
       "    }\n",
       "\n",
       "    .dataframe tbody tr th {\n",
       "        vertical-align: top;\n",
       "    }\n",
       "\n",
       "    .dataframe thead th {\n",
       "        text-align: right;\n",
       "    }\n",
       "</style>\n",
       "<table border=\"1\" class=\"dataframe\">\n",
       "  <thead>\n",
       "    <tr style=\"text-align: right;\">\n",
       "      <th></th>\n",
       "      <th>calls_duration</th>\n",
       "      <th>gb_used</th>\n",
       "      <th>messages_amount</th>\n",
       "      <th>revenue</th>\n",
       "    </tr>\n",
       "  </thead>\n",
       "  <tbody>\n",
       "    <tr>\n",
       "      <td>count</td>\n",
       "      <td>2229.000000</td>\n",
       "      <td>2229.000000</td>\n",
       "      <td>2229.000000</td>\n",
       "      <td>2229.000000</td>\n",
       "    </tr>\n",
       "    <tr>\n",
       "      <td>mean</td>\n",
       "      <td>429.450875</td>\n",
       "      <td>16.340960</td>\n",
       "      <td>33.384029</td>\n",
       "      <td>1308.564379</td>\n",
       "    </tr>\n",
       "    <tr>\n",
       "      <td>std</td>\n",
       "      <td>194.871174</td>\n",
       "      <td>5.748424</td>\n",
       "      <td>28.227876</td>\n",
       "      <td>828.209621</td>\n",
       "    </tr>\n",
       "    <tr>\n",
       "      <td>min</td>\n",
       "      <td>0.000000</td>\n",
       "      <td>0.000000</td>\n",
       "      <td>0.000000</td>\n",
       "      <td>550.000000</td>\n",
       "    </tr>\n",
       "    <tr>\n",
       "      <td>25%</td>\n",
       "      <td>291.000000</td>\n",
       "      <td>13.000000</td>\n",
       "      <td>10.000000</td>\n",
       "      <td>553.000000</td>\n",
       "    </tr>\n",
       "    <tr>\n",
       "      <td>50%</td>\n",
       "      <td>435.000000</td>\n",
       "      <td>17.000000</td>\n",
       "      <td>28.000000</td>\n",
       "      <td>1072.000000</td>\n",
       "    </tr>\n",
       "    <tr>\n",
       "      <td>75%</td>\n",
       "      <td>560.000000</td>\n",
       "      <td>20.000000</td>\n",
       "      <td>51.000000</td>\n",
       "      <td>1750.000000</td>\n",
       "    </tr>\n",
       "    <tr>\n",
       "      <td>max</td>\n",
       "      <td>1471.000000</td>\n",
       "      <td>38.000000</td>\n",
       "      <td>143.000000</td>\n",
       "      <td>6824.000000</td>\n",
       "    </tr>\n",
       "  </tbody>\n",
       "</table>\n",
       "</div>"
      ],
      "text/plain": [
       "       calls_duration      gb_used  messages_amount      revenue\n",
       "count     2229.000000  2229.000000      2229.000000  2229.000000\n",
       "mean       429.450875    16.340960        33.384029  1308.564379\n",
       "std        194.871174     5.748424        28.227876   828.209621\n",
       "min          0.000000     0.000000         0.000000   550.000000\n",
       "25%        291.000000    13.000000        10.000000   553.000000\n",
       "50%        435.000000    17.000000        28.000000  1072.000000\n",
       "75%        560.000000    20.000000        51.000000  1750.000000\n",
       "max       1471.000000    38.000000       143.000000  6824.000000"
      ]
     },
     "execution_count": 39,
     "metadata": {},
     "output_type": "execute_result"
    }
   ],
   "source": [
    "smart_data = total_data2.query('tariff == \"smart\"')\n",
    "smart_data[['calls_duration', 'gb_used', 'messages_amount', 'revenue']].describe()"
   ]
  },
  {
   "cell_type": "code",
   "execution_count": 40,
   "metadata": {},
   "outputs": [
    {
     "name": "stdout",
     "output_type": "stream",
     "text": [
      "Среднее кол-во использованных минут в месяц по тарифу Smart: 430\n",
      "Медианнее кол-во использованных минут в месяц по тарифу Smart: 435\n",
      "Среднее кол-во использованного трафика в месяц по тарифу Smart: 17\n",
      "Медианное кол-во использованного трафика в месяц по тарифу Smart: 17\n",
      "Среднее кол-во сообщений в месяц по тарифу Smart: 34\n",
      "Медианное кол-во сообщений в месяц по тарифу Smart: 28\n",
      "Средняя стоимость в месяц по тарифу Smart: 1309\n",
      "Медианная стоимость в месяц по тарифу Smart: 1072\n"
     ]
    }
   ],
   "source": [
    "print('Среднее кол-во использованных минут в месяц по тарифу Smart:', math.ceil(smart_data['calls_duration'].mean()))\n",
    "print('Медианнее кол-во использованных минут в месяц по тарифу Smart:', math.ceil(smart_data['calls_duration'].median()))\n",
    "print('Среднее кол-во использованного трафика в месяц по тарифу Smart:', math.ceil(smart_data['gb_used'].mean()))\n",
    "print('Медианное кол-во использованного трафика в месяц по тарифу Smart:', math.ceil(smart_data['gb_used'].median()))\n",
    "print('Среднее кол-во сообщений в месяц по тарифу Smart:', math.ceil(smart_data['messages_amount'].mean()))\n",
    "print('Медианное кол-во сообщений в месяц по тарифу Smart:', math.ceil(smart_data['messages_amount'].median()))\n",
    "print('Средняя стоимость в месяц по тарифу Smart:', math.ceil(smart_data['revenue'].mean()))\n",
    "print('Медианная стоимость в месяц по тарифу Smart:', math.ceil(smart_data['revenue'].median()))"
   ]
  },
  {
   "cell_type": "markdown",
   "metadata": {},
   "source": [
    "Дисперсия и мат.ожидание для тарифа Smart:"
   ]
  },
  {
   "cell_type": "code",
   "execution_count": 41,
   "metadata": {},
   "outputs": [
    {
     "name": "stdout",
     "output_type": "stream",
     "text": [
      "revenue    685623.445496\n",
      "dtype: float64\n",
      "revenue    828.023819\n",
      "dtype: float64\n"
     ]
    }
   ],
   "source": [
    "# Дисперсия итоговой стоимости\n",
    "variance_smart = np.var(smart_data[['revenue']])\n",
    "print(variance_smart)\n",
    "# Мат.ожидание\n",
    "expectation_smart = variance_smart**0.5\n",
    "print(expectation_smart)"
   ]
  },
  {
   "cell_type": "code",
   "execution_count": 42,
   "metadata": {},
   "outputs": [
    {
     "name": "stdout",
     "output_type": "stream",
     "text": [
      "Дисперсия по минутам: calls_duration    37957.737941\n",
      "dtype: float64\n",
      "Дисперсия по гб: gb_used    33.029552\n",
      "dtype: float64\n",
      "Дисперсия по сообщениям: messages_amount    796.455483\n",
      "dtype: float64\n"
     ]
    }
   ],
   "source": [
    "# Дисперсия по минутам\n",
    "variance_smart = np.var(smart_data[['calls_duration']])\n",
    "print('Дисперсия по минутам:', variance_smart)\n",
    "# Дисперсия по гб\n",
    "variance_smart = np.var(smart_data[['gb_used']])\n",
    "print('Дисперсия по гб:', variance_smart)\n",
    "# Дисперсия по сообщениям\n",
    "variance_smart = np.var(smart_data[['messages_amount']])\n",
    "print('Дисперсия по сообщениям:', variance_smart)"
   ]
  },
  {
   "cell_type": "markdown",
   "metadata": {},
   "source": [
    "**Тариф Smart**\n",
    "\n",
    "- Среднее кол-во использованных минут в месяц по тарифу Smart: 430 минут.\n",
    "- Среднее кол-во использованного трафика в месяц по тарифу Smart: 17 гб.\n",
    "- Среднее кол-во сообщений в месяц по тарифу Smart: 34 шт.\n",
    "- Средняя стоимость в месяц по тарифу Smart: 1309 руб.\n",
    "\n",
    "Тариф Smart более популярный тариф, чем Ultra. Пользователям часто не хватает предоставленных лимитов и поэтому приходится доплачивать, сверх стоимости тарифа."
   ]
  },
  {
   "cell_type": "markdown",
   "metadata": {},
   "source": [
    "**Тариф Ultra:**"
   ]
  },
  {
   "cell_type": "code",
   "execution_count": 43,
   "metadata": {},
   "outputs": [
    {
     "data": {
      "text/html": [
       "<div>\n",
       "<style scoped>\n",
       "    .dataframe tbody tr th:only-of-type {\n",
       "        vertical-align: middle;\n",
       "    }\n",
       "\n",
       "    .dataframe tbody tr th {\n",
       "        vertical-align: top;\n",
       "    }\n",
       "\n",
       "    .dataframe thead th {\n",
       "        text-align: right;\n",
       "    }\n",
       "</style>\n",
       "<table border=\"1\" class=\"dataframe\">\n",
       "  <thead>\n",
       "    <tr style=\"text-align: right;\">\n",
       "      <th></th>\n",
       "      <th>calls_duration</th>\n",
       "      <th>gb_used</th>\n",
       "      <th>messages_amount</th>\n",
       "      <th>revenue</th>\n",
       "    </tr>\n",
       "  </thead>\n",
       "  <tbody>\n",
       "    <tr>\n",
       "      <td>count</td>\n",
       "      <td>985.000000</td>\n",
       "      <td>985.000000</td>\n",
       "      <td>985.000000</td>\n",
       "      <td>985.000000</td>\n",
       "    </tr>\n",
       "    <tr>\n",
       "      <td>mean</td>\n",
       "      <td>540.779695</td>\n",
       "      <td>19.499492</td>\n",
       "      <td>49.363452</td>\n",
       "      <td>2070.304569</td>\n",
       "    </tr>\n",
       "    <tr>\n",
       "      <td>std</td>\n",
       "      <td>325.738740</td>\n",
       "      <td>9.855266</td>\n",
       "      <td>47.804457</td>\n",
       "      <td>376.715465</td>\n",
       "    </tr>\n",
       "    <tr>\n",
       "      <td>min</td>\n",
       "      <td>0.000000</td>\n",
       "      <td>0.000000</td>\n",
       "      <td>0.000000</td>\n",
       "      <td>1950.000000</td>\n",
       "    </tr>\n",
       "    <tr>\n",
       "      <td>25%</td>\n",
       "      <td>292.000000</td>\n",
       "      <td>12.000000</td>\n",
       "      <td>6.000000</td>\n",
       "      <td>1950.000000</td>\n",
       "    </tr>\n",
       "    <tr>\n",
       "      <td>50%</td>\n",
       "      <td>532.000000</td>\n",
       "      <td>19.000000</td>\n",
       "      <td>38.000000</td>\n",
       "      <td>1950.000000</td>\n",
       "    </tr>\n",
       "    <tr>\n",
       "      <td>75%</td>\n",
       "      <td>773.000000</td>\n",
       "      <td>27.000000</td>\n",
       "      <td>79.000000</td>\n",
       "      <td>1950.000000</td>\n",
       "    </tr>\n",
       "    <tr>\n",
       "      <td>max</td>\n",
       "      <td>1727.000000</td>\n",
       "      <td>49.000000</td>\n",
       "      <td>224.000000</td>\n",
       "      <td>4800.000000</td>\n",
       "    </tr>\n",
       "  </tbody>\n",
       "</table>\n",
       "</div>"
      ],
      "text/plain": [
       "       calls_duration     gb_used  messages_amount      revenue\n",
       "count      985.000000  985.000000       985.000000   985.000000\n",
       "mean       540.779695   19.499492        49.363452  2070.304569\n",
       "std        325.738740    9.855266        47.804457   376.715465\n",
       "min          0.000000    0.000000         0.000000  1950.000000\n",
       "25%        292.000000   12.000000         6.000000  1950.000000\n",
       "50%        532.000000   19.000000        38.000000  1950.000000\n",
       "75%        773.000000   27.000000        79.000000  1950.000000\n",
       "max       1727.000000   49.000000       224.000000  4800.000000"
      ]
     },
     "execution_count": 43,
     "metadata": {},
     "output_type": "execute_result"
    }
   ],
   "source": [
    "ultra_data = total_data2.query('tariff == \"ultra\"')\n",
    "ultra_data[['calls_duration', 'gb_used', 'messages_amount', 'revenue']].describe()"
   ]
  },
  {
   "cell_type": "code",
   "execution_count": 44,
   "metadata": {},
   "outputs": [
    {
     "name": "stdout",
     "output_type": "stream",
     "text": [
      "Среднее кол-во использованных минут в месяц по тарифу Ultra: 541\n",
      "Медианное кол-во использованных минут в месяц по тарифу Ultra: 532\n",
      "Среднее кол-во использованного трафика в месяц по тарифу Ultra: 20\n",
      "Медианное кол-во использованного трафика в месяц по тарифу Ultra: 19\n",
      "Среднее кол-во сообщений в месяц по тарифу Ultra: 50\n",
      "Медианное кол-во сообщений в месяц по тарифу Ultra: 38\n",
      "Средняя стоимость в месяц по тарифу Ultra: 2071\n",
      "Медианная стоимость в месяц по тарифу Ultra: 1950\n"
     ]
    }
   ],
   "source": [
    "print('Среднее кол-во использованных минут в месяц по тарифу Ultra:', math.ceil(ultra_data['calls_duration'].mean()))\n",
    "print('Медианное кол-во использованных минут в месяц по тарифу Ultra:', math.ceil(ultra_data['calls_duration'].median()))\n",
    "print('Среднее кол-во использованного трафика в месяц по тарифу Ultra:', math.ceil(ultra_data['gb_used'].mean()))\n",
    "print('Медианное кол-во использованного трафика в месяц по тарифу Ultra:', math.ceil(ultra_data['gb_used'].median()))\n",
    "print('Среднее кол-во сообщений в месяц по тарифу Ultra:', math.ceil(ultra_data['messages_amount'].mean()))\n",
    "print('Медианное кол-во сообщений в месяц по тарифу Ultra:', math.ceil(ultra_data['messages_amount'].median()))\n",
    "print('Средняя стоимость в месяц по тарифу Ultra:', math.ceil(ultra_data['revenue'].mean()))\n",
    "print('Медианная стоимость в месяц по тарифу Ultra:', math.ceil(ultra_data['revenue'].median()))"
   ]
  },
  {
   "cell_type": "code",
   "execution_count": 45,
   "metadata": {},
   "outputs": [
    {
     "name": "stdout",
     "output_type": "stream",
     "text": [
      "Дисперсия итоговой стоимости revenue    141770.465614\n",
      "dtype: float64\n",
      "revenue    376.52419\n",
      "dtype: float64\n"
     ]
    }
   ],
   "source": [
    "# Дисперсия итоговой стоимости\n",
    "variance_ultra = np.var(ultra_data[['revenue']])\n",
    "print('Дисперсия итоговой стоимости', variance_ultra)\n",
    "# Мат.ожидание\n",
    "expectation_ultra = variance_ultra**0.5\n",
    "print(expectation_ultra)"
   ]
  },
  {
   "cell_type": "code",
   "execution_count": 46,
   "metadata": {},
   "outputs": [
    {
     "name": "stdout",
     "output_type": "stream",
     "text": [
      "Дисперсия по минутам: calls_duration    105998.005273\n",
      "dtype: float64\n",
      "Дисперсия по гб: gb_used    97.027665\n",
      "dtype: float64\n",
      "Дисперсия по сообщениям: messages_amount    2282.946075\n",
      "dtype: float64\n"
     ]
    }
   ],
   "source": [
    "# Дисперсия по минутам\n",
    "variance_smart = np.var(ultra_data[['calls_duration']])\n",
    "print('Дисперсия по минутам:', variance_smart)\n",
    "# Дисперсия по гб\n",
    "variance_smart = np.var(ultra_data[['gb_used']])\n",
    "print('Дисперсия по гб:', variance_smart)\n",
    "# Дисперсия по сообщениям\n",
    "variance_smart = np.var(ultra_data[['messages_amount']])\n",
    "print('Дисперсия по сообщениям:', variance_smart)"
   ]
  },
  {
   "cell_type": "markdown",
   "metadata": {},
   "source": [
    "**Тариф Ultra**\n",
    "\n",
    "- Среднее кол-во использованных минут в месяц по тарифу Ultra: 541 минут.\n",
    "- Среднее кол-во использованного трафика в месяц по тарифу Ultra: 20 гб.\n",
    "- Среднее кол-во сообщений в месяц по тарифу Ultra: 50 шт.\n",
    "- Средняя стоимость в месяц по тарифу Ultra: 2071 руб.\n",
    "\n",
    "В тарифе Ultra, пользователи почти не выходят за предоставленные им лимиты, и в большинстве случаев стоимость в месяц не превышает стоимость тарифного плана."
   ]
  },
  {
   "cell_type": "markdown",
   "metadata": {},
   "source": [
    "Построим диаграммы размаха для каждого тарифа:"
   ]
  },
  {
   "cell_type": "code",
   "execution_count": 47,
   "metadata": {},
   "outputs": [
    {
     "data": {
      "text/plain": [
       "<matplotlib.axes._subplots.AxesSubplot at 0x7f08744681d0>"
      ]
     },
     "execution_count": 47,
     "metadata": {},
     "output_type": "execute_result"
    },
    {
     "data": {
      "image/png": "[encoded data removed]",
      "text/plain": [
       "<Figure size 432x288 with 1 Axes>"
      ]
     },
     "metadata": {
      "needs_background": "light"
     },
     "output_type": "display_data"
    }
   ],
   "source": [
    "# Диаграммы размаха для тарифа Smart\n",
    "smart_data[['revenue']].boxplot(vert=False)"
   ]
  },
  {
   "cell_type": "code",
   "execution_count": 48,
   "metadata": {},
   "outputs": [
    {
     "data": {
      "text/plain": [
       "<matplotlib.axes._subplots.AxesSubplot at 0x7f0874579290>"
      ]
     },
     "execution_count": 48,
     "metadata": {},
     "output_type": "execute_result"
    },
    {
     "data": {
      "image/png": "[encoded data removed]",
      "text/plain": [
       "<Figure size 432x288 with 1 Axes>"
      ]
     },
     "metadata": {
      "needs_background": "light"
     },
     "output_type": "display_data"
    }
   ],
   "source": [
    "# Диаграммы размаха для тарифа Ultra\n",
    "ultra_data[['revenue']].boxplot(vert=False)"
   ]
  },
  {
   "cell_type": "markdown",
   "metadata": {},
   "source": [
    "В тарифе Smart нормальные значения для тарифа smart от 550 руб до 1550 руб, при стоимости тарифа 550 руб. \n",
    "Для тарифа Ultra нормальное значение - цена тарифа, 1950р."
   ]
  },
  {
   "cell_type": "markdown",
   "metadata": {},
   "source": [
    "Построим гистограммы сравнений тарифов по звонкам, интернету, сообщениям и стоимости:"
   ]
  },
  {
   "cell_type": "code",
   "execution_count": 49,
   "metadata": {},
   "outputs": [
    {
     "data": {
      "text/plain": [
       "Text(0, 0.5, 'Частота')"
      ]
     },
     "execution_count": 49,
     "metadata": {},
     "output_type": "execute_result"
    },
    {
     "data": {
      "image/png": "[encoded data removed]",
      "text/plain": [
       "<Figure size 432x288 with 1 Axes>"
      ]
     },
     "metadata": {
      "needs_background": "light"
     },
     "output_type": "display_data"
    }
   ],
   "source": [
    "# Использованные минуты тарифов Smart(оранжевый цвет) и Ultra(синий цвет)\n",
    "total_data2.groupby('tariff')['calls_duration'].plot.hist(alpha=0.5, legend=True, bins=35)\n",
    "plt.title('Гистограмма длительности звонков обоих тарифов')\n",
    "plt.xlabel('Длительность звонков')\n",
    "plt.legend(['Смарт', 'Ультра'])\n",
    "plt.ylabel('Частота')"
   ]
  },
  {
   "cell_type": "code",
   "execution_count": 50,
   "metadata": {},
   "outputs": [
    {
     "data": {
      "text/plain": [
       "Text(0, 0.5, 'Частота')"
      ]
     },
     "execution_count": 50,
     "metadata": {},
     "output_type": "execute_result"
    },
    {
     "data": {
      "image/png": "[encoded data removed]",
      "text/plain": [
       "<Figure size 432x288 with 1 Axes>"
      ]
     },
     "metadata": {
      "needs_background": "light"
     },
     "output_type": "display_data"
    }
   ],
   "source": [
    "# Использованные гб тарифов Smart(оранжевый цвет) и Ultra(синий цвет)\n",
    "total_data2.groupby('tariff')['gb_used'].plot.hist(alpha=0.5, legend=True, bins=35)\n",
    "plt.title('Гистограмма использованного трафика обоих тарифов')\n",
    "plt.xlabel('Использованный трафик')\n",
    "plt.legend(['Смарт', 'Ультра'])\n",
    "plt.ylabel('Частота')"
   ]
  },
  {
   "cell_type": "code",
   "execution_count": 51,
   "metadata": {},
   "outputs": [
    {
     "data": {
      "text/plain": [
       "Text(0, 0.5, 'Частота')"
      ]
     },
     "execution_count": 51,
     "metadata": {},
     "output_type": "execute_result"
    },
    {
     "data": {
      "image/png": "[encoded data removed]",
      "text/plain": [
       "<Figure size 432x288 with 1 Axes>"
      ]
     },
     "metadata": {
      "needs_background": "light"
     },
     "output_type": "display_data"
    }
   ],
   "source": [
    "# Использованные сообщения тарифов Smart(оранжевый цвет) и Ultra(синий цвет)\n",
    "total_data2.groupby('tariff')['messages_amount'].plot.hist(alpha=0.5, legend=True, bins=35)\n",
    "plt.title('Гистограмма отправленных сообщений обоих тарифов')\n",
    "plt.xlabel('Отправленно сообщений')\n",
    "plt.legend(['Смарт', 'Ультра'])\n",
    "plt.ylabel('Частота')"
   ]
  },
  {
   "cell_type": "code",
   "execution_count": 52,
   "metadata": {},
   "outputs": [
    {
     "data": {
      "text/plain": [
       "Text(0, 0.5, 'Частота')"
      ]
     },
     "execution_count": 52,
     "metadata": {},
     "output_type": "execute_result"
    },
    {
     "data": {
      "image/png": "[encoded data removed]",
      "text/plain": [
       "<Figure size 432x288 with 1 Axes>"
      ]
     },
     "metadata": {
      "needs_background": "light"
     },
     "output_type": "display_data"
    }
   ],
   "source": [
    "# Стоимость тарифов Smart(оранжевый цвет) и Ultra(синий цвет)\n",
    "total_data2.groupby('tariff')['revenue'].plot.hist(alpha=0.5, legend=True, bins=35)\n",
    "plt.title('Гистограмма стоимости обоих тарифов')\n",
    "plt.xlabel('Стоимость тарифа')\n",
    "plt.legend(['Смарт', 'Ультра'])\n",
    "plt.ylabel('Частота') "
   ]
  },
  {
   "cell_type": "markdown",
   "metadata": {},
   "source": [
    "На гистограммах видно, что тафиф Smart пользуется большей популярностью, чем Ultra.\n",
    "В среднем по тарифу Ultra люди используют больше минут, гб и сообщений.\n",
    "В тарифе Ultra в основном люди платят только абонентскую плату, в тарифе Smart много дополнительных услуг, которые оплачиваются отдельно."
   ]
  },
  {
   "cell_type": "code",
   "execution_count": 53,
   "metadata": {},
   "outputs": [
    {
     "data": {
      "text/html": [
       "<div>\n",
       "<style scoped>\n",
       "    .dataframe tbody tr th:only-of-type {\n",
       "        vertical-align: middle;\n",
       "    }\n",
       "\n",
       "    .dataframe tbody tr th {\n",
       "        vertical-align: top;\n",
       "    }\n",
       "\n",
       "    .dataframe thead tr th {\n",
       "        text-align: left;\n",
       "    }\n",
       "\n",
       "    .dataframe thead tr:last-of-type th {\n",
       "        text-align: right;\n",
       "    }\n",
       "</style>\n",
       "<table border=\"1\" class=\"dataframe\">\n",
       "  <thead>\n",
       "    <tr>\n",
       "      <th></th>\n",
       "      <th colspan=\"3\" halign=\"left\">mean</th>\n",
       "      <th colspan=\"3\" halign=\"left\">std</th>\n",
       "      <th colspan=\"3\" halign=\"left\">var</th>\n",
       "    </tr>\n",
       "    <tr>\n",
       "      <th></th>\n",
       "      <th>calls_duration</th>\n",
       "      <th>mb_used</th>\n",
       "      <th>messages_amount</th>\n",
       "      <th>calls_duration</th>\n",
       "      <th>mb_used</th>\n",
       "      <th>messages_amount</th>\n",
       "      <th>calls_duration</th>\n",
       "      <th>mb_used</th>\n",
       "      <th>messages_amount</th>\n",
       "    </tr>\n",
       "    <tr>\n",
       "      <th>tariff</th>\n",
       "      <th></th>\n",
       "      <th></th>\n",
       "      <th></th>\n",
       "      <th></th>\n",
       "      <th></th>\n",
       "      <th></th>\n",
       "      <th></th>\n",
       "      <th></th>\n",
       "      <th></th>\n",
       "    </tr>\n",
       "  </thead>\n",
       "  <tbody>\n",
       "    <tr>\n",
       "      <td>smart</td>\n",
       "      <td>429.450875</td>\n",
       "      <td>16216.869448</td>\n",
       "      <td>33.384029</td>\n",
       "      <td>194.871174</td>\n",
       "      <td>5872.700347</td>\n",
       "      <td>28.227876</td>\n",
       "      <td>37974.774628</td>\n",
       "      <td>3.448861e+07</td>\n",
       "      <td>796.812958</td>\n",
       "    </tr>\n",
       "    <tr>\n",
       "      <td>ultra</td>\n",
       "      <td>540.779695</td>\n",
       "      <td>19471.110660</td>\n",
       "      <td>49.363452</td>\n",
       "      <td>325.738740</td>\n",
       "      <td>10087.988051</td>\n",
       "      <td>47.804457</td>\n",
       "      <td>106105.726823</td>\n",
       "      <td>1.017675e+08</td>\n",
       "      <td>2285.266143</td>\n",
       "    </tr>\n",
       "  </tbody>\n",
       "</table>\n",
       "</div>"
      ],
      "text/plain": [
       "                 mean                                          std  \\\n",
       "       calls_duration       mb_used messages_amount calls_duration   \n",
       "tariff                                                               \n",
       "smart      429.450875  16216.869448       33.384029     194.871174   \n",
       "ultra      540.779695  19471.110660       49.363452     325.738740   \n",
       "\n",
       "                                                var                \\\n",
       "             mb_used messages_amount calls_duration       mb_used   \n",
       "tariff                                                              \n",
       "smart    5872.700347       28.227876   37974.774628  3.448861e+07   \n",
       "ultra   10087.988051       47.804457  106105.726823  1.017675e+08   \n",
       "\n",
       "                        \n",
       "       messages_amount  \n",
       "tariff                  \n",
       "smart       796.812958  \n",
       "ultra      2285.266143  "
      ]
     },
     "execution_count": 53,
     "metadata": {},
     "output_type": "execute_result"
    }
   ],
   "source": [
    "total_data2.pivot_table(index='tariff', values=['calls_duration', 'mb_used', 'messages_amount'],\n",
    "                       aggfunc = ['mean', 'std', 'var'])"
   ]
  },
  {
   "cell_type": "markdown",
   "metadata": {},
   "source": [
    "## Проверка гипотез\n",
    "<a id='cell4'></a>"
   ]
  },
  {
   "cell_type": "markdown",
   "metadata": {},
   "source": [
    "1. Средняя выручка пользователей тарифов «Ультра» и «Смарт» различается:\n",
    "2. Средняя выручка пользователей из Москвы отличается от выручки пользователей из других регионов:"
   ]
  },
  {
   "cell_type": "markdown",
   "metadata": {},
   "source": [
    "1. Средняя выручка пользователей тарифов «Ультра» и «Смарт» различается.\n",
    "- Нулевая гипотеза - средние наших выборок равны. \n",
    "- Альтернативная гипотеза - \"Средняя выручка пользователей тарифов «Ультра» и «Смарт» различается\".\n",
    "- Метод scipy.stats.ttest_ind (array1, array2, equal_var = False). False, потому что дисперсии наших выборок отличаются.\n",
    "- Критический уровень значимости - 0.05."
   ]
  },
  {
   "cell_type": "code",
   "execution_count": 54,
   "metadata": {},
   "outputs": [
    {
     "name": "stdout",
     "output_type": "stream",
     "text": [
      "P-value: 6.992771952453896e-237\n",
      "Отвергаем нулевую гипотезу\n"
     ]
    }
   ],
   "source": [
    "from scipy import stats as st\n",
    "alpha = 0.05\n",
    "results = st.ttest_ind(smart_data['revenue'], ultra_data['revenue'], equal_var = False)\n",
    "print('P-value:', results.pvalue)\n",
    "\n",
    "if (results.pvalue < alpha):\n",
    "    print(\"Отвергаем нулевую гипотезу\")\n",
    "else:\n",
    "    print(\"Не получилось отвергнуть нулевую гипотезу\")"
   ]
  },
  {
   "cell_type": "markdown",
   "metadata": {},
   "source": [
    "2. Средняя выручка пользователей из Москвы отличается от выручки пользователей из других регионов.\n",
    "\n",
    "- Нулевая гипотеза - средние наших выборок равны.\n",
    "- Альтернативная гипотеза - \"Средняя выручка пользователей из Москвы и из других регионов различается\".\n",
    "- Метод scipy.stats.ttest_ind (array1, array2, equal_var = False).\n",
    "- Критический уровень значимости - 0.05."
   ]
  },
  {
   "cell_type": "code",
   "execution_count": 55,
   "metadata": {},
   "outputs": [],
   "source": [
    "moscow = total_data2[total_data2['city'] == 'Москва']\n",
    "other = total_data2[total_data2['city'] != 'Москва']"
   ]
  },
  {
   "cell_type": "code",
   "execution_count": 56,
   "metadata": {},
   "outputs": [
    {
     "name": "stdout",
     "output_type": "stream",
     "text": [
      "P-value: 0.549717455143522\n",
      "Не получилось отвергнуть нулевую гипотезу\n"
     ]
    }
   ],
   "source": [
    "alpha = 0.05\n",
    "results = st.ttest_ind(moscow['revenue'], other['revenue'], equal_var = False)\n",
    "print('P-value:', results.pvalue)\n",
    "\n",
    "if (results.pvalue < alpha):\n",
    "    print(\"Отвергаем нулевую гипотезу\")\n",
    "else:\n",
    "    print(\"Не получилось отвергнуть нулевую гипотезу\")"
   ]
  },
  {
   "cell_type": "markdown",
   "metadata": {},
   "source": [
    "**Вывод**\n",
    "\n",
    "P-value равно 0.54, а значит есть вероятность того, что отличие средних значений наших выборок случайно и мы не можем отвергнуть нулевую гипотезу, которая говорит нам о равенстве средних значений.\n",
    "\n",
    "Альтернативную гипотезу о различии средних мы отвергаем."
   ]
  },
  {
   "cell_type": "markdown",
   "metadata": {},
   "source": [
    "## Вывод\n",
    "<a id='cell5'></a>"
   ]
  },
  {
   "cell_type": "markdown",
   "metadata": {},
   "source": [
    "- Среднемесячная прибыль тарифа Ultra выше прибыли тарифа Smart.\n",
    "- Тариф Smart пользуется большей популярностью.\n",
    "\n",
    "Среднемесячная прибыль по тарифу Ultra выше. Но совокупная выше у Smart за счет большего числа клиентов. В тарифе Ultra практически никто не выходит за рамки тарифа, в тарифе Smart при стоимости 550р в месяц, основные показатели от 550 руб. до 1550 руб. Для тарифа Ultra нормальное значение - 1950 руб.(цена тарифа)."
   ]
  }
 ],
 "metadata": {
  "ExecuteTimeLog": [
   {
    "duration": 1509,
    "start_time": "2021-06-08T14:11:12.892Z"
   },
   {
    "duration": 557,
    "start_time": "2021-06-08T14:11:23.045Z"
   },
   {
    "duration": 16,
    "start_time": "2021-06-08T14:11:54.811Z"
   },
   {
    "duration": 28,
    "start_time": "2021-06-08T14:12:02.834Z"
   },
   {
    "duration": 43,
    "start_time": "2021-06-08T14:12:21.611Z"
   },
   {
    "duration": 4633,
    "start_time": "2021-06-08T14:12:26.811Z"
   },
   {
    "duration": 22,
    "start_time": "2021-06-08T14:12:42.632Z"
   },
   {
    "duration": 13,
    "start_time": "2021-06-08T14:12:59.050Z"
   },
   {
    "duration": 22,
    "start_time": "2021-06-08T14:13:02.388Z"
   },
   {
    "duration": 5,
    "start_time": "2021-06-08T14:13:07.529Z"
   },
   {
    "duration": 28,
    "start_time": "2021-06-08T14:13:11.593Z"
   },
   {
    "duration": 3457,
    "start_time": "2021-06-08T14:14:41.082Z"
   },
   {
    "duration": 11,
    "start_time": "2021-06-08T14:15:16.614Z"
   },
   {
    "duration": 15,
    "start_time": "2021-06-08T14:15:23.682Z"
   },
   {
    "duration": 14,
    "start_time": "2021-06-08T14:15:43.400Z"
   },
   {
    "duration": 20,
    "start_time": "2021-06-08T14:15:52.651Z"
   },
   {
    "duration": 23,
    "start_time": "2021-06-08T14:15:56.476Z"
   },
   {
    "duration": 2851,
    "start_time": "2021-06-08T14:15:58.635Z"
   },
   {
    "duration": 15,
    "start_time": "2021-06-08T14:16:07.209Z"
   },
   {
    "duration": 14,
    "start_time": "2021-06-08T14:17:17.428Z"
   },
   {
    "duration": 9,
    "start_time": "2021-06-08T14:17:21.321Z"
   },
   {
    "duration": 5,
    "start_time": "2021-06-08T14:17:24.891Z"
   },
   {
    "duration": 6,
    "start_time": "2021-06-08T14:17:30.507Z"
   },
   {
    "duration": 15,
    "start_time": "2021-06-08T14:17:33.678Z"
   },
   {
    "duration": 40,
    "start_time": "2021-06-08T14:22:57.733Z"
   },
   {
    "duration": 9,
    "start_time": "2021-06-08T14:23:24.514Z"
   },
   {
    "duration": 6,
    "start_time": "2021-06-08T14:24:17.717Z"
   },
   {
    "duration": 16,
    "start_time": "2021-06-08T14:24:22.929Z"
   },
   {
    "duration": 25,
    "start_time": "2021-06-08T14:24:35.626Z"
   },
   {
    "duration": 15,
    "start_time": "2021-06-08T14:25:03.886Z"
   },
   {
    "duration": 13,
    "start_time": "2021-06-08T14:25:13.919Z"
   },
   {
    "duration": 41,
    "start_time": "2021-06-08T14:25:36.571Z"
   },
   {
    "duration": 19,
    "start_time": "2021-06-08T14:25:43.481Z"
   },
   {
    "duration": 15,
    "start_time": "2021-06-08T14:25:55.465Z"
   },
   {
    "duration": 14,
    "start_time": "2021-06-08T14:26:39.632Z"
   },
   {
    "duration": 13,
    "start_time": "2021-06-08T14:26:55.924Z"
   },
   {
    "duration": 16,
    "start_time": "2021-06-08T14:27:24.808Z"
   },
   {
    "duration": 1352,
    "start_time": "2021-06-08T14:28:36.001Z"
   },
   {
    "duration": 532,
    "start_time": "2021-06-08T14:28:37.666Z"
   },
   {
    "duration": 17,
    "start_time": "2021-06-08T14:28:41.921Z"
   },
   {
    "duration": 27,
    "start_time": "2021-06-08T14:28:45.351Z"
   },
   {
    "duration": 42,
    "start_time": "2021-06-08T14:28:45.869Z"
   },
   {
    "duration": 4552,
    "start_time": "2021-06-08T14:28:49.757Z"
   },
   {
    "duration": 17,
    "start_time": "2021-06-08T14:28:54.312Z"
   },
   {
    "duration": 28,
    "start_time": "2021-06-08T14:28:54.331Z"
   },
   {
    "duration": 15,
    "start_time": "2021-06-08T14:29:00.436Z"
   },
   {
    "duration": 1898,
    "start_time": "2021-06-08T14:30:35.316Z"
   },
   {
    "duration": 819,
    "start_time": "2021-06-08T14:30:37.217Z"
   },
   {
    "duration": 21,
    "start_time": "2021-06-08T14:30:39.710Z"
   },
   {
    "duration": 29,
    "start_time": "2021-06-08T14:30:42.903Z"
   },
   {
    "duration": 46,
    "start_time": "2021-06-08T14:30:45.236Z"
   },
   {
    "duration": 4760,
    "start_time": "2021-06-08T14:30:51.527Z"
   },
   {
    "duration": 18,
    "start_time": "2021-06-08T14:30:59.992Z"
   },
   {
    "duration": 24,
    "start_time": "2021-06-08T14:31:03.509Z"
   },
   {
    "duration": 5,
    "start_time": "2021-06-08T14:31:09.620Z"
   },
   {
    "duration": 37,
    "start_time": "2021-06-08T14:31:11.646Z"
   },
   {
    "duration": 3894,
    "start_time": "2021-06-08T14:31:13.861Z"
   },
   {
    "duration": 14,
    "start_time": "2021-06-08T14:31:32.007Z"
   },
   {
    "duration": 42,
    "start_time": "2021-06-08T14:31:35.343Z"
   },
   {
    "duration": 25,
    "start_time": "2021-06-08T14:31:38.121Z"
   },
   {
    "duration": 2660,
    "start_time": "2021-06-08T14:31:41.300Z"
   },
   {
    "duration": 15,
    "start_time": "2021-06-08T14:31:49.702Z"
   },
   {
    "duration": 9,
    "start_time": "2021-06-08T14:31:50.789Z"
   },
   {
    "duration": 6,
    "start_time": "2021-06-08T14:31:53.643Z"
   },
   {
    "duration": 9,
    "start_time": "2021-06-08T14:31:57.230Z"
   },
   {
    "duration": 16,
    "start_time": "2021-06-08T14:31:59.962Z"
   },
   {
    "duration": 62,
    "start_time": "2021-06-08T14:32:05.196Z"
   },
   {
    "duration": 11,
    "start_time": "2021-06-08T14:32:17.470Z"
   },
   {
    "duration": 6,
    "start_time": "2021-06-08T14:32:20.804Z"
   },
   {
    "duration": 37,
    "start_time": "2021-06-08T14:32:43.545Z"
   },
   {
    "duration": 20,
    "start_time": "2021-06-08T14:32:48.710Z"
   },
   {
    "duration": 13,
    "start_time": "2021-06-08T14:32:54.396Z"
   },
   {
    "duration": 51,
    "start_time": "2021-06-08T14:33:01.918Z"
   },
   {
    "duration": 19,
    "start_time": "2021-06-08T14:33:23.342Z"
   },
   {
    "duration": 13,
    "start_time": "2021-06-08T14:33:29.484Z"
   },
   {
    "duration": 6,
    "start_time": "2021-06-08T14:33:33.646Z"
   },
   {
    "duration": 19,
    "start_time": "2021-06-08T14:33:42.920Z"
   },
   {
    "duration": 21,
    "start_time": "2021-06-08T14:34:09.966Z"
   },
   {
    "duration": 21,
    "start_time": "2021-06-08T14:34:23.072Z"
   },
   {
    "duration": 2278,
    "start_time": "2021-06-08T15:00:34.718Z"
   },
   {
    "duration": 2598,
    "start_time": "2021-06-08T15:01:52.957Z"
   },
   {
    "duration": 3582,
    "start_time": "2021-06-08T15:02:02.448Z"
   },
   {
    "duration": 5553,
    "start_time": "2021-06-08T15:02:12.155Z"
   },
   {
    "duration": 3477,
    "start_time": "2021-06-08T15:02:24.287Z"
   },
   {
    "duration": 5110,
    "start_time": "2021-06-08T15:02:55.036Z"
   },
   {
    "duration": 3363,
    "start_time": "2021-06-08T15:03:09.681Z"
   },
   {
    "duration": 2604,
    "start_time": "2021-06-08T15:03:19.077Z"
   },
   {
    "duration": 3066,
    "start_time": "2021-06-08T15:03:29.185Z"
   },
   {
    "duration": 783,
    "start_time": "2021-06-08T15:08:45.151Z"
   },
   {
    "duration": 108,
    "start_time": "2021-06-08T15:09:01.633Z"
   },
   {
    "duration": 19,
    "start_time": "2021-06-08T15:09:13.441Z"
   },
   {
    "duration": 20,
    "start_time": "2021-06-08T15:09:40.315Z"
   },
   {
    "duration": 2945,
    "start_time": "2021-06-08T15:21:23.551Z"
   },
   {
    "duration": 3,
    "start_time": "2021-06-08T15:23:24.566Z"
   },
   {
    "duration": 37,
    "start_time": "2021-06-08T15:26:25.870Z"
   },
   {
    "duration": 21,
    "start_time": "2021-06-08T15:26:34.779Z"
   },
   {
    "duration": 17,
    "start_time": "2021-06-08T15:46:52.948Z"
   },
   {
    "duration": 77,
    "start_time": "2021-06-08T15:49:09.750Z"
   },
   {
    "duration": 38,
    "start_time": "2021-06-08T15:49:20.755Z"
   },
   {
    "duration": 19,
    "start_time": "2021-06-08T15:56:04.201Z"
   },
   {
    "duration": 7,
    "start_time": "2021-06-08T15:57:26.201Z"
   },
   {
    "duration": 409,
    "start_time": "2021-06-08T15:58:18.101Z"
   },
   {
    "duration": 77,
    "start_time": "2021-06-08T15:58:55.708Z"
   },
   {
    "duration": 23,
    "start_time": "2021-06-08T15:59:15.447Z"
   },
   {
    "duration": 20,
    "start_time": "2021-06-08T15:59:35.827Z"
   },
   {
    "duration": 19,
    "start_time": "2021-06-08T15:59:56.480Z"
   },
   {
    "duration": 26,
    "start_time": "2021-06-08T16:00:12.581Z"
   },
   {
    "duration": 20,
    "start_time": "2021-06-08T16:00:55.039Z"
   },
   {
    "duration": 333,
    "start_time": "2021-06-08T16:04:42.747Z"
   },
   {
    "duration": 6,
    "start_time": "2021-06-08T16:05:04.756Z"
   },
   {
    "duration": 7,
    "start_time": "2021-06-08T16:05:12.884Z"
   },
   {
    "duration": 103,
    "start_time": "2021-06-08T16:05:25.807Z"
   },
   {
    "duration": 92,
    "start_time": "2021-06-08T16:05:32.167Z"
   },
   {
    "duration": 18,
    "start_time": "2021-06-08T16:05:37.825Z"
   },
   {
    "duration": 81,
    "start_time": "2021-06-08T16:06:10.645Z"
   },
   {
    "duration": 19,
    "start_time": "2021-06-08T16:06:12.915Z"
   },
   {
    "duration": 78,
    "start_time": "2021-06-08T16:23:46.775Z"
   },
   {
    "duration": 22,
    "start_time": "2021-06-08T16:24:16.637Z"
   },
   {
    "duration": 7163,
    "start_time": "2021-06-08T16:25:14.030Z"
   },
   {
    "duration": 8065,
    "start_time": "2021-06-08T16:25:57.729Z"
   },
   {
    "duration": 7296,
    "start_time": "2021-06-08T16:26:54.729Z"
   },
   {
    "duration": 21,
    "start_time": "2021-06-08T16:27:13.516Z"
   },
   {
    "duration": 17,
    "start_time": "2021-06-08T16:27:41.967Z"
   },
   {
    "duration": 305,
    "start_time": "2021-06-08T16:47:49.123Z"
   },
   {
    "duration": 23,
    "start_time": "2021-06-08T17:16:57.115Z"
   },
   {
    "duration": 1423,
    "start_time": "2021-06-09T06:56:42.314Z"
   },
   {
    "duration": 533,
    "start_time": "2021-06-09T06:56:46.567Z"
   },
   {
    "duration": 17,
    "start_time": "2021-06-09T06:57:07.650Z"
   },
   {
    "duration": 30,
    "start_time": "2021-06-09T06:57:12.454Z"
   },
   {
    "duration": 45,
    "start_time": "2021-06-09T06:57:15.515Z"
   },
   {
    "duration": 4568,
    "start_time": "2021-06-09T06:57:20.972Z"
   },
   {
    "duration": 14,
    "start_time": "2021-06-09T06:57:31.286Z"
   },
   {
    "duration": 13,
    "start_time": "2021-06-09T06:57:37.211Z"
   },
   {
    "duration": 22,
    "start_time": "2021-06-09T06:57:40.559Z"
   },
   {
    "duration": 5,
    "start_time": "2021-06-09T06:57:43.636Z"
   },
   {
    "duration": 30,
    "start_time": "2021-06-09T06:57:48.295Z"
   },
   {
    "duration": 3317,
    "start_time": "2021-06-09T06:58:04.006Z"
   },
   {
    "duration": 10,
    "start_time": "2021-06-09T06:58:14.612Z"
   },
   {
    "duration": 20,
    "start_time": "2021-06-09T06:58:17.805Z"
   },
   {
    "duration": 24,
    "start_time": "2021-06-09T06:58:20.672Z"
   },
   {
    "duration": 2732,
    "start_time": "2021-06-09T06:58:24.721Z"
   },
   {
    "duration": 16,
    "start_time": "2021-06-09T06:58:34.814Z"
   },
   {
    "duration": 8,
    "start_time": "2021-06-09T06:58:39.412Z"
   },
   {
    "duration": 6,
    "start_time": "2021-06-09T06:58:44.516Z"
   },
   {
    "duration": 4,
    "start_time": "2021-06-09T06:59:01.293Z"
   },
   {
    "duration": 7,
    "start_time": "2021-06-09T06:59:07.324Z"
   },
   {
    "duration": 11,
    "start_time": "2021-06-09T06:59:19.718Z"
   },
   {
    "duration": 42,
    "start_time": "2021-06-09T06:59:33.164Z"
   },
   {
    "duration": 8,
    "start_time": "2021-06-09T06:59:48.606Z"
   },
   {
    "duration": 13,
    "start_time": "2021-06-09T06:59:56.887Z"
   },
   {
    "duration": 5,
    "start_time": "2021-06-09T07:00:07.991Z"
   },
   {
    "duration": 30,
    "start_time": "2021-06-09T07:00:11.157Z"
   },
   {
    "duration": 21,
    "start_time": "2021-06-09T07:00:25.610Z"
   },
   {
    "duration": 17,
    "start_time": "2021-06-09T07:00:29.135Z"
   },
   {
    "duration": 47,
    "start_time": "2021-06-09T07:00:34.677Z"
   },
   {
    "duration": 26,
    "start_time": "2021-06-09T07:00:50.884Z"
   },
   {
    "duration": 8,
    "start_time": "2021-06-09T07:00:55.289Z"
   },
   {
    "duration": 117,
    "start_time": "2021-06-09T07:06:39.188Z"
   },
   {
    "duration": 82,
    "start_time": "2021-06-09T07:06:46.413Z"
   },
   {
    "duration": 309,
    "start_time": "2021-06-09T07:06:51.256Z"
   },
   {
    "duration": 131,
    "start_time": "2021-06-09T07:07:16.558Z"
   },
   {
    "duration": 131,
    "start_time": "2021-06-09T07:07:53.968Z"
   },
   {
    "duration": 21,
    "start_time": "2021-06-09T07:08:42.241Z"
   },
   {
    "duration": 22,
    "start_time": "2021-06-09T07:09:09.008Z"
   },
   {
    "duration": 5,
    "start_time": "2021-06-09T07:09:13.113Z"
   },
   {
    "duration": 12,
    "start_time": "2021-06-09T07:10:15.727Z"
   },
   {
    "duration": 14,
    "start_time": "2021-06-09T07:10:48.876Z"
   },
   {
    "duration": 29,
    "start_time": "2021-06-09T07:18:07.648Z"
   },
   {
    "duration": 10,
    "start_time": "2021-06-09T07:18:23.201Z"
   },
   {
    "duration": 10,
    "start_time": "2021-06-09T07:18:38.445Z"
   },
   {
    "duration": 290,
    "start_time": "2021-06-09T07:18:57.371Z"
   },
   {
    "duration": 23,
    "start_time": "2021-06-09T07:19:11.564Z"
   },
   {
    "duration": 228,
    "start_time": "2021-06-09T07:19:25.751Z"
   },
   {
    "duration": 5,
    "start_time": "2021-06-09T07:32:33.254Z"
   },
   {
    "duration": 6,
    "start_time": "2021-06-09T07:33:41.049Z"
   },
   {
    "duration": 5,
    "start_time": "2021-06-09T07:34:12.287Z"
   },
   {
    "duration": 11,
    "start_time": "2021-06-09T07:34:23.883Z"
   },
   {
    "duration": 531,
    "start_time": "2021-06-09T07:34:49.728Z"
   },
   {
    "duration": 6,
    "start_time": "2021-06-09T07:35:04.652Z"
   },
   {
    "duration": 34,
    "start_time": "2021-06-09T08:20:34.311Z"
   },
   {
    "duration": 7,
    "start_time": "2021-06-09T08:21:36.759Z"
   },
   {
    "duration": 81,
    "start_time": "2021-06-09T08:27:52.556Z"
   },
   {
    "duration": 326,
    "start_time": "2021-06-09T08:32:49.224Z"
   },
   {
    "duration": 12,
    "start_time": "2021-06-09T08:32:56.148Z"
   },
   {
    "duration": 33,
    "start_time": "2021-06-09T08:32:58.560Z"
   },
   {
    "duration": 34,
    "start_time": "2021-06-09T08:33:14.629Z"
   },
   {
    "duration": 338,
    "start_time": "2021-06-09T08:34:13.869Z"
   },
   {
    "duration": 46,
    "start_time": "2021-06-09T08:34:29.474Z"
   },
   {
    "duration": 46,
    "start_time": "2021-06-09T08:36:00.009Z"
   },
   {
    "duration": 277,
    "start_time": "2021-06-09T08:37:08.612Z"
   },
   {
    "duration": 47,
    "start_time": "2021-06-09T08:37:21.089Z"
   },
   {
    "duration": 50,
    "start_time": "2021-06-09T08:38:02.001Z"
   },
   {
    "duration": 380,
    "start_time": "2021-06-09T08:38:18.930Z"
   },
   {
    "duration": 404,
    "start_time": "2021-06-09T14:15:59.787Z"
   },
   {
    "duration": 268,
    "start_time": "2021-06-09T14:16:05.121Z"
   },
   {
    "duration": 1484,
    "start_time": "2021-06-09T14:16:22.979Z"
   },
   {
    "duration": 486,
    "start_time": "2021-06-09T14:16:28.840Z"
   },
   {
    "duration": 17,
    "start_time": "2021-06-09T14:16:32.238Z"
   },
   {
    "duration": 27,
    "start_time": "2021-06-09T14:16:34.561Z"
   },
   {
    "duration": 42,
    "start_time": "2021-06-09T14:16:35.586Z"
   },
   {
    "duration": 4444,
    "start_time": "2021-06-09T14:16:36.564Z"
   },
   {
    "duration": 13,
    "start_time": "2021-06-09T14:16:45.188Z"
   },
   {
    "duration": 24,
    "start_time": "2021-06-09T14:16:46.273Z"
   },
   {
    "duration": 5,
    "start_time": "2021-06-09T14:16:47.158Z"
   },
   {
    "duration": 33,
    "start_time": "2021-06-09T14:16:48.669Z"
   },
   {
    "duration": 3198,
    "start_time": "2021-06-09T14:16:49.747Z"
   },
   {
    "duration": 11,
    "start_time": "2021-06-09T14:17:02.914Z"
   },
   {
    "duration": 19,
    "start_time": "2021-06-09T14:17:06.753Z"
   },
   {
    "duration": 38,
    "start_time": "2021-06-09T14:17:10.026Z"
   },
   {
    "duration": 2746,
    "start_time": "2021-06-09T14:17:13.847Z"
   },
   {
    "duration": 16,
    "start_time": "2021-06-09T14:17:54.358Z"
   },
   {
    "duration": 9,
    "start_time": "2021-06-09T14:17:55.267Z"
   },
   {
    "duration": 5,
    "start_time": "2021-06-09T14:17:56.075Z"
   },
   {
    "duration": 4,
    "start_time": "2021-06-09T14:17:56.797Z"
   },
   {
    "duration": 7,
    "start_time": "2021-06-09T14:17:58.109Z"
   },
   {
    "duration": 11,
    "start_time": "2021-06-09T14:17:59.640Z"
   },
   {
    "duration": 41,
    "start_time": "2021-06-09T14:18:03.565Z"
   },
   {
    "duration": 6,
    "start_time": "2021-06-09T14:18:06.279Z"
   },
   {
    "duration": 21,
    "start_time": "2021-06-09T14:18:08.509Z"
   },
   {
    "duration": 34,
    "start_time": "2021-06-09T14:18:10.161Z"
   },
   {
    "duration": 18,
    "start_time": "2021-06-09T14:18:14.762Z"
   },
   {
    "duration": 6,
    "start_time": "2021-06-09T14:18:21.226Z"
   },
   {
    "duration": 109,
    "start_time": "2021-06-09T14:18:26.158Z"
   },
   {
    "duration": 79,
    "start_time": "2021-06-09T14:18:29.044Z"
   },
   {
    "duration": 456,
    "start_time": "2021-06-09T14:18:33.671Z"
   },
   {
    "duration": 21,
    "start_time": "2021-06-09T14:18:39.486Z"
   },
   {
    "duration": 5,
    "start_time": "2021-06-09T14:18:52.029Z"
   },
   {
    "duration": 9,
    "start_time": "2021-06-09T14:18:58.182Z"
   },
   {
    "duration": 21,
    "start_time": "2021-06-09T14:19:11.918Z"
   },
   {
    "duration": 6,
    "start_time": "2021-06-09T14:19:15.304Z"
   },
   {
    "duration": 11,
    "start_time": "2021-06-09T14:19:18.826Z"
   },
   {
    "duration": 213,
    "start_time": "2021-06-09T14:20:09.838Z"
   },
   {
    "duration": 17,
    "start_time": "2021-06-09T14:20:17.661Z"
   },
   {
    "duration": 221,
    "start_time": "2021-06-09T14:20:20.353Z"
   },
   {
    "duration": 7,
    "start_time": "2021-06-09T14:20:32.153Z"
   },
   {
    "duration": 7797,
    "start_time": "2021-06-09T14:20:40.117Z"
   },
   {
    "duration": 264,
    "start_time": "2021-06-09T14:21:25.486Z"
   },
   {
    "duration": 51,
    "start_time": "2021-06-09T14:21:37.119Z"
   },
   {
    "duration": 7908,
    "start_time": "2021-06-09T14:21:47.209Z"
   },
   {
    "duration": 31,
    "start_time": "2021-06-09T14:22:55.356Z"
   },
   {
    "duration": 10,
    "start_time": "2021-06-09T14:23:18.186Z"
   },
   {
    "duration": 31,
    "start_time": "2021-06-09T14:23:26.965Z"
   },
   {
    "duration": 31,
    "start_time": "2021-06-09T14:23:38.809Z"
   },
   {
    "duration": 34,
    "start_time": "2021-06-09T14:24:13.505Z"
   },
   {
    "duration": 9,
    "start_time": "2021-06-09T14:27:19.168Z"
   },
   {
    "duration": 1366,
    "start_time": "2021-06-09T16:30:56.509Z"
   },
   {
    "duration": 518,
    "start_time": "2021-06-09T16:31:05.235Z"
   },
   {
    "duration": 19,
    "start_time": "2021-06-09T16:31:26.088Z"
   },
   {
    "duration": 30,
    "start_time": "2021-06-09T16:31:29.588Z"
   },
   {
    "duration": 42,
    "start_time": "2021-06-09T16:31:33.935Z"
   },
   {
    "duration": 4692,
    "start_time": "2021-06-09T16:31:35.814Z"
   },
   {
    "duration": 17,
    "start_time": "2021-06-09T16:31:40.509Z"
   },
   {
    "duration": 22,
    "start_time": "2021-06-09T16:31:41.077Z"
   },
   {
    "duration": 5,
    "start_time": "2021-06-09T16:31:51.485Z"
   },
   {
    "duration": 29,
    "start_time": "2021-06-09T16:31:55.323Z"
   },
   {
    "duration": 3371,
    "start_time": "2021-06-09T16:31:58.765Z"
   },
   {
    "duration": 12,
    "start_time": "2021-06-09T16:32:05.275Z"
   },
   {
    "duration": 19,
    "start_time": "2021-06-09T16:32:08.626Z"
   },
   {
    "duration": 24,
    "start_time": "2021-06-09T16:32:11.948Z"
   },
   {
    "duration": 2933,
    "start_time": "2021-06-09T16:32:15.928Z"
   },
   {
    "duration": 22,
    "start_time": "2021-06-09T16:32:18.864Z"
   },
   {
    "duration": 10,
    "start_time": "2021-06-09T16:32:22.016Z"
   },
   {
    "duration": 6,
    "start_time": "2021-06-09T16:32:24.451Z"
   },
   {
    "duration": 4,
    "start_time": "2021-06-09T16:32:27.309Z"
   },
   {
    "duration": 6,
    "start_time": "2021-06-09T16:32:32.641Z"
   },
   {
    "duration": 11,
    "start_time": "2021-06-09T16:32:35.757Z"
   },
   {
    "duration": 44,
    "start_time": "2021-06-09T16:32:44.971Z"
   },
   {
    "duration": 5,
    "start_time": "2021-06-09T16:32:50.482Z"
   },
   {
    "duration": 21,
    "start_time": "2021-06-09T16:32:54.436Z"
   },
   {
    "duration": 37,
    "start_time": "2021-06-09T16:32:56.851Z"
   },
   {
    "duration": 18,
    "start_time": "2021-06-09T16:34:34.952Z"
   },
   {
    "duration": 6,
    "start_time": "2021-06-09T16:34:35.515Z"
   },
   {
    "duration": 111,
    "start_time": "2021-06-09T16:34:38.563Z"
   },
   {
    "duration": 82,
    "start_time": "2021-06-09T16:34:55.964Z"
   },
   {
    "duration": 303,
    "start_time": "2021-06-09T16:34:58.668Z"
   },
   {
    "duration": 23,
    "start_time": "2021-06-09T16:35:06.763Z"
   },
   {
    "duration": 6,
    "start_time": "2021-06-09T16:35:07.242Z"
   },
   {
    "duration": 10,
    "start_time": "2021-06-09T16:35:24.415Z"
   },
   {
    "duration": 21,
    "start_time": "2021-06-09T16:35:52.056Z"
   },
   {
    "duration": 7,
    "start_time": "2021-06-09T16:35:53.189Z"
   },
   {
    "duration": 9,
    "start_time": "2021-06-09T16:35:54.362Z"
   },
   {
    "duration": 215,
    "start_time": "2021-06-09T16:35:58.888Z"
   },
   {
    "duration": 17,
    "start_time": "2021-06-09T16:35:59.475Z"
   },
   {
    "duration": 217,
    "start_time": "2021-06-09T16:36:29.892Z"
   },
   {
    "duration": 7,
    "start_time": "2021-06-09T16:36:47.050Z"
   },
   {
    "duration": 8,
    "start_time": "2021-06-09T16:36:51.075Z"
   },
   {
    "duration": 7,
    "start_time": "2021-06-09T16:36:53.671Z"
   },
   {
    "duration": 1687,
    "start_time": "2021-06-09T20:59:07.386Z"
   },
   {
    "duration": 736,
    "start_time": "2021-06-09T20:59:09.077Z"
   },
   {
    "duration": 24,
    "start_time": "2021-06-09T20:59:09.817Z"
   },
   {
    "duration": 44,
    "start_time": "2021-06-09T20:59:09.845Z"
   },
   {
    "duration": 85,
    "start_time": "2021-06-09T20:59:09.892Z"
   },
   {
    "duration": 4734,
    "start_time": "2021-06-09T20:59:09.980Z"
   },
   {
    "duration": 14,
    "start_time": "2021-06-09T20:59:14.716Z"
   },
   {
    "duration": 44,
    "start_time": "2021-06-09T20:59:14.734Z"
   },
   {
    "duration": 6,
    "start_time": "2021-06-09T20:59:14.781Z"
   },
   {
    "duration": 44,
    "start_time": "2021-06-09T20:59:14.790Z"
   },
   {
    "duration": 5569,
    "start_time": "2021-06-09T20:59:14.861Z"
   },
   {
    "duration": 13,
    "start_time": "2021-06-09T20:59:20.433Z"
   },
   {
    "duration": 31,
    "start_time": "2021-06-09T20:59:20.448Z"
   },
   {
    "duration": 31,
    "start_time": "2021-06-09T20:59:20.481Z"
   },
   {
    "duration": 2892,
    "start_time": "2021-06-09T20:59:20.515Z"
   },
   {
    "duration": 16,
    "start_time": "2021-06-09T20:59:23.410Z"
   },
   {
    "duration": 10,
    "start_time": "2021-06-09T20:59:23.429Z"
   },
   {
    "duration": 6,
    "start_time": "2021-06-09T20:59:23.463Z"
   },
   {
    "duration": 8,
    "start_time": "2021-06-09T20:59:23.471Z"
   },
   {
    "duration": 10,
    "start_time": "2021-06-09T20:59:23.481Z"
   },
   {
    "duration": 18,
    "start_time": "2021-06-09T20:59:23.494Z"
   },
   {
    "duration": 83,
    "start_time": "2021-06-09T20:59:23.514Z"
   },
   {
    "duration": 6,
    "start_time": "2021-06-09T20:59:23.603Z"
   },
   {
    "duration": 28,
    "start_time": "2021-06-09T20:59:23.612Z"
   },
   {
    "duration": 46,
    "start_time": "2021-06-09T20:59:23.643Z"
   },
   {
    "duration": 17,
    "start_time": "2021-06-09T20:59:23.692Z"
   },
   {
    "duration": 8,
    "start_time": "2021-06-09T20:59:23.713Z"
   },
   {
    "duration": 162,
    "start_time": "2021-06-09T20:59:23.724Z"
   },
   {
    "duration": 96,
    "start_time": "2021-06-09T20:59:23.889Z"
   },
   {
    "duration": 328,
    "start_time": "2021-06-09T20:59:23.987Z"
   },
   {
    "duration": 44,
    "start_time": "2021-06-09T20:59:24.318Z"
   },
   {
    "duration": 6,
    "start_time": "2021-06-09T20:59:24.365Z"
   },
   {
    "duration": 10,
    "start_time": "2021-06-09T20:59:24.374Z"
   },
   {
    "duration": 22,
    "start_time": "2021-06-09T20:59:24.386Z"
   },
   {
    "duration": 6,
    "start_time": "2021-06-09T20:59:24.411Z"
   },
   {
    "duration": 51,
    "start_time": "2021-06-09T20:59:24.419Z"
   },
   {
    "duration": 244,
    "start_time": "2021-06-09T20:59:24.473Z"
   },
   {
    "duration": 15,
    "start_time": "2021-06-09T20:59:24.719Z"
   },
   {
    "duration": 244,
    "start_time": "2021-06-09T20:59:24.737Z"
   },
   {
    "duration": 7,
    "start_time": "2021-06-09T20:59:24.984Z"
   },
   {
    "duration": 12,
    "start_time": "2021-06-09T20:59:24.993Z"
   },
   {
    "duration": 7,
    "start_time": "2021-06-09T20:59:25.008Z"
   },
   {
    "duration": 40,
    "start_time": "2021-06-09T21:00:50.650Z"
   },
   {
    "duration": 576,
    "start_time": "2021-06-09T21:00:57.015Z"
   },
   {
    "duration": 372,
    "start_time": "2021-06-09T21:01:15.892Z"
   },
   {
    "duration": 39,
    "start_time": "2021-06-09T21:01:47.477Z"
   },
   {
    "duration": 468,
    "start_time": "2021-06-09T21:01:52.641Z"
   },
   {
    "duration": 146,
    "start_time": "2021-06-09T21:02:11.809Z"
   },
   {
    "duration": 822,
    "start_time": "2021-06-09T21:04:26.771Z"
   },
   {
    "duration": 10,
    "start_time": "2021-06-09T21:04:34.133Z"
   },
   {
    "duration": 4,
    "start_time": "2021-06-09T21:04:44.804Z"
   },
   {
    "duration": 5,
    "start_time": "2021-06-09T21:04:47.513Z"
   },
   {
    "duration": 50,
    "start_time": "2021-06-09T21:14:13.466Z"
   },
   {
    "duration": 361,
    "start_time": "2021-06-09T21:17:46.020Z"
   },
   {
    "duration": 16,
    "start_time": "2021-06-09T21:17:47.834Z"
   },
   {
    "duration": 16,
    "start_time": "2021-06-09T21:18:02.155Z"
   },
   {
    "duration": 11,
    "start_time": "2021-06-09T21:18:32.369Z"
   },
   {
    "duration": 7,
    "start_time": "2021-06-09T21:18:38.441Z"
   },
   {
    "duration": 7,
    "start_time": "2021-06-09T21:25:36.579Z"
   },
   {
    "duration": 7,
    "start_time": "2021-06-09T21:26:04.284Z"
   },
   {
    "duration": 15,
    "start_time": "2021-06-09T21:30:28.100Z"
   },
   {
    "duration": 1327,
    "start_time": "2021-06-10T07:13:30.517Z"
   },
   {
    "duration": 512,
    "start_time": "2021-06-10T07:13:34.889Z"
   },
   {
    "duration": 17,
    "start_time": "2021-06-10T07:13:44.877Z"
   },
   {
    "duration": 27,
    "start_time": "2021-06-10T07:13:48.773Z"
   },
   {
    "duration": 45,
    "start_time": "2021-06-10T07:13:52.123Z"
   },
   {
    "duration": 4769,
    "start_time": "2021-06-10T07:13:54.155Z"
   },
   {
    "duration": 94,
    "start_time": "2021-06-10T07:14:06.357Z"
   },
   {
    "duration": 13,
    "start_time": "2021-06-10T07:14:38.756Z"
   },
   {
    "duration": 35,
    "start_time": "2021-06-10T07:15:16.800Z"
   },
   {
    "duration": 4,
    "start_time": "2021-06-10T07:16:11.487Z"
   },
   {
    "duration": 28,
    "start_time": "2021-06-10T07:16:14.804Z"
   },
   {
    "duration": 3101,
    "start_time": "2021-06-10T07:17:05.328Z"
   },
   {
    "duration": 11,
    "start_time": "2021-06-10T07:17:15.665Z"
   },
   {
    "duration": 19,
    "start_time": "2021-06-10T07:17:20.749Z"
   },
   {
    "duration": 23,
    "start_time": "2021-06-10T07:17:25.166Z"
   },
   {
    "duration": 2650,
    "start_time": "2021-06-10T07:17:32.836Z"
   },
   {
    "duration": 15,
    "start_time": "2021-06-10T07:17:40.169Z"
   },
   {
    "duration": 9,
    "start_time": "2021-06-10T07:17:40.962Z"
   },
   {
    "duration": 6,
    "start_time": "2021-06-10T07:17:44.750Z"
   },
   {
    "duration": 5,
    "start_time": "2021-06-10T07:17:50.750Z"
   },
   {
    "duration": 6,
    "start_time": "2021-06-10T07:17:51.911Z"
   },
   {
    "duration": 11,
    "start_time": "2021-06-10T07:17:58.715Z"
   },
   {
    "duration": 41,
    "start_time": "2021-06-10T07:18:05.997Z"
   },
   {
    "duration": 131,
    "start_time": "2021-06-10T07:21:52.187Z"
   },
   {
    "duration": 14,
    "start_time": "2021-06-10T07:22:08.845Z"
   },
   {
    "duration": 5,
    "start_time": "2021-06-10T07:22:38.396Z"
   },
   {
    "duration": 5,
    "start_time": "2021-06-10T07:23:03.559Z"
   },
   {
    "duration": 14,
    "start_time": "2021-06-10T07:23:10.441Z"
   },
   {
    "duration": 20,
    "start_time": "2021-06-10T07:23:30.802Z"
   },
   {
    "duration": 13,
    "start_time": "2021-06-10T07:23:41.686Z"
   },
   {
    "duration": 35,
    "start_time": "2021-06-10T07:24:04.677Z"
   },
   {
    "duration": 3,
    "start_time": "2021-06-10T07:27:03.949Z"
   },
   {
    "duration": 29,
    "start_time": "2021-06-10T07:27:11.515Z"
   },
   {
    "duration": 8,
    "start_time": "2021-06-10T07:27:16.711Z"
   },
   {
    "duration": 470,
    "start_time": "2021-06-10T07:28:19.036Z"
   },
   {
    "duration": 369,
    "start_time": "2021-06-10T07:28:53.072Z"
   },
   {
    "duration": 113,
    "start_time": "2021-06-10T07:29:32.483Z"
   },
   {
    "duration": 283,
    "start_time": "2021-06-10T07:40:43.674Z"
   },
   {
    "duration": 308,
    "start_time": "2021-06-10T07:42:16.281Z"
   },
   {
    "duration": 325,
    "start_time": "2021-06-10T07:43:02.301Z"
   },
   {
    "duration": 100,
    "start_time": "2021-06-10T07:43:39.196Z"
   },
   {
    "duration": 16,
    "start_time": "2021-06-10T07:44:08.511Z"
   },
   {
    "duration": 24,
    "start_time": "2021-06-10T07:44:17.431Z"
   },
   {
    "duration": 24,
    "start_time": "2021-06-10T07:45:14.037Z"
   },
   {
    "duration": 24,
    "start_time": "2021-06-10T07:45:29.885Z"
   },
   {
    "duration": 8,
    "start_time": "2021-06-10T07:46:44.037Z"
   },
   {
    "duration": 23,
    "start_time": "2021-06-10T07:47:04.834Z"
   },
   {
    "duration": 23,
    "start_time": "2021-06-10T07:47:20.381Z"
   },
   {
    "duration": 24,
    "start_time": "2021-06-10T07:47:47.712Z"
   },
   {
    "duration": 21,
    "start_time": "2021-06-10T07:47:52.437Z"
   },
   {
    "duration": 32,
    "start_time": "2021-06-10T07:47:57.677Z"
   },
   {
    "duration": 8,
    "start_time": "2021-06-10T07:48:05.434Z"
   },
   {
    "duration": 23,
    "start_time": "2021-06-10T07:52:09.712Z"
   },
   {
    "duration": 98,
    "start_time": "2021-06-10T07:52:54.004Z"
   },
   {
    "duration": 24,
    "start_time": "2021-06-10T07:52:57.666Z"
   },
   {
    "duration": 24,
    "start_time": "2021-06-10T07:53:02.916Z"
   },
   {
    "duration": 7,
    "start_time": "2021-06-10T07:53:20.519Z"
   },
   {
    "duration": 24,
    "start_time": "2021-06-10T07:54:07.868Z"
   },
   {
    "duration": 8,
    "start_time": "2021-06-10T07:54:10.460Z"
   },
   {
    "duration": 279,
    "start_time": "2021-06-10T07:54:16.393Z"
   },
   {
    "duration": 8,
    "start_time": "2021-06-10T07:54:54.636Z"
   },
   {
    "duration": 22,
    "start_time": "2021-06-10T07:55:01.672Z"
   },
   {
    "duration": 8,
    "start_time": "2021-06-10T07:55:06.547Z"
   },
   {
    "duration": 7,
    "start_time": "2021-06-10T07:56:38.721Z"
   },
   {
    "duration": 14,
    "start_time": "2021-06-10T07:57:02.305Z"
   },
   {
    "duration": 16,
    "start_time": "2021-06-10T07:57:08.208Z"
   },
   {
    "duration": 18,
    "start_time": "2021-06-10T07:57:21.916Z"
   },
   {
    "duration": 39,
    "start_time": "2021-06-10T08:01:35.156Z"
   },
   {
    "duration": 44,
    "start_time": "2021-06-10T08:01:43.920Z"
   },
   {
    "duration": 45,
    "start_time": "2021-06-10T08:01:59.839Z"
   },
   {
    "duration": 32,
    "start_time": "2021-06-10T08:02:19.323Z"
   },
   {
    "duration": 46,
    "start_time": "2021-06-10T08:05:42.873Z"
   },
   {
    "duration": 48,
    "start_time": "2021-06-10T08:18:14.797Z"
   },
   {
    "duration": 46,
    "start_time": "2021-06-10T08:18:21.479Z"
   },
   {
    "duration": 291,
    "start_time": "2021-06-10T08:37:39.675Z"
   },
   {
    "duration": 264,
    "start_time": "2021-06-10T08:39:21.804Z"
   },
   {
    "duration": 23,
    "start_time": "2021-06-10T08:46:37.352Z"
   },
   {
    "duration": 6,
    "start_time": "2021-06-10T08:46:43.109Z"
   },
   {
    "duration": 9,
    "start_time": "2021-06-10T08:47:30.437Z"
   },
   {
    "duration": 7,
    "start_time": "2021-06-10T08:49:19.665Z"
   },
   {
    "duration": 23,
    "start_time": "2021-06-10T08:50:40.675Z"
   },
   {
    "duration": 7,
    "start_time": "2021-06-10T08:51:44.558Z"
   },
   {
    "duration": 8,
    "start_time": "2021-06-10T08:51:48.545Z"
   },
   {
    "duration": 33,
    "start_time": "2021-06-10T09:00:32.864Z"
   },
   {
    "duration": 276,
    "start_time": "2021-06-10T09:04:14.154Z"
   },
   {
    "duration": 21,
    "start_time": "2021-06-10T09:04:21.562Z"
   },
   {
    "duration": 33,
    "start_time": "2021-06-10T09:04:26.836Z"
   },
   {
    "duration": 32,
    "start_time": "2021-06-10T09:07:43.155Z"
   },
   {
    "duration": 35,
    "start_time": "2021-06-10T09:08:17.955Z"
   },
   {
    "duration": 14,
    "start_time": "2021-06-10T09:12:02.319Z"
   },
   {
    "duration": 14,
    "start_time": "2021-06-10T09:12:27.525Z"
   },
   {
    "duration": 34,
    "start_time": "2021-06-10T09:13:58.744Z"
   },
   {
    "duration": 16,
    "start_time": "2021-06-10T09:18:39.286Z"
   },
   {
    "duration": 36,
    "start_time": "2021-06-10T09:19:48.711Z"
   },
   {
    "duration": 16,
    "start_time": "2021-06-10T09:19:52.767Z"
   },
   {
    "duration": 16,
    "start_time": "2021-06-10T09:53:40.922Z"
   },
   {
    "duration": 105,
    "start_time": "2021-06-10T09:54:21.648Z"
   },
   {
    "duration": 22,
    "start_time": "2021-06-10T09:55:20.895Z"
   },
   {
    "duration": 14,
    "start_time": "2021-06-10T09:56:10.337Z"
   },
   {
    "duration": 14,
    "start_time": "2021-06-10T09:57:23.087Z"
   },
   {
    "duration": 14,
    "start_time": "2021-06-10T10:01:17.160Z"
   },
   {
    "duration": 14,
    "start_time": "2021-06-10T10:01:37.836Z"
   },
   {
    "duration": 15,
    "start_time": "2021-06-10T10:03:41.241Z"
   },
   {
    "duration": 214,
    "start_time": "2021-06-10T10:06:00.015Z"
   },
   {
    "duration": 17,
    "start_time": "2021-06-10T10:06:05.640Z"
   },
   {
    "duration": 334,
    "start_time": "2021-06-10T10:06:08.678Z"
   },
   {
    "duration": 1810,
    "start_time": "2021-06-10T10:32:11.159Z"
   },
   {
    "duration": 35,
    "start_time": "2021-06-10T10:35:49.254Z"
   },
   {
    "duration": 258,
    "start_time": "2021-06-10T10:37:29.613Z"
   },
   {
    "duration": 33,
    "start_time": "2021-06-10T10:38:32.320Z"
   },
   {
    "duration": 7079,
    "start_time": "2021-06-10T10:39:43.353Z"
   },
   {
    "duration": 313,
    "start_time": "2021-06-10T10:40:59.446Z"
   },
   {
    "duration": 389,
    "start_time": "2021-06-10T10:42:11.645Z"
   },
   {
    "duration": 443,
    "start_time": "2021-06-10T10:43:56.335Z"
   },
   {
    "duration": 424,
    "start_time": "2021-06-10T10:44:08.372Z"
   },
   {
    "duration": 420,
    "start_time": "2021-06-10T10:44:16.248Z"
   },
   {
    "duration": 315,
    "start_time": "2021-06-10T10:44:21.195Z"
   },
   {
    "duration": 474,
    "start_time": "2021-06-10T10:51:52.195Z"
   },
   {
    "duration": 363,
    "start_time": "2021-06-10T10:52:18.408Z"
   },
   {
    "duration": 345,
    "start_time": "2021-06-10T10:52:38.890Z"
   },
   {
    "duration": 365,
    "start_time": "2021-06-10T10:52:48.644Z"
   },
   {
    "duration": 406,
    "start_time": "2021-06-10T10:52:59.855Z"
   },
   {
    "duration": 321,
    "start_time": "2021-06-10T10:55:36.844Z"
   },
   {
    "duration": 325,
    "start_time": "2021-06-10T10:55:52.031Z"
   },
   {
    "duration": 425,
    "start_time": "2021-06-10T10:58:11.097Z"
   },
   {
    "duration": 326,
    "start_time": "2021-06-10T10:58:51.875Z"
   },
   {
    "duration": 350,
    "start_time": "2021-06-10T11:18:44.004Z"
   },
   {
    "duration": 349,
    "start_time": "2021-06-10T11:19:01.583Z"
   },
   {
    "duration": 352,
    "start_time": "2021-06-10T11:19:21.713Z"
   },
   {
    "duration": 345,
    "start_time": "2021-06-10T11:19:42.644Z"
   },
   {
    "duration": 359,
    "start_time": "2021-06-10T11:19:53.838Z"
   },
   {
    "duration": 444,
    "start_time": "2021-06-10T11:24:20.445Z"
   },
   {
    "duration": 1368,
    "start_time": "2021-06-10T11:38:23.770Z"
   },
   {
    "duration": 523,
    "start_time": "2021-06-10T11:38:26.209Z"
   },
   {
    "duration": 22,
    "start_time": "2021-06-10T11:38:30.094Z"
   },
   {
    "duration": 28,
    "start_time": "2021-06-10T11:38:34.244Z"
   },
   {
    "duration": 43,
    "start_time": "2021-06-10T11:38:36.362Z"
   },
   {
    "duration": 4778,
    "start_time": "2021-06-10T11:38:39.530Z"
   },
   {
    "duration": 12,
    "start_time": "2021-06-10T11:38:45.014Z"
   },
   {
    "duration": 22,
    "start_time": "2021-06-10T11:38:49.211Z"
   },
   {
    "duration": 28,
    "start_time": "2021-06-10T11:39:00.324Z"
   },
   {
    "duration": 3386,
    "start_time": "2021-06-10T11:39:13.124Z"
   },
   {
    "duration": 11,
    "start_time": "2021-06-10T11:39:22.311Z"
   },
   {
    "duration": 20,
    "start_time": "2021-06-10T11:39:24.241Z"
   },
   {
    "duration": 28,
    "start_time": "2021-06-10T11:39:25.096Z"
   },
   {
    "duration": 2858,
    "start_time": "2021-06-10T11:39:26.034Z"
   },
   {
    "duration": 22,
    "start_time": "2021-06-10T11:39:28.895Z"
   },
   {
    "duration": 9,
    "start_time": "2021-06-10T11:39:28.995Z"
   },
   {
    "duration": 6,
    "start_time": "2021-06-10T11:39:30.724Z"
   },
   {
    "duration": 5,
    "start_time": "2021-06-10T11:39:32.315Z"
   },
   {
    "duration": 6,
    "start_time": "2021-06-10T11:39:33.001Z"
   },
   {
    "duration": 11,
    "start_time": "2021-06-10T11:39:34.363Z"
   },
   {
    "duration": 44,
    "start_time": "2021-06-10T11:39:49.388Z"
   },
   {
    "duration": 145,
    "start_time": "2021-06-10T11:39:58.927Z"
   },
   {
    "duration": 6,
    "start_time": "2021-06-10T11:40:01.886Z"
   },
   {
    "duration": 23,
    "start_time": "2021-06-10T11:40:05.644Z"
   },
   {
    "duration": 33,
    "start_time": "2021-06-10T11:40:10.132Z"
   },
   {
    "duration": 9,
    "start_time": "2021-06-10T11:40:20.193Z"
   },
   {
    "duration": 120,
    "start_time": "2021-06-10T11:40:36.118Z"
   },
   {
    "duration": 26,
    "start_time": "2021-06-10T11:40:45.655Z"
   },
   {
    "duration": 8,
    "start_time": "2021-06-10T11:40:49.672Z"
   },
   {
    "duration": 8,
    "start_time": "2021-06-10T11:41:00.208Z"
   },
   {
    "duration": 7,
    "start_time": "2021-06-10T11:41:04.841Z"
   },
   {
    "duration": 17,
    "start_time": "2021-06-10T11:41:08.839Z"
   },
   {
    "duration": 57,
    "start_time": "2021-06-10T11:41:12.079Z"
   },
   {
    "duration": 291,
    "start_time": "2021-06-10T11:41:19.918Z"
   },
   {
    "duration": 44,
    "start_time": "2021-06-10T11:41:40.375Z"
   },
   {
    "duration": 18,
    "start_time": "2021-06-10T11:41:43.880Z"
   },
   {
    "duration": 13,
    "start_time": "2021-06-10T11:41:56.121Z"
   },
   {
    "duration": 44,
    "start_time": "2021-06-10T11:42:19.737Z"
   },
   {
    "duration": 15,
    "start_time": "2021-06-10T11:42:22.839Z"
   },
   {
    "duration": 9,
    "start_time": "2021-06-10T11:42:26.162Z"
   },
   {
    "duration": 221,
    "start_time": "2021-06-10T11:42:38.411Z"
   },
   {
    "duration": 218,
    "start_time": "2021-06-10T11:42:48.210Z"
   },
   {
    "duration": 344,
    "start_time": "2021-06-10T11:43:11.880Z"
   },
   {
    "duration": 358,
    "start_time": "2021-06-10T11:43:17.755Z"
   },
   {
    "duration": 345,
    "start_time": "2021-06-10T11:43:21.638Z"
   },
   {
    "duration": 332,
    "start_time": "2021-06-10T11:43:26.048Z"
   },
   {
    "duration": 9,
    "start_time": "2021-06-10T11:43:36.892Z"
   },
   {
    "duration": 9,
    "start_time": "2021-06-10T11:43:40.131Z"
   },
   {
    "duration": 8,
    "start_time": "2021-06-10T11:43:41.996Z"
   },
   {
    "duration": 285,
    "start_time": "2021-06-10T11:44:38.154Z"
   },
   {
    "duration": 401,
    "start_time": "2021-06-10T14:29:27.608Z"
   },
   {
    "duration": 1696,
    "start_time": "2021-06-10T14:29:51.362Z"
   },
   {
    "duration": 654,
    "start_time": "2021-06-10T14:29:53.403Z"
   },
   {
    "duration": 18,
    "start_time": "2021-06-10T14:29:57.871Z"
   },
   {
    "duration": 43,
    "start_time": "2021-06-10T14:29:59.197Z"
   },
   {
    "duration": 72,
    "start_time": "2021-06-10T14:29:59.797Z"
   },
   {
    "duration": 6951,
    "start_time": "2021-06-10T14:30:00.647Z"
   },
   {
    "duration": 19,
    "start_time": "2021-06-10T14:30:07.601Z"
   },
   {
    "duration": 42,
    "start_time": "2021-06-10T14:30:11.679Z"
   },
   {
    "duration": 38,
    "start_time": "2021-06-10T14:30:16.477Z"
   },
   {
    "duration": 5042,
    "start_time": "2021-06-10T14:30:20.279Z"
   },
   {
    "duration": 15,
    "start_time": "2021-06-10T14:30:25.324Z"
   },
   {
    "duration": 35,
    "start_time": "2021-06-10T14:30:32.955Z"
   },
   {
    "duration": 38,
    "start_time": "2021-06-10T14:30:34.749Z"
   },
   {
    "duration": 4201,
    "start_time": "2021-06-10T14:30:38.241Z"
   },
   {
    "duration": 22,
    "start_time": "2021-06-10T14:30:42.445Z"
   },
   {
    "duration": 14,
    "start_time": "2021-06-10T14:30:42.487Z"
   },
   {
    "duration": 7,
    "start_time": "2021-06-10T14:30:51.041Z"
   },
   {
    "duration": 6,
    "start_time": "2021-06-10T14:30:52.467Z"
   },
   {
    "duration": 7,
    "start_time": "2021-06-10T14:30:55.356Z"
   },
   {
    "duration": 15,
    "start_time": "2021-06-10T14:31:04.065Z"
   },
   {
    "duration": 42,
    "start_time": "2021-06-10T14:31:17.636Z"
   },
   {
    "duration": 152,
    "start_time": "2021-06-10T14:31:21.955Z"
   },
   {
    "duration": 5,
    "start_time": "2021-06-10T14:31:24.806Z"
   },
   {
    "duration": 27,
    "start_time": "2021-06-10T14:31:27.358Z"
   },
   {
    "duration": 38,
    "start_time": "2021-06-10T14:31:32.029Z"
   },
   {
    "duration": 8,
    "start_time": "2021-06-10T14:31:35.751Z"
   },
   {
    "duration": 133,
    "start_time": "2021-06-10T14:31:40.919Z"
   },
   {
    "duration": 29,
    "start_time": "2021-06-10T14:31:44.039Z"
   },
   {
    "duration": 10,
    "start_time": "2021-06-10T14:31:49.796Z"
   },
   {
    "duration": 6,
    "start_time": "2021-06-10T14:31:51.707Z"
   },
   {
    "duration": 19,
    "start_time": "2021-06-10T14:31:54.867Z"
   },
   {
    "duration": 52,
    "start_time": "2021-06-10T14:31:59.889Z"
   },
   {
    "duration": 31,
    "start_time": "2021-06-10T14:33:03.348Z"
   },
   {
    "duration": 74,
    "start_time": "2021-06-10T14:33:36.952Z"
   },
   {
    "duration": 45,
    "start_time": "2021-06-10T14:34:13.866Z"
   },
   {
    "duration": 5,
    "start_time": "2021-06-10T14:34:16.229Z"
   },
   {
    "duration": 6,
    "start_time": "2021-06-10T14:34:21.641Z"
   },
   {
    "duration": 31,
    "start_time": "2021-06-10T14:34:26.410Z"
   },
   {
    "duration": 413,
    "start_time": "2021-06-10T14:35:45.770Z"
   },
   {
    "duration": 32,
    "start_time": "2021-06-10T14:37:12.830Z"
   },
   {
    "duration": 244,
    "start_time": "2021-06-10T14:37:38.595Z"
   },
   {
    "duration": 276,
    "start_time": "2021-06-10T14:42:15.760Z"
   },
   {
    "duration": 432,
    "start_time": "2021-06-10T14:50:35.716Z"
   },
   {
    "duration": 288,
    "start_time": "2021-06-10T14:50:50.956Z"
   },
   {
    "duration": 328,
    "start_time": "2021-06-10T15:04:44.275Z"
   },
   {
    "duration": 292,
    "start_time": "2021-06-10T15:12:42.207Z"
   },
   {
    "duration": 451,
    "start_time": "2021-06-10T15:18:25.721Z"
   },
   {
    "duration": 506,
    "start_time": "2021-06-10T15:19:00.957Z"
   },
   {
    "duration": 433,
    "start_time": "2021-06-10T15:20:49.275Z"
   },
   {
    "duration": 448,
    "start_time": "2021-06-10T15:21:12.207Z"
   },
   {
    "duration": 485,
    "start_time": "2021-06-10T15:31:57.615Z"
   },
   {
    "duration": 272,
    "start_time": "2021-06-10T15:35:38.598Z"
   },
   {
    "duration": 1747,
    "start_time": "2021-06-10T15:44:22.727Z"
   },
   {
    "duration": 301,
    "start_time": "2021-06-10T15:49:36.213Z"
   },
   {
    "duration": 250,
    "start_time": "2021-06-10T15:57:10.578Z"
   },
   {
    "duration": 244,
    "start_time": "2021-06-10T15:57:55.316Z"
   },
   {
    "duration": 245,
    "start_time": "2021-06-10T15:58:57.715Z"
   },
   {
    "duration": 259,
    "start_time": "2021-06-10T15:59:53.932Z"
   },
   {
    "duration": 3584,
    "start_time": "2021-06-10T16:00:41.536Z"
   },
   {
    "duration": 452,
    "start_time": "2021-06-10T16:01:21.484Z"
   },
   {
    "duration": 334,
    "start_time": "2021-06-10T16:02:39.006Z"
   },
   {
    "duration": 85,
    "start_time": "2021-06-10T16:18:51.681Z"
   },
   {
    "duration": 315,
    "start_time": "2021-06-10T16:30:36.404Z"
   },
   {
    "duration": 334,
    "start_time": "2021-06-10T16:30:52.696Z"
   },
   {
    "duration": 348,
    "start_time": "2021-06-10T16:31:15.992Z"
   },
   {
    "duration": 279,
    "start_time": "2021-06-10T16:31:57.297Z"
   },
   {
    "duration": 1400,
    "start_time": "2021-06-10T16:37:48.158Z"
   },
   {
    "duration": 522,
    "start_time": "2021-06-10T16:37:50.687Z"
   },
   {
    "duration": 18,
    "start_time": "2021-06-10T16:37:53.894Z"
   },
   {
    "duration": 31,
    "start_time": "2021-06-10T16:37:56.989Z"
   },
   {
    "duration": 42,
    "start_time": "2021-06-10T16:37:59.530Z"
   },
   {
    "duration": 6250,
    "start_time": "2021-06-10T16:38:04.873Z"
   },
   {
    "duration": 19,
    "start_time": "2021-06-10T16:38:15.852Z"
   },
   {
    "duration": 31,
    "start_time": "2021-06-10T16:38:18.388Z"
   },
   {
    "duration": 29,
    "start_time": "2021-06-10T16:38:24.156Z"
   },
   {
    "duration": 3583,
    "start_time": "2021-06-10T16:38:31.037Z"
   },
   {
    "duration": 15,
    "start_time": "2021-06-10T16:38:38.330Z"
   },
   {
    "duration": 18,
    "start_time": "2021-06-10T16:38:40.830Z"
   },
   {
    "duration": 28,
    "start_time": "2021-06-10T16:38:43.438Z"
   },
   {
    "duration": 2707,
    "start_time": "2021-06-10T16:38:46.669Z"
   },
   {
    "duration": 18,
    "start_time": "2021-06-10T16:38:52.364Z"
   },
   {
    "duration": 9,
    "start_time": "2021-06-10T16:38:56.435Z"
   },
   {
    "duration": 5,
    "start_time": "2021-06-10T16:38:58.927Z"
   },
   {
    "duration": 4,
    "start_time": "2021-06-10T16:39:00.812Z"
   },
   {
    "duration": 7,
    "start_time": "2021-06-10T16:39:02.849Z"
   },
   {
    "duration": 12,
    "start_time": "2021-06-10T16:39:06.029Z"
   },
   {
    "duration": 43,
    "start_time": "2021-06-10T16:39:10.471Z"
   },
   {
    "duration": 130,
    "start_time": "2021-06-10T16:39:23.281Z"
   },
   {
    "duration": 5,
    "start_time": "2021-06-10T16:39:25.560Z"
   },
   {
    "duration": 21,
    "start_time": "2021-06-10T16:39:27.956Z"
   },
   {
    "duration": 34,
    "start_time": "2021-06-10T16:39:32.594Z"
   },
   {
    "duration": 8,
    "start_time": "2021-06-10T16:39:36.681Z"
   },
   {
    "duration": 111,
    "start_time": "2021-06-10T16:39:42.003Z"
   },
   {
    "duration": 25,
    "start_time": "2021-06-10T16:39:46.636Z"
   },
   {
    "duration": 10,
    "start_time": "2021-06-10T16:39:49.326Z"
   },
   {
    "duration": 8,
    "start_time": "2021-06-10T16:39:52.072Z"
   },
   {
    "duration": 18,
    "start_time": "2021-06-10T16:39:59.651Z"
   },
   {
    "duration": 46,
    "start_time": "2021-06-10T16:40:00.399Z"
   },
   {
    "duration": 5,
    "start_time": "2021-06-10T16:40:01.088Z"
   },
   {
    "duration": 7,
    "start_time": "2021-06-10T16:40:02.083Z"
   },
   {
    "duration": 289,
    "start_time": "2021-06-10T16:40:30.885Z"
   },
   {
    "duration": 1486,
    "start_time": "2021-06-10T19:27:33.794Z"
   },
   {
    "duration": 542,
    "start_time": "2021-06-10T19:27:35.283Z"
   },
   {
    "duration": 22,
    "start_time": "2021-06-10T19:27:35.829Z"
   },
   {
    "duration": 29,
    "start_time": "2021-06-10T19:27:35.853Z"
   },
   {
    "duration": 72,
    "start_time": "2021-06-10T19:27:35.884Z"
   },
   {
    "duration": 5069,
    "start_time": "2021-06-10T19:27:35.959Z"
   },
   {
    "duration": 110,
    "start_time": "2021-06-10T19:27:41.031Z"
   },
   {
    "duration": 13,
    "start_time": "2021-06-10T19:27:41.144Z"
   },
   {
    "duration": 24,
    "start_time": "2021-06-10T19:27:41.160Z"
   },
   {
    "duration": 3,
    "start_time": "2021-06-10T19:27:41.187Z"
   },
   {
    "duration": 63,
    "start_time": "2021-06-10T19:27:41.192Z"
   },
   {
    "duration": 3827,
    "start_time": "2021-06-10T19:27:41.258Z"
   },
   {
    "duration": 11,
    "start_time": "2021-06-10T19:27:45.088Z"
   },
   {
    "duration": 43,
    "start_time": "2021-06-10T19:27:45.102Z"
   },
   {
    "duration": 27,
    "start_time": "2021-06-10T19:27:45.148Z"
   },
   {
    "duration": 3470,
    "start_time": "2021-06-10T19:27:45.177Z"
   },
   {
    "duration": 15,
    "start_time": "2021-06-10T19:27:48.649Z"
   },
   {
    "duration": 10,
    "start_time": "2021-06-10T19:27:48.666Z"
   },
   {
    "duration": 7,
    "start_time": "2021-06-10T19:27:48.679Z"
   },
   {
    "duration": 37,
    "start_time": "2021-06-10T19:27:48.688Z"
   },
   {
    "duration": 9,
    "start_time": "2021-06-10T19:27:48.729Z"
   },
   {
    "duration": 15,
    "start_time": "2021-06-10T19:27:48.741Z"
   },
   {
    "duration": 64,
    "start_time": "2021-06-10T19:27:48.761Z"
   },
   {
    "duration": 160,
    "start_time": "2021-06-10T19:27:48.828Z"
   },
   {
    "duration": 5,
    "start_time": "2021-06-10T19:27:48.990Z"
   },
   {
    "duration": 38,
    "start_time": "2021-06-10T19:27:48.997Z"
   },
   {
    "duration": 38,
    "start_time": "2021-06-10T19:27:49.038Z"
   },
   {
    "duration": 10,
    "start_time": "2021-06-10T19:27:49.079Z"
   },
   {
    "duration": 4,
    "start_time": "2021-06-10T19:27:49.091Z"
   },
   {
    "duration": 137,
    "start_time": "2021-06-10T19:27:49.126Z"
   },
   {
    "duration": 24,
    "start_time": "2021-06-10T19:27:49.266Z"
   },
   {
    "duration": 7,
    "start_time": "2021-06-10T19:27:49.293Z"
   },
   {
    "duration": 29,
    "start_time": "2021-06-10T19:27:49.303Z"
   },
   {
    "duration": 22,
    "start_time": "2021-06-10T19:27:49.335Z"
   },
   {
    "duration": 45,
    "start_time": "2021-06-10T19:27:49.359Z"
   },
   {
    "duration": 20,
    "start_time": "2021-06-10T19:27:49.406Z"
   },
   {
    "duration": 8,
    "start_time": "2021-06-10T19:27:49.429Z"
   },
   {
    "duration": 6,
    "start_time": "2021-06-10T19:27:51.821Z"
   },
   {
    "duration": 34,
    "start_time": "2021-06-10T19:28:42.079Z"
   },
   {
    "duration": 36,
    "start_time": "2021-06-10T19:31:30.687Z"
   },
   {
    "duration": 10576,
    "start_time": "2021-06-10T19:51:51.970Z"
   },
   {
    "duration": 13005,
    "start_time": "2021-06-10T19:52:12.617Z"
   },
   {
    "duration": 35,
    "start_time": "2021-06-10T19:53:22.968Z"
   },
   {
    "duration": 6741,
    "start_time": "2021-06-10T19:53:30.142Z"
   },
   {
    "duration": 5,
    "start_time": "2021-06-10T19:53:58.867Z"
   },
   {
    "duration": 599,
    "start_time": "2021-06-10T19:53:58.875Z"
   },
   {
    "duration": 13,
    "start_time": "2021-06-10T19:53:59.476Z"
   },
   {
    "duration": 31,
    "start_time": "2021-06-10T19:53:59.492Z"
   },
   {
    "duration": 51,
    "start_time": "2021-06-10T19:53:59.526Z"
   },
   {
    "duration": 6126,
    "start_time": "2021-06-10T19:53:59.581Z"
   },
   {
    "duration": 141,
    "start_time": "2021-06-10T19:54:05.711Z"
   },
   {
    "duration": 12,
    "start_time": "2021-06-10T19:54:05.855Z"
   },
   {
    "duration": 25,
    "start_time": "2021-06-10T19:54:05.870Z"
   },
   {
    "duration": 4,
    "start_time": "2021-06-10T19:54:05.926Z"
   },
   {
    "duration": 34,
    "start_time": "2021-06-10T19:54:05.934Z"
   },
   {
    "duration": 4101,
    "start_time": "2021-06-10T19:54:05.971Z"
   },
   {
    "duration": 11,
    "start_time": "2021-06-10T19:54:10.074Z"
   },
   {
    "duration": 38,
    "start_time": "2021-06-10T19:54:10.087Z"
   },
   {
    "duration": 30,
    "start_time": "2021-06-10T19:54:10.129Z"
   },
   {
    "duration": 3232,
    "start_time": "2021-06-10T19:54:10.161Z"
   },
   {
    "duration": 17,
    "start_time": "2021-06-10T19:54:13.396Z"
   },
   {
    "duration": 11,
    "start_time": "2021-06-10T19:54:13.427Z"
   },
   {
    "duration": 9,
    "start_time": "2021-06-10T19:54:13.446Z"
   },
   {
    "duration": 5,
    "start_time": "2021-06-10T19:54:13.460Z"
   },
   {
    "duration": 10,
    "start_time": "2021-06-10T19:54:13.467Z"
   },
   {
    "duration": 55,
    "start_time": "2021-06-10T19:54:13.479Z"
   },
   {
    "duration": 41,
    "start_time": "2021-06-10T19:54:13.537Z"
   },
   {
    "duration": 163,
    "start_time": "2021-06-10T19:54:13.580Z"
   },
   {
    "duration": 5,
    "start_time": "2021-06-10T19:54:13.746Z"
   },
   {
    "duration": 23,
    "start_time": "2021-06-10T19:54:13.754Z"
   },
   {
    "duration": 63,
    "start_time": "2021-06-10T19:54:13.780Z"
   },
   {
    "duration": 8,
    "start_time": "2021-06-10T19:54:13.845Z"
   },
   {
    "duration": 5,
    "start_time": "2021-06-10T19:54:13.855Z"
   },
   {
    "duration": 146,
    "start_time": "2021-06-10T19:54:13.862Z"
   },
   {
    "duration": 31,
    "start_time": "2021-06-10T19:54:14.010Z"
   },
   {
    "duration": 8,
    "start_time": "2021-06-10T19:54:14.044Z"
   },
   {
    "duration": 7,
    "start_time": "2021-06-10T19:54:14.054Z"
   },
   {
    "duration": 23,
    "start_time": "2021-06-10T19:54:14.063Z"
   },
   {
    "duration": 84,
    "start_time": "2021-06-10T19:54:14.088Z"
   },
   {
    "duration": 4,
    "start_time": "2021-06-10T19:54:14.174Z"
   },
   {
    "duration": 6,
    "start_time": "2021-06-10T19:54:14.181Z"
   },
   {
    "duration": 7,
    "start_time": "2021-06-10T19:54:14.190Z"
   },
   {
    "duration": 339,
    "start_time": "2021-06-10T19:54:14.226Z"
   },
   {
    "duration": 6733,
    "start_time": "2021-06-10T19:54:14.569Z"
   },
   {
    "duration": 21,
    "start_time": "2021-06-10T19:54:21.305Z"
   },
   {
    "duration": 36,
    "start_time": "2021-06-10T19:54:21.329Z"
   },
   {
    "duration": 16,
    "start_time": "2021-06-10T19:54:21.367Z"
   },
   {
    "duration": 42,
    "start_time": "2021-06-10T19:54:21.386Z"
   },
   {
    "duration": 42,
    "start_time": "2021-06-10T19:54:21.431Z"
   },
   {
    "duration": 55,
    "start_time": "2021-06-10T19:54:21.475Z"
   },
   {
    "duration": 14,
    "start_time": "2021-06-10T19:54:21.532Z"
   },
   {
    "duration": 264,
    "start_time": "2021-06-10T19:54:21.548Z"
   },
   {
    "duration": 246,
    "start_time": "2021-06-10T19:54:21.814Z"
   },
   {
    "duration": 462,
    "start_time": "2021-06-10T19:54:22.064Z"
   },
   {
    "duration": 367,
    "start_time": "2021-06-10T19:54:22.528Z"
   },
   {
    "duration": 386,
    "start_time": "2021-06-10T19:54:22.898Z"
   },
   {
    "duration": 393,
    "start_time": "2021-06-10T19:54:23.286Z"
   },
   {
    "duration": 8,
    "start_time": "2021-06-10T19:54:23.682Z"
   },
   {
    "duration": 30,
    "start_time": "2021-06-10T19:54:23.697Z"
   },
   {
    "duration": 17,
    "start_time": "2021-06-10T19:54:23.730Z"
   },
   {
    "duration": 102,
    "start_time": "2021-06-10T19:57:01.003Z"
   },
   {
    "duration": 873,
    "start_time": "2021-06-10T19:57:05.239Z"
   },
   {
    "duration": 611,
    "start_time": "2021-06-10T19:58:52.184Z"
   },
   {
    "duration": 643,
    "start_time": "2021-06-10T19:59:24.892Z"
   },
   {
    "duration": 54,
    "start_time": "2021-06-10T20:01:32.188Z"
   },
   {
    "duration": 50,
    "start_time": "2021-06-10T20:02:27.726Z"
   },
   {
    "duration": 112,
    "start_time": "2021-06-10T20:03:23.330Z"
   },
   {
    "duration": 5,
    "start_time": "2021-06-10T20:03:46.129Z"
   },
   {
    "duration": 601,
    "start_time": "2021-06-10T20:03:46.137Z"
   },
   {
    "duration": 13,
    "start_time": "2021-06-10T20:03:46.741Z"
   },
   {
    "duration": 43,
    "start_time": "2021-06-10T20:03:46.758Z"
   },
   {
    "duration": 61,
    "start_time": "2021-06-10T20:03:46.804Z"
   },
   {
    "duration": 5085,
    "start_time": "2021-06-10T20:03:46.867Z"
   },
   {
    "duration": 113,
    "start_time": "2021-06-10T20:03:51.956Z"
   },
   {
    "duration": 13,
    "start_time": "2021-06-10T20:03:52.073Z"
   },
   {
    "duration": 52,
    "start_time": "2021-06-10T20:03:52.089Z"
   },
   {
    "duration": 3,
    "start_time": "2021-06-10T20:03:52.144Z"
   },
   {
    "duration": 59,
    "start_time": "2021-06-10T20:03:52.149Z"
   },
   {
    "duration": 4458,
    "start_time": "2021-06-10T20:03:52.211Z"
   },
   {
    "duration": 10,
    "start_time": "2021-06-10T20:03:56.672Z"
   },
   {
    "duration": 22,
    "start_time": "2021-06-10T20:03:56.684Z"
   },
   {
    "duration": 36,
    "start_time": "2021-06-10T20:03:56.727Z"
   },
   {
    "duration": 5082,
    "start_time": "2021-06-10T20:03:56.766Z"
   },
   {
    "duration": 21,
    "start_time": "2021-06-10T20:04:01.852Z"
   },
   {
    "duration": 40,
    "start_time": "2021-06-10T20:04:01.876Z"
   },
   {
    "duration": 24,
    "start_time": "2021-06-10T20:04:01.921Z"
   },
   {
    "duration": 28,
    "start_time": "2021-06-10T20:04:01.949Z"
   },
   {
    "duration": 23,
    "start_time": "2021-06-10T20:04:01.980Z"
   },
   {
    "duration": 27,
    "start_time": "2021-06-10T20:04:02.006Z"
   },
   {
    "duration": 56,
    "start_time": "2021-06-10T20:04:02.036Z"
   },
   {
    "duration": 203,
    "start_time": "2021-06-10T20:04:02.095Z"
   },
   {
    "duration": 6,
    "start_time": "2021-06-10T20:04:02.301Z"
   },
   {
    "duration": 36,
    "start_time": "2021-06-10T20:04:02.309Z"
   },
   {
    "duration": 50,
    "start_time": "2021-06-10T20:04:02.348Z"
   },
   {
    "duration": 31,
    "start_time": "2021-06-10T20:04:02.401Z"
   },
   {
    "duration": 5,
    "start_time": "2021-06-10T20:04:02.435Z"
   },
   {
    "duration": 144,
    "start_time": "2021-06-10T20:04:02.443Z"
   },
   {
    "duration": 35,
    "start_time": "2021-06-10T20:04:02.590Z"
   },
   {
    "duration": 10,
    "start_time": "2021-06-10T20:04:02.628Z"
   },
   {
    "duration": 10,
    "start_time": "2021-06-10T20:04:02.641Z"
   },
   {
    "duration": 24,
    "start_time": "2021-06-10T20:04:02.654Z"
   },
   {
    "duration": 86,
    "start_time": "2021-06-10T20:04:02.681Z"
   },
   {
    "duration": 4,
    "start_time": "2021-06-10T20:04:02.769Z"
   },
   {
    "duration": 11,
    "start_time": "2021-06-10T20:04:02.776Z"
   },
   {
    "duration": 11,
    "start_time": "2021-06-10T20:04:02.790Z"
   },
   {
    "duration": 525,
    "start_time": "2021-06-10T20:04:02.803Z"
   },
   {
    "duration": 6922,
    "start_time": "2021-06-10T20:04:03.331Z"
   },
   {
    "duration": 7,
    "start_time": "2021-06-10T20:04:10.256Z"
   },
   {
    "duration": 68,
    "start_time": "2021-06-10T20:04:10.265Z"
   },
   {
    "duration": 18,
    "start_time": "2021-06-10T20:04:10.336Z"
   },
   {
    "duration": 10,
    "start_time": "2021-06-10T20:04:10.357Z"
   },
   {
    "duration": 68,
    "start_time": "2021-06-10T20:04:10.369Z"
   },
   {
    "duration": 19,
    "start_time": "2021-06-10T20:04:10.439Z"
   },
   {
    "duration": 10,
    "start_time": "2021-06-10T20:04:10.461Z"
   },
   {
    "duration": 263,
    "start_time": "2021-06-10T20:04:10.473Z"
   },
   {
    "duration": 243,
    "start_time": "2021-06-10T20:04:10.738Z"
   },
   {
    "duration": 378,
    "start_time": "2021-06-10T20:04:10.983Z"
   },
   {
    "duration": 636,
    "start_time": "2021-06-10T20:04:11.363Z"
   },
   {
    "duration": 369,
    "start_time": "2021-06-10T20:04:12.002Z"
   },
   {
    "duration": 384,
    "start_time": "2021-06-10T20:04:12.374Z"
   },
   {
    "duration": 350,
    "start_time": "2021-06-10T20:04:12.762Z"
   },
   {
    "duration": 52,
    "start_time": "2021-06-10T20:04:13.128Z"
   },
   {
    "duration": 123,
    "start_time": "2021-06-10T20:04:13.183Z"
   },
   {
    "duration": 21,
    "start_time": "2021-06-10T20:04:13.309Z"
   },
   {
    "duration": 14,
    "start_time": "2021-06-10T20:04:13.333Z"
   },
   {
    "duration": 10,
    "start_time": "2021-06-10T20:04:13.350Z"
   },
   {
    "duration": 8711,
    "start_time": "2021-06-10T20:04:24.838Z"
   },
   {
    "duration": 14,
    "start_time": "2021-06-10T20:04:42.101Z"
   },
   {
    "duration": 380,
    "start_time": "2021-06-11T07:43:31.260Z"
   },
   {
    "duration": 1382,
    "start_time": "2021-06-11T07:43:49.962Z"
   },
   {
    "duration": 532,
    "start_time": "2021-06-11T07:43:53.259Z"
   },
   {
    "duration": 16,
    "start_time": "2021-06-11T07:43:58.810Z"
   },
   {
    "duration": 28,
    "start_time": "2021-06-11T07:43:59.682Z"
   },
   {
    "duration": 43,
    "start_time": "2021-06-11T07:44:00.398Z"
   },
   {
    "duration": 4735,
    "start_time": "2021-06-11T07:44:01.553Z"
   },
   {
    "duration": 14,
    "start_time": "2021-06-11T07:44:17.243Z"
   },
   {
    "duration": 38,
    "start_time": "2021-06-11T07:44:20.205Z"
   },
   {
    "duration": 31,
    "start_time": "2021-06-11T07:44:26.368Z"
   },
   {
    "duration": 3332,
    "start_time": "2021-06-11T07:44:30.525Z"
   },
   {
    "duration": 11,
    "start_time": "2021-06-11T07:44:33.859Z"
   },
   {
    "duration": 30,
    "start_time": "2021-06-11T07:44:33.873Z"
   },
   {
    "duration": 26,
    "start_time": "2021-06-11T07:44:37.366Z"
   },
   {
    "duration": 2819,
    "start_time": "2021-06-11T07:44:38.148Z"
   },
   {
    "duration": 16,
    "start_time": "2021-06-11T07:44:44.594Z"
   },
   {
    "duration": 10,
    "start_time": "2021-06-11T07:44:48.052Z"
   },
   {
    "duration": 6,
    "start_time": "2021-06-11T07:44:50.788Z"
   },
   {
    "duration": 4,
    "start_time": "2021-06-11T07:44:51.742Z"
   },
   {
    "duration": 6,
    "start_time": "2021-06-11T07:44:52.379Z"
   },
   {
    "duration": 12,
    "start_time": "2021-06-11T07:45:01.450Z"
   },
   {
    "duration": 47,
    "start_time": "2021-06-11T07:45:06.867Z"
   },
   {
    "duration": 137,
    "start_time": "2021-06-11T07:45:14.500Z"
   },
   {
    "duration": 5,
    "start_time": "2021-06-11T07:45:37.847Z"
   },
   {
    "duration": 20,
    "start_time": "2021-06-11T07:45:45.287Z"
   },
   {
    "duration": 38,
    "start_time": "2021-06-11T07:45:49.495Z"
   },
   {
    "duration": 9,
    "start_time": "2021-06-11T07:45:57.036Z"
   },
   {
    "duration": 115,
    "start_time": "2021-06-11T07:46:25.323Z"
   },
   {
    "duration": 25,
    "start_time": "2021-06-11T07:46:29.464Z"
   },
   {
    "duration": 14,
    "start_time": "2021-06-11T07:46:39.588Z"
   },
   {
    "duration": 24,
    "start_time": "2021-06-11T07:46:57.882Z"
   },
   {
    "duration": 14,
    "start_time": "2021-06-11T07:47:00.225Z"
   },
   {
    "duration": 26,
    "start_time": "2021-06-11T07:48:42.067Z"
   },
   {
    "duration": 16,
    "start_time": "2021-06-11T07:48:45.624Z"
   },
   {
    "duration": 1937,
    "start_time": "2021-06-11T07:49:13.762Z"
   },
   {
    "duration": 656,
    "start_time": "2021-06-11T07:49:15.703Z"
   },
   {
    "duration": 18,
    "start_time": "2021-06-11T07:49:18.541Z"
   },
   {
    "duration": 45,
    "start_time": "2021-06-11T07:49:21.266Z"
   },
   {
    "duration": 106,
    "start_time": "2021-06-11T07:49:21.970Z"
   },
   {
    "duration": 4833,
    "start_time": "2021-06-11T07:49:22.645Z"
   },
   {
    "duration": 90,
    "start_time": "2021-06-11T07:49:27.481Z"
   },
   {
    "duration": 21,
    "start_time": "2021-06-11T07:49:27.574Z"
   },
   {
    "duration": 25,
    "start_time": "2021-06-11T07:49:37.356Z"
   },
   {
    "duration": 30,
    "start_time": "2021-06-11T07:49:45.241Z"
   },
   {
    "duration": 3513,
    "start_time": "2021-06-11T07:49:46.072Z"
   },
   {
    "duration": 12,
    "start_time": "2021-06-11T07:49:49.588Z"
   },
   {
    "duration": 32,
    "start_time": "2021-06-11T07:49:49.605Z"
   },
   {
    "duration": 40,
    "start_time": "2021-06-11T07:49:51.105Z"
   },
   {
    "duration": 5263,
    "start_time": "2021-06-11T07:49:53.154Z"
   },
   {
    "duration": 23,
    "start_time": "2021-06-11T07:49:58.421Z"
   },
   {
    "duration": 13,
    "start_time": "2021-06-11T07:49:59.460Z"
   },
   {
    "duration": 9,
    "start_time": "2021-06-11T07:50:00.658Z"
   },
   {
    "duration": 6,
    "start_time": "2021-06-11T07:50:01.861Z"
   },
   {
    "duration": 10,
    "start_time": "2021-06-11T07:50:04.118Z"
   },
   {
    "duration": 16,
    "start_time": "2021-06-11T07:50:05.164Z"
   },
   {
    "duration": 60,
    "start_time": "2021-06-11T07:50:07.699Z"
   },
   {
    "duration": 145,
    "start_time": "2021-06-11T07:50:13.637Z"
   },
   {
    "duration": 5,
    "start_time": "2021-06-11T07:50:17.040Z"
   },
   {
    "duration": 19,
    "start_time": "2021-06-11T07:50:21.507Z"
   },
   {
    "duration": 38,
    "start_time": "2021-06-11T07:50:23.793Z"
   },
   {
    "duration": 9,
    "start_time": "2021-06-11T07:50:29.055Z"
   },
   {
    "duration": 121,
    "start_time": "2021-06-11T07:50:45.659Z"
   },
   {
    "duration": 24,
    "start_time": "2021-06-11T07:50:49.985Z"
   },
   {
    "duration": 23,
    "start_time": "2021-06-11T07:50:59.196Z"
   },
   {
    "duration": 8,
    "start_time": "2021-06-11T07:51:11.107Z"
   },
   {
    "duration": 7,
    "start_time": "2021-06-11T07:51:14.464Z"
   },
   {
    "duration": 17,
    "start_time": "2021-06-11T07:51:18.992Z"
   },
   {
    "duration": 45,
    "start_time": "2021-06-11T07:51:19.793Z"
   },
   {
    "duration": 5,
    "start_time": "2021-06-11T07:51:20.994Z"
   },
   {
    "duration": 6,
    "start_time": "2021-06-11T07:51:23.184Z"
   },
   {
    "duration": 52,
    "start_time": "2021-06-11T07:53:28.555Z"
   },
   {
    "duration": 6,
    "start_time": "2021-06-11T07:53:41.560Z"
   },
   {
    "duration": 52,
    "start_time": "2021-06-11T07:53:47.726Z"
   },
   {
    "duration": 463,
    "start_time": "2021-06-11T09:51:36.341Z"
   },
   {
    "duration": 1455,
    "start_time": "2021-06-11T10:04:59.471Z"
   },
   {
    "duration": 575,
    "start_time": "2021-06-11T10:05:03.190Z"
   },
   {
    "duration": 18,
    "start_time": "2021-06-11T10:05:10.120Z"
   },
   {
    "duration": 30,
    "start_time": "2021-06-11T10:05:13.099Z"
   },
   {
    "duration": 44,
    "start_time": "2021-06-11T10:05:17.265Z"
   },
   {
    "duration": 4756,
    "start_time": "2021-06-11T10:05:24.334Z"
   },
   {
    "duration": 12,
    "start_time": "2021-06-11T10:05:34.355Z"
   },
   {
    "duration": 24,
    "start_time": "2021-06-11T10:05:37.766Z"
   },
   {
    "duration": 46,
    "start_time": "2021-06-11T10:05:45.552Z"
   },
   {
    "duration": 3459,
    "start_time": "2021-06-11T10:05:53.064Z"
   },
   {
    "duration": 12,
    "start_time": "2021-06-11T10:06:04.176Z"
   },
   {
    "duration": 20,
    "start_time": "2021-06-11T10:06:08.015Z"
   },
   {
    "duration": 26,
    "start_time": "2021-06-11T10:06:10.915Z"
   },
   {
    "duration": 5237,
    "start_time": "2021-06-11T10:06:15.777Z"
   },
   {
    "duration": 23,
    "start_time": "2021-06-11T10:06:27.697Z"
   },
   {
    "duration": 8,
    "start_time": "2021-06-11T10:06:30.850Z"
   },
   {
    "duration": 6,
    "start_time": "2021-06-11T10:06:32.923Z"
   },
   {
    "duration": 4,
    "start_time": "2021-06-11T10:06:36.085Z"
   },
   {
    "duration": 9,
    "start_time": "2021-06-11T10:06:38.909Z"
   },
   {
    "duration": 12,
    "start_time": "2021-06-11T10:06:41.848Z"
   },
   {
    "duration": 47,
    "start_time": "2021-06-11T10:06:48.498Z"
   },
   {
    "duration": 132,
    "start_time": "2021-06-11T10:07:03.631Z"
   },
   {
    "duration": 6,
    "start_time": "2021-06-11T10:07:27.339Z"
   },
   {
    "duration": 21,
    "start_time": "2021-06-11T10:07:29.979Z"
   },
   {
    "duration": 37,
    "start_time": "2021-06-11T10:07:34.208Z"
   },
   {
    "duration": 10,
    "start_time": "2021-06-11T10:08:15.162Z"
   },
   {
    "duration": 123,
    "start_time": "2021-06-11T10:08:47.275Z"
   },
   {
    "duration": 26,
    "start_time": "2021-06-11T10:08:54.741Z"
   },
   {
    "duration": 9,
    "start_time": "2021-06-11T10:09:05.769Z"
   },
   {
    "duration": 7,
    "start_time": "2021-06-11T10:09:09.211Z"
   },
   {
    "duration": 19,
    "start_time": "2021-06-11T10:09:20.724Z"
   },
   {
    "duration": 67,
    "start_time": "2021-06-11T10:09:29.930Z"
   },
   {
    "duration": 5,
    "start_time": "2021-06-11T10:09:47.740Z"
   },
   {
    "duration": 6,
    "start_time": "2021-06-11T10:09:51.695Z"
   },
   {
    "duration": 6,
    "start_time": "2021-06-11T10:09:54.286Z"
   },
   {
    "duration": 489,
    "start_time": "2021-06-11T10:11:32.496Z"
   },
   {
    "duration": 6,
    "start_time": "2021-06-11T10:11:38.789Z"
   },
   {
    "duration": 7508,
    "start_time": "2021-06-11T10:11:57.413Z"
   },
   {
    "duration": 58,
    "start_time": "2021-06-11T10:12:34.826Z"
   },
   {
    "duration": 22,
    "start_time": "2021-06-11T10:13:34.573Z"
   },
   {
    "duration": 18,
    "start_time": "2021-06-11T10:13:40.580Z"
   },
   {
    "duration": 9,
    "start_time": "2021-06-11T10:14:06.426Z"
   },
   {
    "duration": 17,
    "start_time": "2021-06-11T10:14:17.652Z"
   },
   {
    "duration": 35,
    "start_time": "2021-06-11T10:14:38.217Z"
   },
   {
    "duration": 17,
    "start_time": "2021-06-11T10:14:41.719Z"
   },
   {
    "duration": 13,
    "start_time": "2021-06-11T10:14:45.305Z"
   },
   {
    "duration": 15,
    "start_time": "2021-06-11T10:14:52.228Z"
   },
   {
    "duration": 236,
    "start_time": "2021-06-11T10:15:02.844Z"
   },
   {
    "duration": 226,
    "start_time": "2021-06-11T10:15:07.608Z"
   },
   {
    "duration": 372,
    "start_time": "2021-06-11T10:15:32.777Z"
   },
   {
    "duration": 849,
    "start_time": "2021-06-11T10:19:03.940Z"
   },
   {
    "duration": 913,
    "start_time": "2021-06-11T10:21:04.163Z"
   },
   {
    "duration": 1218,
    "start_time": "2021-06-11T10:22:04.819Z"
   },
   {
    "duration": 857,
    "start_time": "2021-06-11T10:22:22.269Z"
   },
   {
    "duration": 670,
    "start_time": "2021-06-11T10:30:59.110Z"
   },
   {
    "duration": 489,
    "start_time": "2021-06-11T10:34:20.745Z"
   },
   {
    "duration": 22877,
    "start_time": "2021-06-11T10:35:05.717Z"
   },
   {
    "duration": 370,
    "start_time": "2021-06-11T10:35:46.264Z"
   },
   {
    "duration": 409,
    "start_time": "2021-06-11T10:36:03.876Z"
   },
   {
    "duration": 197,
    "start_time": "2021-06-11T10:37:44.729Z"
   },
   {
    "duration": 343,
    "start_time": "2021-06-11T10:37:56.894Z"
   },
   {
    "duration": 355,
    "start_time": "2021-06-11T10:38:53.996Z"
   },
   {
    "duration": 126,
    "start_time": "2021-06-11T10:39:02.027Z"
   },
   {
    "duration": 108,
    "start_time": "2021-06-11T10:39:13.810Z"
   },
   {
    "duration": 346,
    "start_time": "2021-06-11T10:39:51.957Z"
   },
   {
    "duration": 725,
    "start_time": "2021-06-11T10:40:02.309Z"
   },
   {
    "duration": 1017,
    "start_time": "2021-06-11T10:40:23.220Z"
   },
   {
    "duration": 1530,
    "start_time": "2021-06-11T10:41:20.821Z"
   },
   {
    "duration": 1259,
    "start_time": "2021-06-11T10:46:15.036Z"
   },
   {
    "duration": 335,
    "start_time": "2021-06-11T10:46:53.812Z"
   },
   {
    "duration": 104,
    "start_time": "2021-06-11T10:49:22.352Z"
   },
   {
    "duration": 333,
    "start_time": "2021-06-11T10:49:36.280Z"
   },
   {
    "duration": 330,
    "start_time": "2021-06-11T10:52:51.487Z"
   },
   {
    "duration": 353,
    "start_time": "2021-06-11T10:53:06.719Z"
   },
   {
    "duration": 336,
    "start_time": "2021-06-11T11:49:51.219Z"
   },
   {
    "duration": 395,
    "start_time": "2021-06-11T11:50:41.355Z"
   },
   {
    "duration": 535,
    "start_time": "2021-06-11T11:50:57.981Z"
   },
   {
    "duration": 395,
    "start_time": "2021-06-11T11:52:13.790Z"
   },
   {
    "duration": 404,
    "start_time": "2021-06-11T11:52:49.520Z"
   },
   {
    "duration": 531,
    "start_time": "2021-06-11T11:53:15.523Z"
   },
   {
    "duration": 121,
    "start_time": "2021-06-11T11:53:43.016Z"
   },
   {
    "duration": 400,
    "start_time": "2021-06-11T11:53:55.117Z"
   },
   {
    "duration": 662,
    "start_time": "2021-06-11T11:54:20.548Z"
   },
   {
    "duration": 417,
    "start_time": "2021-06-11T11:54:28.286Z"
   },
   {
    "duration": 405,
    "start_time": "2021-06-11T11:54:46.151Z"
   },
   {
    "duration": 425,
    "start_time": "2021-06-11T11:55:03.073Z"
   },
   {
    "duration": 389,
    "start_time": "2021-06-11T11:55:13.720Z"
   },
   {
    "duration": 399,
    "start_time": "2021-06-11T11:55:24.862Z"
   },
   {
    "duration": 398,
    "start_time": "2021-06-11T11:55:36.156Z"
   },
   {
    "duration": 392,
    "start_time": "2021-06-11T11:55:59.763Z"
   },
   {
    "duration": 400,
    "start_time": "2021-06-11T11:56:11.012Z"
   },
   {
    "duration": 399,
    "start_time": "2021-06-11T11:56:25.886Z"
   },
   {
    "duration": 417,
    "start_time": "2021-06-11T11:56:49.784Z"
   },
   {
    "duration": 577,
    "start_time": "2021-06-11T11:58:02.223Z"
   },
   {
    "duration": 597,
    "start_time": "2021-06-11T11:59:00.105Z"
   },
   {
    "duration": 913,
    "start_time": "2021-06-11T12:05:44.794Z"
   },
   {
    "duration": 549,
    "start_time": "2021-06-11T12:06:06.224Z"
   },
   {
    "duration": 556,
    "start_time": "2021-06-11T12:09:17.034Z"
   },
   {
    "duration": 537,
    "start_time": "2021-06-11T12:49:16.869Z"
   },
   {
    "duration": 815,
    "start_time": "2021-06-11T12:49:46.626Z"
   },
   {
    "duration": 9,
    "start_time": "2021-06-11T12:50:49.097Z"
   },
   {
    "duration": 7,
    "start_time": "2021-06-11T12:52:08.078Z"
   },
   {
    "duration": 7,
    "start_time": "2021-06-11T12:52:09.885Z"
   },
   {
    "duration": 1940,
    "start_time": "2021-06-11T13:02:10.591Z"
   },
   {
    "duration": 812,
    "start_time": "2021-06-11T13:02:19.884Z"
   },
   {
    "duration": 16,
    "start_time": "2021-06-11T13:02:30.247Z"
   },
   {
    "duration": 28,
    "start_time": "2021-06-11T13:02:35.953Z"
   },
   {
    "duration": 72,
    "start_time": "2021-06-11T13:02:42.697Z"
   },
   {
    "duration": 4587,
    "start_time": "2021-06-11T13:02:55.322Z"
   },
   {
    "duration": 18,
    "start_time": "2021-06-11T13:03:18.012Z"
   },
   {
    "duration": 23,
    "start_time": "2021-06-11T13:03:22.784Z"
   },
   {
    "duration": 31,
    "start_time": "2021-06-11T13:03:37.106Z"
   },
   {
    "duration": 3780,
    "start_time": "2021-06-11T13:03:42.131Z"
   },
   {
    "duration": 12,
    "start_time": "2021-06-11T13:03:52.479Z"
   },
   {
    "duration": 21,
    "start_time": "2021-06-11T13:03:55.801Z"
   },
   {
    "duration": 28,
    "start_time": "2021-06-11T13:04:07.369Z"
   },
   {
    "duration": 3850,
    "start_time": "2021-06-11T13:04:10.207Z"
   },
   {
    "duration": 16,
    "start_time": "2021-06-11T13:04:34.042Z"
   },
   {
    "duration": 11,
    "start_time": "2021-06-11T13:04:37.415Z"
   },
   {
    "duration": 6,
    "start_time": "2021-06-11T13:04:40.323Z"
   },
   {
    "duration": 4,
    "start_time": "2021-06-11T13:04:46.352Z"
   },
   {
    "duration": 8,
    "start_time": "2021-06-11T13:04:50.305Z"
   },
   {
    "duration": 12,
    "start_time": "2021-06-11T13:04:54.071Z"
   },
   {
    "duration": 59,
    "start_time": "2021-06-11T13:05:00.070Z"
   },
   {
    "duration": 261,
    "start_time": "2021-06-11T13:05:21.502Z"
   },
   {
    "duration": 5,
    "start_time": "2021-06-11T13:05:28.923Z"
   },
   {
    "duration": 24,
    "start_time": "2021-06-11T13:05:33.291Z"
   },
   {
    "duration": 47,
    "start_time": "2021-06-11T13:05:36.867Z"
   },
   {
    "duration": 9,
    "start_time": "2021-06-11T13:07:16.326Z"
   },
   {
    "duration": 133,
    "start_time": "2021-06-11T13:07:21.802Z"
   },
   {
    "duration": 35,
    "start_time": "2021-06-11T13:07:42.146Z"
   },
   {
    "duration": 10,
    "start_time": "2021-06-11T13:07:53.867Z"
   },
   {
    "duration": 8,
    "start_time": "2021-06-11T13:08:05.481Z"
   },
   {
    "duration": 18,
    "start_time": "2021-06-11T13:08:11.245Z"
   },
   {
    "duration": 77,
    "start_time": "2021-06-11T13:08:14.865Z"
   },
   {
    "duration": 5,
    "start_time": "2021-06-11T13:08:26.467Z"
   },
   {
    "duration": 8,
    "start_time": "2021-06-11T13:08:29.886Z"
   },
   {
    "duration": 6,
    "start_time": "2021-06-11T13:08:31.453Z"
   },
   {
    "duration": 306,
    "start_time": "2021-06-11T13:09:15.044Z"
   },
   {
    "duration": 552,
    "start_time": "2021-06-11T13:10:59.543Z"
   },
   {
    "duration": 4,
    "start_time": "2021-06-11T13:11:07.636Z"
   },
   {
    "duration": 5873,
    "start_time": "2021-06-11T13:11:13.486Z"
   },
   {
    "duration": 36,
    "start_time": "2021-06-11T13:12:08.582Z"
   },
   {
    "duration": 14,
    "start_time": "2021-06-11T13:12:13.373Z"
   },
   {
    "duration": 10,
    "start_time": "2021-06-11T13:12:18.038Z"
   },
   {
    "duration": 16,
    "start_time": "2021-06-11T13:12:21.889Z"
   },
   {
    "duration": 35,
    "start_time": "2021-06-11T13:12:35.353Z"
   },
   {
    "duration": 15,
    "start_time": "2021-06-11T13:12:38.118Z"
   },
   {
    "duration": 11,
    "start_time": "2021-06-11T13:12:41.888Z"
   },
   {
    "duration": 20,
    "start_time": "2021-06-11T13:12:44.553Z"
   },
   {
    "duration": 256,
    "start_time": "2021-06-11T13:12:49.639Z"
   },
   {
    "duration": 344,
    "start_time": "2021-06-11T13:12:56.375Z"
   },
   {
    "duration": 1017,
    "start_time": "2021-06-11T13:13:01.662Z"
   },
   {
    "duration": 582,
    "start_time": "2021-06-11T13:13:27.427Z"
   },
   {
    "duration": 552,
    "start_time": "2021-06-11T13:13:48.070Z"
   },
   {
    "duration": 835,
    "start_time": "2021-06-11T13:13:54.113Z"
   },
   {
    "duration": 622,
    "start_time": "2021-06-11T13:14:03.956Z"
   },
   {
    "duration": 51,
    "start_time": "2021-06-11T13:14:22.879Z"
   },
   {
    "duration": 8,
    "start_time": "2021-06-11T13:15:30.014Z"
   },
   {
    "duration": 8,
    "start_time": "2021-06-11T13:15:54.778Z"
   },
   {
    "duration": 8,
    "start_time": "2021-06-11T13:15:56.723Z"
   },
   {
    "duration": 106,
    "start_time": "2021-06-11T13:22:21.183Z"
   },
   {
    "duration": 1679,
    "start_time": "2021-06-11T19:08:35.050Z"
   },
   {
    "duration": 664,
    "start_time": "2021-06-11T19:08:36.732Z"
   },
   {
    "duration": 16,
    "start_time": "2021-06-11T19:08:37.399Z"
   },
   {
    "duration": 34,
    "start_time": "2021-06-11T19:08:37.418Z"
   },
   {
    "duration": 63,
    "start_time": "2021-06-11T19:08:37.455Z"
   },
   {
    "duration": 4594,
    "start_time": "2021-06-11T19:08:37.520Z"
   },
   {
    "duration": 106,
    "start_time": "2021-06-11T19:08:42.117Z"
   },
   {
    "duration": 15,
    "start_time": "2021-06-11T19:08:42.226Z"
   },
   {
    "duration": 23,
    "start_time": "2021-06-11T19:08:42.244Z"
   },
   {
    "duration": 39,
    "start_time": "2021-06-11T19:08:42.270Z"
   },
   {
    "duration": 29,
    "start_time": "2021-06-11T19:08:42.311Z"
   },
   {
    "duration": 3329,
    "start_time": "2021-06-11T19:08:42.343Z"
   },
   {
    "duration": 12,
    "start_time": "2021-06-11T19:08:45.674Z"
   },
   {
    "duration": 37,
    "start_time": "2021-06-11T19:08:45.689Z"
   },
   {
    "duration": 25,
    "start_time": "2021-06-11T19:08:45.729Z"
   },
   {
    "duration": 2825,
    "start_time": "2021-06-11T19:08:45.757Z"
   },
   {
    "duration": 25,
    "start_time": "2021-06-11T19:08:48.584Z"
   },
   {
    "duration": 9,
    "start_time": "2021-06-11T19:08:48.611Z"
   },
   {
    "duration": 13,
    "start_time": "2021-06-11T19:08:48.623Z"
   },
   {
    "duration": 7,
    "start_time": "2021-06-11T19:08:48.639Z"
   },
   {
    "duration": 12,
    "start_time": "2021-06-11T19:08:48.649Z"
   },
   {
    "duration": 18,
    "start_time": "2021-06-11T19:08:48.665Z"
   },
   {
    "duration": 45,
    "start_time": "2021-06-11T19:08:48.710Z"
   },
   {
    "duration": 159,
    "start_time": "2021-06-11T19:08:48.759Z"
   },
   {
    "duration": 5,
    "start_time": "2021-06-11T19:08:48.920Z"
   },
   {
    "duration": 42,
    "start_time": "2021-06-11T19:08:48.928Z"
   },
   {
    "duration": 41,
    "start_time": "2021-06-11T19:08:48.973Z"
   },
   {
    "duration": 7,
    "start_time": "2021-06-11T19:08:49.017Z"
   },
   {
    "duration": 136,
    "start_time": "2021-06-11T19:08:49.027Z"
   },
   {
    "duration": 24,
    "start_time": "2021-06-11T19:08:49.166Z"
   },
   {
    "duration": 21,
    "start_time": "2021-06-11T19:08:49.193Z"
   },
   {
    "duration": 9,
    "start_time": "2021-06-11T19:08:49.216Z"
   },
   {
    "duration": 19,
    "start_time": "2021-06-11T19:08:49.227Z"
   },
   {
    "duration": 71,
    "start_time": "2021-06-11T19:08:49.249Z"
   },
   {
    "duration": 4,
    "start_time": "2021-06-11T19:08:49.322Z"
   },
   {
    "duration": 9,
    "start_time": "2021-06-11T19:08:49.329Z"
   },
   {
    "duration": 8,
    "start_time": "2021-06-11T19:08:49.341Z"
   },
   {
    "duration": 12,
    "start_time": "2021-06-11T19:08:49.352Z"
   },
   {
    "duration": 331,
    "start_time": "2021-06-11T19:08:49.366Z"
   },
   {
    "duration": 6062,
    "start_time": "2021-06-11T19:08:49.700Z"
   },
   {
    "duration": 7,
    "start_time": "2021-06-11T19:08:55.764Z"
   },
   {
    "duration": 58,
    "start_time": "2021-06-11T19:08:55.775Z"
   },
   {
    "duration": 16,
    "start_time": "2021-06-11T19:08:55.836Z"
   },
   {
    "duration": 9,
    "start_time": "2021-06-11T19:08:55.855Z"
   },
   {
    "duration": 53,
    "start_time": "2021-06-11T19:08:55.866Z"
   },
   {
    "duration": 34,
    "start_time": "2021-06-11T19:08:55.921Z"
   },
   {
    "duration": 14,
    "start_time": "2021-06-11T19:08:55.957Z"
   },
   {
    "duration": 41,
    "start_time": "2021-06-11T19:08:55.973Z"
   },
   {
    "duration": 20,
    "start_time": "2021-06-11T19:08:56.017Z"
   },
   {
    "duration": 245,
    "start_time": "2021-06-11T19:08:56.039Z"
   },
   {
    "duration": 242,
    "start_time": "2021-06-11T19:08:56.286Z"
   },
   {
    "duration": 589,
    "start_time": "2021-06-11T19:08:56.530Z"
   },
   {
    "duration": 599,
    "start_time": "2021-06-11T19:08:57.121Z"
   },
   {
    "duration": 744,
    "start_time": "2021-06-11T19:08:57.722Z"
   },
   {
    "duration": 588,
    "start_time": "2021-06-11T19:08:58.469Z"
   },
   {
    "duration": 476,
    "start_time": "2021-06-11T19:08:59.060Z"
   },
   {
    "duration": -1609,
    "start_time": "2021-06-11T19:09:01.148Z"
   },
   {
    "duration": -1647,
    "start_time": "2021-06-11T19:09:01.188Z"
   },
   {
    "duration": -1679,
    "start_time": "2021-06-11T19:09:01.221Z"
   },
   {
    "duration": -1684,
    "start_time": "2021-06-11T19:09:01.228Z"
   },
   {
    "duration": -1689,
    "start_time": "2021-06-11T19:09:01.234Z"
   },
   {
    "duration": -1693,
    "start_time": "2021-06-11T19:09:01.240Z"
   },
   {
    "duration": 589,
    "start_time": "2021-06-11T19:10:18.271Z"
   },
   {
    "duration": 7,
    "start_time": "2021-06-11T19:11:27.061Z"
   },
   {
    "duration": 4,
    "start_time": "2021-06-11T19:11:29.778Z"
   },
   {
    "duration": 574,
    "start_time": "2021-06-11T19:11:29.785Z"
   },
   {
    "duration": 11,
    "start_time": "2021-06-11T19:11:30.362Z"
   },
   {
    "duration": 42,
    "start_time": "2021-06-11T19:11:30.376Z"
   },
   {
    "duration": 37,
    "start_time": "2021-06-11T19:11:30.421Z"
   },
   {
    "duration": 4833,
    "start_time": "2021-06-11T19:11:30.461Z"
   },
   {
    "duration": 99,
    "start_time": "2021-06-11T19:11:35.298Z"
   },
   {
    "duration": 16,
    "start_time": "2021-06-11T19:11:35.409Z"
   },
   {
    "duration": 31,
    "start_time": "2021-06-11T19:11:35.428Z"
   },
   {
    "duration": 4,
    "start_time": "2021-06-11T19:11:35.462Z"
   },
   {
    "duration": 65,
    "start_time": "2021-06-11T19:11:35.469Z"
   },
   {
    "duration": 3587,
    "start_time": "2021-06-11T19:11:35.537Z"
   },
   {
    "duration": 11,
    "start_time": "2021-06-11T19:11:39.126Z"
   },
   {
    "duration": 21,
    "start_time": "2021-06-11T19:11:39.140Z"
   },
   {
    "duration": 55,
    "start_time": "2021-06-11T19:11:39.165Z"
   },
   {
    "duration": 2955,
    "start_time": "2021-06-11T19:11:39.223Z"
   },
   {
    "duration": 30,
    "start_time": "2021-06-11T19:11:42.181Z"
   },
   {
    "duration": 14,
    "start_time": "2021-06-11T19:11:42.214Z"
   },
   {
    "duration": 6,
    "start_time": "2021-06-11T19:11:42.234Z"
   },
   {
    "duration": 8,
    "start_time": "2021-06-11T19:11:42.244Z"
   },
   {
    "duration": 60,
    "start_time": "2021-06-11T19:11:42.255Z"
   },
   {
    "duration": 15,
    "start_time": "2021-06-11T19:11:42.318Z"
   },
   {
    "duration": 94,
    "start_time": "2021-06-11T19:11:42.335Z"
   },
   {
    "duration": 279,
    "start_time": "2021-06-11T19:11:42.431Z"
   },
   {
    "duration": 5,
    "start_time": "2021-06-11T19:11:42.713Z"
   },
   {
    "duration": 87,
    "start_time": "2021-06-11T19:11:42.722Z"
   },
   {
    "duration": 102,
    "start_time": "2021-06-11T19:11:42.812Z"
   },
   {
    "duration": 10,
    "start_time": "2021-06-11T19:11:42.917Z"
   },
   {
    "duration": 302,
    "start_time": "2021-06-11T19:11:42.930Z"
   },
   {
    "duration": 37,
    "start_time": "2021-06-11T19:11:43.235Z"
   },
   {
    "duration": 10,
    "start_time": "2021-06-11T19:11:43.275Z"
   },
   {
    "duration": 26,
    "start_time": "2021-06-11T19:11:43.288Z"
   },
   {
    "duration": 18,
    "start_time": "2021-06-11T19:11:43.316Z"
   },
   {
    "duration": 72,
    "start_time": "2021-06-11T19:11:43.337Z"
   },
   {
    "duration": 4,
    "start_time": "2021-06-11T19:11:43.412Z"
   },
   {
    "duration": 15,
    "start_time": "2021-06-11T19:11:43.419Z"
   },
   {
    "duration": 12,
    "start_time": "2021-06-11T19:11:43.437Z"
   },
   {
    "duration": 20,
    "start_time": "2021-06-11T19:11:43.452Z"
   },
   {
    "duration": 286,
    "start_time": "2021-06-11T19:11:43.475Z"
   },
   {
    "duration": 5872,
    "start_time": "2021-06-11T19:11:43.764Z"
   },
   {
    "duration": 7,
    "start_time": "2021-06-11T19:11:49.638Z"
   },
   {
    "duration": 34,
    "start_time": "2021-06-11T19:11:49.647Z"
   },
   {
    "duration": 35,
    "start_time": "2021-06-11T19:11:49.683Z"
   },
   {
    "duration": 9,
    "start_time": "2021-06-11T19:11:49.720Z"
   },
   {
    "duration": 14,
    "start_time": "2021-06-11T19:11:49.733Z"
   },
   {
    "duration": 82,
    "start_time": "2021-06-11T19:11:49.751Z"
   },
   {
    "duration": 16,
    "start_time": "2021-06-11T19:11:49.836Z"
   },
   {
    "duration": 9,
    "start_time": "2021-06-11T19:11:49.854Z"
   },
   {
    "duration": 48,
    "start_time": "2021-06-11T19:11:49.865Z"
   },
   {
    "duration": 245,
    "start_time": "2021-06-11T19:11:49.915Z"
   },
   {
    "duration": 229,
    "start_time": "2021-06-11T19:11:50.162Z"
   },
   {
    "duration": 680,
    "start_time": "2021-06-11T19:11:50.394Z"
   },
   {
    "duration": 590,
    "start_time": "2021-06-11T19:11:51.078Z"
   },
   {
    "duration": 563,
    "start_time": "2021-06-11T19:11:51.670Z"
   },
   {
    "duration": 582,
    "start_time": "2021-06-11T19:11:52.240Z"
   },
   {
    "duration": 575,
    "start_time": "2021-06-11T19:11:52.825Z"
   },
   {
    "duration": 51,
    "start_time": "2021-06-11T19:11:53.402Z"
   },
   {
    "duration": 123,
    "start_time": "2021-06-11T19:11:53.456Z"
   },
   {
    "duration": 4,
    "start_time": "2021-06-11T19:11:53.582Z"
   },
   {
    "duration": 24,
    "start_time": "2021-06-11T19:11:53.589Z"
   },
   {
    "duration": 12,
    "start_time": "2021-06-11T19:12:36.649Z"
   },
   {
    "duration": 4,
    "start_time": "2021-06-11T19:15:28.279Z"
   },
   {
    "duration": 586,
    "start_time": "2021-06-11T19:15:28.287Z"
   },
   {
    "duration": 13,
    "start_time": "2021-06-11T19:15:28.876Z"
   },
   {
    "duration": 31,
    "start_time": "2021-06-11T19:15:28.892Z"
   },
   {
    "duration": 38,
    "start_time": "2021-06-11T19:15:28.926Z"
   },
   {
    "duration": 5761,
    "start_time": "2021-06-11T19:15:28.967Z"
   },
   {
    "duration": 105,
    "start_time": "2021-06-11T19:15:34.730Z"
   },
   {
    "duration": 14,
    "start_time": "2021-06-11T19:15:34.838Z"
   },
   {
    "duration": 24,
    "start_time": "2021-06-11T19:15:34.856Z"
   },
   {
    "duration": 26,
    "start_time": "2021-06-11T19:15:34.884Z"
   },
   {
    "duration": 36,
    "start_time": "2021-06-11T19:15:34.912Z"
   },
   {
    "duration": 3494,
    "start_time": "2021-06-11T19:15:34.950Z"
   },
   {
    "duration": 11,
    "start_time": "2021-06-11T19:15:38.447Z"
   },
   {
    "duration": 20,
    "start_time": "2021-06-11T19:15:38.462Z"
   },
   {
    "duration": 48,
    "start_time": "2021-06-11T19:15:38.484Z"
   },
   {
    "duration": 2934,
    "start_time": "2021-06-11T19:15:38.534Z"
   },
   {
    "duration": 15,
    "start_time": "2021-06-11T19:15:41.471Z"
   },
   {
    "duration": 22,
    "start_time": "2021-06-11T19:15:41.489Z"
   },
   {
    "duration": 12,
    "start_time": "2021-06-11T19:15:41.514Z"
   },
   {
    "duration": 7,
    "start_time": "2021-06-11T19:15:41.528Z"
   },
   {
    "duration": 11,
    "start_time": "2021-06-11T19:15:41.537Z"
   },
   {
    "duration": 13,
    "start_time": "2021-06-11T19:15:41.550Z"
   },
   {
    "duration": 77,
    "start_time": "2021-06-11T19:15:41.566Z"
   },
   {
    "duration": 146,
    "start_time": "2021-06-11T19:15:41.649Z"
   },
   {
    "duration": 13,
    "start_time": "2021-06-11T19:15:41.799Z"
   },
   {
    "duration": 28,
    "start_time": "2021-06-11T19:15:41.814Z"
   },
   {
    "duration": 36,
    "start_time": "2021-06-11T19:15:41.844Z"
   },
   {
    "duration": 26,
    "start_time": "2021-06-11T19:15:41.883Z"
   },
   {
    "duration": 131,
    "start_time": "2021-06-11T19:15:41.912Z"
   },
   {
    "duration": 25,
    "start_time": "2021-06-11T19:15:42.045Z"
   },
   {
    "duration": 8,
    "start_time": "2021-06-11T19:15:42.072Z"
   },
   {
    "duration": 28,
    "start_time": "2021-06-11T19:15:42.082Z"
   },
   {
    "duration": 16,
    "start_time": "2021-06-11T19:15:42.113Z"
   },
   {
    "duration": 47,
    "start_time": "2021-06-11T19:15:42.131Z"
   },
   {
    "duration": 30,
    "start_time": "2021-06-11T19:15:42.180Z"
   },
   {
    "duration": 9,
    "start_time": "2021-06-11T19:15:42.213Z"
   },
   {
    "duration": 7,
    "start_time": "2021-06-11T19:15:42.225Z"
   },
   {
    "duration": 15,
    "start_time": "2021-06-11T19:15:42.235Z"
   },
   {
    "duration": 428,
    "start_time": "2021-06-11T19:15:42.254Z"
   },
   {
    "duration": 6180,
    "start_time": "2021-06-11T19:15:42.684Z"
   },
   {
    "duration": 7,
    "start_time": "2021-06-11T19:15:48.866Z"
   },
   {
    "duration": 56,
    "start_time": "2021-06-11T19:15:48.875Z"
   },
   {
    "duration": 15,
    "start_time": "2021-06-11T19:15:48.934Z"
   },
   {
    "duration": 10,
    "start_time": "2021-06-11T19:15:48.951Z"
   },
   {
    "duration": 54,
    "start_time": "2021-06-11T19:15:48.964Z"
   },
   {
    "duration": 36,
    "start_time": "2021-06-11T19:15:49.021Z"
   },
   {
    "duration": 18,
    "start_time": "2021-06-11T19:15:49.060Z"
   },
   {
    "duration": 10,
    "start_time": "2021-06-11T19:15:49.110Z"
   },
   {
    "duration": 15,
    "start_time": "2021-06-11T19:15:49.122Z"
   },
   {
    "duration": 249,
    "start_time": "2021-06-11T19:15:49.140Z"
   },
   {
    "duration": 232,
    "start_time": "2021-06-11T19:15:49.391Z"
   },
   {
    "duration": 595,
    "start_time": "2021-06-11T19:15:49.625Z"
   },
   {
    "duration": 594,
    "start_time": "2021-06-11T19:15:50.222Z"
   },
   {
    "duration": 567,
    "start_time": "2021-06-11T19:15:50.818Z"
   },
   {
    "duration": 586,
    "start_time": "2021-06-11T19:15:51.387Z"
   },
   {
    "duration": 735,
    "start_time": "2021-06-11T19:15:51.976Z"
   },
   {
    "duration": 48,
    "start_time": "2021-06-11T19:15:52.713Z"
   },
   {
    "duration": 122,
    "start_time": "2021-06-11T19:15:52.763Z"
   },
   {
    "duration": 3,
    "start_time": "2021-06-11T19:15:52.888Z"
   },
   {
    "duration": 8,
    "start_time": "2021-06-11T19:15:52.909Z"
   },
   {
    "duration": 13,
    "start_time": "2021-06-11T19:15:52.919Z"
   },
   {
    "duration": 9,
    "start_time": "2021-06-11T19:15:52.935Z"
   },
   {
    "duration": 24,
    "start_time": "2021-06-11T19:16:42.751Z"
   },
   {
    "duration": 24,
    "start_time": "2021-06-11T19:16:44.112Z"
   },
   {
    "duration": 6,
    "start_time": "2021-06-11T19:17:16.315Z"
   },
   {
    "duration": 24,
    "start_time": "2021-06-11T19:17:22.621Z"
   },
   {
    "duration": 34,
    "start_time": "2021-06-11T19:17:44.434Z"
   },
   {
    "duration": 23,
    "start_time": "2021-06-11T19:17:52.678Z"
   },
   {
    "duration": 7,
    "start_time": "2021-06-11T19:18:03.019Z"
   },
   {
    "duration": 19,
    "start_time": "2021-06-11T19:18:09.326Z"
   },
   {
    "duration": 7,
    "start_time": "2021-06-11T19:18:47.990Z"
   },
   {
    "duration": 30,
    "start_time": "2021-06-11T19:19:17.290Z"
   },
   {
    "duration": 47,
    "start_time": "2021-06-11T19:19:20.548Z"
   },
   {
    "duration": 6,
    "start_time": "2021-06-11T19:19:43.512Z"
   },
   {
    "duration": 144,
    "start_time": "2021-06-11T19:20:13.114Z"
   },
   {
    "duration": 41,
    "start_time": "2021-06-11T19:20:17.166Z"
   },
   {
    "duration": 32,
    "start_time": "2021-06-11T19:20:32.624Z"
   },
   {
    "duration": 12,
    "start_time": "2021-06-11T19:26:32.313Z"
   },
   {
    "duration": 33,
    "start_time": "2021-06-11T19:29:43.690Z"
   },
   {
    "duration": 13,
    "start_time": "2021-06-11T19:36:35.121Z"
   },
   {
    "duration": 14,
    "start_time": "2021-06-11T19:36:54.092Z"
   },
   {
    "duration": 15,
    "start_time": "2021-06-11T19:37:21.049Z"
   },
   {
    "duration": 35,
    "start_time": "2021-06-11T19:38:53.311Z"
   },
   {
    "duration": 17,
    "start_time": "2021-06-11T19:39:33.782Z"
   },
   {
    "duration": 1324,
    "start_time": "2021-06-12T08:22:22.413Z"
   },
   {
    "duration": 535,
    "start_time": "2021-06-12T08:22:24.829Z"
   },
   {
    "duration": 18,
    "start_time": "2021-06-12T08:22:27.332Z"
   },
   {
    "duration": 27,
    "start_time": "2021-06-12T08:22:30.581Z"
   },
   {
    "duration": 44,
    "start_time": "2021-06-12T08:22:43.780Z"
   },
   {
    "duration": 4829,
    "start_time": "2021-06-12T08:22:52.387Z"
   },
   {
    "duration": 92,
    "start_time": "2021-06-12T08:23:02.858Z"
   },
   {
    "duration": 1352,
    "start_time": "2021-06-12T08:23:20.820Z"
   },
   {
    "duration": 532,
    "start_time": "2021-06-12T08:23:23.375Z"
   },
   {
    "duration": 17,
    "start_time": "2021-06-12T08:23:25.431Z"
   },
   {
    "duration": 27,
    "start_time": "2021-06-12T08:23:29.461Z"
   },
   {
    "duration": 44,
    "start_time": "2021-06-12T08:23:33.768Z"
   },
   {
    "duration": 4384,
    "start_time": "2021-06-12T08:23:38.266Z"
   },
   {
    "duration": 14,
    "start_time": "2021-06-12T08:23:43.334Z"
   },
   {
    "duration": 23,
    "start_time": "2021-06-12T08:23:51.644Z"
   },
   {
    "duration": 29,
    "start_time": "2021-06-12T08:23:55.766Z"
   },
   {
    "duration": 3389,
    "start_time": "2021-06-12T08:24:00.292Z"
   },
   {
    "duration": 11,
    "start_time": "2021-06-12T08:24:07.218Z"
   },
   {
    "duration": 19,
    "start_time": "2021-06-12T08:24:10.186Z"
   },
   {
    "duration": 26,
    "start_time": "2021-06-12T08:24:13.732Z"
   },
   {
    "duration": 2742,
    "start_time": "2021-06-12T08:24:15.380Z"
   },
   {
    "duration": 17,
    "start_time": "2021-06-12T08:24:22.261Z"
   },
   {
    "duration": 9,
    "start_time": "2021-06-12T08:24:25.212Z"
   },
   {
    "duration": 6,
    "start_time": "2021-06-12T08:24:31.292Z"
   },
   {
    "duration": 5,
    "start_time": "2021-06-12T08:24:33.861Z"
   },
   {
    "duration": 7,
    "start_time": "2021-06-12T08:24:36.535Z"
   },
   {
    "duration": 11,
    "start_time": "2021-06-12T08:24:39.045Z"
   },
   {
    "duration": 45,
    "start_time": "2021-06-12T08:24:58.870Z"
   },
   {
    "duration": 126,
    "start_time": "2021-06-12T08:25:13.332Z"
   },
   {
    "duration": 7,
    "start_time": "2021-06-12T08:25:19.371Z"
   },
   {
    "duration": 22,
    "start_time": "2021-06-12T08:25:21.630Z"
   },
   {
    "duration": 36,
    "start_time": "2021-06-12T08:25:24.381Z"
   },
   {
    "duration": 8,
    "start_time": "2021-06-12T08:25:29.931Z"
   },
   {
    "duration": 113,
    "start_time": "2021-06-12T08:25:32.901Z"
   },
   {
    "duration": 23,
    "start_time": "2021-06-12T08:25:35.365Z"
   },
   {
    "duration": 8,
    "start_time": "2021-06-12T08:25:39.059Z"
   },
   {
    "duration": 8,
    "start_time": "2021-06-12T08:25:41.003Z"
   },
   {
    "duration": 17,
    "start_time": "2021-06-12T08:25:49.494Z"
   },
   {
    "duration": 45,
    "start_time": "2021-06-12T08:25:50.342Z"
   },
   {
    "duration": 5,
    "start_time": "2021-06-12T08:25:51.501Z"
   },
   {
    "duration": 6,
    "start_time": "2021-06-12T08:25:52.612Z"
   },
   {
    "duration": 5,
    "start_time": "2021-06-12T08:25:53.492Z"
   },
   {
    "duration": 3,
    "start_time": "2021-06-12T08:27:26.320Z"
   },
   {
    "duration": 3,
    "start_time": "2021-06-12T08:27:42.205Z"
   },
   {
    "duration": 5,
    "start_time": "2021-06-12T08:27:43.139Z"
   },
   {
    "duration": 6073,
    "start_time": "2021-06-12T08:29:05.629Z"
   },
   {
    "duration": 485,
    "start_time": "2021-06-12T08:29:25.414Z"
   },
   {
    "duration": 402,
    "start_time": "2021-06-12T08:31:08.340Z"
   },
   {
    "duration": 35,
    "start_time": "2021-06-12T08:31:45.697Z"
   },
   {
    "duration": 892,
    "start_time": "2021-06-12T08:32:29.863Z"
   },
   {
    "duration": 14,
    "start_time": "2021-06-12T08:33:01.267Z"
   },
   {
    "duration": 10,
    "start_time": "2021-06-12T08:33:25.129Z"
   },
   {
    "duration": 16,
    "start_time": "2021-06-12T08:33:39.022Z"
   },
   {
    "duration": 35,
    "start_time": "2021-06-12T08:35:20.873Z"
   },
   {
    "duration": 16,
    "start_time": "2021-06-12T08:35:40.749Z"
   },
   {
    "duration": 11,
    "start_time": "2021-06-12T08:35:50.892Z"
   },
   {
    "duration": 15,
    "start_time": "2021-06-12T08:35:54.484Z"
   },
   {
    "duration": 234,
    "start_time": "2021-06-12T08:37:10.264Z"
   },
   {
    "duration": 218,
    "start_time": "2021-06-12T08:37:13.324Z"
   },
   {
    "duration": 632,
    "start_time": "2021-06-12T08:37:48.431Z"
   },
   {
    "duration": 704,
    "start_time": "2021-06-12T08:38:05.821Z"
   },
   {
    "duration": 565,
    "start_time": "2021-06-12T08:38:12.461Z"
   },
   {
    "duration": 709,
    "start_time": "2021-06-12T08:38:18.183Z"
   },
   {
    "duration": 999,
    "start_time": "2021-06-12T08:38:27.097Z"
   },
   {
    "duration": 132,
    "start_time": "2021-06-12T08:38:42.553Z"
   },
   {
    "duration": 8,
    "start_time": "2021-06-12T08:39:55.386Z"
   },
   {
    "duration": 10,
    "start_time": "2021-06-12T08:41:08.525Z"
   },
   {
    "duration": 27926,
    "start_time": "2021-06-12T08:41:09.647Z"
   },
   {
    "duration": 11,
    "start_time": "2021-06-12T08:41:47.504Z"
   },
   {
    "duration": 9,
    "start_time": "2021-06-12T08:41:52.100Z"
   },
   {
    "duration": 1511,
    "start_time": "2021-06-12T08:46:42.044Z"
   },
   {
    "duration": 582,
    "start_time": "2021-06-12T08:46:43.689Z"
   },
   {
    "duration": 18,
    "start_time": "2021-06-12T08:46:49.015Z"
   },
   {
    "duration": 32,
    "start_time": "2021-06-12T08:46:56.585Z"
   },
   {
    "duration": 46,
    "start_time": "2021-06-12T08:47:00.246Z"
   },
   {
    "duration": 4510,
    "start_time": "2021-06-12T08:47:01.855Z"
   },
   {
    "duration": 94,
    "start_time": "2021-06-12T08:47:12.175Z"
   },
   {
    "duration": 14,
    "start_time": "2021-06-12T08:47:15.531Z"
   },
   {
    "duration": 36,
    "start_time": "2021-06-12T08:47:19.366Z"
   },
   {
    "duration": 28,
    "start_time": "2021-06-12T08:47:22.920Z"
   },
   {
    "duration": 3330,
    "start_time": "2021-06-12T08:47:24.985Z"
   },
   {
    "duration": 12,
    "start_time": "2021-06-12T08:47:31.826Z"
   },
   {
    "duration": 29,
    "start_time": "2021-06-12T08:47:33.344Z"
   },
   {
    "duration": 24,
    "start_time": "2021-06-12T08:47:36.138Z"
   },
   {
    "duration": 16,
    "start_time": "2021-06-12T08:47:43.462Z"
   },
   {
    "duration": 9,
    "start_time": "2021-06-12T08:47:44.775Z"
   },
   {
    "duration": 7,
    "start_time": "2021-06-12T08:47:47.457Z"
   },
   {
    "duration": 4,
    "start_time": "2021-06-12T08:47:48.385Z"
   },
   {
    "duration": 7,
    "start_time": "2021-06-12T08:47:48.980Z"
   },
   {
    "duration": 12,
    "start_time": "2021-06-12T08:47:51.446Z"
   },
   {
    "duration": 1500,
    "start_time": "2021-06-12T08:48:30.947Z"
   },
   {
    "duration": 580,
    "start_time": "2021-06-12T08:48:33.285Z"
   },
   {
    "duration": 26,
    "start_time": "2021-06-12T08:48:36.983Z"
   },
   {
    "duration": 44,
    "start_time": "2021-06-12T08:48:40.375Z"
   },
   {
    "duration": 50,
    "start_time": "2021-06-12T08:48:43.369Z"
   },
   {
    "duration": 4644,
    "start_time": "2021-06-12T08:48:49.224Z"
   },
   {
    "duration": 13,
    "start_time": "2021-06-12T08:48:54.404Z"
   },
   {
    "duration": 25,
    "start_time": "2021-06-12T08:48:57.374Z"
   },
   {
    "duration": 30,
    "start_time": "2021-06-12T08:49:01.680Z"
   },
   {
    "duration": 3618,
    "start_time": "2021-06-12T08:49:05.584Z"
   },
   {
    "duration": 12,
    "start_time": "2021-06-12T08:49:09.205Z"
   },
   {
    "duration": 21,
    "start_time": "2021-06-12T08:49:10.134Z"
   },
   {
    "duration": 28,
    "start_time": "2021-06-12T08:50:06.040Z"
   },
   {
    "duration": 3022,
    "start_time": "2021-06-12T08:50:06.721Z"
   },
   {
    "duration": 16,
    "start_time": "2021-06-12T08:50:13.741Z"
   },
   {
    "duration": 9,
    "start_time": "2021-06-12T08:50:14.689Z"
   },
   {
    "duration": 7,
    "start_time": "2021-06-12T08:50:16.246Z"
   },
   {
    "duration": 5,
    "start_time": "2021-06-12T08:50:17.648Z"
   },
   {
    "duration": 6,
    "start_time": "2021-06-12T08:50:18.821Z"
   },
   {
    "duration": 11,
    "start_time": "2021-06-12T08:50:22.499Z"
   },
   {
    "duration": 65,
    "start_time": "2021-06-12T08:50:28.107Z"
   },
   {
    "duration": 133,
    "start_time": "2021-06-12T08:50:35.442Z"
   },
   {
    "duration": 5,
    "start_time": "2021-06-12T08:50:38.965Z"
   },
   {
    "duration": 20,
    "start_time": "2021-06-12T08:50:42.606Z"
   },
   {
    "duration": 35,
    "start_time": "2021-06-12T08:50:52.079Z"
   },
   {
    "duration": 8,
    "start_time": "2021-06-12T08:53:52.668Z"
   },
   {
    "duration": 119,
    "start_time": "2021-06-12T08:53:58.262Z"
   },
   {
    "duration": 24,
    "start_time": "2021-06-12T08:54:03.405Z"
   },
   {
    "duration": 8,
    "start_time": "2021-06-12T08:54:06.808Z"
   },
   {
    "duration": 7,
    "start_time": "2021-06-12T08:54:07.774Z"
   },
   {
    "duration": 17,
    "start_time": "2021-06-12T08:54:10.723Z"
   },
   {
    "duration": 56,
    "start_time": "2021-06-12T08:54:11.851Z"
   },
   {
    "duration": 5,
    "start_time": "2021-06-12T08:54:12.726Z"
   },
   {
    "duration": 8,
    "start_time": "2021-06-12T08:54:13.788Z"
   },
   {
    "duration": 5,
    "start_time": "2021-06-12T08:54:14.492Z"
   },
   {
    "duration": 6,
    "start_time": "2021-06-12T08:54:19.732Z"
   },
   {
    "duration": 6203,
    "start_time": "2021-06-12T08:55:23.099Z"
   },
   {
    "duration": 38,
    "start_time": "2021-06-12T08:55:36.767Z"
   },
   {
    "duration": 14,
    "start_time": "2021-06-12T08:55:41.137Z"
   },
   {
    "duration": 9,
    "start_time": "2021-06-12T08:55:44.576Z"
   },
   {
    "duration": 15,
    "start_time": "2021-06-12T08:55:47.336Z"
   },
   {
    "duration": 43,
    "start_time": "2021-06-12T08:55:53.574Z"
   },
   {
    "duration": 20,
    "start_time": "2021-06-12T08:55:54.576Z"
   },
   {
    "duration": 9,
    "start_time": "2021-06-12T08:55:57.446Z"
   },
   {
    "duration": 15,
    "start_time": "2021-06-12T08:56:00.225Z"
   },
   {
    "duration": 253,
    "start_time": "2021-06-12T08:56:09.976Z"
   },
   {
    "duration": 235,
    "start_time": "2021-06-12T08:56:13.241Z"
   },
   {
    "duration": 584,
    "start_time": "2021-06-12T08:56:17.368Z"
   },
   {
    "duration": 590,
    "start_time": "2021-06-12T08:56:31.449Z"
   },
   {
    "duration": 570,
    "start_time": "2021-06-12T08:56:34.162Z"
   },
   {
    "duration": 693,
    "start_time": "2021-06-12T08:56:37.013Z"
   },
   {
    "duration": 594,
    "start_time": "2021-06-12T08:56:44.181Z"
   },
   {
    "duration": 563,
    "start_time": "2021-06-12T08:57:40.724Z"
   },
   {
    "duration": 48,
    "start_time": "2021-06-12T08:57:53.733Z"
   },
   {
    "duration": 9,
    "start_time": "2021-06-12T08:58:21.141Z"
   },
   {
    "duration": 9,
    "start_time": "2021-06-12T08:58:41.544Z"
   },
   {
    "duration": 8,
    "start_time": "2021-06-12T08:58:45.331Z"
   },
   {
    "duration": 391,
    "start_time": "2021-06-17T22:37:27.774Z"
   },
   {
    "duration": 140,
    "start_time": "2021-10-29T21:31:14.169Z"
   },
   {
    "duration": 444,
    "start_time": "2021-10-29T21:49:23.544Z"
   },
   {
    "duration": 1596,
    "start_time": "2021-10-29T21:51:16.115Z"
   },
   {
    "duration": 625,
    "start_time": "2021-10-29T21:51:17.714Z"
   },
   {
    "duration": 16,
    "start_time": "2021-10-29T21:51:18.342Z"
   },
   {
    "duration": 30,
    "start_time": "2021-10-29T21:51:18.361Z"
   },
   {
    "duration": 54,
    "start_time": "2021-10-29T21:51:18.393Z"
   },
   {
    "duration": 5051,
    "start_time": "2021-10-29T21:51:18.450Z"
   },
   {
    "duration": 5,
    "start_time": "2021-10-29T21:51:23.504Z"
   },
   {
    "duration": 13,
    "start_time": "2021-10-29T21:51:23.515Z"
   },
   {
    "duration": 23,
    "start_time": "2021-10-29T21:51:23.531Z"
   },
   {
    "duration": 72,
    "start_time": "2021-10-29T21:51:23.557Z"
   },
   {
    "duration": 3617,
    "start_time": "2021-10-29T21:51:23.631Z"
   },
   {
    "duration": 10,
    "start_time": "2021-10-29T21:51:27.251Z"
   },
   {
    "duration": 41,
    "start_time": "2021-10-29T21:51:27.263Z"
   },
   {
    "duration": 29,
    "start_time": "2021-10-29T21:51:27.307Z"
   },
   {
    "duration": 3113,
    "start_time": "2021-10-29T21:51:27.339Z"
   },
   {
    "duration": 16,
    "start_time": "2021-10-29T21:51:30.454Z"
   },
   {
    "duration": 33,
    "start_time": "2021-10-29T21:51:30.472Z"
   },
   {
    "duration": 9,
    "start_time": "2021-10-29T21:51:30.510Z"
   },
   {
    "duration": 7,
    "start_time": "2021-10-29T21:51:30.523Z"
   },
   {
    "duration": 20,
    "start_time": "2021-10-29T21:51:30.532Z"
   },
   {
    "duration": 22,
    "start_time": "2021-10-29T21:51:30.554Z"
   },
   {
    "duration": 67,
    "start_time": "2021-10-29T21:51:30.579Z"
   },
   {
    "duration": 152,
    "start_time": "2021-10-29T21:51:30.652Z"
   },
   {
    "duration": 7,
    "start_time": "2021-10-29T21:51:30.810Z"
   },
   {
    "duration": 40,
    "start_time": "2021-10-29T21:51:30.820Z"
   },
   {
    "duration": 57,
    "start_time": "2021-10-29T21:51:30.862Z"
   },
   {
    "duration": 8,
    "start_time": "2021-10-29T21:51:30.922Z"
   },
   {
    "duration": 148,
    "start_time": "2021-10-29T21:51:30.932Z"
   },
   {
    "duration": 35,
    "start_time": "2021-10-29T21:51:31.082Z"
   },
   {
    "duration": 7,
    "start_time": "2021-10-29T21:51:31.120Z"
   },
   {
    "duration": 14,
    "start_time": "2021-10-29T21:51:31.130Z"
   },
   {
    "duration": 36,
    "start_time": "2021-10-29T21:51:31.146Z"
   },
   {
    "duration": 58,
    "start_time": "2021-10-29T21:51:31.185Z"
   },
   {
    "duration": 4,
    "start_time": "2021-10-29T21:51:31.245Z"
   },
   {
    "duration": 17,
    "start_time": "2021-10-29T21:51:31.252Z"
   },
   {
    "duration": 22,
    "start_time": "2021-10-29T21:51:31.271Z"
   },
   {
    "duration": 19,
    "start_time": "2021-10-29T21:51:31.296Z"
   },
   {
    "duration": 16,
    "start_time": "2021-10-29T21:51:31.318Z"
   },
   {
    "duration": 15,
    "start_time": "2021-10-29T21:51:31.337Z"
   },
   {
    "duration": 6510,
    "start_time": "2021-10-29T21:51:31.355Z"
   },
   {
    "duration": 7181,
    "start_time": "2021-10-29T21:51:37.867Z"
   },
   {
    "duration": 3,
    "start_time": "2021-10-29T21:51:45.050Z"
   },
   {
    "duration": 66,
    "start_time": "2021-10-29T21:51:45.055Z"
   },
   {
    "duration": 19,
    "start_time": "2021-10-29T21:51:45.124Z"
   },
   {
    "duration": 22,
    "start_time": "2021-10-29T21:51:45.146Z"
   },
   {
    "duration": 25,
    "start_time": "2021-10-29T21:51:45.171Z"
   },
   {
    "duration": 47,
    "start_time": "2021-10-29T21:51:45.198Z"
   },
   {
    "duration": 53,
    "start_time": "2021-10-29T21:51:45.247Z"
   },
   {
    "duration": 11,
    "start_time": "2021-10-29T21:51:45.313Z"
   },
   {
    "duration": 17,
    "start_time": "2021-10-29T21:51:45.326Z"
   },
   {
    "duration": 325,
    "start_time": "2021-10-29T21:51:45.346Z"
   },
   {
    "duration": 246,
    "start_time": "2021-10-29T21:51:45.673Z"
   },
   {
    "duration": 634,
    "start_time": "2021-10-29T21:51:45.923Z"
   },
   {
    "duration": 632,
    "start_time": "2021-10-29T21:51:46.560Z"
   },
   {
    "duration": 708,
    "start_time": "2021-10-29T21:51:47.199Z"
   },
   {
    "duration": 624,
    "start_time": "2021-10-29T21:51:47.911Z"
   },
   {
    "duration": 630,
    "start_time": "2021-10-29T21:51:48.538Z"
   },
   {
    "duration": 66,
    "start_time": "2021-10-29T21:51:49.170Z"
   },
   {
    "duration": 124,
    "start_time": "2021-10-29T21:51:49.238Z"
   },
   {
    "duration": 4,
    "start_time": "2021-10-29T21:51:49.364Z"
   },
   {
    "duration": 13,
    "start_time": "2021-10-29T21:51:49.370Z"
   },
   {
    "duration": 562,
    "start_time": "2021-10-29T21:51:49.405Z"
   },
   {
    "duration": -37,
    "start_time": "2021-10-29T21:51:50.006Z"
   },
   {
    "duration": -44,
    "start_time": "2021-10-29T21:51:50.015Z"
   },
   {
    "duration": 1874,
    "start_time": "2021-11-01T20:37:02.793Z"
   },
   {
    "duration": 760,
    "start_time": "2021-11-01T20:37:04.671Z"
   },
   {
    "duration": 21,
    "start_time": "2021-11-01T20:37:05.435Z"
   },
   {
    "duration": 27,
    "start_time": "2021-11-01T20:37:05.459Z"
   },
   {
    "duration": 72,
    "start_time": "2021-11-01T20:37:05.490Z"
   },
   {
    "duration": 5268,
    "start_time": "2021-11-01T20:37:05.565Z"
   },
   {
    "duration": 11,
    "start_time": "2021-11-01T20:37:10.835Z"
   },
   {
    "duration": 29,
    "start_time": "2021-11-01T20:37:10.850Z"
   },
   {
    "duration": 52,
    "start_time": "2021-11-01T20:37:10.882Z"
   },
   {
    "duration": 3449,
    "start_time": "2021-11-01T20:37:10.937Z"
   },
   {
    "duration": 10,
    "start_time": "2021-11-01T20:37:14.388Z"
   },
   {
    "duration": 37,
    "start_time": "2021-11-01T20:37:14.400Z"
   },
   {
    "duration": 26,
    "start_time": "2021-11-01T20:37:14.440Z"
   },
   {
    "duration": 2848,
    "start_time": "2021-11-01T20:37:14.468Z"
   },
   {
    "duration": 14,
    "start_time": "2021-11-01T20:37:17.319Z"
   },
   {
    "duration": 18,
    "start_time": "2021-11-01T20:37:17.335Z"
   },
   {
    "duration": 6,
    "start_time": "2021-11-01T20:37:17.355Z"
   },
   {
    "duration": 17,
    "start_time": "2021-11-01T20:37:17.364Z"
   },
   {
    "duration": 9,
    "start_time": "2021-11-01T20:37:17.384Z"
   },
   {
    "duration": 34,
    "start_time": "2021-11-01T20:37:17.395Z"
   },
   {
    "duration": 47,
    "start_time": "2021-11-01T20:37:17.431Z"
   },
   {
    "duration": 147,
    "start_time": "2021-11-01T20:37:17.480Z"
   },
   {
    "duration": 5,
    "start_time": "2021-11-01T20:37:17.632Z"
   },
   {
    "duration": 21,
    "start_time": "2021-11-01T20:37:17.640Z"
   },
   {
    "duration": 60,
    "start_time": "2021-11-01T20:37:17.664Z"
   },
   {
    "duration": 8,
    "start_time": "2021-11-01T20:37:17.727Z"
   },
   {
    "duration": 141,
    "start_time": "2021-11-01T20:37:17.738Z"
   },
   {
    "duration": 26,
    "start_time": "2021-11-01T20:37:17.882Z"
   },
   {
    "duration": 9,
    "start_time": "2021-11-01T20:37:17.922Z"
   },
   {
    "duration": 8,
    "start_time": "2021-11-01T20:37:17.933Z"
   },
   {
    "duration": 30,
    "start_time": "2021-11-01T20:37:17.943Z"
   },
   {
    "duration": 67,
    "start_time": "2021-11-01T20:37:17.975Z"
   },
   {
    "duration": 4,
    "start_time": "2021-11-01T20:37:18.045Z"
   },
   {
    "duration": 12,
    "start_time": "2021-11-01T20:37:18.051Z"
   },
   {
    "duration": 7,
    "start_time": "2021-11-01T20:37:18.066Z"
   },
   {
    "duration": 10,
    "start_time": "2021-11-01T20:37:18.075Z"
   },
   {
    "duration": 5997,
    "start_time": "2021-11-01T20:37:18.088Z"
   },
   {
    "duration": 3,
    "start_time": "2021-11-01T20:37:24.087Z"
   },
   {
    "duration": 52,
    "start_time": "2021-11-01T20:37:24.092Z"
   },
   {
    "duration": 13,
    "start_time": "2021-11-01T20:37:24.146Z"
   },
   {
    "duration": 14,
    "start_time": "2021-11-01T20:37:24.161Z"
   },
   {
    "duration": 48,
    "start_time": "2021-11-01T20:37:24.178Z"
   },
   {
    "duration": 37,
    "start_time": "2021-11-01T20:37:24.228Z"
   },
   {
    "duration": 16,
    "start_time": "2021-11-01T20:37:24.267Z"
   },
   {
    "duration": 43,
    "start_time": "2021-11-01T20:37:24.285Z"
   },
   {
    "duration": 14,
    "start_time": "2021-11-01T20:37:24.331Z"
   },
   {
    "duration": 250,
    "start_time": "2021-11-01T20:37:24.348Z"
   },
   {
    "duration": 233,
    "start_time": "2021-11-01T20:37:24.601Z"
   },
   {
    "duration": 593,
    "start_time": "2021-11-01T20:37:24.836Z"
   },
   {
    "duration": 561,
    "start_time": "2021-11-01T20:37:25.431Z"
   },
   {
    "duration": 699,
    "start_time": "2021-11-01T20:37:25.994Z"
   },
   {
    "duration": 584,
    "start_time": "2021-11-01T20:37:26.695Z"
   },
   {
    "duration": 59,
    "start_time": "2021-11-01T20:37:27.282Z"
   },
   {
    "duration": 8,
    "start_time": "2021-11-01T20:37:27.343Z"
   },
   {
    "duration": 12,
    "start_time": "2021-11-01T20:37:27.353Z"
   },
   {
    "duration": 15,
    "start_time": "2021-11-01T20:37:27.367Z"
   },
   {
    "duration": 1344,
    "start_time": "2021-11-01T20:39:08.029Z"
   },
   {
    "duration": 538,
    "start_time": "2021-11-01T20:39:09.376Z"
   },
   {
    "duration": 15,
    "start_time": "2021-11-01T20:39:09.918Z"
   },
   {
    "duration": 30,
    "start_time": "2021-11-01T20:39:09.936Z"
   },
   {
    "duration": 71,
    "start_time": "2021-11-01T20:39:09.968Z"
   },
   {
    "duration": 5124,
    "start_time": "2021-11-01T20:39:10.042Z"
   },
   {
    "duration": 12,
    "start_time": "2021-11-01T20:39:15.168Z"
   },
   {
    "duration": 46,
    "start_time": "2021-11-01T20:39:15.182Z"
   },
   {
    "duration": 29,
    "start_time": "2021-11-01T20:39:15.233Z"
   },
   {
    "duration": 3460,
    "start_time": "2021-11-01T20:39:15.266Z"
   },
   {
    "duration": 10,
    "start_time": "2021-11-01T20:39:18.729Z"
   },
   {
    "duration": 22,
    "start_time": "2021-11-01T20:39:18.742Z"
   },
   {
    "duration": 24,
    "start_time": "2021-11-01T20:39:18.767Z"
   },
   {
    "duration": 2896,
    "start_time": "2021-11-01T20:39:18.794Z"
   },
   {
    "duration": 14,
    "start_time": "2021-11-01T20:39:21.693Z"
   },
   {
    "duration": 20,
    "start_time": "2021-11-01T20:39:21.709Z"
   },
   {
    "duration": 8,
    "start_time": "2021-11-01T20:39:21.731Z"
   },
   {
    "duration": 6,
    "start_time": "2021-11-01T20:39:21.741Z"
   },
   {
    "duration": 19,
    "start_time": "2021-11-01T20:39:21.750Z"
   },
   {
    "duration": 16,
    "start_time": "2021-11-01T20:39:21.771Z"
   },
   {
    "duration": 77,
    "start_time": "2021-11-01T20:39:21.790Z"
   },
   {
    "duration": 149,
    "start_time": "2021-11-01T20:39:21.869Z"
   },
   {
    "duration": 4,
    "start_time": "2021-11-01T20:39:22.023Z"
   },
   {
    "duration": 22,
    "start_time": "2021-11-01T20:39:22.030Z"
   },
   {
    "duration": 34,
    "start_time": "2021-11-01T20:39:22.055Z"
   },
   {
    "duration": 36,
    "start_time": "2021-11-01T20:39:22.092Z"
   },
   {
    "duration": 140,
    "start_time": "2021-11-01T20:39:22.134Z"
   },
   {
    "duration": 26,
    "start_time": "2021-11-01T20:39:22.277Z"
   },
   {
    "duration": 21,
    "start_time": "2021-11-01T20:39:22.306Z"
   },
   {
    "duration": 9,
    "start_time": "2021-11-01T20:39:22.330Z"
   },
   {
    "duration": 20,
    "start_time": "2021-11-01T20:39:22.342Z"
   },
   {
    "duration": 71,
    "start_time": "2021-11-01T20:39:22.365Z"
   },
   {
    "duration": 5,
    "start_time": "2021-11-01T20:39:22.438Z"
   },
   {
    "duration": 8,
    "start_time": "2021-11-01T20:39:22.446Z"
   },
   {
    "duration": 6,
    "start_time": "2021-11-01T20:39:22.456Z"
   },
   {
    "duration": 8,
    "start_time": "2021-11-01T20:39:22.465Z"
   },
   {
    "duration": 5972,
    "start_time": "2021-11-01T20:39:22.476Z"
   },
   {
    "duration": 3,
    "start_time": "2021-11-01T20:39:28.450Z"
   },
   {
    "duration": 37,
    "start_time": "2021-11-01T20:39:28.455Z"
   },
   {
    "duration": 35,
    "start_time": "2021-11-01T20:39:28.494Z"
   },
   {
    "duration": 12,
    "start_time": "2021-11-01T20:39:28.532Z"
   },
   {
    "duration": 18,
    "start_time": "2021-11-01T20:39:28.548Z"
   },
   {
    "duration": 80,
    "start_time": "2021-11-01T20:39:28.568Z"
   },
   {
    "duration": 16,
    "start_time": "2021-11-01T20:39:28.651Z"
   },
   {
    "duration": 10,
    "start_time": "2021-11-01T20:39:28.670Z"
   },
   {
    "duration": 53,
    "start_time": "2021-11-01T20:39:28.682Z"
   },
   {
    "duration": 257,
    "start_time": "2021-11-01T20:39:28.738Z"
   },
   {
    "duration": 235,
    "start_time": "2021-11-01T20:39:28.998Z"
   },
   {
    "duration": 598,
    "start_time": "2021-11-01T20:39:29.236Z"
   },
   {
    "duration": 568,
    "start_time": "2021-11-01T20:39:29.836Z"
   },
   {
    "duration": 667,
    "start_time": "2021-11-01T20:39:30.406Z"
   },
   {
    "duration": 609,
    "start_time": "2021-11-01T20:39:31.076Z"
   },
   {
    "duration": 67,
    "start_time": "2021-11-01T20:39:31.688Z"
   },
   {
    "duration": 10,
    "start_time": "2021-11-01T20:39:31.758Z"
   },
   {
    "duration": 11,
    "start_time": "2021-11-01T20:39:31.772Z"
   },
   {
    "duration": 38,
    "start_time": "2021-11-01T20:39:31.787Z"
   }
  ],
  "kernelspec": {
   "display_name": "Python 3",
   "language": "python",
   "name": "python3"
  },
  "language_info": {
   "codemirror_mode": {
    "name": "ipython",
    "version": 3
   },
   "file_extension": ".py",
   "mimetype": "text/x-python",
   "name": "python",
   "nbconvert_exporter": "python",
   "pygments_lexer": "ipython3",
   "version": "3.7.8"
  },
  "toc": {
   "base_numbering": 1,
   "nav_menu": {},
   "number_sections": true,
   "sideBar": true,
   "skip_h1_title": true,
   "title_cell": "Table of Contents",
   "title_sidebar": "Contents",
   "toc_cell": false,
   "toc_position": {
    "height": "calc(100% - 180px)",
    "left": "10px",
    "top": "150px",
    "width": "257px"
   },
   "toc_section_display": true,
   "toc_window_display": false
  }
 },
 "nbformat": 4,
 "nbformat_minor": 2
}
