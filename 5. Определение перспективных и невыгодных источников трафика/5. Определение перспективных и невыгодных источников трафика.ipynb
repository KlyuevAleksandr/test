{
 "cells": [
  {
   "cell_type": "markdown",
   "metadata": {},
   "source": [
    "<h1>Определение перспективных и невыгодных источников трафика<span \n",
    "class=\"tocSkip\"></span></h1>"
   ]
  },
  {
   "cell_type": "markdown",
   "metadata": {},
   "source": [
    "**Описание проекта**\n",
    "\n",
    "Вас пригласили на стажировку в отдел маркетинговой аналитики Яндекс.Афиши. Первое задание: помочь маркетологам снизить расходы — отказаться от невыгодных источников трафика и перераспределить бюджет.\n",
    "\n",
    "Есть данные Яндекс.Афиши с июня 2017 по конец мая 2018 года:\n",
    "- лог сервера с данными о посещениях сайта Яндекс.Афиши,\n",
    "- выгрузка всех заказов за этот период,\n",
    "- статистика рекламных расходов.\n",
    "\n",
    "Предстоит изучить:\n",
    "- как клиенты пользуются сервисом,\n",
    "- когда делают первые покупки на сайте,\n",
    "- сколько денег приносит компании каждый клиент,\n",
    "- когда расходы на привлечение клиента окупаются.\n",
    "Выручка измеряется в условных единицах — у.е.\n",
    "\n",
    "\n",
    "Цели проекта:\n",
    "- помочь маркетологам снизить расходы — отказаться от невыгодных источников трафика и перераспределить бюджет;\n",
    "- определить источники трафика, на которые маркетологам стоит делать упор;\n",
    "- определить самые перспективные для компании когорты клиентов;"
   ]
  },
  {
   "cell_type": "markdown",
   "metadata": {},
   "source": [
    "# План проекта: #\n",
    "\n",
    "1. [Загрузка данных и подготовка их к анализу](#cell1)\n",
    "2. [Рассчёт метрик и построение графиков](#cell2)\n",
    "   - 2.1 [Продуктовые метрики](#cell3)\n",
    "   - 2.2 [Метрики электронной коммерции](#cell4)\n",
    "   - 2.3 [Маркетинговые метрики](#cell5)\n",
    "5. [Выводы и рекомендации](#cell6)"
   ]
  },
  {
   "cell_type": "markdown",
   "metadata": {},
   "source": [
    "## Загрузка данных и подготовка их к анализу\n",
    "<a id='cell1'></a>"
   ]
  },
  {
   "cell_type": "markdown",
   "metadata": {},
   "source": [
    "Импортируем различные библиотеки:"
   ]
  },
  {
   "cell_type": "code",
   "execution_count": 1,
   "metadata": {},
   "outputs": [],
   "source": [
    "import pandas as pd\n",
    "import numpy as np\n",
    "import matplotlib.pyplot as plt\n",
    "import math\n",
    "from scipy import stats as st\n",
    "import copy\n",
    "import requests\n",
    "import re\n",
    "from bs4 import BeautifulSoup\n",
    "import json\n",
    "import random \n",
    "import seaborn as sns\n",
    "import plotly.graph_objects as go"
   ]
  },
  {
   "cell_type": "markdown",
   "metadata": {},
   "source": [
    "Прочитаем приложенные файлы и сохраним их в переменные:"
   ]
  },
  {
   "cell_type": "code",
   "execution_count": 2,
   "metadata": {},
   "outputs": [],
   "source": [
    "data_visits = pd.read_csv('/datasets/visits_log.csv')\n",
    "data_orders = pd.read_csv('/datasets/orders_log.csv')\n",
    "data_costs = pd.read_csv('/datasets/costs.csv')"
   ]
  },
  {
   "cell_type": "markdown",
   "metadata": {},
   "source": [
    "Общая информация о таблицах и первые строки таблиц:"
   ]
  },
  {
   "cell_type": "code",
   "execution_count": 3,
   "metadata": {},
   "outputs": [
    {
     "name": "stdout",
     "output_type": "stream",
     "text": [
      "<class 'pandas.core.frame.DataFrame'>\n",
      "RangeIndex: 359400 entries, 0 to 359399\n",
      "Data columns (total 5 columns):\n",
      "Device       359400 non-null object\n",
      "End Ts       359400 non-null object\n",
      "Source Id    359400 non-null int64\n",
      "Start Ts     359400 non-null object\n",
      "Uid          359400 non-null uint64\n",
      "dtypes: int64(1), object(3), uint64(1)\n",
      "memory usage: 13.7+ MB\n"
     ]
    },
    {
     "data": {
      "text/html": [
       "<div>\n",
       "<style scoped>\n",
       "    .dataframe tbody tr th:only-of-type {\n",
       "        vertical-align: middle;\n",
       "    }\n",
       "\n",
       "    .dataframe tbody tr th {\n",
       "        vertical-align: top;\n",
       "    }\n",
       "\n",
       "    .dataframe thead th {\n",
       "        text-align: right;\n",
       "    }\n",
       "</style>\n",
       "<table border=\"1\" class=\"dataframe\">\n",
       "  <thead>\n",
       "    <tr style=\"text-align: right;\">\n",
       "      <th></th>\n",
       "      <th>Device</th>\n",
       "      <th>End Ts</th>\n",
       "      <th>Source Id</th>\n",
       "      <th>Start Ts</th>\n",
       "      <th>Uid</th>\n",
       "    </tr>\n",
       "  </thead>\n",
       "  <tbody>\n",
       "    <tr>\n",
       "      <td>0</td>\n",
       "      <td>touch</td>\n",
       "      <td>2017-12-20 17:38:00</td>\n",
       "      <td>4</td>\n",
       "      <td>2017-12-20 17:20:00</td>\n",
       "      <td>16879256277535980062</td>\n",
       "    </tr>\n",
       "    <tr>\n",
       "      <td>1</td>\n",
       "      <td>desktop</td>\n",
       "      <td>2018-02-19 17:21:00</td>\n",
       "      <td>2</td>\n",
       "      <td>2018-02-19 16:53:00</td>\n",
       "      <td>104060357244891740</td>\n",
       "    </tr>\n",
       "    <tr>\n",
       "      <td>2</td>\n",
       "      <td>touch</td>\n",
       "      <td>2017-07-01 01:54:00</td>\n",
       "      <td>5</td>\n",
       "      <td>2017-07-01 01:54:00</td>\n",
       "      <td>7459035603376831527</td>\n",
       "    </tr>\n",
       "    <tr>\n",
       "      <td>3</td>\n",
       "      <td>desktop</td>\n",
       "      <td>2018-05-20 11:23:00</td>\n",
       "      <td>9</td>\n",
       "      <td>2018-05-20 10:59:00</td>\n",
       "      <td>16174680259334210214</td>\n",
       "    </tr>\n",
       "    <tr>\n",
       "      <td>4</td>\n",
       "      <td>desktop</td>\n",
       "      <td>2017-12-27 14:06:00</td>\n",
       "      <td>3</td>\n",
       "      <td>2017-12-27 14:06:00</td>\n",
       "      <td>9969694820036681168</td>\n",
       "    </tr>\n",
       "  </tbody>\n",
       "</table>\n",
       "</div>"
      ],
      "text/plain": [
       "    Device               End Ts  Source Id             Start Ts  \\\n",
       "0    touch  2017-12-20 17:38:00          4  2017-12-20 17:20:00   \n",
       "1  desktop  2018-02-19 17:21:00          2  2018-02-19 16:53:00   \n",
       "2    touch  2017-07-01 01:54:00          5  2017-07-01 01:54:00   \n",
       "3  desktop  2018-05-20 11:23:00          9  2018-05-20 10:59:00   \n",
       "4  desktop  2017-12-27 14:06:00          3  2017-12-27 14:06:00   \n",
       "\n",
       "                    Uid  \n",
       "0  16879256277535980062  \n",
       "1    104060357244891740  \n",
       "2   7459035603376831527  \n",
       "3  16174680259334210214  \n",
       "4   9969694820036681168  "
      ]
     },
     "execution_count": 3,
     "metadata": {},
     "output_type": "execute_result"
    }
   ],
   "source": [
    "data_visits.info()\n",
    "data_visits.head()"
   ]
  },
  {
   "cell_type": "code",
   "execution_count": 4,
   "metadata": {},
   "outputs": [
    {
     "name": "stdout",
     "output_type": "stream",
     "text": [
      "<class 'pandas.core.frame.DataFrame'>\n",
      "RangeIndex: 50415 entries, 0 to 50414\n",
      "Data columns (total 3 columns):\n",
      "Buy Ts     50415 non-null object\n",
      "Revenue    50415 non-null float64\n",
      "Uid        50415 non-null uint64\n",
      "dtypes: float64(1), object(1), uint64(1)\n",
      "memory usage: 1.2+ MB\n"
     ]
    },
    {
     "data": {
      "text/html": [
       "<div>\n",
       "<style scoped>\n",
       "    .dataframe tbody tr th:only-of-type {\n",
       "        vertical-align: middle;\n",
       "    }\n",
       "\n",
       "    .dataframe tbody tr th {\n",
       "        vertical-align: top;\n",
       "    }\n",
       "\n",
       "    .dataframe thead th {\n",
       "        text-align: right;\n",
       "    }\n",
       "</style>\n",
       "<table border=\"1\" class=\"dataframe\">\n",
       "  <thead>\n",
       "    <tr style=\"text-align: right;\">\n",
       "      <th></th>\n",
       "      <th>Buy Ts</th>\n",
       "      <th>Revenue</th>\n",
       "      <th>Uid</th>\n",
       "    </tr>\n",
       "  </thead>\n",
       "  <tbody>\n",
       "    <tr>\n",
       "      <td>0</td>\n",
       "      <td>2017-06-01 00:10:00</td>\n",
       "      <td>17.00</td>\n",
       "      <td>10329302124590727494</td>\n",
       "    </tr>\n",
       "    <tr>\n",
       "      <td>1</td>\n",
       "      <td>2017-06-01 00:25:00</td>\n",
       "      <td>0.55</td>\n",
       "      <td>11627257723692907447</td>\n",
       "    </tr>\n",
       "    <tr>\n",
       "      <td>2</td>\n",
       "      <td>2017-06-01 00:27:00</td>\n",
       "      <td>0.37</td>\n",
       "      <td>17903680561304213844</td>\n",
       "    </tr>\n",
       "    <tr>\n",
       "      <td>3</td>\n",
       "      <td>2017-06-01 00:29:00</td>\n",
       "      <td>0.55</td>\n",
       "      <td>16109239769442553005</td>\n",
       "    </tr>\n",
       "    <tr>\n",
       "      <td>4</td>\n",
       "      <td>2017-06-01 07:58:00</td>\n",
       "      <td>0.37</td>\n",
       "      <td>14200605875248379450</td>\n",
       "    </tr>\n",
       "  </tbody>\n",
       "</table>\n",
       "</div>"
      ],
      "text/plain": [
       "                Buy Ts  Revenue                   Uid\n",
       "0  2017-06-01 00:10:00    17.00  10329302124590727494\n",
       "1  2017-06-01 00:25:00     0.55  11627257723692907447\n",
       "2  2017-06-01 00:27:00     0.37  17903680561304213844\n",
       "3  2017-06-01 00:29:00     0.55  16109239769442553005\n",
       "4  2017-06-01 07:58:00     0.37  14200605875248379450"
      ]
     },
     "execution_count": 4,
     "metadata": {},
     "output_type": "execute_result"
    }
   ],
   "source": [
    "data_orders.info()\n",
    "data_orders.head()"
   ]
  },
  {
   "cell_type": "code",
   "execution_count": 5,
   "metadata": {},
   "outputs": [
    {
     "name": "stdout",
     "output_type": "stream",
     "text": [
      "<class 'pandas.core.frame.DataFrame'>\n",
      "RangeIndex: 2542 entries, 0 to 2541\n",
      "Data columns (total 3 columns):\n",
      "source_id    2542 non-null int64\n",
      "dt           2542 non-null object\n",
      "costs        2542 non-null float64\n",
      "dtypes: float64(1), int64(1), object(1)\n",
      "memory usage: 59.7+ KB\n"
     ]
    },
    {
     "data": {
      "text/html": [
       "<div>\n",
       "<style scoped>\n",
       "    .dataframe tbody tr th:only-of-type {\n",
       "        vertical-align: middle;\n",
       "    }\n",
       "\n",
       "    .dataframe tbody tr th {\n",
       "        vertical-align: top;\n",
       "    }\n",
       "\n",
       "    .dataframe thead th {\n",
       "        text-align: right;\n",
       "    }\n",
       "</style>\n",
       "<table border=\"1\" class=\"dataframe\">\n",
       "  <thead>\n",
       "    <tr style=\"text-align: right;\">\n",
       "      <th></th>\n",
       "      <th>source_id</th>\n",
       "      <th>dt</th>\n",
       "      <th>costs</th>\n",
       "    </tr>\n",
       "  </thead>\n",
       "  <tbody>\n",
       "    <tr>\n",
       "      <td>0</td>\n",
       "      <td>1</td>\n",
       "      <td>2017-06-01</td>\n",
       "      <td>75.20</td>\n",
       "    </tr>\n",
       "    <tr>\n",
       "      <td>1</td>\n",
       "      <td>1</td>\n",
       "      <td>2017-06-02</td>\n",
       "      <td>62.25</td>\n",
       "    </tr>\n",
       "    <tr>\n",
       "      <td>2</td>\n",
       "      <td>1</td>\n",
       "      <td>2017-06-03</td>\n",
       "      <td>36.53</td>\n",
       "    </tr>\n",
       "    <tr>\n",
       "      <td>3</td>\n",
       "      <td>1</td>\n",
       "      <td>2017-06-04</td>\n",
       "      <td>55.00</td>\n",
       "    </tr>\n",
       "    <tr>\n",
       "      <td>4</td>\n",
       "      <td>1</td>\n",
       "      <td>2017-06-05</td>\n",
       "      <td>57.08</td>\n",
       "    </tr>\n",
       "  </tbody>\n",
       "</table>\n",
       "</div>"
      ],
      "text/plain": [
       "   source_id          dt  costs\n",
       "0          1  2017-06-01  75.20\n",
       "1          1  2017-06-02  62.25\n",
       "2          1  2017-06-03  36.53\n",
       "3          1  2017-06-04  55.00\n",
       "4          1  2017-06-05  57.08"
      ]
     },
     "execution_count": 5,
     "metadata": {},
     "output_type": "execute_result"
    }
   ],
   "source": [
    "data_costs.info()\n",
    "data_costs.head()"
   ]
  },
  {
   "cell_type": "markdown",
   "metadata": {},
   "source": [
    "**Описание данных**\n",
    "\n",
    "В нашем распоряжении три датасета.\n",
    "\n",
    "- visits_log.csv - хранит лог сервера с информацией о посещениях сайта, \n",
    "- orders_log.csv — информацию о заказах, \n",
    "- costs.csv — информацию о расходах на маркетинг.\n",
    "\n",
    "Структура visits_log.csv\n",
    "- Uid — уникальный идентификатор пользователя,\n",
    "- Device — категория устройства пользователя,\n",
    "- Start Ts — дата и время начала сессии,\n",
    "- End Ts — дата и время окончания сессии,\n",
    "- Source Id — идентификатор источника перехода на сайт.\n",
    "\n",
    "Структура orders_log.csv\n",
    "- Uid — уникальный идентификатор пользователя,\n",
    "- Buy Ts — дата и время заказа,\n",
    "- Revenue — сумма заказа.\n",
    "\n",
    "Структура costs.csv\n",
    "- source_id — идентификатор рекламного источника,\n",
    "- dt — дата проведения рекламной кампании,\n",
    "- costs — расходы на эту кампанию."
   ]
  },
  {
   "cell_type": "markdown",
   "metadata": {},
   "source": [
    "Проверим данные на наличие пропусков:"
   ]
  },
  {
   "cell_type": "code",
   "execution_count": 6,
   "metadata": {},
   "outputs": [
    {
     "data": {
      "text/plain": [
       "Device       0\n",
       "End Ts       0\n",
       "Source Id    0\n",
       "Start Ts     0\n",
       "Uid          0\n",
       "dtype: int64"
      ]
     },
     "execution_count": 6,
     "metadata": {},
     "output_type": "execute_result"
    }
   ],
   "source": [
    "data_visits.isnull().sum()"
   ]
  },
  {
   "cell_type": "code",
   "execution_count": 7,
   "metadata": {},
   "outputs": [
    {
     "data": {
      "text/plain": [
       "Buy Ts     0\n",
       "Revenue    0\n",
       "Uid        0\n",
       "dtype: int64"
      ]
     },
     "execution_count": 7,
     "metadata": {},
     "output_type": "execute_result"
    }
   ],
   "source": [
    "data_orders.isnull().sum()"
   ]
  },
  {
   "cell_type": "code",
   "execution_count": 8,
   "metadata": {},
   "outputs": [
    {
     "data": {
      "text/plain": [
       "source_id    0\n",
       "dt           0\n",
       "costs        0\n",
       "dtype: int64"
      ]
     },
     "execution_count": 8,
     "metadata": {},
     "output_type": "execute_result"
    }
   ],
   "source": [
    "data_costs.isnull().sum()"
   ]
  },
  {
   "cell_type": "markdown",
   "metadata": {},
   "source": [
    "В предоставленных данных пропуски отсутвуют."
   ]
  },
  {
   "cell_type": "markdown",
   "metadata": {},
   "source": [
    "Изменим название столбцов в таблицах(приведём к нижнему регистру):"
   ]
  },
  {
   "cell_type": "code",
   "execution_count": 9,
   "metadata": {},
   "outputs": [],
   "source": [
    "data_visits.columns = data_visits.columns.str.lower()\n",
    "data_orders.columns = data_orders.columns.str.lower()\n",
    "data_costs.columns = data_costs.columns.str.lower()"
   ]
  },
  {
   "cell_type": "markdown",
   "metadata": {},
   "source": [
    "Изменим название столбцов в таблицах:"
   ]
  },
  {
   "cell_type": "code",
   "execution_count": 10,
   "metadata": {},
   "outputs": [],
   "source": [
    "data_visits.columns = ['device', 'end_ts', 'source_id', 'start_ts', 'uid']\n",
    "data_orders.columns = ['buy_ts', 'revenue', 'uid']"
   ]
  },
  {
   "cell_type": "markdown",
   "metadata": {},
   "source": [
    "Преобразуем данные в нужные типы:"
   ]
  },
  {
   "cell_type": "code",
   "execution_count": 11,
   "metadata": {},
   "outputs": [],
   "source": [
    "data_visits['end_ts'] = pd.to_datetime(data_visits['end_ts'])\n",
    "data_visits['start_ts'] = pd.to_datetime(data_visits['start_ts'])\n",
    "data_orders['buy_ts'] = pd.to_datetime(data_orders['buy_ts'])\n",
    "data_costs['dt'] = pd.to_datetime(data_costs['dt'])"
   ]
  },
  {
   "cell_type": "markdown",
   "metadata": {},
   "source": [
    "Добавим необходимые столбцы к таблицам:"
   ]
  },
  {
   "cell_type": "code",
   "execution_count": 12,
   "metadata": {},
   "outputs": [],
   "source": [
    "data_visits['data_visits_year']  = data_visits['start_ts'].dt.year\n",
    "data_visits['data_visits_month'] = data_visits['start_ts'].dt.month\n",
    "data_visits['data_visits_week']  = data_visits['start_ts'].dt.week\n",
    "data_visits['data_visits_date'] = data_visits['start_ts'].dt.date\n",
    "data_orders['data_orders_year']  = data_orders['buy_ts'].dt.year\n",
    "data_orders['data_orders_month']  = data_orders['buy_ts'].dt.month\n",
    "data_orders['data_orders_week']  = data_orders['buy_ts'].dt.week\n",
    "data_orders['data_orders_date']  = data_orders['buy_ts'].dt.date\n",
    "data_costs['data_costs_year']  = data_costs['dt'].dt.year\n",
    "data_costs['data_costs_month'] = data_costs['dt'].dt.month\n",
    "data_costs['data_costs_week']  = data_costs['dt'].dt.week\n",
    "data_costs['data_costs_date'] = data_costs['dt'].dt.date"
   ]
  },
  {
   "cell_type": "markdown",
   "metadata": {},
   "source": [
    "Найдём и добавим время первой сессии и время первого заказа:"
   ]
  },
  {
   "cell_type": "code",
   "execution_count": 13,
   "metadata": {},
   "outputs": [],
   "source": [
    "data_first_session = data_visits.groupby(['uid']).agg({'start_ts':'min', 'source_id':'first'})\n",
    "data_first_session.columns = ['first_activity', 'first_source']\n",
    "\n",
    "data_first_order = data_orders.groupby(['uid']).agg({'buy_ts':'min'})\n",
    "data_first_order.columns = ['first_buy_ts']\n",
    "\n",
    "first_order = data_first_order.join(data_first_session, on = 'uid')"
   ]
  },
  {
   "cell_type": "markdown",
   "metadata": {},
   "source": [
    "Проверим данные на наличие дубликатов:"
   ]
  },
  {
   "cell_type": "code",
   "execution_count": 14,
   "metadata": {},
   "outputs": [
    {
     "name": "stdout",
     "output_type": "stream",
     "text": [
      "0\n",
      "0\n",
      "0\n"
     ]
    }
   ],
   "source": [
    "print(data_visits.duplicated().sum())\n",
    "print(data_orders.duplicated().sum())\n",
    "print(data_costs.duplicated().sum())"
   ]
  },
  {
   "cell_type": "markdown",
   "metadata": {},
   "source": [
    "В предоставленных данных дубликаты отсутствуют."
   ]
  },
  {
   "cell_type": "markdown",
   "metadata": {},
   "source": [
    "Проверим данные на соответсвие заданному в условии временному интервалу:"
   ]
  },
  {
   "cell_type": "code",
   "execution_count": 15,
   "metadata": {},
   "outputs": [
    {
     "data": {
      "text/plain": [
       "count                  359400\n",
       "unique                 224303\n",
       "top       2017-11-24 16:06:00\n",
       "freq                       19\n",
       "first     2017-06-01 00:01:00\n",
       "last      2018-05-31 23:59:00\n",
       "Name: start_ts, dtype: object"
      ]
     },
     "execution_count": 15,
     "metadata": {},
     "output_type": "execute_result"
    }
   ],
   "source": [
    "data_visits['start_ts'].describe()"
   ]
  },
  {
   "cell_type": "code",
   "execution_count": 16,
   "metadata": {},
   "outputs": [
    {
     "data": {
      "text/plain": [
       "count                   50415\n",
       "unique                  45991\n",
       "top       2018-05-31 10:13:00\n",
       "freq                        9\n",
       "first     2017-06-01 00:10:00\n",
       "last      2018-06-01 00:02:00\n",
       "Name: buy_ts, dtype: object"
      ]
     },
     "execution_count": 16,
     "metadata": {},
     "output_type": "execute_result"
    }
   ],
   "source": [
    "data_orders['buy_ts'].describe()"
   ]
  },
  {
   "cell_type": "code",
   "execution_count": 17,
   "metadata": {},
   "outputs": [
    {
     "data": {
      "text/plain": [
       "count                    2542\n",
       "unique                    364\n",
       "top       2018-03-03 00:00:00\n",
       "freq                        7\n",
       "first     2017-06-01 00:00:00\n",
       "last      2018-05-31 00:00:00\n",
       "Name: dt, dtype: object"
      ]
     },
     "execution_count": 17,
     "metadata": {},
     "output_type": "execute_result"
    }
   ],
   "source": [
    "data_costs['dt'].describe()"
   ]
  },
  {
   "cell_type": "markdown",
   "metadata": {},
   "source": [
    "Предоставленные данные соответсвуют заданному в условии временному интервалу."
   ]
  },
  {
   "cell_type": "markdown",
   "metadata": {},
   "source": [
    "**Вывод**"
   ]
  },
  {
   "cell_type": "markdown",
   "metadata": {},
   "source": [
    "С предоставленными данными ознакомились. В данных отсутствуют пропуски, были изменены названия столбцов(и привели их к нижнему регистру), изменены типы данных в столбцах и добавлены дополнительные столбцы."
   ]
  },
  {
   "cell_type": "markdown",
   "metadata": {},
   "source": [
    "## Рассчёт метрик и построение графиков\n",
    "<a id='cell2'></a>"
   ]
  },
  {
   "cell_type": "markdown",
   "metadata": {},
   "source": [
    "### Продуктовые метрики\n",
    "<a id='cell3'></a>"
   ]
  },
  {
   "cell_type": "markdown",
   "metadata": {},
   "source": [
    "**2.1.1.** Рассчитаем DAU, WAU и MAU. Вычислим средние значения этих метрик за весь период. Отобразим изменения метрик во времени на графиках:"
   ]
  },
  {
   "cell_type": "code",
   "execution_count": 18,
   "metadata": {},
   "outputs": [
    {
     "name": "stdout",
     "output_type": "stream",
     "text": [
      "Средние количество уникальных пользователей в день: 907\n",
      "Средние количество пользователей в день: 987\n"
     ]
    },
    {
     "data": {
      "image/png": "[encoded data removed]",
      "text/plain": [
       "<Figure size 1800x360 with 1 Axes>"
      ]
     },
     "metadata": {
      "needs_background": "light"
     },
     "output_type": "display_data"
    }
   ],
   "source": [
    "dau_total = data_visits.groupby('data_visits_date').agg({'uid': 'nunique'}).mean()\n",
    "dau_total_all = data_visits.groupby('data_visits_date').agg({'uid': 'count'}).mean()\n",
    "print('Средние количество уникальных пользователей в день:', int(dau_total))\n",
    "print('Средние количество пользователей в день:', int(dau_total_all))\n",
    "dau_total = data_visits.groupby('data_visits_date').agg({'uid': 'nunique'})\n",
    "dau_total.plot(grid=True, kind='bar', figsize=(25, 5), legend=False)\n",
    "plt.title('Количество уникальных пользователей в день')\n",
    "plt.ylabel('Количиство посещений в день')\n",
    "plt.xlabel('День')\n",
    "plt.xticks([])\n",
    "plt.show()\n"
   ]
  },
  {
   "cell_type": "markdown",
   "metadata": {},
   "source": [
    "Средние количество уникальных пользователей в день: 907. Видна заметная разница в количестве между первыми тремя месяцами(лето) и последующими шестью месяцами(осень и зима)."
   ]
  },
  {
   "cell_type": "code",
   "execution_count": 19,
   "metadata": {},
   "outputs": [
    {
     "name": "stdout",
     "output_type": "stream",
     "text": [
      "Средние количество уникальных пользователей в неделю: 5716\n",
      "Средние количество пользователей в неделю: 6781\n"
     ]
    },
    {
     "data": {
      "image/png": "[encoded data removed]",
      "text/plain": [
       "<Figure size 1152x288 with 1 Axes>"
      ]
     },
     "metadata": {
      "needs_background": "light"
     },
     "output_type": "display_data"
    }
   ],
   "source": [
    "wau_total = (data_visits.groupby(['data_visits_year', 'data_visits_week']).agg({'uid': 'nunique'}).mean())\n",
    "wau_total_all = (data_visits.groupby(['data_visits_year', 'data_visits_week']).agg({'uid': 'count'}).mean())\n",
    "print('Средние количество уникальных пользователей в неделю:', int(wau_total))\n",
    "print('Средние количество пользователей в неделю:', int(wau_total_all))\n",
    "wau_total = (data_visits.groupby(['data_visits_year', 'data_visits_week']).agg({'uid': 'nunique'}))\n",
    "wau_total.plot(grid=True, kind='bar', figsize=(16, 4), legend=False)\n",
    "plt.title('Количество уникальных пользователей в неделю')\n",
    "plt.xlabel('Неделя')\n",
    "plt.ylabel('Количиство посещений в неделю')\n",
    "plt.show()"
   ]
  },
  {
   "cell_type": "markdown",
   "metadata": {},
   "source": [
    "Начиная с 39 недели 2017 года и по 12 неделю 2018 года количество уникальных пользователей более 6 тысяч в неделю. В другое время виден заметный спад, особенно с 22 по 35 недели."
   ]
  },
  {
   "cell_type": "code",
   "execution_count": 20,
   "metadata": {},
   "outputs": [
    {
     "name": "stdout",
     "output_type": "stream",
     "text": [
      "Средние количество уникальных пользователей в месяц: 23228\n",
      "Средние количество пользователей в месяц: 29950\n"
     ]
    },
    {
     "data": {
      "image/png": "[encoded data removed]",
      "text/plain": [
       "<Figure size 1152x288 with 1 Axes>"
      ]
     },
     "metadata": {
      "needs_background": "light"
     },
     "output_type": "display_data"
    }
   ],
   "source": [
    "mau_total = (data_visits.groupby(['data_visits_year', 'data_visits_month']).agg({'uid': 'nunique'}).mean())\n",
    "mau_total_all = (data_visits.groupby(['data_visits_year', 'data_visits_month']).agg({'uid': 'count'}).mean())\n",
    "print('Средние количество уникальных пользователей в месяц:', int(mau_total))\n",
    "print('Средние количество пользователей в месяц:', int(mau_total_all))\n",
    "mau_total = (data_visits.groupby(['data_visits_year', 'data_visits_month']).agg({'uid': 'nunique'}))\n",
    "mau_total.plot(grid=True, kind='bar', figsize=(16, 4), legend=False)\n",
    "plt.title('Количество уникальных пользователей в месяц')\n",
    "plt.xlabel('Месяц')\n",
    "plt.ylabel('Количиство посещений в месяц')\n",
    "plt.show()"
   ]
  },
  {
   "cell_type": "markdown",
   "metadata": {},
   "source": [
    "Пиковые значения с ноября по март. Наименьшее количество новых пользователей с июня по август."
   ]
  },
  {
   "cell_type": "markdown",
   "metadata": {},
   "source": [
    "Количество уникальных пользователей в летнее время значительно меньше(возможно это связано с сезоном отпусков), чем в осеннее и зимнее время(возможно это связано с погодными условиями, в осеннее и зимнее время пользователи чаще сидят дома и проводят время в сети интернет, а возможно и с большим количеством зимних праздников). Крайне редко клиенты посещают сайт более 1 раза в месяц."
   ]
  },
  {
   "cell_type": "markdown",
   "metadata": {},
   "source": [
    "**2.1.2.** Определим, сколько раз за день пользователи в среднем заходят на сайт. Построим график, отражающий изменения метрики во времени:"
   ]
  },
  {
   "cell_type": "code",
   "execution_count": 21,
   "metadata": {},
   "outputs": [
    {
     "name": "stdout",
     "output_type": "stream",
     "text": [
      "В среднем, пользователи заходят на сайт 987 раз в день\n"
     ]
    },
    {
     "data": {
      "image/png": "[encoded data removed]",
      "text/plain": [
       "<Figure size 1152x288 with 1 Axes>"
      ]
     },
     "metadata": {
      "needs_background": "light"
     },
     "output_type": "display_data"
    }
   ],
   "source": [
    "day_count = data_visits.groupby(['data_visits_year', 'data_visits_date']).agg({'uid': 'count'}).mean()\n",
    "print('В среднем, пользователи заходят на сайт', int(day_count), 'раз в день')\n",
    "day_count = data_visits.groupby(['data_visits_year', 'data_visits_date']).agg({'uid': 'count'})\n",
    "day_count.plot(grid=False, kind='bar', figsize=(16, 4), legend=False)\n",
    "plt.title('Количество посетителей за день')\n",
    "plt.xlabel('День')\n",
    "plt.ylabel('Количество посетителей')\n",
    "plt.xticks([])\n",
    "plt.show()"
   ]
  },
  {
   "cell_type": "markdown",
   "metadata": {},
   "source": [
    "В среднем, пользователи заходят на сайт 987 раз в день."
   ]
  },
  {
   "cell_type": "code",
   "execution_count": 22,
   "metadata": {},
   "outputs": [
    {
     "name": "stdout",
     "output_type": "stream",
     "text": [
      "Cреднее число сессий в день на одного пользователя в день: 1.09\n",
      "Cреднее число сессий в день на одного пользователя в неделю: 1.19\n",
      "Cреднее число сессий в день на одного пользователя в месяц: 1.29\n",
      "Cреднее число сессий в день на одного пользователя в год: 1.47\n"
     ]
    }
   ],
   "source": [
    "print('Cреднее число сессий в день на одного пользователя в день:', round(float(data_visits.groupby(['data_visits_year', 'data_visits_date', 'uid']).agg({'uid': 'count'}).mean()), 2))\n",
    "print('Cреднее число сессий в день на одного пользователя в неделю:', round(float(data_visits.groupby(['data_visits_year', 'data_visits_week', 'uid']).agg({'uid': 'count'}).mean()), 2))\n",
    "print('Cреднее число сессий в день на одного пользователя в месяц:', round(float(data_visits.groupby(['data_visits_year', 'data_visits_month', 'uid']).agg({'uid': 'count'}).mean()), 2))\n",
    "print('Cреднее число сессий в день на одного пользователя в год:', round(float(data_visits.groupby(['data_visits_year', 'uid']).agg({'uid': 'count'}).mean()), 2))"
   ]
  },
  {
   "cell_type": "markdown",
   "metadata": {},
   "source": [
    "Клиенты пользуются сервисом редко. Повторные обращения к сервису есть, но их не очень много. В среднем пользователи совершают 1 сессию в день. За год повторно возвращаются около половины клиентов."
   ]
  },
  {
   "cell_type": "markdown",
   "metadata": {},
   "source": [
    "**2.1.3.** Исследуем, сколько времени пользователи проводят на сайте. Узнаем продолжительность типичной пользовательской сессии за весь период. Построем график распределения:"
   ]
  },
  {
   "cell_type": "code",
   "execution_count": 23,
   "metadata": {},
   "outputs": [
    {
     "name": "stdout",
     "output_type": "stream",
     "text": [
      "0    60\n",
      "dtype: int64\n"
     ]
    },
    {
     "data": {
      "text/plain": [
       "count    359400.000000\n",
       "mean        643.506489\n",
       "std        1016.334786\n",
       "min           0.000000\n",
       "25%         120.000000\n",
       "50%         300.000000\n",
       "75%         840.000000\n",
       "max       84480.000000\n",
       "Name: session_duration_sec, dtype: float64"
      ]
     },
     "execution_count": 23,
     "metadata": {},
     "output_type": "execute_result"
    },
    {
     "data": {
      "image/png": "[encoded data removed]",
      "text/plain": [
       "<Figure size 1080x360 with 1 Axes>"
      ]
     },
     "metadata": {},
     "output_type": "display_data"
    }
   ],
   "source": [
    "data_visits['session_duration_sec'] = (data_visits['end_ts'] - data_visits['start_ts']).dt.seconds\n",
    "print(data_visits['session_duration_sec'].mode())\n",
    "sns.set()\n",
    "data_visits['session_duration_sec'].hist(bins= 100, range = [0,6000],figsize = (15,5))\n",
    "plt.title('Количество времени пользователи проводят на сайте')\n",
    "plt.xlabel('Секунды')\n",
    "plt.ylabel('Количиство')\n",
    "data_visits['session_duration_sec'].describe()"
   ]
  },
  {
   "cell_type": "markdown",
   "metadata": {},
   "source": [
    "Когда распределение близко к нормальному или нормальное — можно смотреть на среднюю или медиану. Наше — не из таких, рассчитаем моду (значение в выборке, которое встречается чаще всего): Чаще всего встречатеся значение - 60 секунд. Продолжительность типичной пользовательской сессии - 60 секунд."
   ]
  },
  {
   "cell_type": "code",
   "execution_count": 24,
   "metadata": {},
   "outputs": [
    {
     "name": "stdout",
     "output_type": "stream",
     "text": [
      "Продолжительность средней пользовательской сессии: 10 минут\n",
      "Медиана продолжительности пользовательской сессии: 5 минут\n",
      "Продолжительность средней пользовательской сессии: 0    60\n",
      "dtype: int64\n",
      "count    359400.000000\n",
      "mean         10.725108\n",
      "std          16.938913\n",
      "min           0.000000\n",
      "25%           2.000000\n",
      "50%           5.000000\n",
      "75%          14.000000\n",
      "max        1408.000000\n",
      "Name: session_duration_minuts, dtype: float64\n"
     ]
    },
    {
     "data": {
      "text/plain": [
       "(1, 50)"
      ]
     },
     "execution_count": 24,
     "metadata": {},
     "output_type": "execute_result"
    },
    {
     "data": {
      "image/png": "[encoded data removed]",
      "text/plain": [
       "<Figure size 432x288 with 1 Axes>"
      ]
     },
     "metadata": {},
     "output_type": "display_data"
    }
   ],
   "source": [
    "data_visits['session_duration_seconds'] = (data_visits['end_ts'] - data_visits['start_ts']).dt.seconds\n",
    "data_visits['session_duration_minuts'] = data_visits['session_duration_seconds'] / 60\n",
    "print('Продолжительность средней пользовательской сессии:', int(data_visits['session_duration_minuts'].mean()), 'минут')\n",
    "print('Медиана продолжительности пользовательской сессии:', int(data_visits['session_duration_minuts'].median()), 'минут')\n",
    "print('Продолжительность средней пользовательской сессии:', data_visits['session_duration_sec'].mode())\n",
    "data_visits_boxplot = data_visits['session_duration_minuts']\n",
    "print(data_visits_boxplot.describe())\n",
    "plt.boxplot(data_visits_boxplot)\n",
    "plt.ylim(1,50)"
   ]
  },
  {
   "cell_type": "markdown",
   "metadata": {},
   "source": [
    "Медиана продолжительности пользовательской сессии: 5 минут. Продолжительность 75% пользовательских сессии состовляет до 15 минут."
   ]
  },
  {
   "cell_type": "markdown",
   "metadata": {},
   "source": [
    "**2.1.4.** Рассчитайте Retention Rate, применяя когортный анализ. Покажите изменения метрики во времени на графике. Найдите средний Retention Rate на второй месяц «жизни» когорт:"
   ]
  },
  {
   "cell_type": "code",
   "execution_count": 25,
   "metadata": {},
   "outputs": [
    {
     "data": {
      "image/png": "[encoded data removed]",
      "text/plain": [
       "<Figure size 1224x648 with 2 Axes>"
      ]
     },
     "metadata": {},
     "output_type": "display_data"
    }
   ],
   "source": [
    "data_visits_copy = data_visits\n",
    "first_session = data_visits_copy.groupby('uid')['start_ts'].min()\n",
    "first_session.name = 'first_session'\n",
    "visits = pd.merge(data_visits_copy, first_session, on='uid')\n",
    "visits['first_month'] = visits['first_session'].astype('datetime64[M]')\n",
    "visits['session_month'] = visits['start_ts'].astype('datetime64[M]')\n",
    "visits['cohort_lifetime'] = ((visits['session_month'] - visits['first_month']) / np.timedelta64(1,'M')).round().astype('int')\n",
    "visits['first_month'] = visits['first_month'].dt.strftime('%Y-%m')\n",
    "\n",
    "cohorts = visits.groupby(['first_month','cohort_lifetime'])['uid'].nunique().reset_index()\n",
    "\n",
    "inital_users_count = cohorts[cohorts['cohort_lifetime'] == 0][['first_month','uid']]\n",
    "inital_users_count = inital_users_count.rename(columns={'uid':'cohort_users'})\n",
    "\n",
    "cohorts = cohorts.merge(inital_users_count,on='first_month')\n",
    "cohorts['retention'] = cohorts['uid'] / cohorts['cohort_users']\n",
    "\n",
    "retention_pivot = cohorts.pivot_table(\n",
    "    index='first_month',\n",
    "    columns='cohort_lifetime',\n",
    "    values='retention',aggfunc='sum')\n",
    "retention_pivot.fillna('')\n",
    "\n",
    "retention_pivot.loc['mean'] = retention_pivot.mean()\n",
    "\n",
    "sns.set(style='white')\n",
    "plt.figure(figsize=(17, 9))\n",
    "plt.title('Cohorts: User Retention')\n",
    "sns.heatmap(retention_pivot, annot=True, fmt='.1%',vmax=0.10,cmap=\"autumn\");"
   ]
  },
  {
   "cell_type": "code",
   "execution_count": 26,
   "metadata": {},
   "outputs": [
    {
     "data": {
      "image/png": "[encoded data removed]",
      "text/plain": [
       "<Figure size 1224x648 with 2 Axes>"
      ]
     },
     "metadata": {},
     "output_type": "display_data"
    }
   ],
   "source": [
    "retention_pivot = cohorts.pivot_table(\n",
    "    index='first_month',\n",
    "    columns='cohort_lifetime',\n",
    "    values='retention',aggfunc='sum')\n",
    "retention_pivot.fillna('')\n",
    "\n",
    "retention_pivot.loc['mean'] = retention_pivot.mean()\n",
    "\n",
    "retention_pivot = retention_pivot[[1]]\n",
    "sns.set(style='white')\n",
    "plt.figure(figsize=(17, 9))\n",
    "plt.title('Cohorts: User Retention')\n",
    "sns.heatmap(retention_pivot, annot=True, fmt='.1%',vmax=0.10,cmap=\"autumn\");"
   ]
  },
  {
   "cell_type": "markdown",
   "metadata": {},
   "source": [
    "Во втором месяце возвращается менее 10% клиентов, в среднем это 6,5%. C каждой новой кагортой, ситуация только ухудшается."
   ]
  },
  {
   "cell_type": "markdown",
   "metadata": {},
   "source": [
    "### Метрики электронной коммерции\n",
    "<a id='cell4'></a>"
   ]
  },
  {
   "cell_type": "markdown",
   "metadata": {},
   "source": [
    "**2.2.1.** Исследуем, сколько времени в среднем проходит с момента первого посещения сайта до совершения покупки:"
   ]
  },
  {
   "cell_type": "code",
   "execution_count": 27,
   "metadata": {},
   "outputs": [
    {
     "name": "stdout",
     "output_type": "stream",
     "text": [
      "               uid         first_visit\n",
      "0   11863502262781 2018-03-01 17:27:00\n",
      "1   49537067089222 2018-02-06 15:55:00\n",
      "2  297729379853735 2017-06-07 18:47:00\n",
      "3  313578113262317 2017-09-18 22:49:00\n",
      "4  325320750514679 2017-09-30 14:29:00\n"
     ]
    }
   ],
   "source": [
    "first_visits = data_visits.groupby('uid').agg({'start_ts': 'min'}).reset_index()\n",
    "first_visits.columns = ['uid', 'first_visit']\n",
    "print(first_visits.head()) "
   ]
  },
  {
   "cell_type": "code",
   "execution_count": 28,
   "metadata": {},
   "outputs": [
    {
     "name": "stdout",
     "output_type": "stream",
     "text": [
      "                uid         first_order\n",
      "0   313578113262317 2018-01-03 21:51:00\n",
      "1  1575281904278712 2017-06-03 10:13:00\n",
      "2  2429014661409475 2017-10-11 18:33:00\n",
      "3  2464366381792757 2018-01-28 15:54:00\n",
      "4  2551852515556206 2017-11-24 10:14:00\n"
     ]
    }
   ],
   "source": [
    "first_orders = data_orders.groupby('uid').agg({'buy_ts': 'min'}).reset_index()\n",
    "first_orders.columns = ['uid', 'first_order']\n",
    "print(first_orders.head()) "
   ]
  },
  {
   "cell_type": "code",
   "execution_count": 29,
   "metadata": {},
   "outputs": [
    {
     "name": "stdout",
     "output_type": "stream",
     "text": [
      "Среднее время с момента первого посещения сайта до совершения покупки 249 минут\n",
      "Медианное время с момента первого посещения сайта до совершения покупки 16 минут\n",
      "Мода с момента первого посещения сайта до совершения покупки 0    1.0\n",
      "dtype: float64 минут\n"
     ]
    },
    {
     "data": {
      "image/png": "[encoded data removed]",
      "text/plain": [
       "<Figure size 1224x288 with 1 Axes>"
      ]
     },
     "metadata": {},
     "output_type": "display_data"
    },
    {
     "data": {
      "text/plain": [
       "count    36523.000000\n",
       "mean       249.164691\n",
       "std        429.742785\n",
       "min          0.000000\n",
       "25%          4.000000\n",
       "50%         16.000000\n",
       "75%        252.000000\n",
       "max       1439.000000\n",
       "Name: time, dtype: float64"
      ]
     },
     "execution_count": 29,
     "metadata": {},
     "output_type": "execute_result"
    }
   ],
   "source": [
    "visits_orders = pd.merge(first_visits, first_orders, on='uid')\n",
    "visits_orders['time'] = (visits_orders['first_order'] - visits_orders['first_visit']).dt.seconds\n",
    "visits_orders['time'] = visits_orders['time'] / 60\n",
    "print('Среднее время с момента первого посещения сайта до совершения покупки', int(visits_orders['time'].mean()), 'минут')\n",
    "print('Медианное время с момента первого посещения сайта до совершения покупки', int(visits_orders['time'].median()), 'минут')\n",
    "print('Мода с момента первого посещения сайта до совершения покупки', visits_orders['time'].mode(), 'минут')\n",
    "visits_orders['time'].plot(kind = 'hist', bins = 100, range = (0,50), figsize = (17,4))\n",
    "plt.title('Среднее время с момента первого посещения сайта до совершения покупки')\n",
    "plt.xlim(0,50)\n",
    "plt.xlabel('Минут')\n",
    "plt.ylabel('Количиство')\n",
    "plt.show()\n",
    "visits_orders['time'].describe()\n"
   ]
  },
  {
   "cell_type": "markdown",
   "metadata": {},
   "source": [
    "Когда распределение близко к нормальному или нормальное — можно смотреть на среднюю или медиану. Наше — не из таких, рассчитаем моду (значение в выборке, которое встречается чаще всего): больше всего первых заказов совершается в промежутке между 1 и 2 минутой от начала первой сессии. Для совершения первой покупки, 50% клиентам требуется не более 16 минут."
   ]
  },
  {
   "cell_type": "markdown",
   "metadata": {},
   "source": [
    "**2.2.2.** Рассчитаем среднее количество покупок на одного покупателя за 7 месяцев 2017 года:"
   ]
  },
  {
   "cell_type": "code",
   "execution_count": 30,
   "metadata": {},
   "outputs": [
    {
     "name": "stdout",
     "output_type": "stream",
     "text": [
      "Cреднее количество покупок на одного покупателя за 7 месяцев 2017 года: 1.33\n",
      "Медианное количество покупок на одного покупателя за 7 месяцев 2017 года: 1.0\n"
     ]
    }
   ],
   "source": [
    "data_orders1 = data_orders.query('data_orders_year == 2017')\n",
    "print('Cреднее количество покупок на одного покупателя за 7 месяцев 2017 года:', round(float(data_orders1.groupby(['uid']).agg({'uid': 'count'}).mean()), 2))\n",
    "print('Медианное количество покупок на одного покупателя за 7 месяцев 2017 года:', round(float(data_orders1.groupby(['uid']).agg({'uid': 'count'}).median()), 2))"
   ]
  },
  {
   "cell_type": "markdown",
   "metadata": {},
   "source": [
    "Повторные покупки есть, но они редки. Менее половины клиентов совершили повторные покупки за 7 месяцев 2017 года, необходимо принимать меры для улучшения данного показателя."
   ]
  },
  {
   "cell_type": "markdown",
   "metadata": {},
   "source": [
    "**2.2.3.** Рассчитайте средний чек, применяя группировку по времени совершения покупки. Когортный анализ не подходит — он может исказить расчёты. Постройте график, отражающий изменения метрики во времени:"
   ]
  },
  {
   "cell_type": "code",
   "execution_count": 31,
   "metadata": {},
   "outputs": [
    {
     "name": "stdout",
     "output_type": "stream",
     "text": [
      "Средний чек: 5.0\n",
      "                                     revenue\n",
      "data_orders_year data_orders_month          \n",
      "2017             6                  4.060106\n",
      "                 7                  5.306589\n",
      "                 8                  4.847139\n",
      "                 9                  5.416448\n",
      "                 10                 4.928280\n",
      "                 11                 4.783518\n",
      "                 12                 5.852139\n",
      "2018             1                  4.112927\n",
      "                 2                  4.840095\n",
      "                 3                  5.413930\n",
      "                 4                  5.150645\n",
      "                 5                  4.771279\n",
      "                 6                  3.420000\n"
     ]
    },
    {
     "data": {
      "image/png": "[encoded data removed]",
      "text/plain": [
       "<Figure size 1152x288 with 1 Axes>"
      ]
     },
     "metadata": {},
     "output_type": "display_data"
    }
   ],
   "source": [
    "orders_avr = data_orders.groupby(['data_orders_year', 'data_orders_month']).agg({'revenue': 'mean'})\n",
    "print('Средний чек:', round(data_orders['revenue'].mean(), 2))\n",
    "print(orders_avr)\n",
    "orders_avr.plot(grid=True, kind='bar', figsize=(16, 4), legend=False)\n",
    "plt.title('Средний чек в месяц')\n",
    "plt.xlabel('Месяц')\n",
    "plt.ylabel('Средний чек (у.е.)')\n",
    "plt.show()"
   ]
  },
  {
   "cell_type": "code",
   "execution_count": 32,
   "metadata": {},
   "outputs": [
    {
     "data": {
      "text/plain": [
       "(0, 13)"
      ]
     },
     "execution_count": 32,
     "metadata": {},
     "output_type": "execute_result"
    },
    {
     "data": {
      "image/png": "[encoded data removed]",
      "text/plain": [
       "<Figure size 432x288 with 1 Axes>"
      ]
     },
     "metadata": {},
     "output_type": "display_data"
    }
   ],
   "source": [
    "sns.set()\n",
    "a = sns.boxplot(x=data_orders['revenue'])\n",
    "a.set_xlim([0, 13])"
   ]
  },
  {
   "cell_type": "markdown",
   "metadata": {},
   "source": [
    "Средний чек составляет 5 у.е. В 'холодное' время года возрастает количество покупателей. Максимальный средний чек приходится на декабрь, вероятно, это связано с новогодними праздниками."
   ]
  },
  {
   "cell_type": "markdown",
   "metadata": {},
   "source": [
    "**2.2.4.** Выясним, как меняется LTV на покупателя по когортам. Рассчитаем средний LTV по когортам за 6 месяцев. Маржинальность сервиса — 100%:\n",
    "\n",
    "LTV (от англ. lifetime value) — «пожизненная» ценность клиента. Это — итоговая сумма денег, которую один клиент приносит в среднем со всех своих покупок. При расчёте LTV обычно обращаются к валовой прибыли с клиента за период."
   ]
  },
  {
   "cell_type": "code",
   "execution_count": 33,
   "metadata": {},
   "outputs": [
    {
     "data": {
      "text/plain": [
       "<matplotlib.axes._subplots.AxesSubplot at 0x7faeaf561d90>"
      ]
     },
     "execution_count": 33,
     "metadata": {},
     "output_type": "execute_result"
    },
    {
     "data": {
      "image/png": "[encoded data removed]",
      "text/plain": [
       "<Figure size 1224x648 with 2 Axes>"
      ]
     },
     "metadata": {},
     "output_type": "display_data"
    },
    {
     "data": {
      "image/png": "[encoded data removed]",
      "text/plain": [
       "<Figure size 1224x648 with 2 Axes>"
      ]
     },
     "metadata": {},
     "output_type": "display_data"
    }
   ],
   "source": [
    "data_orders_copy = data_orders\n",
    "data_costs_copy = data_costs\n",
    "data_visits_copy = data_visits\n",
    "data_orders_copy = data_orders_copy.drop(['data_orders_year', 'data_orders_month', 'data_orders_week', 'data_orders_date'], axis = 1)\n",
    "data_costs_copy = data_costs_copy.drop(['data_costs_year', 'data_costs_month', 'data_costs_week', 'data_costs_date'], axis = 1)\n",
    "# Выделим месяцы из дат в таблицах с заказами и расходами:\n",
    "data_orders_copy['order_month'] = data_orders_copy['buy_ts'].astype('datetime64[M]')\n",
    "data_costs_copy['month'] = data_costs_copy['dt'].astype('datetime64[M]')\n",
    "# Получим месяц первой покупки каждого покупателя:\n",
    "first_orders = data_orders_copy.groupby('uid').agg({'order_month': 'min'}).reset_index()\n",
    "first_orders.columns = ['uid', 'first_order_month']\n",
    "# Посчитаем количество новых покупателей (n_buyers) за каждый месяц:\n",
    "cohort_sizes = (first_orders.groupby('first_order_month').agg({'uid': 'nunique'}).reset_index())\n",
    "cohort_sizes.columns = ['first_order_month', 'n_buyers']\n",
    "# Добавим месяц первой покупки каждого покупателя в таблицу с заказами:\n",
    "orders_new = pd.merge(data_orders_copy, first_orders, on='uid')\n",
    "# Сгруппируем таблицу заказов по месяцу первой покупки и месяцу каждого заказа и сложим выручку:\n",
    "cohorts = (orders_new.groupby(['first_order_month', 'order_month']).agg({'revenue': 'sum'}).reset_index())\n",
    "# Добавим в таблицу cohorts данные о том, сколько людей первый раз совершили покупку в каждый месяц:\n",
    "report = pd.merge(cohort_sizes, cohorts, on='first_order_month')\n",
    "\n",
    "margin_rate = 1\n",
    "report['first_order_month'] = report['first_order_month'].astype('datetime64[M]')\n",
    "report['gp'] = report['revenue'] * margin_rate\n",
    "report['age'] = (report['order_month'] - report['first_order_month']) / np.timedelta64(1, 'M')\n",
    "report['age'] = report['age'].round().astype('int')\n",
    "\n",
    "report['ltv'] = report['gp'] / report['n_buyers']\n",
    "\n",
    "output = report.pivot_table(index='first_order_month', columns='age', values='ltv', aggfunc='mean').round(2)\n",
    "output.fillna('')\n",
    "\n",
    "output = report.pivot_table(\n",
    "        index='first_order_month', \n",
    "        columns='age', \n",
    "        values='ltv', \n",
    "        aggfunc='mean').round(3)\n",
    "\n",
    "sns.set(style='white')\n",
    "plt.figure(figsize=(17, 9))\n",
    "plt.title('LTV')\n",
    "output['total'] = output.sum(axis=1).round(2)\n",
    "sns.heatmap(output, annot=True, fmt='.2f',vmax=3,cmap=\"cool\")\n",
    "\n",
    "output = report.pivot_table(\n",
    "        index='first_order_month', \n",
    "        columns='age', \n",
    "        values='ltv', \n",
    "        aggfunc='mean').round(3)\n",
    "\n",
    "output.loc['mean'] = output.mean()\n",
    "\n",
    "output = output[[0,1,2,3,4,5]]\n",
    "sns.set(style='white')\n",
    "plt.figure(figsize=(17, 9))\n",
    "plt.title('Cohorts: LTV')\n",
    "output['total'] = output.sum(axis=1).round(2)\n",
    "sns.heatmap(output, annot=True, fmt='.3f',vmax=3,cmap=\"cool\")\n"
   ]
  },
  {
   "cell_type": "code",
   "execution_count": 34,
   "metadata": {},
   "outputs": [
    {
     "name": "stdout",
     "output_type": "stream",
     "text": [
      "Средний LTV за 6 месяцев после первой покупки: 7.969052630207336\n"
     ]
    }
   ],
   "source": [
    "monthly_costs = data_costs_copy.groupby('month').sum()\n",
    "report_new = pd.merge(report, monthly_costs, left_on='first_order_month', right_on='month')\n",
    "report_new['cac'] = report_new['costs'] / report_new['n_buyers']\n",
    "\n",
    "report_new['romi'] = report_new['ltv'] / report_new['cac']\n",
    "output = report_new.pivot_table(index='first_order_month', columns='age', values='romi', aggfunc='mean')\n",
    "\n",
    "final_result = report_new.pivot_table(index='first_order_month', columns='age', values='ltv', aggfunc='mean')\n",
    "\n",
    "m6_cum_ltv = final_result.cumsum(axis=1).mean(axis=0)[5]\n",
    "\n",
    "print('Средний LTV за 6 месяцев после первой покупки:', m6_cum_ltv)"
   ]
  },
  {
   "cell_type": "markdown",
   "metadata": {},
   "source": [
    "- В первый месяц клиенты приносят основной доход. \n",
    "- Cредний LTV за 6 месяцев - 7.969.\n",
    "- 4 кагорта(09.2017) - самая эфективная."
   ]
  },
  {
   "cell_type": "markdown",
   "metadata": {},
   "source": [
    "### Маркетинговые метрики\n",
    "<a id='cell5'></a>"
   ]
  },
  {
   "cell_type": "markdown",
   "metadata": {},
   "source": [
    "**2.3.1.** Посчитаем общую сумму расходов на маркетинг. Выясним, как траты распределены по источникам:"
   ]
  },
  {
   "cell_type": "code",
   "execution_count": 35,
   "metadata": {},
   "outputs": [
    {
     "name": "stdout",
     "output_type": "stream",
     "text": [
      "Общая сумма расходов на маркетинг: 329131.62 у.е.\n",
      "source_id\n",
      "1      20833.27\n",
      "2      42806.04\n",
      "3     141321.63\n",
      "4      61073.60\n",
      "5      51757.10\n",
      "9       5517.49\n",
      "10      5822.49\n",
      "Name: costs, dtype: float64\n"
     ]
    },
    {
     "data": {
      "image/png": "[encoded data removed]",
      "text/plain": [
       "<Figure size 1152x288 with 1 Axes>"
      ]
     },
     "metadata": {},
     "output_type": "display_data"
    }
   ],
   "source": [
    "print('Общая сумма расходов на маркетинг:', data_costs['costs'].sum(), 'у.е.')\n",
    "data_costs_group = data_costs.groupby(['source_id'])['costs'].sum()\n",
    "print(data_costs_group)\n",
    "data_costs_group.plot(grid=True, kind='bar', figsize=(16, 4), legend=False)\n",
    "plt.title('Расходы на маркетинг по источникам в условных единицах - у.е.')\n",
    "plt.xlabel('Идентификатор рекламного источника')\n",
    "plt.ylabel('Затрачено средств в условных единицах(у.е.)')\n",
    "plt.show()"
   ]
  },
  {
   "cell_type": "markdown",
   "metadata": {},
   "source": [
    "Наиболее затратный - источник № 3, далее идут - источник № 4 и источник № 5. Наименее затратные - источник № 9 и источник № 10. Остальные находятся в среднем диапазоне. Валюта измеряется в условных единицах (у.е.)."
   ]
  },
  {
   "cell_type": "code",
   "execution_count": 36,
   "metadata": {},
   "outputs": [
    {
     "data": {
      "text/html": [
       "<div>\n",
       "<style scoped>\n",
       "    .dataframe tbody tr th:only-of-type {\n",
       "        vertical-align: middle;\n",
       "    }\n",
       "\n",
       "    .dataframe tbody tr th {\n",
       "        vertical-align: top;\n",
       "    }\n",
       "\n",
       "    .dataframe thead th {\n",
       "        text-align: right;\n",
       "    }\n",
       "</style>\n",
       "<table border=\"1\" class=\"dataframe\">\n",
       "  <thead>\n",
       "    <tr style=\"text-align: right;\">\n",
       "      <th></th>\n",
       "      <th>source_id</th>\n",
       "      <th>1</th>\n",
       "      <th>2</th>\n",
       "      <th>3</th>\n",
       "      <th>4</th>\n",
       "      <th>5</th>\n",
       "      <th>9</th>\n",
       "      <th>10</th>\n",
       "    </tr>\n",
       "    <tr>\n",
       "      <th>data_costs_year</th>\n",
       "      <th>data_costs_month</th>\n",
       "      <th></th>\n",
       "      <th></th>\n",
       "      <th></th>\n",
       "      <th></th>\n",
       "      <th></th>\n",
       "      <th></th>\n",
       "      <th></th>\n",
       "    </tr>\n",
       "  </thead>\n",
       "  <tbody>\n",
       "    <tr>\n",
       "      <td rowspan=\"7\" valign=\"top\">2017</td>\n",
       "      <td>6</td>\n",
       "      <td>1125.61</td>\n",
       "      <td>2427.38</td>\n",
       "      <td>7731.65</td>\n",
       "      <td>3514.80</td>\n",
       "      <td>2616.12</td>\n",
       "      <td>285.22</td>\n",
       "      <td>314.22</td>\n",
       "    </tr>\n",
       "    <tr>\n",
       "      <td>7</td>\n",
       "      <td>1072.88</td>\n",
       "      <td>2333.11</td>\n",
       "      <td>7674.37</td>\n",
       "      <td>3529.73</td>\n",
       "      <td>2998.14</td>\n",
       "      <td>302.54</td>\n",
       "      <td>329.82</td>\n",
       "    </tr>\n",
       "    <tr>\n",
       "      <td>8</td>\n",
       "      <td>951.81</td>\n",
       "      <td>1811.05</td>\n",
       "      <td>6143.54</td>\n",
       "      <td>3217.36</td>\n",
       "      <td>2185.28</td>\n",
       "      <td>248.93</td>\n",
       "      <td>232.57</td>\n",
       "    </tr>\n",
       "    <tr>\n",
       "      <td>9</td>\n",
       "      <td>1502.01</td>\n",
       "      <td>2985.66</td>\n",
       "      <td>9963.55</td>\n",
       "      <td>5192.26</td>\n",
       "      <td>3849.14</td>\n",
       "      <td>415.62</td>\n",
       "      <td>460.67</td>\n",
       "    </tr>\n",
       "    <tr>\n",
       "      <td>10</td>\n",
       "      <td>2315.75</td>\n",
       "      <td>4845.00</td>\n",
       "      <td>15737.24</td>\n",
       "      <td>6420.84</td>\n",
       "      <td>5767.40</td>\n",
       "      <td>609.41</td>\n",
       "      <td>627.24</td>\n",
       "    </tr>\n",
       "    <tr>\n",
       "      <td>11</td>\n",
       "      <td>2445.16</td>\n",
       "      <td>5247.68</td>\n",
       "      <td>17025.34</td>\n",
       "      <td>5388.82</td>\n",
       "      <td>6325.34</td>\n",
       "      <td>683.18</td>\n",
       "      <td>792.36</td>\n",
       "    </tr>\n",
       "    <tr>\n",
       "      <td>12</td>\n",
       "      <td>2341.20</td>\n",
       "      <td>4897.80</td>\n",
       "      <td>16219.52</td>\n",
       "      <td>7680.47</td>\n",
       "      <td>5872.52</td>\n",
       "      <td>657.98</td>\n",
       "      <td>645.86</td>\n",
       "    </tr>\n",
       "    <tr>\n",
       "      <td rowspan=\"5\" valign=\"top\">2018</td>\n",
       "      <td>1</td>\n",
       "      <td>2186.18</td>\n",
       "      <td>4157.74</td>\n",
       "      <td>14808.78</td>\n",
       "      <td>5832.79</td>\n",
       "      <td>5371.52</td>\n",
       "      <td>547.16</td>\n",
       "      <td>614.35</td>\n",
       "    </tr>\n",
       "    <tr>\n",
       "      <td>2</td>\n",
       "      <td>2204.48</td>\n",
       "      <td>4474.34</td>\n",
       "      <td>14228.56</td>\n",
       "      <td>5711.96</td>\n",
       "      <td>5071.31</td>\n",
       "      <td>551.50</td>\n",
       "      <td>480.88</td>\n",
       "    </tr>\n",
       "    <tr>\n",
       "      <td>3</td>\n",
       "      <td>1893.09</td>\n",
       "      <td>3943.14</td>\n",
       "      <td>13080.85</td>\n",
       "      <td>5961.87</td>\n",
       "      <td>4529.62</td>\n",
       "      <td>480.29</td>\n",
       "      <td>526.41</td>\n",
       "    </tr>\n",
       "    <tr>\n",
       "      <td>4</td>\n",
       "      <td>1327.49</td>\n",
       "      <td>2993.70</td>\n",
       "      <td>9296.81</td>\n",
       "      <td>4408.49</td>\n",
       "      <td>3501.15</td>\n",
       "      <td>373.49</td>\n",
       "      <td>388.25</td>\n",
       "    </tr>\n",
       "    <tr>\n",
       "      <td>5</td>\n",
       "      <td>1467.61</td>\n",
       "      <td>2689.44</td>\n",
       "      <td>9411.42</td>\n",
       "      <td>4214.21</td>\n",
       "      <td>3669.56</td>\n",
       "      <td>362.17</td>\n",
       "      <td>409.86</td>\n",
       "    </tr>\n",
       "  </tbody>\n",
       "</table>\n",
       "</div>"
      ],
      "text/plain": [
       "source_id                              1        2         3        4   \\\n",
       "data_costs_year data_costs_month                                        \n",
       "2017            6                 1125.61  2427.38   7731.65  3514.80   \n",
       "                7                 1072.88  2333.11   7674.37  3529.73   \n",
       "                8                  951.81  1811.05   6143.54  3217.36   \n",
       "                9                 1502.01  2985.66   9963.55  5192.26   \n",
       "                10                2315.75  4845.00  15737.24  6420.84   \n",
       "                11                2445.16  5247.68  17025.34  5388.82   \n",
       "                12                2341.20  4897.80  16219.52  7680.47   \n",
       "2018            1                 2186.18  4157.74  14808.78  5832.79   \n",
       "                2                 2204.48  4474.34  14228.56  5711.96   \n",
       "                3                 1893.09  3943.14  13080.85  5961.87   \n",
       "                4                 1327.49  2993.70   9296.81  4408.49   \n",
       "                5                 1467.61  2689.44   9411.42  4214.21   \n",
       "\n",
       "source_id                              5       9       10  \n",
       "data_costs_year data_costs_month                           \n",
       "2017            6                 2616.12  285.22  314.22  \n",
       "                7                 2998.14  302.54  329.82  \n",
       "                8                 2185.28  248.93  232.57  \n",
       "                9                 3849.14  415.62  460.67  \n",
       "                10                5767.40  609.41  627.24  \n",
       "                11                6325.34  683.18  792.36  \n",
       "                12                5872.52  657.98  645.86  \n",
       "2018            1                 5371.52  547.16  614.35  \n",
       "                2                 5071.31  551.50  480.88  \n",
       "                3                 4529.62  480.29  526.41  \n",
       "                4                 3501.15  373.49  388.25  \n",
       "                5                 3669.56  362.17  409.86  "
      ]
     },
     "execution_count": 36,
     "metadata": {},
     "output_type": "execute_result"
    }
   ],
   "source": [
    "data_costs_group = data_costs.groupby(['source_id', 'data_costs_month'])['costs'].sum()\n",
    "data_costs.pivot_table(index=['data_costs_year', 'data_costs_month'], columns='source_id', values='costs', aggfunc='sum')"
   ]
  },
  {
   "cell_type": "code",
   "execution_count": 37,
   "metadata": {},
   "outputs": [
    {
     "data": {
      "image/png": "[encoded data removed]",
      "text/plain": [
       "<Figure size 1224x288 with 1 Axes>"
      ]
     },
     "metadata": {},
     "output_type": "display_data"
    }
   ],
   "source": [
    "data_costs.pivot_table(index=['data_costs_year', 'data_costs_month'], columns='source_id', values='costs', aggfunc='sum').plot(title = 'Расходы на маркетинг по месяцам и источникам', figsize = (17,4))\n",
    "plt.xlabel('Месяц')\n",
    "plt.ylabel('Сумма трат в у.е.')\n",
    "plt.show()"
   ]
  },
  {
   "cell_type": "markdown",
   "metadata": {},
   "source": [
    "Заметный рост трат на маркетинг приходится с августа по ноябрь. "
   ]
  },
  {
   "cell_type": "code",
   "execution_count": 38,
   "metadata": {},
   "outputs": [
    {
     "data": {
      "image/png": "[encoded data removed]",
      "text/plain": [
       "<Figure size 1224x288 with 1 Axes>"
      ]
     },
     "metadata": {},
     "output_type": "display_data"
    }
   ],
   "source": [
    "data_costs_groupp = data_costs.groupby(['data_costs_year', 'data_costs_month'])['costs'].sum()\n",
    "data_costs_groupp.plot(title = 'Общие расходы на маркетинг по месяцам', figsize = (17,4))\n",
    "plt.xlabel('Месяц')\n",
    "plt.ylabel('Сумма трат в у.е.')\n",
    "plt.show()"
   ]
  },
  {
   "cell_type": "markdown",
   "metadata": {},
   "source": [
    "Как и в расходах на маркетинг по каждому источнику, так и в общих расходах на маркетинг, заметный рост трат на маркетинг приходится с августа по ноябрь. Динамика изменения суммарных расходов с динамикой изменения расходов по каждому из источников - совпадают."
   ]
  },
  {
   "cell_type": "markdown",
   "metadata": {},
   "source": [
    "**2.3.2.** Рассчитаем CAC:\n",
    "\n",
    "CAC (от англ. customer acquisition cost) — стоимость привлечения клиента. Сумма денег, во сколько обходится новый клиент компании."
   ]
  },
  {
   "cell_type": "code",
   "execution_count": 39,
   "metadata": {},
   "outputs": [
    {
     "data": {
      "text/html": [
       "<div>\n",
       "<style scoped>\n",
       "    .dataframe tbody tr th:only-of-type {\n",
       "        vertical-align: middle;\n",
       "    }\n",
       "\n",
       "    .dataframe tbody tr th {\n",
       "        vertical-align: top;\n",
       "    }\n",
       "\n",
       "    .dataframe thead th {\n",
       "        text-align: right;\n",
       "    }\n",
       "</style>\n",
       "<table border=\"1\" class=\"dataframe\">\n",
       "  <thead>\n",
       "    <tr style=\"text-align: right;\">\n",
       "      <th></th>\n",
       "      <th>first_order_month</th>\n",
       "      <th>n_buyers</th>\n",
       "      <th>order_month</th>\n",
       "      <th>revenue</th>\n",
       "      <th>gp</th>\n",
       "      <th>age</th>\n",
       "      <th>ltv</th>\n",
       "      <th>source_id</th>\n",
       "      <th>costs</th>\n",
       "      <th>cac</th>\n",
       "    </tr>\n",
       "  </thead>\n",
       "  <tbody>\n",
       "    <tr>\n",
       "      <td>0</td>\n",
       "      <td>2017-06-01</td>\n",
       "      <td>2023</td>\n",
       "      <td>2017-06-01</td>\n",
       "      <td>9557.49</td>\n",
       "      <td>9557.49</td>\n",
       "      <td>0</td>\n",
       "      <td>4.724414</td>\n",
       "      <td>1020</td>\n",
       "      <td>18015.0</td>\n",
       "      <td>8.905091</td>\n",
       "    </tr>\n",
       "    <tr>\n",
       "      <td>1</td>\n",
       "      <td>2017-06-01</td>\n",
       "      <td>2023</td>\n",
       "      <td>2017-07-01</td>\n",
       "      <td>981.82</td>\n",
       "      <td>981.82</td>\n",
       "      <td>1</td>\n",
       "      <td>0.485329</td>\n",
       "      <td>1020</td>\n",
       "      <td>18015.0</td>\n",
       "      <td>8.905091</td>\n",
       "    </tr>\n",
       "    <tr>\n",
       "      <td>2</td>\n",
       "      <td>2017-06-01</td>\n",
       "      <td>2023</td>\n",
       "      <td>2017-08-01</td>\n",
       "      <td>885.34</td>\n",
       "      <td>885.34</td>\n",
       "      <td>2</td>\n",
       "      <td>0.437637</td>\n",
       "      <td>1020</td>\n",
       "      <td>18015.0</td>\n",
       "      <td>8.905091</td>\n",
       "    </tr>\n",
       "    <tr>\n",
       "      <td>3</td>\n",
       "      <td>2017-06-01</td>\n",
       "      <td>2023</td>\n",
       "      <td>2017-09-01</td>\n",
       "      <td>1931.30</td>\n",
       "      <td>1931.30</td>\n",
       "      <td>3</td>\n",
       "      <td>0.954671</td>\n",
       "      <td>1020</td>\n",
       "      <td>18015.0</td>\n",
       "      <td>8.905091</td>\n",
       "    </tr>\n",
       "    <tr>\n",
       "      <td>4</td>\n",
       "      <td>2017-06-01</td>\n",
       "      <td>2023</td>\n",
       "      <td>2017-10-01</td>\n",
       "      <td>2068.58</td>\n",
       "      <td>2068.58</td>\n",
       "      <td>4</td>\n",
       "      <td>1.022531</td>\n",
       "      <td>1020</td>\n",
       "      <td>18015.0</td>\n",
       "      <td>8.905091</td>\n",
       "    </tr>\n",
       "  </tbody>\n",
       "</table>\n",
       "</div>"
      ],
      "text/plain": [
       "  first_order_month  n_buyers order_month  revenue       gp  age       ltv  \\\n",
       "0        2017-06-01      2023  2017-06-01  9557.49  9557.49    0  4.724414   \n",
       "1        2017-06-01      2023  2017-07-01   981.82   981.82    1  0.485329   \n",
       "2        2017-06-01      2023  2017-08-01   885.34   885.34    2  0.437637   \n",
       "3        2017-06-01      2023  2017-09-01  1931.30  1931.30    3  0.954671   \n",
       "4        2017-06-01      2023  2017-10-01  2068.58  2068.58    4  1.022531   \n",
       "\n",
       "   source_id    costs       cac  \n",
       "0       1020  18015.0  8.905091  \n",
       "1       1020  18015.0  8.905091  \n",
       "2       1020  18015.0  8.905091  \n",
       "3       1020  18015.0  8.905091  \n",
       "4       1020  18015.0  8.905091  "
      ]
     },
     "execution_count": 39,
     "metadata": {},
     "output_type": "execute_result"
    }
   ],
   "source": [
    "# Посчитаем CAC каждой когорты. Сначала найдём суммарные расходы за каждый месяц, а затем поделим их на количество покупателей в каждой когорте:\n",
    "monthly_costs = data_costs_copy.groupby('month').sum()\n",
    "# Добавим данные о расходах в отчёт и посчитаем CAC:\n",
    "report_new = pd.merge(report, monthly_costs, left_on='first_order_month', right_on='month')\n",
    "report_new['cac'] = report_new['costs'] / report_new['n_buyers']\n",
    "report_new.head() "
   ]
  },
  {
   "cell_type": "markdown",
   "metadata": {},
   "source": [
    "**2.3.3.** Рассчитем ROMI по когортам в разрезе источников. Сравним окупаемость за одинаковые периоды жизни когорт:"
   ]
  },
  {
   "cell_type": "code",
   "execution_count": 40,
   "metadata": {},
   "outputs": [
    {
     "data": {
      "image/png": "[encoded data removed]",
      "text/plain": [
       "<Figure size 1224x648 with 2 Axes>"
      ]
     },
     "metadata": {},
     "output_type": "display_data"
    }
   ],
   "source": [
    "report_new['romi'] = report_new['ltv'] / report_new['cac']\n",
    "output_romi = report_new.pivot_table(\n",
    "        index='first_order_month', \n",
    "        columns='age', \n",
    "        values='romi', \n",
    "        aggfunc='mean').cumsum(axis=1).round(2)\n",
    "\n",
    "sns.set(style='white')\n",
    "plt.figure(figsize=(17, 9))\n",
    "plt.title('Cohorts: ROMI')\n",
    "sns.heatmap(output_romi, annot=True, fmt='.0%',cmap=\"autumn\");"
   ]
  },
  {
   "cell_type": "code",
   "execution_count": 41,
   "metadata": {},
   "outputs": [
    {
     "data": {
      "text/plain": [
       "age\n",
       "0     0.540833\n",
       "1     0.582727\n",
       "2     0.629000\n",
       "3     0.717778\n",
       "4     0.783750\n",
       "5     0.860000\n",
       "6     0.898333\n",
       "7     0.970000\n",
       "8     1.052500\n",
       "9     0.963333\n",
       "10    1.095000\n",
       "11    1.330000\n",
       "dtype: float64"
      ]
     },
     "execution_count": 41,
     "metadata": {},
     "output_type": "execute_result"
    }
   ],
   "source": [
    "output_romi.mean(axis=0)"
   ]
  },
  {
   "cell_type": "markdown",
   "metadata": {},
   "source": [
    "- 50% окупаемости происходит в первый месяц.\n",
    "- окупились 1 и 4 кагорты\n",
    "- кагорты 2 и 7 наиболее близки к окупаемости"
   ]
  },
  {
   "cell_type": "markdown",
   "metadata": {},
   "source": [
    "## Выводы и рекомендации\n",
    "<a id='cell6'></a>"
   ]
  },
  {
   "cell_type": "markdown",
   "metadata": {},
   "source": [
    "**3.1.** Определите источники трафика, на которые маркетологам стоит делать упор. Объясните свой выбор: на какие метрики вы ориентируетесь и почему:"
   ]
  },
  {
   "cell_type": "code",
   "execution_count": 42,
   "metadata": {},
   "outputs": [
    {
     "name": "stdout",
     "output_type": "stream",
     "text": [
      "source_id\n",
      "1      20833.27\n",
      "2      42806.04\n",
      "3     141321.63\n",
      "4      61073.60\n",
      "5      51757.10\n",
      "9       5517.49\n",
      "10      5822.49\n",
      "Name: costs, dtype: float64\n"
     ]
    }
   ],
   "source": [
    "data_costs_group = data_costs.groupby(['source_id'])['costs'].sum()\n",
    "print(data_costs_group)"
   ]
  },
  {
   "cell_type": "code",
   "execution_count": 43,
   "metadata": {},
   "outputs": [
    {
     "name": "stdout",
     "output_type": "stream",
     "text": [
      "Общая выручка составляет: 252057.2\n"
     ]
    }
   ],
   "source": [
    "table1 = data_orders.groupby('uid')['revenue'].sum().reset_index()\n",
    "table2 = data_visits_copy\n",
    "table2 = table2.merge(table1, on ='uid')\n",
    "table3 = table2.groupby('uid')['start_ts'].min().reset_index()\n",
    "table4 = table2.merge(table3, on = ['uid','start_ts'], how = 'inner')\n",
    "print('Общая выручка составляет:', table4['revenue'].sum())"
   ]
  },
  {
   "cell_type": "code",
   "execution_count": 44,
   "metadata": {},
   "outputs": [
    {
     "data": {
      "text/html": [
       "<div>\n",
       "<style scoped>\n",
       "    .dataframe tbody tr th:only-of-type {\n",
       "        vertical-align: middle;\n",
       "    }\n",
       "\n",
       "    .dataframe tbody tr th {\n",
       "        vertical-align: top;\n",
       "    }\n",
       "\n",
       "    .dataframe thead th {\n",
       "        text-align: right;\n",
       "    }\n",
       "</style>\n",
       "<table border=\"1\" class=\"dataframe\">\n",
       "  <thead>\n",
       "    <tr style=\"text-align: right;\">\n",
       "      <th></th>\n",
       "      <th>source_id</th>\n",
       "      <th>costs</th>\n",
       "      <th>uid</th>\n",
       "      <th>cost_per_user</th>\n",
       "      <th>revenue</th>\n",
       "      <th>gp</th>\n",
       "      <th>ltv</th>\n",
       "      <th>roi</th>\n",
       "    </tr>\n",
       "  </thead>\n",
       "  <tbody>\n",
       "    <tr>\n",
       "      <td>0</td>\n",
       "      <td>1</td>\n",
       "      <td>20833.27</td>\n",
       "      <td>2899</td>\n",
       "      <td>7.186364</td>\n",
       "      <td>31090.55</td>\n",
       "      <td>31090.55</td>\n",
       "      <td>10.724577</td>\n",
       "      <td>149.235094</td>\n",
       "    </tr>\n",
       "    <tr>\n",
       "      <td>1</td>\n",
       "      <td>2</td>\n",
       "      <td>42806.04</td>\n",
       "      <td>3506</td>\n",
       "      <td>12.209367</td>\n",
       "      <td>46923.61</td>\n",
       "      <td>46923.61</td>\n",
       "      <td>13.383802</td>\n",
       "      <td>109.619133</td>\n",
       "    </tr>\n",
       "    <tr>\n",
       "      <td>2</td>\n",
       "      <td>3</td>\n",
       "      <td>141321.63</td>\n",
       "      <td>10473</td>\n",
       "      <td>13.493901</td>\n",
       "      <td>54511.24</td>\n",
       "      <td>54511.24</td>\n",
       "      <td>5.204931</td>\n",
       "      <td>38.572468</td>\n",
       "    </tr>\n",
       "    <tr>\n",
       "      <td>3</td>\n",
       "      <td>4</td>\n",
       "      <td>61073.60</td>\n",
       "      <td>10296</td>\n",
       "      <td>5.931779</td>\n",
       "      <td>56696.83</td>\n",
       "      <td>56696.83</td>\n",
       "      <td>5.506685</td>\n",
       "      <td>92.833614</td>\n",
       "    </tr>\n",
       "    <tr>\n",
       "      <td>4</td>\n",
       "      <td>5</td>\n",
       "      <td>51757.10</td>\n",
       "      <td>6931</td>\n",
       "      <td>7.467479</td>\n",
       "      <td>52624.02</td>\n",
       "      <td>52624.02</td>\n",
       "      <td>7.592558</td>\n",
       "      <td>101.674978</td>\n",
       "    </tr>\n",
       "    <tr>\n",
       "      <td>5</td>\n",
       "      <td>9</td>\n",
       "      <td>5517.49</td>\n",
       "      <td>1088</td>\n",
       "      <td>5.071222</td>\n",
       "      <td>5759.40</td>\n",
       "      <td>5759.40</td>\n",
       "      <td>5.293566</td>\n",
       "      <td>104.384421</td>\n",
       "    </tr>\n",
       "    <tr>\n",
       "      <td>6</td>\n",
       "      <td>10</td>\n",
       "      <td>5822.49</td>\n",
       "      <td>1329</td>\n",
       "      <td>4.381106</td>\n",
       "      <td>4450.33</td>\n",
       "      <td>4450.33</td>\n",
       "      <td>3.348631</td>\n",
       "      <td>76.433450</td>\n",
       "    </tr>\n",
       "  </tbody>\n",
       "</table>\n",
       "</div>"
      ],
      "text/plain": [
       "   source_id      costs    uid  cost_per_user   revenue        gp        ltv  \\\n",
       "0          1   20833.27   2899       7.186364  31090.55  31090.55  10.724577   \n",
       "1          2   42806.04   3506      12.209367  46923.61  46923.61  13.383802   \n",
       "2          3  141321.63  10473      13.493901  54511.24  54511.24   5.204931   \n",
       "3          4   61073.60  10296       5.931779  56696.83  56696.83   5.506685   \n",
       "4          5   51757.10   6931       7.467479  52624.02  52624.02   7.592558   \n",
       "5          9    5517.49   1088       5.071222   5759.40   5759.40   5.293566   \n",
       "6         10    5822.49   1329       4.381106   4450.33   4450.33   3.348631   \n",
       "\n",
       "          roi  \n",
       "0  149.235094  \n",
       "1  109.619133  \n",
       "2   38.572468  \n",
       "3   92.833614  \n",
       "4  101.674978  \n",
       "5  104.384421  \n",
       "6   76.433450  "
      ]
     },
     "execution_count": 44,
     "metadata": {},
     "output_type": "execute_result"
    }
   ],
   "source": [
    "revenue_group = table4.groupby('source_id')['revenue'].sum().reset_index()\n",
    "costs_group = data_costs.groupby('source_id')['costs'].sum().reset_index()\n",
    "source_group = table4.groupby('source_id')['uid'].nunique().reset_index()\n",
    "costs_group = costs_group.merge(source_group,on = 'source_id')\n",
    "costs_group['cost_per_user'] = costs_group['costs'] / costs_group['uid']\n",
    "costs_group = costs_group.merge(revenue_group,on = 'source_id')\n",
    "costs_group\n",
    "costs_group['gp'] = costs_group['revenue'] * margin_rate\n",
    "costs_group['ltv'] = costs_group['gp'] / costs_group['uid']\n",
    "costs_group['roi'] = costs_group['ltv'] / costs_group['cost_per_user'] * 100\n",
    "costs_group"
   ]
  },
  {
   "cell_type": "markdown",
   "metadata": {},
   "source": [
    "ROI (возврат на инвестиции):\n",
    "Маркетологам стоит сделать упор на источник трафика №1, тк он самый прибыльный. Также стоит обратить внимание и на источники №2, №5 и №9. \n",
    "Самый убыточный источник - № 3, в него вложено самое большое количество средств.\n",
    "Также не стоит рассматривать источник № 10. "
   ]
  },
  {
   "cell_type": "markdown",
   "metadata": {},
   "source": [
    "**3.2.** Выводы, после подсчёта метрик каждого вида: маркетинговых, продуктовых и метрик электронной коммерции:"
   ]
  },
  {
   "cell_type": "markdown",
   "metadata": {},
   "source": [
    "Продуктовые метрики:\n",
    "\n",
    "- Пользователи крайне редко возвращаются на сайт\n",
    "- В среднем, пользователи заходят на сайт 987 раз в день\n",
    "- Продолжительность средней пользовательской сессии состовляет от 1 до 15 минут\n",
    "\n",
    "Метрики электронной коммерции:\n",
    "\n",
    "- Для совершения первой покупки, клиентам требуется не более 15 минут\n",
    "- Средний чек составляет около 5 у.е.\n",
    "- В первый месяц клиенты приносят основной доход\n",
    "\n",
    "Маркетинговые метрики:\n",
    "\n",
    "- Общая сумма расходов на маркетинг: 329131.62 у.е.\n",
    "- 50% окупаемости происходит в первый месяц"
   ]
  },
  {
   "cell_type": "markdown",
   "metadata": {},
   "source": [
    "Выводы по целям проекта:\n",
    "\n",
    "помочь маркетологам снизить расходы — отказаться от невыгодных источников трафика и перераспределить бюджет;\n",
    "\n",
    "- Самый убыточный источник - № 3. От него необходимо отказаться.\n",
    "- Также не стоит рассматривать источник № 10. Стоит задуматься об отказе от данного источника.\n",
    "\n",
    "определить источники трафика, на которые маркетологам стоит делать упор;\n",
    "\n",
    "- Маркетологам стоит сделать упор на источник трафика №1, так как он самый прибыльный. \n",
    "- Также стоит обратить внимание и на источники №2, №5 и №9.\n",
    "\n",
    "определить самые перспективные для компании когорты клиентов;\n",
    "\n",
    "- Самые перспективные кагорты: кагорта № 1(июнь 2017) и кагорта № 4(сентябрь 2017)\n",
    "- Также очень перспективна кагорта № 7(декабрь 2017)\n"
   ]
  },
  {
   "cell_type": "code",
   "execution_count": null,
   "metadata": {},
   "outputs": [],
   "source": []
  }
 ],
 "metadata": {
  "ExecuteTimeLog": [
   {
    "duration": 1636,
    "start_time": "2021-07-13T15:51:17.483Z"
   },
   {
    "duration": 783,
    "start_time": "2021-07-13T15:51:19.280Z"
   },
   {
    "duration": 17,
    "start_time": "2021-07-13T15:59:29.319Z"
   },
   {
    "duration": 13,
    "start_time": "2021-07-13T15:59:39.170Z"
   },
   {
    "duration": 10,
    "start_time": "2021-07-13T15:59:42.721Z"
   },
   {
    "duration": 13,
    "start_time": "2021-07-13T15:59:49.208Z"
   },
   {
    "duration": 12,
    "start_time": "2021-07-13T15:59:53.990Z"
   },
   {
    "duration": 14,
    "start_time": "2021-07-13T16:00:00.047Z"
   },
   {
    "duration": 76,
    "start_time": "2021-07-13T16:01:50.868Z"
   },
   {
    "duration": 25,
    "start_time": "2021-07-13T16:02:04.560Z"
   },
   {
    "duration": 69,
    "start_time": "2021-07-13T16:05:09.699Z"
   },
   {
    "duration": 12,
    "start_time": "2021-07-13T16:05:12.404Z"
   },
   {
    "duration": 11,
    "start_time": "2021-07-13T16:05:15.148Z"
   },
   {
    "duration": 73,
    "start_time": "2021-07-13T16:05:34.563Z"
   },
   {
    "duration": 1666,
    "start_time": "2021-07-13T16:30:28.966Z"
   },
   {
    "duration": 803,
    "start_time": "2021-07-13T16:30:31.310Z"
   },
   {
    "duration": 78,
    "start_time": "2021-07-13T16:30:34.338Z"
   },
   {
    "duration": 19,
    "start_time": "2021-07-13T16:30:37.292Z"
   },
   {
    "duration": 16,
    "start_time": "2021-07-13T16:30:40.286Z"
   },
   {
    "duration": 1093,
    "start_time": "2021-07-13T19:48:02.245Z"
   },
   {
    "duration": 526,
    "start_time": "2021-07-13T19:48:04.292Z"
   },
   {
    "duration": 57,
    "start_time": "2021-07-13T19:48:07.166Z"
   },
   {
    "duration": 12,
    "start_time": "2021-07-13T19:51:33.882Z"
   },
   {
    "duration": 52,
    "start_time": "2021-07-13T19:51:48.006Z"
   },
   {
    "duration": 10,
    "start_time": "2021-07-13T19:51:59.027Z"
   },
   {
    "duration": 46,
    "start_time": "2021-07-13T19:52:02.845Z"
   },
   {
    "duration": 7,
    "start_time": "2021-07-13T19:52:05.876Z"
   },
   {
    "duration": 6,
    "start_time": "2021-07-13T19:52:08.722Z"
   },
   {
    "duration": 4,
    "start_time": "2021-07-13T19:52:45.924Z"
   },
   {
    "duration": 54,
    "start_time": "2021-07-13T19:52:57.878Z"
   },
   {
    "duration": 12,
    "start_time": "2021-07-13T19:54:17.496Z"
   },
   {
    "duration": 165,
    "start_time": "2021-07-13T19:59:57.543Z"
   },
   {
    "duration": 29,
    "start_time": "2021-07-13T20:00:07.104Z"
   },
   {
    "duration": 11,
    "start_time": "2021-07-13T20:00:20.540Z"
   },
   {
    "duration": 1938,
    "start_time": "2021-07-14T05:06:49.997Z"
   },
   {
    "duration": 1135,
    "start_time": "2021-07-14T05:06:52.431Z"
   },
   {
    "duration": 129,
    "start_time": "2021-07-14T05:06:55.495Z"
   },
   {
    "duration": 25,
    "start_time": "2021-07-14T05:07:00.637Z"
   },
   {
    "duration": 21,
    "start_time": "2021-07-14T05:07:04.847Z"
   },
   {
    "duration": 109,
    "start_time": "2021-07-14T05:07:18.175Z"
   },
   {
    "duration": 15,
    "start_time": "2021-07-14T05:07:23.259Z"
   },
   {
    "duration": 10,
    "start_time": "2021-07-14T05:07:24.096Z"
   },
   {
    "duration": 7,
    "start_time": "2021-07-14T05:07:29.702Z"
   },
   {
    "duration": 423,
    "start_time": "2021-07-14T05:07:36.055Z"
   },
   {
    "duration": 7652,
    "start_time": "2021-07-14T05:07:48.119Z"
   },
   {
    "duration": 42,
    "start_time": "2021-07-14T05:18:56.906Z"
   },
   {
    "duration": 13,
    "start_time": "2021-07-14T05:19:41.719Z"
   },
   {
    "duration": 3,
    "start_time": "2021-07-14T05:21:10.301Z"
   },
   {
    "duration": 13,
    "start_time": "2021-07-14T05:21:12.990Z"
   },
   {
    "duration": 10,
    "start_time": "2021-07-14T05:21:34.681Z"
   },
   {
    "duration": 4,
    "start_time": "2021-07-14T05:22:20.606Z"
   },
   {
    "duration": 11,
    "start_time": "2021-07-14T05:22:22.464Z"
   },
   {
    "duration": 11,
    "start_time": "2021-07-14T05:22:44.667Z"
   },
   {
    "duration": 1698,
    "start_time": "2021-07-14T05:24:06.255Z"
   },
   {
    "duration": 809,
    "start_time": "2021-07-14T05:24:08.612Z"
   },
   {
    "duration": 81,
    "start_time": "2021-07-14T05:24:11.345Z"
   },
   {
    "duration": 18,
    "start_time": "2021-07-14T05:24:15.576Z"
   },
   {
    "duration": 16,
    "start_time": "2021-07-14T05:24:19.098Z"
   },
   {
    "duration": 68,
    "start_time": "2021-07-14T05:24:27.492Z"
   },
   {
    "duration": 10,
    "start_time": "2021-07-14T05:24:27.949Z"
   },
   {
    "duration": 8,
    "start_time": "2021-07-14T05:24:28.406Z"
   },
   {
    "duration": 6,
    "start_time": "2021-07-14T05:24:32.427Z"
   },
   {
    "duration": 5,
    "start_time": "2021-07-14T05:24:35.986Z"
   },
   {
    "duration": 9138,
    "start_time": "2021-07-14T05:24:38.919Z"
   },
   {
    "duration": 246,
    "start_time": "2021-07-14T05:25:38.051Z"
   },
   {
    "duration": 342,
    "start_time": "2021-07-14T05:25:51.620Z"
   },
   {
    "duration": 86,
    "start_time": "2021-07-14T05:27:25.657Z"
   },
   {
    "duration": 7862,
    "start_time": "2021-07-14T05:27:50.039Z"
   },
   {
    "duration": 148,
    "start_time": "2021-07-14T05:28:29.282Z"
   },
   {
    "duration": 134,
    "start_time": "2021-07-14T05:29:04.604Z"
   },
   {
    "duration": 113,
    "start_time": "2021-07-14T05:30:19.839Z"
   },
   {
    "duration": 114,
    "start_time": "2021-07-14T05:30:55.150Z"
   },
   {
    "duration": 111,
    "start_time": "2021-07-14T05:31:04.041Z"
   },
   {
    "duration": 106,
    "start_time": "2021-07-14T05:31:17.322Z"
   },
   {
    "duration": 141,
    "start_time": "2021-07-14T05:32:17.840Z"
   },
   {
    "duration": 108,
    "start_time": "2021-07-14T05:32:20.950Z"
   },
   {
    "duration": 115,
    "start_time": "2021-07-14T05:32:28.331Z"
   },
   {
    "duration": 112,
    "start_time": "2021-07-14T05:33:37.497Z"
   },
   {
    "duration": 115,
    "start_time": "2021-07-14T05:33:58.055Z"
   },
   {
    "duration": 144,
    "start_time": "2021-07-14T05:34:33.908Z"
   },
   {
    "duration": 440,
    "start_time": "2021-07-14T05:34:46.448Z"
   },
   {
    "duration": 580,
    "start_time": "2021-07-14T07:42:18.792Z"
   },
   {
    "duration": 510,
    "start_time": "2021-07-14T07:43:38.708Z"
   },
   {
    "duration": 108,
    "start_time": "2021-07-14T07:43:48.795Z"
   },
   {
    "duration": 569,
    "start_time": "2021-07-14T07:44:16.563Z"
   },
   {
    "duration": 8032,
    "start_time": "2021-07-14T07:46:50.299Z"
   },
   {
    "duration": 496,
    "start_time": "2021-07-14T07:48:04.505Z"
   },
   {
    "duration": 607,
    "start_time": "2021-07-14T07:49:19.988Z"
   },
   {
    "duration": 612,
    "start_time": "2021-07-14T07:49:55.210Z"
   },
   {
    "duration": 631,
    "start_time": "2021-07-14T07:51:09.663Z"
   },
   {
    "duration": 610,
    "start_time": "2021-07-14T07:51:17.214Z"
   },
   {
    "duration": 630,
    "start_time": "2021-07-14T07:51:52.152Z"
   },
   {
    "duration": 620,
    "start_time": "2021-07-14T07:54:00.684Z"
   },
   {
    "duration": 1558,
    "start_time": "2021-07-14T07:56:20.171Z"
   },
   {
    "duration": 579,
    "start_time": "2021-07-14T07:57:54.348Z"
   },
   {
    "duration": 7984,
    "start_time": "2021-07-14T07:58:56.395Z"
   },
   {
    "duration": 7739,
    "start_time": "2021-07-14T07:59:23.420Z"
   },
   {
    "duration": 7650,
    "start_time": "2021-07-14T07:59:41.412Z"
   },
   {
    "duration": 7,
    "start_time": "2021-07-14T08:14:58.956Z"
   },
   {
    "duration": 8223,
    "start_time": "2021-07-14T08:15:33.377Z"
   },
   {
    "duration": 7827,
    "start_time": "2021-07-14T08:16:56.393Z"
   },
   {
    "duration": 8213,
    "start_time": "2021-07-14T08:17:10.843Z"
   },
   {
    "duration": 7875,
    "start_time": "2021-07-14T08:17:48.136Z"
   },
   {
    "duration": 7989,
    "start_time": "2021-07-14T08:18:04.109Z"
   },
   {
    "duration": 11044,
    "start_time": "2021-07-14T08:20:02.425Z"
   },
   {
    "duration": 10645,
    "start_time": "2021-07-14T08:20:24.380Z"
   },
   {
    "duration": 280,
    "start_time": "2021-07-14T08:36:38.759Z"
   },
   {
    "duration": 230,
    "start_time": "2021-07-14T08:36:47.303Z"
   },
   {
    "duration": 8512,
    "start_time": "2021-07-14T08:45:58.210Z"
   },
   {
    "duration": 287,
    "start_time": "2021-07-14T08:46:18.876Z"
   },
   {
    "duration": 280,
    "start_time": "2021-07-14T08:46:48.198Z"
   },
   {
    "duration": 423,
    "start_time": "2021-07-14T08:47:18.191Z"
   },
   {
    "duration": 388,
    "start_time": "2021-07-14T08:47:36.581Z"
   },
   {
    "duration": 278,
    "start_time": "2021-07-14T08:47:59.075Z"
   },
   {
    "duration": 287,
    "start_time": "2021-07-14T08:48:11.098Z"
   },
   {
    "duration": 282,
    "start_time": "2021-07-14T08:49:08.179Z"
   },
   {
    "duration": 307,
    "start_time": "2021-07-14T08:49:17.323Z"
   },
   {
    "duration": 371,
    "start_time": "2021-07-14T08:49:26.330Z"
   },
   {
    "duration": 102,
    "start_time": "2021-07-14T08:50:39.247Z"
   },
   {
    "duration": 332,
    "start_time": "2021-07-14T08:50:51.453Z"
   },
   {
    "duration": 294,
    "start_time": "2021-07-14T08:51:09.035Z"
   },
   {
    "duration": 26,
    "start_time": "2021-07-14T08:56:44.098Z"
   },
   {
    "duration": 27,
    "start_time": "2021-07-14T08:57:02.302Z"
   },
   {
    "duration": 27,
    "start_time": "2021-07-14T08:57:53.902Z"
   },
   {
    "duration": 30,
    "start_time": "2021-07-14T09:02:48.646Z"
   },
   {
    "duration": 131,
    "start_time": "2021-07-14T09:22:27.549Z"
   },
   {
    "duration": 114,
    "start_time": "2021-07-14T09:23:04.474Z"
   },
   {
    "duration": 115,
    "start_time": "2021-07-14T09:23:11.739Z"
   },
   {
    "duration": 28,
    "start_time": "2021-07-14T09:23:23.254Z"
   },
   {
    "duration": 35,
    "start_time": "2021-07-14T09:23:47.917Z"
   },
   {
    "duration": 350,
    "start_time": "2021-07-14T18:00:50.949Z"
   },
   {
    "duration": 1685,
    "start_time": "2021-07-14T18:01:21.246Z"
   },
   {
    "duration": 854,
    "start_time": "2021-07-14T18:01:24.651Z"
   },
   {
    "duration": 79,
    "start_time": "2021-07-14T18:01:28.127Z"
   },
   {
    "duration": 19,
    "start_time": "2021-07-14T18:01:28.740Z"
   },
   {
    "duration": 16,
    "start_time": "2021-07-14T18:01:29.655Z"
   },
   {
    "duration": 63,
    "start_time": "2021-07-14T18:01:43.245Z"
   },
   {
    "duration": 10,
    "start_time": "2021-07-14T18:01:43.649Z"
   },
   {
    "duration": 8,
    "start_time": "2021-07-14T18:01:44.190Z"
   },
   {
    "duration": 5,
    "start_time": "2021-07-14T18:01:49.837Z"
   },
   {
    "duration": 4,
    "start_time": "2021-07-14T18:01:53.754Z"
   },
   {
    "duration": 251,
    "start_time": "2021-07-14T18:01:56.949Z"
   },
   {
    "duration": 326,
    "start_time": "2021-07-14T18:02:00.361Z"
   },
   {
    "duration": 7786,
    "start_time": "2021-07-14T18:02:36.406Z"
   },
   {
    "duration": 1527,
    "start_time": "2021-07-14T18:02:53.500Z"
   },
   {
    "duration": 851,
    "start_time": "2021-07-14T18:03:02.816Z"
   },
   {
    "duration": 272,
    "start_time": "2021-07-14T18:03:11.159Z"
   },
   {
    "duration": 62,
    "start_time": "2021-07-14T18:05:47.106Z"
   },
   {
    "duration": 8642,
    "start_time": "2021-07-14T18:30:43.895Z"
   },
   {
    "duration": 8783,
    "start_time": "2021-07-14T18:32:48.400Z"
   },
   {
    "duration": 9212,
    "start_time": "2021-07-14T18:33:16.052Z"
   },
   {
    "duration": 46,
    "start_time": "2021-07-14T18:35:15.387Z"
   },
   {
    "duration": 29,
    "start_time": "2021-07-14T18:35:40.576Z"
   },
   {
    "duration": 458,
    "start_time": "2021-07-14T18:36:57.079Z"
   },
   {
    "duration": 289,
    "start_time": "2021-07-14T18:37:08.386Z"
   },
   {
    "duration": 28,
    "start_time": "2021-07-14T18:37:15.220Z"
   },
   {
    "duration": 273,
    "start_time": "2021-07-14T18:37:28.886Z"
   },
   {
    "duration": 29,
    "start_time": "2021-07-14T18:37:38.930Z"
   },
   {
    "duration": 280,
    "start_time": "2021-07-14T18:37:58.304Z"
   },
   {
    "duration": 32,
    "start_time": "2021-07-14T18:38:06.726Z"
   },
   {
    "duration": 47,
    "start_time": "2021-07-14T18:38:56.359Z"
   },
   {
    "duration": 7058,
    "start_time": "2021-07-14T18:42:17.920Z"
   },
   {
    "duration": 36,
    "start_time": "2021-07-14T18:43:09.580Z"
   },
   {
    "duration": 36,
    "start_time": "2021-07-14T18:43:37.786Z"
   },
   {
    "duration": 295,
    "start_time": "2021-07-14T18:49:30.080Z"
   },
   {
    "duration": 301,
    "start_time": "2021-07-14T18:49:38.127Z"
   },
   {
    "duration": 262,
    "start_time": "2021-07-14T18:49:46.921Z"
   },
   {
    "duration": 299,
    "start_time": "2021-07-14T18:50:58.736Z"
   },
   {
    "duration": 421,
    "start_time": "2021-07-14T18:51:54.997Z"
   },
   {
    "duration": 572,
    "start_time": "2021-07-14T18:58:46.261Z"
   },
   {
    "duration": 568,
    "start_time": "2021-07-14T18:59:27.575Z"
   },
   {
    "duration": 551,
    "start_time": "2021-07-14T19:00:50.444Z"
   },
   {
    "duration": 548,
    "start_time": "2021-07-14T19:01:16.691Z"
   },
   {
    "duration": 508,
    "start_time": "2021-07-14T19:02:44.322Z"
   },
   {
    "duration": 307,
    "start_time": "2021-07-14T19:02:55.056Z"
   },
   {
    "duration": 405,
    "start_time": "2021-07-14T19:03:04.611Z"
   },
   {
    "duration": 442,
    "start_time": "2021-07-14T19:03:57.204Z"
   },
   {
    "duration": 642,
    "start_time": "2021-07-14T19:04:12.815Z"
   },
   {
    "duration": 561,
    "start_time": "2021-07-14T19:04:28.326Z"
   },
   {
    "duration": 551,
    "start_time": "2021-07-14T19:06:40.784Z"
   },
   {
    "duration": 285,
    "start_time": "2021-07-14T20:08:58.188Z"
   },
   {
    "duration": 519,
    "start_time": "2021-07-14T20:09:28.292Z"
   },
   {
    "duration": 980,
    "start_time": "2021-07-14T20:09:44.842Z"
   },
   {
    "duration": 451,
    "start_time": "2021-07-14T20:42:35.192Z"
   },
   {
    "duration": 289,
    "start_time": "2021-07-14T20:45:10.892Z"
   },
   {
    "duration": 421,
    "start_time": "2021-07-14T20:50:08.507Z"
   },
   {
    "duration": 3,
    "start_time": "2021-07-14T20:54:04.975Z"
   },
   {
    "duration": 115,
    "start_time": "2021-07-14T20:56:14.506Z"
   },
   {
    "duration": 7678,
    "start_time": "2021-07-14T20:58:01.710Z"
   },
   {
    "duration": 23,
    "start_time": "2021-07-14T20:59:15.119Z"
   },
   {
    "duration": 103,
    "start_time": "2021-07-14T20:59:54.393Z"
   },
   {
    "duration": 367,
    "start_time": "2021-07-14T21:03:03.002Z"
   },
   {
    "duration": 103,
    "start_time": "2021-07-14T21:03:17.754Z"
   },
   {
    "duration": 109,
    "start_time": "2021-07-14T21:03:26.968Z"
   },
   {
    "duration": 587,
    "start_time": "2021-07-14T21:04:20.263Z"
   },
   {
    "duration": 98,
    "start_time": "2021-07-14T21:04:40.347Z"
   },
   {
    "duration": 100,
    "start_time": "2021-07-14T21:05:07.451Z"
   },
   {
    "duration": 102,
    "start_time": "2021-07-14T21:05:43.484Z"
   },
   {
    "duration": 97,
    "start_time": "2021-07-14T21:20:05.461Z"
   },
   {
    "duration": 86,
    "start_time": "2021-07-14T21:20:58.202Z"
   },
   {
    "duration": 92,
    "start_time": "2021-07-14T21:22:07.153Z"
   },
   {
    "duration": 95,
    "start_time": "2021-07-14T21:22:17.478Z"
   },
   {
    "duration": 105,
    "start_time": "2021-07-14T21:22:39.011Z"
   },
   {
    "duration": 95,
    "start_time": "2021-07-14T21:22:48.593Z"
   },
   {
    "duration": 94,
    "start_time": "2021-07-14T21:24:37.975Z"
   },
   {
    "duration": 734,
    "start_time": "2021-07-14T21:25:33.313Z"
   },
   {
    "duration": 646,
    "start_time": "2021-07-14T21:25:57.474Z"
   },
   {
    "duration": 635,
    "start_time": "2021-07-14T21:26:07.627Z"
   },
   {
    "duration": 639,
    "start_time": "2021-07-14T21:27:02.478Z"
   },
   {
    "duration": 652,
    "start_time": "2021-07-14T21:37:35.984Z"
   },
   {
    "duration": 659,
    "start_time": "2021-07-14T21:37:52.469Z"
   },
   {
    "duration": 7131,
    "start_time": "2021-07-14T21:45:19.094Z"
   },
   {
    "duration": 464,
    "start_time": "2021-07-14T21:48:08.123Z"
   },
   {
    "duration": 29,
    "start_time": "2021-07-14T21:49:08.645Z"
   },
   {
    "duration": 27,
    "start_time": "2021-07-14T21:49:38.634Z"
   },
   {
    "duration": 431,
    "start_time": "2021-07-14T21:50:56.249Z"
   },
   {
    "duration": 453,
    "start_time": "2021-07-14T22:01:11.424Z"
   },
   {
    "duration": 1689,
    "start_time": "2021-07-15T05:04:23.980Z"
   },
   {
    "duration": 750,
    "start_time": "2021-07-15T05:04:26.923Z"
   },
   {
    "duration": 78,
    "start_time": "2021-07-15T05:04:28.960Z"
   },
   {
    "duration": 21,
    "start_time": "2021-07-15T05:04:29.450Z"
   },
   {
    "duration": 15,
    "start_time": "2021-07-15T05:04:30.171Z"
   },
   {
    "duration": 4,
    "start_time": "2021-07-15T05:19:32.461Z"
   },
   {
    "duration": 1650,
    "start_time": "2021-07-15T05:19:49.173Z"
   },
   {
    "duration": 783,
    "start_time": "2021-07-15T05:19:53.163Z"
   },
   {
    "duration": 80,
    "start_time": "2021-07-15T05:19:55.934Z"
   },
   {
    "duration": 18,
    "start_time": "2021-07-15T05:19:57.377Z"
   },
   {
    "duration": 16,
    "start_time": "2021-07-15T05:20:04.143Z"
   },
   {
    "duration": 66,
    "start_time": "2021-07-15T05:20:12.674Z"
   },
   {
    "duration": 11,
    "start_time": "2021-07-15T05:20:13.923Z"
   },
   {
    "duration": 8,
    "start_time": "2021-07-15T05:20:14.608Z"
   },
   {
    "duration": 5,
    "start_time": "2021-07-15T05:20:22.110Z"
   },
   {
    "duration": 5,
    "start_time": "2021-07-15T05:20:36.620Z"
   },
   {
    "duration": 223,
    "start_time": "2021-07-15T05:20:40.249Z"
   },
   {
    "duration": 391,
    "start_time": "2021-07-15T05:20:46.402Z"
   },
   {
    "duration": 7261,
    "start_time": "2021-07-15T05:21:06.369Z"
   },
   {
    "duration": 1435,
    "start_time": "2021-07-15T05:21:25.333Z"
   },
   {
    "duration": 567,
    "start_time": "2021-07-15T05:21:37.296Z"
   },
   {
    "duration": 8408,
    "start_time": "2021-07-15T05:23:46.525Z"
   },
   {
    "duration": 528,
    "start_time": "2021-07-15T05:24:31.043Z"
   },
   {
    "duration": 388,
    "start_time": "2021-07-15T05:24:48.020Z"
   },
   {
    "duration": 257,
    "start_time": "2021-07-15T05:25:11.242Z"
   },
   {
    "duration": 142,
    "start_time": "2021-07-15T05:25:25.047Z"
   },
   {
    "duration": 33,
    "start_time": "2021-07-15T05:25:27.198Z"
   },
   {
    "duration": 632,
    "start_time": "2021-07-15T05:25:53.019Z"
   },
   {
    "duration": 632,
    "start_time": "2021-07-15T05:26:59.570Z"
   },
   {
    "duration": 512,
    "start_time": "2021-07-15T05:27:20.344Z"
   },
   {
    "duration": 485,
    "start_time": "2021-07-15T05:29:12.600Z"
   },
   {
    "duration": 1661,
    "start_time": "2021-07-15T16:35:32.483Z"
   },
   {
    "duration": 5,
    "start_time": "2021-07-15T16:35:43.241Z"
   },
   {
    "duration": 750,
    "start_time": "2021-07-15T16:35:45.626Z"
   },
   {
    "duration": 79,
    "start_time": "2021-07-15T16:35:50.369Z"
   },
   {
    "duration": 19,
    "start_time": "2021-07-15T16:35:50.733Z"
   },
   {
    "duration": 16,
    "start_time": "2021-07-15T16:35:51.063Z"
   },
   {
    "duration": 64,
    "start_time": "2021-07-15T16:35:56.940Z"
   },
   {
    "duration": 12,
    "start_time": "2021-07-15T16:35:57.008Z"
   },
   {
    "duration": 9,
    "start_time": "2021-07-15T16:35:57.482Z"
   },
   {
    "duration": 6,
    "start_time": "2021-07-15T16:36:08.297Z"
   },
   {
    "duration": 4,
    "start_time": "2021-07-15T16:36:16.263Z"
   },
   {
    "duration": 229,
    "start_time": "2021-07-15T16:36:26.830Z"
   },
   {
    "duration": 364,
    "start_time": "2021-07-15T16:36:33.806Z"
   },
   {
    "duration": 7529,
    "start_time": "2021-07-15T16:36:56.231Z"
   },
   {
    "duration": 1578,
    "start_time": "2021-07-15T16:37:10.991Z"
   },
   {
    "duration": 590,
    "start_time": "2021-07-15T16:37:17.759Z"
   },
   {
    "duration": 8353,
    "start_time": "2021-07-15T16:38:09.868Z"
   },
   {
    "duration": 8339,
    "start_time": "2021-07-15T16:40:08.743Z"
   },
   {
    "duration": 8480,
    "start_time": "2021-07-15T16:41:21.009Z"
   },
   {
    "duration": 8434,
    "start_time": "2021-07-15T16:41:42.238Z"
   },
   {
    "duration": 513,
    "start_time": "2021-07-15T16:43:24.749Z"
   },
   {
    "duration": 609,
    "start_time": "2021-07-15T16:45:09.400Z"
   },
   {
    "duration": 1488,
    "start_time": "2021-07-15T16:46:42.090Z"
   },
   {
    "duration": 7507,
    "start_time": "2021-07-15T16:47:38.292Z"
   },
   {
    "duration": 520,
    "start_time": "2021-07-15T16:51:48.298Z"
   },
   {
    "duration": 388,
    "start_time": "2021-07-15T16:53:20.065Z"
   },
   {
    "duration": 284,
    "start_time": "2021-07-15T16:53:58.247Z"
   },
   {
    "duration": 290,
    "start_time": "2021-07-15T16:54:34.395Z"
   },
   {
    "duration": 258,
    "start_time": "2021-07-15T16:54:56.560Z"
   },
   {
    "duration": 661,
    "start_time": "2021-07-15T16:55:31.736Z"
   },
   {
    "duration": 103,
    "start_time": "2021-07-15T16:55:49.797Z"
   },
   {
    "duration": 25,
    "start_time": "2021-07-15T16:56:15.856Z"
   },
   {
    "duration": 643,
    "start_time": "2021-07-15T16:56:18.940Z"
   },
   {
    "duration": 642,
    "start_time": "2021-07-15T16:57:10.750Z"
   },
   {
    "duration": 637,
    "start_time": "2021-07-15T16:57:42.791Z"
   },
   {
    "duration": 429,
    "start_time": "2021-07-15T17:15:08.906Z"
   },
   {
    "duration": 11,
    "start_time": "2021-07-15T17:27:54.856Z"
   },
   {
    "duration": 6,
    "start_time": "2021-07-15T17:29:33.184Z"
   },
   {
    "duration": 11,
    "start_time": "2021-07-15T17:29:55.071Z"
   },
   {
    "duration": 356,
    "start_time": "2021-07-15T17:32:12.064Z"
   },
   {
    "duration": 10,
    "start_time": "2021-07-15T17:32:23.636Z"
   },
   {
    "duration": 380,
    "start_time": "2021-07-15T17:32:48.071Z"
   },
   {
    "duration": 4376,
    "start_time": "2021-07-15T17:33:06.282Z"
   },
   {
    "duration": 10,
    "start_time": "2021-07-15T17:33:32.700Z"
   },
   {
    "duration": 11,
    "start_time": "2021-07-15T17:34:48.383Z"
   },
   {
    "duration": 344,
    "start_time": "2021-07-15T17:35:12.363Z"
   },
   {
    "duration": 13,
    "start_time": "2021-07-15T17:36:09.414Z"
   },
   {
    "duration": 1661,
    "start_time": "2021-07-15T17:37:10.087Z"
   },
   {
    "duration": 756,
    "start_time": "2021-07-15T17:37:11.751Z"
   },
   {
    "duration": 78,
    "start_time": "2021-07-15T17:37:14.190Z"
   },
   {
    "duration": 20,
    "start_time": "2021-07-15T17:37:17.001Z"
   },
   {
    "duration": 15,
    "start_time": "2021-07-15T17:37:17.427Z"
   },
   {
    "duration": 67,
    "start_time": "2021-07-15T17:37:20.497Z"
   },
   {
    "duration": 10,
    "start_time": "2021-07-15T17:37:20.983Z"
   },
   {
    "duration": 8,
    "start_time": "2021-07-15T17:37:21.423Z"
   },
   {
    "duration": 5,
    "start_time": "2021-07-15T17:37:25.164Z"
   },
   {
    "duration": 4,
    "start_time": "2021-07-15T17:37:26.182Z"
   },
   {
    "duration": 238,
    "start_time": "2021-07-15T17:37:27.114Z"
   },
   {
    "duration": 382,
    "start_time": "2021-07-15T17:37:30.438Z"
   },
   {
    "duration": 7362,
    "start_time": "2021-07-15T17:37:33.314Z"
   },
   {
    "duration": 1505,
    "start_time": "2021-07-15T17:37:40.684Z"
   },
   {
    "duration": 640,
    "start_time": "2021-07-15T17:37:42.191Z"
   },
   {
    "duration": 9703,
    "start_time": "2021-07-15T17:37:46.655Z"
   },
   {
    "duration": 644,
    "start_time": "2021-07-15T17:38:17.299Z"
   },
   {
    "duration": 455,
    "start_time": "2021-07-15T17:38:17.946Z"
   },
   {
    "duration": 265,
    "start_time": "2021-07-15T17:38:25.350Z"
   },
   {
    "duration": 143,
    "start_time": "2021-07-15T17:38:30.090Z"
   },
   {
    "duration": 25,
    "start_time": "2021-07-15T17:38:30.747Z"
   },
   {
    "duration": 642,
    "start_time": "2021-07-15T17:38:33.743Z"
   },
   {
    "duration": 427,
    "start_time": "2021-07-15T17:38:38.479Z"
   },
   {
    "duration": 13,
    "start_time": "2021-07-15T17:38:56.008Z"
   },
   {
    "duration": 366,
    "start_time": "2021-07-15T17:39:43.713Z"
   },
   {
    "duration": 372,
    "start_time": "2021-07-15T17:41:42.656Z"
   },
   {
    "duration": 517,
    "start_time": "2021-07-15T17:45:39.162Z"
   },
   {
    "duration": 438,
    "start_time": "2021-07-15T17:45:57.689Z"
   },
   {
    "duration": 8,
    "start_time": "2021-07-15T17:46:03.573Z"
   },
   {
    "duration": 15,
    "start_time": "2021-07-15T17:46:17.284Z"
   },
   {
    "duration": 334,
    "start_time": "2021-07-15T17:48:33.440Z"
   },
   {
    "duration": 37,
    "start_time": "2021-07-15T17:48:50.180Z"
   },
   {
    "duration": 38,
    "start_time": "2021-07-15T17:49:54.071Z"
   },
   {
    "duration": 375,
    "start_time": "2021-07-15T17:52:45.675Z"
   },
   {
    "duration": 332,
    "start_time": "2021-07-15T17:53:50.498Z"
   },
   {
    "duration": 346,
    "start_time": "2021-07-15T17:54:32.305Z"
   },
   {
    "duration": 376,
    "start_time": "2021-07-15T17:54:40.655Z"
   },
   {
    "duration": 431,
    "start_time": "2021-07-15T17:55:47.636Z"
   },
   {
    "duration": 719,
    "start_time": "2021-07-15T18:05:45.936Z"
   },
   {
    "duration": 427,
    "start_time": "2021-07-15T18:07:03.527Z"
   },
   {
    "duration": 597,
    "start_time": "2021-07-15T18:07:16.868Z"
   },
   {
    "duration": 41,
    "start_time": "2021-07-15T18:08:02.381Z"
   },
   {
    "duration": 416,
    "start_time": "2021-07-15T18:08:09.231Z"
   },
   {
    "duration": 15,
    "start_time": "2021-07-15T19:36:23.043Z"
   },
   {
    "duration": 27,
    "start_time": "2021-07-15T19:37:54.213Z"
   },
   {
    "duration": 34,
    "start_time": "2021-07-15T19:38:03.308Z"
   },
   {
    "duration": 118,
    "start_time": "2021-07-15T19:38:48.308Z"
   },
   {
    "duration": 30,
    "start_time": "2021-07-15T19:38:56.737Z"
   },
   {
    "duration": 37,
    "start_time": "2021-07-15T19:39:07.473Z"
   },
   {
    "duration": 8263,
    "start_time": "2021-07-15T19:39:49.076Z"
   },
   {
    "duration": 38,
    "start_time": "2021-07-15T19:40:11.653Z"
   },
   {
    "duration": 8588,
    "start_time": "2021-07-15T19:40:41.898Z"
   },
   {
    "duration": 138,
    "start_time": "2021-07-15T19:42:54.042Z"
   },
   {
    "duration": 8452,
    "start_time": "2021-07-15T19:43:06.703Z"
   },
   {
    "duration": 47,
    "start_time": "2021-07-15T19:49:14.297Z"
   },
   {
    "duration": 415,
    "start_time": "2021-07-15T19:54:08.958Z"
   },
   {
    "duration": 45,
    "start_time": "2021-07-15T19:55:55.308Z"
   },
   {
    "duration": 53,
    "start_time": "2021-07-15T19:56:02.475Z"
   },
   {
    "duration": 62,
    "start_time": "2021-07-15T19:56:17.668Z"
   },
   {
    "duration": 58,
    "start_time": "2021-07-15T19:57:11.177Z"
   },
   {
    "duration": 2312,
    "start_time": "2021-07-15T19:57:43.614Z"
   },
   {
    "duration": 44,
    "start_time": "2021-07-15T19:58:02.586Z"
   },
   {
    "duration": 422,
    "start_time": "2021-07-15T20:00:21.962Z"
   },
   {
    "duration": 50,
    "start_time": "2021-07-15T20:00:46.529Z"
   },
   {
    "duration": 13,
    "start_time": "2021-07-15T20:04:10.086Z"
   },
   {
    "duration": 44,
    "start_time": "2021-07-15T20:04:18.076Z"
   },
   {
    "duration": 309,
    "start_time": "2021-07-15T20:05:41.050Z"
   },
   {
    "duration": 25,
    "start_time": "2021-07-15T20:05:55.842Z"
   },
   {
    "duration": 688,
    "start_time": "2021-07-15T20:09:35.842Z"
   },
   {
    "duration": 656,
    "start_time": "2021-07-15T20:10:15.621Z"
   },
   {
    "duration": 650,
    "start_time": "2021-07-15T20:12:29.559Z"
   },
   {
    "duration": 795,
    "start_time": "2021-07-15T20:14:22.874Z"
   },
   {
    "duration": 741,
    "start_time": "2021-07-15T20:15:46.061Z"
   },
   {
    "duration": 705,
    "start_time": "2021-07-15T20:15:56.445Z"
   },
   {
    "duration": 680,
    "start_time": "2021-07-15T20:16:38.118Z"
   },
   {
    "duration": 61,
    "start_time": "2021-07-15T20:17:58.824Z"
   },
   {
    "duration": 181,
    "start_time": "2021-07-15T20:27:25.802Z"
   },
   {
    "duration": 26,
    "start_time": "2021-07-15T20:29:42.270Z"
   },
   {
    "duration": 28,
    "start_time": "2021-07-15T20:31:02.366Z"
   },
   {
    "duration": 33,
    "start_time": "2021-07-15T20:31:37.320Z"
   },
   {
    "duration": 8287,
    "start_time": "2021-07-15T20:32:09.899Z"
   },
   {
    "duration": 7809,
    "start_time": "2021-07-15T20:32:19.064Z"
   },
   {
    "duration": 8279,
    "start_time": "2021-07-15T20:33:03.838Z"
   },
   {
    "duration": 17,
    "start_time": "2021-07-15T20:33:17.167Z"
   },
   {
    "duration": 1249,
    "start_time": "2021-07-16T08:22:32.030Z"
   },
   {
    "duration": 563,
    "start_time": "2021-07-16T08:22:34.759Z"
   },
   {
    "duration": 56,
    "start_time": "2021-07-16T08:22:37.914Z"
   },
   {
    "duration": 12,
    "start_time": "2021-07-16T08:22:38.426Z"
   },
   {
    "duration": 10,
    "start_time": "2021-07-16T08:22:39.057Z"
   },
   {
    "duration": 47,
    "start_time": "2021-07-16T08:22:49.028Z"
   },
   {
    "duration": 7,
    "start_time": "2021-07-16T08:22:49.573Z"
   },
   {
    "duration": 6,
    "start_time": "2021-07-16T08:22:50.047Z"
   },
   {
    "duration": 4,
    "start_time": "2021-07-16T08:22:54.191Z"
   },
   {
    "duration": 3,
    "start_time": "2021-07-16T08:22:57.926Z"
   },
   {
    "duration": 158,
    "start_time": "2021-07-16T08:23:01.788Z"
   },
   {
    "duration": 242,
    "start_time": "2021-07-16T08:23:06.401Z"
   },
   {
    "duration": 146,
    "start_time": "2021-07-16T08:37:16.777Z"
   },
   {
    "duration": 11,
    "start_time": "2021-07-16T08:37:27.271Z"
   },
   {
    "duration": 4331,
    "start_time": "2021-07-16T08:40:10.998Z"
   },
   {
    "duration": 958,
    "start_time": "2021-07-16T08:40:20.515Z"
   },
   {
    "duration": 392,
    "start_time": "2021-07-16T08:40:27.213Z"
   },
   {
    "duration": 5147,
    "start_time": "2021-07-16T08:42:14.657Z"
   },
   {
    "duration": 338,
    "start_time": "2021-07-16T08:43:00.315Z"
   },
   {
    "duration": 331,
    "start_time": "2021-07-16T08:43:13.811Z"
   },
   {
    "duration": 165,
    "start_time": "2021-07-16T08:49:55.322Z"
   },
   {
    "duration": 96,
    "start_time": "2021-07-16T08:50:33.715Z"
   },
   {
    "duration": 17,
    "start_time": "2021-07-16T08:50:37.485Z"
   },
   {
    "duration": 381,
    "start_time": "2021-07-16T08:50:42.408Z"
   },
   {
    "duration": 13,
    "start_time": "2021-07-16T08:50:55.325Z"
   },
   {
    "duration": 247,
    "start_time": "2021-07-16T08:51:10.233Z"
   },
   {
    "duration": 191,
    "start_time": "2021-07-16T08:51:35.344Z"
   },
   {
    "duration": 24,
    "start_time": "2021-07-16T08:51:51.211Z"
   },
   {
    "duration": 231,
    "start_time": "2021-07-16T08:52:05.256Z"
   },
   {
    "duration": 15,
    "start_time": "2021-07-16T08:56:12.583Z"
   },
   {
    "duration": 14,
    "start_time": "2021-07-16T09:00:05.368Z"
   },
   {
    "duration": 27,
    "start_time": "2021-07-16T09:00:10.469Z"
   },
   {
    "duration": 30,
    "start_time": "2021-07-16T09:12:43.740Z"
   },
   {
    "duration": 32,
    "start_time": "2021-07-16T09:13:05.363Z"
   },
   {
    "duration": 2,
    "start_time": "2021-07-16T09:14:13.096Z"
   },
   {
    "duration": 1198,
    "start_time": "2021-07-16T09:17:25.009Z"
   },
   {
    "duration": 562,
    "start_time": "2021-07-16T09:17:27.585Z"
   },
   {
    "duration": 58,
    "start_time": "2021-07-16T09:17:30.012Z"
   },
   {
    "duration": 13,
    "start_time": "2021-07-16T09:17:32.886Z"
   },
   {
    "duration": 11,
    "start_time": "2021-07-16T09:17:36.940Z"
   },
   {
    "duration": 50,
    "start_time": "2021-07-16T09:17:55.877Z"
   },
   {
    "duration": 8,
    "start_time": "2021-07-16T09:17:56.542Z"
   },
   {
    "duration": 6,
    "start_time": "2021-07-16T09:17:57.054Z"
   },
   {
    "duration": 4,
    "start_time": "2021-07-16T09:18:02.356Z"
   },
   {
    "duration": 3,
    "start_time": "2021-07-16T09:18:05.263Z"
   },
   {
    "duration": 157,
    "start_time": "2021-07-16T09:18:06.101Z"
   },
   {
    "duration": 246,
    "start_time": "2021-07-16T09:18:10.607Z"
   },
   {
    "duration": 140,
    "start_time": "2021-07-16T09:19:26.233Z"
   },
   {
    "duration": 4264,
    "start_time": "2021-07-16T09:19:28.891Z"
   },
   {
    "duration": 915,
    "start_time": "2021-07-16T09:19:33.157Z"
   },
   {
    "duration": 400,
    "start_time": "2021-07-16T09:19:37.637Z"
   },
   {
    "duration": 5020,
    "start_time": "2021-07-16T09:19:45.296Z"
   },
   {
    "duration": 314,
    "start_time": "2021-07-16T09:19:50.318Z"
   },
   {
    "duration": 288,
    "start_time": "2021-07-16T09:19:53.400Z"
   },
   {
    "duration": 84,
    "start_time": "2021-07-16T09:20:01.376Z"
   },
   {
    "duration": 15,
    "start_time": "2021-07-16T09:20:02.522Z"
   },
   {
    "duration": 382,
    "start_time": "2021-07-16T09:20:03.382Z"
   },
   {
    "duration": 35,
    "start_time": "2021-07-16T09:20:20.946Z"
   },
   {
    "duration": 242,
    "start_time": "2021-07-16T09:24:26.157Z"
   },
   {
    "duration": 25,
    "start_time": "2021-07-16T09:26:23.413Z"
   },
   {
    "duration": 10,
    "start_time": "2021-07-16T09:27:16.468Z"
   },
   {
    "duration": 357,
    "start_time": "2021-07-16T09:27:26.557Z"
   },
   {
    "duration": 10,
    "start_time": "2021-07-16T09:28:35.243Z"
   },
   {
    "duration": 11,
    "start_time": "2021-07-16T09:28:40.885Z"
   },
   {
    "duration": 11,
    "start_time": "2021-07-16T09:29:13.158Z"
   },
   {
    "duration": 10,
    "start_time": "2021-07-16T09:29:25.797Z"
   },
   {
    "duration": 22,
    "start_time": "2021-07-16T09:33:19.953Z"
   },
   {
    "duration": 27,
    "start_time": "2021-07-16T09:34:42.268Z"
   },
   {
    "duration": 19,
    "start_time": "2021-07-16T09:35:14.104Z"
   },
   {
    "duration": 17,
    "start_time": "2021-07-16T09:35:51.980Z"
   },
   {
    "duration": 15,
    "start_time": "2021-07-16T09:36:23.627Z"
   },
   {
    "duration": 14,
    "start_time": "2021-07-16T09:37:27.920Z"
   },
   {
    "duration": 16,
    "start_time": "2021-07-16T09:37:53.920Z"
   },
   {
    "duration": 14,
    "start_time": "2021-07-16T09:38:18.968Z"
   },
   {
    "duration": 21,
    "start_time": "2021-07-16T09:41:28.723Z"
   },
   {
    "duration": 21,
    "start_time": "2021-07-16T09:41:55.928Z"
   },
   {
    "duration": 19,
    "start_time": "2021-07-16T09:43:26.990Z"
   },
   {
    "duration": 1243,
    "start_time": "2021-07-16T10:08:39.648Z"
   },
   {
    "duration": 588,
    "start_time": "2021-07-16T10:08:42.284Z"
   },
   {
    "duration": 57,
    "start_time": "2021-07-16T10:08:44.654Z"
   },
   {
    "duration": 13,
    "start_time": "2021-07-16T10:08:45.915Z"
   },
   {
    "duration": 11,
    "start_time": "2021-07-16T10:08:46.499Z"
   },
   {
    "duration": 50,
    "start_time": "2021-07-16T10:08:51.038Z"
   },
   {
    "duration": 8,
    "start_time": "2021-07-16T10:08:51.423Z"
   },
   {
    "duration": 6,
    "start_time": "2021-07-16T10:08:51.956Z"
   },
   {
    "duration": 3,
    "start_time": "2021-07-16T10:08:55.098Z"
   },
   {
    "duration": 3,
    "start_time": "2021-07-16T10:08:56.416Z"
   },
   {
    "duration": 172,
    "start_time": "2021-07-16T10:08:57.172Z"
   },
   {
    "duration": 242,
    "start_time": "2021-07-16T10:09:00.398Z"
   },
   {
    "duration": 143,
    "start_time": "2021-07-16T10:09:01.320Z"
   },
   {
    "duration": 4282,
    "start_time": "2021-07-16T10:09:09.240Z"
   },
   {
    "duration": 928,
    "start_time": "2021-07-16T10:09:13.524Z"
   },
   {
    "duration": 382,
    "start_time": "2021-07-16T10:09:21.541Z"
   },
   {
    "duration": 5177,
    "start_time": "2021-07-16T10:13:40.116Z"
   },
   {
    "duration": 321,
    "start_time": "2021-07-16T10:13:56.169Z"
   },
   {
    "duration": 284,
    "start_time": "2021-07-16T10:13:59.890Z"
   },
   {
    "duration": 85,
    "start_time": "2021-07-16T10:15:20.933Z"
   },
   {
    "duration": 20,
    "start_time": "2021-07-16T10:15:23.804Z"
   },
   {
    "duration": 395,
    "start_time": "2021-07-16T10:15:24.453Z"
   },
   {
    "duration": 21,
    "start_time": "2021-07-16T10:15:48.361Z"
   },
   {
    "duration": 372,
    "start_time": "2021-07-16T10:22:58.842Z"
   },
   {
    "duration": 266,
    "start_time": "2021-07-16T10:25:21.653Z"
   },
   {
    "duration": 198,
    "start_time": "2021-07-16T10:26:16.824Z"
   },
   {
    "duration": 482,
    "start_time": "2021-07-16T10:26:25.536Z"
   },
   {
    "duration": 288,
    "start_time": "2021-07-16T10:27:16.365Z"
   },
   {
    "duration": 24,
    "start_time": "2021-07-16T10:27:47.656Z"
   },
   {
    "duration": 235,
    "start_time": "2021-07-16T10:28:06.128Z"
   },
   {
    "duration": 6,
    "start_time": "2021-07-16T13:19:59.813Z"
   },
   {
    "duration": 7,
    "start_time": "2021-07-16T13:20:32.646Z"
   },
   {
    "duration": 18,
    "start_time": "2021-07-16T13:25:26.805Z"
   },
   {
    "duration": 126,
    "start_time": "2021-07-16T13:39:39.599Z"
   },
   {
    "duration": 153,
    "start_time": "2021-07-16T14:18:10.070Z"
   },
   {
    "duration": 406,
    "start_time": "2021-07-16T14:25:40.363Z"
   },
   {
    "duration": 1182,
    "start_time": "2021-07-16T14:46:10.543Z"
   },
   {
    "duration": 565,
    "start_time": "2021-07-16T14:46:11.727Z"
   },
   {
    "duration": 56,
    "start_time": "2021-07-16T14:46:12.466Z"
   },
   {
    "duration": 13,
    "start_time": "2021-07-16T14:46:12.782Z"
   },
   {
    "duration": 11,
    "start_time": "2021-07-16T14:46:13.155Z"
   },
   {
    "duration": 49,
    "start_time": "2021-07-16T14:46:21.382Z"
   },
   {
    "duration": 8,
    "start_time": "2021-07-16T14:46:21.903Z"
   },
   {
    "duration": 5,
    "start_time": "2021-07-16T14:46:22.223Z"
   },
   {
    "duration": 3,
    "start_time": "2021-07-16T14:46:25.330Z"
   },
   {
    "duration": 3,
    "start_time": "2021-07-16T14:46:27.194Z"
   },
   {
    "duration": 215,
    "start_time": "2021-07-16T14:46:28.825Z"
   },
   {
    "duration": 242,
    "start_time": "2021-07-16T14:46:31.457Z"
   },
   {
    "duration": 138,
    "start_time": "2021-07-16T14:46:34.031Z"
   },
   {
    "duration": 4424,
    "start_time": "2021-07-16T14:46:36.777Z"
   },
   {
    "duration": 913,
    "start_time": "2021-07-16T14:46:44.858Z"
   },
   {
    "duration": 401,
    "start_time": "2021-07-16T14:46:48.605Z"
   },
   {
    "duration": 5263,
    "start_time": "2021-07-16T14:46:53.405Z"
   },
   {
    "duration": 303,
    "start_time": "2021-07-16T14:47:05.291Z"
   },
   {
    "duration": 272,
    "start_time": "2021-07-16T14:47:08.524Z"
   },
   {
    "duration": 262,
    "start_time": "2021-07-16T14:47:47.555Z"
   },
   {
    "duration": 430,
    "start_time": "2021-07-16T14:50:43.176Z"
   },
   {
    "duration": 396,
    "start_time": "2021-07-16T14:51:04.564Z"
   },
   {
    "duration": 422,
    "start_time": "2021-07-16T14:51:56.019Z"
   },
   {
    "duration": 396,
    "start_time": "2021-07-16T14:54:16.220Z"
   },
   {
    "duration": 8308,
    "start_time": "2021-07-16T14:57:26.206Z"
   },
   {
    "duration": 263,
    "start_time": "2021-07-16T15:02:28.045Z"
   },
   {
    "duration": 17,
    "start_time": "2021-07-16T15:05:38.268Z"
   },
   {
    "duration": 357,
    "start_time": "2021-07-16T15:08:05.214Z"
   },
   {
    "duration": 138,
    "start_time": "2021-07-16T15:08:27.968Z"
   },
   {
    "duration": 223,
    "start_time": "2021-07-16T15:10:32.441Z"
   },
   {
    "duration": 243,
    "start_time": "2021-07-16T15:11:09.206Z"
   },
   {
    "duration": 224,
    "start_time": "2021-07-16T15:11:32.606Z"
   },
   {
    "duration": 265,
    "start_time": "2021-07-16T15:11:45.332Z"
   },
   {
    "duration": 241,
    "start_time": "2021-07-16T15:12:09.002Z"
   },
   {
    "duration": 7053,
    "start_time": "2021-07-16T15:14:16.805Z"
   },
   {
    "duration": 514,
    "start_time": "2021-07-16T15:14:46.819Z"
   },
   {
    "duration": 1309,
    "start_time": "2021-07-16T15:20:30.187Z"
   },
   {
    "duration": 593,
    "start_time": "2021-07-16T15:20:33.804Z"
   },
   {
    "duration": 65,
    "start_time": "2021-07-16T15:20:35.588Z"
   },
   {
    "duration": 12,
    "start_time": "2021-07-16T15:20:38.581Z"
   },
   {
    "duration": 10,
    "start_time": "2021-07-16T15:20:39.102Z"
   },
   {
    "duration": 47,
    "start_time": "2021-07-16T15:20:43.239Z"
   },
   {
    "duration": 7,
    "start_time": "2021-07-16T15:20:43.536Z"
   },
   {
    "duration": 5,
    "start_time": "2021-07-16T15:20:43.783Z"
   },
   {
    "duration": 3,
    "start_time": "2021-07-16T15:20:47.187Z"
   },
   {
    "duration": 3,
    "start_time": "2021-07-16T15:20:47.996Z"
   },
   {
    "duration": 203,
    "start_time": "2021-07-16T15:20:49.010Z"
   },
   {
    "duration": 247,
    "start_time": "2021-07-16T15:20:52.118Z"
   },
   {
    "duration": 152,
    "start_time": "2021-07-16T15:20:53.148Z"
   },
   {
    "duration": 4534,
    "start_time": "2021-07-16T15:20:57.481Z"
   },
   {
    "duration": 907,
    "start_time": "2021-07-16T15:21:02.017Z"
   },
   {
    "duration": 383,
    "start_time": "2021-07-16T15:21:06.536Z"
   },
   {
    "duration": 4928,
    "start_time": "2021-07-16T15:21:09.891Z"
   },
   {
    "duration": 307,
    "start_time": "2021-07-16T15:22:22.276Z"
   },
   {
    "duration": 279,
    "start_time": "2021-07-16T15:22:25.096Z"
   },
   {
    "duration": 560,
    "start_time": "2021-07-16T15:22:31.813Z"
   },
   {
    "duration": 550,
    "start_time": "2021-07-16T15:22:53.482Z"
   },
   {
    "duration": 505,
    "start_time": "2021-07-16T15:24:46.030Z"
   },
   {
    "duration": 7832,
    "start_time": "2021-07-16T15:30:06.001Z"
   },
   {
    "duration": 1810,
    "start_time": "2021-07-16T15:35:38.753Z"
   },
   {
    "duration": 2523,
    "start_time": "2021-07-16T15:36:57.288Z"
   },
   {
    "duration": 2603,
    "start_time": "2021-07-16T15:39:19.316Z"
   },
   {
    "duration": 2522,
    "start_time": "2021-07-16T15:39:41.391Z"
   },
   {
    "duration": 1657,
    "start_time": "2021-07-16T16:34:47.059Z"
   },
   {
    "duration": 882,
    "start_time": "2021-07-16T16:34:49.227Z"
   },
   {
    "duration": 57,
    "start_time": "2021-07-16T16:34:53.878Z"
   },
   {
    "duration": 13,
    "start_time": "2021-07-16T16:34:58.224Z"
   },
   {
    "duration": 11,
    "start_time": "2021-07-16T16:35:02.028Z"
   },
   {
    "duration": 48,
    "start_time": "2021-07-16T16:35:21.488Z"
   },
   {
    "duration": 7,
    "start_time": "2021-07-16T16:35:21.730Z"
   },
   {
    "duration": 5,
    "start_time": "2021-07-16T16:35:21.984Z"
   },
   {
    "duration": 4,
    "start_time": "2021-07-16T16:35:25.433Z"
   },
   {
    "duration": 3,
    "start_time": "2021-07-16T16:35:28.385Z"
   },
   {
    "duration": 169,
    "start_time": "2021-07-16T16:35:30.736Z"
   },
   {
    "duration": 254,
    "start_time": "2021-07-16T16:35:33.909Z"
   },
   {
    "duration": 144,
    "start_time": "2021-07-16T16:35:36.775Z"
   },
   {
    "duration": 4270,
    "start_time": "2021-07-16T16:35:40.667Z"
   },
   {
    "duration": 4439,
    "start_time": "2021-07-16T16:36:21.991Z"
   },
   {
    "duration": 915,
    "start_time": "2021-07-16T16:36:38.403Z"
   },
   {
    "duration": 918,
    "start_time": "2021-07-16T16:36:54.632Z"
   },
   {
    "duration": 386,
    "start_time": "2021-07-16T16:37:09.818Z"
   },
   {
    "duration": 5062,
    "start_time": "2021-07-16T16:37:15.490Z"
   },
   {
    "duration": 399,
    "start_time": "2021-07-16T16:40:48.874Z"
   },
   {
    "duration": 191,
    "start_time": "2021-07-16T16:40:53.014Z"
   },
   {
    "duration": 2545,
    "start_time": "2021-07-16T16:41:04.722Z"
   },
   {
    "duration": 71,
    "start_time": "2021-07-16T16:41:11.458Z"
   },
   {
    "duration": 19,
    "start_time": "2021-07-16T16:41:13.857Z"
   },
   {
    "duration": 452,
    "start_time": "2021-07-16T16:41:15.864Z"
   },
   {
    "duration": 21,
    "start_time": "2021-07-16T16:41:18.789Z"
   },
   {
    "duration": 307,
    "start_time": "2021-07-16T16:41:21.054Z"
   },
   {
    "duration": 215,
    "start_time": "2021-07-16T16:41:24.926Z"
   },
   {
    "duration": 24,
    "start_time": "2021-07-16T16:41:28.605Z"
   },
   {
    "duration": 255,
    "start_time": "2021-07-16T16:41:29.148Z"
   },
   {
    "duration": 6,
    "start_time": "2021-07-16T16:41:33.055Z"
   },
   {
    "duration": 121,
    "start_time": "2021-07-16T16:41:36.227Z"
   },
   {
    "duration": 293,
    "start_time": "2021-07-16T21:35:33.967Z"
   },
   {
    "duration": 280,
    "start_time": "2021-07-16T21:35:52.563Z"
   },
   {
    "duration": 1177,
    "start_time": "2021-07-16T21:36:16.854Z"
   },
   {
    "duration": 598,
    "start_time": "2021-07-16T21:36:18.279Z"
   },
   {
    "duration": 57,
    "start_time": "2021-07-16T21:37:30.149Z"
   },
   {
    "duration": 13,
    "start_time": "2021-07-16T21:37:30.395Z"
   },
   {
    "duration": 11,
    "start_time": "2021-07-16T21:37:30.652Z"
   },
   {
    "duration": 47,
    "start_time": "2021-07-16T21:37:37.956Z"
   },
   {
    "duration": 7,
    "start_time": "2021-07-16T21:37:38.179Z"
   },
   {
    "duration": 5,
    "start_time": "2021-07-16T21:37:38.437Z"
   },
   {
    "duration": 3,
    "start_time": "2021-07-16T21:37:42.540Z"
   },
   {
    "duration": 3,
    "start_time": "2021-07-16T21:37:43.650Z"
   },
   {
    "duration": 168,
    "start_time": "2021-07-16T21:37:44.500Z"
   },
   {
    "duration": 253,
    "start_time": "2021-07-16T21:37:45.386Z"
   },
   {
    "duration": 151,
    "start_time": "2021-07-16T21:37:49.135Z"
   },
   {
    "duration": 4284,
    "start_time": "2021-07-16T21:37:52.158Z"
   },
   {
    "duration": 901,
    "start_time": "2021-07-16T21:37:56.444Z"
   },
   {
    "duration": 408,
    "start_time": "2021-07-16T21:38:00.235Z"
   },
   {
    "duration": 5100,
    "start_time": "2021-07-16T21:38:03.835Z"
   },
   {
    "duration": 307,
    "start_time": "2021-07-16T21:38:08.940Z"
   },
   {
    "duration": 409,
    "start_time": "2021-07-16T21:38:15.271Z"
   },
   {
    "duration": 187,
    "start_time": "2021-07-16T21:38:19.755Z"
   },
   {
    "duration": 2829,
    "start_time": "2021-07-16T21:38:23.797Z"
   },
   {
    "duration": 72,
    "start_time": "2021-07-16T21:38:31.238Z"
   },
   {
    "duration": 15,
    "start_time": "2021-07-16T21:38:31.979Z"
   },
   {
    "duration": 457,
    "start_time": "2021-07-16T21:38:32.709Z"
   },
   {
    "duration": 21,
    "start_time": "2021-07-16T21:38:36.725Z"
   },
   {
    "duration": 284,
    "start_time": "2021-07-16T21:38:42.480Z"
   },
   {
    "duration": 13,
    "start_time": "2021-07-16T21:38:47.521Z"
   },
   {
    "duration": 14,
    "start_time": "2021-07-16T21:39:05.445Z"
   },
   {
    "duration": 88,
    "start_time": "2021-07-16T21:41:02.851Z"
   },
   {
    "duration": 9,
    "start_time": "2021-07-16T21:41:09.976Z"
   },
   {
    "duration": 15,
    "start_time": "2021-07-16T21:44:08.623Z"
   },
   {
    "duration": 21,
    "start_time": "2021-07-16T21:45:24.411Z"
   },
   {
    "duration": 38,
    "start_time": "2021-07-16T21:49:55.678Z"
   },
   {
    "duration": 385,
    "start_time": "2021-07-16T21:51:31.430Z"
   },
   {
    "duration": 37,
    "start_time": "2021-07-16T21:51:37.242Z"
   },
   {
    "duration": 39,
    "start_time": "2021-07-16T21:51:48.312Z"
   },
   {
    "duration": 40,
    "start_time": "2021-07-16T21:51:57.284Z"
   },
   {
    "duration": 41,
    "start_time": "2021-07-16T21:53:08.545Z"
   },
   {
    "duration": 7036,
    "start_time": "2021-07-16T22:05:39.797Z"
   },
   {
    "duration": 7125,
    "start_time": "2021-07-16T22:06:09.185Z"
   },
   {
    "duration": 1842,
    "start_time": "2021-07-16T22:06:26.864Z"
   },
   {
    "duration": 44,
    "start_time": "2021-07-16T22:08:49.995Z"
   },
   {
    "duration": 64,
    "start_time": "2021-07-16T22:09:29.514Z"
   },
   {
    "duration": 73,
    "start_time": "2021-07-16T22:10:12.183Z"
   },
   {
    "duration": 320,
    "start_time": "2021-07-16T22:11:02.370Z"
   },
   {
    "duration": 787,
    "start_time": "2021-07-16T22:11:28.329Z"
   },
   {
    "duration": 617,
    "start_time": "2021-07-16T22:11:40.997Z"
   },
   {
    "duration": 898,
    "start_time": "2021-07-16T22:12:19.091Z"
   },
   {
    "duration": 800,
    "start_time": "2021-07-16T22:12:48.991Z"
   },
   {
    "duration": 794,
    "start_time": "2021-07-16T22:13:43.599Z"
   },
   {
    "duration": 212,
    "start_time": "2021-07-16T22:13:52.910Z"
   },
   {
    "duration": 24,
    "start_time": "2021-07-16T22:13:59.495Z"
   },
   {
    "duration": 252,
    "start_time": "2021-07-16T22:14:04.832Z"
   },
   {
    "duration": 743,
    "start_time": "2021-07-16T22:28:29.474Z"
   },
   {
    "duration": 5,
    "start_time": "2021-07-16T22:29:59.639Z"
   },
   {
    "duration": 126,
    "start_time": "2021-07-16T22:30:00.201Z"
   },
   {
    "duration": 1268,
    "start_time": "2021-07-17T06:37:22.008Z"
   },
   {
    "duration": 595,
    "start_time": "2021-07-17T06:37:24.664Z"
   },
   {
    "duration": 57,
    "start_time": "2021-07-17T06:37:26.683Z"
   },
   {
    "duration": 13,
    "start_time": "2021-07-17T06:37:26.935Z"
   },
   {
    "duration": 10,
    "start_time": "2021-07-17T06:37:27.173Z"
   },
   {
    "duration": 48,
    "start_time": "2021-07-17T06:37:39.295Z"
   },
   {
    "duration": 7,
    "start_time": "2021-07-17T06:37:39.684Z"
   },
   {
    "duration": 6,
    "start_time": "2021-07-17T06:37:40.105Z"
   },
   {
    "duration": 3,
    "start_time": "2021-07-17T06:37:43.747Z"
   },
   {
    "duration": 4,
    "start_time": "2021-07-17T06:37:44.951Z"
   },
   {
    "duration": 174,
    "start_time": "2021-07-17T06:37:45.738Z"
   },
   {
    "duration": 246,
    "start_time": "2021-07-17T06:37:50.525Z"
   },
   {
    "duration": 155,
    "start_time": "2021-07-17T06:37:54.237Z"
   },
   {
    "duration": 4515,
    "start_time": "2021-07-17T06:37:58.380Z"
   },
   {
    "duration": 934,
    "start_time": "2021-07-17T06:38:06.152Z"
   },
   {
    "duration": 403,
    "start_time": "2021-07-17T06:38:56.645Z"
   },
   {
    "duration": 5098,
    "start_time": "2021-07-17T06:39:03.518Z"
   },
   {
    "duration": 377,
    "start_time": "2021-07-17T06:39:08.618Z"
   },
   {
    "duration": 283,
    "start_time": "2021-07-17T06:39:13.113Z"
   },
   {
    "duration": 2662,
    "start_time": "2021-07-17T06:39:16.913Z"
   },
   {
    "duration": 76,
    "start_time": "2021-07-17T06:39:40.113Z"
   },
   {
    "duration": 17,
    "start_time": "2021-07-17T06:39:43.103Z"
   },
   {
    "duration": 461,
    "start_time": "2021-07-17T06:39:44.130Z"
   },
   {
    "duration": 21,
    "start_time": "2021-07-17T06:39:50.917Z"
   },
   {
    "duration": 321,
    "start_time": "2021-07-17T06:40:03.528Z"
   },
   {
    "duration": 715,
    "start_time": "2021-07-17T06:40:10.360Z"
   },
   {
    "duration": 220,
    "start_time": "2021-07-17T06:40:15.791Z"
   },
   {
    "duration": 26,
    "start_time": "2021-07-17T06:40:23.949Z"
   },
   {
    "duration": 264,
    "start_time": "2021-07-17T06:40:28.236Z"
   },
   {
    "duration": 400,
    "start_time": "2021-07-17T06:40:36.632Z"
   },
   {
    "duration": 13,
    "start_time": "2021-07-17T06:41:38.878Z"
   },
   {
    "duration": 271,
    "start_time": "2021-07-17T06:42:09.036Z"
   },
   {
    "duration": 13,
    "start_time": "2021-07-17T06:42:42.293Z"
   },
   {
    "duration": 263,
    "start_time": "2021-07-17T06:43:45.548Z"
   },
   {
    "duration": 259,
    "start_time": "2021-07-17T06:44:19.460Z"
   },
   {
    "duration": 251,
    "start_time": "2021-07-17T06:44:35.526Z"
   },
   {
    "duration": 269,
    "start_time": "2021-07-17T06:44:41.750Z"
   },
   {
    "duration": 9,
    "start_time": "2021-07-17T06:45:01.516Z"
   },
   {
    "duration": 12,
    "start_time": "2021-07-17T06:47:53.079Z"
   },
   {
    "duration": 7,
    "start_time": "2021-07-17T06:59:28.672Z"
   },
   {
    "duration": 13,
    "start_time": "2021-07-17T06:59:32.924Z"
   },
   {
    "duration": 14,
    "start_time": "2021-07-17T07:01:15.473Z"
   },
   {
    "duration": 281,
    "start_time": "2021-07-17T07:03:32.621Z"
   },
   {
    "duration": 853,
    "start_time": "2021-07-17T07:03:56.677Z"
   },
   {
    "duration": 604,
    "start_time": "2021-07-17T07:04:16.739Z"
   },
   {
    "duration": 741,
    "start_time": "2021-07-17T07:04:32.710Z"
   },
   {
    "duration": 763,
    "start_time": "2021-07-17T07:04:58.522Z"
   },
   {
    "duration": 5,
    "start_time": "2021-07-17T07:05:22.306Z"
   },
   {
    "duration": 6,
    "start_time": "2021-07-17T07:09:48.341Z"
   },
   {
    "duration": 1240,
    "start_time": "2021-07-17T17:17:11.802Z"
   },
   {
    "duration": 588,
    "start_time": "2021-07-17T17:17:17.261Z"
   },
   {
    "duration": 61,
    "start_time": "2021-07-17T17:17:21.152Z"
   },
   {
    "duration": 13,
    "start_time": "2021-07-17T17:17:21.642Z"
   },
   {
    "duration": 11,
    "start_time": "2021-07-17T17:17:22.356Z"
   },
   {
    "duration": 46,
    "start_time": "2021-07-17T17:17:33.372Z"
   },
   {
    "duration": 7,
    "start_time": "2021-07-17T17:17:34.143Z"
   },
   {
    "duration": 5,
    "start_time": "2021-07-17T17:17:34.570Z"
   },
   {
    "duration": 4,
    "start_time": "2021-07-17T17:17:37.782Z"
   },
   {
    "duration": 3,
    "start_time": "2021-07-17T17:17:40.332Z"
   },
   {
    "duration": 170,
    "start_time": "2021-07-17T17:17:42.535Z"
   },
   {
    "duration": 256,
    "start_time": "2021-07-17T17:17:44.625Z"
   },
   {
    "duration": 148,
    "start_time": "2021-07-17T17:17:47.412Z"
   },
   {
    "duration": 4402,
    "start_time": "2021-07-17T17:17:51.772Z"
   },
   {
    "duration": 981,
    "start_time": "2021-07-17T17:17:56.176Z"
   },
   {
    "duration": 426,
    "start_time": "2021-07-17T17:17:57.159Z"
   },
   {
    "duration": 5201,
    "start_time": "2021-07-17T17:18:30.315Z"
   },
   {
    "duration": 332,
    "start_time": "2021-07-17T17:19:59.626Z"
   },
   {
    "duration": 294,
    "start_time": "2021-07-17T17:20:07.431Z"
   },
   {
    "duration": 2679,
    "start_time": "2021-07-17T17:20:29.132Z"
   },
   {
    "duration": 102,
    "start_time": "2021-07-17T17:22:18.920Z"
   },
   {
    "duration": 21,
    "start_time": "2021-07-17T17:22:19.878Z"
   },
   {
    "duration": 777,
    "start_time": "2021-07-17T17:22:20.443Z"
   },
   {
    "duration": 21,
    "start_time": "2021-07-17T17:25:01.190Z"
   },
   {
    "duration": 284,
    "start_time": "2021-07-17T17:25:10.851Z"
   },
   {
    "duration": 305,
    "start_time": "2021-07-17T17:25:23.670Z"
   },
   {
    "duration": 316,
    "start_time": "2021-07-17T17:26:30.935Z"
   },
   {
    "duration": 299,
    "start_time": "2021-07-17T17:26:49.401Z"
   },
   {
    "duration": 781,
    "start_time": "2021-07-17T17:30:11.382Z"
   },
   {
    "duration": 293,
    "start_time": "2021-07-17T17:37:31.971Z"
   },
   {
    "duration": 24,
    "start_time": "2021-07-17T17:37:36.128Z"
   },
   {
    "duration": 267,
    "start_time": "2021-07-17T17:37:36.535Z"
   },
   {
    "duration": 9,
    "start_time": "2021-07-17T17:39:06.734Z"
   },
   {
    "duration": 14,
    "start_time": "2021-07-17T17:39:08.305Z"
   },
   {
    "duration": 812,
    "start_time": "2021-07-17T17:39:32.985Z"
   },
   {
    "duration": 5,
    "start_time": "2021-07-17T17:39:41.364Z"
   },
   {
    "duration": 1742,
    "start_time": "2021-07-19T04:08:24.825Z"
   },
   {
    "duration": 824,
    "start_time": "2021-07-19T04:08:27.904Z"
   },
   {
    "duration": 78,
    "start_time": "2021-07-19T04:08:51.302Z"
   },
   {
    "duration": 19,
    "start_time": "2021-07-19T04:08:51.917Z"
   },
   {
    "duration": 15,
    "start_time": "2021-07-19T04:08:52.905Z"
   },
   {
    "duration": 63,
    "start_time": "2021-07-19T04:09:11.546Z"
   },
   {
    "duration": 11,
    "start_time": "2021-07-19T04:09:12.066Z"
   },
   {
    "duration": 7,
    "start_time": "2021-07-19T04:09:12.767Z"
   },
   {
    "duration": 5,
    "start_time": "2021-07-19T04:09:27.858Z"
   },
   {
    "duration": 4,
    "start_time": "2021-07-19T04:09:30.187Z"
   },
   {
    "duration": 246,
    "start_time": "2021-07-19T04:09:33.311Z"
   },
   {
    "duration": 389,
    "start_time": "2021-07-19T04:09:35.239Z"
   },
   {
    "duration": 233,
    "start_time": "2021-07-19T04:09:38.560Z"
   },
   {
    "duration": 7584,
    "start_time": "2021-07-19T04:09:44.293Z"
   },
   {
    "duration": 1607,
    "start_time": "2021-07-19T04:10:09.425Z"
   },
   {
    "duration": 613,
    "start_time": "2021-07-19T04:10:15.888Z"
   },
   {
    "duration": 679,
    "start_time": "2021-07-19T04:12:21.283Z"
   },
   {
    "duration": 508,
    "start_time": "2021-07-19T04:13:09.881Z"
   },
   {
    "duration": 618,
    "start_time": "2021-07-19T04:13:44.705Z"
   },
   {
    "duration": 394,
    "start_time": "2021-07-19T04:14:02.203Z"
   },
   {
    "duration": 8907,
    "start_time": "2021-07-19T04:14:49.198Z"
   },
   {
    "duration": 310,
    "start_time": "2021-07-19T04:16:16.289Z"
   },
   {
    "duration": 659,
    "start_time": "2021-07-19T04:16:34.318Z"
   },
   {
    "duration": 4385,
    "start_time": "2021-07-19T04:17:48.361Z"
   },
   {
    "duration": 116,
    "start_time": "2021-07-19T04:18:39.792Z"
   },
   {
    "duration": 24,
    "start_time": "2021-07-19T04:18:40.969Z"
   },
   {
    "duration": 952,
    "start_time": "2021-07-19T04:18:42.090Z"
   },
   {
    "duration": 31,
    "start_time": "2021-07-19T04:18:59.355Z"
   },
   {
    "duration": 557,
    "start_time": "2021-07-19T04:19:20.261Z"
   },
   {
    "duration": 1098,
    "start_time": "2021-07-19T04:23:03.591Z"
   },
   {
    "duration": 410,
    "start_time": "2021-07-19T04:23:29.598Z"
   },
   {
    "duration": 39,
    "start_time": "2021-07-19T04:23:37.541Z"
   },
   {
    "duration": 468,
    "start_time": "2021-07-19T04:23:41.633Z"
   },
   {
    "duration": 13,
    "start_time": "2021-07-19T04:23:49.403Z"
   },
   {
    "duration": 25,
    "start_time": "2021-07-19T04:23:50.346Z"
   },
   {
    "duration": 1315,
    "start_time": "2021-07-19T04:24:17.912Z"
   },
   {
    "duration": 8,
    "start_time": "2021-07-19T04:24:19.766Z"
   },
   {
    "duration": 9,
    "start_time": "2021-07-19T04:28:40.885Z"
   },
   {
    "duration": 199,
    "start_time": "2021-07-19T04:28:52.984Z"
   },
   {
    "duration": 360,
    "start_time": "2021-07-19T04:36:04.486Z"
   },
   {
    "duration": 31,
    "start_time": "2021-07-19T04:36:35.009Z"
   },
   {
    "duration": 28,
    "start_time": "2021-07-19T04:38:17.972Z"
   },
   {
    "duration": 15,
    "start_time": "2021-07-19T04:39:42.071Z"
   },
   {
    "duration": 435,
    "start_time": "2021-07-19T04:42:25.271Z"
   },
   {
    "duration": 399,
    "start_time": "2021-07-19T04:44:26.826Z"
   },
   {
    "duration": 369,
    "start_time": "2021-07-19T04:44:54.046Z"
   },
   {
    "duration": 452,
    "start_time": "2021-07-19T04:45:22.033Z"
   },
   {
    "duration": 36,
    "start_time": "2021-07-19T04:53:23.248Z"
   },
   {
    "duration": 195,
    "start_time": "2021-07-19T04:53:47.313Z"
   },
   {
    "duration": 187,
    "start_time": "2021-07-19T04:54:13.360Z"
   },
   {
    "duration": 182,
    "start_time": "2021-07-19T04:54:38.353Z"
   },
   {
    "duration": 189,
    "start_time": "2021-07-19T04:54:48.812Z"
   },
   {
    "duration": 28,
    "start_time": "2021-07-19T04:58:43.206Z"
   },
   {
    "duration": 20,
    "start_time": "2021-07-19T04:58:55.332Z"
   },
   {
    "duration": 428,
    "start_time": "2021-07-19T05:00:13.779Z"
   },
   {
    "duration": 1716,
    "start_time": "2021-07-19T05:00:33.560Z"
   },
   {
    "duration": 832,
    "start_time": "2021-07-19T05:00:35.279Z"
   },
   {
    "duration": 81,
    "start_time": "2021-07-19T05:00:36.764Z"
   },
   {
    "duration": 19,
    "start_time": "2021-07-19T05:00:37.325Z"
   },
   {
    "duration": 16,
    "start_time": "2021-07-19T05:00:37.859Z"
   },
   {
    "duration": 67,
    "start_time": "2021-07-19T05:00:40.555Z"
   },
   {
    "duration": 9,
    "start_time": "2021-07-19T05:00:40.924Z"
   },
   {
    "duration": 8,
    "start_time": "2021-07-19T05:00:41.868Z"
   },
   {
    "duration": 5,
    "start_time": "2021-07-19T05:00:43.389Z"
   },
   {
    "duration": 4,
    "start_time": "2021-07-19T05:00:44.573Z"
   },
   {
    "duration": 263,
    "start_time": "2021-07-19T05:00:45.690Z"
   },
   {
    "duration": 385,
    "start_time": "2021-07-19T05:00:46.942Z"
   },
   {
    "duration": 239,
    "start_time": "2021-07-19T05:00:48.197Z"
   },
   {
    "duration": 7606,
    "start_time": "2021-07-19T05:00:52.205Z"
   },
   {
    "duration": 1586,
    "start_time": "2021-07-19T05:00:59.813Z"
   },
   {
    "duration": 659,
    "start_time": "2021-07-19T05:01:01.402Z"
   },
   {
    "duration": 8850,
    "start_time": "2021-07-19T05:01:21.448Z"
   },
   {
    "duration": 574,
    "start_time": "2021-07-19T05:01:30.301Z"
   },
   {
    "duration": 432,
    "start_time": "2021-07-19T05:01:40.758Z"
   },
   {
    "duration": 4143,
    "start_time": "2021-07-19T05:01:47.230Z"
   },
   {
    "duration": 119,
    "start_time": "2021-07-19T05:02:03.034Z"
   },
   {
    "duration": 26,
    "start_time": "2021-07-19T05:02:16.651Z"
   },
   {
    "duration": 959,
    "start_time": "2021-07-19T05:02:33.663Z"
   },
   {
    "duration": 31,
    "start_time": "2021-07-19T05:02:44.707Z"
   },
   {
    "duration": 568,
    "start_time": "2021-07-19T05:02:53.852Z"
   },
   {
    "duration": 1129,
    "start_time": "2021-07-19T05:03:17.544Z"
   },
   {
    "duration": 407,
    "start_time": "2021-07-19T05:03:24.163Z"
   },
   {
    "duration": 40,
    "start_time": "2021-07-19T05:03:30.027Z"
   },
   {
    "duration": 466,
    "start_time": "2021-07-19T05:03:42.075Z"
   },
   {
    "duration": 14,
    "start_time": "2021-07-19T05:03:51.960Z"
   },
   {
    "duration": 14,
    "start_time": "2021-07-19T05:04:16.034Z"
   },
   {
    "duration": 15,
    "start_time": "2021-07-19T05:04:23.171Z"
   },
   {
    "duration": 24,
    "start_time": "2021-07-19T05:04:33.416Z"
   },
   {
    "duration": 1248,
    "start_time": "2021-07-19T05:04:56.247Z"
   },
   {
    "duration": 8,
    "start_time": "2021-07-19T05:05:26.190Z"
   },
   {
    "duration": 7,
    "start_time": "2021-07-19T05:07:48.802Z"
   },
   {
    "duration": 184,
    "start_time": "2021-07-19T05:07:49.256Z"
   },
   {
    "duration": 401,
    "start_time": "2021-07-19T05:26:25.797Z"
   },
   {
    "duration": 379,
    "start_time": "2021-07-19T05:26:55.543Z"
   },
   {
    "duration": 1703,
    "start_time": "2021-07-19T06:18:03.564Z"
   },
   {
    "duration": 807,
    "start_time": "2021-07-19T06:18:06.420Z"
   },
   {
    "duration": 80,
    "start_time": "2021-07-19T06:18:11.682Z"
   },
   {
    "duration": 18,
    "start_time": "2021-07-19T06:18:11.764Z"
   },
   {
    "duration": 17,
    "start_time": "2021-07-19T06:18:11.785Z"
   },
   {
    "duration": 67,
    "start_time": "2021-07-19T06:18:17.452Z"
   },
   {
    "duration": 10,
    "start_time": "2021-07-19T06:18:17.975Z"
   },
   {
    "duration": 8,
    "start_time": "2021-07-19T06:18:18.479Z"
   },
   {
    "duration": 5,
    "start_time": "2021-07-19T06:18:22.059Z"
   },
   {
    "duration": 4,
    "start_time": "2021-07-19T06:18:22.635Z"
   },
   {
    "duration": 247,
    "start_time": "2021-07-19T06:18:25.626Z"
   },
   {
    "duration": 381,
    "start_time": "2021-07-19T06:18:26.122Z"
   },
   {
    "duration": 235,
    "start_time": "2021-07-19T06:18:29.084Z"
   },
   {
    "duration": 7576,
    "start_time": "2021-07-19T06:18:34.891Z"
   },
   {
    "duration": 1560,
    "start_time": "2021-07-19T06:18:42.469Z"
   },
   {
    "duration": 648,
    "start_time": "2021-07-19T06:18:44.032Z"
   },
   {
    "duration": 8715,
    "start_time": "2021-07-19T06:18:49.288Z"
   },
   {
    "duration": 564,
    "start_time": "2021-07-19T06:18:58.006Z"
   },
   {
    "duration": 423,
    "start_time": "2021-07-19T06:18:58.572Z"
   },
   {
    "duration": 4251,
    "start_time": "2021-07-19T06:19:18.508Z"
   },
   {
    "duration": 113,
    "start_time": "2021-07-19T06:19:35.439Z"
   },
   {
    "duration": 23,
    "start_time": "2021-07-19T06:19:35.963Z"
   },
   {
    "duration": 866,
    "start_time": "2021-07-19T06:19:36.604Z"
   },
   {
    "duration": 30,
    "start_time": "2021-07-19T06:19:51.093Z"
   },
   {
    "duration": 565,
    "start_time": "2021-07-19T06:20:05.013Z"
   },
   {
    "duration": 1244,
    "start_time": "2021-07-19T06:21:07.145Z"
   },
   {
    "duration": 2374,
    "start_time": "2021-07-19T06:21:47.666Z"
   },
   {
    "duration": 495,
    "start_time": "2021-07-19T06:23:03.964Z"
   },
   {
    "duration": 39,
    "start_time": "2021-07-19T06:23:09.261Z"
   },
   {
    "duration": 475,
    "start_time": "2021-07-19T06:23:14.077Z"
   },
   {
    "duration": 16,
    "start_time": "2021-07-19T06:26:52.856Z"
   },
   {
    "duration": 23,
    "start_time": "2021-07-19T06:27:12.491Z"
   },
   {
    "duration": 1176,
    "start_time": "2021-07-19T06:28:00.036Z"
   },
   {
    "duration": 10,
    "start_time": "2021-07-19T06:28:38.845Z"
   },
   {
    "duration": 8,
    "start_time": "2021-07-19T06:28:42.779Z"
   },
   {
    "duration": 190,
    "start_time": "2021-07-19T06:28:48.880Z"
   },
   {
    "duration": 14,
    "start_time": "2021-07-19T06:28:54.007Z"
   },
   {
    "duration": 654,
    "start_time": "2021-07-19T06:29:25.714Z"
   },
   {
    "duration": 26,
    "start_time": "2021-07-19T06:29:40.008Z"
   },
   {
    "duration": 23,
    "start_time": "2021-07-19T06:31:00.660Z"
   },
   {
    "duration": 15,
    "start_time": "2021-07-19T06:31:27.283Z"
   },
   {
    "duration": 537,
    "start_time": "2021-07-19T06:33:23.298Z"
   },
   {
    "duration": 400,
    "start_time": "2021-07-19T06:43:25.639Z"
   },
   {
    "duration": 417,
    "start_time": "2021-07-19T06:43:37.198Z"
   },
   {
    "duration": 367,
    "start_time": "2021-07-19T06:44:12.785Z"
   },
   {
    "duration": 21,
    "start_time": "2021-07-19T06:57:54.845Z"
   },
   {
    "duration": 219,
    "start_time": "2021-07-19T06:57:57.355Z"
   },
   {
    "duration": 382,
    "start_time": "2021-07-19T07:00:19.603Z"
   },
   {
    "duration": 585,
    "start_time": "2021-07-19T07:06:33.917Z"
   },
   {
    "duration": 407,
    "start_time": "2021-07-19T07:07:01.451Z"
   },
   {
    "duration": 538,
    "start_time": "2021-07-19T07:07:19.831Z"
   },
   {
    "duration": 41,
    "start_time": "2021-07-19T07:08:36.108Z"
   },
   {
    "duration": 7,
    "start_time": "2021-07-19T07:36:14.287Z"
   },
   {
    "duration": 7,
    "start_time": "2021-07-19T07:39:58.844Z"
   },
   {
    "duration": 7,
    "start_time": "2021-07-19T07:40:27.800Z"
   },
   {
    "duration": 392,
    "start_time": "2021-07-19T07:47:29.531Z"
   },
   {
    "duration": 384,
    "start_time": "2021-07-19T07:47:58.662Z"
   },
   {
    "duration": 403,
    "start_time": "2021-07-19T07:48:07.078Z"
   },
   {
    "duration": 54,
    "start_time": "2021-07-19T07:49:13.017Z"
   },
   {
    "duration": 11,
    "start_time": "2021-07-19T07:49:29.966Z"
   },
   {
    "duration": 52,
    "start_time": "2021-07-19T07:49:51.240Z"
   },
   {
    "duration": 61,
    "start_time": "2021-07-19T07:49:58.457Z"
   },
   {
    "duration": 19,
    "start_time": "2021-07-19T07:50:13.502Z"
   },
   {
    "duration": 22,
    "start_time": "2021-07-19T07:51:30.563Z"
   },
   {
    "duration": 18,
    "start_time": "2021-07-19T07:51:37.804Z"
   },
   {
    "duration": 345,
    "start_time": "2021-07-19T07:53:20.702Z"
   },
   {
    "duration": 347,
    "start_time": "2021-07-19T07:53:27.047Z"
   },
   {
    "duration": 9122,
    "start_time": "2021-07-19T07:57:44.734Z"
   },
   {
    "duration": 189,
    "start_time": "2021-07-19T07:57:56.523Z"
   },
   {
    "duration": 38,
    "start_time": "2021-07-19T08:06:23.711Z"
   },
   {
    "duration": 21,
    "start_time": "2021-07-19T08:07:55.493Z"
   },
   {
    "duration": 576,
    "start_time": "2021-07-19T08:08:33.122Z"
   },
   {
    "duration": 511,
    "start_time": "2021-07-19T08:09:12.321Z"
   },
   {
    "duration": 2130,
    "start_time": "2021-07-19T08:09:23.144Z"
   },
   {
    "duration": 63,
    "start_time": "2021-07-19T09:38:25.816Z"
   },
   {
    "duration": 238,
    "start_time": "2021-07-19T09:39:38.760Z"
   },
   {
    "duration": 2127,
    "start_time": "2021-07-19T11:42:26.413Z"
   },
   {
    "duration": 842,
    "start_time": "2021-07-19T11:42:35.588Z"
   },
   {
    "duration": 77,
    "start_time": "2021-07-19T11:42:39.395Z"
   },
   {
    "duration": 119,
    "start_time": "2021-07-19T11:45:07.280Z"
   },
   {
    "duration": 126,
    "start_time": "2021-07-19T11:45:16.410Z"
   },
   {
    "duration": 112,
    "start_time": "2021-07-19T11:45:26.189Z"
   },
   {
    "duration": 132,
    "start_time": "2021-07-19T11:45:30.565Z"
   },
   {
    "duration": 18,
    "start_time": "2021-07-19T11:47:01.376Z"
   },
   {
    "duration": 15,
    "start_time": "2021-07-19T11:47:05.635Z"
   },
   {
    "duration": 64,
    "start_time": "2021-07-19T11:49:43.073Z"
   },
   {
    "duration": 10,
    "start_time": "2021-07-19T11:49:44.048Z"
   },
   {
    "duration": 8,
    "start_time": "2021-07-19T11:49:44.586Z"
   },
   {
    "duration": 5,
    "start_time": "2021-07-19T11:49:54.935Z"
   },
   {
    "duration": 5,
    "start_time": "2021-07-19T11:49:56.764Z"
   },
   {
    "duration": 255,
    "start_time": "2021-07-19T11:49:59.034Z"
   },
   {
    "duration": 384,
    "start_time": "2021-07-19T11:50:04.906Z"
   },
   {
    "duration": 254,
    "start_time": "2021-07-19T11:50:06.169Z"
   },
   {
    "duration": 7533,
    "start_time": "2021-07-19T11:50:23.395Z"
   },
   {
    "duration": 1589,
    "start_time": "2021-07-19T11:50:30.930Z"
   },
   {
    "duration": 659,
    "start_time": "2021-07-19T11:50:44.989Z"
   },
   {
    "duration": 9055,
    "start_time": "2021-07-19T11:51:18.921Z"
   },
   {
    "duration": 566,
    "start_time": "2021-07-19T11:51:27.978Z"
   },
   {
    "duration": 717,
    "start_time": "2021-07-19T11:51:33.292Z"
   },
   {
    "duration": 329,
    "start_time": "2021-07-19T11:51:37.920Z"
   },
   {
    "duration": 4269,
    "start_time": "2021-07-19T11:51:47.429Z"
   },
   {
    "duration": 117,
    "start_time": "2021-07-19T11:52:08.457Z"
   },
   {
    "duration": 24,
    "start_time": "2021-07-19T11:52:09.700Z"
   },
   {
    "duration": 859,
    "start_time": "2021-07-19T11:52:10.236Z"
   },
   {
    "duration": 31,
    "start_time": "2021-07-19T11:52:44.517Z"
   },
   {
    "duration": 546,
    "start_time": "2021-07-19T11:53:20.524Z"
   },
   {
    "duration": 2447,
    "start_time": "2021-07-19T11:54:15.835Z"
   },
   {
    "duration": 519,
    "start_time": "2021-07-19T11:54:32.520Z"
   },
   {
    "duration": 40,
    "start_time": "2021-07-19T11:54:33.167Z"
   },
   {
    "duration": 481,
    "start_time": "2021-07-19T11:54:37.689Z"
   },
   {
    "duration": 15,
    "start_time": "2021-07-19T11:57:26.410Z"
   },
   {
    "duration": 24,
    "start_time": "2021-07-19T11:57:36.334Z"
   },
   {
    "duration": 1172,
    "start_time": "2021-07-19T11:57:52.129Z"
   },
   {
    "duration": 8,
    "start_time": "2021-07-19T11:58:07.458Z"
   },
   {
    "duration": 8,
    "start_time": "2021-07-19T11:58:15.239Z"
   },
   {
    "duration": 609,
    "start_time": "2021-07-19T11:58:20.768Z"
   },
   {
    "duration": 24,
    "start_time": "2021-07-19T12:00:36.187Z"
   },
   {
    "duration": 226,
    "start_time": "2021-07-19T12:00:40.069Z"
   },
   {
    "duration": 19,
    "start_time": "2021-07-19T12:00:56.728Z"
   },
   {
    "duration": 226,
    "start_time": "2021-07-19T12:00:58.521Z"
   },
   {
    "duration": 244,
    "start_time": "2021-07-19T12:01:07.874Z"
   },
   {
    "duration": 50,
    "start_time": "2021-07-19T12:01:11.227Z"
   },
   {
    "duration": 33319,
    "start_time": "2021-07-19T23:43:45.790Z"
   },
   {
    "duration": 825,
    "start_time": "2021-07-19T23:44:19.112Z"
   },
   {
    "duration": 91,
    "start_time": "2021-07-19T23:44:19.943Z"
   },
   {
    "duration": 31,
    "start_time": "2021-07-19T23:44:20.036Z"
   },
   {
    "duration": 19,
    "start_time": "2021-07-19T23:44:20.070Z"
   },
   {
    "duration": 125,
    "start_time": "2021-07-19T23:44:20.092Z"
   },
   {
    "duration": 10,
    "start_time": "2021-07-19T23:44:20.221Z"
   },
   {
    "duration": 34,
    "start_time": "2021-07-19T23:44:20.234Z"
   },
   {
    "duration": 5,
    "start_time": "2021-07-19T23:44:20.271Z"
   },
   {
    "duration": 6,
    "start_time": "2021-07-19T23:44:20.278Z"
   },
   {
    "duration": 316,
    "start_time": "2021-07-19T23:44:20.286Z"
   },
   {
    "duration": 530,
    "start_time": "2021-07-19T23:44:20.605Z"
   },
   {
    "duration": 267,
    "start_time": "2021-07-19T23:44:21.137Z"
   },
   {
    "duration": 121955,
    "start_time": "2021-07-19T23:44:21.407Z"
   },
   {
    "duration": 1773,
    "start_time": "2021-07-19T23:46:23.367Z"
   },
   {
    "duration": 727,
    "start_time": "2021-07-19T23:46:25.143Z"
   },
   {
    "duration": 8749,
    "start_time": "2021-07-19T23:46:25.873Z"
   },
   {
    "duration": 577,
    "start_time": "2021-07-19T23:46:34.624Z"
   },
   {
    "duration": 323,
    "start_time": "2021-07-19T23:46:35.204Z"
   },
   {
    "duration": 4494,
    "start_time": "2021-07-19T23:46:35.530Z"
   },
   {
    "duration": 144,
    "start_time": "2021-07-19T23:46:40.026Z"
   },
   {
    "duration": 23,
    "start_time": "2021-07-19T23:46:40.174Z"
   },
   {
    "duration": 900,
    "start_time": "2021-07-19T23:46:40.199Z"
   },
   {
    "duration": 34,
    "start_time": "2021-07-19T23:46:41.101Z"
   },
   {
    "duration": 573,
    "start_time": "2021-07-19T23:46:41.137Z"
   },
   {
    "duration": 2650,
    "start_time": "2021-07-19T23:46:41.713Z"
   },
   {
    "duration": 419,
    "start_time": "2021-07-19T23:46:44.368Z"
   },
   {
    "duration": 35,
    "start_time": "2021-07-19T23:46:44.790Z"
   },
   {
    "duration": 482,
    "start_time": "2021-07-19T23:46:44.827Z"
   },
   {
    "duration": 13,
    "start_time": "2021-07-19T23:46:45.311Z"
   },
   {
    "duration": 43,
    "start_time": "2021-07-19T23:46:45.326Z"
   },
   {
    "duration": 1222,
    "start_time": "2021-07-19T23:46:45.372Z"
   },
   {
    "duration": 10,
    "start_time": "2021-07-19T23:46:46.597Z"
   },
   {
    "duration": 9,
    "start_time": "2021-07-19T23:46:46.610Z"
   },
   {
    "duration": 250,
    "start_time": "2021-07-19T23:46:46.623Z"
   },
   {
    "duration": 42,
    "start_time": "2021-07-19T23:46:46.875Z"
   },
   {
    "duration": 38678,
    "start_time": "2021-07-20T04:09:42.688Z"
   },
   {
    "duration": 896,
    "start_time": "2021-07-20T04:10:21.368Z"
   },
   {
    "duration": 87,
    "start_time": "2021-07-20T04:10:22.267Z"
   },
   {
    "duration": 28,
    "start_time": "2021-07-20T04:10:22.356Z"
   },
   {
    "duration": 19,
    "start_time": "2021-07-20T04:10:22.386Z"
   },
   {
    "duration": 79,
    "start_time": "2021-07-20T04:10:22.408Z"
   },
   {
    "duration": 11,
    "start_time": "2021-07-20T04:10:22.489Z"
   },
   {
    "duration": 8,
    "start_time": "2021-07-20T04:10:22.504Z"
   },
   {
    "duration": 9,
    "start_time": "2021-07-20T04:10:22.515Z"
   },
   {
    "duration": 12,
    "start_time": "2021-07-20T04:10:22.527Z"
   },
   {
    "duration": 256,
    "start_time": "2021-07-20T04:10:22.541Z"
   },
   {
    "duration": 520,
    "start_time": "2021-07-20T04:10:22.799Z"
   },
   {
    "duration": 208,
    "start_time": "2021-07-20T04:10:23.322Z"
   },
   {
    "duration": 157570,
    "start_time": "2021-07-20T04:10:23.533Z"
   },
   {
    "duration": 2842,
    "start_time": "2021-07-20T04:13:01.105Z"
   },
   {
    "duration": 768,
    "start_time": "2021-07-20T04:13:03.950Z"
   },
   {
    "duration": 10301,
    "start_time": "2021-07-20T04:13:04.721Z"
   },
   {
    "duration": 582,
    "start_time": "2021-07-20T04:13:15.024Z"
   },
   {
    "duration": 325,
    "start_time": "2021-07-20T04:13:15.609Z"
   },
   {
    "duration": 4731,
    "start_time": "2021-07-20T04:13:15.937Z"
   },
   {
    "duration": 126,
    "start_time": "2021-07-20T04:13:20.671Z"
   },
   {
    "duration": 24,
    "start_time": "2021-07-20T04:13:20.799Z"
   },
   {
    "duration": 907,
    "start_time": "2021-07-20T04:13:20.828Z"
   },
   {
    "duration": 33,
    "start_time": "2021-07-20T04:13:21.738Z"
   },
   {
    "duration": 688,
    "start_time": "2021-07-20T04:13:21.773Z"
   },
   {
    "duration": 2875,
    "start_time": "2021-07-20T04:13:22.467Z"
   },
   {
    "duration": 419,
    "start_time": "2021-07-20T04:13:25.344Z"
   },
   {
    "duration": 37,
    "start_time": "2021-07-20T04:13:25.766Z"
   },
   {
    "duration": 469,
    "start_time": "2021-07-20T04:13:25.806Z"
   },
   {
    "duration": 13,
    "start_time": "2021-07-20T04:13:26.278Z"
   },
   {
    "duration": 22,
    "start_time": "2021-07-20T04:13:26.294Z"
   },
   {
    "duration": 1265,
    "start_time": "2021-07-20T04:13:26.319Z"
   },
   {
    "duration": 9,
    "start_time": "2021-07-20T04:13:27.586Z"
   },
   {
    "duration": 16,
    "start_time": "2021-07-20T04:13:27.598Z"
   },
   {
    "duration": 232,
    "start_time": "2021-07-20T04:13:27.617Z"
   },
   {
    "duration": 46,
    "start_time": "2021-07-20T04:13:27.852Z"
   },
   {
    "duration": 36167,
    "start_time": "2021-07-20T04:41:16.281Z"
   },
   {
    "duration": 815,
    "start_time": "2021-07-20T04:41:52.451Z"
   },
   {
    "duration": 97,
    "start_time": "2021-07-20T04:41:53.269Z"
   },
   {
    "duration": 25,
    "start_time": "2021-07-20T04:41:53.369Z"
   },
   {
    "duration": 22,
    "start_time": "2021-07-20T04:41:53.397Z"
   },
   {
    "duration": 107,
    "start_time": "2021-07-20T04:41:53.424Z"
   },
   {
    "duration": 34,
    "start_time": "2021-07-20T04:41:53.535Z"
   },
   {
    "duration": 9,
    "start_time": "2021-07-20T04:41:53.572Z"
   },
   {
    "duration": 6,
    "start_time": "2021-07-20T04:41:53.584Z"
   },
   {
    "duration": 7,
    "start_time": "2021-07-20T04:41:53.592Z"
   },
   {
    "duration": 268,
    "start_time": "2021-07-20T04:41:53.601Z"
   },
   {
    "duration": 520,
    "start_time": "2021-07-20T04:41:53.872Z"
   },
   {
    "duration": 214,
    "start_time": "2021-07-20T04:41:54.395Z"
   },
   {
    "duration": 126933,
    "start_time": "2021-07-20T04:41:54.612Z"
   },
   {
    "duration": 1847,
    "start_time": "2021-07-20T04:44:01.548Z"
   },
   {
    "duration": 833,
    "start_time": "2021-07-20T04:44:03.397Z"
   },
   {
    "duration": 9106,
    "start_time": "2021-07-20T04:44:04.232Z"
   },
   {
    "duration": 601,
    "start_time": "2021-07-20T04:44:13.343Z"
   },
   {
    "duration": 336,
    "start_time": "2021-07-20T04:44:13.947Z"
   },
   {
    "duration": 4503,
    "start_time": "2021-07-20T04:44:14.286Z"
   },
   {
    "duration": 130,
    "start_time": "2021-07-20T04:44:18.791Z"
   },
   {
    "duration": 23,
    "start_time": "2021-07-20T04:44:18.923Z"
   },
   {
    "duration": 998,
    "start_time": "2021-07-20T04:44:18.948Z"
   },
   {
    "duration": 44,
    "start_time": "2021-07-20T04:44:19.949Z"
   },
   {
    "duration": 577,
    "start_time": "2021-07-20T04:44:19.995Z"
   },
   {
    "duration": 2755,
    "start_time": "2021-07-20T04:44:20.575Z"
   },
   {
    "duration": 419,
    "start_time": "2021-07-20T04:44:23.332Z"
   },
   {
    "duration": 43,
    "start_time": "2021-07-20T04:44:23.753Z"
   },
   {
    "duration": 493,
    "start_time": "2021-07-20T04:44:23.799Z"
   },
   {
    "duration": 14,
    "start_time": "2021-07-20T04:44:24.295Z"
   },
   {
    "duration": 22,
    "start_time": "2021-07-20T04:44:24.311Z"
   },
   {
    "duration": 1270,
    "start_time": "2021-07-20T04:44:24.335Z"
   },
   {
    "duration": 11,
    "start_time": "2021-07-20T04:44:25.608Z"
   },
   {
    "duration": 9,
    "start_time": "2021-07-20T04:44:25.622Z"
   },
   {
    "duration": 222,
    "start_time": "2021-07-20T04:44:25.667Z"
   },
   {
    "duration": 43,
    "start_time": "2021-07-20T04:44:25.891Z"
   },
   {
    "duration": 6,
    "start_time": "2021-07-20T10:00:07.527Z"
   },
   {
    "duration": 802,
    "start_time": "2021-07-20T10:00:07.536Z"
   },
   {
    "duration": 149,
    "start_time": "2021-07-20T10:00:08.341Z"
   },
   {
    "duration": 28,
    "start_time": "2021-07-20T10:00:08.493Z"
   },
   {
    "duration": 51,
    "start_time": "2021-07-20T10:00:08.524Z"
   },
   {
    "duration": 89,
    "start_time": "2021-07-20T10:00:08.578Z"
   },
   {
    "duration": 13,
    "start_time": "2021-07-20T10:00:08.670Z"
   },
   {
    "duration": 8,
    "start_time": "2021-07-20T10:00:08.686Z"
   },
   {
    "duration": 11,
    "start_time": "2021-07-20T10:00:08.696Z"
   },
   {
    "duration": 12,
    "start_time": "2021-07-20T10:00:08.710Z"
   },
   {
    "duration": 288,
    "start_time": "2021-07-20T10:00:08.724Z"
   },
   {
    "duration": 547,
    "start_time": "2021-07-20T10:00:09.015Z"
   },
   {
    "duration": 211,
    "start_time": "2021-07-20T10:00:09.568Z"
   },
   {
    "duration": 29195,
    "start_time": "2021-07-20T10:00:09.781Z"
   },
   {
    "duration": 5835,
    "start_time": "2021-07-20T10:00:38.979Z"
   },
   {
    "duration": 788,
    "start_time": "2021-07-20T10:00:44.816Z"
   },
   {
    "duration": 22397,
    "start_time": "2021-07-20T10:00:45.606Z"
   },
   {
    "duration": 724,
    "start_time": "2021-07-20T10:01:08.005Z"
   },
   {
    "duration": 343,
    "start_time": "2021-07-20T10:01:08.732Z"
   },
   {
    "duration": 4661,
    "start_time": "2021-07-20T10:01:09.078Z"
   },
   {
    "duration": 129,
    "start_time": "2021-07-20T10:01:13.742Z"
   },
   {
    "duration": 24,
    "start_time": "2021-07-20T10:01:13.874Z"
   },
   {
    "duration": 908,
    "start_time": "2021-07-20T10:01:13.900Z"
   },
   {
    "duration": 33,
    "start_time": "2021-07-20T10:01:14.811Z"
   },
   {
    "duration": 566,
    "start_time": "2021-07-20T10:01:14.846Z"
   },
   {
    "duration": 2734,
    "start_time": "2021-07-20T10:01:15.414Z"
   },
   {
    "duration": 442,
    "start_time": "2021-07-20T10:01:18.151Z"
   },
   {
    "duration": 36,
    "start_time": "2021-07-20T10:01:18.595Z"
   },
   {
    "duration": 506,
    "start_time": "2021-07-20T10:01:18.633Z"
   },
   {
    "duration": 13,
    "start_time": "2021-07-20T10:01:19.142Z"
   },
   {
    "duration": 24,
    "start_time": "2021-07-20T10:01:19.167Z"
   },
   {
    "duration": 1278,
    "start_time": "2021-07-20T10:01:19.193Z"
   },
   {
    "duration": 8,
    "start_time": "2021-07-20T10:01:20.473Z"
   },
   {
    "duration": 12,
    "start_time": "2021-07-20T10:01:20.483Z"
   },
   {
    "duration": 235,
    "start_time": "2021-07-20T10:01:20.497Z"
   },
   {
    "duration": 56,
    "start_time": "2021-07-20T10:01:20.735Z"
   },
   {
    "duration": 265,
    "start_time": "2021-07-20T14:05:02.559Z"
   },
   {
    "duration": 1398,
    "start_time": "2021-07-20T14:07:40.911Z"
   },
   {
    "duration": 599,
    "start_time": "2021-07-20T14:07:43.841Z"
   },
   {
    "duration": 60,
    "start_time": "2021-07-20T14:07:47.014Z"
   },
   {
    "duration": 13,
    "start_time": "2021-07-20T14:07:48.105Z"
   },
   {
    "duration": 11,
    "start_time": "2021-07-20T14:07:48.120Z"
   },
   {
    "duration": 60,
    "start_time": "2021-07-20T14:10:38.279Z"
   },
   {
    "duration": 7,
    "start_time": "2021-07-20T14:10:38.840Z"
   },
   {
    "duration": 5,
    "start_time": "2021-07-20T14:10:39.347Z"
   },
   {
    "duration": 4,
    "start_time": "2021-07-20T14:10:50.257Z"
   },
   {
    "duration": 3,
    "start_time": "2021-07-20T14:10:54.655Z"
   },
   {
    "duration": 168,
    "start_time": "2021-07-20T14:11:06.369Z"
   },
   {
    "duration": 245,
    "start_time": "2021-07-20T14:11:11.239Z"
   },
   {
    "duration": 147,
    "start_time": "2021-07-20T14:11:15.852Z"
   },
   {
    "duration": 149,
    "start_time": "2021-07-20T14:11:50.945Z"
   },
   {
    "duration": 2552,
    "start_time": "2021-07-20T20:02:36.811Z"
   },
   {
    "duration": 821,
    "start_time": "2021-07-20T20:02:40.542Z"
   },
   {
    "duration": 78,
    "start_time": "2021-07-20T20:02:45.522Z"
   },
   {
    "duration": 17,
    "start_time": "2021-07-20T20:02:45.948Z"
   },
   {
    "duration": 15,
    "start_time": "2021-07-20T20:02:46.355Z"
   },
   {
    "duration": 77,
    "start_time": "2021-07-20T20:03:02.449Z"
   },
   {
    "duration": 10,
    "start_time": "2021-07-20T20:03:02.996Z"
   },
   {
    "duration": 8,
    "start_time": "2021-07-20T20:03:03.396Z"
   },
   {
    "duration": 5,
    "start_time": "2021-07-20T20:03:08.079Z"
   },
   {
    "duration": 5,
    "start_time": "2021-07-20T20:03:18.206Z"
   },
   {
    "duration": 293,
    "start_time": "2021-07-20T20:03:20.347Z"
   },
   {
    "duration": 373,
    "start_time": "2021-07-20T20:03:29.808Z"
   },
   {
    "duration": 235,
    "start_time": "2021-07-20T20:03:36.949Z"
   },
   {
    "duration": 299,
    "start_time": "2021-07-20T20:03:58.003Z"
   },
   {
    "duration": 8013,
    "start_time": "2021-07-20T20:16:17.460Z"
   },
   {
    "duration": 7911,
    "start_time": "2021-07-20T20:30:13.144Z"
   },
   {
    "duration": 7912,
    "start_time": "2021-07-20T20:30:31.695Z"
   },
   {
    "duration": 8375,
    "start_time": "2021-07-20T20:30:48.988Z"
   },
   {
    "duration": 8875,
    "start_time": "2021-07-20T20:31:10.288Z"
   },
   {
    "duration": 8636,
    "start_time": "2021-07-20T20:31:19.505Z"
   },
   {
    "duration": 8288,
    "start_time": "2021-07-20T20:31:37.145Z"
   },
   {
    "duration": 1613,
    "start_time": "2021-07-20T20:32:47.416Z"
   },
   {
    "duration": 7906,
    "start_time": "2021-07-20T20:33:16.409Z"
   },
   {
    "duration": 109,
    "start_time": "2021-07-20T20:40:12.354Z"
   },
   {
    "duration": 3291,
    "start_time": "2021-07-20T20:40:35.584Z"
   },
   {
    "duration": 2512,
    "start_time": "2021-07-20T20:41:17.603Z"
   },
   {
    "duration": 2222,
    "start_time": "2021-07-20T20:42:04.758Z"
   },
   {
    "duration": 2058,
    "start_time": "2021-07-20T20:43:40.627Z"
   },
   {
    "duration": 2359,
    "start_time": "2021-07-20T20:43:58.719Z"
   },
   {
    "duration": 4108,
    "start_time": "2021-07-20T20:44:11.965Z"
   },
   {
    "duration": 8141,
    "start_time": "2021-07-20T20:46:15.519Z"
   },
   {
    "duration": 8834,
    "start_time": "2021-07-20T20:57:40.211Z"
   },
   {
    "duration": 8583,
    "start_time": "2021-07-20T20:58:45.950Z"
   },
   {
    "duration": 8141,
    "start_time": "2021-07-20T21:00:10.216Z"
   },
   {
    "duration": 693,
    "start_time": "2021-07-20T21:04:38.287Z"
   },
   {
    "duration": 9646,
    "start_time": "2021-07-20T21:25:32.067Z"
   },
   {
    "duration": 839,
    "start_time": "2021-07-20T21:25:47.232Z"
   },
   {
    "duration": 4666,
    "start_time": "2021-07-20T21:26:11.719Z"
   },
   {
    "duration": 783,
    "start_time": "2021-07-20T21:30:33.858Z"
   },
   {
    "duration": 795,
    "start_time": "2021-07-20T21:34:09.784Z"
   },
   {
    "duration": 4496,
    "start_time": "2021-07-20T21:34:44.218Z"
   },
   {
    "duration": 375,
    "start_time": "2021-07-20T21:37:53.432Z"
   },
   {
    "duration": 1871,
    "start_time": "2021-07-20T21:43:20.893Z"
   },
   {
    "duration": 912,
    "start_time": "2021-07-20T21:43:33.285Z"
   },
   {
    "duration": 980,
    "start_time": "2021-07-20T21:43:47.059Z"
   },
   {
    "duration": 1130,
    "start_time": "2021-07-20T21:44:41.158Z"
   },
   {
    "duration": 939,
    "start_time": "2021-07-20T21:51:28.304Z"
   },
   {
    "duration": 132,
    "start_time": "2021-07-20T21:55:13.127Z"
   },
   {
    "duration": 846,
    "start_time": "2021-07-20T21:55:34.488Z"
   },
   {
    "duration": 583,
    "start_time": "2021-07-20T21:56:43.040Z"
   },
   {
    "duration": 956,
    "start_time": "2021-07-20T21:57:03.733Z"
   },
   {
    "duration": 881,
    "start_time": "2021-07-20T21:57:34.879Z"
   },
   {
    "duration": 613,
    "start_time": "2021-07-20T22:00:07.634Z"
   },
   {
    "duration": 343,
    "start_time": "2021-07-20T22:03:10.558Z"
   },
   {
    "duration": 944,
    "start_time": "2021-07-20T22:03:32.420Z"
   },
   {
    "duration": 1225,
    "start_time": "2021-07-20T22:20:25.685Z"
   },
   {
    "duration": 1218,
    "start_time": "2021-07-20T22:21:12.183Z"
   },
   {
    "duration": 594,
    "start_time": "2021-07-20T22:21:41.049Z"
   },
   {
    "duration": 833,
    "start_time": "2021-07-20T22:22:57.840Z"
   },
   {
    "duration": 950,
    "start_time": "2021-07-20T22:23:40.262Z"
   },
   {
    "duration": 619,
    "start_time": "2021-07-20T22:35:22.847Z"
   },
   {
    "duration": 457,
    "start_time": "2021-07-20T22:36:02.228Z"
   },
   {
    "duration": 410,
    "start_time": "2021-07-20T22:38:15.317Z"
   },
   {
    "duration": 489,
    "start_time": "2021-07-20T22:46:31.133Z"
   },
   {
    "duration": 416,
    "start_time": "2021-07-20T22:46:46.405Z"
   },
   {
    "duration": 576,
    "start_time": "2021-07-20T22:47:28.209Z"
   },
   {
    "duration": 42,
    "start_time": "2021-07-20T22:50:20.856Z"
   },
   {
    "duration": 479,
    "start_time": "2021-07-20T22:50:25.506Z"
   },
   {
    "duration": 482,
    "start_time": "2021-07-20T22:52:26.063Z"
   },
   {
    "duration": 392,
    "start_time": "2021-07-20T22:55:49.807Z"
   },
   {
    "duration": 164,
    "start_time": "2021-07-20T22:58:07.406Z"
   },
   {
    "duration": 503,
    "start_time": "2021-07-20T22:58:20.761Z"
   },
   {
    "duration": 357,
    "start_time": "2021-07-20T22:59:03.559Z"
   },
   {
    "duration": 477,
    "start_time": "2021-07-20T22:59:44.919Z"
   },
   {
    "duration": 353,
    "start_time": "2021-07-20T23:00:20.500Z"
   },
   {
    "duration": 2497,
    "start_time": "2021-07-20T23:05:22.033Z"
   },
   {
    "duration": 17584,
    "start_time": "2021-07-20T23:12:07.508Z"
   },
   {
    "duration": 18368,
    "start_time": "2021-07-20T23:16:37.219Z"
   },
   {
    "duration": 2186,
    "start_time": "2021-07-20T23:17:11.468Z"
   },
   {
    "duration": 42,
    "start_time": "2021-07-20T23:22:08.012Z"
   },
   {
    "duration": 25386,
    "start_time": "2021-07-20T23:22:39.125Z"
   },
   {
    "duration": 120,
    "start_time": "2021-07-20T23:25:31.664Z"
   },
   {
    "duration": 26,
    "start_time": "2021-07-20T23:25:40.022Z"
   },
   {
    "duration": 27,
    "start_time": "2021-07-20T23:25:56.639Z"
   },
   {
    "duration": 28,
    "start_time": "2021-07-20T23:26:12.535Z"
   },
   {
    "duration": 29,
    "start_time": "2021-07-20T23:26:43.456Z"
   },
   {
    "duration": 173,
    "start_time": "2021-07-20T23:28:46.946Z"
   },
   {
    "duration": 115,
    "start_time": "2021-07-20T23:29:06.914Z"
   },
   {
    "duration": 122,
    "start_time": "2021-07-20T23:29:59.145Z"
   },
   {
    "duration": 8,
    "start_time": "2021-07-20T23:31:57.564Z"
   },
   {
    "duration": 101,
    "start_time": "2021-07-20T23:33:31.229Z"
   },
   {
    "duration": 119,
    "start_time": "2021-07-20T23:34:12.914Z"
   },
   {
    "duration": 120,
    "start_time": "2021-07-20T23:39:21.607Z"
   },
   {
    "duration": 15,
    "start_time": "2021-07-20T23:39:37.825Z"
   },
   {
    "duration": 124,
    "start_time": "2021-07-20T23:40:24.971Z"
   },
   {
    "duration": 40,
    "start_time": "2021-07-20T23:44:24.056Z"
   },
   {
    "duration": 55,
    "start_time": "2021-07-20T23:44:47.945Z"
   },
   {
    "duration": 48,
    "start_time": "2021-07-20T23:45:33.826Z"
   },
   {
    "duration": 15,
    "start_time": "2021-07-20T23:45:37.113Z"
   },
   {
    "duration": 2001,
    "start_time": "2021-07-20T23:55:16.978Z"
   },
   {
    "duration": 773,
    "start_time": "2021-07-20T23:55:19.790Z"
   },
   {
    "duration": 77,
    "start_time": "2021-07-20T23:55:22.607Z"
   },
   {
    "duration": 20,
    "start_time": "2021-07-20T23:55:24.111Z"
   },
   {
    "duration": 15,
    "start_time": "2021-07-20T23:55:24.697Z"
   },
   {
    "duration": 66,
    "start_time": "2021-07-20T23:55:32.794Z"
   },
   {
    "duration": 13,
    "start_time": "2021-07-20T23:55:33.306Z"
   },
   {
    "duration": 9,
    "start_time": "2021-07-20T23:55:33.778Z"
   },
   {
    "duration": 6,
    "start_time": "2021-07-20T23:55:37.581Z"
   },
   {
    "duration": 4,
    "start_time": "2021-07-20T23:55:40.348Z"
   },
   {
    "duration": 223,
    "start_time": "2021-07-20T23:55:42.739Z"
   },
   {
    "duration": 367,
    "start_time": "2021-07-20T23:55:46.837Z"
   },
   {
    "duration": 358,
    "start_time": "2021-07-20T23:55:50.718Z"
   },
   {
    "duration": 225,
    "start_time": "2021-07-20T23:55:52.974Z"
   },
   {
    "duration": 246,
    "start_time": "2021-07-20T23:55:57.091Z"
   },
   {
    "duration": 40,
    "start_time": "2021-07-20T23:56:03.706Z"
   },
   {
    "duration": 7295,
    "start_time": "2021-07-20T23:56:08.679Z"
   },
   {
    "duration": 2077,
    "start_time": "2021-07-20T23:56:40.649Z"
   },
   {
    "duration": 7523,
    "start_time": "2021-07-20T23:57:05.663Z"
   },
   {
    "duration": 1973,
    "start_time": "2021-07-20T23:57:40.931Z"
   },
   {
    "duration": 7750,
    "start_time": "2021-07-20T23:59:00.335Z"
   },
   {
    "duration": 7281,
    "start_time": "2021-07-20T23:59:41.056Z"
   },
   {
    "duration": 2146,
    "start_time": "2021-07-20T23:59:57.263Z"
   },
   {
    "duration": 1955,
    "start_time": "2021-07-21T00:00:08.781Z"
   },
   {
    "duration": 2227,
    "start_time": "2021-07-21T00:07:17.750Z"
   },
   {
    "duration": 2294,
    "start_time": "2021-07-21T00:07:38.132Z"
   },
   {
    "duration": 2097,
    "start_time": "2021-07-21T00:07:50.653Z"
   },
   {
    "duration": 2275,
    "start_time": "2021-07-21T00:07:55.974Z"
   },
   {
    "duration": 7686,
    "start_time": "2021-07-21T00:08:11.089Z"
   },
   {
    "duration": 2311,
    "start_time": "2021-07-21T00:11:02.349Z"
   },
   {
    "duration": 386,
    "start_time": "2021-07-21T05:20:08.319Z"
   },
   {
    "duration": 2099,
    "start_time": "2021-07-21T05:20:36.998Z"
   },
   {
    "duration": 836,
    "start_time": "2021-07-21T05:20:42.514Z"
   },
   {
    "duration": 84,
    "start_time": "2021-07-21T05:20:48.337Z"
   },
   {
    "duration": 19,
    "start_time": "2021-07-21T05:20:48.898Z"
   },
   {
    "duration": 16,
    "start_time": "2021-07-21T05:20:50.645Z"
   },
   {
    "duration": 63,
    "start_time": "2021-07-21T05:20:57.496Z"
   },
   {
    "duration": 9,
    "start_time": "2021-07-21T05:20:58.000Z"
   },
   {
    "duration": 7,
    "start_time": "2021-07-21T05:20:58.596Z"
   },
   {
    "duration": 5,
    "start_time": "2021-07-21T05:21:04.720Z"
   },
   {
    "duration": 4,
    "start_time": "2021-07-21T05:21:07.229Z"
   },
   {
    "duration": 249,
    "start_time": "2021-07-21T05:21:24.851Z"
   },
   {
    "duration": 389,
    "start_time": "2021-07-21T05:21:28.948Z"
   },
   {
    "duration": 243,
    "start_time": "2021-07-21T05:21:33.053Z"
   },
   {
    "duration": 302,
    "start_time": "2021-07-21T05:22:57.997Z"
   },
   {
    "duration": 41,
    "start_time": "2021-07-21T05:23:05.801Z"
   },
   {
    "duration": 2498,
    "start_time": "2021-07-21T05:23:15.781Z"
   },
   {
    "duration": 1642,
    "start_time": "2021-07-21T05:23:27.656Z"
   },
   {
    "duration": 668,
    "start_time": "2021-07-21T05:23:41.817Z"
   },
   {
    "duration": 145,
    "start_time": "2021-07-21T05:25:54.049Z"
   },
   {
    "duration": 552,
    "start_time": "2021-07-21T05:27:07.575Z"
   },
   {
    "duration": 877,
    "start_time": "2021-07-21T05:27:28.192Z"
   },
   {
    "duration": 1243,
    "start_time": "2021-07-21T05:27:48.370Z"
   },
   {
    "duration": 1397,
    "start_time": "2021-07-21T05:28:02.570Z"
   },
   {
    "duration": 448,
    "start_time": "2021-07-21T05:29:04.584Z"
   },
   {
    "duration": 469,
    "start_time": "2021-07-21T05:29:55.134Z"
   },
   {
    "duration": 454,
    "start_time": "2021-07-21T05:30:17.537Z"
   },
   {
    "duration": 459,
    "start_time": "2021-07-21T05:31:03.220Z"
   },
   {
    "duration": 4463,
    "start_time": "2021-07-21T06:15:46.500Z"
   },
   {
    "duration": 771,
    "start_time": "2021-07-21T06:16:02.091Z"
   },
   {
    "duration": 126,
    "start_time": "2021-07-21T06:16:31.248Z"
   },
   {
    "duration": 23,
    "start_time": "2021-07-21T06:16:33.587Z"
   },
   {
    "duration": 897,
    "start_time": "2021-07-21T06:16:34.085Z"
   },
   {
    "duration": 969,
    "start_time": "2021-07-21T06:21:03.958Z"
   },
   {
    "duration": 186,
    "start_time": "2021-07-21T06:26:41.523Z"
   },
   {
    "duration": 899,
    "start_time": "2021-07-21T06:27:23.303Z"
   },
   {
    "duration": 30,
    "start_time": "2021-07-21T06:33:51.888Z"
   },
   {
    "duration": 34,
    "start_time": "2021-07-21T06:34:18.949Z"
   },
   {
    "duration": 660,
    "start_time": "2021-07-21T06:34:33.809Z"
   },
   {
    "duration": 21,
    "start_time": "2021-07-21T06:37:11.842Z"
   },
   {
    "duration": 114,
    "start_time": "2021-07-21T06:40:04.450Z"
   },
   {
    "duration": 30,
    "start_time": "2021-07-21T06:40:24.594Z"
   },
   {
    "duration": 218,
    "start_time": "2021-07-21T06:40:45.352Z"
   },
   {
    "duration": 21,
    "start_time": "2021-07-21T06:41:04.394Z"
   },
   {
    "duration": 444,
    "start_time": "2021-07-21T06:41:34.225Z"
   },
   {
    "duration": 37,
    "start_time": "2021-07-21T06:41:52.820Z"
   },
   {
    "duration": 272,
    "start_time": "2021-07-21T06:41:59.221Z"
   },
   {
    "duration": 725,
    "start_time": "2021-07-21T06:44:29.475Z"
   },
   {
    "duration": 1020,
    "start_time": "2021-07-21T06:47:05.850Z"
   },
   {
    "duration": 974,
    "start_time": "2021-07-21T06:48:31.529Z"
   },
   {
    "duration": 1002,
    "start_time": "2021-07-21T06:49:25.577Z"
   },
   {
    "duration": 148,
    "start_time": "2021-07-21T07:25:11.694Z"
   },
   {
    "duration": 531,
    "start_time": "2021-07-21T07:25:17.054Z"
   },
   {
    "duration": 510,
    "start_time": "2021-07-21T07:25:34.737Z"
   },
   {
    "duration": 544,
    "start_time": "2021-07-21T07:26:25.894Z"
   },
   {
    "duration": 2478,
    "start_time": "2021-07-21T07:28:19.494Z"
   },
   {
    "duration": 39,
    "start_time": "2021-07-21T07:28:31.583Z"
   },
   {
    "duration": 351,
    "start_time": "2021-07-21T07:43:42.024Z"
   },
   {
    "duration": 7185,
    "start_time": "2021-07-21T07:44:41.480Z"
   },
   {
    "duration": 26979,
    "start_time": "2021-07-21T07:45:50.253Z"
   },
   {
    "duration": 740,
    "start_time": "2021-07-21T07:46:24.726Z"
   },
   {
    "duration": 631,
    "start_time": "2021-07-21T07:46:37.531Z"
   },
   {
    "duration": 381,
    "start_time": "2021-07-21T07:46:48.998Z"
   },
   {
    "duration": 1921,
    "start_time": "2021-07-21T07:49:42.910Z"
   },
   {
    "duration": 2815,
    "start_time": "2021-07-21T07:55:21.594Z"
   },
   {
    "duration": 1108,
    "start_time": "2021-07-21T07:55:24.473Z"
   },
   {
    "duration": 88,
    "start_time": "2021-07-21T07:55:29.555Z"
   },
   {
    "duration": 20,
    "start_time": "2021-07-21T07:55:29.988Z"
   },
   {
    "duration": 19,
    "start_time": "2021-07-21T07:55:30.345Z"
   },
   {
    "duration": 73,
    "start_time": "2021-07-21T07:55:42.062Z"
   },
   {
    "duration": 14,
    "start_time": "2021-07-21T07:55:42.662Z"
   },
   {
    "duration": 8,
    "start_time": "2021-07-21T07:55:43.069Z"
   },
   {
    "duration": 5,
    "start_time": "2021-07-21T07:55:48.372Z"
   },
   {
    "duration": 4,
    "start_time": "2021-07-21T07:55:52.319Z"
   },
   {
    "duration": 261,
    "start_time": "2021-07-21T07:55:55.632Z"
   },
   {
    "duration": 386,
    "start_time": "2021-07-21T07:56:00.869Z"
   },
   {
    "duration": 238,
    "start_time": "2021-07-21T07:56:04.675Z"
   },
   {
    "duration": 291,
    "start_time": "2021-07-21T07:56:56.638Z"
   },
   {
    "duration": 4,
    "start_time": "2021-07-21T07:57:06.558Z"
   },
   {
    "duration": 2268,
    "start_time": "2021-07-21T07:57:09.710Z"
   },
   {
    "duration": 1648,
    "start_time": "2021-07-21T07:57:54.131Z"
   },
   {
    "duration": 658,
    "start_time": "2021-07-21T07:58:00.019Z"
   },
   {
    "duration": 1963,
    "start_time": "2021-07-21T07:58:13.167Z"
   },
   {
    "duration": 1300,
    "start_time": "2021-07-21T07:58:27.018Z"
   },
   {
    "duration": 1263,
    "start_time": "2021-07-21T08:13:01.932Z"
   },
   {
    "duration": 470,
    "start_time": "2021-07-21T08:13:22.278Z"
   },
   {
    "duration": 6692,
    "start_time": "2021-07-21T08:14:10.385Z"
   },
   {
    "duration": 988,
    "start_time": "2021-07-21T08:14:17.080Z"
   },
   {
    "duration": 114,
    "start_time": "2021-07-21T08:14:43.526Z"
   },
   {
    "duration": 24,
    "start_time": "2021-07-21T08:14:44.509Z"
   },
   {
    "duration": 994,
    "start_time": "2021-07-21T08:14:45.023Z"
   },
   {
    "duration": 31,
    "start_time": "2021-07-21T08:15:39.788Z"
   },
   {
    "duration": 531,
    "start_time": "2021-07-21T08:18:23.505Z"
   },
   {
    "duration": 566,
    "start_time": "2021-07-21T08:28:20.504Z"
   },
   {
    "duration": 398,
    "start_time": "2021-07-21T08:29:01.116Z"
   },
   {
    "duration": 534,
    "start_time": "2021-07-21T08:29:49.097Z"
   },
   {
    "duration": 513,
    "start_time": "2021-07-21T08:31:03.128Z"
   },
   {
    "duration": 376,
    "start_time": "2021-07-21T08:36:14.713Z"
   },
   {
    "duration": 471,
    "start_time": "2021-07-21T08:38:02.031Z"
   },
   {
    "duration": 419,
    "start_time": "2021-07-21T08:40:06.930Z"
   },
   {
    "duration": 41,
    "start_time": "2021-07-21T08:41:24.991Z"
   },
   {
    "duration": 482,
    "start_time": "2021-07-21T08:41:28.421Z"
   },
   {
    "duration": 357,
    "start_time": "2021-07-21T08:41:33.394Z"
   },
   {
    "duration": 2285,
    "start_time": "2021-07-21T16:09:48.959Z"
   },
   {
    "duration": 864,
    "start_time": "2021-07-21T16:09:52.049Z"
   },
   {
    "duration": 80,
    "start_time": "2021-07-21T16:10:03.236Z"
   },
   {
    "duration": 19,
    "start_time": "2021-07-21T16:10:03.735Z"
   },
   {
    "duration": 16,
    "start_time": "2021-07-21T16:10:04.045Z"
   },
   {
    "duration": 68,
    "start_time": "2021-07-21T16:10:08.499Z"
   },
   {
    "duration": 11,
    "start_time": "2021-07-21T16:10:09.041Z"
   },
   {
    "duration": 8,
    "start_time": "2021-07-21T16:10:09.530Z"
   },
   {
    "duration": 5,
    "start_time": "2021-07-21T16:10:15.265Z"
   },
   {
    "duration": 4,
    "start_time": "2021-07-21T16:10:22.323Z"
   },
   {
    "duration": 251,
    "start_time": "2021-07-21T16:10:25.071Z"
   },
   {
    "duration": 387,
    "start_time": "2021-07-21T16:10:26.567Z"
   },
   {
    "duration": 242,
    "start_time": "2021-07-21T16:10:28.518Z"
   },
   {
    "duration": 298,
    "start_time": "2021-07-21T16:10:34.553Z"
   },
   {
    "duration": 2182,
    "start_time": "2021-07-21T16:10:58.943Z"
   },
   {
    "duration": 1572,
    "start_time": "2021-07-21T16:11:08.598Z"
   },
   {
    "duration": 847,
    "start_time": "2021-07-21T16:11:13.779Z"
   },
   {
    "duration": 1941,
    "start_time": "2021-07-21T16:11:21.188Z"
   },
   {
    "duration": 1089,
    "start_time": "2021-07-21T16:11:30.854Z"
   },
   {
    "duration": 860,
    "start_time": "2021-07-21T16:11:37.812Z"
   },
   {
    "duration": 350,
    "start_time": "2021-07-21T16:12:02.384Z"
   },
   {
    "duration": 4617,
    "start_time": "2021-07-21T16:12:11.140Z"
   },
   {
    "duration": 746,
    "start_time": "2021-07-21T16:12:23.638Z"
   },
   {
    "duration": 120,
    "start_time": "2021-07-21T16:13:22.615Z"
   },
   {
    "duration": 24,
    "start_time": "2021-07-21T16:13:23.210Z"
   },
   {
    "duration": 1017,
    "start_time": "2021-07-21T16:13:23.785Z"
   },
   {
    "duration": 31,
    "start_time": "2021-07-21T16:14:13.175Z"
   },
   {
    "duration": 516,
    "start_time": "2021-07-21T16:14:17.232Z"
   },
   {
    "duration": 362,
    "start_time": "2021-07-21T16:14:21.096Z"
   },
   {
    "duration": 786,
    "start_time": "2021-07-21T16:19:52.685Z"
   },
   {
    "duration": 5,
    "start_time": "2021-07-21T16:19:58.795Z"
   },
   {
    "duration": 21,
    "start_time": "2021-07-21T16:20:01.899Z"
   },
   {
    "duration": 64,
    "start_time": "2021-07-21T16:24:43.316Z"
   },
   {
    "duration": 70,
    "start_time": "2021-07-21T16:25:01.131Z"
   },
   {
    "duration": 66,
    "start_time": "2021-07-21T16:25:09.322Z"
   },
   {
    "duration": 54,
    "start_time": "2021-07-21T16:27:01.454Z"
   },
   {
    "duration": 16,
    "start_time": "2021-07-21T16:27:17.136Z"
   },
   {
    "duration": 11,
    "start_time": "2021-07-21T16:28:09.899Z"
   },
   {
    "duration": 9490,
    "start_time": "2021-07-21T16:32:11.353Z"
   },
   {
    "duration": 791,
    "start_time": "2021-07-21T16:32:42.110Z"
   },
   {
    "duration": 15,
    "start_time": "2021-07-21T16:33:02.484Z"
   },
   {
    "duration": 2124,
    "start_time": "2021-07-21T16:40:50.005Z"
   },
   {
    "duration": 831,
    "start_time": "2021-07-21T16:40:52.132Z"
   },
   {
    "duration": 80,
    "start_time": "2021-07-21T16:41:08.648Z"
   },
   {
    "duration": 19,
    "start_time": "2021-07-21T16:41:09.696Z"
   },
   {
    "duration": 16,
    "start_time": "2021-07-21T16:41:10.510Z"
   },
   {
    "duration": 65,
    "start_time": "2021-07-21T16:41:15.379Z"
   },
   {
    "duration": 11,
    "start_time": "2021-07-21T16:41:15.912Z"
   },
   {
    "duration": 8,
    "start_time": "2021-07-21T16:41:16.301Z"
   },
   {
    "duration": 6,
    "start_time": "2021-07-21T16:41:19.522Z"
   },
   {
    "duration": 5,
    "start_time": "2021-07-21T16:41:21.930Z"
   },
   {
    "duration": 245,
    "start_time": "2021-07-21T16:41:24.575Z"
   },
   {
    "duration": 383,
    "start_time": "2021-07-21T16:41:25.359Z"
   },
   {
    "duration": 240,
    "start_time": "2021-07-21T16:41:29.241Z"
   },
   {
    "duration": 308,
    "start_time": "2021-07-21T16:41:35.564Z"
   },
   {
    "duration": 57,
    "start_time": "2021-07-21T16:42:13.508Z"
   },
   {
    "duration": 15,
    "start_time": "2021-07-21T16:42:14.825Z"
   },
   {
    "duration": 11,
    "start_time": "2021-07-21T16:42:17.694Z"
   },
   {
    "duration": 2411,
    "start_time": "2021-07-21T16:42:26.765Z"
   },
   {
    "duration": 1565,
    "start_time": "2021-07-21T16:42:34.510Z"
   },
   {
    "duration": 643,
    "start_time": "2021-07-21T16:42:37.767Z"
   },
   {
    "duration": 1967,
    "start_time": "2021-07-21T16:42:43.861Z"
   },
   {
    "duration": 982,
    "start_time": "2021-07-21T16:42:47.315Z"
   },
   {
    "duration": 848,
    "start_time": "2021-07-21T16:42:58.702Z"
   },
   {
    "duration": 336,
    "start_time": "2021-07-21T16:43:04.848Z"
   },
   {
    "duration": 4483,
    "start_time": "2021-07-21T16:43:21.359Z"
   },
   {
    "duration": 723,
    "start_time": "2021-07-21T16:43:30.155Z"
   },
   {
    "duration": 121,
    "start_time": "2021-07-21T16:43:54.884Z"
   },
   {
    "duration": 24,
    "start_time": "2021-07-21T16:43:55.860Z"
   },
   {
    "duration": 1148,
    "start_time": "2021-07-21T16:43:56.820Z"
   },
   {
    "duration": 31,
    "start_time": "2021-07-21T16:44:00.527Z"
   },
   {
    "duration": 512,
    "start_time": "2021-07-21T16:44:08.932Z"
   },
   {
    "duration": 358,
    "start_time": "2021-07-21T16:44:13.446Z"
   },
   {
    "duration": 3,
    "start_time": "2021-07-21T16:44:26.866Z"
   },
   {
    "duration": 13,
    "start_time": "2021-07-21T16:44:31.727Z"
   },
   {
    "duration": 14,
    "start_time": "2021-07-21T16:44:58.616Z"
   },
   {
    "duration": 4,
    "start_time": "2021-07-21T16:45:32.787Z"
   },
   {
    "duration": 14,
    "start_time": "2021-07-21T16:45:34.623Z"
   },
   {
    "duration": 16,
    "start_time": "2021-07-21T16:45:37.609Z"
   },
   {
    "duration": 13,
    "start_time": "2021-07-21T16:48:04.354Z"
   },
   {
    "duration": 17,
    "start_time": "2021-07-21T16:48:07.736Z"
   },
   {
    "duration": 15,
    "start_time": "2021-07-21T16:48:24.456Z"
   },
   {
    "duration": 24,
    "start_time": "2021-07-21T16:51:26.707Z"
   },
   {
    "duration": 16,
    "start_time": "2021-07-21T16:52:10.944Z"
   },
   {
    "duration": 7,
    "start_time": "2021-07-21T16:52:27.554Z"
   },
   {
    "duration": 13,
    "start_time": "2021-07-21T16:52:32.680Z"
   },
   {
    "duration": 10,
    "start_time": "2021-07-21T17:05:17.959Z"
   },
   {
    "duration": 12,
    "start_time": "2021-07-21T17:05:21.653Z"
   },
   {
    "duration": 15,
    "start_time": "2021-07-21T17:06:30.962Z"
   },
   {
    "duration": 12,
    "start_time": "2021-07-21T17:06:33.135Z"
   },
   {
    "duration": 36,
    "start_time": "2021-07-21T17:07:18.629Z"
   },
   {
    "duration": 45,
    "start_time": "2021-07-21T17:08:52.692Z"
   },
   {
    "duration": 68,
    "start_time": "2021-07-21T17:13:24.461Z"
   },
   {
    "duration": 71,
    "start_time": "2021-07-21T17:13:34.003Z"
   },
   {
    "duration": 78,
    "start_time": "2021-07-21T17:15:24.827Z"
   },
   {
    "duration": 87,
    "start_time": "2021-07-21T17:52:22.596Z"
   },
   {
    "duration": 123,
    "start_time": "2021-07-21T17:52:30.920Z"
   },
   {
    "duration": 82,
    "start_time": "2021-07-21T17:52:45.111Z"
   },
   {
    "duration": 95,
    "start_time": "2021-07-21T17:55:28.333Z"
   },
   {
    "duration": 99,
    "start_time": "2021-07-21T17:55:39.016Z"
   },
   {
    "duration": 97,
    "start_time": "2021-07-21T17:55:51.388Z"
   },
   {
    "duration": 134,
    "start_time": "2021-07-21T17:57:12.017Z"
   },
   {
    "duration": 2186,
    "start_time": "2021-07-21T19:59:54.750Z"
   },
   {
    "duration": 836,
    "start_time": "2021-07-21T19:59:57.511Z"
   },
   {
    "duration": 2144,
    "start_time": "2021-07-21T20:00:26.700Z"
   },
   {
    "duration": 861,
    "start_time": "2021-07-21T20:00:28.847Z"
   },
   {
    "duration": 85,
    "start_time": "2021-07-21T20:00:32.016Z"
   },
   {
    "duration": 18,
    "start_time": "2021-07-21T20:00:32.433Z"
   },
   {
    "duration": 16,
    "start_time": "2021-07-21T20:00:32.682Z"
   },
   {
    "duration": 63,
    "start_time": "2021-07-21T20:00:37.395Z"
   },
   {
    "duration": 11,
    "start_time": "2021-07-21T20:00:37.603Z"
   },
   {
    "duration": 8,
    "start_time": "2021-07-21T20:00:37.813Z"
   },
   {
    "duration": 6,
    "start_time": "2021-07-21T20:00:40.882Z"
   },
   {
    "duration": 5,
    "start_time": "2021-07-21T20:00:42.149Z"
   },
   {
    "duration": 245,
    "start_time": "2021-07-21T20:00:45.198Z"
   },
   {
    "duration": 415,
    "start_time": "2021-07-21T20:00:46.041Z"
   },
   {
    "duration": 348,
    "start_time": "2021-07-21T20:00:47.991Z"
   },
   {
    "duration": 256,
    "start_time": "2021-07-21T20:00:52.317Z"
   },
   {
    "duration": 57,
    "start_time": "2021-07-21T20:00:59.700Z"
   },
   {
    "duration": 22,
    "start_time": "2021-07-21T20:01:00.700Z"
   },
   {
    "duration": 16,
    "start_time": "2021-07-21T20:01:01.243Z"
   },
   {
    "duration": 2108,
    "start_time": "2021-07-21T20:04:21.144Z"
   },
   {
    "duration": 1506,
    "start_time": "2021-07-21T20:04:33.944Z"
   },
   {
    "duration": 630,
    "start_time": "2021-07-21T20:04:38.816Z"
   },
   {
    "duration": 1901,
    "start_time": "2021-07-21T20:04:45.521Z"
   },
   {
    "duration": 876,
    "start_time": "2021-07-21T20:04:53.840Z"
   },
   {
    "duration": 817,
    "start_time": "2021-07-21T20:04:57.987Z"
   },
   {
    "duration": 330,
    "start_time": "2021-07-21T20:05:02.396Z"
   },
   {
    "duration": 4715,
    "start_time": "2021-07-21T20:05:07.412Z"
   },
   {
    "duration": 710,
    "start_time": "2021-07-21T20:05:17.342Z"
   },
   {
    "duration": 110,
    "start_time": "2021-07-21T20:05:22.649Z"
   },
   {
    "duration": 23,
    "start_time": "2021-07-21T20:05:23.208Z"
   },
   {
    "duration": 969,
    "start_time": "2021-07-21T20:05:23.737Z"
   },
   {
    "duration": 29,
    "start_time": "2021-07-21T20:05:46.604Z"
   },
   {
    "duration": 496,
    "start_time": "2021-07-21T20:05:52.170Z"
   },
   {
    "duration": 373,
    "start_time": "2021-07-21T20:05:52.669Z"
   },
   {
    "duration": 142,
    "start_time": "2021-07-21T20:06:03.200Z"
   },
   {
    "duration": 558,
    "start_time": "2021-07-21T20:09:12.662Z"
   },
   {
    "duration": 350,
    "start_time": "2021-07-21T20:09:34.537Z"
   },
   {
    "duration": 129,
    "start_time": "2021-07-21T20:10:10.046Z"
   },
   {
    "duration": 127,
    "start_time": "2021-07-21T20:10:26.060Z"
   },
   {
    "duration": 128,
    "start_time": "2021-07-21T20:11:54.634Z"
   },
   {
    "duration": 134,
    "start_time": "2021-07-21T20:12:53.739Z"
   },
   {
    "duration": 133,
    "start_time": "2021-07-21T20:13:01.513Z"
   },
   {
    "duration": 2469,
    "start_time": "2021-07-21T20:16:40.199Z"
   },
   {
    "duration": 1443,
    "start_time": "2021-07-21T20:19:28.186Z"
   },
   {
    "duration": 3070,
    "start_time": "2021-07-21T20:20:47.018Z"
   },
   {
    "duration": 2663,
    "start_time": "2021-07-21T20:21:07.282Z"
   },
   {
    "duration": 2854,
    "start_time": "2021-07-21T20:23:39.597Z"
   },
   {
    "duration": 18,
    "start_time": "2021-07-21T20:29:37.390Z"
   },
   {
    "duration": 407,
    "start_time": "2021-07-21T20:30:37.237Z"
   },
   {
    "duration": 2662,
    "start_time": "2021-07-21T20:30:50.761Z"
   },
   {
    "duration": 2864,
    "start_time": "2021-07-21T20:33:12.508Z"
   },
   {
    "duration": 413,
    "start_time": "2021-07-21T20:41:10.054Z"
   },
   {
    "duration": 39,
    "start_time": "2021-07-21T20:42:35.183Z"
   },
   {
    "duration": 463,
    "start_time": "2021-07-21T20:42:43.202Z"
   },
   {
    "duration": 364,
    "start_time": "2021-07-21T20:42:50.000Z"
   },
   {
    "duration": 20,
    "start_time": "2021-07-21T21:03:13.348Z"
   },
   {
    "duration": 55,
    "start_time": "2021-07-21T21:05:08.509Z"
   },
   {
    "duration": 57,
    "start_time": "2021-07-21T21:06:19.842Z"
   },
   {
    "duration": 56,
    "start_time": "2021-07-21T21:06:25.972Z"
   },
   {
    "duration": 54,
    "start_time": "2021-07-21T21:06:57.824Z"
   },
   {
    "duration": 295,
    "start_time": "2021-07-21T21:08:31.955Z"
   },
   {
    "duration": 21,
    "start_time": "2021-07-21T21:09:33.185Z"
   },
   {
    "duration": 36,
    "start_time": "2021-07-21T21:11:31.278Z"
   },
   {
    "duration": 1295,
    "start_time": "2021-07-21T21:14:52.241Z"
   },
   {
    "duration": 8,
    "start_time": "2021-07-21T21:15:32.438Z"
   },
   {
    "duration": 8,
    "start_time": "2021-07-21T21:22:41.678Z"
   },
   {
    "duration": 230,
    "start_time": "2021-07-21T21:22:54.657Z"
   },
   {
    "duration": 49,
    "start_time": "2021-07-21T21:23:12.347Z"
   },
   {
    "duration": 2059,
    "start_time": "2021-07-21T21:37:02.107Z"
   },
   {
    "duration": 758,
    "start_time": "2021-07-21T21:37:04.169Z"
   },
   {
    "duration": 78,
    "start_time": "2021-07-21T21:37:07.887Z"
   },
   {
    "duration": 20,
    "start_time": "2021-07-21T21:37:08.333Z"
   },
   {
    "duration": 15,
    "start_time": "2021-07-21T21:37:08.653Z"
   },
   {
    "duration": 65,
    "start_time": "2021-07-21T21:37:14.725Z"
   },
   {
    "duration": 12,
    "start_time": "2021-07-21T21:37:15.036Z"
   },
   {
    "duration": 9,
    "start_time": "2021-07-21T21:37:15.821Z"
   },
   {
    "duration": 6,
    "start_time": "2021-07-21T21:37:19.433Z"
   },
   {
    "duration": 5,
    "start_time": "2021-07-21T21:37:22.952Z"
   },
   {
    "duration": 224,
    "start_time": "2021-07-21T21:37:24.007Z"
   },
   {
    "duration": 368,
    "start_time": "2021-07-21T21:37:27.206Z"
   },
   {
    "duration": 220,
    "start_time": "2021-07-21T21:37:30.311Z"
   },
   {
    "duration": 249,
    "start_time": "2021-07-21T21:37:33.715Z"
   },
   {
    "duration": 52,
    "start_time": "2021-07-21T21:37:43.665Z"
   },
   {
    "duration": 17,
    "start_time": "2021-07-21T21:37:44.170Z"
   },
   {
    "duration": 12,
    "start_time": "2021-07-21T21:37:44.658Z"
   },
   {
    "duration": 2080,
    "start_time": "2021-07-21T21:37:57.912Z"
   },
   {
    "duration": 1588,
    "start_time": "2021-07-21T21:38:04.541Z"
   },
   {
    "duration": 589,
    "start_time": "2021-07-21T21:38:07.311Z"
   },
   {
    "duration": 1997,
    "start_time": "2021-07-21T21:38:10.939Z"
   },
   {
    "duration": 919,
    "start_time": "2021-07-21T21:38:16.601Z"
   },
   {
    "duration": 803,
    "start_time": "2021-07-21T21:38:21.277Z"
   },
   {
    "duration": 335,
    "start_time": "2021-07-21T21:38:27.042Z"
   },
   {
    "duration": 4095,
    "start_time": "2021-07-21T21:38:31.511Z"
   },
   {
    "duration": 758,
    "start_time": "2021-07-21T21:38:45.907Z"
   },
   {
    "duration": 107,
    "start_time": "2021-07-21T21:38:52.338Z"
   },
   {
    "duration": 25,
    "start_time": "2021-07-21T21:38:54.634Z"
   },
   {
    "duration": 998,
    "start_time": "2021-07-21T21:38:55.288Z"
   },
   {
    "duration": 29,
    "start_time": "2021-07-21T21:39:01.526Z"
   },
   {
    "duration": 477,
    "start_time": "2021-07-21T21:39:05.163Z"
   },
   {
    "duration": 342,
    "start_time": "2021-07-21T21:39:09.775Z"
   },
   {
    "duration": 2664,
    "start_time": "2021-07-21T21:39:14.065Z"
   },
   {
    "duration": 52,
    "start_time": "2021-07-21T21:39:22.070Z"
   },
   {
    "duration": 510,
    "start_time": "2021-07-21T21:39:30.983Z"
   },
   {
    "duration": 39,
    "start_time": "2021-07-21T21:39:54.801Z"
   },
   {
    "duration": 470,
    "start_time": "2021-07-21T21:39:55.481Z"
   },
   {
    "duration": 339,
    "start_time": "2021-07-21T21:40:00.155Z"
   },
   {
    "duration": 30,
    "start_time": "2021-07-21T21:40:04.011Z"
   },
   {
    "duration": 1286,
    "start_time": "2021-07-21T21:40:37.449Z"
   },
   {
    "duration": 8,
    "start_time": "2021-07-21T21:40:48.012Z"
   },
   {
    "duration": 9,
    "start_time": "2021-07-21T21:40:51.472Z"
   },
   {
    "duration": 224,
    "start_time": "2021-07-21T21:40:52.014Z"
   },
   {
    "duration": 164,
    "start_time": "2021-07-21T21:40:52.409Z"
   },
   {
    "duration": 29035,
    "start_time": "2021-07-22T12:23:29.117Z"
   },
   {
    "duration": 579,
    "start_time": "2021-07-22T12:23:58.154Z"
   },
   {
    "duration": 64,
    "start_time": "2021-07-22T12:23:58.735Z"
   },
   {
    "duration": 15,
    "start_time": "2021-07-22T12:23:58.801Z"
   },
   {
    "duration": 14,
    "start_time": "2021-07-22T12:23:58.818Z"
   },
   {
    "duration": 62,
    "start_time": "2021-07-22T12:23:58.834Z"
   },
   {
    "duration": 8,
    "start_time": "2021-07-22T12:23:58.898Z"
   },
   {
    "duration": 18,
    "start_time": "2021-07-22T12:23:58.909Z"
   },
   {
    "duration": 5,
    "start_time": "2021-07-22T12:23:58.929Z"
   },
   {
    "duration": 10,
    "start_time": "2021-07-22T12:23:58.935Z"
   },
   {
    "duration": 194,
    "start_time": "2021-07-22T12:23:58.947Z"
   },
   {
    "duration": 527,
    "start_time": "2021-07-22T12:23:59.142Z"
   },
   {
    "duration": 231,
    "start_time": "2021-07-22T12:23:59.671Z"
   },
   {
    "duration": 31304,
    "start_time": "2021-07-22T12:29:56.272Z"
   },
   {
    "duration": 583,
    "start_time": "2021-07-22T12:30:27.578Z"
   },
   {
    "duration": 57,
    "start_time": "2021-07-22T12:30:28.163Z"
   },
   {
    "duration": 12,
    "start_time": "2021-07-22T12:30:28.222Z"
   },
   {
    "duration": 12,
    "start_time": "2021-07-22T12:30:28.236Z"
   },
   {
    "duration": 50,
    "start_time": "2021-07-22T12:30:28.249Z"
   },
   {
    "duration": 7,
    "start_time": "2021-07-22T12:30:28.300Z"
   },
   {
    "duration": 10,
    "start_time": "2021-07-22T12:30:28.309Z"
   },
   {
    "duration": 23,
    "start_time": "2021-07-22T12:30:28.321Z"
   },
   {
    "duration": 7,
    "start_time": "2021-07-22T12:30:28.345Z"
   },
   {
    "duration": 166,
    "start_time": "2021-07-22T12:30:28.353Z"
   },
   {
    "duration": 257,
    "start_time": "2021-07-22T12:30:28.520Z"
   },
   {
    "duration": 163,
    "start_time": "2021-07-22T12:30:28.778Z"
   },
   {
    "duration": 171,
    "start_time": "2021-07-22T12:30:28.942Z"
   },
   {
    "duration": 44,
    "start_time": "2021-07-22T12:30:29.114Z"
   },
   {
    "duration": 11,
    "start_time": "2021-07-22T12:30:29.160Z"
   },
   {
    "duration": 9,
    "start_time": "2021-07-22T12:30:29.173Z"
   },
   {
    "duration": 1290,
    "start_time": "2021-07-22T12:30:29.184Z"
   },
   {
    "duration": 954,
    "start_time": "2021-07-22T12:30:30.475Z"
   },
   {
    "duration": 405,
    "start_time": "2021-07-22T12:30:31.431Z"
   },
   {
    "duration": 1177,
    "start_time": "2021-07-22T12:30:31.838Z"
   },
   {
    "duration": 613,
    "start_time": "2021-07-22T12:30:33.017Z"
   },
   {
    "duration": 482,
    "start_time": "2021-07-22T12:30:33.633Z"
   },
   {
    "duration": 209,
    "start_time": "2021-07-22T12:30:34.117Z"
   },
   {
    "duration": 2595,
    "start_time": "2021-07-22T12:30:34.327Z"
   },
   {
    "duration": 467,
    "start_time": "2021-07-22T12:30:36.924Z"
   },
   {
    "duration": 82,
    "start_time": "2021-07-22T12:30:37.392Z"
   },
   {
    "duration": 16,
    "start_time": "2021-07-22T12:30:37.475Z"
   },
   {
    "duration": 603,
    "start_time": "2021-07-22T12:30:37.492Z"
   },
   {
    "duration": 20,
    "start_time": "2021-07-22T12:30:38.097Z"
   },
   {
    "duration": 285,
    "start_time": "2021-07-22T12:30:38.119Z"
   },
   {
    "duration": 201,
    "start_time": "2021-07-22T12:30:38.406Z"
   },
   {
    "duration": 1658,
    "start_time": "2021-07-22T12:30:38.609Z"
   },
   {
    "duration": 36,
    "start_time": "2021-07-22T12:30:40.268Z"
   },
   {
    "duration": 245,
    "start_time": "2021-07-22T12:30:40.305Z"
   },
   {
    "duration": 23,
    "start_time": "2021-07-22T12:30:40.552Z"
   },
   {
    "duration": 273,
    "start_time": "2021-07-22T12:30:40.576Z"
   },
   {
    "duration": 201,
    "start_time": "2021-07-22T12:30:40.850Z"
   },
   {
    "duration": 19,
    "start_time": "2021-07-22T12:30:41.053Z"
   },
   {
    "duration": 758,
    "start_time": "2021-07-22T12:30:41.073Z"
   },
   {
    "duration": 7,
    "start_time": "2021-07-22T12:30:41.833Z"
   },
   {
    "duration": 10,
    "start_time": "2021-07-22T12:30:41.842Z"
   },
   {
    "duration": 146,
    "start_time": "2021-07-22T12:30:41.854Z"
   },
   {
    "duration": 149,
    "start_time": "2021-07-22T12:30:42.002Z"
   },
   {
    "duration": 33039,
    "start_time": "2021-07-22T15:45:35.655Z"
   },
   {
    "duration": 807,
    "start_time": "2021-07-22T15:46:08.697Z"
   },
   {
    "duration": 79,
    "start_time": "2021-07-22T15:46:09.508Z"
   },
   {
    "duration": 27,
    "start_time": "2021-07-22T15:46:09.589Z"
   },
   {
    "duration": 16,
    "start_time": "2021-07-22T15:46:09.618Z"
   },
   {
    "duration": 103,
    "start_time": "2021-07-22T15:46:09.637Z"
   },
   {
    "duration": 11,
    "start_time": "2021-07-22T15:46:09.743Z"
   },
   {
    "duration": 6,
    "start_time": "2021-07-22T15:46:09.758Z"
   },
   {
    "duration": 36,
    "start_time": "2021-07-22T15:46:09.767Z"
   },
   {
    "duration": 6,
    "start_time": "2021-07-22T15:46:09.806Z"
   },
   {
    "duration": 251,
    "start_time": "2021-07-22T15:46:09.815Z"
   },
   {
    "duration": 375,
    "start_time": "2021-07-22T15:46:10.069Z"
   },
   {
    "duration": 240,
    "start_time": "2021-07-22T15:46:10.447Z"
   },
   {
    "duration": 281,
    "start_time": "2021-07-22T15:46:10.690Z"
   },
   {
    "duration": 66,
    "start_time": "2021-07-22T15:46:10.974Z"
   },
   {
    "duration": 15,
    "start_time": "2021-07-22T15:46:11.042Z"
   },
   {
    "duration": 10,
    "start_time": "2021-07-22T15:46:11.060Z"
   },
   {
    "duration": 2291,
    "start_time": "2021-07-22T15:46:11.073Z"
   },
   {
    "duration": 1605,
    "start_time": "2021-07-22T15:46:13.367Z"
   },
   {
    "duration": 618,
    "start_time": "2021-07-22T15:46:14.975Z"
   },
   {
    "duration": 1972,
    "start_time": "2021-07-22T15:46:15.601Z"
   },
   {
    "duration": 896,
    "start_time": "2021-07-22T15:46:17.575Z"
   },
   {
    "duration": 875,
    "start_time": "2021-07-22T15:46:18.476Z"
   },
   {
    "duration": 392,
    "start_time": "2021-07-22T15:46:19.354Z"
   },
   {
    "duration": 4582,
    "start_time": "2021-07-22T15:46:19.748Z"
   },
   {
    "duration": 736,
    "start_time": "2021-07-22T15:46:24.332Z"
   },
   {
    "duration": 120,
    "start_time": "2021-07-22T15:46:25.070Z"
   },
   {
    "duration": 23,
    "start_time": "2021-07-22T15:46:25.200Z"
   },
   {
    "duration": 1005,
    "start_time": "2021-07-22T15:46:25.225Z"
   },
   {
    "duration": 29,
    "start_time": "2021-07-22T15:46:26.233Z"
   },
   {
    "duration": 526,
    "start_time": "2021-07-22T15:46:26.265Z"
   },
   {
    "duration": 370,
    "start_time": "2021-07-22T15:46:26.800Z"
   },
   {
    "duration": 2899,
    "start_time": "2021-07-22T15:46:27.173Z"
   },
   {
    "duration": 71,
    "start_time": "2021-07-22T15:46:30.075Z"
   },
   {
    "duration": 452,
    "start_time": "2021-07-22T15:46:30.148Z"
   },
   {
    "duration": 39,
    "start_time": "2021-07-22T15:46:30.603Z"
   },
   {
    "duration": 509,
    "start_time": "2021-07-22T15:46:30.645Z"
   },
   {
    "duration": 378,
    "start_time": "2021-07-22T15:46:31.157Z"
   },
   {
    "duration": 34,
    "start_time": "2021-07-22T15:46:31.537Z"
   },
   {
    "duration": 1318,
    "start_time": "2021-07-22T15:46:31.573Z"
   },
   {
    "duration": 7,
    "start_time": "2021-07-22T15:46:32.901Z"
   },
   {
    "duration": 10,
    "start_time": "2021-07-22T15:46:32.911Z"
   },
   {
    "duration": 261,
    "start_time": "2021-07-22T15:46:32.923Z"
   },
   {
    "duration": 176,
    "start_time": "2021-07-22T15:46:33.186Z"
   },
   {
    "duration": 32056,
    "start_time": "2021-07-22T20:48:07.964Z"
   },
   {
    "duration": 794,
    "start_time": "2021-07-22T20:48:40.023Z"
   },
   {
    "duration": 93,
    "start_time": "2021-07-22T20:48:40.821Z"
   },
   {
    "duration": 17,
    "start_time": "2021-07-22T20:48:40.917Z"
   },
   {
    "duration": 14,
    "start_time": "2021-07-22T20:48:40.936Z"
   },
   {
    "duration": 79,
    "start_time": "2021-07-22T20:48:40.952Z"
   },
   {
    "duration": 13,
    "start_time": "2021-07-22T20:48:41.033Z"
   },
   {
    "duration": 10,
    "start_time": "2021-07-22T20:48:41.051Z"
   },
   {
    "duration": 19,
    "start_time": "2021-07-22T20:48:41.064Z"
   },
   {
    "duration": 10,
    "start_time": "2021-07-22T20:48:41.085Z"
   },
   {
    "duration": 358,
    "start_time": "2021-07-22T20:48:41.097Z"
   },
   {
    "duration": 561,
    "start_time": "2021-07-22T20:48:41.457Z"
   },
   {
    "duration": 254,
    "start_time": "2021-07-22T20:48:42.022Z"
   },
   {
    "duration": 329,
    "start_time": "2021-07-22T20:48:42.278Z"
   },
   {
    "duration": 56,
    "start_time": "2021-07-22T20:48:42.609Z"
   },
   {
    "duration": 29,
    "start_time": "2021-07-22T20:48:42.668Z"
   },
   {
    "duration": 11,
    "start_time": "2021-07-22T20:48:42.699Z"
   },
   {
    "duration": 2215,
    "start_time": "2021-07-22T20:48:42.712Z"
   },
   {
    "duration": 1692,
    "start_time": "2021-07-22T20:48:44.930Z"
   },
   {
    "duration": 659,
    "start_time": "2021-07-22T20:48:46.624Z"
   },
   {
    "duration": 1934,
    "start_time": "2021-07-22T20:48:47.286Z"
   },
   {
    "duration": 901,
    "start_time": "2021-07-22T20:48:49.223Z"
   },
   {
    "duration": 828,
    "start_time": "2021-07-22T20:48:50.130Z"
   },
   {
    "duration": 336,
    "start_time": "2021-07-22T20:48:50.961Z"
   },
   {
    "duration": 4287,
    "start_time": "2021-07-22T20:48:51.300Z"
   },
   {
    "duration": 755,
    "start_time": "2021-07-22T20:48:55.590Z"
   },
   {
    "duration": 134,
    "start_time": "2021-07-22T20:48:56.348Z"
   },
   {
    "duration": 25,
    "start_time": "2021-07-22T20:48:56.486Z"
   },
   {
    "duration": 1039,
    "start_time": "2021-07-22T20:48:56.514Z"
   },
   {
    "duration": 48,
    "start_time": "2021-07-22T20:48:57.556Z"
   },
   {
    "duration": 522,
    "start_time": "2021-07-22T20:48:57.607Z"
   },
   {
    "duration": 370,
    "start_time": "2021-07-22T20:48:58.133Z"
   },
   {
    "duration": 2780,
    "start_time": "2021-07-22T20:48:58.506Z"
   },
   {
    "duration": 58,
    "start_time": "2021-07-22T20:49:01.288Z"
   },
   {
    "duration": 473,
    "start_time": "2021-07-22T20:49:01.348Z"
   },
   {
    "duration": 37,
    "start_time": "2021-07-22T20:49:01.823Z"
   },
   {
    "duration": 468,
    "start_time": "2021-07-22T20:49:01.883Z"
   },
   {
    "duration": 353,
    "start_time": "2021-07-22T20:49:02.354Z"
   },
   {
    "duration": 34,
    "start_time": "2021-07-22T20:49:02.710Z"
   },
   {
    "duration": 1294,
    "start_time": "2021-07-22T20:49:02.747Z"
   },
   {
    "duration": 8,
    "start_time": "2021-07-22T20:49:04.043Z"
   },
   {
    "duration": 31,
    "start_time": "2021-07-22T20:49:04.053Z"
   },
   {
    "duration": 229,
    "start_time": "2021-07-22T20:49:04.086Z"
   },
   {
    "duration": 183,
    "start_time": "2021-07-22T20:49:04.318Z"
   },
   {
    "duration": 2098,
    "start_time": "2021-11-02T21:05:56.126Z"
   },
   {
    "duration": 800,
    "start_time": "2021-11-02T21:05:58.227Z"
   },
   {
    "duration": 78,
    "start_time": "2021-11-02T21:05:59.030Z"
   },
   {
    "duration": 35,
    "start_time": "2021-11-02T21:05:59.110Z"
   },
   {
    "duration": 22,
    "start_time": "2021-11-02T21:05:59.147Z"
   },
   {
    "duration": 79,
    "start_time": "2021-11-02T21:05:59.171Z"
   },
   {
    "duration": 20,
    "start_time": "2021-11-02T21:05:59.253Z"
   },
   {
    "duration": 15,
    "start_time": "2021-11-02T21:05:59.276Z"
   },
   {
    "duration": 25,
    "start_time": "2021-11-02T21:05:59.297Z"
   },
   {
    "duration": 17,
    "start_time": "2021-11-02T21:05:59.326Z"
   },
   {
    "duration": 257,
    "start_time": "2021-11-02T21:05:59.346Z"
   },
   {
    "duration": 383,
    "start_time": "2021-11-02T21:05:59.606Z"
   },
   {
    "duration": 273,
    "start_time": "2021-11-02T21:05:59.992Z"
   },
   {
    "duration": 330,
    "start_time": "2021-11-02T21:06:00.267Z"
   },
   {
    "duration": 75,
    "start_time": "2021-11-02T21:06:00.600Z"
   },
   {
    "duration": 19,
    "start_time": "2021-11-02T21:06:00.678Z"
   },
   {
    "duration": 36,
    "start_time": "2021-11-02T21:06:00.700Z"
   },
   {
    "duration": 2247,
    "start_time": "2021-11-02T21:06:00.738Z"
   },
   {
    "duration": 1699,
    "start_time": "2021-11-02T21:06:02.989Z"
   },
   {
    "duration": 632,
    "start_time": "2021-11-02T21:06:04.691Z"
   },
   {
    "duration": 1973,
    "start_time": "2021-11-02T21:06:05.330Z"
   },
   {
    "duration": 986,
    "start_time": "2021-11-02T21:06:07.305Z"
   },
   {
    "duration": 876,
    "start_time": "2021-11-02T21:06:08.294Z"
   },
   {
    "duration": 340,
    "start_time": "2021-11-02T21:06:09.174Z"
   },
   {
    "duration": 4337,
    "start_time": "2021-11-02T21:06:09.518Z"
   },
   {
    "duration": 749,
    "start_time": "2021-11-02T21:06:13.858Z"
   },
   {
    "duration": 136,
    "start_time": "2021-11-02T21:06:14.614Z"
   },
   {
    "duration": 24,
    "start_time": "2021-11-02T21:06:14.754Z"
   },
   {
    "duration": 1061,
    "start_time": "2021-11-02T21:06:14.781Z"
   },
   {
    "duration": 32,
    "start_time": "2021-11-02T21:06:15.844Z"
   },
   {
    "duration": 549,
    "start_time": "2021-11-02T21:06:15.880Z"
   },
   {
    "duration": 376,
    "start_time": "2021-11-02T21:06:16.431Z"
   },
   {
    "duration": 2770,
    "start_time": "2021-11-02T21:06:16.810Z"
   },
   {
    "duration": 79,
    "start_time": "2021-11-02T21:06:19.583Z"
   },
   {
    "duration": 437,
    "start_time": "2021-11-02T21:06:19.665Z"
   },
   {
    "duration": 54,
    "start_time": "2021-11-02T21:06:20.104Z"
   },
   {
    "duration": 490,
    "start_time": "2021-11-02T21:06:20.160Z"
   },
   {
    "duration": 366,
    "start_time": "2021-11-02T21:06:20.653Z"
   },
   {
    "duration": 36,
    "start_time": "2021-11-02T21:06:21.022Z"
   },
   {
    "duration": 1449,
    "start_time": "2021-11-02T21:06:21.060Z"
   },
   {
    "duration": 7,
    "start_time": "2021-11-02T21:06:22.512Z"
   },
   {
    "duration": 13,
    "start_time": "2021-11-02T21:06:22.521Z"
   },
   {
    "duration": 258,
    "start_time": "2021-11-02T21:06:22.537Z"
   },
   {
    "duration": 175,
    "start_time": "2021-11-02T21:06:22.797Z"
   },
   {
    "duration": 2075,
    "start_time": "2021-11-02T21:14:34.050Z"
   },
   {
    "duration": 830,
    "start_time": "2021-11-02T21:14:36.128Z"
   },
   {
    "duration": 79,
    "start_time": "2021-11-02T21:14:36.961Z"
   },
   {
    "duration": 18,
    "start_time": "2021-11-02T21:14:37.043Z"
   },
   {
    "duration": 16,
    "start_time": "2021-11-02T21:14:37.064Z"
   },
   {
    "duration": 105,
    "start_time": "2021-11-02T21:14:37.083Z"
   },
   {
    "duration": 12,
    "start_time": "2021-11-02T21:14:37.190Z"
   },
   {
    "duration": 27,
    "start_time": "2021-11-02T21:14:37.206Z"
   },
   {
    "duration": 13,
    "start_time": "2021-11-02T21:14:37.237Z"
   },
   {
    "duration": 18,
    "start_time": "2021-11-02T21:14:37.252Z"
   },
   {
    "duration": 263,
    "start_time": "2021-11-02T21:14:37.273Z"
   },
   {
    "duration": 390,
    "start_time": "2021-11-02T21:14:37.539Z"
   },
   {
    "duration": 266,
    "start_time": "2021-11-02T21:14:37.932Z"
   },
   {
    "duration": 335,
    "start_time": "2021-11-02T21:14:38.201Z"
   },
   {
    "duration": 58,
    "start_time": "2021-11-02T21:14:38.539Z"
   },
   {
    "duration": 38,
    "start_time": "2021-11-02T21:14:38.600Z"
   },
   {
    "duration": 11,
    "start_time": "2021-11-02T21:14:38.640Z"
   },
   {
    "duration": 2252,
    "start_time": "2021-11-02T21:14:38.654Z"
   },
   {
    "duration": 1564,
    "start_time": "2021-11-02T21:14:40.909Z"
   },
   {
    "duration": 657,
    "start_time": "2021-11-02T21:14:42.475Z"
   },
   {
    "duration": 2333,
    "start_time": "2021-11-02T21:14:43.134Z"
   },
   {
    "duration": 949,
    "start_time": "2021-11-02T21:14:45.469Z"
   },
   {
    "duration": 823,
    "start_time": "2021-11-02T21:14:46.428Z"
   },
   {
    "duration": 344,
    "start_time": "2021-11-02T21:14:47.254Z"
   },
   {
    "duration": 4373,
    "start_time": "2021-11-02T21:14:47.601Z"
   },
   {
    "duration": 837,
    "start_time": "2021-11-02T21:14:51.976Z"
   },
   {
    "duration": 134,
    "start_time": "2021-11-02T21:14:52.816Z"
   },
   {
    "duration": 23,
    "start_time": "2021-11-02T21:14:52.952Z"
   },
   {
    "duration": 1052,
    "start_time": "2021-11-02T21:14:52.978Z"
   },
   {
    "duration": 29,
    "start_time": "2021-11-02T21:14:54.032Z"
   },
   {
    "duration": 495,
    "start_time": "2021-11-02T21:14:54.063Z"
   },
   {
    "duration": 366,
    "start_time": "2021-11-02T21:14:54.561Z"
   },
   {
    "duration": 2801,
    "start_time": "2021-11-02T21:14:54.930Z"
   },
   {
    "duration": 58,
    "start_time": "2021-11-02T21:14:57.734Z"
   },
   {
    "duration": 549,
    "start_time": "2021-11-02T21:14:57.794Z"
   },
   {
    "duration": 39,
    "start_time": "2021-11-02T21:14:58.345Z"
   },
   {
    "duration": 490,
    "start_time": "2021-11-02T21:14:58.387Z"
   },
   {
    "duration": 359,
    "start_time": "2021-11-02T21:14:58.880Z"
   },
   {
    "duration": 32,
    "start_time": "2021-11-02T21:14:59.242Z"
   },
   {
    "duration": 1436,
    "start_time": "2021-11-02T21:14:59.277Z"
   },
   {
    "duration": 14,
    "start_time": "2021-11-02T21:15:00.716Z"
   },
   {
    "duration": 13,
    "start_time": "2021-11-02T21:15:00.732Z"
   },
   {
    "duration": 280,
    "start_time": "2021-11-02T21:15:00.747Z"
   },
   {
    "duration": 50,
    "start_time": "2021-11-02T21:15:01.030Z"
   },
   {
    "duration": 2216,
    "start_time": "2021-11-02T21:24:20.453Z"
   },
   {
    "duration": 1016,
    "start_time": "2021-11-02T21:24:22.671Z"
   },
   {
    "duration": 76,
    "start_time": "2021-11-02T21:24:23.690Z"
   },
   {
    "duration": 20,
    "start_time": "2021-11-02T21:24:23.770Z"
   },
   {
    "duration": 50,
    "start_time": "2021-11-02T21:24:23.793Z"
   },
   {
    "duration": 85,
    "start_time": "2021-11-02T21:24:23.846Z"
   },
   {
    "duration": 12,
    "start_time": "2021-11-02T21:24:23.934Z"
   },
   {
    "duration": 7,
    "start_time": "2021-11-02T21:24:23.952Z"
   },
   {
    "duration": 5,
    "start_time": "2021-11-02T21:24:23.963Z"
   },
   {
    "duration": 7,
    "start_time": "2021-11-02T21:24:23.971Z"
   },
   {
    "duration": 384,
    "start_time": "2021-11-02T21:24:23.981Z"
   },
   {
    "duration": 482,
    "start_time": "2021-11-02T21:24:24.367Z"
   },
   {
    "duration": 256,
    "start_time": "2021-11-02T21:24:24.852Z"
   },
   {
    "duration": 292,
    "start_time": "2021-11-02T21:24:25.111Z"
   },
   {
    "duration": 60,
    "start_time": "2021-11-02T21:24:25.405Z"
   },
   {
    "duration": 15,
    "start_time": "2021-11-02T21:24:25.468Z"
   },
   {
    "duration": 12,
    "start_time": "2021-11-02T21:24:25.485Z"
   },
   {
    "duration": 2213,
    "start_time": "2021-11-02T21:24:25.500Z"
   },
   {
    "duration": 1648,
    "start_time": "2021-11-02T21:24:27.716Z"
   },
   {
    "duration": 636,
    "start_time": "2021-11-02T21:24:29.367Z"
   },
   {
    "duration": 2079,
    "start_time": "2021-11-02T21:24:30.006Z"
   },
   {
    "duration": 1018,
    "start_time": "2021-11-02T21:24:32.088Z"
   },
   {
    "duration": 855,
    "start_time": "2021-11-02T21:24:33.111Z"
   },
   {
    "duration": 343,
    "start_time": "2021-11-02T21:24:33.970Z"
   },
   {
    "duration": 4280,
    "start_time": "2021-11-02T21:24:34.316Z"
   },
   {
    "duration": 730,
    "start_time": "2021-11-02T21:24:38.599Z"
   },
   {
    "duration": 133,
    "start_time": "2021-11-02T21:24:39.331Z"
   },
   {
    "duration": 25,
    "start_time": "2021-11-02T21:24:39.467Z"
   },
   {
    "duration": 1035,
    "start_time": "2021-11-02T21:24:39.495Z"
   },
   {
    "duration": 30,
    "start_time": "2021-11-02T21:24:40.532Z"
   },
   {
    "duration": 504,
    "start_time": "2021-11-02T21:24:40.564Z"
   },
   {
    "duration": 370,
    "start_time": "2021-11-02T21:24:41.070Z"
   },
   {
    "duration": 2769,
    "start_time": "2021-11-02T21:24:41.443Z"
   },
   {
    "duration": 63,
    "start_time": "2021-11-02T21:24:44.214Z"
   },
   {
    "duration": 440,
    "start_time": "2021-11-02T21:24:44.279Z"
   },
   {
    "duration": 43,
    "start_time": "2021-11-02T21:24:44.721Z"
   },
   {
    "duration": 483,
    "start_time": "2021-11-02T21:24:44.766Z"
   },
   {
    "duration": 372,
    "start_time": "2021-11-02T21:24:45.251Z"
   },
   {
    "duration": 34,
    "start_time": "2021-11-02T21:24:45.630Z"
   },
   {
    "duration": 1333,
    "start_time": "2021-11-02T21:24:45.667Z"
   },
   {
    "duration": 7,
    "start_time": "2021-11-02T21:24:47.003Z"
   },
   {
    "duration": 23,
    "start_time": "2021-11-02T21:24:47.013Z"
   },
   {
    "duration": 278,
    "start_time": "2021-11-02T21:24:47.039Z"
   },
   {
    "duration": 180,
    "start_time": "2021-11-02T21:24:47.320Z"
   }
  ],
  "kernelspec": {
   "display_name": "Python 3",
   "language": "python",
   "name": "python3"
  },
  "language_info": {
   "codemirror_mode": {
    "name": "ipython",
    "version": 3
   },
   "file_extension": ".py",
   "mimetype": "text/x-python",
   "name": "python",
   "nbconvert_exporter": "python",
   "pygments_lexer": "ipython3",
   "version": "3.7.8"
  },
  "toc": {
   "base_numbering": 1,
   "nav_menu": {},
   "number_sections": true,
   "sideBar": true,
   "skip_h1_title": true,
   "title_cell": "Table of Contents",
   "title_sidebar": "Contents",
   "toc_cell": false,
   "toc_position": {},
   "toc_section_display": true,
   "toc_window_display": false
  }
 },
 "nbformat": 4,
 "nbformat_minor": 2
}
